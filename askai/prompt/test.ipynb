{
 "cells": [
  {
   "cell_type": "code",
   "execution_count": 1,
   "metadata": {},
   "outputs": [],
   "source": [
    "%reload_ext autoreload\n",
    "%autoreload 2"
   ]
  },
  {
   "attachments": {},
   "cell_type": "markdown",
   "metadata": {},
   "source": [
    "# Explain"
   ]
  },
  {
   "cell_type": "code",
   "execution_count": 2,
   "metadata": {},
   "outputs": [],
   "source": [
    "from askai.explain import explain"
   ]
  },
  {
   "cell_type": "code",
   "execution_count": 3,
   "metadata": {},
   "outputs": [],
   "source": [
    "from IPython.display import Markdown\n",
    "\n",
    "def render_md(x):\n",
    "    # if x.split('\\n')[-1].strip() == '```':\n",
    "    #     x = x.split('\\n')[:-1]\n",
    "    #     x.append('\\```')\n",
    "    #     x = '\\n'.join(x)\n",
    "\n",
    "    return Markdown('```\\n' + x + '\\n```')"
   ]
  },
  {
   "cell_type": "code",
   "execution_count": 4,
   "metadata": {},
   "outputs": [
    {
     "data": {
      "text/plain": [
       "array([[0., 0., 0., 0., 0., 0., 0., 0., 0., 0.],\n",
       "       [0., 0., 0., 0., 0., 0., 0., 0., 0., 0.],\n",
       "       [0., 0., 0., 0., 0., 0., 0., 0., 0., 0.],\n",
       "       [0., 0., 0., 0., 0., 0., 0., 0., 0., 0.],\n",
       "       [0., 0., 0., 0., 0., 0., 0., 0., 0., 0.],\n",
       "       [0., 0., 0., 0., 0., 0., 0., 0., 0., 0.],\n",
       "       [0., 0., 0., 0., 0., 0., 0., 0., 0., 0.],\n",
       "       [0., 0., 0., 0., 0., 0., 0., 0., 0., 0.],\n",
       "       [0., 0., 0., 0., 0., 0., 0., 0., 0., 0.],\n",
       "       [0., 0., 0., 0., 0., 0., 0., 0., 0., 0.]])"
      ]
     },
     "execution_count": 4,
     "metadata": {},
     "output_type": "execute_result"
    }
   ],
   "source": [
    "import numpy as np\n",
    "\n",
    "x = np.zeros((10, 10))\n",
    "x"
   ]
  },
  {
   "cell_type": "code",
   "execution_count": 5,
   "metadata": {},
   "outputs": [
    {
     "data": {
      "text/html": [
       "<div>\n",
       "<style scoped>\n",
       "    .dataframe tbody tr th:only-of-type {\n",
       "        vertical-align: middle;\n",
       "    }\n",
       "\n",
       "    .dataframe tbody tr th {\n",
       "        vertical-align: top;\n",
       "    }\n",
       "\n",
       "    .dataframe thead th {\n",
       "        text-align: right;\n",
       "    }\n",
       "</style>\n",
       "<table border=\"1\" class=\"dataframe\">\n",
       "  <thead>\n",
       "    <tr style=\"text-align: right;\">\n",
       "      <th></th>\n",
       "      <th>a</th>\n",
       "      <th>b</th>\n",
       "    </tr>\n",
       "  </thead>\n",
       "  <tbody>\n",
       "    <tr>\n",
       "      <th>0</th>\n",
       "      <td>1</td>\n",
       "      <td>4</td>\n",
       "    </tr>\n",
       "    <tr>\n",
       "      <th>1</th>\n",
       "      <td>2</td>\n",
       "      <td>5</td>\n",
       "    </tr>\n",
       "    <tr>\n",
       "      <th>2</th>\n",
       "      <td>3</td>\n",
       "      <td>6</td>\n",
       "    </tr>\n",
       "  </tbody>\n",
       "</table>\n",
       "</div>"
      ],
      "text/plain": [
       "   a  b\n",
       "0  1  4\n",
       "1  2  5\n",
       "2  3  6"
      ]
     },
     "execution_count": 5,
     "metadata": {},
     "output_type": "execute_result"
    }
   ],
   "source": [
    "import pandas as pd\n",
    "\n",
    "df = pd.DataFrame({'a': [1, 2, 3], 'b': [4, 5, 6]})\n",
    "df"
   ]
  },
  {
   "cell_type": "code",
   "execution_count": 6,
   "metadata": {},
   "outputs": [
    {
     "data": {
      "text/markdown": [
       "```\n",
       "object of type builtins.function\n",
       "```"
      ],
      "text/plain": [
       "<IPython.core.display.Markdown object>"
      ]
     },
     "execution_count": 6,
     "metadata": {},
     "output_type": "execute_result"
    }
   ],
   "source": [
    "render_md(explain(lambda x: x + 1))"
   ]
  },
  {
   "cell_type": "code",
   "execution_count": 7,
   "metadata": {},
   "outputs": [
    {
     "data": {
      "text/markdown": [
       "```\n",
       "object of type numpy.ndarray\n",
       "array of shape (10, 10) with dtype float64\n",
       "```"
      ],
      "text/plain": [
       "<IPython.core.display.Markdown object>"
      ]
     },
     "execution_count": 7,
     "metadata": {},
     "output_type": "execute_result"
    }
   ],
   "source": [
    "render_md(explain(x))"
   ]
  },
  {
   "cell_type": "code",
   "execution_count": 8,
   "metadata": {},
   "outputs": [
    {
     "data": {
      "text/markdown": [
       "```\n",
       "object of type pandas.core.frame.DataFrame\n",
       "RangeIndex: 3 entries, 0 to 2\n",
       "Data columns (total 2 columns):\n",
       " #   Column  Non-Null Count  Dtype\n",
       "---  ------  --------------  -----\n",
       " 0   a       3 non-null      int64\n",
       " 1   b       3 non-null      int64\n",
       "dtypes: int64(2)\n",
       "memory usage: 176.0 bytes\n",
       "```"
      ],
      "text/plain": [
       "<IPython.core.display.Markdown object>"
      ]
     },
     "execution_count": 8,
     "metadata": {},
     "output_type": "execute_result"
    }
   ],
   "source": [
    "render_md(explain(df))"
   ]
  },
  {
   "attachments": {},
   "cell_type": "markdown",
   "metadata": {},
   "source": [
    "# Examples"
   ]
  },
  {
   "cell_type": "code",
   "execution_count": 43,
   "metadata": {},
   "outputs": [
    {
     "data": {
      "text/markdown": [
       "```\n",
       "import numpy as np\n",
       "result = np\n",
       "```"
      ],
      "text/plain": [
       "<IPython.core.display.Markdown object>"
      ]
     },
     "execution_count": 43,
     "metadata": {},
     "output_type": "execute_result"
    }
   ],
   "source": [
    "import inspect\n",
    "\n",
    "def work_f():\n",
    "    import numpy as np\n",
    "    result = np\n",
    "    return result\n",
    "\n",
    "def inside_code(f):\n",
    "    code = inspect.getsource(f).strip()\n",
    "    code_lines = [l[4:] for l in code.split('\\n')[1:-1]]\n",
    "    in_code = '\\n'.join(code_lines).strip()\n",
    "    return in_code\n",
    "\n",
    "render_md(inside_code(work_f))"
   ]
  },
  {
   "cell_type": "code",
   "execution_count": 44,
   "metadata": {},
   "outputs": [],
   "source": [
    "def work():\n",
    "    import pandas as pd\n",
    "    result = pd\n",
    "    return result\n",
    "\n",
    "package_example = {\n",
    "    'task': 'that package for dataframes manipulation and stuff',\n",
    "    'args': {},\n",
    "    'code_f': work,\n",
    "    'validate': True,\n",
    "    'result': pd,\n",
    "}"
   ]
  },
  {
   "cell_type": "code",
   "execution_count": 45,
   "metadata": {},
   "outputs": [],
   "source": [
    "def work():\n",
    "    result = 60 * 60 * 24 * 365 * 10\n",
    "    return result\n",
    "\n",
    "constant_example = {\n",
    "    'task': 'number of seconds in 10 years',\n",
    "    'args': {},\n",
    "    'code_f': work,\n",
    "    'validate': True,\n",
    "    'result': 315_360_000,\n",
    "}"
   ]
  },
  {
   "cell_type": "code",
   "execution_count": 46,
   "metadata": {},
   "outputs": [],
   "source": [
    "def work_xy(x, y):\n",
    "    result = x + y\n",
    "    return result\n",
    "\n",
    "def work_x(x):\n",
    "    def sum(y):\n",
    "        return x + y\n",
    "    result = sum\n",
    "    return result\n",
    "\n",
    "def work_y(y):\n",
    "    def sum(x):\n",
    "        return x + y\n",
    "    result = sum\n",
    "    return result\n",
    "\n",
    "def work():\n",
    "    def sum(x, y):\n",
    "        return x + y\n",
    "    result = sum\n",
    "    return result\n",
    "\n",
    "args_examples = [\n",
    "    {\n",
    "        'task': 'sum of two numbers x and y',\n",
    "        'args': {'x': 1, 'y': 2},\n",
    "        'code_f': work_xy,\n",
    "        'validate': True,\n",
    "        'result': 3,\n",
    "    },\n",
    "    {\n",
    "        'task': 'sum of two numbers x and y',\n",
    "        'args': {'x': 1},\n",
    "        'code_f': work_x,\n",
    "        'validate': False,\n",
    "    },\n",
    "    {\n",
    "        'task': 'sum of two numbers x and y',\n",
    "        'args': {'y': 2},\n",
    "        'code_f': work_y,\n",
    "        'validate': False,\n",
    "    },\n",
    "    {\n",
    "        'task': 'sum of two numbers x and y',\n",
    "        'args': {},\n",
    "        'code_f': work,\n",
    "        'validate': False,\n",
    "    }\n",
    "]"
   ]
  },
  {
   "cell_type": "code",
   "execution_count": 47,
   "metadata": {},
   "outputs": [],
   "source": [
    "def work_arg(filename):\n",
    "    # filename is an passed arg so we use it\n",
    "    with open(f'{filename}.txt') as f:\n",
    "        content = f.read()\n",
    "    result = content\n",
    "    return result\n",
    "\n",
    "def work_noarg():\n",
    "    # filename isn't passed as arg but rather hardcoded\n",
    "    with open(f'filename.txt') as f:\n",
    "        content = f.read()\n",
    "    result = content\n",
    "    return result\n",
    "\n",
    "files_examples = [\n",
    "    {\n",
    "        'task': 'read file filename.txt',\n",
    "        'args': {'filename': 'pupupu'},\n",
    "        'code_f': work_arg,\n",
    "        'validate': True,\n",
    "        'result': 'content',\n",
    "    },\n",
    "    {\n",
    "        'task': 'read file filename.txt',\n",
    "        'args': {},\n",
    "        'code_f': work_noarg,\n",
    "        'validate': True,\n",
    "        'result': 'zzz',\n",
    "    },\n",
    "]"
   ]
  },
  {
   "cell_type": "code",
   "execution_count": 48,
   "metadata": {},
   "outputs": [],
   "source": [
    "def work(a):\n",
    "    import numpy as np\n",
    "    import matplotlib.pyplot as plt\n",
    "\n",
    "    # color isn't provided but mentioned so we made a func\n",
    "    def plot_line(color):\n",
    "        # generate x and y values\n",
    "        # a is provided so we just reference it directly\n",
    "        n = a.shape[0]\n",
    "        x = np.linspace(0, n - 1, num=n)\n",
    "        y = a\n",
    "\n",
    "        # create a line plot using the specified color\n",
    "        fig = plt.figure()\n",
    "        plt.plot(x, y, color=color)\n",
    "\n",
    "        # add known labels and title to the plot\n",
    "        plt.ylabel('a')\n",
    "        plt.title(f'line plot of a with {color} color')\n",
    "\n",
    "        # user don't intend to observe outside effect\n",
    "        plt.close(fig)\n",
    "\n",
    "        return fig\n",
    "\n",
    "    result = plot_line\n",
    "    return result\n",
    "\n",
    "plot_example = {\n",
    "    'task': 'make line plot of `a` with specified color',\n",
    "    'args': {'a': np.random.rand(10)},\n",
    "    'code_f': work,\n",
    "    'validate': False,\n",
    "}"
   ]
  },
  {
   "cell_type": "code",
   "execution_count": 49,
   "metadata": {},
   "outputs": [],
   "source": [
    "FEW_SHOT_EXAMPLES = [\n",
    "    package_example,\n",
    "    constant_example,\n",
    "    *args_examples,\n",
    "    *files_examples,\n",
    "    plot_example,\n",
    "]\n",
    "\n",
    "for example in FEW_SHOT_EXAMPLES:\n",
    "    result = example['code_f'](**example['args'])\n",
    "    if example['validate']:\n",
    "        assert result == example['result']"
   ]
  },
  {
   "cell_type": "code",
   "execution_count": 50,
   "metadata": {},
   "outputs": [],
   "source": [
    "# from askai.prompt.prompt import make_example_prompt\n",
    "\n",
    "\n",
    "# examples_lines = []\n",
    "# for example in FEW_SHOT_EXAMPLES:\n",
    "#     if len(examples_lines) > 0:\n",
    "#         examples_lines.append('')\n",
    "    \n",
    "#     # multiple newlines inside\n",
    "#     examples_lines.append(make_example_prompt(example['task'], **example['args']))\n",
    "\n",
    "#     examples_lines.append('CODE:\\n```python\\n{}\\n```'.format(inside_code(example['code_f'])))\n",
    "\n",
    "\n",
    "# for line in examples_lines:\n",
    "#     print(line)"
   ]
  },
  {
   "cell_type": "code",
   "execution_count": 51,
   "metadata": {},
   "outputs": [],
   "source": [
    "# with open('examples.txt', 'w') as f:\n",
    "#     f.write('\\n'.join(examples_lines))"
   ]
  },
  {
   "cell_type": "code",
   "execution_count": 52,
   "metadata": {},
   "outputs": [
    {
     "data": {
      "text/plain": [
       "[{'query': 'TASK: \"\"\"\\nthat package for dataframes manipulation and stuff\\n\"\"\"\\nARGS: ',\n",
       "  'response': '```python\\nimport pandas as pd\\nresult = pd\\n```'},\n",
       " {'query': 'TASK: \"\"\"\\nnumber of seconds in 10 years\\n\"\"\"\\nARGS: ',\n",
       "  'response': '```python\\nresult = 60 * 60 * 24 * 365 * 10\\n```'},\n",
       " {'query': 'TASK: \"\"\"\\nsum of two numbers x and y\\n\"\"\"\\nARGS: x, y\\n- x: \"\"\"\\nobject of type builtins.int\\n\"\"\"\\n- y: \"\"\"\\nobject of type builtins.int\\n\"\"\"',\n",
       "  'response': '```python\\nresult = x + y\\n```'},\n",
       " {'query': 'TASK: \"\"\"\\nsum of two numbers x and y\\n\"\"\"\\nARGS: x\\n- x: \"\"\"\\nobject of type builtins.int\\n\"\"\"',\n",
       "  'response': '```python\\ndef sum(y):\\n    return x + y\\nresult = sum\\n```'},\n",
       " {'query': 'TASK: \"\"\"\\nsum of two numbers x and y\\n\"\"\"\\nARGS: y\\n- y: \"\"\"\\nobject of type builtins.int\\n\"\"\"',\n",
       "  'response': '```python\\ndef sum(x):\\n    return x + y\\nresult = sum\\n```'},\n",
       " {'query': 'TASK: \"\"\"\\nsum of two numbers x and y\\n\"\"\"\\nARGS: ',\n",
       "  'response': '```python\\ndef sum(x, y):\\n    return x + y\\nresult = sum\\n```'},\n",
       " {'query': 'TASK: \"\"\"\\nread file filename.txt\\n\"\"\"\\nARGS: filename\\n- filename: \"\"\"\\nobject of type builtins.str\\n\"\"\"',\n",
       "  'response': \"```python\\n# filename is an passed arg so we use it\\nwith open(f'{filename}.txt') as f:\\n    content = f.read()\\nresult = content\\n```\"},\n",
       " {'query': 'TASK: \"\"\"\\nread file filename.txt\\n\"\"\"\\nARGS: ',\n",
       "  'response': \"```python\\n# filename isn't passed as arg but rather hardcoded\\nwith open(f'filename.txt') as f:\\n    content = f.read()\\nresult = content\\n```\"},\n",
       " {'query': 'TASK: \"\"\"\\nmake line plot of `a` with specified color\\n\"\"\"\\nARGS: a\\n- a: \"\"\"\\nobject of type numpy.ndarray\\narray of shape (10,) with dtype float64\\n\"\"\"',\n",
       "  'response': \"```python\\nimport numpy as np\\nimport matplotlib.pyplot as plt\\n\\n# color isn't provided but mentioned so we made a func\\ndef plot_line(color):\\n    # generate x and y values\\n    # a is provided so we just reference it directly\\n    n = a.shape[0]\\n    x = np.linspace(0, n - 1, num=n)\\n    y = a\\n\\n    # create a line plot using the specified color\\n    fig = plt.figure()\\n    plt.plot(x, y, color=color)\\n\\n    # add known labels and title to the plot\\n    plt.ylabel('a')\\n    plt.title(f'line plot of a with {color} color')\\n\\n    # user don't intend to observe outside effect\\n    plt.close(fig)\\n\\n    return fig\\n\\nresult = plot_line\\n```\"}]"
      ]
     },
     "execution_count": 52,
     "metadata": {},
     "output_type": "execute_result"
    }
   ],
   "source": [
    "from askai.prompt.prompt import make_query\n",
    "\n",
    "messages = []\n",
    "for example in FEW_SHOT_EXAMPLES:\n",
    "    query = make_query(example['task'], **example['args'])\n",
    "    response = '```python\\n{}\\n```'.format(inside_code(example['code_f']))\n",
    "    messages.append({'query': query, 'response': response})\n",
    "\n",
    "messages"
   ]
  },
  {
   "cell_type": "code",
   "execution_count": 53,
   "metadata": {},
   "outputs": [],
   "source": [
    "import json\n",
    "\n",
    "with open('examples.json', 'w') as f:\n",
    "    json.dump(messages, f)"
   ]
  }
 ],
 "metadata": {
  "kernelspec": {
   "display_name": "askai",
   "language": "python",
   "name": "python3"
  },
  "language_info": {
   "codemirror_mode": {
    "name": "ipython",
    "version": 3
   },
   "file_extension": ".py",
   "mimetype": "text/x-python",
   "name": "python",
   "nbconvert_exporter": "python",
   "pygments_lexer": "ipython3",
   "version": "3.8.16"
  },
  "orig_nbformat": 4
 },
 "nbformat": 4,
 "nbformat_minor": 2
}
