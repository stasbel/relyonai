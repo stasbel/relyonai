{
 "cells": [
  {
   "cell_type": "code",
   "execution_count": 1,
   "metadata": {
    "execution": {
     "iopub.execute_input": "2023-05-13T20:33:28.068730Z",
     "iopub.status.busy": "2023-05-13T20:33:28.068034Z",
     "iopub.status.idle": "2023-05-13T20:33:28.078720Z",
     "shell.execute_reply": "2023-05-13T20:33:28.078279Z"
    }
   },
   "outputs": [],
   "source": [
    "TASK = 'creat a sum of a and b'\n",
    "a, b = [], {}\n",
    "ARGS = {'a': a, 'b': b}"
   ]
  },
  {
   "cell_type": "code",
   "execution_count": 2,
   "metadata": {
    "execution": {
     "iopub.execute_input": "2023-05-13T20:33:28.080920Z",
     "iopub.status.busy": "2023-05-13T20:33:28.080646Z",
     "iopub.status.idle": "2023-05-13T20:33:28.474553Z",
     "shell.execute_reply": "2023-05-13T20:33:28.473604Z"
    }
   },
   "outputs": [
    {
     "name": "stdout",
     "output_type": "stream",
     "text": [
      "TASK: \"\"\"\n",
      "creat a sum of a and b\n",
      "\"\"\"\n",
      "ARGS: a, b\n",
      "- a: \"\"\"\n",
      "object of type builtins.list\n",
      "\"\"\"\n",
      "- b: \"\"\"\n",
      "object of type builtins.dict\n",
      "\"\"\"\n"
     ]
    }
   ],
   "source": [
    "# print prompt as assistant sees it\n",
    "from askai import prompt\n",
    "chat = prompt.Chat()\n",
    "chat.add_user_task(TASK, **ARGS)\n",
    "print(chat.messages[-1]['content'])\n",
    "del chat\n",
    "del prompt\n",
    "# introduce ARGS as globals\n",
    "globals = globals()\n",
    "for arg_k, arg_v in ARGS.items():\n",
    "    globals[arg_k] = arg_v\n",
    "del globals\n",
    "# reverved keywords\n",
    "assert 'gpt' not in ARGS and 'AskAITaskError' not in ARGS\n",
    "\n",
    "del TASK\n",
    "del ARGS\n",
    "\n",
    "from askai import gpt\n",
    "from askai.exceptions import AskAITaskError"
   ]
  },
  {
   "cell_type": "code",
   "execution_count": 3,
   "metadata": {
    "execution": {
     "iopub.execute_input": "2023-05-13T20:33:28.501584Z",
     "iopub.status.busy": "2023-05-13T20:33:28.501306Z",
     "iopub.status.idle": "2023-05-13T20:33:28.726915Z",
     "shell.execute_reply": "2023-05-13T20:33:28.726553Z"
    }
   },
   "outputs": [
    {
     "ename": "AskAITaskError",
     "evalue": "unable to create a sum of a list and a dict",
     "output_type": "error",
     "traceback": [
      "\u001b[0;31m---------------------------------------------------------------------------\u001b[0m",
      "\u001b[0;31mAskAITaskError\u001b[0m                            Traceback (most recent call last)",
      "Cell \u001b[0;32mIn[3], line 1\u001b[0m\n\u001b[0;32m----> 1\u001b[0m \u001b[38;5;28;01mraise\u001b[39;00m AskAITaskError(\u001b[38;5;124m'\u001b[39m\u001b[38;5;124munable to create a sum of a list and a dict\u001b[39m\u001b[38;5;124m'\u001b[39m)\n",
      "\u001b[0;31mAskAITaskError\u001b[0m: unable to create a sum of a list and a dict"
     ]
    }
   ],
   "source": [
    "raise AskAITaskError('unable to create a sum of a list and a dict')"
   ]
  },
  {
   "cell_type": "code",
   "execution_count": 4,
   "metadata": {
    "execution": {
     "iopub.execute_input": "2023-05-13T20:33:28.729167Z",
     "iopub.status.busy": "2023-05-13T20:33:28.729012Z",
     "iopub.status.idle": "2023-05-13T20:33:28.731130Z",
     "shell.execute_reply": "2023-05-13T20:33:28.730794Z"
    }
   },
   "outputs": [],
   "source": [
    "VALIDATE_FINAL_RESULT = False"
   ]
  }
 ],
 "metadata": {
  "kernelspec": {
   "display_name": "askai",
   "language": "python",
   "name": "python3"
  },
  "language_info": {
   "codemirror_mode": {
    "name": "ipython",
    "version": 3
   },
   "file_extension": ".py",
   "mimetype": "text/x-python",
   "name": "python",
   "nbconvert_exporter": "python",
   "pygments_lexer": "ipython3",
   "version": "3.8.16"
  }
 },
 "nbformat": 4,
 "nbformat_minor": 2
}
