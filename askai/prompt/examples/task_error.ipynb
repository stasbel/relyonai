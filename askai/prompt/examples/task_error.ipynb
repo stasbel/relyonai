{
 "cells": [
  {
   "cell_type": "code",
   "execution_count": 1,
   "metadata": {
    "execution": {
     "iopub.execute_input": "2023-05-13T19:04:29.649552Z",
     "iopub.status.busy": "2023-05-13T19:04:29.648822Z",
     "iopub.status.idle": "2023-05-13T19:04:29.665998Z",
     "shell.execute_reply": "2023-05-13T19:04:29.665068Z"
    }
   },
   "outputs": [],
   "source": [
    "TASK = 'creat a sum of a and b'\n",
    "a, b = [], {}\n",
    "ARGS = {'a': a, 'b': b}"
   ]
  },
  {
   "cell_type": "code",
   "execution_count": 2,
   "metadata": {
    "execution": {
     "iopub.execute_input": "2023-05-13T19:04:29.671002Z",
     "iopub.status.busy": "2023-05-13T19:04:29.670599Z",
     "iopub.status.idle": "2023-05-13T19:04:29.888026Z",
     "shell.execute_reply": "2023-05-13T19:04:29.887615Z"
    }
   },
   "outputs": [],
   "source": [
    "del TASK\n",
    "\n",
    "assert 'gpt' not in ARGS\n",
    "globals = globals()\n",
    "for arg_k, arg_v in ARGS.items():\n",
    "    globals[arg_k] = arg_v\n",
    "del globals\n",
    "del ARGS\n",
    "\n",
    "from askai import gpt\n",
    "from askai.exceptions import AskAITaskError"
   ]
  },
  {
   "cell_type": "code",
   "execution_count": 3,
   "metadata": {
    "execution": {
     "iopub.execute_input": "2023-05-13T19:04:29.890284Z",
     "iopub.status.busy": "2023-05-13T19:04:29.890088Z",
     "iopub.status.idle": "2023-05-13T19:04:30.065624Z",
     "shell.execute_reply": "2023-05-13T19:04:30.065145Z"
    }
   },
   "outputs": [
    {
     "ename": "AskAITaskError",
     "evalue": "unable to create a sum of a list and a dict",
     "output_type": "error",
     "traceback": [
      "\u001b[0;31m---------------------------------------------------------------------------\u001b[0m",
      "\u001b[0;31mAskAITaskError\u001b[0m                            Traceback (most recent call last)",
      "Cell \u001b[0;32mIn[3], line 1\u001b[0m\n\u001b[0;32m----> 1\u001b[0m \u001b[38;5;28;01mraise\u001b[39;00m AskAITaskError(\u001b[38;5;124m'\u001b[39m\u001b[38;5;124munable to create a sum of a list and a dict\u001b[39m\u001b[38;5;124m'\u001b[39m)\n",
      "\u001b[0;31mAskAITaskError\u001b[0m: unable to create a sum of a list and a dict"
     ]
    }
   ],
   "source": [
    "raise AskAITaskError('unable to create a sum of a list and a dict')"
   ]
  },
  {
   "cell_type": "code",
   "execution_count": 4,
   "metadata": {
    "execution": {
     "iopub.execute_input": "2023-05-13T19:04:30.090357Z",
     "iopub.status.busy": "2023-05-13T19:04:30.090176Z",
     "iopub.status.idle": "2023-05-13T19:04:30.092189Z",
     "shell.execute_reply": "2023-05-13T19:04:30.091851Z"
    }
   },
   "outputs": [],
   "source": [
    "VALIDATE_FINAL_RESULT = False"
   ]
  }
 ],
 "metadata": {
  "kernelspec": {
   "display_name": "askai",
   "language": "python",
   "name": "python3"
  },
  "language_info": {
   "codemirror_mode": {
    "name": "ipython",
    "version": 3
   },
   "file_extension": ".py",
   "mimetype": "text/x-python",
   "name": "python",
   "nbconvert_exporter": "python",
   "pygments_lexer": "ipython3",
   "version": "3.8.16"
  }
 },
 "nbformat": 4,
 "nbformat_minor": 2
}
