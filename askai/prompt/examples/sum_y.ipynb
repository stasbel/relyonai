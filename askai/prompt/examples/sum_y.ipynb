{
 "cells": [
  {
   "cell_type": "code",
   "execution_count": 1,
   "metadata": {
    "execution": {
     "iopub.execute_input": "2023-05-13T02:43:46.830244Z",
     "iopub.status.busy": "2023-05-13T02:43:46.829835Z",
     "iopub.status.idle": "2023-05-13T02:43:46.842315Z",
     "shell.execute_reply": "2023-05-13T02:43:46.841592Z"
    }
   },
   "outputs": [],
   "source": [
    "TASK = 'sum of two numbers x and y'\n",
    "y = 2\n",
    "ARGS = {'y': y}"
   ]
  },
  {
   "cell_type": "code",
   "execution_count": 2,
   "metadata": {
    "execution": {
     "iopub.execute_input": "2023-05-13T02:43:46.846444Z",
     "iopub.status.busy": "2023-05-13T02:43:46.846106Z",
     "iopub.status.idle": "2023-05-13T02:43:47.060819Z",
     "shell.execute_reply": "2023-05-13T02:43:47.060427Z"
    }
   },
   "outputs": [],
   "source": [
    "del TASK\n",
    "\n",
    "assert 'gpt' not in ARGS\n",
    "globals = globals()\n",
    "for arg_k, arg_v in ARGS.items():\n",
    "    globals[arg_k] = arg_v\n",
    "del globals\n",
    "del ARGS\n",
    "\n",
    "from askai import gpt"
   ]
  },
  {
   "cell_type": "code",
   "execution_count": 3,
   "metadata": {
    "execution": {
     "iopub.execute_input": "2023-05-13T02:43:47.063254Z",
     "iopub.status.busy": "2023-05-13T02:43:47.063064Z",
     "iopub.status.idle": "2023-05-13T02:43:47.067077Z",
     "shell.execute_reply": "2023-05-13T02:43:47.066637Z"
    }
   },
   "outputs": [
    {
     "data": {
      "text/plain": [
       "<function __main__.sum(x)>"
      ]
     },
     "execution_count": 3,
     "metadata": {},
     "output_type": "execute_result"
    }
   ],
   "source": [
    "def sum(x):\n",
    "    return x + y\n",
    "final_result = sum\n",
    "final_result"
   ]
  },
  {
   "cell_type": "code",
   "execution_count": 4,
   "metadata": {
    "execution": {
     "iopub.execute_input": "2023-05-13T02:43:47.092508Z",
     "iopub.status.busy": "2023-05-13T02:43:47.092326Z",
     "iopub.status.idle": "2023-05-13T02:43:47.094303Z",
     "shell.execute_reply": "2023-05-13T02:43:47.093956Z"
    }
   },
   "outputs": [],
   "source": [
    "VALIDATE_FINAL_RESULT = False"
   ]
  }
 ],
 "metadata": {
  "kernelspec": {
   "display_name": "askai",
   "language": "python",
   "name": "python3"
  },
  "language_info": {
   "codemirror_mode": {
    "name": "ipython",
    "version": 3
   },
   "file_extension": ".py",
   "mimetype": "text/x-python",
   "name": "python",
   "nbconvert_exporter": "python",
   "pygments_lexer": "ipython3",
   "version": "3.8.16"
  }
 },
 "nbformat": 4,
 "nbformat_minor": 2
}
