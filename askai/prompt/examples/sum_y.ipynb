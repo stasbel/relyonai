{
 "cells": [
  {
   "cell_type": "code",
   "execution_count": 1,
   "metadata": {
    "execution": {
     "iopub.execute_input": "2023-05-13T19:04:27.312146Z",
     "iopub.status.busy": "2023-05-13T19:04:27.311507Z",
     "iopub.status.idle": "2023-05-13T19:04:27.327434Z",
     "shell.execute_reply": "2023-05-13T19:04:27.326407Z"
    }
   },
   "outputs": [],
   "source": [
    "TASK = 'sum of two numbers x and y'\n",
    "y = 2\n",
    "ARGS = {'y': y}"
   ]
  },
  {
   "cell_type": "code",
   "execution_count": 2,
   "metadata": {
    "execution": {
     "iopub.execute_input": "2023-05-13T19:04:27.332726Z",
     "iopub.status.busy": "2023-05-13T19:04:27.332180Z",
     "iopub.status.idle": "2023-05-13T19:04:27.542508Z",
     "shell.execute_reply": "2023-05-13T19:04:27.542044Z"
    }
   },
   "outputs": [],
   "source": [
    "del TASK\n",
    "\n",
    "assert 'gpt' not in ARGS\n",
    "globals = globals()\n",
    "for arg_k, arg_v in ARGS.items():\n",
    "    globals[arg_k] = arg_v\n",
    "del globals\n",
    "del ARGS\n",
    "\n",
    "from askai import gpt\n",
    "from askai.exceptions import AskAITaskError"
   ]
  },
  {
   "cell_type": "code",
   "execution_count": 3,
   "metadata": {
    "execution": {
     "iopub.execute_input": "2023-05-13T19:04:27.544840Z",
     "iopub.status.busy": "2023-05-13T19:04:27.544640Z",
     "iopub.status.idle": "2023-05-13T19:04:27.548735Z",
     "shell.execute_reply": "2023-05-13T19:04:27.548361Z"
    }
   },
   "outputs": [
    {
     "data": {
      "text/plain": [
       "<function __main__.sum(x)>"
      ]
     },
     "execution_count": 3,
     "metadata": {},
     "output_type": "execute_result"
    }
   ],
   "source": [
    "def sum(x):\n",
    "    return x + y\n",
    "final_result = sum\n",
    "final_result"
   ]
  },
  {
   "cell_type": "code",
   "execution_count": 4,
   "metadata": {
    "execution": {
     "iopub.execute_input": "2023-05-13T19:04:27.574224Z",
     "iopub.status.busy": "2023-05-13T19:04:27.574042Z",
     "iopub.status.idle": "2023-05-13T19:04:27.576404Z",
     "shell.execute_reply": "2023-05-13T19:04:27.576057Z"
    }
   },
   "outputs": [],
   "source": [
    "VALIDATE_FINAL_RESULT = False"
   ]
  }
 ],
 "metadata": {
  "kernelspec": {
   "display_name": "askai",
   "language": "python",
   "name": "python3"
  },
  "language_info": {
   "codemirror_mode": {
    "name": "ipython",
    "version": 3
   },
   "file_extension": ".py",
   "mimetype": "text/x-python",
   "name": "python",
   "nbconvert_exporter": "python",
   "pygments_lexer": "ipython3",
   "version": "3.8.16"
  }
 },
 "nbformat": 4,
 "nbformat_minor": 2
}
