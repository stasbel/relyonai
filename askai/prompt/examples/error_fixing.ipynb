{
 "cells": [
  {
   "cell_type": "code",
   "execution_count": 1,
   "metadata": {
    "execution": {
     "iopub.execute_input": "2023-05-13T02:43:24.681876Z",
     "iopub.status.busy": "2023-05-13T02:43:24.681239Z",
     "iopub.status.idle": "2023-05-13T02:43:24.694754Z",
     "shell.execute_reply": "2023-05-13T02:43:24.693455Z"
    }
   },
   "outputs": [],
   "source": [
    "TASK = 'get a result from single key dictionary d'\n",
    "d = {'res': 42}\n",
    "ARGS = {'d': d}"
   ]
  },
  {
   "cell_type": "code",
   "execution_count": 2,
   "metadata": {
    "execution": {
     "iopub.execute_input": "2023-05-13T02:43:24.701232Z",
     "iopub.status.busy": "2023-05-13T02:43:24.700741Z",
     "iopub.status.idle": "2023-05-13T02:43:24.904873Z",
     "shell.execute_reply": "2023-05-13T02:43:24.904496Z"
    }
   },
   "outputs": [],
   "source": [
    "del TASK\n",
    "\n",
    "assert 'gpt' not in ARGS\n",
    "globals = globals()\n",
    "for arg_k, arg_v in ARGS.items():\n",
    "    globals[arg_k] = arg_v\n",
    "del globals\n",
    "del ARGS\n",
    "\n",
    "from askai import gpt"
   ]
  },
  {
   "cell_type": "code",
   "execution_count": 3,
   "metadata": {
    "execution": {
     "iopub.execute_input": "2023-05-13T02:43:24.907186Z",
     "iopub.status.busy": "2023-05-13T02:43:24.907005Z",
     "iopub.status.idle": "2023-05-13T02:43:25.084626Z",
     "shell.execute_reply": "2023-05-13T02:43:25.084251Z"
    }
   },
   "outputs": [
    {
     "ename": "KeyError",
     "evalue": "'result'",
     "output_type": "error",
     "traceback": [
      "\u001b[0;31m---------------------------------------------------------------------------\u001b[0m",
      "\u001b[0;31mKeyError\u001b[0m                                  Traceback (most recent call last)",
      "Cell \u001b[0;32mIn[3], line 1\u001b[0m\n\u001b[0;32m----> 1\u001b[0m final_result \u001b[38;5;241m=\u001b[39m \u001b[43md\u001b[49m\u001b[43m[\u001b[49m\u001b[38;5;124;43m'\u001b[39;49m\u001b[38;5;124;43mresult\u001b[39;49m\u001b[38;5;124;43m'\u001b[39;49m\u001b[43m]\u001b[49m\n\u001b[1;32m      2\u001b[0m final_result\n",
      "\u001b[0;31mKeyError\u001b[0m: 'result'"
     ]
    }
   ],
   "source": [
    "final_result = d['result']\n",
    "final_result"
   ]
  },
  {
   "cell_type": "code",
   "execution_count": 4,
   "metadata": {
    "execution": {
     "iopub.execute_input": "2023-05-13T02:43:25.109944Z",
     "iopub.status.busy": "2023-05-13T02:43:25.109758Z",
     "iopub.status.idle": "2023-05-13T02:43:25.113535Z",
     "shell.execute_reply": "2023-05-13T02:43:25.113219Z"
    }
   },
   "outputs": [
    {
     "data": {
      "text/plain": [
       "dict_keys(['res'])"
      ]
     },
     "execution_count": 4,
     "metadata": {},
     "output_type": "execute_result"
    }
   ],
   "source": [
    "# we justifiably assume result key will be present from task description\n",
    "# but this turns out to be incorrect -- no problem, let's print existing keys\n",
    "result = d.keys()\n",
    "result"
   ]
  },
  {
   "cell_type": "code",
   "execution_count": 5,
   "metadata": {
    "execution": {
     "iopub.execute_input": "2023-05-13T02:43:25.115489Z",
     "iopub.status.busy": "2023-05-13T02:43:25.115379Z",
     "iopub.status.idle": "2023-05-13T02:43:25.117805Z",
     "shell.execute_reply": "2023-05-13T02:43:25.117500Z"
    }
   },
   "outputs": [
    {
     "data": {
      "text/plain": [
       "42"
      ]
     },
     "execution_count": 5,
     "metadata": {},
     "output_type": "execute_result"
    }
   ],
   "source": [
    "final_result = d['res']\n",
    "final_result"
   ]
  },
  {
   "cell_type": "code",
   "execution_count": 6,
   "metadata": {
    "execution": {
     "iopub.execute_input": "2023-05-13T02:43:25.119579Z",
     "iopub.status.busy": "2023-05-13T02:43:25.119449Z",
     "iopub.status.idle": "2023-05-13T02:43:25.121375Z",
     "shell.execute_reply": "2023-05-13T02:43:25.121090Z"
    }
   },
   "outputs": [],
   "source": [
    "VALIDATE_FINAL_RESULT = True\n",
    "FINAL_RESULT = 42\n",
    "\n",
    "if VALIDATE_FINAL_RESULT:\n",
    "    assert final_result == FINAL_RESULT"
   ]
  }
 ],
 "metadata": {
  "kernelspec": {
   "display_name": "askai",
   "language": "python",
   "name": "python3"
  },
  "language_info": {
   "codemirror_mode": {
    "name": "ipython",
    "version": 3
   },
   "file_extension": ".py",
   "mimetype": "text/x-python",
   "name": "python",
   "nbconvert_exporter": "python",
   "pygments_lexer": "ipython3",
   "version": "3.8.16"
  }
 },
 "nbformat": 4,
 "nbformat_minor": 2
}
