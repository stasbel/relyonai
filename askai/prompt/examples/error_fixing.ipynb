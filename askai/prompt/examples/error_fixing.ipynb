{
 "cells": [
  {
   "cell_type": "code",
   "execution_count": 1,
   "metadata": {
    "execution": {
     "iopub.execute_input": "2023-05-13T20:33:00.889998Z",
     "iopub.status.busy": "2023-05-13T20:33:00.889324Z",
     "iopub.status.idle": "2023-05-13T20:33:00.906696Z",
     "shell.execute_reply": "2023-05-13T20:33:00.905404Z"
    }
   },
   "outputs": [],
   "source": [
    "TASK = 'get a result from single key dictionary d'\n",
    "d = {'res': 42}\n",
    "ARGS = {'d': d}"
   ]
  },
  {
   "cell_type": "code",
   "execution_count": 2,
   "metadata": {
    "execution": {
     "iopub.execute_input": "2023-05-13T20:33:00.914043Z",
     "iopub.status.busy": "2023-05-13T20:33:00.913582Z",
     "iopub.status.idle": "2023-05-13T20:33:01.322076Z",
     "shell.execute_reply": "2023-05-13T20:33:01.321560Z"
    }
   },
   "outputs": [
    {
     "name": "stdout",
     "output_type": "stream",
     "text": [
      "TASK: \"\"\"\n",
      "get a result from single key dictionary d\n",
      "\"\"\"\n",
      "ARGS: d\n",
      "- d: \"\"\"\n",
      "object of type builtins.dict\n",
      "\"\"\"\n"
     ]
    }
   ],
   "source": [
    "# print prompt as assistant sees it\n",
    "from askai import prompt\n",
    "chat = prompt.Chat()\n",
    "chat.add_user_task(TASK, **ARGS)\n",
    "print(chat.messages[-1]['content'])\n",
    "del chat\n",
    "del prompt\n",
    "# introduce ARGS as globals\n",
    "globals = globals()\n",
    "for arg_k, arg_v in ARGS.items():\n",
    "    globals[arg_k] = arg_v\n",
    "del globals\n",
    "# reverved keywords\n",
    "assert 'gpt' not in ARGS and 'AskAITaskError' not in ARGS\n",
    "\n",
    "del TASK\n",
    "del ARGS\n",
    "\n",
    "from askai import gpt\n",
    "from askai.exceptions import AskAITaskError"
   ]
  },
  {
   "cell_type": "code",
   "execution_count": 3,
   "metadata": {
    "execution": {
     "iopub.execute_input": "2023-05-13T20:33:01.347183Z",
     "iopub.status.busy": "2023-05-13T20:33:01.346949Z",
     "iopub.status.idle": "2023-05-13T20:33:01.565001Z",
     "shell.execute_reply": "2023-05-13T20:33:01.564576Z"
    }
   },
   "outputs": [
    {
     "ename": "KeyError",
     "evalue": "'result'",
     "output_type": "error",
     "traceback": [
      "\u001b[0;31m---------------------------------------------------------------------------\u001b[0m",
      "\u001b[0;31mKeyError\u001b[0m                                  Traceback (most recent call last)",
      "Cell \u001b[0;32mIn[3], line 1\u001b[0m\n\u001b[0;32m----> 1\u001b[0m final_result \u001b[38;5;241m=\u001b[39m \u001b[43md\u001b[49m\u001b[43m[\u001b[49m\u001b[38;5;124;43m'\u001b[39;49m\u001b[38;5;124;43mresult\u001b[39;49m\u001b[38;5;124;43m'\u001b[39;49m\u001b[43m]\u001b[49m\n\u001b[1;32m      2\u001b[0m final_result\n",
      "\u001b[0;31mKeyError\u001b[0m: 'result'"
     ]
    }
   ],
   "source": [
    "final_result = d['result']\n",
    "final_result"
   ]
  },
  {
   "cell_type": "code",
   "execution_count": 4,
   "metadata": {
    "execution": {
     "iopub.execute_input": "2023-05-13T20:33:01.567130Z",
     "iopub.status.busy": "2023-05-13T20:33:01.566979Z",
     "iopub.status.idle": "2023-05-13T20:33:01.570825Z",
     "shell.execute_reply": "2023-05-13T20:33:01.570503Z"
    }
   },
   "outputs": [
    {
     "data": {
      "text/plain": [
       "dict_keys(['res'])"
      ]
     },
     "execution_count": 4,
     "metadata": {},
     "output_type": "execute_result"
    }
   ],
   "source": [
    "# we justifiably assume result key will be present from task description\n",
    "# but this turns out to be incorrect -- no problem, let's print existing keys\n",
    "result = d.keys()\n",
    "result"
   ]
  },
  {
   "cell_type": "code",
   "execution_count": 5,
   "metadata": {
    "execution": {
     "iopub.execute_input": "2023-05-13T20:33:01.572857Z",
     "iopub.status.busy": "2023-05-13T20:33:01.572744Z",
     "iopub.status.idle": "2023-05-13T20:33:01.575254Z",
     "shell.execute_reply": "2023-05-13T20:33:01.574935Z"
    }
   },
   "outputs": [
    {
     "data": {
      "text/plain": [
       "42"
      ]
     },
     "execution_count": 5,
     "metadata": {},
     "output_type": "execute_result"
    }
   ],
   "source": [
    "final_result = d['res']\n",
    "final_result"
   ]
  },
  {
   "cell_type": "code",
   "execution_count": 6,
   "metadata": {
    "execution": {
     "iopub.execute_input": "2023-05-13T20:33:01.577001Z",
     "iopub.status.busy": "2023-05-13T20:33:01.576869Z",
     "iopub.status.idle": "2023-05-13T20:33:01.578839Z",
     "shell.execute_reply": "2023-05-13T20:33:01.578513Z"
    }
   },
   "outputs": [],
   "source": [
    "VALIDATE_FINAL_RESULT = True\n",
    "FINAL_RESULT = 42\n",
    "\n",
    "if VALIDATE_FINAL_RESULT:\n",
    "    assert final_result == FINAL_RESULT"
   ]
  }
 ],
 "metadata": {
  "kernelspec": {
   "display_name": "askai",
   "language": "python",
   "name": "python3"
  },
  "language_info": {
   "codemirror_mode": {
    "name": "ipython",
    "version": 3
   },
   "file_extension": ".py",
   "mimetype": "text/x-python",
   "name": "python",
   "nbconvert_exporter": "python",
   "pygments_lexer": "ipython3",
   "version": "3.8.16"
  }
 },
 "nbformat": 4,
 "nbformat_minor": 2
}
