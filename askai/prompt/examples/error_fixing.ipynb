{
 "cells": [
  {
   "cell_type": "code",
   "execution_count": 1,
   "metadata": {
    "execution": {
     "iopub.execute_input": "2023-05-13T19:04:05.204198Z",
     "iopub.status.busy": "2023-05-13T19:04:05.203673Z",
     "iopub.status.idle": "2023-05-13T19:04:05.218213Z",
     "shell.execute_reply": "2023-05-13T19:04:05.217803Z"
    }
   },
   "outputs": [],
   "source": [
    "TASK = 'get a result from single key dictionary d'\n",
    "d = {'res': 42}\n",
    "ARGS = {'d': d}"
   ]
  },
  {
   "cell_type": "code",
   "execution_count": 2,
   "metadata": {
    "execution": {
     "iopub.execute_input": "2023-05-13T19:04:05.220493Z",
     "iopub.status.busy": "2023-05-13T19:04:05.220337Z",
     "iopub.status.idle": "2023-05-13T19:04:05.426645Z",
     "shell.execute_reply": "2023-05-13T19:04:05.426213Z"
    }
   },
   "outputs": [],
   "source": [
    "del TASK\n",
    "\n",
    "assert 'gpt' not in ARGS\n",
    "globals = globals()\n",
    "for arg_k, arg_v in ARGS.items():\n",
    "    globals[arg_k] = arg_v\n",
    "del globals\n",
    "del ARGS\n",
    "\n",
    "from askai import gpt\n",
    "from askai.exceptions import AskAITaskError"
   ]
  },
  {
   "cell_type": "code",
   "execution_count": 3,
   "metadata": {
    "execution": {
     "iopub.execute_input": "2023-05-13T19:04:05.429144Z",
     "iopub.status.busy": "2023-05-13T19:04:05.428949Z",
     "iopub.status.idle": "2023-05-13T19:04:05.618112Z",
     "shell.execute_reply": "2023-05-13T19:04:05.617706Z"
    }
   },
   "outputs": [
    {
     "ename": "KeyError",
     "evalue": "'result'",
     "output_type": "error",
     "traceback": [
      "\u001b[0;31m---------------------------------------------------------------------------\u001b[0m",
      "\u001b[0;31mKeyError\u001b[0m                                  Traceback (most recent call last)",
      "Cell \u001b[0;32mIn[3], line 1\u001b[0m\n\u001b[0;32m----> 1\u001b[0m final_result \u001b[38;5;241m=\u001b[39m \u001b[43md\u001b[49m\u001b[43m[\u001b[49m\u001b[38;5;124;43m'\u001b[39;49m\u001b[38;5;124;43mresult\u001b[39;49m\u001b[38;5;124;43m'\u001b[39;49m\u001b[43m]\u001b[49m\n\u001b[1;32m      2\u001b[0m final_result\n",
      "\u001b[0;31mKeyError\u001b[0m: 'result'"
     ]
    }
   ],
   "source": [
    "final_result = d['result']\n",
    "final_result"
   ]
  },
  {
   "cell_type": "code",
   "execution_count": 4,
   "metadata": {
    "execution": {
     "iopub.execute_input": "2023-05-13T19:04:05.644459Z",
     "iopub.status.busy": "2023-05-13T19:04:05.644259Z",
     "iopub.status.idle": "2023-05-13T19:04:05.648363Z",
     "shell.execute_reply": "2023-05-13T19:04:05.647937Z"
    }
   },
   "outputs": [
    {
     "data": {
      "text/plain": [
       "dict_keys(['res'])"
      ]
     },
     "execution_count": 4,
     "metadata": {},
     "output_type": "execute_result"
    }
   ],
   "source": [
    "# we justifiably assume result key will be present from task description\n",
    "# but this turns out to be incorrect -- no problem, let's print existing keys\n",
    "result = d.keys()\n",
    "result"
   ]
  },
  {
   "cell_type": "code",
   "execution_count": 5,
   "metadata": {
    "execution": {
     "iopub.execute_input": "2023-05-13T19:04:05.650463Z",
     "iopub.status.busy": "2023-05-13T19:04:05.650345Z",
     "iopub.status.idle": "2023-05-13T19:04:05.653036Z",
     "shell.execute_reply": "2023-05-13T19:04:05.652698Z"
    }
   },
   "outputs": [
    {
     "data": {
      "text/plain": [
       "42"
      ]
     },
     "execution_count": 5,
     "metadata": {},
     "output_type": "execute_result"
    }
   ],
   "source": [
    "final_result = d['res']\n",
    "final_result"
   ]
  },
  {
   "cell_type": "code",
   "execution_count": 6,
   "metadata": {
    "execution": {
     "iopub.execute_input": "2023-05-13T19:04:05.654802Z",
     "iopub.status.busy": "2023-05-13T19:04:05.654664Z",
     "iopub.status.idle": "2023-05-13T19:04:05.656671Z",
     "shell.execute_reply": "2023-05-13T19:04:05.656331Z"
    }
   },
   "outputs": [],
   "source": [
    "VALIDATE_FINAL_RESULT = True\n",
    "FINAL_RESULT = 42\n",
    "\n",
    "if VALIDATE_FINAL_RESULT:\n",
    "    assert final_result == FINAL_RESULT"
   ]
  }
 ],
 "metadata": {
  "kernelspec": {
   "display_name": "askai",
   "language": "python",
   "name": "python3"
  },
  "language_info": {
   "codemirror_mode": {
    "name": "ipython",
    "version": 3
   },
   "file_extension": ".py",
   "mimetype": "text/x-python",
   "name": "python",
   "nbconvert_exporter": "python",
   "pygments_lexer": "ipython3",
   "version": "3.8.16"
  }
 },
 "nbformat": 4,
 "nbformat_minor": 2
}
