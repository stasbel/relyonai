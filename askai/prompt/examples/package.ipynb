{
 "cells": [
  {
   "cell_type": "code",
   "execution_count": 1,
   "metadata": {
    "execution": {
     "iopub.execute_input": "2023-05-13T19:04:14.974281Z",
     "iopub.status.busy": "2023-05-13T19:04:14.974161Z",
     "iopub.status.idle": "2023-05-13T19:04:14.979390Z",
     "shell.execute_reply": "2023-05-13T19:04:14.979011Z"
    }
   },
   "outputs": [],
   "source": [
    "TASK = 'that package for dataframes manipulation and stuff'\n",
    "ARGS = {}"
   ]
  },
  {
   "cell_type": "code",
   "execution_count": 2,
   "metadata": {
    "execution": {
     "iopub.execute_input": "2023-05-13T19:04:14.981345Z",
     "iopub.status.busy": "2023-05-13T19:04:14.981192Z",
     "iopub.status.idle": "2023-05-13T19:04:15.176559Z",
     "shell.execute_reply": "2023-05-13T19:04:15.176171Z"
    }
   },
   "outputs": [],
   "source": [
    "del TASK\n",
    "\n",
    "assert 'gpt' not in ARGS\n",
    "globals = globals()\n",
    "for arg_k, arg_v in ARGS.items():\n",
    "    globals[arg_k] = arg_v\n",
    "del globals\n",
    "del ARGS\n",
    "\n",
    "from askai import gpt\n",
    "from askai.exceptions import AskAITaskError"
   ]
  },
  {
   "cell_type": "code",
   "execution_count": 3,
   "metadata": {
    "execution": {
     "iopub.execute_input": "2023-05-13T19:04:15.178834Z",
     "iopub.status.busy": "2023-05-13T19:04:15.178645Z",
     "iopub.status.idle": "2023-05-13T19:04:15.353650Z",
     "shell.execute_reply": "2023-05-13T19:04:15.353279Z"
    }
   },
   "outputs": [
    {
     "data": {
      "text/plain": [
       "<module 'pandas' from '/Users/stanb/.miniconda3/envs/askai/lib/python3.8/site-packages/pandas/__init__.py'>"
      ]
     },
     "execution_count": 3,
     "metadata": {},
     "output_type": "execute_result"
    }
   ],
   "source": [
    "import pandas as pd\n",
    "final_result = pd\n",
    "final_result"
   ]
  },
  {
   "cell_type": "code",
   "execution_count": 4,
   "metadata": {
    "execution": {
     "iopub.execute_input": "2023-05-13T19:04:15.379004Z",
     "iopub.status.busy": "2023-05-13T19:04:15.378817Z",
     "iopub.status.idle": "2023-05-13T19:04:15.381095Z",
     "shell.execute_reply": "2023-05-13T19:04:15.380756Z"
    }
   },
   "outputs": [],
   "source": [
    "VALIDATE_FINAL_RESULT = True\n",
    "import pandas as pd\n",
    "FINAL_RESULT = pd\n",
    "\n",
    "if VALIDATE_FINAL_RESULT:\n",
    "    assert final_result == FINAL_RESULT"
   ]
  }
 ],
 "metadata": {
  "kernelspec": {
   "display_name": "askai",
   "language": "python",
   "name": "python3"
  },
  "language_info": {
   "codemirror_mode": {
    "name": "ipython",
    "version": 3
   },
   "file_extension": ".py",
   "mimetype": "text/x-python",
   "name": "python",
   "nbconvert_exporter": "python",
   "pygments_lexer": "ipython3",
   "version": "3.8.16"
  }
 },
 "nbformat": 4,
 "nbformat_minor": 2
}
