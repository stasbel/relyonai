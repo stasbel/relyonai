{
 "cells": [
  {
   "cell_type": "code",
   "execution_count": 1,
   "metadata": {
    "execution": {
     "iopub.execute_input": "2023-05-13T20:33:12.527434Z",
     "iopub.status.busy": "2023-05-13T20:33:12.526866Z",
     "iopub.status.idle": "2023-05-13T20:33:12.542445Z",
     "shell.execute_reply": "2023-05-13T20:33:12.541612Z"
    }
   },
   "outputs": [],
   "source": [
    "TASK = 'that package for dataframes manipulation and stuff'\n",
    "ARGS = {}"
   ]
  },
  {
   "cell_type": "code",
   "execution_count": 2,
   "metadata": {
    "execution": {
     "iopub.execute_input": "2023-05-13T20:33:12.546928Z",
     "iopub.status.busy": "2023-05-13T20:33:12.546571Z",
     "iopub.status.idle": "2023-05-13T20:33:12.778440Z",
     "shell.execute_reply": "2023-05-13T20:33:12.777910Z"
    }
   },
   "outputs": [
    {
     "name": "stdout",
     "output_type": "stream",
     "text": [
      "TASK: \"\"\"\n",
      "that package for dataframes manipulation and stuff\n",
      "\"\"\"\n",
      "ARGS:\n"
     ]
    }
   ],
   "source": [
    "# print prompt as assistant sees it\n",
    "from askai import prompt\n",
    "chat = prompt.Chat()\n",
    "chat.add_user_task(TASK, **ARGS)\n",
    "print(chat.messages[-1]['content'])\n",
    "del chat\n",
    "del prompt\n",
    "# introduce ARGS as globals\n",
    "globals = globals()\n",
    "for arg_k, arg_v in ARGS.items():\n",
    "    globals[arg_k] = arg_v\n",
    "del globals\n",
    "# reverved keywords\n",
    "assert 'gpt' not in ARGS and 'AskAITaskError' not in ARGS\n",
    "\n",
    "del TASK\n",
    "del ARGS\n",
    "\n",
    "from askai import gpt\n",
    "from askai.exceptions import AskAITaskError"
   ]
  },
  {
   "cell_type": "code",
   "execution_count": 3,
   "metadata": {
    "execution": {
     "iopub.execute_input": "2023-05-13T20:33:12.804215Z",
     "iopub.status.busy": "2023-05-13T20:33:12.803966Z",
     "iopub.status.idle": "2023-05-13T20:33:12.967045Z",
     "shell.execute_reply": "2023-05-13T20:33:12.966692Z"
    }
   },
   "outputs": [
    {
     "data": {
      "text/plain": [
       "<module 'pandas' from '/Users/stanb/.miniconda3/envs/askai/lib/python3.8/site-packages/pandas/__init__.py'>"
      ]
     },
     "execution_count": 3,
     "metadata": {},
     "output_type": "execute_result"
    }
   ],
   "source": [
    "import pandas as pd\n",
    "final_result = pd\n",
    "final_result"
   ]
  },
  {
   "cell_type": "code",
   "execution_count": 4,
   "metadata": {
    "execution": {
     "iopub.execute_input": "2023-05-13T20:33:12.969053Z",
     "iopub.status.busy": "2023-05-13T20:33:12.968907Z",
     "iopub.status.idle": "2023-05-13T20:33:12.971678Z",
     "shell.execute_reply": "2023-05-13T20:33:12.970867Z"
    }
   },
   "outputs": [],
   "source": [
    "VALIDATE_FINAL_RESULT = True\n",
    "import pandas as pd\n",
    "FINAL_RESULT = pd\n",
    "\n",
    "if VALIDATE_FINAL_RESULT:\n",
    "    assert final_result == FINAL_RESULT"
   ]
  }
 ],
 "metadata": {
  "kernelspec": {
   "display_name": "askai",
   "language": "python",
   "name": "python3"
  },
  "language_info": {
   "codemirror_mode": {
    "name": "ipython",
    "version": 3
   },
   "file_extension": ".py",
   "mimetype": "text/x-python",
   "name": "python",
   "nbconvert_exporter": "python",
   "pygments_lexer": "ipython3",
   "version": "3.8.16"
  }
 },
 "nbformat": 4,
 "nbformat_minor": 2
}
