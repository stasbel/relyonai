{
 "cells": [
  {
   "cell_type": "code",
   "execution_count": 1,
   "metadata": {
    "execution": {
     "iopub.execute_input": "2023-05-13T02:43:34.745968Z",
     "iopub.status.busy": "2023-05-13T02:43:34.745840Z",
     "iopub.status.idle": "2023-05-13T02:43:34.750531Z",
     "shell.execute_reply": "2023-05-13T02:43:34.750205Z"
    }
   },
   "outputs": [],
   "source": [
    "TASK = 'that package for dataframes manipulation and stuff'\n",
    "ARGS = {}"
   ]
  },
  {
   "cell_type": "code",
   "execution_count": 2,
   "metadata": {
    "execution": {
     "iopub.execute_input": "2023-05-13T02:43:34.752370Z",
     "iopub.status.busy": "2023-05-13T02:43:34.752233Z",
     "iopub.status.idle": "2023-05-13T02:43:34.944181Z",
     "shell.execute_reply": "2023-05-13T02:43:34.943802Z"
    }
   },
   "outputs": [],
   "source": [
    "del TASK\n",
    "\n",
    "assert 'gpt' not in ARGS\n",
    "globals = globals()\n",
    "for arg_k, arg_v in ARGS.items():\n",
    "    globals[arg_k] = arg_v\n",
    "del globals\n",
    "del ARGS\n",
    "\n",
    "from askai import gpt"
   ]
  },
  {
   "cell_type": "code",
   "execution_count": 3,
   "metadata": {
    "execution": {
     "iopub.execute_input": "2023-05-13T02:43:34.946594Z",
     "iopub.status.busy": "2023-05-13T02:43:34.946407Z",
     "iopub.status.idle": "2023-05-13T02:43:35.094347Z",
     "shell.execute_reply": "2023-05-13T02:43:35.093942Z"
    }
   },
   "outputs": [
    {
     "data": {
      "text/plain": [
       "<module 'pandas' from '/Users/stanb/.miniconda3/envs/askai/lib/python3.8/site-packages/pandas/__init__.py'>"
      ]
     },
     "execution_count": 3,
     "metadata": {},
     "output_type": "execute_result"
    }
   ],
   "source": [
    "import pandas as pd\n",
    "final_result = pd\n",
    "final_result"
   ]
  },
  {
   "cell_type": "code",
   "execution_count": 4,
   "metadata": {
    "execution": {
     "iopub.execute_input": "2023-05-13T02:43:35.119625Z",
     "iopub.status.busy": "2023-05-13T02:43:35.119418Z",
     "iopub.status.idle": "2023-05-13T02:43:35.121812Z",
     "shell.execute_reply": "2023-05-13T02:43:35.121426Z"
    }
   },
   "outputs": [],
   "source": [
    "VALIDATE_FINAL_RESULT = True\n",
    "import pandas as pd\n",
    "FINAL_RESULT = pd\n",
    "\n",
    "if VALIDATE_FINAL_RESULT:\n",
    "    assert final_result == FINAL_RESULT"
   ]
  }
 ],
 "metadata": {
  "kernelspec": {
   "display_name": "askai",
   "language": "python",
   "name": "python3"
  },
  "language_info": {
   "codemirror_mode": {
    "name": "ipython",
    "version": 3
   },
   "file_extension": ".py",
   "mimetype": "text/x-python",
   "name": "python",
   "nbconvert_exporter": "python",
   "pygments_lexer": "ipython3",
   "version": "3.8.16"
  }
 },
 "nbformat": 4,
 "nbformat_minor": 2
}
