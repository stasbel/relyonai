{
 "cells": [
  {
   "cell_type": "code",
   "execution_count": 1,
   "metadata": {
    "execution": {
     "iopub.execute_input": "2023-05-13T19:04:24.969453Z",
     "iopub.status.busy": "2023-05-13T19:04:24.968815Z",
     "iopub.status.idle": "2023-05-13T19:04:24.987396Z",
     "shell.execute_reply": "2023-05-13T19:04:24.986391Z"
    }
   },
   "outputs": [],
   "source": [
    "TASK = 'sum of two numbers x and y'\n",
    "x, y = 1, 2\n",
    "ARGS = {'x': x, 'y': y}"
   ]
  },
  {
   "cell_type": "code",
   "execution_count": 2,
   "metadata": {
    "execution": {
     "iopub.execute_input": "2023-05-13T19:04:24.992715Z",
     "iopub.status.busy": "2023-05-13T19:04:24.992321Z",
     "iopub.status.idle": "2023-05-13T19:04:25.208720Z",
     "shell.execute_reply": "2023-05-13T19:04:25.208194Z"
    }
   },
   "outputs": [],
   "source": [
    "del TASK\n",
    "\n",
    "assert 'gpt' not in ARGS\n",
    "globals = globals()\n",
    "for arg_k, arg_v in ARGS.items():\n",
    "    globals[arg_k] = arg_v\n",
    "del globals\n",
    "del ARGS\n",
    "\n",
    "from askai import gpt\n",
    "from askai.exceptions import AskAITaskError"
   ]
  },
  {
   "cell_type": "code",
   "execution_count": 3,
   "metadata": {
    "execution": {
     "iopub.execute_input": "2023-05-13T19:04:25.211062Z",
     "iopub.status.busy": "2023-05-13T19:04:25.210868Z",
     "iopub.status.idle": "2023-05-13T19:04:25.214855Z",
     "shell.execute_reply": "2023-05-13T19:04:25.214470Z"
    }
   },
   "outputs": [
    {
     "data": {
      "text/plain": [
       "3"
      ]
     },
     "execution_count": 3,
     "metadata": {},
     "output_type": "execute_result"
    }
   ],
   "source": [
    "final_result = x + y\n",
    "final_result"
   ]
  },
  {
   "cell_type": "code",
   "execution_count": 4,
   "metadata": {
    "execution": {
     "iopub.execute_input": "2023-05-13T19:04:25.240918Z",
     "iopub.status.busy": "2023-05-13T19:04:25.240736Z",
     "iopub.status.idle": "2023-05-13T19:04:25.242893Z",
     "shell.execute_reply": "2023-05-13T19:04:25.242568Z"
    }
   },
   "outputs": [],
   "source": [
    "VALIDATE_FINAL_RESULT = True\n",
    "FINAL_RESULT = 3\n",
    "\n",
    "if VALIDATE_FINAL_RESULT:\n",
    "    assert final_result == FINAL_RESULT"
   ]
  }
 ],
 "metadata": {
  "kernelspec": {
   "display_name": "askai",
   "language": "python",
   "name": "python3"
  },
  "language_info": {
   "codemirror_mode": {
    "name": "ipython",
    "version": 3
   },
   "file_extension": ".py",
   "mimetype": "text/x-python",
   "name": "python",
   "nbconvert_exporter": "python",
   "pygments_lexer": "ipython3",
   "version": "3.8.16"
  }
 },
 "nbformat": 4,
 "nbformat_minor": 2
}
