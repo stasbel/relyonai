{
 "cells": [
  {
   "cell_type": "code",
   "execution_count": 1,
   "metadata": {
    "execution": {
     "iopub.execute_input": "2023-05-13T02:43:44.461247Z",
     "iopub.status.busy": "2023-05-13T02:43:44.460808Z",
     "iopub.status.idle": "2023-05-13T02:43:44.473325Z",
     "shell.execute_reply": "2023-05-13T02:43:44.472576Z"
    }
   },
   "outputs": [],
   "source": [
    "TASK = 'sum of two numbers x and y'\n",
    "x, y = 1, 2\n",
    "ARGS = {'x': x, 'y': y}"
   ]
  },
  {
   "cell_type": "code",
   "execution_count": 2,
   "metadata": {
    "execution": {
     "iopub.execute_input": "2023-05-13T02:43:44.477873Z",
     "iopub.status.busy": "2023-05-13T02:43:44.477535Z",
     "iopub.status.idle": "2023-05-13T02:43:44.708646Z",
     "shell.execute_reply": "2023-05-13T02:43:44.707677Z"
    }
   },
   "outputs": [],
   "source": [
    "del TASK\n",
    "\n",
    "assert 'gpt' not in ARGS\n",
    "globals = globals()\n",
    "for arg_k, arg_v in ARGS.items():\n",
    "    globals[arg_k] = arg_v\n",
    "del globals\n",
    "del ARGS\n",
    "\n",
    "from askai import gpt"
   ]
  },
  {
   "cell_type": "code",
   "execution_count": 3,
   "metadata": {
    "execution": {
     "iopub.execute_input": "2023-05-13T02:43:44.714755Z",
     "iopub.status.busy": "2023-05-13T02:43:44.714069Z",
     "iopub.status.idle": "2023-05-13T02:43:44.722290Z",
     "shell.execute_reply": "2023-05-13T02:43:44.720899Z"
    }
   },
   "outputs": [
    {
     "data": {
      "text/plain": [
       "3"
      ]
     },
     "execution_count": 3,
     "metadata": {},
     "output_type": "execute_result"
    }
   ],
   "source": [
    "final_result = x + y\n",
    "final_result"
   ]
  },
  {
   "cell_type": "code",
   "execution_count": 4,
   "metadata": {
    "execution": {
     "iopub.execute_input": "2023-05-13T02:43:44.749073Z",
     "iopub.status.busy": "2023-05-13T02:43:44.748878Z",
     "iopub.status.idle": "2023-05-13T02:43:44.751255Z",
     "shell.execute_reply": "2023-05-13T02:43:44.750883Z"
    }
   },
   "outputs": [],
   "source": [
    "VALIDATE_FINAL_RESULT = True\n",
    "FINAL_RESULT = 3\n",
    "\n",
    "if VALIDATE_FINAL_RESULT:\n",
    "    assert final_result == FINAL_RESULT"
   ]
  }
 ],
 "metadata": {
  "kernelspec": {
   "display_name": "askai",
   "language": "python",
   "name": "python3"
  },
  "language_info": {
   "codemirror_mode": {
    "name": "ipython",
    "version": 3
   },
   "file_extension": ".py",
   "mimetype": "text/x-python",
   "name": "python",
   "nbconvert_exporter": "python",
   "pygments_lexer": "ipython3",
   "version": "3.8.16"
  }
 },
 "nbformat": 4,
 "nbformat_minor": 2
}
