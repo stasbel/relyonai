{
 "cells": [
  {
   "cell_type": "code",
   "execution_count": 1,
   "metadata": {
    "execution": {
     "iopub.execute_input": "2023-05-13T02:43:37.203744Z",
     "iopub.status.busy": "2023-05-13T02:43:37.203278Z",
     "iopub.status.idle": "2023-05-13T02:43:37.285340Z",
     "shell.execute_reply": "2023-05-13T02:43:37.284887Z"
    }
   },
   "outputs": [],
   "source": [
    "TASK = 'make line plot of `a` with specified color'\n",
    "import numpy as np\n",
    "a = np.random.rand(10)\n",
    "ARGS = {'a': a}"
   ]
  },
  {
   "cell_type": "code",
   "execution_count": 2,
   "metadata": {
    "execution": {
     "iopub.execute_input": "2023-05-13T02:43:37.287798Z",
     "iopub.status.busy": "2023-05-13T02:43:37.287618Z",
     "iopub.status.idle": "2023-05-13T02:43:37.437352Z",
     "shell.execute_reply": "2023-05-13T02:43:37.436941Z"
    }
   },
   "outputs": [],
   "source": [
    "del TASK\n",
    "\n",
    "assert 'gpt' not in ARGS\n",
    "globals = globals()\n",
    "for arg_k, arg_v in ARGS.items():\n",
    "    globals[arg_k] = arg_v\n",
    "del globals\n",
    "del ARGS\n",
    "\n",
    "from askai import gpt"
   ]
  },
  {
   "cell_type": "code",
   "execution_count": 3,
   "metadata": {
    "execution": {
     "iopub.execute_input": "2023-05-13T02:43:37.439774Z",
     "iopub.status.busy": "2023-05-13T02:43:37.439575Z",
     "iopub.status.idle": "2023-05-13T02:43:37.673625Z",
     "shell.execute_reply": "2023-05-13T02:43:37.673270Z"
    }
   },
   "outputs": [
    {
     "data": {
      "text/plain": [
       "<function __main__.plot_line(color)>"
      ]
     },
     "execution_count": 3,
     "metadata": {},
     "output_type": "execute_result"
    }
   ],
   "source": [
    "# packages might be missing, but we don't attempt to install them\n",
    "import numpy as np\n",
    "import matplotlib.pyplot as plt\n",
    "\n",
    "# color isn't provided but mentioned so we made a func\n",
    "def plot_line(color):\n",
    "    # generate x and y values\n",
    "    # a is provided so we just reference it directly\n",
    "    n = a.shape[0]\n",
    "    x = np.linspace(0, n - 1, num=n)\n",
    "    y = a\n",
    "\n",
    "    # create a line plot using the specified color\n",
    "    fig = plt.figure()\n",
    "    plt.plot(x, y, color=color)\n",
    "\n",
    "    # add known labels and title to the plot\n",
    "    plt.ylabel('a')\n",
    "    plt.title(f'line plot of a with {color} color')\n",
    "\n",
    "    # user don't intend to observe outside effect\n",
    "    plt.close(fig)\n",
    "\n",
    "    return fig\n",
    "\n",
    "final_result = plot_line\n",
    "final_result"
   ]
  },
  {
   "cell_type": "code",
   "execution_count": 4,
   "metadata": {
    "execution": {
     "iopub.execute_input": "2023-05-13T02:43:37.698578Z",
     "iopub.status.busy": "2023-05-13T02:43:37.698352Z",
     "iopub.status.idle": "2023-05-13T02:43:37.700461Z",
     "shell.execute_reply": "2023-05-13T02:43:37.700137Z"
    }
   },
   "outputs": [],
   "source": [
    "VALIDATE_FINAL_RESULT = False"
   ]
  }
 ],
 "metadata": {
  "kernelspec": {
   "display_name": "askai",
   "language": "python",
   "name": "python3"
  },
  "language_info": {
   "codemirror_mode": {
    "name": "ipython",
    "version": 3
   },
   "file_extension": ".py",
   "mimetype": "text/x-python",
   "name": "python",
   "nbconvert_exporter": "python",
   "pygments_lexer": "ipython3",
   "version": "3.8.16"
  }
 },
 "nbformat": 4,
 "nbformat_minor": 2
}
