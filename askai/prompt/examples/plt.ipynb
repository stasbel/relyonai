{
 "cells": [
  {
   "cell_type": "code",
   "execution_count": 1,
   "metadata": {
    "execution": {
     "iopub.execute_input": "2023-05-13T20:33:15.089454Z",
     "iopub.status.busy": "2023-05-13T20:33:15.087993Z",
     "iopub.status.idle": "2023-05-13T20:33:15.171232Z",
     "shell.execute_reply": "2023-05-13T20:33:15.170864Z"
    }
   },
   "outputs": [],
   "source": [
    "TASK = 'make line plot of `a` with specified color'\n",
    "import numpy as np\n",
    "a = np.random.rand(10)\n",
    "ARGS = {'a': a}"
   ]
  },
  {
   "cell_type": "code",
   "execution_count": 2,
   "metadata": {
    "execution": {
     "iopub.execute_input": "2023-05-13T20:33:15.173599Z",
     "iopub.status.busy": "2023-05-13T20:33:15.173416Z",
     "iopub.status.idle": "2023-05-13T20:33:15.463641Z",
     "shell.execute_reply": "2023-05-13T20:33:15.463278Z"
    }
   },
   "outputs": [
    {
     "name": "stdout",
     "output_type": "stream",
     "text": [
      "TASK: \"\"\"\n",
      "make line plot of `a` with specified color\n",
      "\"\"\"\n",
      "ARGS: a\n",
      "- a: \"\"\"\n",
      "object of type numpy.ndarray\n",
      "array of shape (10,) with dtype float64\n",
      "\"\"\"\n"
     ]
    }
   ],
   "source": [
    "# print prompt as assistant sees it\n",
    "from askai import prompt\n",
    "chat = prompt.Chat()\n",
    "chat.add_user_task(TASK, **ARGS)\n",
    "print(chat.messages[-1]['content'])\n",
    "del chat\n",
    "del prompt\n",
    "# introduce ARGS as globals\n",
    "globals = globals()\n",
    "for arg_k, arg_v in ARGS.items():\n",
    "    globals[arg_k] = arg_v\n",
    "del globals\n",
    "# reverved keywords\n",
    "assert 'gpt' not in ARGS and 'AskAITaskError' not in ARGS\n",
    "\n",
    "del TASK\n",
    "del ARGS\n",
    "\n",
    "from askai import gpt\n",
    "from askai.exceptions import AskAITaskError"
   ]
  },
  {
   "cell_type": "code",
   "execution_count": 3,
   "metadata": {
    "execution": {
     "iopub.execute_input": "2023-05-13T20:33:15.488630Z",
     "iopub.status.busy": "2023-05-13T20:33:15.488335Z",
     "iopub.status.idle": "2023-05-13T20:33:15.768261Z",
     "shell.execute_reply": "2023-05-13T20:33:15.767923Z"
    }
   },
   "outputs": [
    {
     "data": {
      "text/plain": [
       "<function __main__.plot_line(color)>"
      ]
     },
     "execution_count": 3,
     "metadata": {},
     "output_type": "execute_result"
    }
   ],
   "source": [
    "# packages might be missing, but we don't attempt to install them\n",
    "import numpy as np\n",
    "import matplotlib.pyplot as plt\n",
    "\n",
    "# color isn't provided but mentioned so we made a func\n",
    "def plot_line(color):\n",
    "    # generate x and y values\n",
    "    # a is provided so we just reference it directly\n",
    "    n = a.shape[0]\n",
    "    x = np.linspace(0, n - 1, num=n)\n",
    "    y = a\n",
    "\n",
    "    # create a line plot using the specified color\n",
    "    fig = plt.figure()\n",
    "    plt.plot(x, y, color=color)\n",
    "\n",
    "    # add known labels and title to the plot\n",
    "    plt.ylabel('a')\n",
    "    plt.title(f'line plot of a with {color} color')\n",
    "\n",
    "    # user don't intend to observe outside effect\n",
    "    plt.close(fig)\n",
    "\n",
    "    return fig\n",
    "\n",
    "final_result = plot_line\n",
    "final_result"
   ]
  },
  {
   "cell_type": "code",
   "execution_count": 4,
   "metadata": {
    "execution": {
     "iopub.execute_input": "2023-05-13T20:33:15.770255Z",
     "iopub.status.busy": "2023-05-13T20:33:15.770055Z",
     "iopub.status.idle": "2023-05-13T20:33:15.771985Z",
     "shell.execute_reply": "2023-05-13T20:33:15.771691Z"
    }
   },
   "outputs": [],
   "source": [
    "VALIDATE_FINAL_RESULT = False"
   ]
  }
 ],
 "metadata": {
  "kernelspec": {
   "display_name": "askai",
   "language": "python",
   "name": "python3"
  },
  "language_info": {
   "codemirror_mode": {
    "name": "ipython",
    "version": 3
   },
   "file_extension": ".py",
   "mimetype": "text/x-python",
   "name": "python",
   "nbconvert_exporter": "python",
   "pygments_lexer": "ipython3",
   "version": "3.8.16"
  }
 },
 "nbformat": 4,
 "nbformat_minor": 2
}
