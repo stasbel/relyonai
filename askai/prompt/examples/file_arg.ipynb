{
 "cells": [
  {
   "cell_type": "code",
   "execution_count": 1,
   "metadata": {
    "execution": {
     "iopub.execute_input": "2023-05-13T02:43:27.187362Z",
     "iopub.status.busy": "2023-05-13T02:43:27.186700Z",
     "iopub.status.idle": "2023-05-13T02:43:27.200743Z",
     "shell.execute_reply": "2023-05-13T02:43:27.200115Z"
    }
   },
   "outputs": [],
   "source": [
    "TASK = 'read file filename.txt'\n",
    "filename = 'other'\n",
    "ARGS = {'filename': filename}"
   ]
  },
  {
   "cell_type": "code",
   "execution_count": 2,
   "metadata": {
    "execution": {
     "iopub.execute_input": "2023-05-13T02:43:27.204516Z",
     "iopub.status.busy": "2023-05-13T02:43:27.204068Z",
     "iopub.status.idle": "2023-05-13T02:43:27.426424Z",
     "shell.execute_reply": "2023-05-13T02:43:27.426039Z"
    }
   },
   "outputs": [],
   "source": [
    "del TASK\n",
    "\n",
    "assert 'gpt' not in ARGS\n",
    "globals = globals()\n",
    "for arg_k, arg_v in ARGS.items():\n",
    "    globals[arg_k] = arg_v\n",
    "del globals\n",
    "del ARGS\n",
    "\n",
    "from askai import gpt"
   ]
  },
  {
   "cell_type": "code",
   "execution_count": 3,
   "metadata": {
    "execution": {
     "iopub.execute_input": "2023-05-13T02:43:27.428632Z",
     "iopub.status.busy": "2023-05-13T02:43:27.428445Z",
     "iopub.status.idle": "2023-05-13T02:43:27.432847Z",
     "shell.execute_reply": "2023-05-13T02:43:27.432484Z"
    }
   },
   "outputs": [
    {
     "data": {
      "text/plain": [
       "'other content'"
      ]
     },
     "execution_count": 3,
     "metadata": {},
     "output_type": "execute_result"
    }
   ],
   "source": [
    "# filename is an passed arg so we use it\n",
    "with open(f'{filename}.txt') as f:\n",
    "    content = f.read()\n",
    "\n",
    "final_result = content\n",
    "final_result"
   ]
  },
  {
   "cell_type": "code",
   "execution_count": 4,
   "metadata": {
    "execution": {
     "iopub.execute_input": "2023-05-13T02:43:27.457778Z",
     "iopub.status.busy": "2023-05-13T02:43:27.457572Z",
     "iopub.status.idle": "2023-05-13T02:43:27.459880Z",
     "shell.execute_reply": "2023-05-13T02:43:27.459523Z"
    }
   },
   "outputs": [],
   "source": [
    "VALIDATE_FINAL_RESULT = True\n",
    "FINAL_RESULT = 'other content'\n",
    "\n",
    "if VALIDATE_FINAL_RESULT:\n",
    "    assert final_result == FINAL_RESULT"
   ]
  }
 ],
 "metadata": {
  "kernelspec": {
   "display_name": "askai",
   "language": "python",
   "name": "python3"
  },
  "language_info": {
   "codemirror_mode": {
    "name": "ipython",
    "version": 3
   },
   "file_extension": ".py",
   "mimetype": "text/x-python",
   "name": "python",
   "nbconvert_exporter": "python",
   "pygments_lexer": "ipython3",
   "version": "3.8.16"
  }
 },
 "nbformat": 4,
 "nbformat_minor": 2
}
