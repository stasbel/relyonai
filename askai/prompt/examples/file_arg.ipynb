{
 "cells": [
  {
   "cell_type": "code",
   "execution_count": 1,
   "metadata": {
    "execution": {
     "iopub.execute_input": "2023-05-13T19:04:07.732955Z",
     "iopub.status.busy": "2023-05-13T19:04:07.732354Z",
     "iopub.status.idle": "2023-05-13T19:04:07.749891Z",
     "shell.execute_reply": "2023-05-13T19:04:07.748804Z"
    }
   },
   "outputs": [],
   "source": [
    "TASK = 'read file filename.txt'\n",
    "filename = 'other'\n",
    "ARGS = {'filename': filename}"
   ]
  },
  {
   "cell_type": "code",
   "execution_count": 2,
   "metadata": {
    "execution": {
     "iopub.execute_input": "2023-05-13T19:04:07.754992Z",
     "iopub.status.busy": "2023-05-13T19:04:07.754607Z",
     "iopub.status.idle": "2023-05-13T19:04:07.968128Z",
     "shell.execute_reply": "2023-05-13T19:04:07.967727Z"
    }
   },
   "outputs": [],
   "source": [
    "del TASK\n",
    "\n",
    "assert 'gpt' not in ARGS\n",
    "globals = globals()\n",
    "for arg_k, arg_v in ARGS.items():\n",
    "    globals[arg_k] = arg_v\n",
    "del globals\n",
    "del ARGS\n",
    "\n",
    "from askai import gpt\n",
    "from askai.exceptions import AskAITaskError"
   ]
  },
  {
   "cell_type": "code",
   "execution_count": 3,
   "metadata": {
    "execution": {
     "iopub.execute_input": "2023-05-13T19:04:07.970510Z",
     "iopub.status.busy": "2023-05-13T19:04:07.970322Z",
     "iopub.status.idle": "2023-05-13T19:04:07.975305Z",
     "shell.execute_reply": "2023-05-13T19:04:07.974932Z"
    }
   },
   "outputs": [
    {
     "data": {
      "text/plain": [
       "'other content'"
      ]
     },
     "execution_count": 3,
     "metadata": {},
     "output_type": "execute_result"
    }
   ],
   "source": [
    "# filename is an passed arg so we use it\n",
    "with open(f'{filename}.txt') as f:\n",
    "    content = f.read()\n",
    "\n",
    "final_result = content\n",
    "final_result"
   ]
  },
  {
   "cell_type": "code",
   "execution_count": 4,
   "metadata": {
    "execution": {
     "iopub.execute_input": "2023-05-13T19:04:08.000799Z",
     "iopub.status.busy": "2023-05-13T19:04:08.000616Z",
     "iopub.status.idle": "2023-05-13T19:04:08.002865Z",
     "shell.execute_reply": "2023-05-13T19:04:08.002511Z"
    }
   },
   "outputs": [],
   "source": [
    "VALIDATE_FINAL_RESULT = True\n",
    "FINAL_RESULT = 'other content'\n",
    "\n",
    "if VALIDATE_FINAL_RESULT:\n",
    "    assert final_result == FINAL_RESULT"
   ]
  }
 ],
 "metadata": {
  "kernelspec": {
   "display_name": "askai",
   "language": "python",
   "name": "python3"
  },
  "language_info": {
   "codemirror_mode": {
    "name": "ipython",
    "version": 3
   },
   "file_extension": ".py",
   "mimetype": "text/x-python",
   "name": "python",
   "nbconvert_exporter": "python",
   "pygments_lexer": "ipython3",
   "version": "3.8.16"
  }
 },
 "nbformat": 4,
 "nbformat_minor": 2
}
