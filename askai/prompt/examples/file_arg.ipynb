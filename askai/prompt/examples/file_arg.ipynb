{
 "cells": [
  {
   "cell_type": "code",
   "execution_count": 1,
   "metadata": {
    "execution": {
     "iopub.execute_input": "2023-05-13T20:33:03.649980Z",
     "iopub.status.busy": "2023-05-13T20:33:03.649343Z",
     "iopub.status.idle": "2023-05-13T20:33:03.668892Z",
     "shell.execute_reply": "2023-05-13T20:33:03.667925Z"
    }
   },
   "outputs": [],
   "source": [
    "TASK = 'read file filename.txt'\n",
    "filename = 'other'\n",
    "ARGS = {'filename': filename}"
   ]
  },
  {
   "cell_type": "code",
   "execution_count": 2,
   "metadata": {
    "execution": {
     "iopub.execute_input": "2023-05-13T20:33:03.674105Z",
     "iopub.status.busy": "2023-05-13T20:33:03.673693Z",
     "iopub.status.idle": "2023-05-13T20:33:04.049765Z",
     "shell.execute_reply": "2023-05-13T20:33:04.049315Z"
    }
   },
   "outputs": [
    {
     "name": "stdout",
     "output_type": "stream",
     "text": [
      "TASK: \"\"\"\n",
      "read file filename.txt\n",
      "\"\"\"\n",
      "ARGS: filename\n",
      "- filename: \"\"\"\n",
      "object of type builtins.str\n",
      "\"\"\"\n"
     ]
    }
   ],
   "source": [
    "# print prompt as assistant sees it\n",
    "from askai import prompt\n",
    "chat = prompt.Chat()\n",
    "chat.add_user_task(TASK, **ARGS)\n",
    "print(chat.messages[-1]['content'])\n",
    "del chat\n",
    "del prompt\n",
    "# introduce ARGS as globals\n",
    "globals = globals()\n",
    "for arg_k, arg_v in ARGS.items():\n",
    "    globals[arg_k] = arg_v\n",
    "del globals\n",
    "# reverved keywords\n",
    "assert 'gpt' not in ARGS and 'AskAITaskError' not in ARGS\n",
    "\n",
    "del TASK\n",
    "del ARGS\n",
    "\n",
    "from askai import gpt\n",
    "from askai.exceptions import AskAITaskError"
   ]
  },
  {
   "cell_type": "code",
   "execution_count": 3,
   "metadata": {
    "execution": {
     "iopub.execute_input": "2023-05-13T20:33:04.076339Z",
     "iopub.status.busy": "2023-05-13T20:33:04.076114Z",
     "iopub.status.idle": "2023-05-13T20:33:04.081109Z",
     "shell.execute_reply": "2023-05-13T20:33:04.080797Z"
    }
   },
   "outputs": [
    {
     "data": {
      "text/plain": [
       "'other content'"
      ]
     },
     "execution_count": 3,
     "metadata": {},
     "output_type": "execute_result"
    }
   ],
   "source": [
    "# filename is an passed arg so we use it\n",
    "with open(f'{filename}.txt') as f:\n",
    "    content = f.read()\n",
    "\n",
    "final_result = content\n",
    "final_result"
   ]
  },
  {
   "cell_type": "code",
   "execution_count": 4,
   "metadata": {
    "execution": {
     "iopub.execute_input": "2023-05-13T20:33:04.082930Z",
     "iopub.status.busy": "2023-05-13T20:33:04.082788Z",
     "iopub.status.idle": "2023-05-13T20:33:04.084804Z",
     "shell.execute_reply": "2023-05-13T20:33:04.084473Z"
    }
   },
   "outputs": [],
   "source": [
    "VALIDATE_FINAL_RESULT = True\n",
    "FINAL_RESULT = 'other content'\n",
    "\n",
    "if VALIDATE_FINAL_RESULT:\n",
    "    assert final_result == FINAL_RESULT"
   ]
  }
 ],
 "metadata": {
  "kernelspec": {
   "display_name": "askai",
   "language": "python",
   "name": "python3"
  },
  "language_info": {
   "codemirror_mode": {
    "name": "ipython",
    "version": 3
   },
   "file_extension": ".py",
   "mimetype": "text/x-python",
   "name": "python",
   "nbconvert_exporter": "python",
   "pygments_lexer": "ipython3",
   "version": "3.8.16"
  }
 },
 "nbformat": 4,
 "nbformat_minor": 2
}
