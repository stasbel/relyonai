{
 "cells": [
  {
   "cell_type": "code",
   "execution_count": 1,
   "metadata": {
    "execution": {
     "iopub.execute_input": "2023-05-13T19:04:22.629937Z",
     "iopub.status.busy": "2023-05-13T19:04:22.629438Z",
     "iopub.status.idle": "2023-05-13T19:04:22.645886Z",
     "shell.execute_reply": "2023-05-13T19:04:22.644932Z"
    }
   },
   "outputs": [],
   "source": [
    "TASK = 'sum of two numbers x and y'\n",
    "x = 1\n",
    "ARGS = {'x': x}"
   ]
  },
  {
   "cell_type": "code",
   "execution_count": 2,
   "metadata": {
    "execution": {
     "iopub.execute_input": "2023-05-13T19:04:22.651205Z",
     "iopub.status.busy": "2023-05-13T19:04:22.650821Z",
     "iopub.status.idle": "2023-05-13T19:04:22.864214Z",
     "shell.execute_reply": "2023-05-13T19:04:22.863820Z"
    }
   },
   "outputs": [],
   "source": [
    "del TASK\n",
    "\n",
    "assert 'gpt' not in ARGS\n",
    "globals = globals()\n",
    "for arg_k, arg_v in ARGS.items():\n",
    "    globals[arg_k] = arg_v\n",
    "del globals\n",
    "del ARGS\n",
    "\n",
    "from askai import gpt\n",
    "from askai.exceptions import AskAITaskError"
   ]
  },
  {
   "cell_type": "code",
   "execution_count": 3,
   "metadata": {
    "execution": {
     "iopub.execute_input": "2023-05-13T19:04:22.866489Z",
     "iopub.status.busy": "2023-05-13T19:04:22.866298Z",
     "iopub.status.idle": "2023-05-13T19:04:22.870274Z",
     "shell.execute_reply": "2023-05-13T19:04:22.869907Z"
    }
   },
   "outputs": [
    {
     "data": {
      "text/plain": [
       "<function __main__.sum(y)>"
      ]
     },
     "execution_count": 3,
     "metadata": {},
     "output_type": "execute_result"
    }
   ],
   "source": [
    "def sum(y):\n",
    "    return x + y\n",
    "final_result = sum\n",
    "final_result"
   ]
  },
  {
   "cell_type": "code",
   "execution_count": 4,
   "metadata": {
    "execution": {
     "iopub.execute_input": "2023-05-13T19:04:22.896049Z",
     "iopub.status.busy": "2023-05-13T19:04:22.895864Z",
     "iopub.status.idle": "2023-05-13T19:04:22.897953Z",
     "shell.execute_reply": "2023-05-13T19:04:22.897583Z"
    }
   },
   "outputs": [],
   "source": [
    "VALIDATE_FINAL_RESULT = False"
   ]
  }
 ],
 "metadata": {
  "kernelspec": {
   "display_name": "askai",
   "language": "python",
   "name": "python3"
  },
  "language_info": {
   "codemirror_mode": {
    "name": "ipython",
    "version": 3
   },
   "file_extension": ".py",
   "mimetype": "text/x-python",
   "name": "python",
   "nbconvert_exporter": "python",
   "pygments_lexer": "ipython3",
   "version": "3.8.16"
  }
 },
 "nbformat": 4,
 "nbformat_minor": 2
}
