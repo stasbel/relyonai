{
 "cells": [
  {
   "cell_type": "code",
   "execution_count": 1,
   "metadata": {
    "execution": {
     "iopub.execute_input": "2023-05-13T02:43:42.112180Z",
     "iopub.status.busy": "2023-05-13T02:43:42.111726Z",
     "iopub.status.idle": "2023-05-13T02:43:42.123935Z",
     "shell.execute_reply": "2023-05-13T02:43:42.123188Z"
    }
   },
   "outputs": [],
   "source": [
    "TASK = 'sum of two numbers x and y'\n",
    "x = 1\n",
    "ARGS = {'x': x}"
   ]
  },
  {
   "cell_type": "code",
   "execution_count": 2,
   "metadata": {
    "execution": {
     "iopub.execute_input": "2023-05-13T02:43:42.128171Z",
     "iopub.status.busy": "2023-05-13T02:43:42.127855Z",
     "iopub.status.idle": "2023-05-13T02:43:42.344597Z",
     "shell.execute_reply": "2023-05-13T02:43:42.344185Z"
    }
   },
   "outputs": [],
   "source": [
    "del TASK\n",
    "\n",
    "assert 'gpt' not in ARGS\n",
    "globals = globals()\n",
    "for arg_k, arg_v in ARGS.items():\n",
    "    globals[arg_k] = arg_v\n",
    "del globals\n",
    "del ARGS\n",
    "\n",
    "from askai import gpt"
   ]
  },
  {
   "cell_type": "code",
   "execution_count": 3,
   "metadata": {
    "execution": {
     "iopub.execute_input": "2023-05-13T02:43:42.346953Z",
     "iopub.status.busy": "2023-05-13T02:43:42.346757Z",
     "iopub.status.idle": "2023-05-13T02:43:42.350802Z",
     "shell.execute_reply": "2023-05-13T02:43:42.350410Z"
    }
   },
   "outputs": [
    {
     "data": {
      "text/plain": [
       "<function __main__.sum(y)>"
      ]
     },
     "execution_count": 3,
     "metadata": {},
     "output_type": "execute_result"
    }
   ],
   "source": [
    "def sum(y):\n",
    "    return x + y\n",
    "final_result = sum\n",
    "final_result"
   ]
  },
  {
   "cell_type": "code",
   "execution_count": 4,
   "metadata": {
    "execution": {
     "iopub.execute_input": "2023-05-13T02:43:42.376475Z",
     "iopub.status.busy": "2023-05-13T02:43:42.376293Z",
     "iopub.status.idle": "2023-05-13T02:43:42.378310Z",
     "shell.execute_reply": "2023-05-13T02:43:42.377949Z"
    }
   },
   "outputs": [],
   "source": [
    "VALIDATE_FINAL_RESULT = False"
   ]
  }
 ],
 "metadata": {
  "kernelspec": {
   "display_name": "askai",
   "language": "python",
   "name": "python3"
  },
  "language_info": {
   "codemirror_mode": {
    "name": "ipython",
    "version": 3
   },
   "file_extension": ".py",
   "mimetype": "text/x-python",
   "name": "python",
   "nbconvert_exporter": "python",
   "pygments_lexer": "ipython3",
   "version": "3.8.16"
  }
 },
 "nbformat": 4,
 "nbformat_minor": 2
}
