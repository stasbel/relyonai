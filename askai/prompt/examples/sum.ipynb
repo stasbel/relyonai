{
 "cells": [
  {
   "cell_type": "code",
   "execution_count": 1,
   "metadata": {
    "execution": {
     "iopub.execute_input": "2023-05-13T20:33:17.850142Z",
     "iopub.status.busy": "2023-05-13T20:33:17.849489Z",
     "iopub.status.idle": "2023-05-13T20:33:17.864743Z",
     "shell.execute_reply": "2023-05-13T20:33:17.863776Z"
    }
   },
   "outputs": [],
   "source": [
    "TASK = 'sum of two numbers x and y'\n",
    "ARGS = {}"
   ]
  },
  {
   "cell_type": "code",
   "execution_count": 2,
   "metadata": {
    "execution": {
     "iopub.execute_input": "2023-05-13T20:33:17.869865Z",
     "iopub.status.busy": "2023-05-13T20:33:17.869487Z",
     "iopub.status.idle": "2023-05-13T20:33:18.088595Z",
     "shell.execute_reply": "2023-05-13T20:33:18.088185Z"
    }
   },
   "outputs": [
    {
     "name": "stdout",
     "output_type": "stream",
     "text": [
      "TASK: \"\"\"\n",
      "sum of two numbers x and y\n",
      "\"\"\"\n",
      "ARGS:\n"
     ]
    }
   ],
   "source": [
    "# print prompt as assistant sees it\n",
    "from askai import prompt\n",
    "chat = prompt.Chat()\n",
    "chat.add_user_task(TASK, **ARGS)\n",
    "print(chat.messages[-1]['content'])\n",
    "del chat\n",
    "del prompt\n",
    "# introduce ARGS as globals\n",
    "globals = globals()\n",
    "for arg_k, arg_v in ARGS.items():\n",
    "    globals[arg_k] = arg_v\n",
    "del globals\n",
    "# reverved keywords\n",
    "assert 'gpt' not in ARGS and 'AskAITaskError' not in ARGS\n",
    "\n",
    "del TASK\n",
    "del ARGS\n",
    "\n",
    "from askai import gpt\n",
    "from askai.exceptions import AskAITaskError"
   ]
  },
  {
   "cell_type": "code",
   "execution_count": 3,
   "metadata": {
    "execution": {
     "iopub.execute_input": "2023-05-13T20:33:18.114033Z",
     "iopub.status.busy": "2023-05-13T20:33:18.113799Z",
     "iopub.status.idle": "2023-05-13T20:33:18.118119Z",
     "shell.execute_reply": "2023-05-13T20:33:18.117749Z"
    }
   },
   "outputs": [
    {
     "data": {
      "text/plain": [
       "<function __main__.sum(x, y)>"
      ]
     },
     "execution_count": 3,
     "metadata": {},
     "output_type": "execute_result"
    }
   ],
   "source": [
    "def sum(x, y):\n",
    "    return x + y\n",
    "final_result = sum\n",
    "final_result"
   ]
  },
  {
   "cell_type": "code",
   "execution_count": 4,
   "metadata": {
    "execution": {
     "iopub.execute_input": "2023-05-13T20:33:18.120152Z",
     "iopub.status.busy": "2023-05-13T20:33:18.120006Z",
     "iopub.status.idle": "2023-05-13T20:33:18.122106Z",
     "shell.execute_reply": "2023-05-13T20:33:18.121703Z"
    }
   },
   "outputs": [],
   "source": [
    "VALIDATE_FINAL_RESULT = False"
   ]
  }
 ],
 "metadata": {
  "kernelspec": {
   "display_name": "askai",
   "language": "python",
   "name": "python3"
  },
  "language_info": {
   "codemirror_mode": {
    "name": "ipython",
    "version": 3
   },
   "file_extension": ".py",
   "mimetype": "text/x-python",
   "name": "python",
   "nbconvert_exporter": "python",
   "pygments_lexer": "ipython3",
   "version": "3.8.16"
  }
 },
 "nbformat": 4,
 "nbformat_minor": 2
}
