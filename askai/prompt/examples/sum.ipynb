{
 "cells": [
  {
   "cell_type": "code",
   "execution_count": 1,
   "metadata": {
    "execution": {
     "iopub.execute_input": "2023-05-13T02:43:39.771730Z",
     "iopub.status.busy": "2023-05-13T02:43:39.771085Z",
     "iopub.status.idle": "2023-05-13T02:43:39.783358Z",
     "shell.execute_reply": "2023-05-13T02:43:39.782638Z"
    }
   },
   "outputs": [],
   "source": [
    "TASK = 'sum of two numbers x and y'\n",
    "ARGS = {}"
   ]
  },
  {
   "cell_type": "code",
   "execution_count": 2,
   "metadata": {
    "execution": {
     "iopub.execute_input": "2023-05-13T02:43:39.787728Z",
     "iopub.status.busy": "2023-05-13T02:43:39.787407Z",
     "iopub.status.idle": "2023-05-13T02:43:40.002807Z",
     "shell.execute_reply": "2023-05-13T02:43:40.002379Z"
    }
   },
   "outputs": [],
   "source": [
    "del TASK\n",
    "\n",
    "assert 'gpt' not in ARGS\n",
    "globals = globals()\n",
    "for arg_k, arg_v in ARGS.items():\n",
    "    globals[arg_k] = arg_v\n",
    "del globals\n",
    "del ARGS\n",
    "\n",
    "from askai import gpt"
   ]
  },
  {
   "cell_type": "code",
   "execution_count": 3,
   "metadata": {
    "execution": {
     "iopub.execute_input": "2023-05-13T02:43:40.005148Z",
     "iopub.status.busy": "2023-05-13T02:43:40.004955Z",
     "iopub.status.idle": "2023-05-13T02:43:40.008913Z",
     "shell.execute_reply": "2023-05-13T02:43:40.008537Z"
    }
   },
   "outputs": [
    {
     "data": {
      "text/plain": [
       "<function __main__.sum(x, y)>"
      ]
     },
     "execution_count": 3,
     "metadata": {},
     "output_type": "execute_result"
    }
   ],
   "source": [
    "def sum(x, y):\n",
    "    return x + y\n",
    "final_result = sum\n",
    "final_result"
   ]
  },
  {
   "cell_type": "code",
   "execution_count": 4,
   "metadata": {
    "execution": {
     "iopub.execute_input": "2023-05-13T02:43:40.034444Z",
     "iopub.status.busy": "2023-05-13T02:43:40.034257Z",
     "iopub.status.idle": "2023-05-13T02:43:40.036407Z",
     "shell.execute_reply": "2023-05-13T02:43:40.036071Z"
    }
   },
   "outputs": [],
   "source": [
    "VALIDATE_FINAL_RESULT = False"
   ]
  }
 ],
 "metadata": {
  "kernelspec": {
   "display_name": "askai",
   "language": "python",
   "name": "python3"
  },
  "language_info": {
   "codemirror_mode": {
    "name": "ipython",
    "version": 3
   },
   "file_extension": ".py",
   "mimetype": "text/x-python",
   "name": "python",
   "nbconvert_exporter": "python",
   "pygments_lexer": "ipython3",
   "version": "3.8.16"
  }
 },
 "nbformat": 4,
 "nbformat_minor": 2
}
