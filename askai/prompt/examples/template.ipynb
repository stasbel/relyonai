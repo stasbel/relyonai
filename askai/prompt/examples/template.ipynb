{
 "cells": [
  {
   "cell_type": "code",
   "execution_count": 1,
   "metadata": {
    "execution": {
     "iopub.execute_input": "2023-05-13T19:04:34.757054Z",
     "iopub.status.busy": "2023-05-13T19:04:34.756486Z",
     "iopub.status.idle": "2023-05-13T19:04:34.773725Z",
     "shell.execute_reply": "2023-05-13T19:04:34.772853Z"
    }
   },
   "outputs": [],
   "source": [
    "# TODO remove in real example\n",
    "# notebooks is designed in such way that:\n",
    "# 1) could be run conviently in jupyter notebook\n",
    "# 2) could be run conviently from python with exec\n",
    "\n",
    "TASK = 'take d variable and sum with 42'\n",
    "d = 10\n",
    "ARGS = {'d': d}"
   ]
  },
  {
   "cell_type": "code",
   "execution_count": 2,
   "metadata": {
    "execution": {
     "iopub.execute_input": "2023-05-13T19:04:34.778747Z",
     "iopub.status.busy": "2023-05-13T19:04:34.778355Z",
     "iopub.status.idle": "2023-05-13T19:04:34.996215Z",
     "shell.execute_reply": "2023-05-13T19:04:34.995806Z"
    }
   },
   "outputs": [],
   "source": [
    "# TODO remove in real example\n",
    "# that way, we fix up the global context:\n",
    "# 1) introduce args for reference in actual code (consistent with py runtime)\n",
    "# 2) delete all unnecessary variables to remove pollution\n",
    "# 3) jupyter global vars (like d above) still allow for easier coding\n",
    "# there are still number of globals left (introduced by the jupyter)\n",
    "# however, let's not overengineer stuff and forget about them 😀\n",
    "\n",
    "del TASK\n",
    "\n",
    "assert 'gpt' not in ARGS\n",
    "globals = globals()\n",
    "for arg_k, arg_v in ARGS.items():\n",
    "    globals[arg_k] = arg_v\n",
    "del globals\n",
    "del ARGS\n",
    "\n",
    "from askai import gpt\n",
    "from askai.exceptions import AskAITaskError"
   ]
  },
  {
   "cell_type": "code",
   "execution_count": 3,
   "metadata": {
    "execution": {
     "iopub.execute_input": "2023-05-13T19:04:34.998623Z",
     "iopub.status.busy": "2023-05-13T19:04:34.998423Z",
     "iopub.status.idle": "2023-05-13T19:04:35.002268Z",
     "shell.execute_reply": "2023-05-13T19:04:35.001907Z"
    }
   },
   "outputs": [
    {
     "data": {
      "text/plain": [
       "52"
      ]
     },
     "execution_count": 3,
     "metadata": {},
     "output_type": "execute_result"
    }
   ],
   "source": [
    "final_result = d + 42\n",
    "final_result"
   ]
  },
  {
   "cell_type": "code",
   "execution_count": 4,
   "metadata": {
    "execution": {
     "iopub.execute_input": "2023-05-13T19:04:35.027692Z",
     "iopub.status.busy": "2023-05-13T19:04:35.027509Z",
     "iopub.status.idle": "2023-05-13T19:04:35.029756Z",
     "shell.execute_reply": "2023-05-13T19:04:35.029377Z"
    }
   },
   "outputs": [],
   "source": [
    "# TODO remove in real example\n",
    "# this is just the simplest way for validation\n",
    "# you can go ahead and use any other\n",
    "\n",
    "VALIDATE_FINAL_RESULT = True\n",
    "FINAL_RESULT = 52\n",
    "\n",
    "if VALIDATE_FINAL_RESULT:\n",
    "    assert final_result == FINAL_RESULT"
   ]
  }
 ],
 "metadata": {
  "kernelspec": {
   "display_name": "askai",
   "language": "python",
   "name": "python3"
  },
  "language_info": {
   "codemirror_mode": {
    "name": "ipython",
    "version": 3
   },
   "file_extension": ".py",
   "mimetype": "text/x-python",
   "name": "python",
   "nbconvert_exporter": "python",
   "pygments_lexer": "ipython3",
   "version": "3.8.16"
  }
 },
 "nbformat": 4,
 "nbformat_minor": 2
}
