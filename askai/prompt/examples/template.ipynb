{
 "cells": [
  {
   "cell_type": "code",
   "execution_count": 1,
   "metadata": {
    "execution": {
     "iopub.execute_input": "2023-05-13T20:33:33.983104Z",
     "iopub.status.busy": "2023-05-13T20:33:33.982530Z",
     "iopub.status.idle": "2023-05-13T20:33:33.996325Z",
     "shell.execute_reply": "2023-05-13T20:33:33.995659Z"
    }
   },
   "outputs": [],
   "source": [
    "# TODO remove in real example\n",
    "# notebooks is designed in such way that:\n",
    "# 1) could be run conviently in jupyter notebook\n",
    "# 2) could be run conviently from python with exec\n",
    "\n",
    "TASK = 'take d variable and sum with 42'\n",
    "d = 10\n",
    "ARGS = {'d': d}"
   ]
  },
  {
   "cell_type": "code",
   "execution_count": 2,
   "metadata": {
    "execution": {
     "iopub.execute_input": "2023-05-13T20:33:33.999840Z",
     "iopub.status.busy": "2023-05-13T20:33:33.999420Z",
     "iopub.status.idle": "2023-05-13T20:33:34.382468Z",
     "shell.execute_reply": "2023-05-13T20:33:34.381946Z"
    }
   },
   "outputs": [
    {
     "name": "stdout",
     "output_type": "stream",
     "text": [
      "TASK: \"\"\"\n",
      "take d variable and sum with 42\n",
      "\"\"\"\n",
      "ARGS: d\n",
      "- d: \"\"\"\n",
      "object of type builtins.int\n",
      "\"\"\"\n"
     ]
    }
   ],
   "source": [
    "# TODO remove in real example\n",
    "# that way, we fix up the global context:\n",
    "# 1) introduce args for reference in actual code (consistent with py runtime)\n",
    "# 2) delete all unnecessary variables to remove pollution\n",
    "# 3) jupyter global vars (like d above) still allow for easier coding\n",
    "# there are still number of globals left (introduced by the jupyter)\n",
    "# however, let's not overengineer stuff and forget about them 😀\n",
    "\n",
    "# print prompt as assistant sees it\n",
    "from askai import prompt\n",
    "chat = prompt.Chat()\n",
    "chat.add_user_task(TASK, **ARGS)\n",
    "print(chat.messages[-1]['content'])\n",
    "del chat\n",
    "del prompt\n",
    "# introduce ARGS as globals\n",
    "globals = globals()\n",
    "for arg_k, arg_v in ARGS.items():\n",
    "    globals[arg_k] = arg_v\n",
    "del globals\n",
    "# reverved keywords\n",
    "assert 'gpt' not in ARGS and 'AskAITaskError' not in ARGS\n",
    "\n",
    "del TASK\n",
    "del ARGS\n",
    "\n",
    "from askai import gpt\n",
    "from askai.exceptions import AskAITaskError"
   ]
  },
  {
   "cell_type": "code",
   "execution_count": 3,
   "metadata": {
    "execution": {
     "iopub.execute_input": "2023-05-13T20:33:34.410323Z",
     "iopub.status.busy": "2023-05-13T20:33:34.410036Z",
     "iopub.status.idle": "2023-05-13T20:33:34.414334Z",
     "shell.execute_reply": "2023-05-13T20:33:34.413792Z"
    }
   },
   "outputs": [
    {
     "data": {
      "text/plain": [
       "52"
      ]
     },
     "execution_count": 3,
     "metadata": {},
     "output_type": "execute_result"
    }
   ],
   "source": [
    "final_result = d + 42\n",
    "final_result"
   ]
  },
  {
   "cell_type": "code",
   "execution_count": 4,
   "metadata": {
    "execution": {
     "iopub.execute_input": "2023-05-13T20:33:34.416315Z",
     "iopub.status.busy": "2023-05-13T20:33:34.416190Z",
     "iopub.status.idle": "2023-05-13T20:33:34.418397Z",
     "shell.execute_reply": "2023-05-13T20:33:34.418096Z"
    }
   },
   "outputs": [],
   "source": [
    "# TODO remove in real example\n",
    "# this is just the simplest way for validation\n",
    "# you can go ahead and use any other\n",
    "\n",
    "VALIDATE_FINAL_RESULT = True\n",
    "FINAL_RESULT = 52\n",
    "\n",
    "if VALIDATE_FINAL_RESULT:\n",
    "    assert final_result == FINAL_RESULT"
   ]
  }
 ],
 "metadata": {
  "kernelspec": {
   "display_name": "askai",
   "language": "python",
   "name": "python3"
  },
  "language_info": {
   "codemirror_mode": {
    "name": "ipython",
    "version": 3
   },
   "file_extension": ".py",
   "mimetype": "text/x-python",
   "name": "python",
   "nbconvert_exporter": "python",
   "pygments_lexer": "ipython3",
   "version": "3.8.16"
  }
 },
 "nbformat": 4,
 "nbformat_minor": 2
}
