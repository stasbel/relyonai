{
 "cells": [
  {
   "cell_type": "code",
   "execution_count": 1,
   "metadata": {
    "execution": {
     "iopub.execute_input": "2023-05-13T02:43:29.769477Z",
     "iopub.status.busy": "2023-05-13T02:43:29.768820Z",
     "iopub.status.idle": "2023-05-13T02:43:29.786291Z",
     "shell.execute_reply": "2023-05-13T02:43:29.785248Z"
    }
   },
   "outputs": [],
   "source": [
    "TASK = 'read file filename.txt'\n",
    "ARGS = {}"
   ]
  },
  {
   "cell_type": "code",
   "execution_count": 2,
   "metadata": {
    "execution": {
     "iopub.execute_input": "2023-05-13T02:43:29.791597Z",
     "iopub.status.busy": "2023-05-13T02:43:29.791191Z",
     "iopub.status.idle": "2023-05-13T02:43:30.010813Z",
     "shell.execute_reply": "2023-05-13T02:43:30.010241Z"
    }
   },
   "outputs": [],
   "source": [
    "del TASK\n",
    "\n",
    "assert 'gpt' not in ARGS\n",
    "globals = globals()\n",
    "for arg_k, arg_v in ARGS.items():\n",
    "    globals[arg_k] = arg_v\n",
    "del globals\n",
    "del ARGS\n",
    "\n",
    "from askai import gpt"
   ]
  },
  {
   "cell_type": "code",
   "execution_count": 3,
   "metadata": {
    "execution": {
     "iopub.execute_input": "2023-05-13T02:43:30.013435Z",
     "iopub.status.busy": "2023-05-13T02:43:30.013225Z",
     "iopub.status.idle": "2023-05-13T02:43:30.017949Z",
     "shell.execute_reply": "2023-05-13T02:43:30.017495Z"
    }
   },
   "outputs": [
    {
     "data": {
      "text/plain": [
       "'filename content'"
      ]
     },
     "execution_count": 3,
     "metadata": {},
     "output_type": "execute_result"
    }
   ],
   "source": [
    "# filename isn't passed so we treat is as a constant\n",
    "with open(f'filename.txt') as f:\n",
    "    content = f.read()\n",
    "\n",
    "final_result = content\n",
    "final_result"
   ]
  },
  {
   "cell_type": "code",
   "execution_count": 4,
   "metadata": {
    "execution": {
     "iopub.execute_input": "2023-05-13T02:43:30.044404Z",
     "iopub.status.busy": "2023-05-13T02:43:30.044194Z",
     "iopub.status.idle": "2023-05-13T02:43:30.046993Z",
     "shell.execute_reply": "2023-05-13T02:43:30.046507Z"
    }
   },
   "outputs": [],
   "source": [
    "VALIDATE_FINAL_RESULT = True\n",
    "FINAL_RESULT = 'filename content'\n",
    "\n",
    "if VALIDATE_FINAL_RESULT:\n",
    "    assert final_result == FINAL_RESULT"
   ]
  }
 ],
 "metadata": {
  "kernelspec": {
   "display_name": "askai",
   "language": "python",
   "name": "python3"
  },
  "language_info": {
   "codemirror_mode": {
    "name": "ipython",
    "version": 3
   },
   "file_extension": ".py",
   "mimetype": "text/x-python",
   "name": "python",
   "nbconvert_exporter": "python",
   "pygments_lexer": "ipython3",
   "version": "3.8.16"
  }
 },
 "nbformat": 4,
 "nbformat_minor": 2
}
