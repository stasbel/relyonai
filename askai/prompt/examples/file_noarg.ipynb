{
 "cells": [
  {
   "cell_type": "code",
   "execution_count": 1,
   "metadata": {
    "execution": {
     "iopub.execute_input": "2023-05-13T19:04:10.290502Z",
     "iopub.status.busy": "2023-05-13T19:04:10.289990Z",
     "iopub.status.idle": "2023-05-13T19:04:10.305867Z",
     "shell.execute_reply": "2023-05-13T19:04:10.304886Z"
    }
   },
   "outputs": [],
   "source": [
    "TASK = 'read file filename.txt'\n",
    "ARGS = {}"
   ]
  },
  {
   "cell_type": "code",
   "execution_count": 2,
   "metadata": {
    "execution": {
     "iopub.execute_input": "2023-05-13T19:04:10.310949Z",
     "iopub.status.busy": "2023-05-13T19:04:10.310606Z",
     "iopub.status.idle": "2023-05-13T19:04:10.520684Z",
     "shell.execute_reply": "2023-05-13T19:04:10.520270Z"
    }
   },
   "outputs": [],
   "source": [
    "del TASK\n",
    "\n",
    "assert 'gpt' not in ARGS\n",
    "globals = globals()\n",
    "for arg_k, arg_v in ARGS.items():\n",
    "    globals[arg_k] = arg_v\n",
    "del globals\n",
    "del ARGS\n",
    "\n",
    "from askai import gpt\n",
    "from askai.exceptions import AskAITaskError"
   ]
  },
  {
   "cell_type": "code",
   "execution_count": 3,
   "metadata": {
    "execution": {
     "iopub.execute_input": "2023-05-13T19:04:10.522960Z",
     "iopub.status.busy": "2023-05-13T19:04:10.522772Z",
     "iopub.status.idle": "2023-05-13T19:04:10.527546Z",
     "shell.execute_reply": "2023-05-13T19:04:10.527191Z"
    }
   },
   "outputs": [
    {
     "data": {
      "text/plain": [
       "'filename content'"
      ]
     },
     "execution_count": 3,
     "metadata": {},
     "output_type": "execute_result"
    }
   ],
   "source": [
    "# filename isn't passed so we treat is as a constant\n",
    "with open(f'filename.txt') as f:\n",
    "    content = f.read()\n",
    "\n",
    "final_result = content\n",
    "final_result"
   ]
  },
  {
   "cell_type": "code",
   "execution_count": 4,
   "metadata": {
    "execution": {
     "iopub.execute_input": "2023-05-13T19:04:10.552504Z",
     "iopub.status.busy": "2023-05-13T19:04:10.552306Z",
     "iopub.status.idle": "2023-05-13T19:04:10.554576Z",
     "shell.execute_reply": "2023-05-13T19:04:10.554228Z"
    }
   },
   "outputs": [],
   "source": [
    "VALIDATE_FINAL_RESULT = True\n",
    "FINAL_RESULT = 'filename content'\n",
    "\n",
    "if VALIDATE_FINAL_RESULT:\n",
    "    assert final_result == FINAL_RESULT"
   ]
  }
 ],
 "metadata": {
  "kernelspec": {
   "display_name": "askai",
   "language": "python",
   "name": "python3"
  },
  "language_info": {
   "codemirror_mode": {
    "name": "ipython",
    "version": 3
   },
   "file_extension": ".py",
   "mimetype": "text/x-python",
   "name": "python",
   "nbconvert_exporter": "python",
   "pygments_lexer": "ipython3",
   "version": "3.8.16"
  }
 },
 "nbformat": 4,
 "nbformat_minor": 2
}
