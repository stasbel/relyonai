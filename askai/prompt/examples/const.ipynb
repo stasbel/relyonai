{
 "cells": [
  {
   "cell_type": "code",
   "execution_count": 1,
   "metadata": {
    "execution": {
     "iopub.execute_input": "2023-05-13T02:43:22.215111Z",
     "iopub.status.busy": "2023-05-13T02:43:22.214602Z",
     "iopub.status.idle": "2023-05-13T02:43:22.230778Z",
     "shell.execute_reply": "2023-05-13T02:43:22.229375Z"
    }
   },
   "outputs": [],
   "source": [
    "TASK = 'number of seconds in 10 years'\n",
    "ARGS = {}"
   ]
  },
  {
   "cell_type": "code",
   "execution_count": 2,
   "metadata": {
    "execution": {
     "iopub.execute_input": "2023-05-13T02:43:22.238334Z",
     "iopub.status.busy": "2023-05-13T02:43:22.237809Z",
     "iopub.status.idle": "2023-05-13T02:43:22.462946Z",
     "shell.execute_reply": "2023-05-13T02:43:22.462547Z"
    }
   },
   "outputs": [],
   "source": [
    "del TASK\n",
    "\n",
    "assert 'gpt' not in ARGS\n",
    "globals = globals()\n",
    "for arg_k, arg_v in ARGS.items():\n",
    "    globals[arg_k] = arg_v\n",
    "del globals\n",
    "del ARGS\n",
    "\n",
    "from askai import gpt"
   ]
  },
  {
   "cell_type": "code",
   "execution_count": 3,
   "metadata": {
    "execution": {
     "iopub.execute_input": "2023-05-13T02:43:22.465434Z",
     "iopub.status.busy": "2023-05-13T02:43:22.465169Z",
     "iopub.status.idle": "2023-05-13T02:43:22.469883Z",
     "shell.execute_reply": "2023-05-13T02:43:22.469492Z"
    }
   },
   "outputs": [
    {
     "data": {
      "text/plain": [
       "315360000"
      ]
     },
     "execution_count": 3,
     "metadata": {},
     "output_type": "execute_result"
    }
   ],
   "source": [
    "final_result = 60 * 60 * 24 * 365 * 10\n",
    "final_result"
   ]
  },
  {
   "cell_type": "code",
   "execution_count": 4,
   "metadata": {
    "execution": {
     "iopub.execute_input": "2023-05-13T02:43:22.497056Z",
     "iopub.status.busy": "2023-05-13T02:43:22.496865Z",
     "iopub.status.idle": "2023-05-13T02:43:22.499162Z",
     "shell.execute_reply": "2023-05-13T02:43:22.498777Z"
    }
   },
   "outputs": [],
   "source": [
    "VALIDATE_FINAL_RESULT = True\n",
    "FINAL_RESULT = 315_360_000\n",
    "\n",
    "if VALIDATE_FINAL_RESULT:\n",
    "    assert final_result == FINAL_RESULT"
   ]
  }
 ],
 "metadata": {
  "kernelspec": {
   "display_name": "askai",
   "language": "python",
   "name": "python3"
  },
  "language_info": {
   "codemirror_mode": {
    "name": "ipython",
    "version": 3
   },
   "file_extension": ".py",
   "mimetype": "text/x-python",
   "name": "python",
   "nbconvert_exporter": "python",
   "pygments_lexer": "ipython3",
   "version": "3.8.16"
  }
 },
 "nbformat": 4,
 "nbformat_minor": 2
}
