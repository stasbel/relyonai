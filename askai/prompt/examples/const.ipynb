{
 "cells": [
  {
   "cell_type": "code",
   "execution_count": 1,
   "metadata": {
    "execution": {
     "iopub.execute_input": "2023-05-13T19:04:02.796491Z",
     "iopub.status.busy": "2023-05-13T19:04:02.795926Z",
     "iopub.status.idle": "2023-05-13T19:04:02.809008Z",
     "shell.execute_reply": "2023-05-13T19:04:02.808630Z"
    }
   },
   "outputs": [],
   "source": [
    "TASK = 'number of seconds in 10 years'\n",
    "ARGS = {}"
   ]
  },
  {
   "cell_type": "code",
   "execution_count": 2,
   "metadata": {
    "execution": {
     "iopub.execute_input": "2023-05-13T19:04:02.811252Z",
     "iopub.status.busy": "2023-05-13T19:04:02.811091Z",
     "iopub.status.idle": "2023-05-13T19:04:03.032841Z",
     "shell.execute_reply": "2023-05-13T19:04:03.032414Z"
    }
   },
   "outputs": [],
   "source": [
    "del TASK\n",
    "\n",
    "assert 'gpt' not in ARGS\n",
    "globals = globals()\n",
    "for arg_k, arg_v in ARGS.items():\n",
    "    globals[arg_k] = arg_v\n",
    "del globals\n",
    "del ARGS\n",
    "\n",
    "from askai import gpt\n",
    "from askai.exceptions import AskAITaskError"
   ]
  },
  {
   "cell_type": "code",
   "execution_count": 3,
   "metadata": {
    "execution": {
     "iopub.execute_input": "2023-05-13T19:04:03.035476Z",
     "iopub.status.busy": "2023-05-13T19:04:03.035270Z",
     "iopub.status.idle": "2023-05-13T19:04:03.039948Z",
     "shell.execute_reply": "2023-05-13T19:04:03.039081Z"
    }
   },
   "outputs": [
    {
     "data": {
      "text/plain": [
       "315360000"
      ]
     },
     "execution_count": 3,
     "metadata": {},
     "output_type": "execute_result"
    }
   ],
   "source": [
    "final_result = 60 * 60 * 24 * 365 * 10\n",
    "final_result"
   ]
  },
  {
   "cell_type": "code",
   "execution_count": 4,
   "metadata": {
    "execution": {
     "iopub.execute_input": "2023-05-13T19:04:03.069003Z",
     "iopub.status.busy": "2023-05-13T19:04:03.068796Z",
     "iopub.status.idle": "2023-05-13T19:04:03.071129Z",
     "shell.execute_reply": "2023-05-13T19:04:03.070762Z"
    }
   },
   "outputs": [],
   "source": [
    "VALIDATE_FINAL_RESULT = True\n",
    "FINAL_RESULT = 315_360_000\n",
    "\n",
    "if VALIDATE_FINAL_RESULT:\n",
    "    assert final_result == FINAL_RESULT"
   ]
  }
 ],
 "metadata": {
  "kernelspec": {
   "display_name": "askai",
   "language": "python",
   "name": "python3"
  },
  "language_info": {
   "codemirror_mode": {
    "name": "ipython",
    "version": 3
   },
   "file_extension": ".py",
   "mimetype": "text/x-python",
   "name": "python",
   "nbconvert_exporter": "python",
   "pygments_lexer": "ipython3",
   "version": "3.8.16"
  }
 },
 "nbformat": 4,
 "nbformat_minor": 2
}
