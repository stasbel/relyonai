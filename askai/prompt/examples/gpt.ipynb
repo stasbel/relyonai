{
 "cells": [
  {
   "cell_type": "code",
   "execution_count": 1,
   "metadata": {
    "execution": {
     "iopub.execute_input": "2023-05-13T02:43:32.165413Z",
     "iopub.status.busy": "2023-05-13T02:43:32.163873Z",
     "iopub.status.idle": "2023-05-13T02:43:32.180908Z",
     "shell.execute_reply": "2023-05-13T02:43:32.179996Z"
    }
   },
   "outputs": [],
   "source": [
    "TASK = 'read filename.txt and translate it to french'\n",
    "ARGS = {}"
   ]
  },
  {
   "cell_type": "code",
   "execution_count": 2,
   "metadata": {
    "execution": {
     "iopub.execute_input": "2023-05-13T02:43:32.186190Z",
     "iopub.status.busy": "2023-05-13T02:43:32.185738Z",
     "iopub.status.idle": "2023-05-13T02:43:32.403876Z",
     "shell.execute_reply": "2023-05-13T02:43:32.403448Z"
    }
   },
   "outputs": [],
   "source": [
    "del TASK\n",
    "\n",
    "assert 'gpt' not in ARGS\n",
    "globals = globals()\n",
    "for arg_k, arg_v in ARGS.items():\n",
    "    globals[arg_k] = arg_v\n",
    "del globals\n",
    "del ARGS\n",
    "\n",
    "from askai import gpt"
   ]
  },
  {
   "cell_type": "code",
   "execution_count": 3,
   "metadata": {
    "execution": {
     "iopub.execute_input": "2023-05-13T02:43:32.406419Z",
     "iopub.status.busy": "2023-05-13T02:43:32.406222Z",
     "iopub.status.idle": "2023-05-13T02:43:32.411383Z",
     "shell.execute_reply": "2023-05-13T02:43:32.411011Z"
    }
   },
   "outputs": [
    {
     "data": {
      "text/plain": [
       "'nom de fichier contenu'"
      ]
     },
     "execution_count": 3,
     "metadata": {},
     "output_type": "execute_result"
    }
   ],
   "source": [
    "with open(f'filename.txt') as f:\n",
    "    content = f.read()\n",
    "\n",
    "# task mentioned generic translation, that's what chat-gpt good at\n",
    "# so we invoke it from the code with global `gpt` func\n",
    "content_fr = gpt(f'Translate the following text to French: \"\"\"\\n{content}\\n\"\"\"')\n",
    "\n",
    "final_result = content_fr\n",
    "final_result"
   ]
  },
  {
   "cell_type": "code",
   "execution_count": 4,
   "metadata": {
    "execution": {
     "iopub.execute_input": "2023-05-13T02:43:32.437151Z",
     "iopub.status.busy": "2023-05-13T02:43:32.436967Z",
     "iopub.status.idle": "2023-05-13T02:43:32.439246Z",
     "shell.execute_reply": "2023-05-13T02:43:32.438848Z"
    }
   },
   "outputs": [],
   "source": [
    "VALIDATE_FINAL_RESULT = True\n",
    "\n",
    "if VALIDATE_FINAL_RESULT:\n",
    "    assert 'fichier' in final_result\n",
    "    assert 'contenu' in final_result"
   ]
  }
 ],
 "metadata": {
  "kernelspec": {
   "display_name": "askai",
   "language": "python",
   "name": "python3"
  },
  "language_info": {
   "codemirror_mode": {
    "name": "ipython",
    "version": 3
   },
   "file_extension": ".py",
   "mimetype": "text/x-python",
   "name": "python",
   "nbconvert_exporter": "python",
   "pygments_lexer": "ipython3",
   "version": "3.8.16"
  }
 },
 "nbformat": 4,
 "nbformat_minor": 2
}
