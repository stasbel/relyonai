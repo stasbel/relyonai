{
 "cells": [
  {
   "cell_type": "code",
   "execution_count": 1,
   "metadata": {
    "execution": {
     "iopub.execute_input": "2023-05-13T20:33:09.909292Z",
     "iopub.status.busy": "2023-05-13T20:33:09.907735Z",
     "iopub.status.idle": "2023-05-13T20:33:09.919825Z",
     "shell.execute_reply": "2023-05-13T20:33:09.918817Z"
    }
   },
   "outputs": [],
   "source": [
    "TASK = 'read filename.txt and translate it to french'\n",
    "ARGS = {}"
   ]
  },
  {
   "cell_type": "code",
   "execution_count": 2,
   "metadata": {
    "execution": {
     "iopub.execute_input": "2023-05-13T20:33:09.923147Z",
     "iopub.status.busy": "2023-05-13T20:33:09.922894Z",
     "iopub.status.idle": "2023-05-13T20:33:10.192529Z",
     "shell.execute_reply": "2023-05-13T20:33:10.192080Z"
    }
   },
   "outputs": [
    {
     "name": "stdout",
     "output_type": "stream",
     "text": [
      "TASK: \"\"\"\n",
      "read filename.txt and translate it to french\n",
      "\"\"\"\n",
      "ARGS:\n"
     ]
    }
   ],
   "source": [
    "# print prompt as assistant sees it\n",
    "from askai import prompt\n",
    "chat = prompt.Chat()\n",
    "chat.add_user_task(TASK, **ARGS)\n",
    "print(chat.messages[-1]['content'])\n",
    "del chat\n",
    "del prompt\n",
    "# introduce ARGS as globals\n",
    "globals = globals()\n",
    "for arg_k, arg_v in ARGS.items():\n",
    "    globals[arg_k] = arg_v\n",
    "del globals\n",
    "# reverved keywords\n",
    "assert 'gpt' not in ARGS and 'AskAITaskError' not in ARGS\n",
    "\n",
    "del TASK\n",
    "del ARGS\n",
    "\n",
    "from askai import gpt\n",
    "from askai.exceptions import AskAITaskError"
   ]
  },
  {
   "cell_type": "code",
   "execution_count": 3,
   "metadata": {
    "execution": {
     "iopub.execute_input": "2023-05-13T20:33:10.223846Z",
     "iopub.status.busy": "2023-05-13T20:33:10.223386Z",
     "iopub.status.idle": "2023-05-13T20:33:10.230144Z",
     "shell.execute_reply": "2023-05-13T20:33:10.229704Z"
    }
   },
   "outputs": [
    {
     "data": {
      "text/plain": [
       "'nom de fichier contenu'"
      ]
     },
     "execution_count": 3,
     "metadata": {},
     "output_type": "execute_result"
    }
   ],
   "source": [
    "with open(f'filename.txt') as f:\n",
    "    content = f.read()\n",
    "\n",
    "# task mentioned generic translation, that's what chat-gpt good at\n",
    "# so we invoke it from the code with global `gpt` func\n",
    "content_fr = gpt(f'Translate the following text to French: \"\"\"\\n{content}\\n\"\"\"')\n",
    "\n",
    "final_result = content_fr\n",
    "final_result"
   ]
  },
  {
   "cell_type": "code",
   "execution_count": 4,
   "metadata": {
    "execution": {
     "iopub.execute_input": "2023-05-13T20:33:10.232520Z",
     "iopub.status.busy": "2023-05-13T20:33:10.232310Z",
     "iopub.status.idle": "2023-05-13T20:33:10.235207Z",
     "shell.execute_reply": "2023-05-13T20:33:10.234778Z"
    }
   },
   "outputs": [],
   "source": [
    "VALIDATE_FINAL_RESULT = True\n",
    "\n",
    "if VALIDATE_FINAL_RESULT:\n",
    "    assert 'fichier' in final_result\n",
    "    assert 'contenu' in final_result"
   ]
  }
 ],
 "metadata": {
  "kernelspec": {
   "display_name": "askai",
   "language": "python",
   "name": "python3"
  },
  "language_info": {
   "codemirror_mode": {
    "name": "ipython",
    "version": 3
   },
   "file_extension": ".py",
   "mimetype": "text/x-python",
   "name": "python",
   "nbconvert_exporter": "python",
   "pygments_lexer": "ipython3",
   "version": "3.8.16"
  }
 },
 "nbformat": 4,
 "nbformat_minor": 2
}
