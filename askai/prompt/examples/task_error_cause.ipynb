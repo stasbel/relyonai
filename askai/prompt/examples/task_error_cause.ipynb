{
 "cells": [
  {
   "cell_type": "code",
   "execution_count": 1,
   "metadata": {
    "execution": {
     "iopub.execute_input": "2023-05-13T20:33:31.114854Z",
     "iopub.status.busy": "2023-05-13T20:33:31.114661Z",
     "iopub.status.idle": "2023-05-13T20:33:31.123322Z",
     "shell.execute_reply": "2023-05-13T20:33:31.122598Z"
    }
   },
   "outputs": [],
   "source": [
    "TASK = 'read file notexists.txt'\n",
    "ARGS = {}"
   ]
  },
  {
   "cell_type": "code",
   "execution_count": 2,
   "metadata": {
    "execution": {
     "iopub.execute_input": "2023-05-13T20:33:31.131634Z",
     "iopub.status.busy": "2023-05-13T20:33:31.131116Z",
     "iopub.status.idle": "2023-05-13T20:33:31.411750Z",
     "shell.execute_reply": "2023-05-13T20:33:31.411047Z"
    }
   },
   "outputs": [
    {
     "name": "stdout",
     "output_type": "stream",
     "text": [
      "TASK: \"\"\"\n",
      "read file notexists.txt\n",
      "\"\"\"\n",
      "ARGS:\n"
     ]
    }
   ],
   "source": [
    "# print prompt as assistant sees it\n",
    "from askai import prompt\n",
    "chat = prompt.Chat()\n",
    "chat.add_user_task(TASK, **ARGS)\n",
    "print(chat.messages[-1]['content'])\n",
    "del chat\n",
    "del prompt\n",
    "# introduce ARGS as globals\n",
    "globals = globals()\n",
    "for arg_k, arg_v in ARGS.items():\n",
    "    globals[arg_k] = arg_v\n",
    "del globals\n",
    "# reverved keywords\n",
    "assert 'gpt' not in ARGS and 'AskAITaskError' not in ARGS\n",
    "\n",
    "del TASK\n",
    "del ARGS\n",
    "\n",
    "from askai import gpt\n",
    "from askai.exceptions import AskAITaskError"
   ]
  },
  {
   "cell_type": "code",
   "execution_count": 3,
   "metadata": {
    "execution": {
     "iopub.execute_input": "2023-05-13T20:33:31.449773Z",
     "iopub.status.busy": "2023-05-13T20:33:31.449256Z",
     "iopub.status.idle": "2023-05-13T20:33:31.715643Z",
     "shell.execute_reply": "2023-05-13T20:33:31.715261Z"
    }
   },
   "outputs": [
    {
     "ename": "FileNotFoundError",
     "evalue": "[Errno 2] No such file or directory: 'notexists.txt'",
     "output_type": "error",
     "traceback": [
      "\u001b[0;31m---------------------------------------------------------------------------\u001b[0m",
      "\u001b[0;31mFileNotFoundError\u001b[0m                         Traceback (most recent call last)",
      "Cell \u001b[0;32mIn[3], line 1\u001b[0m\n\u001b[0;32m----> 1\u001b[0m \u001b[38;5;28;01mwith\u001b[39;00m \u001b[38;5;28;43mopen\u001b[39;49m\u001b[43m(\u001b[49m\u001b[38;5;124;43m'\u001b[39;49m\u001b[38;5;124;43mnotexists.txt\u001b[39;49m\u001b[38;5;124;43m'\u001b[39;49m\u001b[43m,\u001b[49m\u001b[43m \u001b[49m\u001b[38;5;124;43m'\u001b[39;49m\u001b[38;5;124;43mr\u001b[39;49m\u001b[38;5;124;43m'\u001b[39;49m\u001b[43m)\u001b[49m \u001b[38;5;28;01mas\u001b[39;00m f:\n\u001b[1;32m      2\u001b[0m     content \u001b[38;5;241m=\u001b[39m f\u001b[38;5;241m.\u001b[39mread()\n\u001b[1;32m      4\u001b[0m final_result \u001b[38;5;241m=\u001b[39m content\n",
      "File \u001b[0;32m~/.miniconda3/envs/askai/lib/python3.8/site-packages/IPython/core/interactiveshell.py:284\u001b[0m, in \u001b[0;36m_modified_open\u001b[0;34m(file, *args, **kwargs)\u001b[0m\n\u001b[1;32m    277\u001b[0m \u001b[38;5;28;01mif\u001b[39;00m file \u001b[38;5;129;01min\u001b[39;00m {\u001b[38;5;241m0\u001b[39m, \u001b[38;5;241m1\u001b[39m, \u001b[38;5;241m2\u001b[39m}:\n\u001b[1;32m    278\u001b[0m     \u001b[38;5;28;01mraise\u001b[39;00m \u001b[38;5;167;01mValueError\u001b[39;00m(\n\u001b[1;32m    279\u001b[0m         \u001b[38;5;124mf\u001b[39m\u001b[38;5;124m\"\u001b[39m\u001b[38;5;124mIPython won\u001b[39m\u001b[38;5;124m'\u001b[39m\u001b[38;5;124mt let you open fd=\u001b[39m\u001b[38;5;132;01m{\u001b[39;00mfile\u001b[38;5;132;01m}\u001b[39;00m\u001b[38;5;124m by default \u001b[39m\u001b[38;5;124m\"\u001b[39m\n\u001b[1;32m    280\u001b[0m         \u001b[38;5;124m\"\u001b[39m\u001b[38;5;124mas it is likely to crash IPython. If you know what you are doing, \u001b[39m\u001b[38;5;124m\"\u001b[39m\n\u001b[1;32m    281\u001b[0m         \u001b[38;5;124m\"\u001b[39m\u001b[38;5;124myou can use builtins\u001b[39m\u001b[38;5;124m'\u001b[39m\u001b[38;5;124m open.\u001b[39m\u001b[38;5;124m\"\u001b[39m\n\u001b[1;32m    282\u001b[0m     )\n\u001b[0;32m--> 284\u001b[0m \u001b[38;5;28;01mreturn\u001b[39;00m \u001b[43mio_open\u001b[49m\u001b[43m(\u001b[49m\u001b[43mfile\u001b[49m\u001b[43m,\u001b[49m\u001b[43m \u001b[49m\u001b[38;5;241;43m*\u001b[39;49m\u001b[43margs\u001b[49m\u001b[43m,\u001b[49m\u001b[43m \u001b[49m\u001b[38;5;241;43m*\u001b[39;49m\u001b[38;5;241;43m*\u001b[39;49m\u001b[43mkwargs\u001b[49m\u001b[43m)\u001b[49m\n",
      "\u001b[0;31mFileNotFoundError\u001b[0m: [Errno 2] No such file or directory: 'notexists.txt'"
     ]
    }
   ],
   "source": [
    "with open('notexists.txt', 'r') as f:\n",
    "    content = f.read()\n",
    "\n",
    "final_result = content\n",
    "final_result"
   ]
  },
  {
   "cell_type": "code",
   "execution_count": 4,
   "metadata": {
    "execution": {
     "iopub.execute_input": "2023-05-13T20:33:31.718081Z",
     "iopub.status.busy": "2023-05-13T20:33:31.717917Z",
     "iopub.status.idle": "2023-05-13T20:33:31.728591Z",
     "shell.execute_reply": "2023-05-13T20:33:31.728210Z"
    }
   },
   "outputs": [
    {
     "ename": "AskAITaskError",
     "evalue": "file from task description isn't exists",
     "output_type": "error",
     "traceback": [
      "\u001b[0;31m---------------------------------------------------------------------------\u001b[0m",
      "\u001b[0;31mAskAITaskError\u001b[0m                            Traceback (most recent call last)",
      "Cell \u001b[0;32mIn[4], line 2\u001b[0m\n\u001b[1;32m      1\u001b[0m \u001b[38;5;66;03m# last exception is direct cause or innability to complete task, so we mark it with flag\u001b[39;00m\n\u001b[0;32m----> 2\u001b[0m \u001b[38;5;28;01mraise\u001b[39;00m AskAITaskError(\u001b[38;5;124m'\u001b[39m\u001b[38;5;124mfile from task description isn\u001b[39m\u001b[38;5;130;01m\\'\u001b[39;00m\u001b[38;5;124mt exists\u001b[39m\u001b[38;5;124m'\u001b[39m, error_cause\u001b[38;5;241m=\u001b[39m\u001b[38;5;28;01mTrue\u001b[39;00m)\n",
      "\u001b[0;31mAskAITaskError\u001b[0m: file from task description isn't exists"
     ]
    }
   ],
   "source": [
    "# last exception is direct cause or innability to complete task, so we mark it with flag\n",
    "raise AskAITaskError('file from task description isn\\'t exists', error_cause=True)"
   ]
  },
  {
   "cell_type": "code",
   "execution_count": 5,
   "metadata": {
    "execution": {
     "iopub.execute_input": "2023-05-13T20:33:31.730927Z",
     "iopub.status.busy": "2023-05-13T20:33:31.730761Z",
     "iopub.status.idle": "2023-05-13T20:33:31.732761Z",
     "shell.execute_reply": "2023-05-13T20:33:31.732360Z"
    }
   },
   "outputs": [],
   "source": [
    "VALIDATE_FINAL_RESULT = False"
   ]
  }
 ],
 "metadata": {
  "kernelspec": {
   "display_name": "askai",
   "language": "python",
   "name": "python3"
  },
  "language_info": {
   "codemirror_mode": {
    "name": "ipython",
    "version": 3
   },
   "file_extension": ".py",
   "mimetype": "text/x-python",
   "name": "python",
   "nbconvert_exporter": "python",
   "pygments_lexer": "ipython3",
   "version": "3.8.16"
  }
 },
 "nbformat": 4,
 "nbformat_minor": 2
}
