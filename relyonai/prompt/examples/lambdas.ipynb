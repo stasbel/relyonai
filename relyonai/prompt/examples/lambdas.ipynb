{
 "cells": [
  {
   "cell_type": "code",
   "execution_count": 1,
   "metadata": {},
   "outputs": [
    {
     "name": "stdout",
     "output_type": "stream",
     "text": [
      "===user===\n",
      "\n",
      "TASK: \"\"\"\n",
      "filter words beginning with \"a\"\n",
      "\"\"\"\n",
      "ENV: 'new'\n",
      "ARGS: <empty>\n"
     ]
    }
   ],
   "source": [
    "from relyonai import gpt\n",
    "from relyonai.runtime import finish_task_ok, finish_task_error\n",
    "\n",
    "from relyonai.runtime import setup_task\n",
    "setup_task(\n",
    "    task='filter words beginning with \"a\"',\n",
    "    globals=globals(),\n",
    "    validator=lambda r: r(['apple', 'apricot', 'banana']) == ['apple', 'apricot'],\n",
    ")\n",
    "del setup_task"
   ]
  },
  {
   "cell_type": "code",
   "execution_count": 2,
   "metadata": {},
   "outputs": [],
   "source": [
    "# no args are provided, so we assume user wants a function that does the filtering\n",
    "# we assume that by filtering user meant keeping elements satisfying some condition\n",
    "# we proceed with the most common pythonic way for fitlering -- list comprehension\n",
    "\n",
    "def filter_words_starting_with_a(words):\n",
    "    return [word for word in words if word.startswith('a')]\n",
    "\n",
    "finish_task_ok(filter_words_starting_with_a);"
   ]
  },
  {
   "cell_type": "code",
   "execution_count": 3,
   "metadata": {},
   "outputs": [
    {
     "name": "stdout",
     "output_type": "stream",
     "text": [
      "===user===\n",
      "\n",
      "TASK: \"\"\"\n",
      "merge two lists (list_a and list_b) into a single one\n",
      "\"\"\"\n",
      "ENV: 'new'\n",
      "ARGS: \n",
      "- 'list_a': \"\"\"\n",
      "type: list\n",
      "\"\"\"\n",
      "- 'list_b': \"\"\"\n",
      "type: list\n",
      "\"\"\"\n"
     ]
    }
   ],
   "source": [
    "from relyonai.runtime import setup_task\n",
    "list_a, list_b = [1, 2, 3], [4, 5, 6]\n",
    "setup_task(\n",
    "    task='merge two lists (list_a and list_b) into a single one',\n",
    "    args={'list_a': list_a, 'list_b': list_b},\n",
    "    globals=globals(),\n",
    "    validator=lambda r: r == [1, 2, 3, 4, 5, 6],\n",
    ")\n",
    "del setup_task"
   ]
  },
  {
   "cell_type": "code",
   "execution_count": 4,
   "metadata": {},
   "outputs": [],
   "source": [
    "# arugments list_a and list_b are provided and mentioned in the description by names\n",
    "# so we use them to get a required result\n",
    "result = list_a + list_b\n",
    "finish_task_ok(result);"
   ]
  },
  {
   "cell_type": "code",
   "execution_count": 5,
   "metadata": {},
   "outputs": [
    {
     "name": "stdout",
     "output_type": "stream",
     "text": [
      "===user===\n",
      "\n",
      "TASK: \"\"\"\n",
      "filter numbers which square >0.5 and <0.8 out\n",
      "\"\"\"\n",
      "ENV: 'new'\n",
      "ARGS: <empty>\n"
     ]
    }
   ],
   "source": [
    "from relyonai.runtime import setup_task\n",
    "setup_task(\n",
    "    task='filter numbers which square >0.5 and <0.8 out',\n",
    "    globals=globals(),\n",
    "    validator=lambda r: r([0.2, 0.8, 0.99]) == [0.2, 0.99],\n",
    ")\n",
    "del setup_task"
   ]
  },
  {
   "cell_type": "code",
   "execution_count": 6,
   "metadata": {},
   "outputs": [],
   "source": [
    "# task args list is empty\n",
    "# so we assume user wants a function that applies to list of numbers and does the filtering\n",
    "# description says \"filter out\", so we keep elements for which condition is false\n",
    "def filter_out(numbers):\n",
    "    return [number for number in numbers if not (0.5 < number ** 2 < 0.8)]\n",
    "\n",
    "finish_task_ok(filter_out);"
   ]
  },
  {
   "cell_type": "code",
   "execution_count": 7,
   "metadata": {},
   "outputs": [
    {
     "name": "stdout",
     "output_type": "stream",
     "text": [
      "===user===\n",
      "\n",
      "TASK: \"\"\"\n",
      "filter numbers with has 3 digits\n",
      "\"\"\"\n",
      "ENV: 'new'\n",
      "ARGS: \n",
      "- 'numbers': \"\"\"\n",
      "type: list\n",
      "\"\"\"\n"
     ]
    }
   ],
   "source": [
    "from relyonai.runtime import setup_task\n",
    "numbers = [123, 2, 10]\n",
    "setup_task(\n",
    "    task='filter numbers with has 3 digits',\n",
    "    args={'numbers': numbers},\n",
    "    globals=globals(),\n",
    "    validator=lambda r: r == [123],\n",
    ")\n",
    "del setup_task"
   ]
  },
  {
   "cell_type": "code",
   "execution_count": 8,
   "metadata": {},
   "outputs": [],
   "source": [
    "# 'numbers' arg in provided and referenced in the description by name\n",
    "# so we use it to get a required result\n",
    "result = [number for number in numbers if len(str(number)) == 3]\n",
    "\n",
    "finish_task_ok(result);"
   ]
  },
  {
   "cell_type": "code",
   "execution_count": 9,
   "metadata": {},
   "outputs": [
    {
     "name": "stdout",
     "output_type": "stream",
     "text": [
      "===user===\n",
      "\n",
      "TASK: \"\"\"\n",
      "reverse an input_list\n",
      "\"\"\"\n",
      "ENV: 'new'\n",
      "ARGS: \n",
      "- 'input_list': \"\"\"\n",
      "type: list\n",
      "\"\"\"\n"
     ]
    }
   ],
   "source": [
    "from relyonai.runtime import setup_task\n",
    "input_list = [10, 11, 12]\n",
    "setup_task(\n",
    "    task='reverse an input_list',\n",
    "    args={'input_list': input_list},\n",
    "    globals=globals(),\n",
    "    validator=lambda r: r == [12, 11, 10],\n",
    ")\n",
    "del setup_task"
   ]
  },
  {
   "cell_type": "code",
   "execution_count": 10,
   "metadata": {},
   "outputs": [],
   "source": [
    "# 'input_list' element is given via args and mentioned explicitly in the description\n",
    "# we assume that user meant reversing that specific list (and not creating a function)\n",
    "result = list(reversed(input_list))\n",
    "finish_task_ok(result);"
   ]
  },
  {
   "cell_type": "code",
   "execution_count": 11,
   "metadata": {},
   "outputs": [
    {
     "name": "stdout",
     "output_type": "stream",
     "text": [
      "===user===\n",
      "\n",
      "TASK: \"\"\"\n",
      "check how many numbers have digit 7 in destinations\n",
      "\"\"\"\n",
      "ENV: 'new'\n",
      "ARGS: \n",
      "- 'destinations': \"\"\"\n",
      "type: range\n",
      "\"\"\"\n"
     ]
    }
   ],
   "source": [
    "from relyonai.runtime import setup_task\n",
    "destinations = range(1000)\n",
    "setup_task(\n",
    "    task='check how many numbers have digit 7 in destinations',\n",
    "    args={'destinations': destinations},\n",
    "    globals=globals(),\n",
    "    validator=lambda r: len(r) == 271,\n",
    ")\n",
    "del setup_task"
   ]
  },
  {
   "cell_type": "code",
   "execution_count": 12,
   "metadata": {},
   "outputs": [],
   "source": [
    "# task arg list have arg that explicitly mentioned in the description\n",
    "# so, we don't create a function, but simply use that arg to get a required result\n",
    "result = [destination for destination in destinations if '7' in str(destination)]\n",
    "finish_task_ok(result);"
   ]
  },
  {
   "cell_type": "code",
   "execution_count": null,
   "metadata": {},
   "outputs": [],
   "source": [
    "from relyonai.runtime import setup_task\n",
    "x = ''\n",
    "setup_task(\n",
    "    task='read a file',\n",
    "    args={'x': x},\n",
    "    globals=globals(),\n",
    "    validator=lambda r: r('filename.txt') == 'filename.txt content',\n",
    ")\n",
    "del setup_task"
   ]
  },
  {
   "cell_type": "code",
   "execution_count": null,
   "metadata": {},
   "outputs": [],
   "source": [
    "# the task mentioned generic reading from file w/o connetions to any variables\n",
    "# so we construct a function that takes does the reading\n",
    "def read_file(file_path):\n",
    "    with open(file_path) as f:\n",
    "        content = f.read()\n",
    "    return content\n",
    "\n",
    "finish_task_ok(read_file);"
   ]
  }
 ],
 "metadata": {
  "kernelspec": {
   "display_name": "relyonai",
   "language": "python",
   "name": "python3"
  },
  "language_info": {
   "codemirror_mode": {
    "name": "ipython",
    "version": 3
   },
   "file_extension": ".py",
   "mimetype": "text/x-python",
   "name": "python",
   "nbconvert_exporter": "python",
   "pygments_lexer": "ipython3",
   "version": "3.8.16"
  }
 },
 "nbformat": 4,
 "nbformat_minor": 2
}
