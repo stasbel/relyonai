{
 "cells": [
  {
   "cell_type": "code",
   "execution_count": 1,
   "metadata": {},
   "outputs": [
    {
     "name": "stdout",
     "output_type": "stream",
     "text": [
      "===user===\n",
      "\n",
      "task description: \"\"\"\n",
      "number of seconds in 10 years\n",
      "\"\"\"\n",
      "global variables: <empty>\n"
     ]
    }
   ],
   "source": [
    "from relyonai import gpt\n",
    "from relyonai.runtime import finish_task_ok, finish_task_error\n",
    "\n",
    "from relyonai.runtime import setup_task\n",
    "setup_task(\n",
    "    task='number of seconds in 10 years',\n",
    "    globals=globals(),\n",
    "    validator=lambda r: r == 315_360_000,\n",
    ")\n",
    "del setup_task"
   ]
  },
  {
   "cell_type": "code",
   "execution_count": 2,
   "metadata": {},
   "outputs": [],
   "source": [
    "# reasoning: seconds x minutes x hours x days x years\n",
    "finish_task_ok(60 * 60 * 24 * 365 * 10);"
   ]
  },
  {
   "cell_type": "code",
   "execution_count": 3,
   "metadata": {},
   "outputs": [
    {
     "name": "stdout",
     "output_type": "stream",
     "text": [
      "===user===\n",
      "\n",
      "task description: \"\"\"\n",
      "the golden ratio plus phi then multiplied by 2\n",
      "\"\"\"\n",
      "global variables: \n",
      "- phi (float)\n"
     ]
    }
   ],
   "source": [
    "from relyonai.runtime import setup_task\n",
    "phi = 1.61803398875\n",
    "setup_task(\n",
    "    task='the golden ratio plus phi then multiplied by 2',\n",
    "    args={'phi': phi},\n",
    "    globals=globals(),\n",
    ")\n",
    "del setup_task"
   ]
  },
  {
   "cell_type": "code",
   "execution_count": 4,
   "metadata": {},
   "outputs": [],
   "source": [
    "def golden_ratio():\n",
    "    return (1 + 5 ** 0.5) / 2\n",
    "\n",
    "# phi is a global var and mentioned in the task explicitly by name\n",
    "result = (golden_ratio() + phi) * 2\n",
    "finish_task_ok(result);"
   ]
  }
 ],
 "metadata": {
  "kernelspec": {
   "display_name": "relyonai",
   "language": "python",
   "name": "python3"
  },
  "language_info": {
   "codemirror_mode": {
    "name": "ipython",
    "version": 3
   },
   "file_extension": ".py",
   "mimetype": "text/x-python",
   "name": "python",
   "nbconvert_exporter": "python",
   "pygments_lexer": "ipython3",
   "version": "3.8.16"
  }
 },
 "nbformat": 4,
 "nbformat_minor": 2
}
