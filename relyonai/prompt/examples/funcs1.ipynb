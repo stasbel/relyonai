{
 "cells": [
  {
   "cell_type": "code",
   "execution_count": 1,
   "metadata": {},
   "outputs": [
    {
     "name": "stdout",
     "output_type": "stream",
     "text": [
      "===user===\n",
      "\n",
      "task description: \"\"\"\n",
      "flatten input list of lists\n",
      "\"\"\"\n",
      "global variables: <empty>\n"
     ]
    }
   ],
   "source": [
    "from relyonai import gpt\n",
    "from relyonai.runtime import finish_task_ok, finish_task_error\n",
    "\n",
    "from relyonai.runtime import setup_task\n",
    "setup_task(\n",
    "    task='flatten input list of lists',\n",
    "    globals=globals(),\n",
    "    validator=lambda r: r([[1, 2], [3]]) == [1, 2, 3],\n",
    ")\n",
    "del setup_task"
   ]
  },
  {
   "cell_type": "code",
   "execution_count": 2,
   "metadata": {},
   "outputs": [],
   "source": [
    "# no global variables are provided and task given in imperative form\n",
    "# so naturall to assume user's request is to obtain a function that does the job\n",
    "def flatten(list_of_lists):\n",
    "    return sum(list_of_lists, [])\n",
    "\n",
    "finish_task_ok(flatten);"
   ]
  },
  {
   "cell_type": "code",
   "execution_count": 3,
   "metadata": {},
   "outputs": [
    {
     "name": "stdout",
     "output_type": "stream",
     "text": [
      "===user===\n",
      "\n",
      "task description: \"\"\"\n",
      "sum of two numbers\n",
      "\"\"\"\n",
      "global variables: <empty>\n"
     ]
    }
   ],
   "source": [
    "from relyonai.runtime import setup_task\n",
    "setup_task(\n",
    "    task='sum of two numbers',\n",
    "    globals=globals(),\n",
    "    validator=lambda r: r(1, 2) == 3,\n",
    ")\n",
    "del setup_task"
   ]
  },
  {
   "cell_type": "code",
   "execution_count": 4,
   "metadata": {},
   "outputs": [],
   "source": [
    "# clearly, user refers to a function that does the sum on two input numbers\n",
    "def sum_of_two(x, y):\n",
    "    return x + y\n",
    "\n",
    "finish_task_ok(sum_of_two);"
   ]
  },
  {
   "cell_type": "code",
   "execution_count": 5,
   "metadata": {},
   "outputs": [
    {
     "name": "stdout",
     "output_type": "stream",
     "text": [
      "===user===\n",
      "\n",
      "task description: \"\"\"\n",
      "count number of elements divisible by a spicified number\n",
      "\"\"\"\n",
      "global variables: \n",
      "- x\n",
      "    - type: list\n",
      "- y\n",
      "    - type: int\n"
     ]
    }
   ],
   "source": [
    "from relyonai.runtime import setup_task\n",
    "x, y = [], 0\n",
    "setup_task(\n",
    "    task='count number of elements divisible by a spicified number',\n",
    "    args={'x': x, 'y': y},\n",
    "    globals=globals(),\n",
    "    validator=lambda r: r([1, 2, 3, 10, 15, 20], 2) == 3,\n",
    ")\n",
    "del setup_task"
   ]
  },
  {
   "cell_type": "code",
   "execution_count": 6,
   "metadata": {},
   "outputs": [],
   "source": [
    "# there are no global variables that are mentioned in the task provided\n",
    "# so, naturall to asume that user wants to obtain a function that does the job\n",
    "# function will apply to both of missing args: numbers and divisor\n",
    "def count_divisibe_by(numbers, divisor):\n",
    "    return sum(1 for number in numbers if number % divisor == 0)\n",
    "\n",
    "finish_task_ok(count_divisibe_by);"
   ]
  }
 ],
 "metadata": {
  "kernelspec": {
   "display_name": "relyonai",
   "language": "python",
   "name": "python3"
  },
  "language_info": {
   "codemirror_mode": {
    "name": "ipython",
    "version": 3
   },
   "file_extension": ".py",
   "mimetype": "text/x-python",
   "name": "python",
   "nbconvert_exporter": "python",
   "pygments_lexer": "ipython3",
   "version": "3.8.16"
  }
 },
 "nbformat": 4,
 "nbformat_minor": 2
}
