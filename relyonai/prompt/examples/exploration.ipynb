{
 "cells": [
  {
   "cell_type": "code",
   "execution_count": 1,
   "metadata": {},
   "outputs": [
    {
     "name": "stdout",
     "output_type": "stream",
     "text": [
      "===user===\n",
      "\n",
      "TASK: \"\"\"\n",
      "given the list of persons, return their combined age\n",
      "\"\"\"\n",
      "ENV: new\n",
      "ARGS:\n",
      "- persons: \"\"\"\n",
      "type: list\n",
      "\"\"\"\n"
     ]
    }
   ],
   "source": [
    "from relyonai import gpt\n",
    "from relyonai.runtime import finish_task_ok, finish_task_error\n",
    "\n",
    "from relyonai.runtime import setup_task\n",
    "persons = [\n",
    "  {\n",
    "    'name' : 'mike',\n",
    "    'age (y)' : 22,\n",
    "    'id' : 12349\n",
    "  },\n",
    "  {\n",
    "    'name' : 'howard',\n",
    "    'age (y)' : 24,\n",
    "    'id' : 9999\n",
    "  },\n",
    "  {\n",
    "    'name' : 'alina',\n",
    "    'age (y)' : 30,\n",
    "    'id' : 10000\n",
    "  }\n",
    "]\n",
    "setup_task(\n",
    "    task='given the list of persons, return their combined age',\n",
    "    args={'persons': persons},\n",
    "    globals=globals(),\n",
    "    validator=lambda r: r == 76,\n",
    ")\n",
    "del setup_task"
   ]
  },
  {
   "cell_type": "code",
   "execution_count": 2,
   "metadata": {},
   "outputs": [
    {
     "data": {
      "text/plain": [
       "dict"
      ]
     },
     "execution_count": 2,
     "metadata": {},
     "output_type": "execute_result"
    }
   ],
   "source": [
    "# persons list is given, assuming each person is an object of some common structure\n",
    "# let's explore it:\n",
    "type(persons[0])"
   ]
  },
  {
   "cell_type": "code",
   "execution_count": 3,
   "metadata": {},
   "outputs": [
    {
     "data": {
      "text/plain": [
       "dict_keys(['name', 'age (y)', 'id'])"
      ]
     },
     "execution_count": 3,
     "metadata": {},
     "output_type": "execute_result"
    }
   ],
   "source": [
    "# aha, a plain dict, let's see what keys are there:\n",
    "persons[0].keys()"
   ]
  },
  {
   "cell_type": "code",
   "execution_count": 4,
   "metadata": {},
   "outputs": [],
   "source": [
    "# key 'age (y)' looks like what we need for getting the age\n",
    "combined_age = sum([p['age (y)'] for p in persons])\n",
    "finish_task_ok(combined_age);"
   ]
  },
  {
   "cell_type": "code",
   "execution_count": 5,
   "metadata": {},
   "outputs": [
    {
     "name": "stdout",
     "output_type": "stream",
     "text": [
      "===user===\n",
      "\n",
      "TASK: \"\"\"\n",
      "return number of males among persons\n",
      "\"\"\"\n",
      "ENV: same\n",
      "ARGS:\n"
     ]
    }
   ],
   "source": [
    "from relyonai.runtime import setup_task\n",
    "setup_task(\n",
    "    task='return number of males among persons',\n",
    "    env='same',\n",
    "    globals=globals(),\n",
    "    validator=lambda r: r == 2,\n",
    ")\n",
    "del setup_task"
   ]
  },
  {
   "cell_type": "code",
   "execution_count": 6,
   "metadata": {},
   "outputs": [],
   "source": [
    "# 'persons' list mentioned in description is accesible as namespace is the same\n",
    "# we already know that each person is a dict with 'name' key\n",
    "# let gpt determine gender by name\n",
    "\n",
    "GPT_GENDER_PROMPT = 'print out single digit -- 1 if following name is of man, 0 if is of woman'\n",
    "\n",
    "total_males = 0\n",
    "for person in persons:\n",
    "    name = person['name']\n",
    "    total_males += int(gpt(f'{GPT_GENDER_PROMPT}: \"{name}\"'))\n",
    "\n",
    "finish_task_ok(total_males);"
   ]
  }
 ],
 "metadata": {
  "kernelspec": {
   "display_name": "relyonai",
   "language": "python",
   "name": "python3"
  },
  "language_info": {
   "codemirror_mode": {
    "name": "ipython",
    "version": 3
   },
   "file_extension": ".py",
   "mimetype": "text/x-python",
   "name": "python",
   "nbconvert_exporter": "python",
   "pygments_lexer": "ipython3",
   "version": "3.8.16"
  }
 },
 "nbformat": 4,
 "nbformat_minor": 2
}
