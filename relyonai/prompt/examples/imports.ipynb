{
 "cells": [
  {
   "cell_type": "code",
   "execution_count": 1,
   "metadata": {},
   "outputs": [
    {
     "name": "stdout",
     "output_type": "stream",
     "text": [
      "===user===\n",
      "task description: \"\"\"\n",
      "that module for dataframes manipulation and stuff\n",
      "\"\"\"\n",
      "environment: new python interpreter\n",
      "global variables: <empty>\n"
     ]
    }
   ],
   "source": [
    "from relyonai import gpt\n",
    "from relyonai.runtime import finish_task_ok, finish_task_error\n",
    "\n",
    "from relyonai.runtime import setup_task\n",
    "import pandas as pd\n",
    "setup_task(\n",
    "    task='that module for dataframes manipulation and stuff',\n",
    "    globals=globals(),\n",
    "    validator=lambda r: r is pd,\n",
    ")\n",
    "del pd\n",
    "del setup_task"
   ]
  },
  {
   "cell_type": "code",
   "execution_count": 2,
   "metadata": {},
   "outputs": [],
   "source": [
    "# pandas is the go-to library for data handling and manipulation in Python\n",
    "import pandas as pd\n",
    "finish_task_ok(pd);"
   ]
  },
  {
   "cell_type": "code",
   "execution_count": 3,
   "metadata": {},
   "outputs": [
    {
     "name": "stdout",
     "output_type": "stream",
     "text": [
      "===user===\n",
      "task description: \"\"\"\n",
      "module for plotting with pandas\n",
      "\"\"\"\n",
      "environment: new python interpreter\n",
      "global variables: <empty>\n"
     ]
    }
   ],
   "source": [
    "from relyonai.runtime import setup_task\n",
    "setup_task(\n",
    "    task='module for plotting with pandas',\n",
    "    globals=globals(),\n",
    ")\n",
    "del setup_task"
   ]
  },
  {
   "cell_type": "code",
   "execution_count": 4,
   "metadata": {},
   "outputs": [
    {
     "ename": "ModuleNotFoundError",
     "evalue": "No module named 'seaborn'",
     "output_type": "error",
     "traceback": [
      "\u001b[0;31m---------------------------------------------------------------------------\u001b[0m",
      "\u001b[0;31mModuleNotFoundError\u001b[0m                       Traceback (most recent call last)",
      "Cell \u001b[0;32mIn[4], line 1\u001b[0m\n\u001b[0;32m----> 1\u001b[0m \u001b[39mimport\u001b[39;00m \u001b[39mseaborn\u001b[39;00m \u001b[39mas\u001b[39;00m \u001b[39msns\u001b[39;00m\n\u001b[1;32m      2\u001b[0m finish_task_ok(sns);\n",
      "\u001b[0;31mModuleNotFoundError\u001b[0m: No module named 'seaborn'"
     ]
    }
   ],
   "source": [
    "import seaborn as sns\n",
    "finish_task_ok(sns);"
   ]
  },
  {
   "cell_type": "code",
   "execution_count": 5,
   "metadata": {},
   "outputs": [],
   "source": [
    "# we are unable to install and import seaborn, so proceed with error\n",
    "finish_task_error('seaborn package isn\\'t installed', error_cause=True);"
   ]
  },
  {
   "cell_type": "code",
   "execution_count": 6,
   "metadata": {},
   "outputs": [
    {
     "name": "stdout",
     "output_type": "stream",
     "text": [
      "===user===\n",
      "task description: \"\"\"\n",
      "import tsne class from sklearn\n",
      "\"\"\"\n",
      "environment: new python interpreter\n",
      "global variables: <empty>\n"
     ]
    }
   ],
   "source": [
    "from relyonai.runtime import setup_task\n",
    "setup_task(\n",
    "    task='import tsne class from sklearn',\n",
    "    globals=globals(),\n",
    ")\n",
    "del setup_task"
   ]
  },
  {
   "cell_type": "code",
   "execution_count": 7,
   "metadata": {},
   "outputs": [],
   "source": [
    "from sklearn.manifold import TSNE\n",
    "finish_task_ok(TSNE);"
   ]
  }
 ],
 "metadata": {
  "kernelspec": {
   "display_name": "relyonai",
   "language": "python",
   "name": "python3"
  },
  "language_info": {
   "codemirror_mode": {
    "name": "ipython",
    "version": 3
   },
   "file_extension": ".py",
   "mimetype": "text/x-python",
   "name": "python",
   "nbconvert_exporter": "python",
   "pygments_lexer": "ipython3",
   "version": "3.8.16"
  }
 },
 "nbformat": 4,
 "nbformat_minor": 2
}
