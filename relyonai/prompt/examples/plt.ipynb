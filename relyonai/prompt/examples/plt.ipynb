{
 "cells": [
  {
   "cell_type": "code",
   "execution_count": 1,
   "metadata": {},
   "outputs": [
    {
     "name": "stdout",
     "output_type": "stream",
     "text": [
      "===user===\n",
      "\n",
      "TASK: \"\"\"\n",
      "make line plot of `a` with specified color\n",
      "\"\"\"\n",
      "ENV: new\n",
      "ARGS:\n",
      "- a: \"\"\"\n",
      "type: numpy.ndarray\n",
      "shape: (10,)\n",
      "dtype: float64\n",
      "\"\"\"\n"
     ]
    }
   ],
   "source": [
    "from relyonai import gpt\n",
    "from relyonai.runtime import finish_task_ok, finish_task_error\n",
    "\n",
    "from relyonai.runtime import setup_task\n",
    "import numpy as np\n",
    "a = np.random.rand(10)\n",
    "setup_task(\n",
    "    task='make line plot of `a` with specified color',\n",
    "    args={'a': a},\n",
    "    globals=globals(),\n",
    ")\n",
    "del setup_task"
   ]
  },
  {
   "cell_type": "code",
   "execution_count": 2,
   "metadata": {},
   "outputs": [],
   "source": [
    "# packages might be missing, but we don't attempt to install them\n",
    "# that's because 1) input is a numpy array itself\n",
    "# 2) user most likely refered to matplotlib for the plotting\n",
    "import numpy as np\n",
    "import matplotlib.pyplot as plt\n",
    "\n",
    "# color isn't provided but mentioned so we made a function\n",
    "def plot_line(color):\n",
    "    # generate x and y values\n",
    "    # a is provided so we just reference it directly\n",
    "    n = a.shape[0]\n",
    "    x = np.linspace(0, n - 1, num=n)\n",
    "    y = a\n",
    "\n",
    "    # create a line plot using the specified color\n",
    "    fig = plt.figure()\n",
    "    plt.plot(x, y, color=color)\n",
    "\n",
    "    # add known labels and title to the plot\n",
    "    plt.ylabel('a')\n",
    "    plt.title(f'line plot of a with {color} color')\n",
    "\n",
    "    # user don't intend to observe outside effect\n",
    "    plt.close(fig)\n",
    "\n",
    "    return fig\n",
    "\n",
    "finish_task_ok(plot_line);"
   ]
  }
 ],
 "metadata": {
  "kernelspec": {
   "display_name": "relyonai",
   "language": "python",
   "name": "python3"
  },
  "language_info": {
   "codemirror_mode": {
    "name": "ipython",
    "version": 3
   },
   "file_extension": ".py",
   "mimetype": "text/x-python",
   "name": "python",
   "nbconvert_exporter": "python",
   "pygments_lexer": "ipython3",
   "version": "3.8.16"
  }
 },
 "nbformat": 4,
 "nbformat_minor": 2
}
