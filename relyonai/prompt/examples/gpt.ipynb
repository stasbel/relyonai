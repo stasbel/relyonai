{
 "cells": [
  {
   "cell_type": "code",
   "execution_count": 1,
   "metadata": {},
   "outputs": [
    {
     "name": "stdout",
     "output_type": "stream",
     "text": [
      "===user===\n",
      "\n",
      "task description: \"\"\"\n",
      "read filename.txt and translate it to french\n",
      "\"\"\"\n",
      "global variables: <empty>\n"
     ]
    }
   ],
   "source": [
    "from relyonai import gpt\n",
    "from relyonai.runtime import finish_task_ok, finish_task_error\n",
    "\n",
    "from relyonai.runtime import setup_task\n",
    "setup_task(\n",
    "    task='read filename.txt and translate it to french',\n",
    "    globals=globals(),\n",
    "    validator=lambda r: 'fichier' in r.lower() and 'contenu' in r.lower(),\n",
    ")\n",
    "del setup_task"
   ]
  },
  {
   "cell_type": "code",
   "execution_count": 2,
   "metadata": {},
   "outputs": [
    {
     "data": {
      "text/plain": [
       "('filename.txt content', 'Contenu du fichier filename.txt')"
      ]
     },
     "execution_count": 2,
     "metadata": {},
     "output_type": "execute_result"
    }
   ],
   "source": [
    "# task description mentioned 'filename.txt' and no glob vars passed\n",
    "# the most sensible way would be to assume 'filename.txt' is the file path\n",
    "with open(f'filename.txt') as f:\n",
    "    content = f.read()\n",
    "\n",
    "# task mentioned generic translation, that's what chat-gpt good at\n",
    "# so we invoke it from the code with global `gpt` func\n",
    "content_fr = gpt(f'Translate the following text to French: \"\"\"\\n{content}\\n\"\"\"')\n",
    "\n",
    "# strip all the unnecessary symbols\n",
    "content_fr = content_fr.strip('\\n\"')\n",
    "\n",
    "# let's have a quick peek at the result\n",
    "content, content_fr"
   ]
  },
  {
   "cell_type": "code",
   "execution_count": 3,
   "metadata": {},
   "outputs": [],
   "source": [
    "# we can refer to last result object with '_'\n",
    "finish_task_ok(_[-1]);"
   ]
  }
 ],
 "metadata": {
  "kernelspec": {
   "display_name": "relyonai",
   "language": "python",
   "name": "python3"
  },
  "language_info": {
   "codemirror_mode": {
    "name": "ipython",
    "version": 3
   },
   "file_extension": ".py",
   "mimetype": "text/x-python",
   "name": "python",
   "nbconvert_exporter": "python",
   "pygments_lexer": "ipython3",
   "version": "3.8.16"
  }
 },
 "nbformat": 4,
 "nbformat_minor": 2
}
