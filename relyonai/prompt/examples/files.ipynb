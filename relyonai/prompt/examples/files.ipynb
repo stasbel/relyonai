{
 "cells": [
  {
   "cell_type": "code",
   "execution_count": 1,
   "metadata": {},
   "outputs": [
    {
     "name": "stdout",
     "output_type": "stream",
     "text": [
      "===user===\n",
      "\n",
      "task description: \"\"\"\n",
      "read file filename.txt\n",
      "\"\"\"\n",
      "global variables: \n",
      "- filename\n",
      "    - type: str\n"
     ]
    }
   ],
   "source": [
    "from relyonai import gpt\n",
    "from relyonai.runtime import finish_task_ok, finish_task_error\n",
    "\n",
    "from relyonai.runtime import setup_task\n",
    "filename = 'other'\n",
    "setup_task(\n",
    "    task='read file filename.txt',\n",
    "    args={'filename': filename},\n",
    "    globals=globals(),\n",
    "    validator=lambda r: r == 'other.txt content',\n",
    ")\n",
    "del setup_task"
   ]
  },
  {
   "cell_type": "code",
   "execution_count": 2,
   "metadata": {},
   "outputs": [],
   "source": [
    "# filename is one of the global variable\n",
    "# its mentioned in the task, but as a basename for .ext file\n",
    "with open(f'{filename}.txt') as f:\n",
    "    content = f.read()\n",
    "\n",
    "finish_task_ok(content);"
   ]
  },
  {
   "cell_type": "code",
   "execution_count": 3,
   "metadata": {},
   "outputs": [
    {
     "name": "stdout",
     "output_type": "stream",
     "text": [
      "===user===\n",
      "\n",
      "task description: \"\"\"\n",
      "read file filename.txt\n",
      "\"\"\"\n",
      "global variables: <empty>\n"
     ]
    }
   ],
   "source": [
    "from relyonai.runtime import setup_task\n",
    "setup_task(\n",
    "    task='read file filename.txt',\n",
    "    globals=globals(),\n",
    "    validator=lambda r: r == 'filename.txt content',\n",
    ")\n",
    "del setup_task"
   ]
  },
  {
   "cell_type": "code",
   "execution_count": 4,
   "metadata": {},
   "outputs": [],
   "source": [
    "# description mentions 'filename.txt' which couldn't be associated with any global variable\n",
    "# so, naturally, we assume it's a constant file path to read from\n",
    "with open('filename.txt') as f:\n",
    "    content = f.read()\n",
    "\n",
    "finish_task_ok(content);"
   ]
  }
 ],
 "metadata": {
  "kernelspec": {
   "display_name": "relyonai",
   "language": "python",
   "name": "python3"
  },
  "language_info": {
   "codemirror_mode": {
    "name": "ipython",
    "version": 3
   },
   "file_extension": ".py",
   "mimetype": "text/x-python",
   "name": "python",
   "nbconvert_exporter": "python",
   "pygments_lexer": "ipython3",
   "version": "3.8.16"
  }
 },
 "nbformat": 4,
 "nbformat_minor": 2
}
