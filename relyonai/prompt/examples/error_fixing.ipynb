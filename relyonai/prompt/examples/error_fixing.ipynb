{
 "cells": [
  {
   "cell_type": "code",
   "execution_count": 1,
   "metadata": {},
   "outputs": [
    {
     "name": "stdout",
     "output_type": "stream",
     "text": [
      "===user===\n",
      "\n",
      "TASK: \"\"\"\n",
      "get a result value from single key dictionary d\n",
      "\"\"\"\n",
      "ENV: new\n",
      "ARGS:\n",
      "- d: \"\"\"\n",
      "type: dict\n",
      "\"\"\"\n"
     ]
    }
   ],
   "source": [
    "from relyonai import gpt\n",
    "from relyonai.runtime import finish_task_ok, finish_task_error\n",
    "\n",
    "from relyonai.runtime import setup_task\n",
    "d = {'res': 42, 'query': 43, 'flag': 44}\n",
    "setup_task(\n",
    "    task='get a result value from single key dictionary d',\n",
    "    args={'d': d},\n",
    "    globals=globals(),\n",
    "    validator=lambda r: r == 42,\n",
    ")\n",
    "del setup_task"
   ]
  },
  {
   "cell_type": "code",
   "execution_count": 2,
   "metadata": {},
   "outputs": [
    {
     "data": {
      "text/plain": [
       "dict_keys(['res', 'query', 'flag'])"
      ]
     },
     "execution_count": 2,
     "metadata": {},
     "output_type": "execute_result"
    }
   ],
   "source": [
    "# we don't know the right key name, could be: response, body, result, etc.\n",
    "# no problem, let's print them out and explore\n",
    "d.keys()"
   ]
  },
  {
   "cell_type": "code",
   "execution_count": 3,
   "metadata": {},
   "outputs": [],
   "source": [
    "# only 3 of them and 'res' makes the most sense in task context\n",
    "finish_task_ok(d['res']);"
   ]
  }
 ],
 "metadata": {
  "kernelspec": {
   "display_name": "relyonai",
   "language": "python",
   "name": "python3"
  },
  "language_info": {
   "codemirror_mode": {
    "name": "ipython",
    "version": 3
   },
   "file_extension": ".py",
   "mimetype": "text/x-python",
   "name": "python",
   "nbconvert_exporter": "python",
   "pygments_lexer": "ipython3",
   "version": "3.8.16"
  }
 },
 "nbformat": 4,
 "nbformat_minor": 2
}
