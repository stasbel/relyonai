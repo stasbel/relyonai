{
 "cells": [
  {
   "cell_type": "code",
   "execution_count": 1,
   "metadata": {},
   "outputs": [
    {
     "name": "stdout",
     "output_type": "stream",
     "text": [
      "===user===\n",
      "\n",
      "TASK: \"\"\"\n",
      "calculate how many numbers are more that 10\n",
      "\"\"\"\n",
      "ENV: 'new'\n",
      "ARGS: \n",
      "- 'numbers': \"\"\"\n",
      "type: list\n",
      "\"\"\"\n"
     ]
    }
   ],
   "source": [
    "from relyonai import gpt\n",
    "from relyonai.runtime import finish_task_ok, finish_task_error\n",
    "\n",
    "from relyonai.runtime import setup_task\n",
    "numbers = [9, 99, 999, 1, 2, 3, 10, 11, 12]\n",
    "setup_task(\n",
    "    task='calculate how many numbers are more that 10',\n",
    "    args={'numbers': numbers},\n",
    "    globals=globals(),\n",
    "    validator=lambda r: r == 4,\n",
    ")\n",
    "del setup_task"
   ]
  },
  {
   "cell_type": "code",
   "execution_count": 2,
   "metadata": {},
   "outputs": [],
   "source": [
    "def condition(number):\n",
    "    return number > 10\n",
    "\n",
    "# numbers list is available via args\n",
    "result = sum(1 for number in numbers if condition(number))\n",
    "finish_task_ok(result);"
   ]
  },
  {
   "cell_type": "code",
   "execution_count": 3,
   "metadata": {},
   "outputs": [
    {
     "name": "stdout",
     "output_type": "stream",
     "text": [
      "===user===\n",
      "\n",
      "TASK: \"\"\"\n",
      "sum numbers that are >10 and add 42\n",
      "\"\"\"\n",
      "ENV: 'same'\n",
      "ARGS: <empty>\n"
     ]
    }
   ],
   "source": [
    "from relyonai.runtime import setup_task\n",
    "setup_task(\n",
    "    task='sum numbers that are >10 and add 42',\n",
    "    env='same',\n",
    "    globals=globals(),\n",
    "    validator=lambda r: r == 1163,\n",
    ")\n",
    "del setup_task"
   ]
  },
  {
   "cell_type": "code",
   "execution_count": 4,
   "metadata": {},
   "outputs": [],
   "source": [
    "# but env is same, so interpretator didn't restarted and namespace is reused\n",
    "# so, we can continue to access numbers list and condition function\n",
    "result = sum(number for number in numbers if condition(number)) + 42\n",
    "finish_task_ok(result);"
   ]
  }
 ],
 "metadata": {
  "kernelspec": {
   "display_name": "relyonai",
   "language": "python",
   "name": "python3"
  },
  "language_info": {
   "codemirror_mode": {
    "name": "ipython",
    "version": 3
   },
   "file_extension": ".py",
   "mimetype": "text/x-python",
   "name": "python",
   "nbconvert_exporter": "python",
   "pygments_lexer": "ipython3",
   "version": "3.8.16"
  }
 },
 "nbformat": 4,
 "nbformat_minor": 2
}
