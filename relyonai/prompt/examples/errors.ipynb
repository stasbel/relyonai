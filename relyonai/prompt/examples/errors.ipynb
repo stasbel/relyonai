{
 "cells": [
  {
   "cell_type": "code",
   "execution_count": 1,
   "metadata": {},
   "outputs": [
    {
     "name": "stdout",
     "output_type": "stream",
     "text": [
      "===user===\n",
      "\n",
      "task description: \"\"\"\n",
      "create a sum of a and b\n",
      "\"\"\"\n",
      "environment: new python interpreter\n",
      "global variables: \n",
      "- a\n",
      "    - type: list\n",
      "- b\n",
      "    - type: dict\n"
     ]
    }
   ],
   "source": [
    "from relyonai import gpt\n",
    "from relyonai.runtime import finish_task_ok, finish_task_error\n",
    "\n",
    "from relyonai.runtime import setup_task\n",
    "a, b = [], {}\n",
    "setup_task(\n",
    "    task='create a sum of a and b',\n",
    "    args={'a': a, 'b': b},\n",
    "    globals=globals(),\n",
    ")\n",
    "del setup_task"
   ]
  },
  {
   "cell_type": "code",
   "execution_count": 2,
   "metadata": {},
   "outputs": [],
   "source": [
    "# this task just doesn't make sense: a sum of a list and a dict is not defined\n",
    "finish_task_error('unable to create a sum of a list and a dict');"
   ]
  },
  {
   "cell_type": "code",
   "execution_count": 3,
   "metadata": {},
   "outputs": [
    {
     "name": "stdout",
     "output_type": "stream",
     "text": [
      "===user===\n",
      "\n",
      "task description: \"\"\"\n",
      "read file notexists.txt\n",
      "\"\"\"\n",
      "environment: new python interpreter\n",
      "global variables: <empty>\n"
     ]
    }
   ],
   "source": [
    "from relyonai.runtime import setup_task\n",
    "setup_task(\n",
    "    task='read file notexists.txt',\n",
    "    globals=globals(),\n",
    ")\n",
    "del setup_task"
   ]
  },
  {
   "cell_type": "code",
   "execution_count": 4,
   "metadata": {},
   "outputs": [
    {
     "ename": "FileNotFoundError",
     "evalue": "[Errno 2] No such file or directory: 'notexists.txt'",
     "output_type": "error",
     "traceback": [
      "\u001b[0;31m---------------------------------------------------------------------------\u001b[0m",
      "\u001b[0;31mFileNotFoundError\u001b[0m                         Traceback (most recent call last)",
      "Cell \u001b[0;32mIn[4], line 1\u001b[0m\n\u001b[0;32m----> 1\u001b[0m \u001b[39mwith\u001b[39;00m \u001b[39mopen\u001b[39;49m(\u001b[39m'\u001b[39;49m\u001b[39mnotexists.txt\u001b[39;49m\u001b[39m'\u001b[39;49m, \u001b[39m'\u001b[39;49m\u001b[39mr\u001b[39;49m\u001b[39m'\u001b[39;49m) \u001b[39mas\u001b[39;00m f:\n\u001b[1;32m      2\u001b[0m     content \u001b[39m=\u001b[39m f\u001b[39m.\u001b[39mread()\n\u001b[1;32m      4\u001b[0m finish_task_ok(content);\n",
      "File \u001b[0;32m~/.miniconda3/envs/relyonai/lib/python3.8/site-packages/IPython/core/interactiveshell.py:284\u001b[0m, in \u001b[0;36m_modified_open\u001b[0;34m(file, *args, **kwargs)\u001b[0m\n\u001b[1;32m    277\u001b[0m \u001b[39mif\u001b[39;00m file \u001b[39min\u001b[39;00m {\u001b[39m0\u001b[39m, \u001b[39m1\u001b[39m, \u001b[39m2\u001b[39m}:\n\u001b[1;32m    278\u001b[0m     \u001b[39mraise\u001b[39;00m \u001b[39mValueError\u001b[39;00m(\n\u001b[1;32m    279\u001b[0m         \u001b[39mf\u001b[39m\u001b[39m\"\u001b[39m\u001b[39mIPython won\u001b[39m\u001b[39m'\u001b[39m\u001b[39mt let you open fd=\u001b[39m\u001b[39m{\u001b[39;00mfile\u001b[39m}\u001b[39;00m\u001b[39m by default \u001b[39m\u001b[39m\"\u001b[39m\n\u001b[1;32m    280\u001b[0m         \u001b[39m\"\u001b[39m\u001b[39mas it is likely to crash IPython. If you know what you are doing, \u001b[39m\u001b[39m\"\u001b[39m\n\u001b[1;32m    281\u001b[0m         \u001b[39m\"\u001b[39m\u001b[39myou can use builtins\u001b[39m\u001b[39m'\u001b[39m\u001b[39m open.\u001b[39m\u001b[39m\"\u001b[39m\n\u001b[1;32m    282\u001b[0m     )\n\u001b[0;32m--> 284\u001b[0m \u001b[39mreturn\u001b[39;00m io_open(file, \u001b[39m*\u001b[39;49margs, \u001b[39m*\u001b[39;49m\u001b[39m*\u001b[39;49mkwargs)\n",
      "\u001b[0;31mFileNotFoundError\u001b[0m: [Errno 2] No such file or directory: 'notexists.txt'"
     ]
    }
   ],
   "source": [
    "with open('notexists.txt', 'r') as f:\n",
    "    content = f.read()\n",
    "\n",
    "finish_task_ok(content);"
   ]
  },
  {
   "cell_type": "code",
   "execution_count": 5,
   "metadata": {},
   "outputs": [],
   "source": [
    "# last exception is direct cause or innability to complete task, so we mark it with flag\n",
    "finish_task_error('file from task description isn\\'t exists', error_cause=True);"
   ]
  },
  {
   "cell_type": "code",
   "execution_count": 6,
   "metadata": {},
   "outputs": [
    {
     "name": "stdout",
     "output_type": "stream",
     "text": [
      "===user===\n",
      "\n",
      "task description: \"\"\"\n",
      "import pytorch package\n",
      "\"\"\"\n",
      "environment: new python interpreter\n",
      "global variables: <empty>\n"
     ]
    }
   ],
   "source": [
    "from relyonai.runtime import setup_task\n",
    "setup_task(\n",
    "    task='import pytorch package',\n",
    "    globals=globals(),\n",
    ")\n",
    "del setup_task"
   ]
  },
  {
   "cell_type": "code",
   "execution_count": 7,
   "metadata": {},
   "outputs": [],
   "source": [
    "# torch package isn't on the installed packages list\n",
    "finish_task_error('torch package isn\\'t installed');"
   ]
  }
 ],
 "metadata": {
  "kernelspec": {
   "display_name": "relyonai",
   "language": "python",
   "name": "python3"
  },
  "language_info": {
   "codemirror_mode": {
    "name": "ipython",
    "version": 3
   },
   "file_extension": ".py",
   "mimetype": "text/x-python",
   "name": "python",
   "nbconvert_exporter": "python",
   "pygments_lexer": "ipython3",
   "version": "3.8.16"
  }
 },
 "nbformat": 4,
 "nbformat_minor": 2
}
