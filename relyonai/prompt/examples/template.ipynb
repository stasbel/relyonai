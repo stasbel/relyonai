{
 "cells": [
  {
   "cell_type": "code",
   "execution_count": 1,
   "metadata": {},
   "outputs": [
    {
     "name": "stdout",
     "output_type": "stream",
     "text": [
      "===user===\n",
      "\n",
      "TASK: \"\"\"\n",
      "take d variable and sum with 42\n",
      "\"\"\"\n",
      "ENV: new\n",
      "ARGS:\n",
      "- d: \"\"\"\n",
      "type: int\n",
      "\"\"\"\n"
     ]
    }
   ],
   "source": [
    "# notebooks is designed in such way that:\n",
    "# 1) could be run conviently in jupyter notebook\n",
    "# 2) could be run conviently from python with exec\n",
    "\n",
    "# this is just for convinience of coding in jupyter\n",
    "# globals are going to be transformed inside setup_task\n",
    "from relyonai import gpt\n",
    "from relyonai.runtime import finish_task_ok, finish_task_error\n",
    "\n",
    "# initiate a task a print what assistant sees\n",
    "from relyonai.runtime import setup_task\n",
    "d = 10\n",
    "setup_task(\n",
    "    task='take d variable and sum with 42',\n",
    "    args={'d': d},\n",
    "    globals=globals(),\n",
    "    validator=lambda r: r == 52,\n",
    ")\n",
    "del setup_task  # explicitly remove unnecessary setup func"
   ]
  },
  {
   "cell_type": "code",
   "execution_count": 2,
   "metadata": {},
   "outputs": [],
   "source": [
    "# pretty straightforward\n",
    "finish_task_ok(d + 42);"
   ]
  },
  {
   "cell_type": "code",
   "execution_count": 3,
   "metadata": {},
   "outputs": [
    {
     "name": "stdout",
     "output_type": "stream",
     "text": [
      "===user===\n",
      "\n",
      "TASK: \"\"\"\n",
      "actually, i feel more like 43 now\n",
      "\"\"\"\n",
      "ENV: same\n",
      "ARGS:\n"
     ]
    }
   ],
   "source": [
    "# continue in the same namespace with env='same'\n",
    "from relyonai.runtime import setup_task\n",
    "setup_task(\n",
    "    task='actually, i feel more like 43 now',\n",
    "    env='same',\n",
    "    globals=globals(),\n",
    "    validator=lambda r: r == 53,\n",
    ")\n",
    "del setup_task"
   ]
  },
  {
   "cell_type": "code",
   "execution_count": 4,
   "metadata": {},
   "outputs": [],
   "source": [
    "finish_task_ok(d + 43);"
   ]
  }
 ],
 "metadata": {
  "kernelspec": {
   "display_name": "relyonai",
   "language": "python",
   "name": "python3"
  },
  "language_info": {
   "codemirror_mode": {
    "name": "ipython",
    "version": 3
   },
   "file_extension": ".py",
   "mimetype": "text/x-python",
   "name": "python",
   "nbconvert_exporter": "python",
   "pygments_lexer": "ipython3",
   "version": "3.8.16"
  }
 },
 "nbformat": 4,
 "nbformat_minor": 2
}
