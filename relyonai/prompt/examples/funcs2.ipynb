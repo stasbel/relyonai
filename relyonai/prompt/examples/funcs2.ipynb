{
 "cells": [
  {
   "cell_type": "code",
   "execution_count": 1,
   "metadata": {},
   "outputs": [
    {
     "name": "stdout",
     "output_type": "stream",
     "text": [
      "===user===\n",
      "\n",
      "task description: \"\"\"\n",
      "filter numbers which square >0.5 and <0.8 out\n",
      "\"\"\"\n",
      "global variables: \n",
      "- floats\n",
      "    - type: list\n"
     ]
    }
   ],
   "source": [
    "from relyonai.runtime import setup_task\n",
    "floats = [0.2, 0.8, 0.99]\n",
    "setup_task(\n",
    "    task='filter numbers which square >0.5 and <0.8 out',\n",
    "    args={'floats': floats},\n",
    "    globals=globals(),\n",
    "    validator=lambda r: r([0.2, 0.8, 0.99]) == [0.2, 0.99],\n",
    ")\n",
    "del setup_task"
   ]
  },
  {
   "cell_type": "code",
   "execution_count": 2,
   "metadata": {},
   "outputs": [],
   "source": [
    "# global variables aren't empty, but no direct reference to them in task description\n",
    "# task description is in imperative form so asuming refering to a function result\n",
    "def filter_out(numbers):\n",
    "    return [number for number in numbers if not (0.5 < number ** 2 < 0.8)]\n",
    "\n",
    "finish_task_ok(filter_out);"
   ]
  },
  {
   "cell_type": "code",
   "execution_count": 3,
   "metadata": {},
   "outputs": [
    {
     "name": "stdout",
     "output_type": "stream",
     "text": [
      "===user===\n",
      "\n",
      "task description: \"\"\"\n",
      "filter numbers which has 3 digits\n",
      "\"\"\"\n",
      "global variables: <empty>\n"
     ]
    }
   ],
   "source": [
    "from relyonai.runtime import setup_task\n",
    "numbers = [123, 2, 10]\n",
    "setup_task(\n",
    "    task='filter numbers which has 3 digits',\n",
    "    globals=globals(),\n",
    "    validator=lambda r: r([123, 2, 10]) == [123],\n",
    ")\n",
    "del setup_task"
   ]
  },
  {
   "cell_type": "code",
   "execution_count": 4,
   "metadata": {},
   "outputs": [],
   "source": [
    "# no global variables are provided and task given in imperative form\n",
    "# filtering means returning a subset of input list where condition is met\n",
    "def filter_in(numbers):\n",
    "    return [number for number in numbers if len(str(number)) == 3]\n",
    "\n",
    "finish_task_ok(filter_in);"
   ]
  },
  {
   "cell_type": "code",
   "execution_count": 5,
   "metadata": {},
   "outputs": [
    {
     "name": "stdout",
     "output_type": "stream",
     "text": [
      "===user===\n",
      "\n",
      "task description: \"\"\"\n",
      "filter numbers which has 3 digits\n",
      "\"\"\"\n",
      "global variables: \n",
      "- numbers\n",
      "    - type: list\n"
     ]
    }
   ],
   "source": [
    "from relyonai.runtime import setup_task\n",
    "numbers = [123, 2, 10]\n",
    "setup_task(\n",
    "    task='filter numbers which has 3 digits',\n",
    "    args={'numbers': numbers},\n",
    "    globals=globals(),\n",
    "    validator=lambda r: r == [123],\n",
    ")\n",
    "del setup_task"
   ]
  },
  {
   "cell_type": "code",
   "execution_count": 6,
   "metadata": {},
   "outputs": [],
   "source": [
    "# global variable 'numbers' mentioned explicitly in the task\n",
    "# so, instead of creating a function, we just just do the calculation\n",
    "result = [number for number in numbers if len(str(number)) == 3]\n",
    "finish_task_ok(result);"
   ]
  }
 ],
 "metadata": {
  "kernelspec": {
   "display_name": "relyonai",
   "language": "python",
   "name": "python3"
  },
  "language_info": {
   "codemirror_mode": {
    "name": "ipython",
    "version": 3
   },
   "file_extension": ".py",
   "mimetype": "text/x-python",
   "name": "python",
   "nbconvert_exporter": "python",
   "pygments_lexer": "ipython3",
   "version": "3.8.16"
  }
 },
 "nbformat": 4,
 "nbformat_minor": 2
}
