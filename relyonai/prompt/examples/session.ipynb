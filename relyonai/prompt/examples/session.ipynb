{
 "cells": [
  {
   "cell_type": "code",
   "execution_count": 1,
   "metadata": {},
   "outputs": [
    {
     "name": "stdout",
     "output_type": "stream",
     "text": [
      "===user===\n",
      "\n",
      "task description: \"\"\"\n",
      "print d to stdout and return number of chars printed\n",
      "\"\"\"\n",
      "environment: new python interpreter\n",
      "global variables: \n",
      "- d\n",
      "    - type: int\n"
     ]
    }
   ],
   "source": [
    "from relyonai import gpt\n",
    "from relyonai.runtime import finish_task_ok, finish_task_error\n",
    "\n",
    "from relyonai.runtime import setup_task\n",
    "d = 1000\n",
    "setup_task(\n",
    "    task='print d to stdout and return number of chars printed',\n",
    "    args={'d': d},\n",
    "    globals=globals(),\n",
    "    validator=lambda r: r == 4,\n",
    ")\n",
    "del setup_task "
   ]
  },
  {
   "cell_type": "code",
   "execution_count": 2,
   "metadata": {},
   "outputs": [
    {
     "name": "stdout",
     "output_type": "stream",
     "text": [
      "1000\n"
     ]
    }
   ],
   "source": [
    "def number_of_chars(d):\n",
    "    return len(str(d))\n",
    "\n",
    "# outside effect explicitly required in task\n",
    "print(d)\n",
    "\n",
    "result = number_of_chars(d)\n",
    "finish_task_ok(result);"
   ]
  },
  {
   "cell_type": "code",
   "execution_count": 3,
   "metadata": {},
   "outputs": [
    {
     "name": "stdout",
     "output_type": "stream",
     "text": [
      "===user===\n",
      "\n",
      "task description: \"\"\"\n",
      "take last result, multiply by 7 and return number of chars\n",
      "\"\"\"\n",
      "environment: reused from previous task\n",
      "global variables: <empty>\n"
     ]
    }
   ],
   "source": [
    "from relyonai.runtime import setup_task\n",
    "setup_task(\n",
    "    task='take last result, multiply by 7 and return number of chars',\n",
    "    env='same',\n",
    "    globals=globals(),\n",
    "    validator=lambda r: r == 28,\n",
    ")\n",
    "del setup_task"
   ]
  },
  {
   "cell_type": "code",
   "execution_count": 4,
   "metadata": {},
   "outputs": [],
   "source": [
    "# environment is reused so we can reference `number_of_chars` from last task\n",
    "# use `_` to reference value of last expression or task result\n",
    "result = number_of_chars(_ * 7)\n",
    "finish_task_ok(_ * 7);"
   ]
  }
 ],
 "metadata": {
  "kernelspec": {
   "display_name": "relyonai",
   "language": "python",
   "name": "python3"
  },
  "language_info": {
   "codemirror_mode": {
    "name": "ipython",
    "version": 3
   },
   "file_extension": ".py",
   "mimetype": "text/x-python",
   "name": "python",
   "nbconvert_exporter": "python",
   "pygments_lexer": "ipython3",
   "version": "3.8.16"
  }
 },
 "nbformat": 4,
 "nbformat_minor": 2
}
