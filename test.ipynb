{
 "cells": [
  {
   "cell_type": "code",
   "execution_count": 1,
   "metadata": {},
   "outputs": [],
   "source": [
    "%reload_ext autoreload\n",
    "%autoreload 2\n",
    "\n",
    "import logging\n",
    "logging.basicConfig(level=logging.INFO)\n",
    "# logging.basicConfig(level=logging.WARNING)\n",
    "\n",
    "from aiknows import config, ai, gpt\n",
    "# config.clear_cache()"
   ]
  },
  {
   "cell_type": "code",
   "execution_count": 4,
   "metadata": {},
   "outputs": [
    {
     "name": "stderr",
     "output_type": "stream",
     "text": [
      "INFO:aiknows.prompt.prompt:===user===\n",
      "\n",
      "TASK: \"\"\"\n",
      "filter non primes out\n",
      "\"\"\"\n",
      "ENV: new\n",
      "ARGS: <empty>\n",
      "\n",
      "INFO:aiknows.prompt.prompt:===assistant===\n",
      "\n",
      "```python\n",
      "# no args are provided, so we assume user wants a function that does the filtering\n",
      "# we assume that by filtering user meant keeping elements satisfying some condition\n",
      "# we proceed with the most common pythonic way for fitlering -- list comprehension\n",
      "# we use sympy package to check if a number is prime\n",
      "\n",
      "try:\n",
      "    from sympy import isprime\n",
      "except ImportError:\n",
      "    finish_task_error(\"sympy package is required for this task\")\n",
      "\n",
      "def filter_primes(numbers):\n",
      "    return [number for number in numbers if isprime(number)]\n",
      "\n",
      "finish_task_ok(filter_primes);\n",
      "```\n",
      "\n"
     ]
    },
    {
     "ename": "FinishTaskErrorSignal",
     "evalue": "",
     "output_type": "error",
     "traceback": [
      "\u001b[0;31m---------------------------------------------------------------------------\u001b[0m",
      "\u001b[0;31mModuleNotFoundError\u001b[0m                       Traceback (most recent call last)",
      "File \u001b[0;32m<gpt>:7\u001b[0m\n",
      "\u001b[0;31mModuleNotFoundError\u001b[0m: No module named 'sympy'",
      "\nDuring handling of the above exception, another exception occurred:\n",
      "\u001b[0;31mFinishTaskErrorSignal\u001b[0m                     Traceback (most recent call last)",
      "Cell \u001b[0;32mIn[4], line 1\u001b[0m\n\u001b[0;32m----> 1\u001b[0m ai(\u001b[39m'\u001b[39;49m\u001b[39mfilter non primes out\u001b[39;49m\u001b[39m'\u001b[39;49m)\n",
      "File \u001b[0;32m~/src/aiknows/aiknows/ai.py:102\u001b[0m, in \u001b[0;36mai\u001b[0;34m(task, save_session, **kwargs)\u001b[0m\n\u001b[1;32m     98\u001b[0m runtime\u001b[39m.\u001b[39madd_vars(kwargs)\n\u001b[1;32m    100\u001b[0m session \u001b[39m=\u001b[39m Session(prompt, runtime)\n\u001b[0;32m--> 102\u001b[0m result \u001b[39m=\u001b[39m session\u001b[39m.\u001b[39;49mai(task, \u001b[39m*\u001b[39;49m\u001b[39m*\u001b[39;49mkwargs)\n\u001b[1;32m    104\u001b[0m \u001b[39mif\u001b[39;00m save_session:\n\u001b[1;32m    105\u001b[0m     \u001b[39mreturn\u001b[39;00m result, session\n",
      "File \u001b[0;32m~/src/aiknows/aiknows/ai.py:65\u001b[0m, in \u001b[0;36mSession.ai\u001b[0;34m(self, task, **kwargs)\u001b[0m\n\u001b[1;32m     63\u001b[0m         \u001b[39mraise\u001b[39;00m e \u001b[39mfrom\u001b[39;00m \u001b[39mlast_error\u001b[39;00m\n\u001b[1;32m     64\u001b[0m     \u001b[39melse\u001b[39;00m:\n\u001b[0;32m---> 65\u001b[0m         \u001b[39mraise\u001b[39;00m e\n\u001b[1;32m     67\u001b[0m \u001b[39m# no signal => real execution error\u001b[39;00m\n\u001b[1;32m     68\u001b[0m task_example\u001b[39m.\u001b[39madd_user_error(e)\n",
      "File \u001b[0;32m~/src/aiknows/aiknows/ai.py:51\u001b[0m, in \u001b[0;36mSession.ai\u001b[0;34m(self, task, **kwargs)\u001b[0m\n\u001b[1;32m     49\u001b[0m \u001b[39mtry\u001b[39;00m:\n\u001b[1;32m     50\u001b[0m     clean_code \u001b[39m=\u001b[39m task_example\u001b[39m.\u001b[39mstrip_code_markdown(code)  \u001b[39m# could raise error\u001b[39;00m\n\u001b[0;32m---> 51\u001b[0m     result \u001b[39m=\u001b[39m \u001b[39mself\u001b[39;49m\u001b[39m.\u001b[39;49mruntime\u001b[39m.\u001b[39;49mrun(clean_code)\n\u001b[1;32m     52\u001b[0m \u001b[39mexcept\u001b[39;00m \u001b[39mException\u001b[39;00m \u001b[39mas\u001b[39;00m e:\n\u001b[1;32m     53\u001b[0m     task_example\u001b[39m.\u001b[39madd_assistant(code)  \u001b[39m# put original code (w/ errors)\u001b[39;00m\n",
      "File \u001b[0;32m~/src/aiknows/aiknows/runtime.py:196\u001b[0m, in \u001b[0;36mLocalRuntime.run\u001b[0;34m(self, code, supress_stdout)\u001b[0m\n\u001b[1;32m    194\u001b[0m \u001b[39mwith\u001b[39;00m contextlib\u001b[39m.\u001b[39mredirect_stdout(\u001b[39mNone\u001b[39;00m) \u001b[39mif\u001b[39;00m supress_stdout \u001b[39melse\u001b[39;00m contextlib\u001b[39m.\u001b[39mnullcontext():\n\u001b[1;32m    195\u001b[0m     \u001b[39mwith\u001b[39;00m enable_signals():\n\u001b[0;32m--> 196\u001b[0m         result \u001b[39m=\u001b[39m \u001b[39mself\u001b[39;49m\u001b[39m.\u001b[39;49m_execute_jupyter_style(code)\n\u001b[1;32m    198\u001b[0m \u001b[39mself\u001b[39m\u001b[39m.\u001b[39mglobals[\u001b[39m'\u001b[39m\u001b[39m_\u001b[39m\u001b[39m'\u001b[39m] \u001b[39m=\u001b[39m result\n\u001b[1;32m    199\u001b[0m \u001b[39mreturn\u001b[39;00m result\n",
      "File \u001b[0;32m~/src/aiknows/aiknows/runtime.py:181\u001b[0m, in \u001b[0;36mLocalRuntime._execute_jupyter_style\u001b[0;34m(self, code)\u001b[0m\n\u001b[1;32m    178\u001b[0m \u001b[39m# Remove the last body element from the original tree\u001b[39;00m\n\u001b[1;32m    179\u001b[0m tree\u001b[39m.\u001b[39mbody \u001b[39m=\u001b[39m tree\u001b[39m.\u001b[39mbody[:\u001b[39m-\u001b[39m\u001b[39m1\u001b[39m]\n\u001b[0;32m--> 181\u001b[0m exec(\u001b[39mcompile\u001b[39;49m(tree, filename\u001b[39m=\u001b[39;49m\u001b[39mself\u001b[39;49m\u001b[39m.\u001b[39;49mEXEC_FILENAME, mode\u001b[39m=\u001b[39;49m\u001b[39m'\u001b[39;49m\u001b[39mexec\u001b[39;49m\u001b[39m'\u001b[39;49m), \u001b[39mself\u001b[39;49m\u001b[39m.\u001b[39;49mglobals)\n\u001b[1;32m    183\u001b[0m \u001b[39mif\u001b[39;00m return_last_expr \u001b[39mand\u001b[39;00m \u001b[39misinstance\u001b[39m(last, ast\u001b[39m.\u001b[39mExpr):\n\u001b[1;32m    184\u001b[0m     \u001b[39m# If the last body element does not end with semicolon, return its value\u001b[39;00m\n\u001b[1;32m    185\u001b[0m     last \u001b[39m=\u001b[39m ast\u001b[39m.\u001b[39mExpression(last\u001b[39m.\u001b[39mvalue)\n",
      "File \u001b[0;32m<gpt>:9\u001b[0m\n",
      "File \u001b[0;32m~/src/aiknows/aiknows/runtime.py:140\u001b[0m, in \u001b[0;36mfinish_task_error\u001b[0;34m(message, error_cause)\u001b[0m\n\u001b[1;32m    138\u001b[0m \u001b[39mdef\u001b[39;00m \u001b[39mfinish_task_error\u001b[39m(message: \u001b[39mstr\u001b[39m, error_cause: Union[\u001b[39mbool\u001b[39m, \u001b[39mException\u001b[39;00m] \u001b[39m=\u001b[39m \u001b[39mFalse\u001b[39;00m) \u001b[39m-\u001b[39m\u001b[39m>\u001b[39m \u001b[39mNone\u001b[39;00m:\n\u001b[1;32m    139\u001b[0m     \u001b[39mif\u001b[39;00m _can_throw_signals:\n\u001b[0;32m--> 140\u001b[0m         \u001b[39mraise\u001b[39;00m FinishTaskErrorSignal(message, error_cause)\n",
      "\u001b[0;31mFinishTaskErrorSignal\u001b[0m: "
     ]
    }
   ],
   "source": [
    "ai('filter non primes out')"
   ]
  },
  {
   "cell_type": "code",
   "execution_count": 2,
   "metadata": {},
   "outputs": [],
   "source": [
    "import pandas as pd\n",
    "df = pd.read_csv('tests/cities.csv')"
   ]
  },
  {
   "cell_type": "code",
   "execution_count": 4,
   "metadata": {},
   "outputs": [
    {
     "ename": "KeyError",
     "evalue": "'answer_key'",
     "output_type": "error",
     "traceback": [
      "\u001b[0;31m---------------------------------------------------------------------------\u001b[0m",
      "\u001b[0;31mKeyError\u001b[0m                                  Traceback (most recent call last)",
      "Cell \u001b[0;32mIn[4], line 2\u001b[0m\n\u001b[1;32m      1\u001b[0m d \u001b[39m=\u001b[39m {}\n\u001b[0;32m----> 2\u001b[0m d[\u001b[39m'\u001b[39;49m\u001b[39manswer_key\u001b[39;49m\u001b[39m'\u001b[39;49m]\n",
      "\u001b[0;31mKeyError\u001b[0m: 'answer_key'"
     ]
    }
   ],
   "source": [
    "d = {}\n",
    "d['answer_key']"
   ]
  },
  {
   "cell_type": "code",
   "execution_count": 3,
   "metadata": {},
   "outputs": [
    {
     "name": "stderr",
     "output_type": "stream",
     "text": [
      "INFO:aiknows.prompt.prompt:===user===\n",
      "\n",
      "TASK: \"\"\"\n",
      "return the two most distant cities in df\n",
      "\"\"\"\n",
      "ENV: new\n",
      "ARGS: \n",
      "- df: \"\"\"\n",
      "type: pandas.core.frame.DataFrame\n",
      "shape: (128, 10)\n",
      "columns: ['LatD', 'LatM', 'LatS', 'NS', 'LonD', 'LonM', 'LonS', 'EW', 'City', 'State']\n",
      "dtypes: ['int64', 'int64', 'int64', 'object', 'int64', 'int64', 'int64', 'object', 'object', 'object']\n",
      "\"\"\"\n",
      "\n",
      "INFO:aiknows.prompt.prompt:===assistant===\n",
      "\n",
      "```python\n",
      "# df is given via args and has a specific structure\n",
      "# we assume that the two most distant cities are the ones with the largest distance between them\n",
      "# we calculate the distance between each pair of cities and return the two with the largest distance\n",
      "\n",
      "from math import radians, sin, cos, sqrt\n",
      "\n",
      "def distance(city1, city2):\n",
      "    lat1, lon1 = city1['LatD'] + city1['LatM']/60, city1['LonD'] + city1['LonM']/60\n",
      "    lat2, lon2 = city2['LatD'] + city2['LatM']/60, city2['LonD'] + city2['LonM']/60\n",
      "    R = 6371  # radius of the earth in km\n",
      "    dlat = radians(lat2-lat1)\n",
      "    dlon = radians(lon2-lon1)\n",
      "    a = sin(dlat/2) * sin(dlat/2) + cos(radians(lat1)) \\\n",
      "        * cos(radians(lat2)) * sin(dlon/2) * sin(dlon/2)\n",
      "    c = 2 * atan2(sqrt(a), sqrt(1-a))\n",
      "    return R * c\n",
      "\n",
      "max_distance = 0\n",
      "city1, city2 = None, None\n",
      "for i, city_i in df.iterrows():\n",
      "    for j, city_j in df.iterrows():\n",
      "        if i >= j:\n",
      "            continue\n",
      "        d = distance(city_i, city_j)\n",
      "        if d > max_distance:\n",
      "            max_distance = d\n",
      "            city1, city2 = city_i, city_j\n",
      "\n",
      "finish_task_ok((city1['City'], city2['City']));\n",
      "```\n",
      "\n",
      "INFO:aiknows.prompt.prompt:===user===\n",
      "\n",
      "ERROR: \"\"\"\n",
      "NameError: name 'atan2' is not defined\n",
      "\"\"\"\n",
      "\n",
      "INFO:aiknows.prompt.prompt:===assistant===\n",
      "\n",
      "```python\n",
      "# we forgot to import atan2 function from math module\n",
      "from math import radians, sin, cos, sqrt, atan2\n",
      "\n",
      "def distance(city1, city2):\n",
      "    lat1, lon1 = city1['LatD'] + city1['LatM']/60, city1['LonD'] + city1['LonM']/60\n",
      "    lat2, lon2 = city2['LatD'] + city2['LatM']/60, city2['LonD'] + city2['LonM']/60\n",
      "    R = 6371  # radius of the earth in km\n",
      "    dlat = radians(lat2-lat1)\n",
      "    dlon = radians(lon2-lon1)\n",
      "    a = sin(dlat/2) * sin(dlat/2) + cos(radians(lat1)) \\\n",
      "        * cos(radians(lat2)) * sin(dlon/2) * sin(dlon/2)\n",
      "    c = 2 * atan2(sqrt(a), sqrt(1-a))\n",
      "    return R * c\n",
      "\n",
      "max_distance = 0\n",
      "city1, city2 = None, None\n",
      "for i, city_i in df.iterrows():\n",
      "    for j, city_j in df.iterrows():\n",
      "        if i >= j:\n",
      "            continue\n",
      "        d = distance(city_i, city_j)\n",
      "        if d > max_distance:\n",
      "            max_distance = d\n",
      "            city1, city2 = city_i, city_j\n",
      "\n",
      "finish_task_ok((city1['City'], city2['City']));\n",
      "```\n",
      "\n"
     ]
    }
   ],
   "source": [
    "_, sess = ai('return the two most distant cities in df', df=df, save_session=True)\n",
    "# r = sess.ai('strip all unnecessary symbols like spaces and \\'\\\" from previous result')\n",
    "# assert set(r) == {'West Palm Beach', 'Vancouver'}"
   ]
  },
  {
   "cell_type": "code",
   "execution_count": 3,
   "metadata": {},
   "outputs": [
    {
     "name": "stderr",
     "output_type": "stream",
     "text": [
      "INFO:aiknows.prompt.prompt:===user===\n",
      "\n",
      "TASK: \"\"\"\n",
      "a number of turtles in the sea\n",
      "\"\"\"\n",
      "ENV: new\n",
      "ARGS: <empty>\n",
      "\n",
      "INFO:aiknows.llm:cache miss on generating code\n",
      "INFO:aiknows.llm:len prompt messages: 32\n",
      "INFO:aiknows.llm:real prompt token length: 2099\n",
      "INFO:aiknows.prompt.prompt:===assistant===\n",
      "\n",
      "```python\n",
      "# the task is not clear and doesn't provide any context\n",
      "# so we return a function that takes a number of turtles as input and returns it\n",
      "def number_of_turtles(turtles):\n",
      "    return turtles\n",
      "\n",
      "finish_task_ok(number_of_turtles);\n",
      "```\n",
      "\n"
     ]
    },
    {
     "data": {
      "text/plain": [
       "<function number_of_turtles(turtles)>"
      ]
     },
     "execution_count": 3,
     "metadata": {},
     "output_type": "execute_result"
    }
   ],
   "source": [
    "ai('a number of turtles in the sea')"
   ]
  }
 ],
 "metadata": {
  "kernelspec": {
   "display_name": "aiknows",
   "language": "python",
   "name": "python3"
  },
  "language_info": {
   "codemirror_mode": {
    "name": "ipython",
    "version": 3
   },
   "file_extension": ".py",
   "mimetype": "text/x-python",
   "name": "python",
   "nbconvert_exporter": "python",
   "pygments_lexer": "ipython3",
   "version": "3.8.16"
  }
 },
 "nbformat": 4,
 "nbformat_minor": 2
}
