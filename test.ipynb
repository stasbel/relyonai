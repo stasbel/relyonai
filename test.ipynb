{
 "cells": [
  {
   "cell_type": "code",
   "execution_count": 1,
   "metadata": {},
   "outputs": [],
   "source": [
    "%reload_ext autoreload\n",
    "%autoreload 2\n",
    "\n",
    "import logging\n",
    "logging.basicConfig(level=logging.INFO)"
   ]
  },
  {
   "cell_type": "code",
   "execution_count": 2,
   "metadata": {},
   "outputs": [],
   "source": [
    "from askai import gpt"
   ]
  },
  {
   "cell_type": "code",
   "execution_count": 8,
   "metadata": {},
   "outputs": [
    {
     "data": {
      "text/plain": [
       "\"I'm sorry, I do not understand the question. Can you please provide more context or information?\""
      ]
     },
     "execution_count": 8,
     "metadata": {},
     "output_type": "execute_result"
    }
   ],
   "source": [
    "gpt('kek vs mem? a?')"
   ]
  },
  {
   "cell_type": "code",
   "execution_count": 6,
   "metadata": {},
   "outputs": [],
   "source": [
    "import askai"
   ]
  },
  {
   "cell_type": "code",
   "execution_count": 9,
   "metadata": {},
   "outputs": [
    {
     "data": {
      "text/plain": [
       "_Config(python_version='3.8', model='gpt-3.5-turbo', n_truncate_repr=150, history_len_max=5, cache_path='/Users/stanb/src/askai/askai/.askai.cache', _session_n_prompt_tokens=26, _session_n_completition_tokens=138)"
      ]
     },
     "execution_count": 9,
     "metadata": {},
     "output_type": "execute_result"
    }
   ],
   "source": [
    "askai.config"
   ]
  },
  {
   "cell_type": "code",
   "execution_count": 15,
   "metadata": {},
   "outputs": [
    {
     "data": {
      "text/plain": [
       "0.00032800000000000006"
      ]
     },
     "execution_count": 15,
     "metadata": {},
     "output_type": "execute_result"
    }
   ],
   "source": [
    "askai.config.session_dollars_spend"
   ]
  },
  {
   "cell_type": "code",
   "execution_count": 4,
   "metadata": {},
   "outputs": [
    {
     "data": {
      "text/plain": [
       "_Config(python_version='3.8', model='gpt-3.5-turbo', n_truncate_repr=150, history_len_max=5, cache_path='/Users/stanb/src/askai/askai/.askai.cache')"
      ]
     },
     "execution_count": 4,
     "metadata": {},
     "output_type": "execute_result"
    }
   ],
   "source": [
    "import askai\n",
    "askai.config"
   ]
  },
  {
   "cell_type": "code",
   "execution_count": 15,
   "metadata": {},
   "outputs": [
    {
     "data": {
      "text/plain": [
       "{'python_version': '3.8',\n",
       " 'model': 'gpt-3.5-turbo',\n",
       " 'n_truncate_repr': 150,\n",
       " 'history_len_max': 5,\n",
       " 'cache_path': '/Users/stanb/src/askai/askai/.askai.cache'}"
      ]
     },
     "execution_count": 15,
     "metadata": {},
     "output_type": "execute_result"
    }
   ],
   "source": [
    "import dataclasses\n",
    "dataclasses.asdict(askai.config)"
   ]
  },
  {
   "cell_type": "code",
   "execution_count": null,
   "metadata": {},
   "outputs": [],
   "source": []
  },
  {
   "cell_type": "code",
   "execution_count": 24,
   "metadata": {},
   "outputs": [
    {
     "data": {
      "text/plain": [
       "\"{'cache_path': '/Users/stanb/src/askai/askai/.askai.cache',\\n 'history_len_max': 5,\\n 'model': 'gpt-3.5-turbo',\\n 'n_truncate_repr': 150,\\n 'python_version': '3.8'}\""
      ]
     },
     "execution_count": 24,
     "metadata": {},
     "output_type": "execute_result"
    }
   ],
   "source": [
    "import pprint\n",
    "pprint.pformat(dataclasses.asdict(askai.config))"
   ]
  },
  {
   "cell_type": "code",
   "execution_count": 3,
   "metadata": {},
   "outputs": [
    {
     "ename": "ValueError",
     "evalue": "invalid model gpt-10, must be one of ('gpt-3.5-turbo', 'gpt-4')",
     "output_type": "error",
     "traceback": [
      "\u001b[0;31m---------------------------------------------------------------------------\u001b[0m",
      "\u001b[0;31mValueError\u001b[0m                                Traceback (most recent call last)",
      "Cell \u001b[0;32mIn[3], line 1\u001b[0m\n\u001b[0;32m----> 1\u001b[0m askai\u001b[39m.\u001b[39;49mconfig\u001b[39m.\u001b[39;49mmodel \u001b[39m=\u001b[39m \u001b[39m'\u001b[39m\u001b[39mgpt-10\u001b[39m\u001b[39m'\u001b[39m\n",
      "File \u001b[0;32m~/src/askai/askai/config.py:19\u001b[0m, in \u001b[0;36m_Config.__setattr__\u001b[0;34m(self, key, value)\u001b[0m\n\u001b[1;32m     17\u001b[0m \u001b[39mif\u001b[39;00m key \u001b[39m==\u001b[39m \u001b[39m'\u001b[39m\u001b[39mmodel\u001b[39m\u001b[39m'\u001b[39m:\n\u001b[1;32m     18\u001b[0m     \u001b[39mif\u001b[39;00m value \u001b[39mnot\u001b[39;00m \u001b[39min\u001b[39;00m AVAILABLE_MODELS:\n\u001b[0;32m---> 19\u001b[0m         \u001b[39mraise\u001b[39;00m \u001b[39mValueError\u001b[39;00m(\u001b[39mf\u001b[39m\u001b[39m'\u001b[39m\u001b[39minvalid model \u001b[39m\u001b[39m{\u001b[39;00mvalue\u001b[39m}\u001b[39;00m\u001b[39m, must be one of \u001b[39m\u001b[39m{\u001b[39;00mAVAILABLE_MODELS\u001b[39m}\u001b[39;00m\u001b[39m'\u001b[39m)\n\u001b[1;32m     21\u001b[0m \u001b[39mreturn\u001b[39;00m \u001b[39msuper\u001b[39m()\u001b[39m.\u001b[39m\u001b[39m__set__\u001b[39m(key, value)\n",
      "\u001b[0;31mValueError\u001b[0m: invalid model gpt-10, must be one of ('gpt-3.5-turbo', 'gpt-4')"
     ]
    }
   ],
   "source": [
    "askai.config.model = 'gpt-10'"
   ]
  },
  {
   "cell_type": "code",
   "execution_count": 11,
   "metadata": {},
   "outputs": [
    {
     "data": {
      "text/plain": [
       "_Config(model='abc', n_truncate_repr=150, history_len_max=5)"
      ]
     },
     "execution_count": 11,
     "metadata": {},
     "output_type": "execute_result"
    }
   ],
   "source": [
    "# import askai\n",
    "askai.config"
   ]
  },
  {
   "cell_type": "code",
   "execution_count": null,
   "metadata": {},
   "outputs": [],
   "source": [
    "from askai import ai, gpt"
   ]
  },
  {
   "cell_type": "code",
   "execution_count": 5,
   "metadata": {},
   "outputs": [],
   "source": [
    "import askai\n",
    "# askai.TRUNCATE_REPR = 300"
   ]
  },
  {
   "cell_type": "code",
   "execution_count": 8,
   "metadata": {},
   "outputs": [
    {
     "name": "stderr",
     "output_type": "stream",
     "text": [
      "INFO:askai.ai:cache miss, generating bytecode\n",
      "INFO:askai.ai:len prompt messages: 34\n",
      "INFO:askai.ai:prompt token length: 1490\n",
      "INFO:askai.ai:token usage: 1661\n",
      "INFO:askai.ai:assistant: ```python\n",
      "final_result = d['answer']\n",
      "final_result\n",
      "```\n",
      "INFO:askai.ai:user/error: ERROR: \"\"\"\n",
      "File \"<string>\", line 1, in <module>\n",
      "KeyError: 'answer'\n",
      "\"\"\"\n",
      "INFO:askai.ai:cache miss, generating bytecode\n",
      "INFO:askai.ai:len prompt messages: 36\n",
      "INFO:askai.ai:prompt token length: 1527\n",
      "INFO:askai.ai:token usage: 1735\n",
      "INFO:askai.ai:assistant: ```python\n",
      "# we justifiably assume answer key will be present from task description\n",
      "# but this turns out to be incorrect -- no problem, let's print existing keys\n",
      "result = d.keys()\n",
      "```\n",
      "INFO:askai.ai:user/result: RESULT: \"\"\"\n",
      "dict_keys(['Q', 'A'])\n",
      "\"\"\"\n",
      "INFO:askai.ai:cache miss, generating bytecode\n",
      "INFO:askai.ai:len prompt messages: 38\n",
      "INFO:askai.ai:prompt token length: 1582\n",
      "INFO:askai.ai:token usage: 1771\n",
      "INFO:askai.ai:assistant: ```python\n",
      "final_result = d['A']\n",
      "final_result\n",
      "```\n"
     ]
    },
    {
     "data": {
      "text/plain": [
       "'dog'"
      ]
     },
     "execution_count": 8,
     "metadata": {},
     "output_type": "execute_result"
    }
   ],
   "source": [
    "ai('return answer from d', d={'Q': 'bark?', 'A': 'dog'})"
   ]
  },
  {
   "cell_type": "code",
   "execution_count": 2,
   "metadata": {},
   "outputs": [],
   "source": [
    "from askai import exceptions"
   ]
  },
  {
   "cell_type": "code",
   "execution_count": 3,
   "metadata": {},
   "outputs": [
    {
     "ename": "ValueError",
     "evalue": "test A",
     "output_type": "error",
     "traceback": [
      "\u001b[0;31m---------------------------------------------------------------------------\u001b[0m",
      "\u001b[0;31mValueError\u001b[0m                                Traceback (most recent call last)",
      "Cell \u001b[0;32mIn[3], line 1\u001b[0m\n\u001b[0;32m----> 1\u001b[0m \u001b[39mraise\u001b[39;00m \u001b[39mValueError\u001b[39;00m(\u001b[39m'\u001b[39m\u001b[39mtest A\u001b[39m\u001b[39m'\u001b[39m)\n",
      "\u001b[0;31mValueError\u001b[0m: test A"
     ]
    }
   ],
   "source": [
    "raise ValueError('test A')"
   ]
  },
  {
   "cell_type": "code",
   "execution_count": 5,
   "metadata": {},
   "outputs": [],
   "source": [
    "exceptions.set_last_raised_exception(ValueError('test B'))"
   ]
  },
  {
   "cell_type": "code",
   "execution_count": 8,
   "metadata": {},
   "outputs": [
    {
     "ename": "NameError",
     "evalue": "name 'asd' is not defined",
     "output_type": "error",
     "traceback": [
      "\u001b[0;31m---------------------------------------------------------------------------\u001b[0m",
      "\u001b[0;31mNameError\u001b[0m                                 Traceback (most recent call last)",
      "Cell \u001b[0;32mIn[8], line 1\u001b[0m\n\u001b[0;32m----> 1\u001b[0m asd\n",
      "\u001b[0;31mNameError\u001b[0m: name 'asd' is not defined"
     ]
    }
   ],
   "source": [
    "asd"
   ]
  },
  {
   "cell_type": "code",
   "execution_count": 9,
   "metadata": {},
   "outputs": [
    {
     "data": {
      "text/plain": [
       "ValueError('test B')"
      ]
     },
     "execution_count": 9,
     "metadata": {},
     "output_type": "execute_result"
    }
   ],
   "source": [
    "exceptions.get_last_raised_exception()"
   ]
  },
  {
   "cell_type": "code",
   "execution_count": 2,
   "metadata": {},
   "outputs": [],
   "source": [
    "# ai('returns a completition for a given prompt for chat-gpt model', prompt='hello!')"
   ]
  },
  {
   "cell_type": "code",
   "execution_count": 11,
   "metadata": {},
   "outputs": [
    {
     "name": "stderr",
     "output_type": "stream",
     "text": [
      "INFO:askai.ai:cache miss, generating bytecode\n",
      "INFO:askai.ai:len prompt messages: 28\n",
      "INFO:askai.ai:prompt token length: 1200\n",
      "INFO:askai.ai:token usage: 1341\n",
      "INFO:askai.ai:code: final_result = d['answer']\n",
      "INFO:askai.ai:error: ERROR: \"\"\"\n",
      "File \"<string>\", line 1, in <module>\n",
      "KeyError: 'answer'\n",
      "\"\"\"\n",
      "INFO:askai.ai:cache miss, generating bytecode\n",
      "INFO:askai.ai:len prompt messages: 30\n",
      "INFO:askai.ai:prompt token length: 1234\n",
      "INFO:askai.ai:token usage: 1415\n",
      "INFO:askai.ai:code: # we justifiably assume answer key will be present from task description\n",
      "# but this turns out to be incorrect -- no problem, let's print existing keys\n",
      "result = d.keys()\n",
      "INFO:askai.ai:result: RESULT: \"\"\"\n",
      "dict_keys(['Q', 'A'])\n",
      "\"\"\"\n",
      "INFO:askai.ai:cache miss, generating bytecode\n",
      "INFO:askai.ai:len prompt messages: 32\n",
      "INFO:askai.ai:prompt token length: 1289\n",
      "INFO:askai.ai:token usage: 1448\n",
      "INFO:askai.ai:code: final_result = d['A']\n"
     ]
    },
    {
     "data": {
      "text/plain": [
       "'dog'"
      ]
     },
     "execution_count": 11,
     "metadata": {},
     "output_type": "execute_result"
    }
   ],
   "source": [
    "d = {'Q': 'bark?', 'A': 'dog'}\n",
    "ai('return asnwer from d', d=d)"
   ]
  },
  {
   "cell_type": "code",
   "execution_count": 2,
   "metadata": {},
   "outputs": [],
   "source": [
    "from askai import ai, gpt"
   ]
  },
  {
   "cell_type": "code",
   "execution_count": 3,
   "metadata": {},
   "outputs": [
    {
     "data": {
      "text/plain": [
       "'Hello! How can I assist you today?'"
      ]
     },
     "execution_count": 3,
     "metadata": {},
     "output_type": "execute_result"
    }
   ],
   "source": [
    "gpt('Hello!')"
   ]
  },
  {
   "cell_type": "code",
   "execution_count": 6,
   "metadata": {},
   "outputs": [
    {
     "data": {
      "text/plain": [
       "'16'"
      ]
     },
     "execution_count": 6,
     "metadata": {},
     "output_type": "execute_result"
    }
   ],
   "source": [
    "gpt(\"\"\"\\\n",
    "Q: 1\n",
    "A: 2\n",
    "Q: 2\n",
    "A: 4\n",
    "Q: 4\n",
    "A: 8\n",
    "Q: 8\n",
    "A:\\\n",
    "\"\"\")"
   ]
  },
  {
   "cell_type": "code",
   "execution_count": 5,
   "metadata": {},
   "outputs": [
    {
     "name": "stderr",
     "output_type": "stream",
     "text": [
      "INFO:askai.ai:cache miss, generating bytecode\n",
      "INFO:askai.ai:len prompt messages: 28\n",
      "INFO:askai.ai:prompt token length: 1187\n",
      "INFO:askai.ai:token usage: 1330\n",
      "INFO:askai.ai:code: ```python\n",
      "final_result = 100 + 300\n",
      "```\n"
     ]
    },
    {
     "data": {
      "text/plain": [
       "400"
      ]
     },
     "execution_count": 5,
     "metadata": {},
     "output_type": "execute_result"
    }
   ],
   "source": [
    "ai('sum 100 and 300')"
   ]
  },
  {
   "cell_type": "code",
   "execution_count": 20,
   "metadata": {},
   "outputs": [],
   "source": [
    "g = ai('translate s to french', s='hello')"
   ]
  },
  {
   "cell_type": "code",
   "execution_count": 21,
   "metadata": {},
   "outputs": [
    {
     "data": {
      "text/plain": [
       "<function askai.gpt.gpt(prompt: str, *, t=1.0) -> str>"
      ]
     },
     "execution_count": 21,
     "metadata": {},
     "output_type": "execute_result"
    }
   ],
   "source": [
    "g"
   ]
  },
  {
   "cell_type": "code",
   "execution_count": 14,
   "metadata": {},
   "outputs": [
    {
     "name": "stderr",
     "output_type": "stream",
     "text": [
      "INFO:askai.ai:cache miss, generating bytecode\n",
      "INFO:askai.ai:len prompt messages: 22\n",
      "INFO:askai.ai:prompt token length: 967\n",
      "INFO:askai.ai:token usage: 1230\n",
      "INFO:askai.ai:code: ```python\n",
      "# PyPDF2 package might be missing, but we don't attempt to install it\n",
      "import PyPDF2\n",
      "\n",
      "# open the PDF file in read-binary mode\n",
      "with open('kek.pdf', 'rb') as f:\n",
      "    # create a PDF reader object\n",
      "    reader = PyPDF2.PdfFileReader(f)\n",
      "\n",
      "    # read the first 1000 characters of the first page\n",
      "    page = reader.getPage(0)\n",
      "    content = page.extractText()[:1000]\n",
      "\n",
      "# task mentioned generic summarization, that's what chat-gpt good at\n",
      "# so we invoke it from the code with global `gpt` func\n",
      "summary = gpt(f'Summarize the following text: \"\"\"\\n{content}\\n\"\"\"')\n",
      "\n",
      "result = summary\n",
      "```\n"
     ]
    },
    {
     "data": {
      "text/plain": [
       "'# PyPDF2 package might be missing, but we don\\'t attempt to install it\\nimport PyPDF2\\n\\n# open the PDF file in read-binary mode\\nwith open(\\'kek.pdf\\', \\'rb\\') as f:\\n    # create a PDF reader object\\n    reader = PyPDF2.PdfFileReader(f)\\n\\n    # read the first 1000 characters of the first page\\n    page = reader.getPage(0)\\n    content = page.extractText()[:1000]\\n\\n# task mentioned generic summarization, that\\'s what chat-gpt good at\\n# so we invoke it from the code with global `gpt` func\\nsummary = gpt(f\\'Summarize the following text: \"\"\"\\\\n{content}\\\\n\"\"\"\\')\\n\\nresult = summary'"
      ]
     },
     "execution_count": 14,
     "metadata": {},
     "output_type": "execute_result"
    }
   ],
   "source": [
    "ai('read and summarize first 1000 chars of kek.pdf')"
   ]
  },
  {
   "cell_type": "code",
   "execution_count": 10,
   "metadata": {},
   "outputs": [
    {
     "name": "stderr",
     "output_type": "stream",
     "text": [
      "INFO:askai.ai:cache miss, generating bytecode\n",
      "INFO:askai.ai:len prompt messages: 22\n",
      "INFO:askai.ai:prompt token length: 948\n",
      "INFO:askai.ai:token usage: 1130\n",
      "INFO:askai.ai:code: ```python\n",
      "with open(f'text.txt') as f:\n",
      "    content = f.read()\n",
      "\n",
      "# task mintioned generic summarization, that's what chat-gpt good at\n",
      "# so we invoke it from the code with global `gpt` func\n",
      "summary = gpt(f'Summarize the following text: \"\"\"\\n{content}\\n\"\"\"')\n",
      "\n",
      "result = summary\n",
      "```\n"
     ]
    },
    {
     "data": {
      "text/plain": [
       "'with open(f\\'text.txt\\') as f:\\n    content = f.read()\\n\\n# task mintioned generic summarization, that\\'s what chat-gpt good at\\n# so we invoke it from the code with global `gpt` func\\nsummary = gpt(f\\'Summarize the following text: \"\"\"\\\\n{content}\\\\n\"\"\"\\')\\n\\nresult = summary'"
      ]
     },
     "execution_count": 10,
     "metadata": {},
     "output_type": "execute_result"
    }
   ],
   "source": [
    "ai('read file text.txt and summarize its content')"
   ]
  },
  {
   "cell_type": "code",
   "execution_count": 5,
   "metadata": {},
   "outputs": [
    {
     "name": "stderr",
     "output_type": "stream",
     "text": [
      "INFO:askai.ai:len prompt messages: 20\n",
      "INFO:askai.ai:prompt token length: 790\n",
      "INFO:askai.ai:cache miss, generating bytecode\n",
      "INFO:askai.ai:token usage: 899\n",
      "INFO:askai.ai:code: ```python\n",
      "result = 1 + (10 ** 10)\n",
      "```\n"
     ]
    },
    {
     "data": {
      "text/plain": [
       "'result = 1 + (10 ** 10)'"
      ]
     },
     "execution_count": 5,
     "metadata": {},
     "output_type": "execute_result"
    }
   ],
   "source": [
    "ai('sum of 1 and (10 ** 10)')"
   ]
  },
  {
   "cell_type": "code",
   "execution_count": 8,
   "metadata": {},
   "outputs": [
    {
     "name": "stderr",
     "output_type": "stream",
     "text": [
      "INFO:askai.ai:len prompt messages: 20\n",
      "INFO:askai.ai:prompt length: 787\n"
     ]
    },
    {
     "data": {
      "text/plain": [
       "array([[1., 0., 0., ..., 0., 0., 0.],\n",
       "       [0., 1., 0., ..., 0., 0., 0.],\n",
       "       [0., 0., 1., ..., 0., 0., 0.],\n",
       "       ...,\n",
       "       [0., 0., 0., ..., 1., 0., 0.],\n",
       "       [0., 0., 0., ..., 0., 1., 0.],\n",
       "       [0., 0., 0., ..., 0., 0., 1.]])"
      ]
     },
     "execution_count": 8,
     "metadata": {},
     "output_type": "execute_result"
    }
   ],
   "source": [
    "ai('eye square matrix of size 123')"
   ]
  },
  {
   "cell_type": "code",
   "execution_count": 24,
   "metadata": {},
   "outputs": [],
   "source": [
    "import ast\n",
    "cmp = compile('''\\\n",
    "def f(x):\n",
    "    return x * 2\\\n",
    "''', '<gpt>', 'exec', flags=ast.PyCF_ONLY_AST)\n",
    "# dont_inherit=True"
   ]
  },
  {
   "cell_type": "code",
   "execution_count": 25,
   "metadata": {},
   "outputs": [
    {
     "data": {
      "text/plain": [
       "<code object <module> at 0x7f91622cbc90, file \"<gpt>\", line 1>"
      ]
     },
     "execution_count": 25,
     "metadata": {},
     "output_type": "execute_result"
    }
   ],
   "source": [
    "compile(cmp, '<gpt>', 'exec')"
   ]
  },
  {
   "cell_type": "code",
   "execution_count": 26,
   "metadata": {},
   "outputs": [
    {
     "ename": "TypeError",
     "evalue": "exec() arg 1 must be a string, bytes or code object",
     "output_type": "error",
     "traceback": [
      "\u001b[0;31m---------------------------------------------------------------------------\u001b[0m",
      "\u001b[0;31mTypeError\u001b[0m                                 Traceback (most recent call last)",
      "Cell \u001b[0;32mIn[26], line 1\u001b[0m\n\u001b[0;32m----> 1\u001b[0m exec(cmp, {})\n",
      "\u001b[0;31mTypeError\u001b[0m: exec() arg 1 must be a string, bytes or code object"
     ]
    }
   ],
   "source": [
    "exec(cmp, {})"
   ]
  },
  {
   "cell_type": "code",
   "execution_count": 16,
   "metadata": {},
   "outputs": [
    {
     "data": {
      "text/plain": [
       "<_ast.Module at 0x7f91620c6af0>"
      ]
     },
     "execution_count": 16,
     "metadata": {},
     "output_type": "execute_result"
    }
   ],
   "source": [
    "cmp"
   ]
  },
  {
   "cell_type": "code",
   "execution_count": 14,
   "metadata": {},
   "outputs": [],
   "source": [
    "# import joblib\n",
    "# joblib.dump(cmp, 'test.joblib')"
   ]
  },
  {
   "cell_type": "code",
   "execution_count": 19,
   "metadata": {},
   "outputs": [
    {
     "ename": "TypeError",
     "evalue": "cannot pickle 'code' object",
     "output_type": "error",
     "traceback": [
      "\u001b[0;31m---------------------------------------------------------------------------\u001b[0m",
      "\u001b[0;31mTypeError\u001b[0m                                 Traceback (most recent call last)",
      "Cell \u001b[0;32mIn[19], line 2\u001b[0m\n\u001b[1;32m      1\u001b[0m \u001b[39mimport\u001b[39;00m \u001b[39mpickle\u001b[39;00m\n\u001b[0;32m----> 2\u001b[0m pickle\u001b[39m.\u001b[39;49mdumps(cmp)\n",
      "\u001b[0;31mTypeError\u001b[0m: cannot pickle 'code' object"
     ]
    }
   ],
   "source": [
    "import pickle\n",
    "pickle.dumps(cmp)"
   ]
  },
  {
   "cell_type": "code",
   "execution_count": 10,
   "metadata": {},
   "outputs": [
    {
     "data": {
      "text/plain": [
       "(<code object f at 0x7f9170185030, file \"<gpt>\", line 1>, 'f', None)"
      ]
     },
     "execution_count": 10,
     "metadata": {},
     "output_type": "execute_result"
    }
   ],
   "source": [
    "cmp"
   ]
  },
  {
   "cell_type": "code",
   "execution_count": 4,
   "metadata": {},
   "outputs": [
    {
     "name": "stderr",
     "output_type": "stream",
     "text": [
      "INFO:askai.ai:len prompt messages: 20\n",
      "INFO:askai.ai:prompt length: 787\n"
     ]
    },
    {
     "ename": "NameError",
     "evalue": "name 'kek' is not defined",
     "output_type": "error",
     "traceback": [
      "\u001b[0;31m---------------------------------------------------------------------------\u001b[0m",
      "\u001b[0;31mNameError\u001b[0m                                 Traceback (most recent call last)",
      "Cell \u001b[0;32mIn[4], line 1\u001b[0m\n\u001b[0;32m----> 1\u001b[0m ai(\u001b[39m'\u001b[39;49m\u001b[39meye square matrix of size 123\u001b[39;49m\u001b[39m'\u001b[39;49m)\n",
      "File \u001b[0;32m~/src/askai/askai/ai.py:55\u001b[0m, in \u001b[0;36mai\u001b[0;34m(task, **kwargs)\u001b[0m\n\u001b[1;32m     53\u001b[0m \u001b[39m# https://docs.python.org/3/library/functions.html#exec\u001b[39;00m\n\u001b[1;32m     54\u001b[0m _globals \u001b[39m=\u001b[39m kwargs\n\u001b[0;32m---> 55\u001b[0m exec(bytecode, _globals)\n\u001b[1;32m     56\u001b[0m \u001b[39mreturn\u001b[39;00m _globals[\u001b[39m'\u001b[39m\u001b[39mresult\u001b[39m\u001b[39m'\u001b[39m]\n",
      "File \u001b[0;32m<string>:1\u001b[0m\n",
      "\u001b[0;31mNameError\u001b[0m: name 'kek' is not defined"
     ]
    }
   ],
   "source": [
    "ai('eye square matrix of size 123')"
   ]
  },
  {
   "cell_type": "code",
   "execution_count": 10,
   "metadata": {},
   "outputs": [],
   "source": [
    "from askai.ai import memory, _generate_or_retrieve_code"
   ]
  },
  {
   "cell_type": "code",
   "execution_count": 3,
   "metadata": {},
   "outputs": [],
   "source": [
    "from askai import prompt\n",
    "prompt_messages = prompt.make_prompt_messages('eye square matrix of size 123')"
   ]
  },
  {
   "cell_type": "code",
   "execution_count": 6,
   "metadata": {},
   "outputs": [
    {
     "data": {
      "text/plain": [
       "'finish'"
      ]
     },
     "execution_count": 6,
     "metadata": {},
     "output_type": "execute_result"
    }
   ],
   "source": [
    "\n",
    "import joblib\n",
    "memory = joblib.Memory('.check.cache', verbose=1)\n",
    "\n",
    "@memory.cache\n",
    "def cahceble(m):\n",
    "    print('cache miss')\n",
    "    return 'finish'\n",
    "\n",
    "cahceble(prompt_messages)"
   ]
  },
  {
   "cell_type": "code",
   "execution_count": 14,
   "metadata": {},
   "outputs": [
    {
     "data": {
      "text/plain": [
       "'ea2e764bd4e26deeebce23a784c58560'"
      ]
     },
     "execution_count": 14,
     "metadata": {},
     "output_type": "execute_result"
    }
   ],
   "source": [
    "import joblib\n",
    "joblib.hash(prompt_messages)"
   ]
  },
  {
   "cell_type": "code",
   "execution_count": 12,
   "metadata": {},
   "outputs": [
    {
     "data": {
      "text/plain": [
       "False"
      ]
     },
     "execution_count": 12,
     "metadata": {},
     "output_type": "execute_result"
    }
   ],
   "source": [
    "_generate_or_retrieve_code.check_call_in_cache(prompt_messages)"
   ]
  },
  {
   "cell_type": "code",
   "execution_count": 9,
   "metadata": {},
   "outputs": [
    {
     "ename": "AttributeError",
     "evalue": "'Memory' object has no attribute 'check_call_in_cache'",
     "output_type": "error",
     "traceback": [
      "\u001b[0;31m---------------------------------------------------------------------------\u001b[0m",
      "\u001b[0;31mAttributeError\u001b[0m                            Traceback (most recent call last)",
      "Cell \u001b[0;32mIn[9], line 1\u001b[0m\n\u001b[0;32m----> 1\u001b[0m memory\u001b[39m.\u001b[39;49mcheck_call_in_cache\n",
      "\u001b[0;31mAttributeError\u001b[0m: 'Memory' object has no attribute 'check_call_in_cache'"
     ]
    }
   ],
   "source": [
    "memory.check_call_in_cache"
   ]
  },
  {
   "cell_type": "code",
   "execution_count": 2,
   "metadata": {},
   "outputs": [],
   "source": [
    "from askai import ai"
   ]
  },
  {
   "cell_type": "code",
   "execution_count": null,
   "metadata": {},
   "outputs": [],
   "source": [
    "ea2e764bd4e26deeebce23a784c58560"
   ]
  },
  {
   "cell_type": "code",
   "execution_count": 4,
   "metadata": {},
   "outputs": [
    {
     "name": "stderr",
     "output_type": "stream",
     "text": [
      "INFO:askai.ai:len prompt messages: 20\n",
      "INFO:askai.ai:prompt length: 787\n",
      "INFO:askai.ai:cache miss, generating bytecode\n"
     ]
    },
    {
     "ename": "KeyboardInterrupt",
     "evalue": "",
     "output_type": "error",
     "traceback": [
      "\u001b[0;31m---------------------------------------------------------------------------\u001b[0m",
      "\u001b[0;31mKeyboardInterrupt\u001b[0m                         Traceback (most recent call last)",
      "Cell \u001b[0;32mIn[4], line 1\u001b[0m\n\u001b[0;32m----> 1\u001b[0m ai(\u001b[39m'\u001b[39;49m\u001b[39meye square matrix of size 123\u001b[39;49m\u001b[39m'\u001b[39;49m)\n",
      "File \u001b[0;32m~/src/askai/askai/ai.py:49\u001b[0m, in \u001b[0;36mai\u001b[0;34m(task, **kwargs)\u001b[0m\n\u001b[1;32m     46\u001b[0m     logger\u001b[39m.\u001b[39minfo(\u001b[39mf\u001b[39m\u001b[39m'\u001b[39m\u001b[39mprompt length: \u001b[39m\u001b[39m{\u001b[39;00mprompt_len\u001b[39m}\u001b[39;00m\u001b[39m'\u001b[39m)\n\u001b[1;32m     48\u001b[0m \u001b[39m# hoping for a cache hit\u001b[39;00m\n\u001b[0;32m---> 49\u001b[0m bytecode \u001b[39m=\u001b[39m _generate_or_retrieve_bytecode(prompt_messages)\n\u001b[1;32m     51\u001b[0m \u001b[39m# https://docs.python.org/3/library/functions.html#exec\u001b[39;00m\n\u001b[1;32m     52\u001b[0m _globals \u001b[39m=\u001b[39m kwargs\n",
      "File \u001b[0;32m~/.miniconda3/envs/askai/lib/python3.8/site-packages/joblib/memory.py:594\u001b[0m, in \u001b[0;36mMemorizedFunc.__call__\u001b[0;34m(self, *args, **kwargs)\u001b[0m\n\u001b[1;32m    593\u001b[0m \u001b[39mdef\u001b[39;00m \u001b[39m__call__\u001b[39m(\u001b[39mself\u001b[39m, \u001b[39m*\u001b[39margs, \u001b[39m*\u001b[39m\u001b[39m*\u001b[39mkwargs):\n\u001b[0;32m--> 594\u001b[0m     \u001b[39mreturn\u001b[39;00m \u001b[39mself\u001b[39;49m\u001b[39m.\u001b[39;49m_cached_call(args, kwargs)[\u001b[39m0\u001b[39m]\n",
      "File \u001b[0;32m~/.miniconda3/envs/askai/lib/python3.8/site-packages/joblib/memory.py:537\u001b[0m, in \u001b[0;36mMemorizedFunc._cached_call\u001b[0;34m(self, args, kwargs, shelving)\u001b[0m\n\u001b[1;32m    534\u001b[0m         must_call \u001b[39m=\u001b[39m \u001b[39mTrue\u001b[39;00m\n\u001b[1;32m    536\u001b[0m \u001b[39mif\u001b[39;00m must_call:\n\u001b[0;32m--> 537\u001b[0m     out, metadata \u001b[39m=\u001b[39m \u001b[39mself\u001b[39;49m\u001b[39m.\u001b[39;49mcall(\u001b[39m*\u001b[39;49margs, \u001b[39m*\u001b[39;49m\u001b[39m*\u001b[39;49mkwargs)\n\u001b[1;32m    538\u001b[0m     \u001b[39mif\u001b[39;00m \u001b[39mself\u001b[39m\u001b[39m.\u001b[39mmmap_mode \u001b[39mis\u001b[39;00m \u001b[39mnot\u001b[39;00m \u001b[39mNone\u001b[39;00m:\n\u001b[1;32m    539\u001b[0m         \u001b[39m# Memmap the output at the first call to be consistent with\u001b[39;00m\n\u001b[1;32m    540\u001b[0m         \u001b[39m# later calls\u001b[39;00m\n\u001b[1;32m    541\u001b[0m         \u001b[39mif\u001b[39;00m \u001b[39mself\u001b[39m\u001b[39m.\u001b[39m_verbose:\n",
      "File \u001b[0;32m~/.miniconda3/envs/askai/lib/python3.8/site-packages/joblib/memory.py:779\u001b[0m, in \u001b[0;36mMemorizedFunc.call\u001b[0;34m(self, *args, **kwargs)\u001b[0m\n\u001b[1;32m    777\u001b[0m \u001b[39mif\u001b[39;00m \u001b[39mself\u001b[39m\u001b[39m.\u001b[39m_verbose \u001b[39m>\u001b[39m \u001b[39m0\u001b[39m:\n\u001b[1;32m    778\u001b[0m     \u001b[39mprint\u001b[39m(format_call(\u001b[39mself\u001b[39m\u001b[39m.\u001b[39mfunc, args, kwargs))\n\u001b[0;32m--> 779\u001b[0m output \u001b[39m=\u001b[39m \u001b[39mself\u001b[39;49m\u001b[39m.\u001b[39;49mfunc(\u001b[39m*\u001b[39;49margs, \u001b[39m*\u001b[39;49m\u001b[39m*\u001b[39;49mkwargs)\n\u001b[1;32m    780\u001b[0m \u001b[39mself\u001b[39m\u001b[39m.\u001b[39mstore_backend\u001b[39m.\u001b[39mdump_item(\n\u001b[1;32m    781\u001b[0m     [func_id, args_id], output, verbose\u001b[39m=\u001b[39m\u001b[39mself\u001b[39m\u001b[39m.\u001b[39m_verbose)\n\u001b[1;32m    783\u001b[0m duration \u001b[39m=\u001b[39m time\u001b[39m.\u001b[39mtime() \u001b[39m-\u001b[39m start_time\n",
      "File \u001b[0;32m~/src/askai/askai/ai.py:20\u001b[0m, in \u001b[0;36m_generate_or_retrieve_bytecode\u001b[0;34m(prompt_messages)\u001b[0m\n\u001b[1;32m     16\u001b[0m \u001b[39m@memory\u001b[39m\u001b[39m.\u001b[39mcache\n\u001b[1;32m     17\u001b[0m \u001b[39mdef\u001b[39;00m \u001b[39m_generate_or_retrieve_bytecode\u001b[39m(prompt_messages):\n\u001b[1;32m     18\u001b[0m     logger\u001b[39m.\u001b[39minfo(\u001b[39m'\u001b[39m\u001b[39mcache miss, generating bytecode\u001b[39m\u001b[39m'\u001b[39m)\n\u001b[0;32m---> 20\u001b[0m     response \u001b[39m=\u001b[39m openai\u001b[39m.\u001b[39;49mChatCompletion\u001b[39m.\u001b[39;49mcreate(\n\u001b[1;32m     21\u001b[0m         model\u001b[39m=\u001b[39;49maskai\u001b[39m.\u001b[39;49mOPENAI_MODEL,\n\u001b[1;32m     22\u001b[0m         messages\u001b[39m=\u001b[39;49mprompt_messages,\n\u001b[1;32m     23\u001b[0m         temperature\u001b[39m=\u001b[39;49m\u001b[39m0.0\u001b[39;49m,\n\u001b[1;32m     24\u001b[0m     )\n\u001b[1;32m     25\u001b[0m     code \u001b[39m=\u001b[39m response[\u001b[39m'\u001b[39m\u001b[39mchoices\u001b[39m\u001b[39m'\u001b[39m][\u001b[39m0\u001b[39m][\u001b[39m'\u001b[39m\u001b[39mmessage\u001b[39m\u001b[39m'\u001b[39m][\u001b[39m'\u001b[39m\u001b[39mcontent\u001b[39m\u001b[39m'\u001b[39m]\u001b[39m.\u001b[39mstrip()\n\u001b[1;32m     26\u001b[0m     logger\u001b[39m.\u001b[39minfo(\u001b[39mf\u001b[39m\u001b[39m'\u001b[39m\u001b[39mcode: \u001b[39m\u001b[39m{\u001b[39;00mcode\u001b[39m}\u001b[39;00m\u001b[39m'\u001b[39m)\n",
      "File \u001b[0;32m~/.miniconda3/envs/askai/lib/python3.8/site-packages/openai/api_resources/chat_completion.py:25\u001b[0m, in \u001b[0;36mChatCompletion.create\u001b[0;34m(cls, *args, **kwargs)\u001b[0m\n\u001b[1;32m     23\u001b[0m \u001b[39mwhile\u001b[39;00m \u001b[39mTrue\u001b[39;00m:\n\u001b[1;32m     24\u001b[0m     \u001b[39mtry\u001b[39;00m:\n\u001b[0;32m---> 25\u001b[0m         \u001b[39mreturn\u001b[39;00m \u001b[39msuper\u001b[39;49m()\u001b[39m.\u001b[39;49mcreate(\u001b[39m*\u001b[39;49margs, \u001b[39m*\u001b[39;49m\u001b[39m*\u001b[39;49mkwargs)\n\u001b[1;32m     26\u001b[0m     \u001b[39mexcept\u001b[39;00m TryAgain \u001b[39mas\u001b[39;00m e:\n\u001b[1;32m     27\u001b[0m         \u001b[39mif\u001b[39;00m timeout \u001b[39mis\u001b[39;00m \u001b[39mnot\u001b[39;00m \u001b[39mNone\u001b[39;00m \u001b[39mand\u001b[39;00m time\u001b[39m.\u001b[39mtime() \u001b[39m>\u001b[39m start \u001b[39m+\u001b[39m timeout:\n",
      "File \u001b[0;32m~/.miniconda3/envs/askai/lib/python3.8/site-packages/openai/api_resources/abstract/engine_api_resource.py:153\u001b[0m, in \u001b[0;36mEngineAPIResource.create\u001b[0;34m(cls, api_key, api_base, api_type, request_id, api_version, organization, **params)\u001b[0m\n\u001b[1;32m    127\u001b[0m \u001b[39m@classmethod\u001b[39m\n\u001b[1;32m    128\u001b[0m \u001b[39mdef\u001b[39;00m \u001b[39mcreate\u001b[39m(\n\u001b[1;32m    129\u001b[0m     \u001b[39mcls\u001b[39m,\n\u001b[0;32m   (...)\u001b[0m\n\u001b[1;32m    136\u001b[0m     \u001b[39m*\u001b[39m\u001b[39m*\u001b[39mparams,\n\u001b[1;32m    137\u001b[0m ):\n\u001b[1;32m    138\u001b[0m     (\n\u001b[1;32m    139\u001b[0m         deployment_id,\n\u001b[1;32m    140\u001b[0m         engine,\n\u001b[0;32m   (...)\u001b[0m\n\u001b[1;32m    150\u001b[0m         api_key, api_base, api_type, api_version, organization, \u001b[39m*\u001b[39m\u001b[39m*\u001b[39mparams\n\u001b[1;32m    151\u001b[0m     )\n\u001b[0;32m--> 153\u001b[0m     response, _, api_key \u001b[39m=\u001b[39m requestor\u001b[39m.\u001b[39;49mrequest(\n\u001b[1;32m    154\u001b[0m         \u001b[39m\"\u001b[39;49m\u001b[39mpost\u001b[39;49m\u001b[39m\"\u001b[39;49m,\n\u001b[1;32m    155\u001b[0m         url,\n\u001b[1;32m    156\u001b[0m         params\u001b[39m=\u001b[39;49mparams,\n\u001b[1;32m    157\u001b[0m         headers\u001b[39m=\u001b[39;49mheaders,\n\u001b[1;32m    158\u001b[0m         stream\u001b[39m=\u001b[39;49mstream,\n\u001b[1;32m    159\u001b[0m         request_id\u001b[39m=\u001b[39;49mrequest_id,\n\u001b[1;32m    160\u001b[0m         request_timeout\u001b[39m=\u001b[39;49mrequest_timeout,\n\u001b[1;32m    161\u001b[0m     )\n\u001b[1;32m    163\u001b[0m     \u001b[39mif\u001b[39;00m stream:\n\u001b[1;32m    164\u001b[0m         \u001b[39m# must be an iterator\u001b[39;00m\n\u001b[1;32m    165\u001b[0m         \u001b[39massert\u001b[39;00m \u001b[39mnot\u001b[39;00m \u001b[39misinstance\u001b[39m(response, OpenAIResponse)\n",
      "File \u001b[0;32m~/.miniconda3/envs/askai/lib/python3.8/site-packages/openai/api_requestor.py:220\u001b[0m, in \u001b[0;36mAPIRequestor.request\u001b[0;34m(self, method, url, params, headers, files, stream, request_id, request_timeout)\u001b[0m\n\u001b[1;32m    209\u001b[0m \u001b[39mdef\u001b[39;00m \u001b[39mrequest\u001b[39m(\n\u001b[1;32m    210\u001b[0m     \u001b[39mself\u001b[39m,\n\u001b[1;32m    211\u001b[0m     method,\n\u001b[0;32m   (...)\u001b[0m\n\u001b[1;32m    218\u001b[0m     request_timeout: Optional[Union[\u001b[39mfloat\u001b[39m, Tuple[\u001b[39mfloat\u001b[39m, \u001b[39mfloat\u001b[39m]]] \u001b[39m=\u001b[39m \u001b[39mNone\u001b[39;00m,\n\u001b[1;32m    219\u001b[0m ) \u001b[39m-\u001b[39m\u001b[39m>\u001b[39m Tuple[Union[OpenAIResponse, Iterator[OpenAIResponse]], \u001b[39mbool\u001b[39m, \u001b[39mstr\u001b[39m]:\n\u001b[0;32m--> 220\u001b[0m     result \u001b[39m=\u001b[39m \u001b[39mself\u001b[39;49m\u001b[39m.\u001b[39;49mrequest_raw(\n\u001b[1;32m    221\u001b[0m         method\u001b[39m.\u001b[39;49mlower(),\n\u001b[1;32m    222\u001b[0m         url,\n\u001b[1;32m    223\u001b[0m         params\u001b[39m=\u001b[39;49mparams,\n\u001b[1;32m    224\u001b[0m         supplied_headers\u001b[39m=\u001b[39;49mheaders,\n\u001b[1;32m    225\u001b[0m         files\u001b[39m=\u001b[39;49mfiles,\n\u001b[1;32m    226\u001b[0m         stream\u001b[39m=\u001b[39;49mstream,\n\u001b[1;32m    227\u001b[0m         request_id\u001b[39m=\u001b[39;49mrequest_id,\n\u001b[1;32m    228\u001b[0m         request_timeout\u001b[39m=\u001b[39;49mrequest_timeout,\n\u001b[1;32m    229\u001b[0m     )\n\u001b[1;32m    230\u001b[0m     resp, got_stream \u001b[39m=\u001b[39m \u001b[39mself\u001b[39m\u001b[39m.\u001b[39m_interpret_response(result, stream)\n\u001b[1;32m    231\u001b[0m     \u001b[39mreturn\u001b[39;00m resp, got_stream, \u001b[39mself\u001b[39m\u001b[39m.\u001b[39mapi_key\n",
      "File \u001b[0;32m~/.miniconda3/envs/askai/lib/python3.8/site-packages/openai/api_requestor.py:520\u001b[0m, in \u001b[0;36mAPIRequestor.request_raw\u001b[0;34m(self, method, url, params, supplied_headers, files, stream, request_id, request_timeout)\u001b[0m\n\u001b[1;32m    518\u001b[0m     _thread_context\u001b[39m.\u001b[39msession \u001b[39m=\u001b[39m _make_session()\n\u001b[1;32m    519\u001b[0m \u001b[39mtry\u001b[39;00m:\n\u001b[0;32m--> 520\u001b[0m     result \u001b[39m=\u001b[39m _thread_context\u001b[39m.\u001b[39;49msession\u001b[39m.\u001b[39;49mrequest(\n\u001b[1;32m    521\u001b[0m         method,\n\u001b[1;32m    522\u001b[0m         abs_url,\n\u001b[1;32m    523\u001b[0m         headers\u001b[39m=\u001b[39;49mheaders,\n\u001b[1;32m    524\u001b[0m         data\u001b[39m=\u001b[39;49mdata,\n\u001b[1;32m    525\u001b[0m         files\u001b[39m=\u001b[39;49mfiles,\n\u001b[1;32m    526\u001b[0m         stream\u001b[39m=\u001b[39;49mstream,\n\u001b[1;32m    527\u001b[0m         timeout\u001b[39m=\u001b[39;49mrequest_timeout \u001b[39mif\u001b[39;49;00m request_timeout \u001b[39melse\u001b[39;49;00m TIMEOUT_SECS,\n\u001b[1;32m    528\u001b[0m         proxies\u001b[39m=\u001b[39;49m_thread_context\u001b[39m.\u001b[39;49msession\u001b[39m.\u001b[39;49mproxies,\n\u001b[1;32m    529\u001b[0m     )\n\u001b[1;32m    530\u001b[0m \u001b[39mexcept\u001b[39;00m requests\u001b[39m.\u001b[39mexceptions\u001b[39m.\u001b[39mTimeout \u001b[39mas\u001b[39;00m e:\n\u001b[1;32m    531\u001b[0m     \u001b[39mraise\u001b[39;00m error\u001b[39m.\u001b[39mTimeout(\u001b[39m\"\u001b[39m\u001b[39mRequest timed out: \u001b[39m\u001b[39m{}\u001b[39;00m\u001b[39m\"\u001b[39m\u001b[39m.\u001b[39mformat(e)) \u001b[39mfrom\u001b[39;00m \u001b[39me\u001b[39;00m\n",
      "File \u001b[0;32m~/.miniconda3/envs/askai/lib/python3.8/site-packages/requests/sessions.py:587\u001b[0m, in \u001b[0;36mSession.request\u001b[0;34m(self, method, url, params, data, headers, cookies, files, auth, timeout, allow_redirects, proxies, hooks, stream, verify, cert, json)\u001b[0m\n\u001b[1;32m    582\u001b[0m send_kwargs \u001b[39m=\u001b[39m {\n\u001b[1;32m    583\u001b[0m     \u001b[39m\"\u001b[39m\u001b[39mtimeout\u001b[39m\u001b[39m\"\u001b[39m: timeout,\n\u001b[1;32m    584\u001b[0m     \u001b[39m\"\u001b[39m\u001b[39mallow_redirects\u001b[39m\u001b[39m\"\u001b[39m: allow_redirects,\n\u001b[1;32m    585\u001b[0m }\n\u001b[1;32m    586\u001b[0m send_kwargs\u001b[39m.\u001b[39mupdate(settings)\n\u001b[0;32m--> 587\u001b[0m resp \u001b[39m=\u001b[39m \u001b[39mself\u001b[39;49m\u001b[39m.\u001b[39;49msend(prep, \u001b[39m*\u001b[39;49m\u001b[39m*\u001b[39;49msend_kwargs)\n\u001b[1;32m    589\u001b[0m \u001b[39mreturn\u001b[39;00m resp\n",
      "File \u001b[0;32m~/.miniconda3/envs/askai/lib/python3.8/site-packages/requests/sessions.py:701\u001b[0m, in \u001b[0;36mSession.send\u001b[0;34m(self, request, **kwargs)\u001b[0m\n\u001b[1;32m    698\u001b[0m start \u001b[39m=\u001b[39m preferred_clock()\n\u001b[1;32m    700\u001b[0m \u001b[39m# Send the request\u001b[39;00m\n\u001b[0;32m--> 701\u001b[0m r \u001b[39m=\u001b[39m adapter\u001b[39m.\u001b[39;49msend(request, \u001b[39m*\u001b[39;49m\u001b[39m*\u001b[39;49mkwargs)\n\u001b[1;32m    703\u001b[0m \u001b[39m# Total elapsed time of the request (approximately)\u001b[39;00m\n\u001b[1;32m    704\u001b[0m elapsed \u001b[39m=\u001b[39m preferred_clock() \u001b[39m-\u001b[39m start\n",
      "File \u001b[0;32m~/.miniconda3/envs/askai/lib/python3.8/site-packages/requests/adapters.py:487\u001b[0m, in \u001b[0;36mHTTPAdapter.send\u001b[0;34m(self, request, stream, timeout, verify, cert, proxies)\u001b[0m\n\u001b[1;32m    484\u001b[0m     timeout \u001b[39m=\u001b[39m TimeoutSauce(connect\u001b[39m=\u001b[39mtimeout, read\u001b[39m=\u001b[39mtimeout)\n\u001b[1;32m    486\u001b[0m \u001b[39mtry\u001b[39;00m:\n\u001b[0;32m--> 487\u001b[0m     resp \u001b[39m=\u001b[39m conn\u001b[39m.\u001b[39;49murlopen(\n\u001b[1;32m    488\u001b[0m         method\u001b[39m=\u001b[39;49mrequest\u001b[39m.\u001b[39;49mmethod,\n\u001b[1;32m    489\u001b[0m         url\u001b[39m=\u001b[39;49murl,\n\u001b[1;32m    490\u001b[0m         body\u001b[39m=\u001b[39;49mrequest\u001b[39m.\u001b[39;49mbody,\n\u001b[1;32m    491\u001b[0m         headers\u001b[39m=\u001b[39;49mrequest\u001b[39m.\u001b[39;49mheaders,\n\u001b[1;32m    492\u001b[0m         redirect\u001b[39m=\u001b[39;49m\u001b[39mFalse\u001b[39;49;00m,\n\u001b[1;32m    493\u001b[0m         assert_same_host\u001b[39m=\u001b[39;49m\u001b[39mFalse\u001b[39;49;00m,\n\u001b[1;32m    494\u001b[0m         preload_content\u001b[39m=\u001b[39;49m\u001b[39mFalse\u001b[39;49;00m,\n\u001b[1;32m    495\u001b[0m         decode_content\u001b[39m=\u001b[39;49m\u001b[39mFalse\u001b[39;49;00m,\n\u001b[1;32m    496\u001b[0m         retries\u001b[39m=\u001b[39;49m\u001b[39mself\u001b[39;49m\u001b[39m.\u001b[39;49mmax_retries,\n\u001b[1;32m    497\u001b[0m         timeout\u001b[39m=\u001b[39;49mtimeout,\n\u001b[1;32m    498\u001b[0m         chunked\u001b[39m=\u001b[39;49mchunked,\n\u001b[1;32m    499\u001b[0m     )\n\u001b[1;32m    501\u001b[0m \u001b[39mexcept\u001b[39;00m (ProtocolError, \u001b[39mOSError\u001b[39;00m) \u001b[39mas\u001b[39;00m err:\n\u001b[1;32m    502\u001b[0m     \u001b[39mraise\u001b[39;00m \u001b[39mConnectionError\u001b[39;00m(err, request\u001b[39m=\u001b[39mrequest)\n",
      "File \u001b[0;32m~/.miniconda3/envs/askai/lib/python3.8/site-packages/urllib3/connectionpool.py:703\u001b[0m, in \u001b[0;36mHTTPConnectionPool.urlopen\u001b[0;34m(self, method, url, body, headers, retries, redirect, assert_same_host, timeout, pool_timeout, release_conn, chunked, body_pos, **response_kw)\u001b[0m\n\u001b[1;32m    700\u001b[0m     \u001b[39mself\u001b[39m\u001b[39m.\u001b[39m_prepare_proxy(conn)\n\u001b[1;32m    702\u001b[0m \u001b[39m# Make the request on the httplib connection object.\u001b[39;00m\n\u001b[0;32m--> 703\u001b[0m httplib_response \u001b[39m=\u001b[39m \u001b[39mself\u001b[39;49m\u001b[39m.\u001b[39;49m_make_request(\n\u001b[1;32m    704\u001b[0m     conn,\n\u001b[1;32m    705\u001b[0m     method,\n\u001b[1;32m    706\u001b[0m     url,\n\u001b[1;32m    707\u001b[0m     timeout\u001b[39m=\u001b[39;49mtimeout_obj,\n\u001b[1;32m    708\u001b[0m     body\u001b[39m=\u001b[39;49mbody,\n\u001b[1;32m    709\u001b[0m     headers\u001b[39m=\u001b[39;49mheaders,\n\u001b[1;32m    710\u001b[0m     chunked\u001b[39m=\u001b[39;49mchunked,\n\u001b[1;32m    711\u001b[0m )\n\u001b[1;32m    713\u001b[0m \u001b[39m# If we're going to release the connection in ``finally:``, then\u001b[39;00m\n\u001b[1;32m    714\u001b[0m \u001b[39m# the response doesn't need to know about the connection. Otherwise\u001b[39;00m\n\u001b[1;32m    715\u001b[0m \u001b[39m# it will also try to release it and we'll have a double-release\u001b[39;00m\n\u001b[1;32m    716\u001b[0m \u001b[39m# mess.\u001b[39;00m\n\u001b[1;32m    717\u001b[0m response_conn \u001b[39m=\u001b[39m conn \u001b[39mif\u001b[39;00m \u001b[39mnot\u001b[39;00m release_conn \u001b[39melse\u001b[39;00m \u001b[39mNone\u001b[39;00m\n",
      "File \u001b[0;32m~/.miniconda3/envs/askai/lib/python3.8/site-packages/urllib3/connectionpool.py:449\u001b[0m, in \u001b[0;36mHTTPConnectionPool._make_request\u001b[0;34m(self, conn, method, url, timeout, chunked, **httplib_request_kw)\u001b[0m\n\u001b[1;32m    444\u001b[0m             httplib_response \u001b[39m=\u001b[39m conn\u001b[39m.\u001b[39mgetresponse()\n\u001b[1;32m    445\u001b[0m         \u001b[39mexcept\u001b[39;00m \u001b[39mBaseException\u001b[39;00m \u001b[39mas\u001b[39;00m e:\n\u001b[1;32m    446\u001b[0m             \u001b[39m# Remove the TypeError from the exception chain in\u001b[39;00m\n\u001b[1;32m    447\u001b[0m             \u001b[39m# Python 3 (including for exceptions like SystemExit).\u001b[39;00m\n\u001b[1;32m    448\u001b[0m             \u001b[39m# Otherwise it looks like a bug in the code.\u001b[39;00m\n\u001b[0;32m--> 449\u001b[0m             six\u001b[39m.\u001b[39;49mraise_from(e, \u001b[39mNone\u001b[39;49;00m)\n\u001b[1;32m    450\u001b[0m \u001b[39mexcept\u001b[39;00m (SocketTimeout, BaseSSLError, SocketError) \u001b[39mas\u001b[39;00m e:\n\u001b[1;32m    451\u001b[0m     \u001b[39mself\u001b[39m\u001b[39m.\u001b[39m_raise_timeout(err\u001b[39m=\u001b[39me, url\u001b[39m=\u001b[39murl, timeout_value\u001b[39m=\u001b[39mread_timeout)\n",
      "File \u001b[0;32m<string>:3\u001b[0m, in \u001b[0;36mraise_from\u001b[0;34m(value, from_value)\u001b[0m\n",
      "File \u001b[0;32m~/.miniconda3/envs/askai/lib/python3.8/site-packages/urllib3/connectionpool.py:444\u001b[0m, in \u001b[0;36mHTTPConnectionPool._make_request\u001b[0;34m(self, conn, method, url, timeout, chunked, **httplib_request_kw)\u001b[0m\n\u001b[1;32m    441\u001b[0m \u001b[39mexcept\u001b[39;00m \u001b[39mTypeError\u001b[39;00m:\n\u001b[1;32m    442\u001b[0m     \u001b[39m# Python 3\u001b[39;00m\n\u001b[1;32m    443\u001b[0m     \u001b[39mtry\u001b[39;00m:\n\u001b[0;32m--> 444\u001b[0m         httplib_response \u001b[39m=\u001b[39m conn\u001b[39m.\u001b[39;49mgetresponse()\n\u001b[1;32m    445\u001b[0m     \u001b[39mexcept\u001b[39;00m \u001b[39mBaseException\u001b[39;00m \u001b[39mas\u001b[39;00m e:\n\u001b[1;32m    446\u001b[0m         \u001b[39m# Remove the TypeError from the exception chain in\u001b[39;00m\n\u001b[1;32m    447\u001b[0m         \u001b[39m# Python 3 (including for exceptions like SystemExit).\u001b[39;00m\n\u001b[1;32m    448\u001b[0m         \u001b[39m# Otherwise it looks like a bug in the code.\u001b[39;00m\n\u001b[1;32m    449\u001b[0m         six\u001b[39m.\u001b[39mraise_from(e, \u001b[39mNone\u001b[39;00m)\n",
      "File \u001b[0;32m~/.miniconda3/envs/askai/lib/python3.8/http/client.py:1348\u001b[0m, in \u001b[0;36mHTTPConnection.getresponse\u001b[0;34m(self)\u001b[0m\n\u001b[1;32m   1346\u001b[0m \u001b[39mtry\u001b[39;00m:\n\u001b[1;32m   1347\u001b[0m     \u001b[39mtry\u001b[39;00m:\n\u001b[0;32m-> 1348\u001b[0m         response\u001b[39m.\u001b[39;49mbegin()\n\u001b[1;32m   1349\u001b[0m     \u001b[39mexcept\u001b[39;00m \u001b[39mConnectionError\u001b[39;00m:\n\u001b[1;32m   1350\u001b[0m         \u001b[39mself\u001b[39m\u001b[39m.\u001b[39mclose()\n",
      "File \u001b[0;32m~/.miniconda3/envs/askai/lib/python3.8/http/client.py:316\u001b[0m, in \u001b[0;36mHTTPResponse.begin\u001b[0;34m(self)\u001b[0m\n\u001b[1;32m    314\u001b[0m \u001b[39m# read until we get a non-100 response\u001b[39;00m\n\u001b[1;32m    315\u001b[0m \u001b[39mwhile\u001b[39;00m \u001b[39mTrue\u001b[39;00m:\n\u001b[0;32m--> 316\u001b[0m     version, status, reason \u001b[39m=\u001b[39m \u001b[39mself\u001b[39;49m\u001b[39m.\u001b[39;49m_read_status()\n\u001b[1;32m    317\u001b[0m     \u001b[39mif\u001b[39;00m status \u001b[39m!=\u001b[39m CONTINUE:\n\u001b[1;32m    318\u001b[0m         \u001b[39mbreak\u001b[39;00m\n",
      "File \u001b[0;32m~/.miniconda3/envs/askai/lib/python3.8/http/client.py:277\u001b[0m, in \u001b[0;36mHTTPResponse._read_status\u001b[0;34m(self)\u001b[0m\n\u001b[1;32m    276\u001b[0m \u001b[39mdef\u001b[39;00m \u001b[39m_read_status\u001b[39m(\u001b[39mself\u001b[39m):\n\u001b[0;32m--> 277\u001b[0m     line \u001b[39m=\u001b[39m \u001b[39mstr\u001b[39m(\u001b[39mself\u001b[39;49m\u001b[39m.\u001b[39;49mfp\u001b[39m.\u001b[39;49mreadline(_MAXLINE \u001b[39m+\u001b[39;49m \u001b[39m1\u001b[39;49m), \u001b[39m\"\u001b[39m\u001b[39miso-8859-1\u001b[39m\u001b[39m\"\u001b[39m)\n\u001b[1;32m    278\u001b[0m     \u001b[39mif\u001b[39;00m \u001b[39mlen\u001b[39m(line) \u001b[39m>\u001b[39m _MAXLINE:\n\u001b[1;32m    279\u001b[0m         \u001b[39mraise\u001b[39;00m LineTooLong(\u001b[39m\"\u001b[39m\u001b[39mstatus line\u001b[39m\u001b[39m\"\u001b[39m)\n",
      "File \u001b[0;32m~/.miniconda3/envs/askai/lib/python3.8/socket.py:669\u001b[0m, in \u001b[0;36mSocketIO.readinto\u001b[0;34m(self, b)\u001b[0m\n\u001b[1;32m    667\u001b[0m \u001b[39mwhile\u001b[39;00m \u001b[39mTrue\u001b[39;00m:\n\u001b[1;32m    668\u001b[0m     \u001b[39mtry\u001b[39;00m:\n\u001b[0;32m--> 669\u001b[0m         \u001b[39mreturn\u001b[39;00m \u001b[39mself\u001b[39;49m\u001b[39m.\u001b[39;49m_sock\u001b[39m.\u001b[39;49mrecv_into(b)\n\u001b[1;32m    670\u001b[0m     \u001b[39mexcept\u001b[39;00m timeout:\n\u001b[1;32m    671\u001b[0m         \u001b[39mself\u001b[39m\u001b[39m.\u001b[39m_timeout_occurred \u001b[39m=\u001b[39m \u001b[39mTrue\u001b[39;00m\n",
      "File \u001b[0;32m~/.miniconda3/envs/askai/lib/python3.8/ssl.py:1241\u001b[0m, in \u001b[0;36mSSLSocket.recv_into\u001b[0;34m(self, buffer, nbytes, flags)\u001b[0m\n\u001b[1;32m   1237\u001b[0m     \u001b[39mif\u001b[39;00m flags \u001b[39m!=\u001b[39m \u001b[39m0\u001b[39m:\n\u001b[1;32m   1238\u001b[0m         \u001b[39mraise\u001b[39;00m \u001b[39mValueError\u001b[39;00m(\n\u001b[1;32m   1239\u001b[0m           \u001b[39m\"\u001b[39m\u001b[39mnon-zero flags not allowed in calls to recv_into() on \u001b[39m\u001b[39m%s\u001b[39;00m\u001b[39m\"\u001b[39m \u001b[39m%\u001b[39m\n\u001b[1;32m   1240\u001b[0m           \u001b[39mself\u001b[39m\u001b[39m.\u001b[39m\u001b[39m__class__\u001b[39m)\n\u001b[0;32m-> 1241\u001b[0m     \u001b[39mreturn\u001b[39;00m \u001b[39mself\u001b[39;49m\u001b[39m.\u001b[39;49mread(nbytes, buffer)\n\u001b[1;32m   1242\u001b[0m \u001b[39melse\u001b[39;00m:\n\u001b[1;32m   1243\u001b[0m     \u001b[39mreturn\u001b[39;00m \u001b[39msuper\u001b[39m()\u001b[39m.\u001b[39mrecv_into(buffer, nbytes, flags)\n",
      "File \u001b[0;32m~/.miniconda3/envs/askai/lib/python3.8/ssl.py:1099\u001b[0m, in \u001b[0;36mSSLSocket.read\u001b[0;34m(self, len, buffer)\u001b[0m\n\u001b[1;32m   1097\u001b[0m \u001b[39mtry\u001b[39;00m:\n\u001b[1;32m   1098\u001b[0m     \u001b[39mif\u001b[39;00m buffer \u001b[39mis\u001b[39;00m \u001b[39mnot\u001b[39;00m \u001b[39mNone\u001b[39;00m:\n\u001b[0;32m-> 1099\u001b[0m         \u001b[39mreturn\u001b[39;00m \u001b[39mself\u001b[39;49m\u001b[39m.\u001b[39;49m_sslobj\u001b[39m.\u001b[39;49mread(\u001b[39mlen\u001b[39;49m, buffer)\n\u001b[1;32m   1100\u001b[0m     \u001b[39melse\u001b[39;00m:\n\u001b[1;32m   1101\u001b[0m         \u001b[39mreturn\u001b[39;00m \u001b[39mself\u001b[39m\u001b[39m.\u001b[39m_sslobj\u001b[39m.\u001b[39mread(\u001b[39mlen\u001b[39m)\n",
      "\u001b[0;31mKeyboardInterrupt\u001b[0m: "
     ]
    }
   ],
   "source": [
    "ai('eye square matrix of size 123')"
   ]
  },
  {
   "cell_type": "code",
   "execution_count": 7,
   "metadata": {},
   "outputs": [
    {
     "name": "stderr",
     "output_type": "stream",
     "text": [
      "INFO:askai.ai:len prompt messages: 20\n",
      "INFO:askai.ai:prompt length: 799\n",
      "INFO:askai.ai:code: ```python\n",
      "result = 1 + x\n",
      "```\n"
     ]
    },
    {
     "data": {
      "text/plain": [
       "11"
      ]
     },
     "execution_count": 7,
     "metadata": {},
     "output_type": "execute_result"
    }
   ],
   "source": [
    "ai('sum of 1 and x', x=10)"
   ]
  },
  {
   "cell_type": "code",
   "execution_count": 3,
   "metadata": {},
   "outputs": [
    {
     "name": "stderr",
     "output_type": "stream",
     "text": [
      "INFO:askai.ai:len prompt messages: 20\n",
      "INFO:askai.ai:prompt length: 787\n",
      "INFO:askai.ai:code: ```python\n",
      "result = 1 + 10\n",
      "```\n"
     ]
    },
    {
     "data": {
      "text/plain": [
       "11"
      ]
     },
     "execution_count": 3,
     "metadata": {},
     "output_type": "execute_result"
    }
   ],
   "source": [
    "ai('sum of 1 and 10')"
   ]
  },
  {
   "cell_type": "code",
   "execution_count": 9,
   "metadata": {},
   "outputs": [],
   "source": [
    "from askai import ai"
   ]
  },
  {
   "cell_type": "code",
   "execution_count": 3,
   "metadata": {},
   "outputs": [],
   "source": [
    "from askai import prompt"
   ]
  },
  {
   "cell_type": "code",
   "execution_count": 5,
   "metadata": {},
   "outputs": [],
   "source": [
    "exec('''\\\n",
    "mem = 10\\\n",
    "''')"
   ]
  },
  {
   "cell_type": "code",
   "execution_count": 6,
   "metadata": {},
   "outputs": [
    {
     "data": {
      "text/plain": [
       "10"
      ]
     },
     "execution_count": 6,
     "metadata": {},
     "output_type": "execute_result"
    }
   ],
   "source": [
    "mem"
   ]
  },
  {
   "cell_type": "code",
   "execution_count": 6,
   "metadata": {},
   "outputs": [
    {
     "data": {
      "text/plain": [
       "<code object <module> at 0x7f9808cf6030, file \"<gpt>\", line 1>"
      ]
     },
     "execution_count": 6,
     "metadata": {},
     "output_type": "execute_result"
    }
   ],
   "source": [
    "compile('''\\\n",
    "print(locals().keys());\n",
    "print(globals().keys());\n",
    "mam = 10\\\n",
    "''', '<gpt>', 'exec')"
   ]
  },
  {
   "cell_type": "code",
   "execution_count": 7,
   "metadata": {},
   "outputs": [
    {
     "name": "stdout",
     "output_type": "stream",
     "text": [
      "dict_keys(['__name__', '__doc__', '__package__', '__loader__', '__spec__', '__builtin__', '__builtins__', '_ih', '_oh', '_dh', 'In', 'Out', 'get_ipython', 'exit', 'quit', 'open', '_', '__', '___', '__vsc_ipynb_file__', '_i', '_ii', '_iii', '_i1', '_i2', '_2', '_i3', '_3', '_i4', '_i5', '_i6', '_6', '_i7', 'f'])\n",
      "dict_keys(['__builtins__'])\n",
      "dict_keys(['__builtins__'])\n"
     ]
    },
    {
     "data": {
      "text/plain": [
       "10"
      ]
     },
     "execution_count": 7,
     "metadata": {},
     "output_type": "execute_result"
    }
   ],
   "source": [
    "def f():\n",
    "    print(globals().keys())\n",
    "    _globals = {}\n",
    "    cmp = compile('''\\\n",
    "print(locals().keys());\n",
    "print(globals().keys());\n",
    "mam = 10\\\n",
    "''', '<gpt>', 'exec')\n",
    "    exec(cmp, _globals)\n",
    "    return _globals['mam']\n",
    "\n",
    "f()"
   ]
  },
  {
   "cell_type": "code",
   "execution_count": 8,
   "metadata": {},
   "outputs": [
    {
     "ename": "NameError",
     "evalue": "name 'iii' is not defined",
     "output_type": "error",
     "traceback": [
      "\u001b[0;31m---------------------------------------------------------------------------\u001b[0m",
      "\u001b[0;31mNameError\u001b[0m                                 Traceback (most recent call last)",
      "Cell \u001b[0;32mIn[8], line 8\u001b[0m\n\u001b[1;32m      5\u001b[0m     exec(\u001b[39m'\u001b[39m\u001b[39miii = f(1);\u001b[39m\u001b[39m'\u001b[39m)\n\u001b[1;32m      6\u001b[0m     \u001b[39mreturn\u001b[39;00m iii\n\u001b[0;32m----> 8\u001b[0m f()\n",
      "Cell \u001b[0;32mIn[8], line 6\u001b[0m, in \u001b[0;36mf\u001b[0;34m(x)\u001b[0m\n\u001b[1;32m      3\u001b[0m     \u001b[39mreturn\u001b[39;00m \u001b[39m'\u001b[39m\u001b[39mfinish\u001b[39m\u001b[39m'\u001b[39m\n\u001b[1;32m      5\u001b[0m exec(\u001b[39m'\u001b[39m\u001b[39miii = f(1);\u001b[39m\u001b[39m'\u001b[39m)\n\u001b[0;32m----> 6\u001b[0m \u001b[39mreturn\u001b[39;00m iii\n",
      "\u001b[0;31mNameError\u001b[0m: name 'iii' is not defined"
     ]
    }
   ],
   "source": [
    "def f(x=0):\n",
    "    if x == 1:\n",
    "        return 'finish'\n",
    "    \n",
    "    exec('iii = f(1);')\n",
    "    return iii\n",
    "\n",
    "f()"
   ]
  },
  {
   "cell_type": "code",
   "execution_count": 13,
   "metadata": {},
   "outputs": [
    {
     "data": {
      "text/plain": [
       "[{'role': 'system',\n",
       "  'content': 'You are a helpful assistant that solves user\\'s task given in natural language with arguments by returning a snippet of python3.8 compatible code.\\n- Only put code snippet in reponse which starts with \"```python\" and ends with \"```\".\\n- Last line containes assignment of task\\'s result to a \"result\" variable.\\n- You are forbidden to use inline constants in your code snippet unless strictly required by task description. Use can use either user\\'s arguments or return a function.\\n- Some (zero or more) arguments are provided for you to reference in your code snippet response as global variables. Names of these variables are given in \"ARGS: {comma separated names list}\".\\n- For each such argument text explanation is given, which contains type info and other useful information that you can use. Explanation is given in the list \"- {name}: \"\"\"{description}\"\"\"\".\\n- If some argument is missing and is required by task description contextually, put a function that takes that argument as input in result.'},\n",
       " {'role': 'user',\n",
       "  'content': 'TASK: \"\"\"\\nthat package for dataframes manipulation and stuff\\n\"\"\"\\nARGS: '},\n",
       " {'role': 'assistant',\n",
       "  'content': '```python\\nimport pandas as pd\\nresult = pd\\n```'},\n",
       " {'role': 'user',\n",
       "  'content': 'TASK: \"\"\"\\nnumber of seconds in 10 years\\n\"\"\"\\nARGS: '},\n",
       " {'role': 'assistant',\n",
       "  'content': '```python\\nresult = 60 * 60 * 24 * 365 * 10\\n```'},\n",
       " {'role': 'user',\n",
       "  'content': 'TASK: \"\"\"\\nsum of two numbers x and y\\n\"\"\"\\nARGS: x, y\\n- x: \"\"\"\\nobject of type builtins.int\\n\"\"\"\\n- y: \"\"\"\\nobject of type builtins.int\\n\"\"\"'},\n",
       " {'role': 'assistant', 'content': '```python\\nresult = x + y\\n```'},\n",
       " {'role': 'user',\n",
       "  'content': 'TASK: \"\"\"\\nsum of two numbers x and y\\n\"\"\"\\nARGS: x\\n- x: \"\"\"\\nobject of type builtins.int\\n\"\"\"'},\n",
       " {'role': 'assistant',\n",
       "  'content': '```python\\ndef sum(y):\\n    return x + y\\nresult = sum\\n```'},\n",
       " {'role': 'user',\n",
       "  'content': 'TASK: \"\"\"\\nsum of two numbers x and y\\n\"\"\"\\nARGS: y\\n- y: \"\"\"\\nobject of type builtins.int\\n\"\"\"'},\n",
       " {'role': 'assistant',\n",
       "  'content': '```python\\ndef sum(x):\\n    return x + y\\nresult = sum\\n```'},\n",
       " {'role': 'user',\n",
       "  'content': 'TASK: \"\"\"\\nsum of two numbers x and y\\n\"\"\"\\nARGS: '},\n",
       " {'role': 'assistant',\n",
       "  'content': '```python\\ndef sum(x, y):\\n    return x + y\\nresult = sum\\n```'},\n",
       " {'role': 'user',\n",
       "  'content': 'TASK: \"\"\"\\nread file filename.txt\\n\"\"\"\\nARGS: filename\\n- filename: \"\"\"\\nobject of type builtins.str\\n\"\"\"'},\n",
       " {'role': 'assistant',\n",
       "  'content': \"```python\\n# filename is an passed arg so we use it\\nwith open(f'{filename}.txt') as f:\\n    content = f.read()\\nresult = content\\n```\"},\n",
       " {'role': 'user', 'content': 'TASK: \"\"\"\\nread file filename.txt\\n\"\"\"\\nARGS: '},\n",
       " {'role': 'assistant',\n",
       "  'content': \"```python\\n# filename isn't passed as arg but rather hardcoded\\nwith open(f'filename.txt') as f:\\n    content = f.read()\\nresult = content\\n```\"},\n",
       " {'role': 'user',\n",
       "  'content': 'TASK: \"\"\"\\nmake line plot of `a` with specified color\\n\"\"\"\\nARGS: a\\n- a: \"\"\"\\nobject of type numpy.ndarray\\narray of shape (10,) with dtype float64\\n\"\"\"'},\n",
       " {'role': 'assistant',\n",
       "  'content': \"```python\\nimport numpy as np\\nimport matplotlib.pyplot as plt\\n\\n# color isn't provided but mentioned so we made a func\\ndef plot_line(color):\\n    # generate x and y values\\n    # a is provided so we just reference it directly\\n    n = a.shape[0]\\n    x = np.linspace(0, n - 1, num=n)\\n    y = a\\n\\n    # create a line plot using the specified color\\n    fig = plt.figure()\\n    plt.plot(x, y, color=color)\\n\\n    # add known labels and title to the plot\\n    plt.ylabel('a')\\n    plt.title(f'line plot of a with {color} color')\\n\\n    # user don't intend to observe outside effect\\n    plt.close(fig)\\n\\n    return fig\\n\\nresult = plot_line\\n```\"},\n",
       " {'role': 'user',\n",
       "  'content': 'TASK: \"\"\"\\ntest\\n\"\"\"\\nARGS: a, b\\n- a: \"\"\"\\nobject of type builtins.str\\n\"\"\"\\n- b: \"\"\"\\nobject of type builtins.str\\n\"\"\"'}]"
      ]
     },
     "execution_count": 13,
     "metadata": {},
     "output_type": "execute_result"
    }
   ],
   "source": [
    "ms = prompt.make_prompt_messages('test', a='1', b='2')\n",
    "ms"
   ]
  },
  {
   "cell_type": "code",
   "execution_count": 14,
   "metadata": {},
   "outputs": [
    {
     "name": "stdout",
     "output_type": "stream",
     "text": [
      "system\n",
      "\n",
      "You are a helpful assistant that solves user's task given in natural language with arguments by returning a snippet of python3.8 compatible code.\n",
      "- Only put code snippet in reponse which starts with \"```python\" and ends with \"```\".\n",
      "- Last line containes assignment of task's result to a \"result\" variable.\n",
      "- You are forbidden to use inline constants in your code snippet unless strictly required by task description. Use can use either user's arguments or return a function.\n",
      "- Some (zero or more) arguments are provided for you to reference in your code snippet response as global variables. Names of these variables are given in \"ARGS: {comma separated names list}\".\n",
      "- For each such argument text explanation is given, which contains type info and other useful information that you can use. Explanation is given in the list \"- {name}: \"\"\"{description}\"\"\"\".\n",
      "- If some argument is missing and is required by task description contextually, put a function that takes that argument as input in result.\n",
      "\n",
      "user\n",
      "\n",
      "TASK: \"\"\"\n",
      "that package for dataframes manipulation and stuff\n",
      "\"\"\"\n",
      "ARGS: \n",
      "\n",
      "assistant\n",
      "\n",
      "```python\n",
      "import pandas as pd\n",
      "result = pd\n",
      "```\n",
      "\n",
      "user\n",
      "\n",
      "TASK: \"\"\"\n",
      "number of seconds in 10 years\n",
      "\"\"\"\n",
      "ARGS: \n",
      "\n",
      "assistant\n",
      "\n",
      "```python\n",
      "result = 60 * 60 * 24 * 365 * 10\n",
      "```\n",
      "\n",
      "user\n",
      "\n",
      "TASK: \"\"\"\n",
      "sum of two numbers x and y\n",
      "\"\"\"\n",
      "ARGS: x, y\n",
      "- x: \"\"\"\n",
      "object of type builtins.int\n",
      "\"\"\"\n",
      "- y: \"\"\"\n",
      "object of type builtins.int\n",
      "\"\"\"\n",
      "\n",
      "assistant\n",
      "\n",
      "```python\n",
      "result = x + y\n",
      "```\n",
      "\n",
      "user\n",
      "\n",
      "TASK: \"\"\"\n",
      "sum of two numbers x and y\n",
      "\"\"\"\n",
      "ARGS: x\n",
      "- x: \"\"\"\n",
      "object of type builtins.int\n",
      "\"\"\"\n",
      "\n",
      "assistant\n",
      "\n",
      "```python\n",
      "def sum(y):\n",
      "    return x + y\n",
      "result = sum\n",
      "```\n",
      "\n",
      "user\n",
      "\n",
      "TASK: \"\"\"\n",
      "sum of two numbers x and y\n",
      "\"\"\"\n",
      "ARGS: y\n",
      "- y: \"\"\"\n",
      "object of type builtins.int\n",
      "\"\"\"\n",
      "\n",
      "assistant\n",
      "\n",
      "```python\n",
      "def sum(x):\n",
      "    return x + y\n",
      "result = sum\n",
      "```\n",
      "\n",
      "user\n",
      "\n",
      "TASK: \"\"\"\n",
      "sum of two numbers x and y\n",
      "\"\"\"\n",
      "ARGS: \n",
      "\n",
      "assistant\n",
      "\n",
      "```python\n",
      "def sum(x, y):\n",
      "    return x + y\n",
      "result = sum\n",
      "```\n",
      "\n",
      "user\n",
      "\n",
      "TASK: \"\"\"\n",
      "read file filename.txt\n",
      "\"\"\"\n",
      "ARGS: filename\n",
      "- filename: \"\"\"\n",
      "object of type builtins.str\n",
      "\"\"\"\n",
      "\n",
      "assistant\n",
      "\n",
      "```python\n",
      "# filename is an passed arg so we use it\n",
      "with open(f'{filename}.txt') as f:\n",
      "    content = f.read()\n",
      "result = content\n",
      "```\n",
      "\n",
      "user\n",
      "\n",
      "TASK: \"\"\"\n",
      "read file filename.txt\n",
      "\"\"\"\n",
      "ARGS: \n",
      "\n",
      "assistant\n",
      "\n",
      "```python\n",
      "# filename isn't passed as arg but rather hardcoded\n",
      "with open(f'filename.txt') as f:\n",
      "    content = f.read()\n",
      "result = content\n",
      "```\n",
      "\n",
      "user\n",
      "\n",
      "TASK: \"\"\"\n",
      "make line plot of `a` with specified color\n",
      "\"\"\"\n",
      "ARGS: a\n",
      "- a: \"\"\"\n",
      "object of type numpy.ndarray\n",
      "array of shape (10,) with dtype float64\n",
      "\"\"\"\n",
      "\n",
      "assistant\n",
      "\n",
      "```python\n",
      "import numpy as np\n",
      "import matplotlib.pyplot as plt\n",
      "\n",
      "# color isn't provided but mentioned so we made a func\n",
      "def plot_line(color):\n",
      "    # generate x and y values\n",
      "    # a is provided so we just reference it directly\n",
      "    n = a.shape[0]\n",
      "    x = np.linspace(0, n - 1, num=n)\n",
      "    y = a\n",
      "\n",
      "    # create a line plot using the specified color\n",
      "    fig = plt.figure()\n",
      "    plt.plot(x, y, color=color)\n",
      "\n",
      "    # add known labels and title to the plot\n",
      "    plt.ylabel('a')\n",
      "    plt.title(f'line plot of a with {color} color')\n",
      "\n",
      "    # user don't intend to observe outside effect\n",
      "    plt.close(fig)\n",
      "\n",
      "    return fig\n",
      "\n",
      "result = plot_line\n",
      "```\n",
      "\n",
      "user\n",
      "\n",
      "TASK: \"\"\"\n",
      "test\n",
      "\"\"\"\n",
      "ARGS: a, b\n",
      "- a: \"\"\"\n",
      "object of type builtins.str\n",
      "\"\"\"\n",
      "- b: \"\"\"\n",
      "object of type builtins.str\n",
      "\"\"\"\n",
      "\n"
     ]
    }
   ],
   "source": [
    "for m in ms:\n",
    "    print(m['role'] + '\\n')\n",
    "    print(m['content'] + '\\n')"
   ]
  },
  {
   "cell_type": "code",
   "execution_count": 6,
   "metadata": {},
   "outputs": [
    {
     "name": "stderr",
     "output_type": "stream",
     "text": [
      "INFO:askai.ai:len prompt messages: 20\n",
      "INFO:askai.ai:prompt length: 790\n"
     ]
    },
    {
     "name": "stdout",
     "output_type": "stream",
     "text": [
      "```python\n",
      "import numpy as np\n",
      "\n",
      "# matrix isn't provided so we made a func\n",
      "def uv_decomposition(matrix):\n",
      "    try:\n",
      "        # perform the SVD decomposition\n",
      "        u, s, v = np.linalg.svd(matrix)\n",
      "    except Exception as e:\n",
      "        # if an error occurs, raise a custom error message\n",
      "        raise ValueError(f\"Error performing SVD decomposition: {e}\")\n",
      "\n",
      "    # return the resulting matrices\n",
      "    return u, s, v\n",
      "\n",
      "result = uv_decomposition\n",
      "```\n"
     ]
    }
   ],
   "source": [
    "r = ai('calculate uv decomposition for given matrix or throw an error')\n",
    "for l in r.split('\\n'):\n",
    "    print(l)"
   ]
  },
  {
   "cell_type": "code",
   "execution_count": 4,
   "metadata": {},
   "outputs": [
    {
     "name": "stderr",
     "output_type": "stream",
     "text": [
      "INFO:askai.ai:len prompt messages: 20\n",
      "INFO:askai.ai:prompt length: 787\n",
      "INFO:askai.ai:code: ```python\n",
      "result = 1 + 10\n",
      "```\n"
     ]
    },
    {
     "data": {
      "text/plain": [
       "11"
      ]
     },
     "execution_count": 4,
     "metadata": {},
     "output_type": "execute_result"
    }
   ],
   "source": [
    "ai('sum of 1 and 10')"
   ]
  },
  {
   "cell_type": "code",
   "execution_count": 87,
   "metadata": {},
   "outputs": [
    {
     "name": "stdout",
     "output_type": "stream",
     "text": [
      "```python\n",
      "# filename isn't passed as arg but rather hardcoded\n",
      "with open(f'kek.pdf', mode='rb') as f:\n",
      "    content = f.read(1000)\n",
      "\n",
      "# summarize the content\n",
      "summary = f'First 1000 characters of kek.pdf:\\n{content}'\n",
      "\n",
      "result = summary\n",
      "```\n"
     ]
    }
   ],
   "source": [
    "r = ai('read and summarize first 1000 chars of kek.pdf')\n",
    "for l in r.split('\\n'):\n",
    "    print(l)"
   ]
  },
  {
   "cell_type": "code",
   "execution_count": 6,
   "metadata": {},
   "outputs": [
    {
     "name": "stderr",
     "output_type": "stream",
     "text": [
      "INFO:askai.ai:len prompt messages: 20\n",
      "INFO:askai.ai:prompt length: 785\n",
      "INFO:askai.ai:code: ```python\n",
      "# radius of moon in km\n",
      "radius_km = 1737.1\n",
      "\n",
      "# convert km to cm\n",
      "radius_cm = radius_km * 100000\n",
      "\n",
      "result = radius_cm\n",
      "```\n"
     ]
    },
    {
     "data": {
      "text/plain": [
       "17371000000.0"
      ]
     },
     "execution_count": 6,
     "metadata": {},
     "output_type": "execute_result"
    }
   ],
   "source": [
    "ai('radius of moon in cm') * 100"
   ]
  },
  {
   "cell_type": "code",
   "execution_count": 83,
   "metadata": {},
   "outputs": [
    {
     "name": "stdout",
     "output_type": "stream",
     "text": [
      "```python\n",
      "def read_file_securely(file_path):\n",
      "    with open(file_path, 'r') as f:\n",
      "        content = f.read()\n",
      "    return content\n",
      "\n",
      "result = read_file_securely\n",
      "```\n"
     ]
    }
   ],
   "source": [
    "r = ai('a func that takes file path and read its content securely')\n",
    "for l in r.split('\\n'):\n",
    "    print(l)"
   ]
  },
  {
   "cell_type": "code",
   "execution_count": 82,
   "metadata": {},
   "outputs": [
    {
     "name": "stdout",
     "output_type": "stream",
     "text": [
      "```python\n",
      "import numpy as np\n",
      "\n",
      "def sample_point_in_circle(r):\n",
      "    # generate random point inside a square of side 2r\n",
      "    x = np.random.uniform(-r, r)\n",
      "    y = np.random.uniform(-r, r)\n",
      "\n",
      "    # check if the point is inside the circle\n",
      "    while x**2 + y**2 > r**2:\n",
      "        x = np.random.uniform(-r, r)\n",
      "        y = np.random.uniform(-r, r)\n",
      "\n",
      "    return (x, y)\n",
      "\n",
      "result = sample_point_in_circle\n",
      "```\n"
     ]
    }
   ],
   "source": [
    "r = ai('random uniform sampling of a point inside a cirle of radius r func')\n",
    "for l in r.split('\\n'):\n",
    "    print(l)"
   ]
  },
  {
   "cell_type": "code",
   "execution_count": 19,
   "metadata": {},
   "outputs": [
    {
     "name": "stdout",
     "output_type": "stream",
     "text": [
      "```python\n",
      "s = \"This is a string with some words\"\n",
      "result = len(s.split())\n",
      "```\n"
     ]
    }
   ],
   "source": [
    "r = ai('a number of words in a string')\n",
    "for l in r.split('\\n'):\n",
    "    print(l)"
   ]
  },
  {
   "cell_type": "code",
   "execution_count": 20,
   "metadata": {},
   "outputs": [
    {
     "name": "stdout",
     "output_type": "stream",
     "text": [
      "```python\n",
      "result = len(s.split())\n",
      "```\n"
     ]
    }
   ],
   "source": [
    "r = ai('number of words in a string s', s='hello world')\n",
    "for l in r.split('\\n'):\n",
    "    print(l)"
   ]
  }
 ],
 "metadata": {
  "kernelspec": {
   "display_name": "askai",
   "language": "python",
   "name": "python3"
  },
  "language_info": {
   "codemirror_mode": {
    "name": "ipython",
    "version": 3
   },
   "file_extension": ".py",
   "mimetype": "text/x-python",
   "name": "python",
   "nbconvert_exporter": "python",
   "pygments_lexer": "ipython3",
   "version": "3.8.16"
  },
  "orig_nbformat": 4
 },
 "nbformat": 4,
 "nbformat_minor": 2
}
