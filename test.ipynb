{
 "cells": [
  {
   "cell_type": "code",
   "execution_count": 2,
   "metadata": {},
   "outputs": [],
   "source": [
    "%reload_ext autoreload\n",
    "%autoreload 2\n",
    "\n",
    "import logging\n",
    "from rich import logging as rich_logging\n",
    "logging.basicConfig(\n",
    "    level=logging.INFO,\n",
    "    # level=logging.WARNING,\n",
    "    format=\"%(message)s\",\n",
    "    datefmt=\"[%X]\",\n",
    "    handlers=[rich_logging.RichHandler()],\n",
    ")\n",
    "\n",
    "from aiknows import config, ai, gpt\n",
    "# config.clear_cache()\n",
    "\n",
    "from rich import traceback as rich_traceback\n",
    "rich_traceback.install(show_locals=True);"
   ]
  },
  {
   "cell_type": "code",
   "execution_count": 53,
   "metadata": {},
   "outputs": [
    {
     "data": {
      "text/html": [
       "<pre style=\"white-space:pre;overflow-x:auto;line-height:normal;font-family:Menlo,'DejaVu Sans Mono',consolas,'Courier New',monospace\"><span style=\"color: #7fbfbf; text-decoration-color: #7fbfbf\">[16:56:15] </span><span style=\"color: #000080; text-decoration-color: #000080\">INFO    </span> ===<span style=\"color: #808000; text-decoration-color: #808000\">user</span>===                                                                        <a href=\"file:///Users/stanb/src/aiknows/aiknows/prompt/prompt.py\" target=\"_blank\"><span style=\"color: #7f7f7f; text-decoration-color: #7f7f7f\">prompt.py</span></a><span style=\"color: #7f7f7f; text-decoration-color: #7f7f7f\">:</span><a href=\"file:///Users/stanb/src/aiknows/aiknows/prompt/prompt.py#195\" target=\"_blank\"><span style=\"color: #7f7f7f; text-decoration-color: #7f7f7f\">195</span></a>\n",
       "<span style=\"color: #7fbfbf; text-decoration-color: #7fbfbf\">           </span>         task description: <span style=\"color: #008000; text-decoration-color: #008000\">\"\"</span>\"                                                             <span style=\"color: #7f7f7f; text-decoration-color: #7f7f7f\">             </span>\n",
       "<span style=\"color: #7fbfbf; text-decoration-color: #7fbfbf\">           </span>         calculate size of ~<span style=\"color: #800080; text-decoration-color: #800080\">/.cache/</span><span style=\"color: #ff00ff; text-decoration-color: #ff00ff\">aiknows</span> dir with `du -sh` in MB                        <span style=\"color: #7f7f7f; text-decoration-color: #7f7f7f\">             </span>\n",
       "<span style=\"color: #7fbfbf; text-decoration-color: #7fbfbf\">           </span>         <span style=\"color: #008000; text-decoration-color: #008000\">\"\"</span>\"                                                                               <span style=\"color: #7f7f7f; text-decoration-color: #7f7f7f\">             </span>\n",
       "<span style=\"color: #7fbfbf; text-decoration-color: #7fbfbf\">           </span>         environment: new python interpreter                                               <span style=\"color: #7f7f7f; text-decoration-color: #7f7f7f\">             </span>\n",
       "<span style=\"color: #7fbfbf; text-decoration-color: #7fbfbf\">           </span>         global variables: <span style=\"font-weight: bold\">&lt;</span><span style=\"color: #ff00ff; text-decoration-color: #ff00ff; font-weight: bold\">empty</span><span style=\"font-weight: bold\">&gt;</span>                                                         <span style=\"color: #7f7f7f; text-decoration-color: #7f7f7f\">             </span>\n",
       "</pre>\n"
      ],
      "text/plain": [
       "\u001b[2;36m[16:56:15]\u001b[0m\u001b[2;36m \u001b[0m\u001b[34mINFO    \u001b[0m ===\u001b[33muser\u001b[0m===                                                                        \u001b]8;id=844975;file:///Users/stanb/src/aiknows/aiknows/prompt/prompt.py\u001b\\\u001b[2mprompt.py\u001b[0m\u001b]8;;\u001b\\\u001b[2m:\u001b[0m\u001b]8;id=706878;file:///Users/stanb/src/aiknows/aiknows/prompt/prompt.py#195\u001b\\\u001b[2m195\u001b[0m\u001b]8;;\u001b\\\n",
       "\u001b[2;36m           \u001b[0m         task description: \u001b[32m\"\"\u001b[0m\"                                                             \u001b[2m             \u001b[0m\n",
       "\u001b[2;36m           \u001b[0m         calculate size of ~\u001b[35m/.cache/\u001b[0m\u001b[95maiknows\u001b[0m dir with `du -sh` in MB                        \u001b[2m             \u001b[0m\n",
       "\u001b[2;36m           \u001b[0m         \u001b[32m\"\"\u001b[0m\"                                                                               \u001b[2m             \u001b[0m\n",
       "\u001b[2;36m           \u001b[0m         environment: new python interpreter                                               \u001b[2m             \u001b[0m\n",
       "\u001b[2;36m           \u001b[0m         global variables: \u001b[1m<\u001b[0m\u001b[1;95mempty\u001b[0m\u001b[1m>\u001b[0m                                                         \u001b[2m             \u001b[0m\n"
      ]
     },
     "metadata": {},
     "output_type": "display_data"
    },
    {
     "data": {
      "text/html": [
       "<pre style=\"white-space:pre;overflow-x:auto;line-height:normal;font-family:Menlo,'DejaVu Sans Mono',consolas,'Courier New',monospace\"><span style=\"color: #7fbfbf; text-decoration-color: #7fbfbf\">           </span><span style=\"color: #000080; text-decoration-color: #000080\">INFO    </span> cache miss on emb                                                                    <a href=\"file:///Users/stanb/src/aiknows/aiknows/llm.py\" target=\"_blank\"><span style=\"color: #7f7f7f; text-decoration-color: #7f7f7f\">llm.py</span></a><span style=\"color: #7f7f7f; text-decoration-color: #7f7f7f\">:</span><a href=\"file:///Users/stanb/src/aiknows/aiknows/llm.py#100\" target=\"_blank\"><span style=\"color: #7f7f7f; text-decoration-color: #7f7f7f\">100</span></a>\n",
       "</pre>\n"
      ],
      "text/plain": [
       "\u001b[2;36m          \u001b[0m\u001b[2;36m \u001b[0m\u001b[34mINFO    \u001b[0m cache miss on emb                                                                    \u001b]8;id=234946;file:///Users/stanb/src/aiknows/aiknows/llm.py\u001b\\\u001b[2mllm.py\u001b[0m\u001b]8;;\u001b\\\u001b[2m:\u001b[0m\u001b]8;id=292534;file:///Users/stanb/src/aiknows/aiknows/llm.py#100\u001b\\\u001b[2m100\u001b[0m\u001b]8;;\u001b\\\n"
      ]
     },
     "metadata": {},
     "output_type": "display_data"
    },
    {
     "data": {
      "text/html": [
       "<pre style=\"white-space:pre;overflow-x:auto;line-height:normal;font-family:Menlo,'DejaVu Sans Mono',consolas,'Courier New',monospace\"><span style=\"color: #7fbfbf; text-decoration-color: #7fbfbf\">           </span><span style=\"color: #000080; text-decoration-color: #000080\">INFO    </span> emb token usage: <span style=\"color: #008080; text-decoration-color: #008080; font-weight: bold\">18</span>                                                                  <a href=\"file:///Users/stanb/src/aiknows/aiknows/llm.py\" target=\"_blank\"><span style=\"color: #7f7f7f; text-decoration-color: #7f7f7f\">llm.py</span></a><span style=\"color: #7f7f7f; text-decoration-color: #7f7f7f\">:</span><a href=\"file:///Users/stanb/src/aiknows/aiknows/llm.py#113\" target=\"_blank\"><span style=\"color: #7f7f7f; text-decoration-color: #7f7f7f\">113</span></a>\n",
       "</pre>\n"
      ],
      "text/plain": [
       "\u001b[2;36m          \u001b[0m\u001b[2;36m \u001b[0m\u001b[34mINFO    \u001b[0m emb token usage: \u001b[1;36m18\u001b[0m                                                                  \u001b]8;id=597589;file:///Users/stanb/src/aiknows/aiknows/llm.py\u001b\\\u001b[2mllm.py\u001b[0m\u001b]8;;\u001b\\\u001b[2m:\u001b[0m\u001b]8;id=683297;file:///Users/stanb/src/aiknows/aiknows/llm.py#113\u001b\\\u001b[2m113\u001b[0m\u001b]8;;\u001b\\\n"
      ]
     },
     "metadata": {},
     "output_type": "display_data"
    },
    {
     "data": {
      "text/html": [
       "<pre style=\"white-space:pre;overflow-x:auto;line-height:normal;font-family:Menlo,'DejaVu Sans Mono',consolas,'Courier New',monospace\"><span style=\"color: #7fbfbf; text-decoration-color: #7fbfbf\">           </span><span style=\"color: #000080; text-decoration-color: #000080\">INFO    </span> cache miss on codegen gpt                                                             <a href=\"file:///Users/stanb/src/aiknows/aiknows/llm.py\" target=\"_blank\"><span style=\"color: #7f7f7f; text-decoration-color: #7f7f7f\">llm.py</span></a><span style=\"color: #7f7f7f; text-decoration-color: #7f7f7f\">:</span><a href=\"file:///Users/stanb/src/aiknows/aiknows/llm.py#25\" target=\"_blank\"><span style=\"color: #7f7f7f; text-decoration-color: #7f7f7f\">25</span></a>\n",
       "</pre>\n"
      ],
      "text/plain": [
       "\u001b[2;36m          \u001b[0m\u001b[2;36m \u001b[0m\u001b[34mINFO    \u001b[0m cache miss on codegen gpt                                                             \u001b]8;id=761017;file:///Users/stanb/src/aiknows/aiknows/llm.py\u001b\\\u001b[2mllm.py\u001b[0m\u001b]8;;\u001b\\\u001b[2m:\u001b[0m\u001b]8;id=915177;file:///Users/stanb/src/aiknows/aiknows/llm.py#25\u001b\\\u001b[2m25\u001b[0m\u001b]8;;\u001b\\\n"
      ]
     },
     "metadata": {},
     "output_type": "display_data"
    },
    {
     "data": {
      "text/html": [
       "<pre style=\"white-space:pre;overflow-x:auto;line-height:normal;font-family:Menlo,'DejaVu Sans Mono',consolas,'Courier New',monospace\"><span style=\"color: #7fbfbf; text-decoration-color: #7fbfbf\">           </span><span style=\"color: #000080; text-decoration-color: #000080\">INFO    </span> len prompt messages: <span style=\"color: #008080; text-decoration-color: #008080; font-weight: bold\">38</span>                                                               <a href=\"file:///Users/stanb/src/aiknows/aiknows/llm.py\" target=\"_blank\"><span style=\"color: #7f7f7f; text-decoration-color: #7f7f7f\">llm.py</span></a><span style=\"color: #7f7f7f; text-decoration-color: #7f7f7f\">:</span><a href=\"file:///Users/stanb/src/aiknows/aiknows/llm.py#29\" target=\"_blank\"><span style=\"color: #7f7f7f; text-decoration-color: #7f7f7f\">29</span></a>\n",
       "</pre>\n"
      ],
      "text/plain": [
       "\u001b[2;36m          \u001b[0m\u001b[2;36m \u001b[0m\u001b[34mINFO    \u001b[0m len prompt messages: \u001b[1;36m38\u001b[0m                                                               \u001b]8;id=958496;file:///Users/stanb/src/aiknows/aiknows/llm.py\u001b\\\u001b[2mllm.py\u001b[0m\u001b]8;;\u001b\\\u001b[2m:\u001b[0m\u001b]8;id=451914;file:///Users/stanb/src/aiknows/aiknows/llm.py#29\u001b\\\u001b[2m29\u001b[0m\u001b]8;;\u001b\\\n"
      ]
     },
     "metadata": {},
     "output_type": "display_data"
    },
    {
     "data": {
      "text/html": [
       "<pre style=\"white-space:pre;overflow-x:auto;line-height:normal;font-family:Menlo,'DejaVu Sans Mono',consolas,'Courier New',monospace\"><span style=\"color: #7fbfbf; text-decoration-color: #7fbfbf\">[16:56:37] </span><span style=\"color: #000080; text-decoration-color: #000080\">INFO    </span> codegen token usage: <span style=\"color: #008080; text-decoration-color: #008080; font-weight: bold\">2190</span>                                                             <a href=\"file:///Users/stanb/src/aiknows/aiknows/llm.py\" target=\"_blank\"><span style=\"color: #7f7f7f; text-decoration-color: #7f7f7f\">llm.py</span></a><span style=\"color: #7f7f7f; text-decoration-color: #7f7f7f\">:</span><a href=\"file:///Users/stanb/src/aiknows/aiknows/llm.py#38\" target=\"_blank\"><span style=\"color: #7f7f7f; text-decoration-color: #7f7f7f\">38</span></a>\n",
       "</pre>\n"
      ],
      "text/plain": [
       "\u001b[2;36m[16:56:37]\u001b[0m\u001b[2;36m \u001b[0m\u001b[34mINFO    \u001b[0m codegen token usage: \u001b[1;36m2190\u001b[0m                                                             \u001b]8;id=771185;file:///Users/stanb/src/aiknows/aiknows/llm.py\u001b\\\u001b[2mllm.py\u001b[0m\u001b]8;;\u001b\\\u001b[2m:\u001b[0m\u001b]8;id=313388;file:///Users/stanb/src/aiknows/aiknows/llm.py#38\u001b\\\u001b[2m38\u001b[0m\u001b]8;;\u001b\\\n"
      ]
     },
     "metadata": {},
     "output_type": "display_data"
    },
    {
     "data": {
      "text/html": [
       "<pre style=\"white-space:pre;overflow-x:auto;line-height:normal;font-family:Menlo,'DejaVu Sans Mono',consolas,'Courier New',monospace\"><span style=\"color: #7fbfbf; text-decoration-color: #7fbfbf\">           </span><span style=\"color: #000080; text-decoration-color: #000080\">INFO    </span> ===<span style=\"color: #808000; text-decoration-color: #808000\">assistant</span>===                                                                   <a href=\"file:///Users/stanb/src/aiknows/aiknows/prompt/prompt.py\" target=\"_blank\"><span style=\"color: #7f7f7f; text-decoration-color: #7f7f7f\">prompt.py</span></a><span style=\"color: #7f7f7f; text-decoration-color: #7f7f7f\">:</span><a href=\"file:///Users/stanb/src/aiknows/aiknows/prompt/prompt.py#195\" target=\"_blank\"><span style=\"color: #7f7f7f; text-decoration-color: #7f7f7f\">195</span></a>\n",
       "<span style=\"color: #7fbfbf; text-decoration-color: #7fbfbf\">           </span>         ```python                                                                         <span style=\"color: #7f7f7f; text-decoration-color: #7f7f7f\">             </span>\n",
       "<span style=\"color: #7fbfbf; text-decoration-color: #7fbfbf\">           </span>         import subprocess                                                                 <span style=\"color: #7f7f7f; text-decoration-color: #7f7f7f\">             </span>\n",
       "<span style=\"color: #7fbfbf; text-decoration-color: #7fbfbf\">           </span>                                                                                           <span style=\"color: #7f7f7f; text-decoration-color: #7f7f7f\">             </span>\n",
       "<span style=\"color: #7fbfbf; text-decoration-color: #7fbfbf\">           </span>         # `~` is a shortcut for the home directory                                        <span style=\"color: #7f7f7f; text-decoration-color: #7f7f7f\">             </span>\n",
       "<span style=\"color: #7fbfbf; text-decoration-color: #7fbfbf\">           </span>         # `du -sh` is a command to calculate the size of a directory                      <span style=\"color: #7f7f7f; text-decoration-color: #7f7f7f\">             </span>\n",
       "<span style=\"color: #7fbfbf; text-decoration-color: #7fbfbf\">           </span>         # `subprocess.run` is a way to run shell commands from Python                     <span style=\"color: #7f7f7f; text-decoration-color: #7f7f7f\">             </span>\n",
       "<span style=\"color: #7fbfbf; text-decoration-color: #7fbfbf\">           </span>         result = <span style=\"color: #800080; text-decoration-color: #800080; font-weight: bold\">subprocess.run</span><span style=\"font-weight: bold\">([</span><span style=\"color: #008000; text-decoration-color: #008000\">'du'</span>, <span style=\"color: #008000; text-decoration-color: #008000\">'-sh'</span>, <span style=\"color: #008000; text-decoration-color: #008000\">'~/.cache/aiknows'</span><span style=\"font-weight: bold\">]</span>, <span style=\"color: #808000; text-decoration-color: #808000\">capture_output</span>=<span style=\"color: #00ff00; text-decoration-color: #00ff00; font-style: italic\">True</span>,   <span style=\"color: #7f7f7f; text-decoration-color: #7f7f7f\">             </span>\n",
       "<span style=\"color: #7fbfbf; text-decoration-color: #7fbfbf\">           </span>         <span style=\"color: #808000; text-decoration-color: #808000\">text</span>=<span style=\"color: #00ff00; text-decoration-color: #00ff00; font-style: italic\">True</span><span style=\"font-weight: bold\">)</span>                                                                        <span style=\"color: #7f7f7f; text-decoration-color: #7f7f7f\">             </span>\n",
       "<span style=\"color: #7fbfbf; text-decoration-color: #7fbfbf\">           </span>                                                                                           <span style=\"color: #7f7f7f; text-decoration-color: #7f7f7f\">             </span>\n",
       "<span style=\"color: #7fbfbf; text-decoration-color: #7fbfbf\">           </span>         # `result.stdout` contains the output of the command                              <span style=\"color: #7f7f7f; text-decoration-color: #7f7f7f\">             </span>\n",
       "<span style=\"color: #7fbfbf; text-decoration-color: #7fbfbf\">           </span>         # we split the output by tabs and take the first element                          <span style=\"color: #7f7f7f; text-decoration-color: #7f7f7f\">             </span>\n",
       "<span style=\"color: #7fbfbf; text-decoration-color: #7fbfbf\">           </span>         # which is the size of the directory in MB                                        <span style=\"color: #7f7f7f; text-decoration-color: #7f7f7f\">             </span>\n",
       "<span style=\"color: #7fbfbf; text-decoration-color: #7fbfbf\">           </span>         size_in_mb = <span style=\"color: #800080; text-decoration-color: #800080; font-weight: bold\">result.stdout.split</span><span style=\"font-weight: bold\">(</span><span style=\"color: #008000; text-decoration-color: #008000\">'\\t'</span><span style=\"font-weight: bold\">)[</span><span style=\"color: #008080; text-decoration-color: #008080; font-weight: bold\">0</span><span style=\"font-weight: bold\">]</span>                                         <span style=\"color: #7f7f7f; text-decoration-color: #7f7f7f\">             </span>\n",
       "<span style=\"color: #7fbfbf; text-decoration-color: #7fbfbf\">           </span>                                                                                           <span style=\"color: #7f7f7f; text-decoration-color: #7f7f7f\">             </span>\n",
       "<span style=\"color: #7fbfbf; text-decoration-color: #7fbfbf\">           </span>         <span style=\"color: #800080; text-decoration-color: #800080; font-weight: bold\">finish_task_ok</span><span style=\"font-weight: bold\">(</span>size_in_mb<span style=\"font-weight: bold\">)</span>;                                                       <span style=\"color: #7f7f7f; text-decoration-color: #7f7f7f\">             </span>\n",
       "<span style=\"color: #7fbfbf; text-decoration-color: #7fbfbf\">           </span>         ````                                                                              <span style=\"color: #7f7f7f; text-decoration-color: #7f7f7f\">             </span>\n",
       "</pre>\n"
      ],
      "text/plain": [
       "\u001b[2;36m          \u001b[0m\u001b[2;36m \u001b[0m\u001b[34mINFO    \u001b[0m ===\u001b[33massistant\u001b[0m===                                                                   \u001b]8;id=287294;file:///Users/stanb/src/aiknows/aiknows/prompt/prompt.py\u001b\\\u001b[2mprompt.py\u001b[0m\u001b]8;;\u001b\\\u001b[2m:\u001b[0m\u001b]8;id=398417;file:///Users/stanb/src/aiknows/aiknows/prompt/prompt.py#195\u001b\\\u001b[2m195\u001b[0m\u001b]8;;\u001b\\\n",
       "\u001b[2;36m           \u001b[0m         ```python                                                                         \u001b[2m             \u001b[0m\n",
       "\u001b[2;36m           \u001b[0m         import subprocess                                                                 \u001b[2m             \u001b[0m\n",
       "\u001b[2;36m           \u001b[0m                                                                                           \u001b[2m             \u001b[0m\n",
       "\u001b[2;36m           \u001b[0m         # `~` is a shortcut for the home directory                                        \u001b[2m             \u001b[0m\n",
       "\u001b[2;36m           \u001b[0m         # `du -sh` is a command to calculate the size of a directory                      \u001b[2m             \u001b[0m\n",
       "\u001b[2;36m           \u001b[0m         # `subprocess.run` is a way to run shell commands from Python                     \u001b[2m             \u001b[0m\n",
       "\u001b[2;36m           \u001b[0m         result = \u001b[1;35msubprocess.run\u001b[0m\u001b[1m(\u001b[0m\u001b[1m[\u001b[0m\u001b[32m'du'\u001b[0m, \u001b[32m'-sh'\u001b[0m, \u001b[32m'~/.cache/aiknows'\u001b[0m\u001b[1m]\u001b[0m, \u001b[33mcapture_output\u001b[0m=\u001b[3;92mTrue\u001b[0m,   \u001b[2m             \u001b[0m\n",
       "\u001b[2;36m           \u001b[0m         \u001b[33mtext\u001b[0m=\u001b[3;92mTrue\u001b[0m\u001b[1m)\u001b[0m                                                                        \u001b[2m             \u001b[0m\n",
       "\u001b[2;36m           \u001b[0m                                                                                           \u001b[2m             \u001b[0m\n",
       "\u001b[2;36m           \u001b[0m         # `result.stdout` contains the output of the command                              \u001b[2m             \u001b[0m\n",
       "\u001b[2;36m           \u001b[0m         # we split the output by tabs and take the first element                          \u001b[2m             \u001b[0m\n",
       "\u001b[2;36m           \u001b[0m         # which is the size of the directory in MB                                        \u001b[2m             \u001b[0m\n",
       "\u001b[2;36m           \u001b[0m         size_in_mb = \u001b[1;35mresult.stdout.split\u001b[0m\u001b[1m(\u001b[0m\u001b[32m'\\t'\u001b[0m\u001b[1m)\u001b[0m\u001b[1m[\u001b[0m\u001b[1;36m0\u001b[0m\u001b[1m]\u001b[0m                                         \u001b[2m             \u001b[0m\n",
       "\u001b[2;36m           \u001b[0m                                                                                           \u001b[2m             \u001b[0m\n",
       "\u001b[2;36m           \u001b[0m         \u001b[1;35mfinish_task_ok\u001b[0m\u001b[1m(\u001b[0msize_in_mb\u001b[1m)\u001b[0m;                                                       \u001b[2m             \u001b[0m\n",
       "\u001b[2;36m           \u001b[0m         ````                                                                              \u001b[2m             \u001b[0m\n"
      ]
     },
     "metadata": {},
     "output_type": "display_data"
    },
    {
     "data": {
      "text/plain": [
       "''"
      ]
     },
     "execution_count": 53,
     "metadata": {},
     "output_type": "execute_result"
    }
   ],
   "source": [
    "ai('calculate size of ~/.cache/aiknows dir with `du -sh` in MB')"
   ]
  },
  {
   "cell_type": "code",
   "execution_count": 3,
   "metadata": {},
   "outputs": [
    {
     "data": {
      "text/html": [
       "<pre style=\"white-space:pre;overflow-x:auto;line-height:normal;font-family:Menlo,'DejaVu Sans Mono',consolas,'Courier New',monospace\"><span style=\"color: #7fbfbf; text-decoration-color: #7fbfbf\">[16:43:36] </span><span style=\"color: #000080; text-decoration-color: #000080\">INFO    </span> ===<span style=\"color: #808000; text-decoration-color: #808000\">user</span>===                                                                        <a href=\"file:///Users/stanb/src/aiknows/aiknows/prompt/prompt.py\" target=\"_blank\"><span style=\"color: #7f7f7f; text-decoration-color: #7f7f7f\">prompt.py</span></a><span style=\"color: #7f7f7f; text-decoration-color: #7f7f7f\">:</span><a href=\"file:///Users/stanb/src/aiknows/aiknows/prompt/prompt.py#195\" target=\"_blank\"><span style=\"color: #7f7f7f; text-decoration-color: #7f7f7f\">195</span></a>\n",
       "<span style=\"color: #7fbfbf; text-decoration-color: #7fbfbf\">           </span>         task description: <span style=\"color: #008000; text-decoration-color: #008000\">\"\"</span>\"                                                             <span style=\"color: #7f7f7f; text-decoration-color: #7f7f7f\">             </span>\n",
       "<span style=\"color: #7fbfbf; text-decoration-color: #7fbfbf\">           </span>         kek                                                                               <span style=\"color: #7f7f7f; text-decoration-color: #7f7f7f\">             </span>\n",
       "<span style=\"color: #7fbfbf; text-decoration-color: #7fbfbf\">           </span>         <span style=\"color: #008000; text-decoration-color: #008000\">\"\"</span>\"                                                                               <span style=\"color: #7f7f7f; text-decoration-color: #7f7f7f\">             </span>\n",
       "<span style=\"color: #7fbfbf; text-decoration-color: #7fbfbf\">           </span>         environment: new python interpreter                                               <span style=\"color: #7f7f7f; text-decoration-color: #7f7f7f\">             </span>\n",
       "<span style=\"color: #7fbfbf; text-decoration-color: #7fbfbf\">           </span>         global variables: <span style=\"font-weight: bold\">&lt;</span><span style=\"color: #ff00ff; text-decoration-color: #ff00ff; font-weight: bold\">empty</span><span style=\"font-weight: bold\">&gt;</span>                                                         <span style=\"color: #7f7f7f; text-decoration-color: #7f7f7f\">             </span>\n",
       "</pre>\n"
      ],
      "text/plain": [
       "\u001b[2;36m[16:43:36]\u001b[0m\u001b[2;36m \u001b[0m\u001b[34mINFO    \u001b[0m ===\u001b[33muser\u001b[0m===                                                                        \u001b]8;id=311309;file:///Users/stanb/src/aiknows/aiknows/prompt/prompt.py\u001b\\\u001b[2mprompt.py\u001b[0m\u001b]8;;\u001b\\\u001b[2m:\u001b[0m\u001b]8;id=49456;file:///Users/stanb/src/aiknows/aiknows/prompt/prompt.py#195\u001b\\\u001b[2m195\u001b[0m\u001b]8;;\u001b\\\n",
       "\u001b[2;36m           \u001b[0m         task description: \u001b[32m\"\"\u001b[0m\"                                                             \u001b[2m             \u001b[0m\n",
       "\u001b[2;36m           \u001b[0m         kek                                                                               \u001b[2m             \u001b[0m\n",
       "\u001b[2;36m           \u001b[0m         \u001b[32m\"\"\u001b[0m\"                                                                               \u001b[2m             \u001b[0m\n",
       "\u001b[2;36m           \u001b[0m         environment: new python interpreter                                               \u001b[2m             \u001b[0m\n",
       "\u001b[2;36m           \u001b[0m         global variables: \u001b[1m<\u001b[0m\u001b[1;95mempty\u001b[0m\u001b[1m>\u001b[0m                                                         \u001b[2m             \u001b[0m\n"
      ]
     },
     "metadata": {},
     "output_type": "display_data"
    },
    {
     "data": {
      "text/html": [
       "<pre style=\"white-space:pre;overflow-x:auto;line-height:normal;font-family:Menlo,'DejaVu Sans Mono',consolas,'Courier New',monospace\"><span style=\"color: #7fbfbf; text-decoration-color: #7fbfbf\">           </span><span style=\"color: #000080; text-decoration-color: #000080\">INFO    </span> cache miss on emb                                                                    <a href=\"file:///Users/stanb/src/aiknows/aiknows/llm.py\" target=\"_blank\"><span style=\"color: #7f7f7f; text-decoration-color: #7f7f7f\">llm.py</span></a><span style=\"color: #7f7f7f; text-decoration-color: #7f7f7f\">:</span><a href=\"file:///Users/stanb/src/aiknows/aiknows/llm.py#100\" target=\"_blank\"><span style=\"color: #7f7f7f; text-decoration-color: #7f7f7f\">100</span></a>\n",
       "</pre>\n"
      ],
      "text/plain": [
       "\u001b[2;36m          \u001b[0m\u001b[2;36m \u001b[0m\u001b[34mINFO    \u001b[0m cache miss on emb                                                                    \u001b]8;id=85910;file:///Users/stanb/src/aiknows/aiknows/llm.py\u001b\\\u001b[2mllm.py\u001b[0m\u001b]8;;\u001b\\\u001b[2m:\u001b[0m\u001b]8;id=760146;file:///Users/stanb/src/aiknows/aiknows/llm.py#100\u001b\\\u001b[2m100\u001b[0m\u001b]8;;\u001b\\\n"
      ]
     },
     "metadata": {},
     "output_type": "display_data"
    },
    {
     "data": {
      "text/html": [
       "<pre style=\"white-space:pre;overflow-x:auto;line-height:normal;font-family:Menlo,'DejaVu Sans Mono',consolas,'Courier New',monospace\"><span style=\"color: #7fbfbf; text-decoration-color: #7fbfbf\">[16:43:37] </span><span style=\"color: #000080; text-decoration-color: #000080\">INFO    </span> emb token usage: <span style=\"color: #008080; text-decoration-color: #008080; font-weight: bold\">19</span>                                                                  <a href=\"file:///Users/stanb/src/aiknows/aiknows/llm.py\" target=\"_blank\"><span style=\"color: #7f7f7f; text-decoration-color: #7f7f7f\">llm.py</span></a><span style=\"color: #7f7f7f; text-decoration-color: #7f7f7f\">:</span><a href=\"file:///Users/stanb/src/aiknows/aiknows/llm.py#113\" target=\"_blank\"><span style=\"color: #7f7f7f; text-decoration-color: #7f7f7f\">113</span></a>\n",
       "</pre>\n"
      ],
      "text/plain": [
       "\u001b[2;36m[16:43:37]\u001b[0m\u001b[2;36m \u001b[0m\u001b[34mINFO    \u001b[0m emb token usage: \u001b[1;36m19\u001b[0m                                                                  \u001b]8;id=353587;file:///Users/stanb/src/aiknows/aiknows/llm.py\u001b\\\u001b[2mllm.py\u001b[0m\u001b]8;;\u001b\\\u001b[2m:\u001b[0m\u001b]8;id=773535;file:///Users/stanb/src/aiknows/aiknows/llm.py#113\u001b\\\u001b[2m113\u001b[0m\u001b]8;;\u001b\\\n"
      ]
     },
     "metadata": {},
     "output_type": "display_data"
    },
    {
     "data": {
      "text/html": [
       "<pre style=\"white-space:pre;overflow-x:auto;line-height:normal;font-family:Menlo,'DejaVu Sans Mono',consolas,'Courier New',monospace\"><span style=\"color: #7fbfbf; text-decoration-color: #7fbfbf\">           </span><span style=\"color: #000080; text-decoration-color: #000080\">INFO    </span> cache miss on emb                                                                    <a href=\"file:///Users/stanb/src/aiknows/aiknows/llm.py\" target=\"_blank\"><span style=\"color: #7f7f7f; text-decoration-color: #7f7f7f\">llm.py</span></a><span style=\"color: #7f7f7f; text-decoration-color: #7f7f7f\">:</span><a href=\"file:///Users/stanb/src/aiknows/aiknows/llm.py#100\" target=\"_blank\"><span style=\"color: #7f7f7f; text-decoration-color: #7f7f7f\">100</span></a>\n",
       "</pre>\n"
      ],
      "text/plain": [
       "\u001b[2;36m          \u001b[0m\u001b[2;36m \u001b[0m\u001b[34mINFO    \u001b[0m cache miss on emb                                                                    \u001b]8;id=748461;file:///Users/stanb/src/aiknows/aiknows/llm.py\u001b\\\u001b[2mllm.py\u001b[0m\u001b]8;;\u001b\\\u001b[2m:\u001b[0m\u001b]8;id=486107;file:///Users/stanb/src/aiknows/aiknows/llm.py#100\u001b\\\u001b[2m100\u001b[0m\u001b]8;;\u001b\\\n"
      ]
     },
     "metadata": {},
     "output_type": "display_data"
    },
    {
     "data": {
      "text/html": [
       "<pre style=\"white-space:pre;overflow-x:auto;line-height:normal;font-family:Menlo,'DejaVu Sans Mono',consolas,'Courier New',monospace\"><span style=\"color: #7fbfbf; text-decoration-color: #7fbfbf\">           </span><span style=\"color: #000080; text-decoration-color: #000080\">INFO    </span> emb token usage: <span style=\"color: #008080; text-decoration-color: #008080; font-weight: bold\">1</span>                                                                   <a href=\"file:///Users/stanb/src/aiknows/aiknows/llm.py\" target=\"_blank\"><span style=\"color: #7f7f7f; text-decoration-color: #7f7f7f\">llm.py</span></a><span style=\"color: #7f7f7f; text-decoration-color: #7f7f7f\">:</span><a href=\"file:///Users/stanb/src/aiknows/aiknows/llm.py#113\" target=\"_blank\"><span style=\"color: #7f7f7f; text-decoration-color: #7f7f7f\">113</span></a>\n",
       "</pre>\n"
      ],
      "text/plain": [
       "\u001b[2;36m          \u001b[0m\u001b[2;36m \u001b[0m\u001b[34mINFO    \u001b[0m emb token usage: \u001b[1;36m1\u001b[0m                                                                   \u001b]8;id=933140;file:///Users/stanb/src/aiknows/aiknows/llm.py\u001b\\\u001b[2mllm.py\u001b[0m\u001b]8;;\u001b\\\u001b[2m:\u001b[0m\u001b]8;id=847627;file:///Users/stanb/src/aiknows/aiknows/llm.py#113\u001b\\\u001b[2m113\u001b[0m\u001b]8;;\u001b\\\n"
      ]
     },
     "metadata": {},
     "output_type": "display_data"
    },
    {
     "data": {
      "text/html": [
       "<pre style=\"white-space:pre;overflow-x:auto;line-height:normal;font-family:Menlo,'DejaVu Sans Mono',consolas,'Courier New',monospace\"><span style=\"color: #7fbfbf; text-decoration-color: #7fbfbf\">           </span><span style=\"color: #000080; text-decoration-color: #000080\">INFO    </span> cache miss on emb                                                                    <a href=\"file:///Users/stanb/src/aiknows/aiknows/llm.py\" target=\"_blank\"><span style=\"color: #7f7f7f; text-decoration-color: #7f7f7f\">llm.py</span></a><span style=\"color: #7f7f7f; text-decoration-color: #7f7f7f\">:</span><a href=\"file:///Users/stanb/src/aiknows/aiknows/llm.py#100\" target=\"_blank\"><span style=\"color: #7f7f7f; text-decoration-color: #7f7f7f\">100</span></a>\n",
       "</pre>\n"
      ],
      "text/plain": [
       "\u001b[2;36m          \u001b[0m\u001b[2;36m \u001b[0m\u001b[34mINFO    \u001b[0m cache miss on emb                                                                    \u001b]8;id=33131;file:///Users/stanb/src/aiknows/aiknows/llm.py\u001b\\\u001b[2mllm.py\u001b[0m\u001b]8;;\u001b\\\u001b[2m:\u001b[0m\u001b]8;id=771330;file:///Users/stanb/src/aiknows/aiknows/llm.py#100\u001b\\\u001b[2m100\u001b[0m\u001b]8;;\u001b\\\n"
      ]
     },
     "metadata": {},
     "output_type": "display_data"
    },
    {
     "data": {
      "text/html": [
       "<pre style=\"white-space:pre;overflow-x:auto;line-height:normal;font-family:Menlo,'DejaVu Sans Mono',consolas,'Courier New',monospace\"><span style=\"color: #7fbfbf; text-decoration-color: #7fbfbf\">[16:43:38] </span><span style=\"color: #000080; text-decoration-color: #000080\">INFO    </span> emb token usage: <span style=\"color: #008080; text-decoration-color: #008080; font-weight: bold\">17</span>                                                                  <a href=\"file:///Users/stanb/src/aiknows/aiknows/llm.py\" target=\"_blank\"><span style=\"color: #7f7f7f; text-decoration-color: #7f7f7f\">llm.py</span></a><span style=\"color: #7f7f7f; text-decoration-color: #7f7f7f\">:</span><a href=\"file:///Users/stanb/src/aiknows/aiknows/llm.py#113\" target=\"_blank\"><span style=\"color: #7f7f7f; text-decoration-color: #7f7f7f\">113</span></a>\n",
       "</pre>\n"
      ],
      "text/plain": [
       "\u001b[2;36m[16:43:38]\u001b[0m\u001b[2;36m \u001b[0m\u001b[34mINFO    \u001b[0m emb token usage: \u001b[1;36m17\u001b[0m                                                                  \u001b]8;id=990399;file:///Users/stanb/src/aiknows/aiknows/llm.py\u001b\\\u001b[2mllm.py\u001b[0m\u001b]8;;\u001b\\\u001b[2m:\u001b[0m\u001b]8;id=892604;file:///Users/stanb/src/aiknows/aiknows/llm.py#113\u001b\\\u001b[2m113\u001b[0m\u001b]8;;\u001b\\\n"
      ]
     },
     "metadata": {},
     "output_type": "display_data"
    },
    {
     "data": {
      "text/html": [
       "<pre style=\"white-space:pre;overflow-x:auto;line-height:normal;font-family:Menlo,'DejaVu Sans Mono',consolas,'Courier New',monospace\"><span style=\"color: #7fbfbf; text-decoration-color: #7fbfbf\">           </span><span style=\"color: #000080; text-decoration-color: #000080\">INFO    </span> cache miss on emb                                                                    <a href=\"file:///Users/stanb/src/aiknows/aiknows/llm.py\" target=\"_blank\"><span style=\"color: #7f7f7f; text-decoration-color: #7f7f7f\">llm.py</span></a><span style=\"color: #7f7f7f; text-decoration-color: #7f7f7f\">:</span><a href=\"file:///Users/stanb/src/aiknows/aiknows/llm.py#100\" target=\"_blank\"><span style=\"color: #7f7f7f; text-decoration-color: #7f7f7f\">100</span></a>\n",
       "</pre>\n"
      ],
      "text/plain": [
       "\u001b[2;36m          \u001b[0m\u001b[2;36m \u001b[0m\u001b[34mINFO    \u001b[0m cache miss on emb                                                                    \u001b]8;id=209014;file:///Users/stanb/src/aiknows/aiknows/llm.py\u001b\\\u001b[2mllm.py\u001b[0m\u001b]8;;\u001b\\\u001b[2m:\u001b[0m\u001b]8;id=167097;file:///Users/stanb/src/aiknows/aiknows/llm.py#100\u001b\\\u001b[2m100\u001b[0m\u001b]8;;\u001b\\\n"
      ]
     },
     "metadata": {},
     "output_type": "display_data"
    },
    {
     "data": {
      "text/html": [
       "<pre style=\"white-space:pre;overflow-x:auto;line-height:normal;font-family:Menlo,'DejaVu Sans Mono',consolas,'Courier New',monospace\"><span style=\"color: #7fbfbf; text-decoration-color: #7fbfbf\">[16:43:39] </span><span style=\"color: #000080; text-decoration-color: #000080\">INFO    </span> emb token usage: <span style=\"color: #008080; text-decoration-color: #008080; font-weight: bold\">8</span>                                                                   <a href=\"file:///Users/stanb/src/aiknows/aiknows/llm.py\" target=\"_blank\"><span style=\"color: #7f7f7f; text-decoration-color: #7f7f7f\">llm.py</span></a><span style=\"color: #7f7f7f; text-decoration-color: #7f7f7f\">:</span><a href=\"file:///Users/stanb/src/aiknows/aiknows/llm.py#113\" target=\"_blank\"><span style=\"color: #7f7f7f; text-decoration-color: #7f7f7f\">113</span></a>\n",
       "</pre>\n"
      ],
      "text/plain": [
       "\u001b[2;36m[16:43:39]\u001b[0m\u001b[2;36m \u001b[0m\u001b[34mINFO    \u001b[0m emb token usage: \u001b[1;36m8\u001b[0m                                                                   \u001b]8;id=663970;file:///Users/stanb/src/aiknows/aiknows/llm.py\u001b\\\u001b[2mllm.py\u001b[0m\u001b]8;;\u001b\\\u001b[2m:\u001b[0m\u001b]8;id=191819;file:///Users/stanb/src/aiknows/aiknows/llm.py#113\u001b\\\u001b[2m113\u001b[0m\u001b]8;;\u001b\\\n"
      ]
     },
     "metadata": {},
     "output_type": "display_data"
    },
    {
     "data": {
      "text/html": [
       "<pre style=\"white-space:pre;overflow-x:auto;line-height:normal;font-family:Menlo,'DejaVu Sans Mono',consolas,'Courier New',monospace\"><span style=\"color: #7fbfbf; text-decoration-color: #7fbfbf\">           </span><span style=\"color: #000080; text-decoration-color: #000080\">INFO    </span> cache miss on emb                                                                    <a href=\"file:///Users/stanb/src/aiknows/aiknows/llm.py\" target=\"_blank\"><span style=\"color: #7f7f7f; text-decoration-color: #7f7f7f\">llm.py</span></a><span style=\"color: #7f7f7f; text-decoration-color: #7f7f7f\">:</span><a href=\"file:///Users/stanb/src/aiknows/aiknows/llm.py#100\" target=\"_blank\"><span style=\"color: #7f7f7f; text-decoration-color: #7f7f7f\">100</span></a>\n",
       "</pre>\n"
      ],
      "text/plain": [
       "\u001b[2;36m          \u001b[0m\u001b[2;36m \u001b[0m\u001b[34mINFO    \u001b[0m cache miss on emb                                                                    \u001b]8;id=711721;file:///Users/stanb/src/aiknows/aiknows/llm.py\u001b\\\u001b[2mllm.py\u001b[0m\u001b]8;;\u001b\\\u001b[2m:\u001b[0m\u001b]8;id=28416;file:///Users/stanb/src/aiknows/aiknows/llm.py#100\u001b\\\u001b[2m100\u001b[0m\u001b]8;;\u001b\\\n"
      ]
     },
     "metadata": {},
     "output_type": "display_data"
    },
    {
     "data": {
      "text/html": [
       "<pre style=\"white-space:pre;overflow-x:auto;line-height:normal;font-family:Menlo,'DejaVu Sans Mono',consolas,'Courier New',monospace\"><span style=\"color: #7fbfbf; text-decoration-color: #7fbfbf\">[16:43:40] </span><span style=\"color: #000080; text-decoration-color: #000080\">INFO    </span> emb token usage: <span style=\"color: #008080; text-decoration-color: #008080; font-weight: bold\">20</span>                                                                  <a href=\"file:///Users/stanb/src/aiknows/aiknows/llm.py\" target=\"_blank\"><span style=\"color: #7f7f7f; text-decoration-color: #7f7f7f\">llm.py</span></a><span style=\"color: #7f7f7f; text-decoration-color: #7f7f7f\">:</span><a href=\"file:///Users/stanb/src/aiknows/aiknows/llm.py#113\" target=\"_blank\"><span style=\"color: #7f7f7f; text-decoration-color: #7f7f7f\">113</span></a>\n",
       "</pre>\n"
      ],
      "text/plain": [
       "\u001b[2;36m[16:43:40]\u001b[0m\u001b[2;36m \u001b[0m\u001b[34mINFO    \u001b[0m emb token usage: \u001b[1;36m20\u001b[0m                                                                  \u001b]8;id=443050;file:///Users/stanb/src/aiknows/aiknows/llm.py\u001b\\\u001b[2mllm.py\u001b[0m\u001b]8;;\u001b\\\u001b[2m:\u001b[0m\u001b]8;id=161866;file:///Users/stanb/src/aiknows/aiknows/llm.py#113\u001b\\\u001b[2m113\u001b[0m\u001b]8;;\u001b\\\n"
      ]
     },
     "metadata": {},
     "output_type": "display_data"
    },
    {
     "data": {
      "text/html": [
       "<pre style=\"white-space:pre;overflow-x:auto;line-height:normal;font-family:Menlo,'DejaVu Sans Mono',consolas,'Courier New',monospace\"><span style=\"color: #7fbfbf; text-decoration-color: #7fbfbf\">           </span><span style=\"color: #000080; text-decoration-color: #000080\">INFO    </span> cache miss on emb                                                                    <a href=\"file:///Users/stanb/src/aiknows/aiknows/llm.py\" target=\"_blank\"><span style=\"color: #7f7f7f; text-decoration-color: #7f7f7f\">llm.py</span></a><span style=\"color: #7f7f7f; text-decoration-color: #7f7f7f\">:</span><a href=\"file:///Users/stanb/src/aiknows/aiknows/llm.py#100\" target=\"_blank\"><span style=\"color: #7f7f7f; text-decoration-color: #7f7f7f\">100</span></a>\n",
       "</pre>\n"
      ],
      "text/plain": [
       "\u001b[2;36m          \u001b[0m\u001b[2;36m \u001b[0m\u001b[34mINFO    \u001b[0m cache miss on emb                                                                    \u001b]8;id=833549;file:///Users/stanb/src/aiknows/aiknows/llm.py\u001b\\\u001b[2mllm.py\u001b[0m\u001b]8;;\u001b\\\u001b[2m:\u001b[0m\u001b]8;id=240868;file:///Users/stanb/src/aiknows/aiknows/llm.py#100\u001b\\\u001b[2m100\u001b[0m\u001b]8;;\u001b\\\n"
      ]
     },
     "metadata": {},
     "output_type": "display_data"
    },
    {
     "data": {
      "text/html": [
       "<pre style=\"white-space:pre;overflow-x:auto;line-height:normal;font-family:Menlo,'DejaVu Sans Mono',consolas,'Courier New',monospace\"><span style=\"color: #7fbfbf; text-decoration-color: #7fbfbf\">           </span><span style=\"color: #000080; text-decoration-color: #000080\">INFO    </span> emb token usage: <span style=\"color: #008080; text-decoration-color: #008080; font-weight: bold\">28</span>                                                                  <a href=\"file:///Users/stanb/src/aiknows/aiknows/llm.py\" target=\"_blank\"><span style=\"color: #7f7f7f; text-decoration-color: #7f7f7f\">llm.py</span></a><span style=\"color: #7f7f7f; text-decoration-color: #7f7f7f\">:</span><a href=\"file:///Users/stanb/src/aiknows/aiknows/llm.py#113\" target=\"_blank\"><span style=\"color: #7f7f7f; text-decoration-color: #7f7f7f\">113</span></a>\n",
       "</pre>\n"
      ],
      "text/plain": [
       "\u001b[2;36m          \u001b[0m\u001b[2;36m \u001b[0m\u001b[34mINFO    \u001b[0m emb token usage: \u001b[1;36m28\u001b[0m                                                                  \u001b]8;id=240948;file:///Users/stanb/src/aiknows/aiknows/llm.py\u001b\\\u001b[2mllm.py\u001b[0m\u001b]8;;\u001b\\\u001b[2m:\u001b[0m\u001b]8;id=380952;file:///Users/stanb/src/aiknows/aiknows/llm.py#113\u001b\\\u001b[2m113\u001b[0m\u001b]8;;\u001b\\\n"
      ]
     },
     "metadata": {},
     "output_type": "display_data"
    },
    {
     "data": {
      "text/html": [
       "<pre style=\"white-space:pre;overflow-x:auto;line-height:normal;font-family:Menlo,'DejaVu Sans Mono',consolas,'Courier New',monospace\"><span style=\"color: #7fbfbf; text-decoration-color: #7fbfbf\">           </span><span style=\"color: #000080; text-decoration-color: #000080\">INFO    </span> cache miss on emb                                                                    <a href=\"file:///Users/stanb/src/aiknows/aiknows/llm.py\" target=\"_blank\"><span style=\"color: #7f7f7f; text-decoration-color: #7f7f7f\">llm.py</span></a><span style=\"color: #7f7f7f; text-decoration-color: #7f7f7f\">:</span><a href=\"file:///Users/stanb/src/aiknows/aiknows/llm.py#100\" target=\"_blank\"><span style=\"color: #7f7f7f; text-decoration-color: #7f7f7f\">100</span></a>\n",
       "</pre>\n"
      ],
      "text/plain": [
       "\u001b[2;36m          \u001b[0m\u001b[2;36m \u001b[0m\u001b[34mINFO    \u001b[0m cache miss on emb                                                                    \u001b]8;id=529570;file:///Users/stanb/src/aiknows/aiknows/llm.py\u001b\\\u001b[2mllm.py\u001b[0m\u001b]8;;\u001b\\\u001b[2m:\u001b[0m\u001b]8;id=411059;file:///Users/stanb/src/aiknows/aiknows/llm.py#100\u001b\\\u001b[2m100\u001b[0m\u001b]8;;\u001b\\\n"
      ]
     },
     "metadata": {},
     "output_type": "display_data"
    },
    {
     "data": {
      "text/html": [
       "<pre style=\"white-space:pre;overflow-x:auto;line-height:normal;font-family:Menlo,'DejaVu Sans Mono',consolas,'Courier New',monospace\"><span style=\"color: #7fbfbf; text-decoration-color: #7fbfbf\">           </span><span style=\"color: #000080; text-decoration-color: #000080\">INFO    </span> emb token usage: <span style=\"color: #008080; text-decoration-color: #008080; font-weight: bold\">13</span>                                                                  <a href=\"file:///Users/stanb/src/aiknows/aiknows/llm.py\" target=\"_blank\"><span style=\"color: #7f7f7f; text-decoration-color: #7f7f7f\">llm.py</span></a><span style=\"color: #7f7f7f; text-decoration-color: #7f7f7f\">:</span><a href=\"file:///Users/stanb/src/aiknows/aiknows/llm.py#113\" target=\"_blank\"><span style=\"color: #7f7f7f; text-decoration-color: #7f7f7f\">113</span></a>\n",
       "</pre>\n"
      ],
      "text/plain": [
       "\u001b[2;36m          \u001b[0m\u001b[2;36m \u001b[0m\u001b[34mINFO    \u001b[0m emb token usage: \u001b[1;36m13\u001b[0m                                                                  \u001b]8;id=650535;file:///Users/stanb/src/aiknows/aiknows/llm.py\u001b\\\u001b[2mllm.py\u001b[0m\u001b]8;;\u001b\\\u001b[2m:\u001b[0m\u001b]8;id=799503;file:///Users/stanb/src/aiknows/aiknows/llm.py#113\u001b\\\u001b[2m113\u001b[0m\u001b]8;;\u001b\\\n"
      ]
     },
     "metadata": {},
     "output_type": "display_data"
    },
    {
     "data": {
      "text/html": [
       "<pre style=\"white-space:pre;overflow-x:auto;line-height:normal;font-family:Menlo,'DejaVu Sans Mono',consolas,'Courier New',monospace\"><span style=\"color: #7fbfbf; text-decoration-color: #7fbfbf\">           </span><span style=\"color: #000080; text-decoration-color: #000080\">INFO    </span> cache miss on emb                                                                    <a href=\"file:///Users/stanb/src/aiknows/aiknows/llm.py\" target=\"_blank\"><span style=\"color: #7f7f7f; text-decoration-color: #7f7f7f\">llm.py</span></a><span style=\"color: #7f7f7f; text-decoration-color: #7f7f7f\">:</span><a href=\"file:///Users/stanb/src/aiknows/aiknows/llm.py#100\" target=\"_blank\"><span style=\"color: #7f7f7f; text-decoration-color: #7f7f7f\">100</span></a>\n",
       "</pre>\n"
      ],
      "text/plain": [
       "\u001b[2;36m          \u001b[0m\u001b[2;36m \u001b[0m\u001b[34mINFO    \u001b[0m cache miss on emb                                                                    \u001b]8;id=343808;file:///Users/stanb/src/aiknows/aiknows/llm.py\u001b\\\u001b[2mllm.py\u001b[0m\u001b]8;;\u001b\\\u001b[2m:\u001b[0m\u001b]8;id=140100;file:///Users/stanb/src/aiknows/aiknows/llm.py#100\u001b\\\u001b[2m100\u001b[0m\u001b]8;;\u001b\\\n"
      ]
     },
     "metadata": {},
     "output_type": "display_data"
    },
    {
     "data": {
      "text/html": [
       "<pre style=\"white-space:pre;overflow-x:auto;line-height:normal;font-family:Menlo,'DejaVu Sans Mono',consolas,'Courier New',monospace\"><span style=\"color: #7fbfbf; text-decoration-color: #7fbfbf\">[16:43:41] </span><span style=\"color: #000080; text-decoration-color: #000080\">INFO    </span> emb token usage: <span style=\"color: #008080; text-decoration-color: #008080; font-weight: bold\">8</span>                                                                   <a href=\"file:///Users/stanb/src/aiknows/aiknows/llm.py\" target=\"_blank\"><span style=\"color: #7f7f7f; text-decoration-color: #7f7f7f\">llm.py</span></a><span style=\"color: #7f7f7f; text-decoration-color: #7f7f7f\">:</span><a href=\"file:///Users/stanb/src/aiknows/aiknows/llm.py#113\" target=\"_blank\"><span style=\"color: #7f7f7f; text-decoration-color: #7f7f7f\">113</span></a>\n",
       "</pre>\n"
      ],
      "text/plain": [
       "\u001b[2;36m[16:43:41]\u001b[0m\u001b[2;36m \u001b[0m\u001b[34mINFO    \u001b[0m emb token usage: \u001b[1;36m8\u001b[0m                                                                   \u001b]8;id=627610;file:///Users/stanb/src/aiknows/aiknows/llm.py\u001b\\\u001b[2mllm.py\u001b[0m\u001b]8;;\u001b\\\u001b[2m:\u001b[0m\u001b]8;id=461217;file:///Users/stanb/src/aiknows/aiknows/llm.py#113\u001b\\\u001b[2m113\u001b[0m\u001b]8;;\u001b\\\n"
      ]
     },
     "metadata": {},
     "output_type": "display_data"
    },
    {
     "data": {
      "text/html": [
       "<pre style=\"white-space:pre;overflow-x:auto;line-height:normal;font-family:Menlo,'DejaVu Sans Mono',consolas,'Courier New',monospace\"><span style=\"color: #7fbfbf; text-decoration-color: #7fbfbf\">           </span><span style=\"color: #000080; text-decoration-color: #000080\">INFO    </span> cache miss on emb                                                                    <a href=\"file:///Users/stanb/src/aiknows/aiknows/llm.py\" target=\"_blank\"><span style=\"color: #7f7f7f; text-decoration-color: #7f7f7f\">llm.py</span></a><span style=\"color: #7f7f7f; text-decoration-color: #7f7f7f\">:</span><a href=\"file:///Users/stanb/src/aiknows/aiknows/llm.py#100\" target=\"_blank\"><span style=\"color: #7f7f7f; text-decoration-color: #7f7f7f\">100</span></a>\n",
       "</pre>\n"
      ],
      "text/plain": [
       "\u001b[2;36m          \u001b[0m\u001b[2;36m \u001b[0m\u001b[34mINFO    \u001b[0m cache miss on emb                                                                    \u001b]8;id=609985;file:///Users/stanb/src/aiknows/aiknows/llm.py\u001b\\\u001b[2mllm.py\u001b[0m\u001b]8;;\u001b\\\u001b[2m:\u001b[0m\u001b]8;id=150589;file:///Users/stanb/src/aiknows/aiknows/llm.py#100\u001b\\\u001b[2m100\u001b[0m\u001b]8;;\u001b\\\n"
      ]
     },
     "metadata": {},
     "output_type": "display_data"
    },
    {
     "data": {
      "text/html": [
       "<pre style=\"white-space:pre;overflow-x:auto;line-height:normal;font-family:Menlo,'DejaVu Sans Mono',consolas,'Courier New',monospace\"><span style=\"color: #7fbfbf; text-decoration-color: #7fbfbf\">           </span><span style=\"color: #000080; text-decoration-color: #000080\">INFO    </span> emb token usage: <span style=\"color: #008080; text-decoration-color: #008080; font-weight: bold\">23</span>                                                                  <a href=\"file:///Users/stanb/src/aiknows/aiknows/llm.py\" target=\"_blank\"><span style=\"color: #7f7f7f; text-decoration-color: #7f7f7f\">llm.py</span></a><span style=\"color: #7f7f7f; text-decoration-color: #7f7f7f\">:</span><a href=\"file:///Users/stanb/src/aiknows/aiknows/llm.py#113\" target=\"_blank\"><span style=\"color: #7f7f7f; text-decoration-color: #7f7f7f\">113</span></a>\n",
       "</pre>\n"
      ],
      "text/plain": [
       "\u001b[2;36m          \u001b[0m\u001b[2;36m \u001b[0m\u001b[34mINFO    \u001b[0m emb token usage: \u001b[1;36m23\u001b[0m                                                                  \u001b]8;id=920376;file:///Users/stanb/src/aiknows/aiknows/llm.py\u001b\\\u001b[2mllm.py\u001b[0m\u001b]8;;\u001b\\\u001b[2m:\u001b[0m\u001b]8;id=216387;file:///Users/stanb/src/aiknows/aiknows/llm.py#113\u001b\\\u001b[2m113\u001b[0m\u001b]8;;\u001b\\\n"
      ]
     },
     "metadata": {},
     "output_type": "display_data"
    },
    {
     "data": {
      "text/html": [
       "<pre style=\"white-space:pre;overflow-x:auto;line-height:normal;font-family:Menlo,'DejaVu Sans Mono',consolas,'Courier New',monospace\"><span style=\"color: #7fbfbf; text-decoration-color: #7fbfbf\">           </span><span style=\"color: #000080; text-decoration-color: #000080\">INFO    </span> cache miss on emb                                                                    <a href=\"file:///Users/stanb/src/aiknows/aiknows/llm.py\" target=\"_blank\"><span style=\"color: #7f7f7f; text-decoration-color: #7f7f7f\">llm.py</span></a><span style=\"color: #7f7f7f; text-decoration-color: #7f7f7f\">:</span><a href=\"file:///Users/stanb/src/aiknows/aiknows/llm.py#100\" target=\"_blank\"><span style=\"color: #7f7f7f; text-decoration-color: #7f7f7f\">100</span></a>\n",
       "</pre>\n"
      ],
      "text/plain": [
       "\u001b[2;36m          \u001b[0m\u001b[2;36m \u001b[0m\u001b[34mINFO    \u001b[0m cache miss on emb                                                                    \u001b]8;id=358796;file:///Users/stanb/src/aiknows/aiknows/llm.py\u001b\\\u001b[2mllm.py\u001b[0m\u001b]8;;\u001b\\\u001b[2m:\u001b[0m\u001b]8;id=315848;file:///Users/stanb/src/aiknows/aiknows/llm.py#100\u001b\\\u001b[2m100\u001b[0m\u001b]8;;\u001b\\\n"
      ]
     },
     "metadata": {},
     "output_type": "display_data"
    },
    {
     "data": {
      "text/html": [
       "<pre style=\"white-space:pre;overflow-x:auto;line-height:normal;font-family:Menlo,'DejaVu Sans Mono',consolas,'Courier New',monospace\"><span style=\"color: #7fbfbf; text-decoration-color: #7fbfbf\">[16:43:42] </span><span style=\"color: #000080; text-decoration-color: #000080\">INFO    </span> emb token usage: <span style=\"color: #008080; text-decoration-color: #008080; font-weight: bold\">16</span>                                                                  <a href=\"file:///Users/stanb/src/aiknows/aiknows/llm.py\" target=\"_blank\"><span style=\"color: #7f7f7f; text-decoration-color: #7f7f7f\">llm.py</span></a><span style=\"color: #7f7f7f; text-decoration-color: #7f7f7f\">:</span><a href=\"file:///Users/stanb/src/aiknows/aiknows/llm.py#113\" target=\"_blank\"><span style=\"color: #7f7f7f; text-decoration-color: #7f7f7f\">113</span></a>\n",
       "</pre>\n"
      ],
      "text/plain": [
       "\u001b[2;36m[16:43:42]\u001b[0m\u001b[2;36m \u001b[0m\u001b[34mINFO    \u001b[0m emb token usage: \u001b[1;36m16\u001b[0m                                                                  \u001b]8;id=386803;file:///Users/stanb/src/aiknows/aiknows/llm.py\u001b\\\u001b[2mllm.py\u001b[0m\u001b]8;;\u001b\\\u001b[2m:\u001b[0m\u001b]8;id=667241;file:///Users/stanb/src/aiknows/aiknows/llm.py#113\u001b\\\u001b[2m113\u001b[0m\u001b]8;;\u001b\\\n"
      ]
     },
     "metadata": {},
     "output_type": "display_data"
    },
    {
     "data": {
      "text/html": [
       "<pre style=\"white-space:pre;overflow-x:auto;line-height:normal;font-family:Menlo,'DejaVu Sans Mono',consolas,'Courier New',monospace\"><span style=\"color: #7fbfbf; text-decoration-color: #7fbfbf\">           </span><span style=\"color: #000080; text-decoration-color: #000080\">INFO    </span> cache miss on codegen gpt                                                             <a href=\"file:///Users/stanb/src/aiknows/aiknows/llm.py\" target=\"_blank\"><span style=\"color: #7f7f7f; text-decoration-color: #7f7f7f\">llm.py</span></a><span style=\"color: #7f7f7f; text-decoration-color: #7f7f7f\">:</span><a href=\"file:///Users/stanb/src/aiknows/aiknows/llm.py#25\" target=\"_blank\"><span style=\"color: #7f7f7f; text-decoration-color: #7f7f7f\">25</span></a>\n",
       "</pre>\n"
      ],
      "text/plain": [
       "\u001b[2;36m          \u001b[0m\u001b[2;36m \u001b[0m\u001b[34mINFO    \u001b[0m cache miss on codegen gpt                                                             \u001b]8;id=888670;file:///Users/stanb/src/aiknows/aiknows/llm.py\u001b\\\u001b[2mllm.py\u001b[0m\u001b]8;;\u001b\\\u001b[2m:\u001b[0m\u001b]8;id=840350;file:///Users/stanb/src/aiknows/aiknows/llm.py#25\u001b\\\u001b[2m25\u001b[0m\u001b]8;;\u001b\\\n"
      ]
     },
     "metadata": {},
     "output_type": "display_data"
    },
    {
     "data": {
      "text/html": [
       "<pre style=\"white-space:pre;overflow-x:auto;line-height:normal;font-family:Menlo,'DejaVu Sans Mono',consolas,'Courier New',monospace\"><span style=\"color: #7fbfbf; text-decoration-color: #7fbfbf\">           </span><span style=\"color: #000080; text-decoration-color: #000080\">INFO    </span> len prompt messages: <span style=\"color: #008080; text-decoration-color: #008080; font-weight: bold\">40</span>                                                               <a href=\"file:///Users/stanb/src/aiknows/aiknows/llm.py\" target=\"_blank\"><span style=\"color: #7f7f7f; text-decoration-color: #7f7f7f\">llm.py</span></a><span style=\"color: #7f7f7f; text-decoration-color: #7f7f7f\">:</span><a href=\"file:///Users/stanb/src/aiknows/aiknows/llm.py#29\" target=\"_blank\"><span style=\"color: #7f7f7f; text-decoration-color: #7f7f7f\">29</span></a>\n",
       "</pre>\n"
      ],
      "text/plain": [
       "\u001b[2;36m          \u001b[0m\u001b[2;36m \u001b[0m\u001b[34mINFO    \u001b[0m len prompt messages: \u001b[1;36m40\u001b[0m                                                               \u001b]8;id=169114;file:///Users/stanb/src/aiknows/aiknows/llm.py\u001b\\\u001b[2mllm.py\u001b[0m\u001b]8;;\u001b\\\u001b[2m:\u001b[0m\u001b]8;id=310865;file:///Users/stanb/src/aiknows/aiknows/llm.py#29\u001b\\\u001b[2m29\u001b[0m\u001b]8;;\u001b\\\n"
      ]
     },
     "metadata": {},
     "output_type": "display_data"
    },
    {
     "data": {
      "text/html": [
       "<pre style=\"white-space:pre;overflow-x:auto;line-height:normal;font-family:Menlo,'DejaVu Sans Mono',consolas,'Courier New',monospace\"><span style=\"color: #7fbfbf; text-decoration-color: #7fbfbf\">           </span><span style=\"color: #000080; text-decoration-color: #000080\">INFO    </span> <span style=\"color: #808000; text-decoration-color: #808000\">error_code</span>=<span style=\"color: #800080; text-decoration-color: #800080; font-style: italic\">None</span> <span style=\"color: #808000; text-decoration-color: #808000\">error_message</span>=<span style=\"color: #008000; text-decoration-color: #008000\">'The server had an error while processing your </span>        <a href=\"file:///Users/stanb/.miniconda3/envs/aiknows/lib/python3.8/site-packages/openai/util.py\" target=\"_blank\"><span style=\"color: #7f7f7f; text-decoration-color: #7f7f7f\">util.py</span></a><span style=\"color: #7f7f7f; text-decoration-color: #7f7f7f\">:</span><a href=\"file:///Users/stanb/.miniconda3/envs/aiknows/lib/python3.8/site-packages/openai/util.py#67\" target=\"_blank\"><span style=\"color: #7f7f7f; text-decoration-color: #7f7f7f\">67</span></a>\n",
       "<span style=\"color: #7fbfbf; text-decoration-color: #7fbfbf\">           </span>         <span style=\"color: #008000; text-decoration-color: #008000\">request. Sorry about that!'</span> <span style=\"color: #808000; text-decoration-color: #808000\">error_param</span>=<span style=\"color: #800080; text-decoration-color: #800080; font-style: italic\">None</span> <span style=\"color: #808000; text-decoration-color: #808000\">error_type</span>=<span style=\"color: #800080; text-decoration-color: #800080\">server_error</span> <span style=\"color: #808000; text-decoration-color: #808000\">message</span>=<span style=\"color: #008000; text-decoration-color: #008000\">'OpenAI</span> <span style=\"color: #7f7f7f; text-decoration-color: #7f7f7f\">          </span>\n",
       "<span style=\"color: #7fbfbf; text-decoration-color: #7fbfbf\">           </span>         <span style=\"color: #008000; text-decoration-color: #008000\">API error received'</span> <span style=\"color: #808000; text-decoration-color: #808000\">stream_error</span>=<span style=\"color: #ff0000; text-decoration-color: #ff0000; font-style: italic\">False</span>                                               <span style=\"color: #7f7f7f; text-decoration-color: #7f7f7f\">          </span>\n",
       "</pre>\n"
      ],
      "text/plain": [
       "\u001b[2;36m          \u001b[0m\u001b[2;36m \u001b[0m\u001b[34mINFO    \u001b[0m \u001b[33merror_code\u001b[0m=\u001b[3;35mNone\u001b[0m \u001b[33merror_message\u001b[0m=\u001b[32m'The server had an error while processing your \u001b[0m        \u001b]8;id=254518;file:///Users/stanb/.miniconda3/envs/aiknows/lib/python3.8/site-packages/openai/util.py\u001b\\\u001b[2mutil.py\u001b[0m\u001b]8;;\u001b\\\u001b[2m:\u001b[0m\u001b]8;id=66661;file:///Users/stanb/.miniconda3/envs/aiknows/lib/python3.8/site-packages/openai/util.py#67\u001b\\\u001b[2m67\u001b[0m\u001b]8;;\u001b\\\n",
       "\u001b[2;36m           \u001b[0m         \u001b[32mrequest. Sorry about that!'\u001b[0m \u001b[33merror_param\u001b[0m=\u001b[3;35mNone\u001b[0m \u001b[33merror_type\u001b[0m=\u001b[35mserver_error\u001b[0m \u001b[33mmessage\u001b[0m=\u001b[32m'OpenAI\u001b[0m \u001b[2m          \u001b[0m\n",
       "\u001b[2;36m           \u001b[0m         \u001b[32mAPI error received'\u001b[0m \u001b[33mstream_error\u001b[0m=\u001b[3;91mFalse\u001b[0m                                               \u001b[2m          \u001b[0m\n"
      ]
     },
     "metadata": {},
     "output_type": "display_data"
    },
    {
     "data": {
      "text/html": [
       "<pre style=\"white-space:pre;overflow-x:auto;line-height:normal;font-family:Menlo,'DejaVu Sans Mono',consolas,'Courier New',monospace\"><span style=\"color: #7fbfbf; text-decoration-color: #7fbfbf\">[16:43:43] </span><span style=\"color: #000080; text-decoration-color: #000080\">INFO    </span> cache miss on codegen gpt                                                             <a href=\"file:///Users/stanb/src/aiknows/aiknows/llm.py\" target=\"_blank\"><span style=\"color: #7f7f7f; text-decoration-color: #7f7f7f\">llm.py</span></a><span style=\"color: #7f7f7f; text-decoration-color: #7f7f7f\">:</span><a href=\"file:///Users/stanb/src/aiknows/aiknows/llm.py#25\" target=\"_blank\"><span style=\"color: #7f7f7f; text-decoration-color: #7f7f7f\">25</span></a>\n",
       "</pre>\n"
      ],
      "text/plain": [
       "\u001b[2;36m[16:43:43]\u001b[0m\u001b[2;36m \u001b[0m\u001b[34mINFO    \u001b[0m cache miss on codegen gpt                                                             \u001b]8;id=663272;file:///Users/stanb/src/aiknows/aiknows/llm.py\u001b\\\u001b[2mllm.py\u001b[0m\u001b]8;;\u001b\\\u001b[2m:\u001b[0m\u001b]8;id=607022;file:///Users/stanb/src/aiknows/aiknows/llm.py#25\u001b\\\u001b[2m25\u001b[0m\u001b]8;;\u001b\\\n"
      ]
     },
     "metadata": {},
     "output_type": "display_data"
    },
    {
     "data": {
      "text/html": [
       "<pre style=\"white-space:pre;overflow-x:auto;line-height:normal;font-family:Menlo,'DejaVu Sans Mono',consolas,'Courier New',monospace\"><span style=\"color: #7fbfbf; text-decoration-color: #7fbfbf\">           </span><span style=\"color: #000080; text-decoration-color: #000080\">INFO    </span> len prompt messages: <span style=\"color: #008080; text-decoration-color: #008080; font-weight: bold\">40</span>                                                               <a href=\"file:///Users/stanb/src/aiknows/aiknows/llm.py\" target=\"_blank\"><span style=\"color: #7f7f7f; text-decoration-color: #7f7f7f\">llm.py</span></a><span style=\"color: #7f7f7f; text-decoration-color: #7f7f7f\">:</span><a href=\"file:///Users/stanb/src/aiknows/aiknows/llm.py#29\" target=\"_blank\"><span style=\"color: #7f7f7f; text-decoration-color: #7f7f7f\">29</span></a>\n",
       "</pre>\n"
      ],
      "text/plain": [
       "\u001b[2;36m          \u001b[0m\u001b[2;36m \u001b[0m\u001b[34mINFO    \u001b[0m len prompt messages: \u001b[1;36m40\u001b[0m                                                               \u001b]8;id=167776;file:///Users/stanb/src/aiknows/aiknows/llm.py\u001b\\\u001b[2mllm.py\u001b[0m\u001b]8;;\u001b\\\u001b[2m:\u001b[0m\u001b]8;id=678551;file:///Users/stanb/src/aiknows/aiknows/llm.py#29\u001b\\\u001b[2m29\u001b[0m\u001b]8;;\u001b\\\n"
      ]
     },
     "metadata": {},
     "output_type": "display_data"
    },
    {
     "data": {
      "text/html": [
       "<pre style=\"white-space:pre;overflow-x:auto;line-height:normal;font-family:Menlo,'DejaVu Sans Mono',consolas,'Courier New',monospace\"><span style=\"color: #7fbfbf; text-decoration-color: #7fbfbf\">[16:43:48] </span><span style=\"color: #000080; text-decoration-color: #000080\">INFO    </span> codegen token usage: <span style=\"color: #008080; text-decoration-color: #008080; font-weight: bold\">2094</span>                                                             <a href=\"file:///Users/stanb/src/aiknows/aiknows/llm.py\" target=\"_blank\"><span style=\"color: #7f7f7f; text-decoration-color: #7f7f7f\">llm.py</span></a><span style=\"color: #7f7f7f; text-decoration-color: #7f7f7f\">:</span><a href=\"file:///Users/stanb/src/aiknows/aiknows/llm.py#38\" target=\"_blank\"><span style=\"color: #7f7f7f; text-decoration-color: #7f7f7f\">38</span></a>\n",
       "</pre>\n"
      ],
      "text/plain": [
       "\u001b[2;36m[16:43:48]\u001b[0m\u001b[2;36m \u001b[0m\u001b[34mINFO    \u001b[0m codegen token usage: \u001b[1;36m2094\u001b[0m                                                             \u001b]8;id=40747;file:///Users/stanb/src/aiknows/aiknows/llm.py\u001b\\\u001b[2mllm.py\u001b[0m\u001b]8;;\u001b\\\u001b[2m:\u001b[0m\u001b]8;id=809952;file:///Users/stanb/src/aiknows/aiknows/llm.py#38\u001b\\\u001b[2m38\u001b[0m\u001b]8;;\u001b\\\n"
      ]
     },
     "metadata": {},
     "output_type": "display_data"
    },
    {
     "data": {
      "text/html": [
       "<pre style=\"white-space:pre;overflow-x:auto;line-height:normal;font-family:Menlo,'DejaVu Sans Mono',consolas,'Courier New',monospace\"><span style=\"color: #7fbfbf; text-decoration-color: #7fbfbf\">           </span><span style=\"color: #000080; text-decoration-color: #000080\">INFO    </span> ===<span style=\"color: #808000; text-decoration-color: #808000\">assistant</span>===                                                                   <a href=\"file:///Users/stanb/src/aiknows/aiknows/prompt/prompt.py\" target=\"_blank\"><span style=\"color: #7f7f7f; text-decoration-color: #7f7f7f\">prompt.py</span></a><span style=\"color: #7f7f7f; text-decoration-color: #7f7f7f\">:</span><a href=\"file:///Users/stanb/src/aiknows/aiknows/prompt/prompt.py#195\" target=\"_blank\"><span style=\"color: #7f7f7f; text-decoration-color: #7f7f7f\">195</span></a>\n",
       "<span style=\"color: #7fbfbf; text-decoration-color: #7fbfbf\">           </span>         ```python                                                                         <span style=\"color: #7f7f7f; text-decoration-color: #7f7f7f\">             </span>\n",
       "<span style=\"color: #7fbfbf; text-decoration-color: #7fbfbf\">           </span>         # assuming this is a joke or a test task                                          <span style=\"color: #7f7f7f; text-decoration-color: #7f7f7f\">             </span>\n",
       "<span style=\"color: #7fbfbf; text-decoration-color: #7fbfbf\">           </span>         <span style=\"color: #800080; text-decoration-color: #800080; font-weight: bold\">finish_task_ok</span><span style=\"font-weight: bold\">(</span><span style=\"color: #008000; text-decoration-color: #008000\">'lol'</span><span style=\"font-weight: bold\">)</span>;                                                            <span style=\"color: #7f7f7f; text-decoration-color: #7f7f7f\">             </span>\n",
       "<span style=\"color: #7fbfbf; text-decoration-color: #7fbfbf\">           </span>         ````                                                                              <span style=\"color: #7f7f7f; text-decoration-color: #7f7f7f\">             </span>\n",
       "</pre>\n"
      ],
      "text/plain": [
       "\u001b[2;36m          \u001b[0m\u001b[2;36m \u001b[0m\u001b[34mINFO    \u001b[0m ===\u001b[33massistant\u001b[0m===                                                                   \u001b]8;id=368741;file:///Users/stanb/src/aiknows/aiknows/prompt/prompt.py\u001b\\\u001b[2mprompt.py\u001b[0m\u001b]8;;\u001b\\\u001b[2m:\u001b[0m\u001b]8;id=682185;file:///Users/stanb/src/aiknows/aiknows/prompt/prompt.py#195\u001b\\\u001b[2m195\u001b[0m\u001b]8;;\u001b\\\n",
       "\u001b[2;36m           \u001b[0m         ```python                                                                         \u001b[2m             \u001b[0m\n",
       "\u001b[2;36m           \u001b[0m         # assuming this is a joke or a test task                                          \u001b[2m             \u001b[0m\n",
       "\u001b[2;36m           \u001b[0m         \u001b[1;35mfinish_task_ok\u001b[0m\u001b[1m(\u001b[0m\u001b[32m'lol'\u001b[0m\u001b[1m)\u001b[0m;                                                            \u001b[2m             \u001b[0m\n",
       "\u001b[2;36m           \u001b[0m         ````                                                                              \u001b[2m             \u001b[0m\n"
      ]
     },
     "metadata": {},
     "output_type": "display_data"
    },
    {
     "data": {
      "text/plain": [
       "'lol'"
      ]
     },
     "execution_count": 3,
     "metadata": {},
     "output_type": "execute_result"
    }
   ],
   "source": [
    "ai('kek')"
   ]
  },
  {
   "cell_type": "code",
   "execution_count": 3,
   "metadata": {},
   "outputs": [],
   "source": [
    "config.model = 'gpt-3.5-turbo-0301'"
   ]
  },
  {
   "cell_type": "code",
   "execution_count": 4,
   "metadata": {},
   "outputs": [
    {
     "data": {
      "text/html": [
       "<pre style=\"white-space:pre;overflow-x:auto;line-height:normal;font-family:Menlo,'DejaVu Sans Mono',consolas,'Courier New',monospace\"><span style=\"color: #7fbfbf; text-decoration-color: #7fbfbf\">[16:34:11] </span><span style=\"color: #000080; text-decoration-color: #000080\">INFO    </span> ===<span style=\"color: #808000; text-decoration-color: #808000\">user</span>===                                                                        <a href=\"file:///Users/stanb/src/aiknows/aiknows/prompt/prompt.py\" target=\"_blank\"><span style=\"color: #7f7f7f; text-decoration-color: #7f7f7f\">prompt.py</span></a><span style=\"color: #7f7f7f; text-decoration-color: #7f7f7f\">:</span><a href=\"file:///Users/stanb/src/aiknows/aiknows/prompt/prompt.py#195\" target=\"_blank\"><span style=\"color: #7f7f7f; text-decoration-color: #7f7f7f\">195</span></a>\n",
       "<span style=\"color: #7fbfbf; text-decoration-color: #7fbfbf\">           </span>         task description: <span style=\"color: #008000; text-decoration-color: #008000\">\"\"</span>\"                                                             <span style=\"color: #7f7f7f; text-decoration-color: #7f7f7f\">             </span>\n",
       "<span style=\"color: #7fbfbf; text-decoration-color: #7fbfbf\">           </span>         kek                                                                               <span style=\"color: #7f7f7f; text-decoration-color: #7f7f7f\">             </span>\n",
       "<span style=\"color: #7fbfbf; text-decoration-color: #7fbfbf\">           </span>         <span style=\"color: #008000; text-decoration-color: #008000\">\"\"</span>\"                                                                               <span style=\"color: #7f7f7f; text-decoration-color: #7f7f7f\">             </span>\n",
       "<span style=\"color: #7fbfbf; text-decoration-color: #7fbfbf\">           </span>         environment: new python interpreter                                               <span style=\"color: #7f7f7f; text-decoration-color: #7f7f7f\">             </span>\n",
       "<span style=\"color: #7fbfbf; text-decoration-color: #7fbfbf\">           </span>         global variables: <span style=\"font-weight: bold\">&lt;</span><span style=\"color: #ff00ff; text-decoration-color: #ff00ff; font-weight: bold\">empty</span><span style=\"font-weight: bold\">&gt;</span>                                                         <span style=\"color: #7f7f7f; text-decoration-color: #7f7f7f\">             </span>\n",
       "</pre>\n"
      ],
      "text/plain": [
       "\u001b[2;36m[16:34:11]\u001b[0m\u001b[2;36m \u001b[0m\u001b[34mINFO    \u001b[0m ===\u001b[33muser\u001b[0m===                                                                        \u001b]8;id=9267;file:///Users/stanb/src/aiknows/aiknows/prompt/prompt.py\u001b\\\u001b[2mprompt.py\u001b[0m\u001b]8;;\u001b\\\u001b[2m:\u001b[0m\u001b]8;id=460968;file:///Users/stanb/src/aiknows/aiknows/prompt/prompt.py#195\u001b\\\u001b[2m195\u001b[0m\u001b]8;;\u001b\\\n",
       "\u001b[2;36m           \u001b[0m         task description: \u001b[32m\"\"\u001b[0m\"                                                             \u001b[2m             \u001b[0m\n",
       "\u001b[2;36m           \u001b[0m         kek                                                                               \u001b[2m             \u001b[0m\n",
       "\u001b[2;36m           \u001b[0m         \u001b[32m\"\"\u001b[0m\"                                                                               \u001b[2m             \u001b[0m\n",
       "\u001b[2;36m           \u001b[0m         environment: new python interpreter                                               \u001b[2m             \u001b[0m\n",
       "\u001b[2;36m           \u001b[0m         global variables: \u001b[1m<\u001b[0m\u001b[1;95mempty\u001b[0m\u001b[1m>\u001b[0m                                                         \u001b[2m             \u001b[0m\n"
      ]
     },
     "metadata": {},
     "output_type": "display_data"
    },
    {
     "data": {
      "text/html": [
       "<pre style=\"white-space:pre;overflow-x:auto;line-height:normal;font-family:Menlo,'DejaVu Sans Mono',consolas,'Courier New',monospace\"><span style=\"color: #7fbfbf; text-decoration-color: #7fbfbf\">[16:34:12] </span><span style=\"color: #000080; text-decoration-color: #000080\">INFO    </span> cache miss on generating code                                                         <a href=\"file:///Users/stanb/src/aiknows/aiknows/llm.py\" target=\"_blank\"><span style=\"color: #7f7f7f; text-decoration-color: #7f7f7f\">llm.py</span></a><span style=\"color: #7f7f7f; text-decoration-color: #7f7f7f\">:</span><a href=\"file:///Users/stanb/src/aiknows/aiknows/llm.py#25\" target=\"_blank\"><span style=\"color: #7f7f7f; text-decoration-color: #7f7f7f\">25</span></a>\n",
       "</pre>\n"
      ],
      "text/plain": [
       "\u001b[2;36m[16:34:12]\u001b[0m\u001b[2;36m \u001b[0m\u001b[34mINFO    \u001b[0m cache miss on generating code                                                         \u001b]8;id=537442;file:///Users/stanb/src/aiknows/aiknows/llm.py\u001b\\\u001b[2mllm.py\u001b[0m\u001b]8;;\u001b\\\u001b[2m:\u001b[0m\u001b]8;id=179841;file:///Users/stanb/src/aiknows/aiknows/llm.py#25\u001b\\\u001b[2m25\u001b[0m\u001b]8;;\u001b\\\n"
      ]
     },
     "metadata": {},
     "output_type": "display_data"
    },
    {
     "data": {
      "text/html": [
       "<pre style=\"white-space:pre;overflow-x:auto;line-height:normal;font-family:Menlo,'DejaVu Sans Mono',consolas,'Courier New',monospace\"><span style=\"color: #7fbfbf; text-decoration-color: #7fbfbf\">           </span><span style=\"color: #000080; text-decoration-color: #000080\">INFO    </span> len prompt messages: <span style=\"color: #008080; text-decoration-color: #008080; font-weight: bold\">40</span>                                                               <a href=\"file:///Users/stanb/src/aiknows/aiknows/llm.py\" target=\"_blank\"><span style=\"color: #7f7f7f; text-decoration-color: #7f7f7f\">llm.py</span></a><span style=\"color: #7f7f7f; text-decoration-color: #7f7f7f\">:</span><a href=\"file:///Users/stanb/src/aiknows/aiknows/llm.py#29\" target=\"_blank\"><span style=\"color: #7f7f7f; text-decoration-color: #7f7f7f\">29</span></a>\n",
       "</pre>\n"
      ],
      "text/plain": [
       "\u001b[2;36m          \u001b[0m\u001b[2;36m \u001b[0m\u001b[34mINFO    \u001b[0m len prompt messages: \u001b[1;36m40\u001b[0m                                                               \u001b]8;id=954160;file:///Users/stanb/src/aiknows/aiknows/llm.py\u001b\\\u001b[2mllm.py\u001b[0m\u001b]8;;\u001b\\\u001b[2m:\u001b[0m\u001b]8;id=323574;file:///Users/stanb/src/aiknows/aiknows/llm.py#29\u001b\\\u001b[2m29\u001b[0m\u001b]8;;\u001b\\\n"
      ]
     },
     "metadata": {},
     "output_type": "display_data"
    },
    {
     "data": {
      "text/html": [
       "<pre style=\"white-space:pre;overflow-x:auto;line-height:normal;font-family:Menlo,'DejaVu Sans Mono',consolas,'Courier New',monospace\"><span style=\"color: #7fbfbf; text-decoration-color: #7fbfbf\">[16:34:15] </span><span style=\"color: #000080; text-decoration-color: #000080\">INFO    </span> real codegen token length: <span style=\"color: #008080; text-decoration-color: #008080; font-weight: bold\">2094</span>                                                       <a href=\"file:///Users/stanb/src/aiknows/aiknows/llm.py\" target=\"_blank\"><span style=\"color: #7f7f7f; text-decoration-color: #7f7f7f\">llm.py</span></a><span style=\"color: #7f7f7f; text-decoration-color: #7f7f7f\">:</span><a href=\"file:///Users/stanb/src/aiknows/aiknows/llm.py#38\" target=\"_blank\"><span style=\"color: #7f7f7f; text-decoration-color: #7f7f7f\">38</span></a>\n",
       "</pre>\n"
      ],
      "text/plain": [
       "\u001b[2;36m[16:34:15]\u001b[0m\u001b[2;36m \u001b[0m\u001b[34mINFO    \u001b[0m real codegen token length: \u001b[1;36m2094\u001b[0m                                                       \u001b]8;id=561345;file:///Users/stanb/src/aiknows/aiknows/llm.py\u001b\\\u001b[2mllm.py\u001b[0m\u001b]8;;\u001b\\\u001b[2m:\u001b[0m\u001b]8;id=497674;file:///Users/stanb/src/aiknows/aiknows/llm.py#38\u001b\\\u001b[2m38\u001b[0m\u001b]8;;\u001b\\\n"
      ]
     },
     "metadata": {},
     "output_type": "display_data"
    },
    {
     "data": {
      "text/html": [
       "<pre style=\"white-space:pre;overflow-x:auto;line-height:normal;font-family:Menlo,'DejaVu Sans Mono',consolas,'Courier New',monospace\"><span style=\"color: #7fbfbf; text-decoration-color: #7fbfbf\">           </span><span style=\"color: #000080; text-decoration-color: #000080\">INFO    </span> ===<span style=\"color: #808000; text-decoration-color: #808000\">assistant</span>===                                                                   <a href=\"file:///Users/stanb/src/aiknows/aiknows/prompt/prompt.py\" target=\"_blank\"><span style=\"color: #7f7f7f; text-decoration-color: #7f7f7f\">prompt.py</span></a><span style=\"color: #7f7f7f; text-decoration-color: #7f7f7f\">:</span><a href=\"file:///Users/stanb/src/aiknows/aiknows/prompt/prompt.py#195\" target=\"_blank\"><span style=\"color: #7f7f7f; text-decoration-color: #7f7f7f\">195</span></a>\n",
       "<span style=\"color: #7fbfbf; text-decoration-color: #7fbfbf\">           </span>         ```python                                                                         <span style=\"color: #7f7f7f; text-decoration-color: #7f7f7f\">             </span>\n",
       "<span style=\"color: #7fbfbf; text-decoration-color: #7fbfbf\">           </span>         # assuming this is a joke or a test task                                          <span style=\"color: #7f7f7f; text-decoration-color: #7f7f7f\">             </span>\n",
       "<span style=\"color: #7fbfbf; text-decoration-color: #7fbfbf\">           </span>         <span style=\"color: #800080; text-decoration-color: #800080; font-weight: bold\">finish_task_ok</span><span style=\"font-weight: bold\">(</span><span style=\"color: #008000; text-decoration-color: #008000\">'lol'</span><span style=\"font-weight: bold\">)</span>;                                                            <span style=\"color: #7f7f7f; text-decoration-color: #7f7f7f\">             </span>\n",
       "<span style=\"color: #7fbfbf; text-decoration-color: #7fbfbf\">           </span>         ````                                                                              <span style=\"color: #7f7f7f; text-decoration-color: #7f7f7f\">             </span>\n",
       "</pre>\n"
      ],
      "text/plain": [
       "\u001b[2;36m          \u001b[0m\u001b[2;36m \u001b[0m\u001b[34mINFO    \u001b[0m ===\u001b[33massistant\u001b[0m===                                                                   \u001b]8;id=690278;file:///Users/stanb/src/aiknows/aiknows/prompt/prompt.py\u001b\\\u001b[2mprompt.py\u001b[0m\u001b]8;;\u001b\\\u001b[2m:\u001b[0m\u001b]8;id=557638;file:///Users/stanb/src/aiknows/aiknows/prompt/prompt.py#195\u001b\\\u001b[2m195\u001b[0m\u001b]8;;\u001b\\\n",
       "\u001b[2;36m           \u001b[0m         ```python                                                                         \u001b[2m             \u001b[0m\n",
       "\u001b[2;36m           \u001b[0m         # assuming this is a joke or a test task                                          \u001b[2m             \u001b[0m\n",
       "\u001b[2;36m           \u001b[0m         \u001b[1;35mfinish_task_ok\u001b[0m\u001b[1m(\u001b[0m\u001b[32m'lol'\u001b[0m\u001b[1m)\u001b[0m;                                                            \u001b[2m             \u001b[0m\n",
       "\u001b[2;36m           \u001b[0m         ````                                                                              \u001b[2m             \u001b[0m\n"
      ]
     },
     "metadata": {},
     "output_type": "display_data"
    },
    {
     "data": {
      "text/plain": [
       "'lol'"
      ]
     },
     "execution_count": 4,
     "metadata": {},
     "output_type": "execute_result"
    }
   ],
   "source": [
    "ai('kek')"
   ]
  },
  {
   "cell_type": "code",
   "execution_count": null,
   "metadata": {},
   "outputs": [],
   "source": [
    "with config.open(config_retries=231):\n",
    "    pass"
   ]
  },
  {
   "cell_type": "code",
   "execution_count": 9,
   "metadata": {},
   "outputs": [
    {
     "data": {
      "text/html": [
       "<pre style=\"white-space:pre;overflow-x:auto;line-height:normal;font-family:Menlo,'DejaVu Sans Mono',consolas,'Courier New',monospace\"><span style=\"color: #7fbfbf; text-decoration-color: #7fbfbf\">[14:43:17] </span><span style=\"color: #000080; text-decoration-color: #000080\">INFO    </span> ===<span style=\"color: #808000; text-decoration-color: #808000\">user</span>===                                                                        <a href=\"file:///Users/stanb/src/aiknows/aiknows/prompt/prompt.py\" target=\"_blank\"><span style=\"color: #7f7f7f; text-decoration-color: #7f7f7f\">prompt.py</span></a><span style=\"color: #7f7f7f; text-decoration-color: #7f7f7f\">:</span><a href=\"file:///Users/stanb/src/aiknows/aiknows/prompt/prompt.py#195\" target=\"_blank\"><span style=\"color: #7f7f7f; text-decoration-color: #7f7f7f\">195</span></a>\n",
       "<span style=\"color: #7fbfbf; text-decoration-color: #7fbfbf\">           </span>         task description: <span style=\"color: #008000; text-decoration-color: #008000\">\"\"</span>\"                                                             <span style=\"color: #7f7f7f; text-decoration-color: #7f7f7f\">             </span>\n",
       "<span style=\"color: #7fbfbf; text-decoration-color: #7fbfbf\">           </span>         L2 cache latency according to jeff dean table in ns                               <span style=\"color: #7f7f7f; text-decoration-color: #7f7f7f\">             </span>\n",
       "<span style=\"color: #7fbfbf; text-decoration-color: #7fbfbf\">           </span>         think step by step and explain decision in comments                               <span style=\"color: #7f7f7f; text-decoration-color: #7f7f7f\">             </span>\n",
       "<span style=\"color: #7fbfbf; text-decoration-color: #7fbfbf\">           </span>         <span style=\"color: #008000; text-decoration-color: #008000\">\"\"</span>\"                                                                               <span style=\"color: #7f7f7f; text-decoration-color: #7f7f7f\">             </span>\n",
       "<span style=\"color: #7fbfbf; text-decoration-color: #7fbfbf\">           </span>         environment: new python interpreter                                               <span style=\"color: #7f7f7f; text-decoration-color: #7f7f7f\">             </span>\n",
       "<span style=\"color: #7fbfbf; text-decoration-color: #7fbfbf\">           </span>         global variables: <span style=\"font-weight: bold\">&lt;</span><span style=\"color: #ff00ff; text-decoration-color: #ff00ff; font-weight: bold\">empty</span><span style=\"font-weight: bold\">&gt;</span>                                                         <span style=\"color: #7f7f7f; text-decoration-color: #7f7f7f\">             </span>\n",
       "</pre>\n"
      ],
      "text/plain": [
       "\u001b[2;36m[14:43:17]\u001b[0m\u001b[2;36m \u001b[0m\u001b[34mINFO    \u001b[0m ===\u001b[33muser\u001b[0m===                                                                        \u001b]8;id=179997;file:///Users/stanb/src/aiknows/aiknows/prompt/prompt.py\u001b\\\u001b[2mprompt.py\u001b[0m\u001b]8;;\u001b\\\u001b[2m:\u001b[0m\u001b]8;id=889239;file:///Users/stanb/src/aiknows/aiknows/prompt/prompt.py#195\u001b\\\u001b[2m195\u001b[0m\u001b]8;;\u001b\\\n",
       "\u001b[2;36m           \u001b[0m         task description: \u001b[32m\"\"\u001b[0m\"                                                             \u001b[2m             \u001b[0m\n",
       "\u001b[2;36m           \u001b[0m         L2 cache latency according to jeff dean table in ns                               \u001b[2m             \u001b[0m\n",
       "\u001b[2;36m           \u001b[0m         think step by step and explain decision in comments                               \u001b[2m             \u001b[0m\n",
       "\u001b[2;36m           \u001b[0m         \u001b[32m\"\"\u001b[0m\"                                                                               \u001b[2m             \u001b[0m\n",
       "\u001b[2;36m           \u001b[0m         environment: new python interpreter                                               \u001b[2m             \u001b[0m\n",
       "\u001b[2;36m           \u001b[0m         global variables: \u001b[1m<\u001b[0m\u001b[1;95mempty\u001b[0m\u001b[1m>\u001b[0m                                                         \u001b[2m             \u001b[0m\n"
      ]
     },
     "metadata": {},
     "output_type": "display_data"
    },
    {
     "data": {
      "text/html": [
       "<pre style=\"white-space:pre;overflow-x:auto;line-height:normal;font-family:Menlo,'DejaVu Sans Mono',consolas,'Courier New',monospace\"><span style=\"color: #7fbfbf; text-decoration-color: #7fbfbf\">           </span><span style=\"color: #000080; text-decoration-color: #000080\">INFO    </span> cache miss on emb                                                                     <a href=\"file:///Users/stanb/src/aiknows/aiknows/llm.py\" target=\"_blank\"><span style=\"color: #7f7f7f; text-decoration-color: #7f7f7f\">llm.py</span></a><span style=\"color: #7f7f7f; text-decoration-color: #7f7f7f\">:</span><a href=\"file:///Users/stanb/src/aiknows/aiknows/llm.py#96\" target=\"_blank\"><span style=\"color: #7f7f7f; text-decoration-color: #7f7f7f\">96</span></a>\n",
       "</pre>\n"
      ],
      "text/plain": [
       "\u001b[2;36m          \u001b[0m\u001b[2;36m \u001b[0m\u001b[34mINFO    \u001b[0m cache miss on emb                                                                     \u001b]8;id=417980;file:///Users/stanb/src/aiknows/aiknows/llm.py\u001b\\\u001b[2mllm.py\u001b[0m\u001b]8;;\u001b\\\u001b[2m:\u001b[0m\u001b]8;id=530934;file:///Users/stanb/src/aiknows/aiknows/llm.py#96\u001b\\\u001b[2m96\u001b[0m\u001b]8;;\u001b\\\n"
      ]
     },
     "metadata": {},
     "output_type": "display_data"
    },
    {
     "data": {
      "text/html": [
       "<pre style=\"white-space:pre;overflow-x:auto;line-height:normal;font-family:Menlo,'DejaVu Sans Mono',consolas,'Courier New',monospace\"><span style=\"color: #7fbfbf; text-decoration-color: #7fbfbf\">           </span><span style=\"color: #000080; text-decoration-color: #000080\">INFO    </span> cache miss on generating code                                                         <a href=\"file:///Users/stanb/src/aiknows/aiknows/llm.py\" target=\"_blank\"><span style=\"color: #7f7f7f; text-decoration-color: #7f7f7f\">llm.py</span></a><span style=\"color: #7f7f7f; text-decoration-color: #7f7f7f\">:</span><a href=\"file:///Users/stanb/src/aiknows/aiknows/llm.py#24\" target=\"_blank\"><span style=\"color: #7f7f7f; text-decoration-color: #7f7f7f\">24</span></a>\n",
       "</pre>\n"
      ],
      "text/plain": [
       "\u001b[2;36m          \u001b[0m\u001b[2;36m \u001b[0m\u001b[34mINFO    \u001b[0m cache miss on generating code                                                         \u001b]8;id=372058;file:///Users/stanb/src/aiknows/aiknows/llm.py\u001b\\\u001b[2mllm.py\u001b[0m\u001b]8;;\u001b\\\u001b[2m:\u001b[0m\u001b]8;id=992544;file:///Users/stanb/src/aiknows/aiknows/llm.py#24\u001b\\\u001b[2m24\u001b[0m\u001b]8;;\u001b\\\n"
      ]
     },
     "metadata": {},
     "output_type": "display_data"
    },
    {
     "data": {
      "text/html": [
       "<pre style=\"white-space:pre;overflow-x:auto;line-height:normal;font-family:Menlo,'DejaVu Sans Mono',consolas,'Courier New',monospace\"><span style=\"color: #7fbfbf; text-decoration-color: #7fbfbf\">           </span><span style=\"color: #000080; text-decoration-color: #000080\">INFO    </span> len prompt messages: <span style=\"color: #008080; text-decoration-color: #008080; font-weight: bold\">40</span>                                                               <a href=\"file:///Users/stanb/src/aiknows/aiknows/llm.py\" target=\"_blank\"><span style=\"color: #7f7f7f; text-decoration-color: #7f7f7f\">llm.py</span></a><span style=\"color: #7f7f7f; text-decoration-color: #7f7f7f\">:</span><a href=\"file:///Users/stanb/src/aiknows/aiknows/llm.py#28\" target=\"_blank\"><span style=\"color: #7f7f7f; text-decoration-color: #7f7f7f\">28</span></a>\n",
       "</pre>\n"
      ],
      "text/plain": [
       "\u001b[2;36m          \u001b[0m\u001b[2;36m \u001b[0m\u001b[34mINFO    \u001b[0m len prompt messages: \u001b[1;36m40\u001b[0m                                                               \u001b]8;id=263971;file:///Users/stanb/src/aiknows/aiknows/llm.py\u001b\\\u001b[2mllm.py\u001b[0m\u001b]8;;\u001b\\\u001b[2m:\u001b[0m\u001b]8;id=507846;file:///Users/stanb/src/aiknows/aiknows/llm.py#28\u001b\\\u001b[2m28\u001b[0m\u001b]8;;\u001b\\\n"
      ]
     },
     "metadata": {},
     "output_type": "display_data"
    },
    {
     "data": {
      "text/html": [
       "<pre style=\"white-space:pre;overflow-x:auto;line-height:normal;font-family:Menlo,'DejaVu Sans Mono',consolas,'Courier New',monospace\"><span style=\"color: #7fbfbf; text-decoration-color: #7fbfbf\">[14:43:33] </span><span style=\"color: #000080; text-decoration-color: #000080\">INFO    </span> real prompt token length: <span style=\"color: #008080; text-decoration-color: #008080; font-weight: bold\">2169</span>                                                        <a href=\"file:///Users/stanb/src/aiknows/aiknows/llm.py\" target=\"_blank\"><span style=\"color: #7f7f7f; text-decoration-color: #7f7f7f\">llm.py</span></a><span style=\"color: #7f7f7f; text-decoration-color: #7f7f7f\">:</span><a href=\"file:///Users/stanb/src/aiknows/aiknows/llm.py#36\" target=\"_blank\"><span style=\"color: #7f7f7f; text-decoration-color: #7f7f7f\">36</span></a>\n",
       "</pre>\n"
      ],
      "text/plain": [
       "\u001b[2;36m[14:43:33]\u001b[0m\u001b[2;36m \u001b[0m\u001b[34mINFO    \u001b[0m real prompt token length: \u001b[1;36m2169\u001b[0m                                                        \u001b]8;id=613641;file:///Users/stanb/src/aiknows/aiknows/llm.py\u001b\\\u001b[2mllm.py\u001b[0m\u001b]8;;\u001b\\\u001b[2m:\u001b[0m\u001b]8;id=329060;file:///Users/stanb/src/aiknows/aiknows/llm.py#36\u001b\\\u001b[2m36\u001b[0m\u001b]8;;\u001b\\\n"
      ]
     },
     "metadata": {},
     "output_type": "display_data"
    },
    {
     "data": {
      "text/html": [
       "<pre style=\"white-space:pre;overflow-x:auto;line-height:normal;font-family:Menlo,'DejaVu Sans Mono',consolas,'Courier New',monospace\"><span style=\"color: #7fbfbf; text-decoration-color: #7fbfbf\">           </span><span style=\"color: #000080; text-decoration-color: #000080\">INFO    </span> ===<span style=\"color: #808000; text-decoration-color: #808000\">assistant</span>===                                                                   <a href=\"file:///Users/stanb/src/aiknows/aiknows/prompt/prompt.py\" target=\"_blank\"><span style=\"color: #7f7f7f; text-decoration-color: #7f7f7f\">prompt.py</span></a><span style=\"color: #7f7f7f; text-decoration-color: #7f7f7f\">:</span><a href=\"file:///Users/stanb/src/aiknows/aiknows/prompt/prompt.py#195\" target=\"_blank\"><span style=\"color: #7f7f7f; text-decoration-color: #7f7f7f\">195</span></a>\n",
       "<span style=\"color: #7fbfbf; text-decoration-color: #7fbfbf\">           </span>         ```python                                                                         <span style=\"color: #7f7f7f; text-decoration-color: #7f7f7f\">             </span>\n",
       "<span style=\"color: #7fbfbf; text-decoration-color: #7fbfbf\">           </span>         # Jeff Dean's table is a well-known reference for computer systems performance    <span style=\"color: #7f7f7f; text-decoration-color: #7f7f7f\">             </span>\n",
       "<span style=\"color: #7fbfbf; text-decoration-color: #7fbfbf\">           </span>         # L2 cache latency is one of the metrics in the table                             <span style=\"color: #7f7f7f; text-decoration-color: #7f7f7f\">             </span>\n",
       "<span style=\"color: #7fbfbf; text-decoration-color: #7fbfbf\">           </span>         # we can just reference the value from the table                                  <span style=\"color: #7f7f7f; text-decoration-color: #7f7f7f\">             </span>\n",
       "<span style=\"color: #7fbfbf; text-decoration-color: #7fbfbf\">           </span>         # the value is in ns, so no conversion is needed                                  <span style=\"color: #7f7f7f; text-decoration-color: #7f7f7f\">             </span>\n",
       "<span style=\"color: #7fbfbf; text-decoration-color: #7fbfbf\">           </span>         L2_cache_latency_ns = <span style=\"color: #008080; text-decoration-color: #008080; font-weight: bold\">7</span>                                                           <span style=\"color: #7f7f7f; text-decoration-color: #7f7f7f\">             </span>\n",
       "<span style=\"color: #7fbfbf; text-decoration-color: #7fbfbf\">           </span>                                                                                           <span style=\"color: #7f7f7f; text-decoration-color: #7f7f7f\">             </span>\n",
       "<span style=\"color: #7fbfbf; text-decoration-color: #7fbfbf\">           </span>         <span style=\"color: #800080; text-decoration-color: #800080; font-weight: bold\">finish_task_ok</span><span style=\"font-weight: bold\">(</span>L2_cache_latency_ns<span style=\"font-weight: bold\">)</span>;                                              <span style=\"color: #7f7f7f; text-decoration-color: #7f7f7f\">             </span>\n",
       "<span style=\"color: #7fbfbf; text-decoration-color: #7fbfbf\">           </span>         ````                                                                              <span style=\"color: #7f7f7f; text-decoration-color: #7f7f7f\">             </span>\n",
       "</pre>\n"
      ],
      "text/plain": [
       "\u001b[2;36m          \u001b[0m\u001b[2;36m \u001b[0m\u001b[34mINFO    \u001b[0m ===\u001b[33massistant\u001b[0m===                                                                   \u001b]8;id=335902;file:///Users/stanb/src/aiknows/aiknows/prompt/prompt.py\u001b\\\u001b[2mprompt.py\u001b[0m\u001b]8;;\u001b\\\u001b[2m:\u001b[0m\u001b]8;id=716510;file:///Users/stanb/src/aiknows/aiknows/prompt/prompt.py#195\u001b\\\u001b[2m195\u001b[0m\u001b]8;;\u001b\\\n",
       "\u001b[2;36m           \u001b[0m         ```python                                                                         \u001b[2m             \u001b[0m\n",
       "\u001b[2;36m           \u001b[0m         # Jeff Dean's table is a well-known reference for computer systems performance    \u001b[2m             \u001b[0m\n",
       "\u001b[2;36m           \u001b[0m         # L2 cache latency is one of the metrics in the table                             \u001b[2m             \u001b[0m\n",
       "\u001b[2;36m           \u001b[0m         # we can just reference the value from the table                                  \u001b[2m             \u001b[0m\n",
       "\u001b[2;36m           \u001b[0m         # the value is in ns, so no conversion is needed                                  \u001b[2m             \u001b[0m\n",
       "\u001b[2;36m           \u001b[0m         L2_cache_latency_ns = \u001b[1;36m7\u001b[0m                                                           \u001b[2m             \u001b[0m\n",
       "\u001b[2;36m           \u001b[0m                                                                                           \u001b[2m             \u001b[0m\n",
       "\u001b[2;36m           \u001b[0m         \u001b[1;35mfinish_task_ok\u001b[0m\u001b[1m(\u001b[0mL2_cache_latency_ns\u001b[1m)\u001b[0m;                                              \u001b[2m             \u001b[0m\n",
       "\u001b[2;36m           \u001b[0m         ````                                                                              \u001b[2m             \u001b[0m\n"
      ]
     },
     "metadata": {},
     "output_type": "display_data"
    },
    {
     "data": {
      "text/plain": [
       "7"
      ]
     },
     "execution_count": 9,
     "metadata": {},
     "output_type": "execute_result"
    }
   ],
   "source": [
    "ai('L2 cache latency according to jeff dean table in ns\\nthink step by step and explain decision in comments')"
   ]
  },
  {
   "cell_type": "code",
   "execution_count": 5,
   "metadata": {},
   "outputs": [
    {
     "data": {
      "text/html": [
       "<pre style=\"white-space:pre;overflow-x:auto;line-height:normal;font-family:Menlo,'DejaVu Sans Mono',consolas,'Courier New',monospace\"><span style=\"color: #000080; text-decoration-color: #000080\">╭─────────────────── </span><span style=\"color: #000080; text-decoration-color: #000080; font-weight: bold\">&lt;</span><span style=\"color: #ff00ff; text-decoration-color: #ff00ff; font-weight: bold\">function</span><span style=\"color: #000000; text-decoration-color: #000000\"> ai at </span><span style=\"color: #008080; text-decoration-color: #008080; font-weight: bold\">0x7f9b30878820</span><span style=\"color: #000080; text-decoration-color: #000080; font-weight: bold\">&gt;</span><span style=\"color: #000080; text-decoration-color: #000080\"> ────────────────────╮</span>\n",
       "<span style=\"color: #000080; text-decoration-color: #000080\">│</span> <span style=\"color: #00ffff; text-decoration-color: #00ffff; font-style: italic\">def </span><span style=\"color: #800000; text-decoration-color: #800000; font-weight: bold\">ai</span><span style=\"font-weight: bold\">(</span>task: str, *, save_session: bool = <span style=\"color: #ff0000; text-decoration-color: #ff0000; font-style: italic\">False</span>, **kwargs<span style=\"font-weight: bold\">)</span> -&gt; Any:     <span style=\"color: #000080; text-decoration-color: #000080\">│</span>\n",
       "<span style=\"color: #000080; text-decoration-color: #000080\">│</span>                                                                        <span style=\"color: #000080; text-decoration-color: #000080\">│</span>\n",
       "<span style=\"color: #000080; text-decoration-color: #000080\">│</span> <span style=\"color: #008080; text-decoration-color: #008080\">Generates a python object from a task description and given arguments.</span> <span style=\"color: #000080; text-decoration-color: #000080\">│</span>\n",
       "<span style=\"color: #000080; text-decoration-color: #000080\">│</span>                                                                        <span style=\"color: #000080; text-decoration-color: #000080\">│</span>\n",
       "<span style=\"color: #000080; text-decoration-color: #000080\">│</span> <span style=\"color: #008080; text-decoration-color: #008080; font-weight: bold\">35</span><span style=\"font-style: italic\"> attribute(s) not shown.</span> Run <span style=\"color: #800080; text-decoration-color: #800080; font-weight: bold\">inspect</span><span style=\"font-weight: bold\">(</span>inspect<span style=\"font-weight: bold\">)</span> for options.           <span style=\"color: #000080; text-decoration-color: #000080\">│</span>\n",
       "<span style=\"color: #000080; text-decoration-color: #000080\">╰────────────────────────────────────────────────────────────────────────╯</span>\n",
       "</pre>\n"
      ],
      "text/plain": [
       "\u001b[34m╭─\u001b[0m\u001b[34m──────────────────\u001b[0m\u001b[34m \u001b[0m\u001b[1;34m<\u001b[0m\u001b[1;95mfunction\u001b[0m\u001b[39m ai at \u001b[0m\u001b[1;36m0x7f9b30878820\u001b[0m\u001b[1;34m>\u001b[0m\u001b[34m \u001b[0m\u001b[34m───────────────────\u001b[0m\u001b[34m─╮\u001b[0m\n",
       "\u001b[34m│\u001b[0m \u001b[3;96mdef \u001b[0m\u001b[1;31mai\u001b[0m\u001b[1m(\u001b[0mtask: str, *, save_session: bool = \u001b[3;91mFalse\u001b[0m, **kwargs\u001b[1m)\u001b[0m -> Any:     \u001b[34m│\u001b[0m\n",
       "\u001b[34m│\u001b[0m                                                                        \u001b[34m│\u001b[0m\n",
       "\u001b[34m│\u001b[0m \u001b[36mGenerates a python object from a task description and given arguments.\u001b[0m \u001b[34m│\u001b[0m\n",
       "\u001b[34m│\u001b[0m                                                                        \u001b[34m│\u001b[0m\n",
       "\u001b[34m│\u001b[0m \u001b[1;36m35\u001b[0m\u001b[3m attribute(s) not shown.\u001b[0m Run \u001b[1;35minspect\u001b[0m\u001b[1m(\u001b[0minspect\u001b[1m)\u001b[0m for options.           \u001b[34m│\u001b[0m\n",
       "\u001b[34m╰────────────────────────────────────────────────────────────────────────╯\u001b[0m\n"
      ]
     },
     "metadata": {},
     "output_type": "display_data"
    }
   ],
   "source": [
    "from rich import inspect\n",
    "inspect(ai)"
   ]
  },
  {
   "cell_type": "code",
   "execution_count": 11,
   "metadata": {},
   "outputs": [
    {
     "data": {
      "text/html": [
       "<div>\n",
       "<style scoped>\n",
       "    .dataframe tbody tr th:only-of-type {\n",
       "        vertical-align: middle;\n",
       "    }\n",
       "\n",
       "    .dataframe tbody tr th {\n",
       "        vertical-align: top;\n",
       "    }\n",
       "\n",
       "    .dataframe thead th {\n",
       "        text-align: right;\n",
       "    }\n",
       "</style>\n",
       "<table border=\"1\" class=\"dataframe\">\n",
       "  <thead>\n",
       "    <tr style=\"text-align: right;\">\n",
       "      <th></th>\n",
       "      <th>LatD</th>\n",
       "      <th>LatM</th>\n",
       "      <th>LatS</th>\n",
       "      <th>NS</th>\n",
       "      <th>LonD</th>\n",
       "      <th>LonM</th>\n",
       "      <th>LonS</th>\n",
       "      <th>EW</th>\n",
       "      <th>City</th>\n",
       "      <th>State</th>\n",
       "    </tr>\n",
       "  </thead>\n",
       "  <tbody>\n",
       "    <tr>\n",
       "      <th>0</th>\n",
       "      <td>41</td>\n",
       "      <td>5</td>\n",
       "      <td>59</td>\n",
       "      <td>W</td>\n",
       "      <td>80</td>\n",
       "      <td>39</td>\n",
       "      <td>0</td>\n",
       "      <td>W</td>\n",
       "      <td>Youngstown</td>\n",
       "      <td>OH</td>\n",
       "    </tr>\n",
       "    <tr>\n",
       "      <th>1</th>\n",
       "      <td>42</td>\n",
       "      <td>52</td>\n",
       "      <td>48</td>\n",
       "      <td>W</td>\n",
       "      <td>97</td>\n",
       "      <td>23</td>\n",
       "      <td>23</td>\n",
       "      <td>W</td>\n",
       "      <td>Yankton</td>\n",
       "      <td>SD</td>\n",
       "    </tr>\n",
       "    <tr>\n",
       "      <th>2</th>\n",
       "      <td>46</td>\n",
       "      <td>35</td>\n",
       "      <td>59</td>\n",
       "      <td>W</td>\n",
       "      <td>120</td>\n",
       "      <td>30</td>\n",
       "      <td>36</td>\n",
       "      <td>W</td>\n",
       "      <td>Yakima</td>\n",
       "      <td>WA</td>\n",
       "    </tr>\n",
       "    <tr>\n",
       "      <th>3</th>\n",
       "      <td>42</td>\n",
       "      <td>16</td>\n",
       "      <td>12</td>\n",
       "      <td>W</td>\n",
       "      <td>71</td>\n",
       "      <td>48</td>\n",
       "      <td>0</td>\n",
       "      <td>W</td>\n",
       "      <td>Worcester</td>\n",
       "      <td>MA</td>\n",
       "    </tr>\n",
       "    <tr>\n",
       "      <th>4</th>\n",
       "      <td>43</td>\n",
       "      <td>37</td>\n",
       "      <td>48</td>\n",
       "      <td>W</td>\n",
       "      <td>89</td>\n",
       "      <td>46</td>\n",
       "      <td>11</td>\n",
       "      <td>W</td>\n",
       "      <td>Wisconsin Dells</td>\n",
       "      <td>WI</td>\n",
       "    </tr>\n",
       "    <tr>\n",
       "      <th>...</th>\n",
       "      <td>...</td>\n",
       "      <td>...</td>\n",
       "      <td>...</td>\n",
       "      <td>...</td>\n",
       "      <td>...</td>\n",
       "      <td>...</td>\n",
       "      <td>...</td>\n",
       "      <td>...</td>\n",
       "      <td>...</td>\n",
       "      <td>...</td>\n",
       "    </tr>\n",
       "    <tr>\n",
       "      <th>123</th>\n",
       "      <td>39</td>\n",
       "      <td>31</td>\n",
       "      <td>12</td>\n",
       "      <td>W</td>\n",
       "      <td>119</td>\n",
       "      <td>48</td>\n",
       "      <td>35</td>\n",
       "      <td>W</td>\n",
       "      <td>Reno</td>\n",
       "      <td>NV</td>\n",
       "    </tr>\n",
       "    <tr>\n",
       "      <th>124</th>\n",
       "      <td>50</td>\n",
       "      <td>25</td>\n",
       "      <td>11</td>\n",
       "      <td>W</td>\n",
       "      <td>104</td>\n",
       "      <td>39</td>\n",
       "      <td>0</td>\n",
       "      <td>W</td>\n",
       "      <td>Regina</td>\n",
       "      <td>SA</td>\n",
       "    </tr>\n",
       "    <tr>\n",
       "      <th>125</th>\n",
       "      <td>40</td>\n",
       "      <td>10</td>\n",
       "      <td>48</td>\n",
       "      <td>W</td>\n",
       "      <td>122</td>\n",
       "      <td>14</td>\n",
       "      <td>23</td>\n",
       "      <td>W</td>\n",
       "      <td>Red Bluff</td>\n",
       "      <td>CA</td>\n",
       "    </tr>\n",
       "    <tr>\n",
       "      <th>126</th>\n",
       "      <td>40</td>\n",
       "      <td>19</td>\n",
       "      <td>48</td>\n",
       "      <td>W</td>\n",
       "      <td>75</td>\n",
       "      <td>55</td>\n",
       "      <td>48</td>\n",
       "      <td>W</td>\n",
       "      <td>Reading</td>\n",
       "      <td>PA</td>\n",
       "    </tr>\n",
       "    <tr>\n",
       "      <th>127</th>\n",
       "      <td>41</td>\n",
       "      <td>9</td>\n",
       "      <td>35</td>\n",
       "      <td>W</td>\n",
       "      <td>81</td>\n",
       "      <td>14</td>\n",
       "      <td>23</td>\n",
       "      <td>W</td>\n",
       "      <td>Ravenna</td>\n",
       "      <td>OH</td>\n",
       "    </tr>\n",
       "  </tbody>\n",
       "</table>\n",
       "<p>128 rows × 10 columns</p>\n",
       "</div>"
      ],
      "text/plain": [
       "     LatD  LatM  LatS NS  LonD  LonM  LonS EW             City State\n",
       "0      41     5    59  W    80    39     0  W       Youngstown    OH\n",
       "1      42    52    48  W    97    23    23  W          Yankton    SD\n",
       "2      46    35    59  W   120    30    36  W           Yakima    WA\n",
       "3      42    16    12  W    71    48     0  W        Worcester    MA\n",
       "4      43    37    48  W    89    46    11  W  Wisconsin Dells    WI\n",
       "..    ...   ...   ... ..   ...   ...   ... ..              ...   ...\n",
       "123    39    31    12  W   119    48    35  W             Reno    NV\n",
       "124    50    25    11  W   104    39     0  W           Regina    SA\n",
       "125    40    10    48  W   122    14    23  W        Red Bluff    CA\n",
       "126    40    19    48  W    75    55    48  W          Reading    PA\n",
       "127    41     9    35  W    81    14    23  W          Ravenna    OH\n",
       "\n",
       "[128 rows x 10 columns]"
      ]
     },
     "execution_count": 11,
     "metadata": {},
     "output_type": "execute_result"
    }
   ],
   "source": [
    "import pandas as pd\n",
    "df = pd.read_csv('tests/data/cities.csv')\n",
    "df"
   ]
  },
  {
   "cell_type": "code",
   "execution_count": 2,
   "metadata": {},
   "outputs": [
    {
     "name": "stderr",
     "output_type": "stream",
     "text": [
      "===user===\n",
      "\n",
      "task description: \"\"\"\n",
      "multiply 123123 and 21939\n",
      "\"\"\"\n",
      "environment: new python interpreter\n",
      "global variables: <empty>\n",
      "\n",
      "===assistant===\n",
      "\n",
      "```python\n",
      "# task is very specific and doesn't require a function\n",
      "finish_task_ok(123123 * 21939);\n",
      "````\n",
      "\n"
     ]
    },
    {
     "data": {
      "text/plain": [
       "2701195497"
      ]
     },
     "execution_count": 2,
     "metadata": {},
     "output_type": "execute_result"
    }
   ],
   "source": [
    "ai('multiply 123123 and 21939')"
   ]
  },
  {
   "cell_type": "code",
   "execution_count": 12,
   "metadata": {},
   "outputs": [
    {
     "data": {
      "text/html": [
       "<pre style=\"white-space:pre;overflow-x:auto;line-height:normal;font-family:Menlo,'DejaVu Sans Mono',consolas,'Courier New',monospace\"><span style=\"color: #7fbfbf; text-decoration-color: #7fbfbf\">[14:44:56] </span><span style=\"color: #000080; text-decoration-color: #000080\">INFO    </span> ===<span style=\"color: #808000; text-decoration-color: #808000\">user</span>===                                                                        <a href=\"file:///Users/stanb/src/aiknows/aiknows/prompt/prompt.py\" target=\"_blank\"><span style=\"color: #7f7f7f; text-decoration-color: #7f7f7f\">prompt.py</span></a><span style=\"color: #7f7f7f; text-decoration-color: #7f7f7f\">:</span><a href=\"file:///Users/stanb/src/aiknows/aiknows/prompt/prompt.py#195\" target=\"_blank\"><span style=\"color: #7f7f7f; text-decoration-color: #7f7f7f\">195</span></a>\n",
       "<span style=\"color: #7fbfbf; text-decoration-color: #7fbfbf\">           </span>         task description: <span style=\"color: #008000; text-decoration-color: #008000\">\"\"</span>\"                                                             <span style=\"color: #7f7f7f; text-decoration-color: #7f7f7f\">             </span>\n",
       "<span style=\"color: #7fbfbf; text-decoration-color: #7fbfbf\">           </span>         return the two most distant cities names in df                                    <span style=\"color: #7f7f7f; text-decoration-color: #7f7f7f\">             </span>\n",
       "<span style=\"color: #7fbfbf; text-decoration-color: #7fbfbf\">           </span>         don't use geopy                                                                   <span style=\"color: #7f7f7f; text-decoration-color: #7f7f7f\">             </span>\n",
       "<span style=\"color: #7fbfbf; text-decoration-color: #7fbfbf\">           </span>         think step by step and explain decision in comments                               <span style=\"color: #7f7f7f; text-decoration-color: #7f7f7f\">             </span>\n",
       "<span style=\"color: #7fbfbf; text-decoration-color: #7fbfbf\">           </span>         <span style=\"color: #008000; text-decoration-color: #008000\">\"\"</span>\"                                                                               <span style=\"color: #7f7f7f; text-decoration-color: #7f7f7f\">             </span>\n",
       "<span style=\"color: #7fbfbf; text-decoration-color: #7fbfbf\">           </span>         environment: new python interpreter                                               <span style=\"color: #7f7f7f; text-decoration-color: #7f7f7f\">             </span>\n",
       "<span style=\"color: #7fbfbf; text-decoration-color: #7fbfbf\">           </span>         global variables:                                                                 <span style=\"color: #7f7f7f; text-decoration-color: #7f7f7f\">             </span>\n",
       "<span style=\"color: #7fbfbf; text-decoration-color: #7fbfbf\">           </span>         - df                                                                              <span style=\"color: #7f7f7f; text-decoration-color: #7f7f7f\">             </span>\n",
       "<span style=\"color: #7fbfbf; text-decoration-color: #7fbfbf\">           </span>             - type: pandas.core.frame.DataFrame                                           <span style=\"color: #7f7f7f; text-decoration-color: #7f7f7f\">             </span>\n",
       "<span style=\"color: #7fbfbf; text-decoration-color: #7fbfbf\">           </span>             - shape: <span style=\"font-weight: bold\">(</span><span style=\"color: #008080; text-decoration-color: #008080; font-weight: bold\">128</span>, <span style=\"color: #008080; text-decoration-color: #008080; font-weight: bold\">10</span><span style=\"font-weight: bold\">)</span>                                                            <span style=\"color: #7f7f7f; text-decoration-color: #7f7f7f\">             </span>\n",
       "<span style=\"color: #7fbfbf; text-decoration-color: #7fbfbf\">           </span>             - columns: <span style=\"font-weight: bold\">[</span><span style=\"color: #008000; text-decoration-color: #008000\">'LatD'</span>, <span style=\"color: #008000; text-decoration-color: #008000\">'LatM'</span>, <span style=\"color: #008000; text-decoration-color: #008000\">'LatS'</span>, <span style=\"color: #008000; text-decoration-color: #008000\">'NS'</span>, <span style=\"color: #008000; text-decoration-color: #008000\">'LonD'</span>, <span style=\"color: #008000; text-decoration-color: #008000\">'LonM'</span>, <span style=\"color: #008000; text-decoration-color: #008000\">'LonS'</span>, <span style=\"color: #008000; text-decoration-color: #008000\">'EW'</span>,       <span style=\"color: #7f7f7f; text-decoration-color: #7f7f7f\">             </span>\n",
       "<span style=\"color: #7fbfbf; text-decoration-color: #7fbfbf\">           </span>         <span style=\"color: #008000; text-decoration-color: #008000\">'City'</span>, <span style=\"color: #008000; text-decoration-color: #008000\">'State'</span><span style=\"font-weight: bold\">]</span>                                                                  <span style=\"color: #7f7f7f; text-decoration-color: #7f7f7f\">             </span>\n",
       "<span style=\"color: #7fbfbf; text-decoration-color: #7fbfbf\">           </span>             - dtypes: <span style=\"font-weight: bold\">[</span><span style=\"color: #008000; text-decoration-color: #008000\">'int64'</span>, <span style=\"color: #008000; text-decoration-color: #008000\">'int64'</span>, <span style=\"color: #008000; text-decoration-color: #008000\">'int64'</span>, <span style=\"color: #008000; text-decoration-color: #008000\">'object'</span>, <span style=\"color: #008000; text-decoration-color: #008000\">'int64'</span>, <span style=\"color: #008000; text-decoration-color: #008000\">'int64'</span>, <span style=\"color: #008000; text-decoration-color: #008000\">'int64'</span>,    <span style=\"color: #7f7f7f; text-decoration-color: #7f7f7f\">             </span>\n",
       "<span style=\"color: #7fbfbf; text-decoration-color: #7fbfbf\">           </span>         <span style=\"color: #008000; text-decoration-color: #008000\">'object'</span>, <span style=\"color: #008000; text-decoration-color: #008000\">'object'</span>, <span style=\"color: #008000; text-decoration-color: #008000\">'object'</span><span style=\"font-weight: bold\">]</span>                                                     <span style=\"color: #7f7f7f; text-decoration-color: #7f7f7f\">             </span>\n",
       "</pre>\n"
      ],
      "text/plain": [
       "\u001b[2;36m[14:44:56]\u001b[0m\u001b[2;36m \u001b[0m\u001b[34mINFO    \u001b[0m ===\u001b[33muser\u001b[0m===                                                                        \u001b]8;id=82708;file:///Users/stanb/src/aiknows/aiknows/prompt/prompt.py\u001b\\\u001b[2mprompt.py\u001b[0m\u001b]8;;\u001b\\\u001b[2m:\u001b[0m\u001b]8;id=851381;file:///Users/stanb/src/aiknows/aiknows/prompt/prompt.py#195\u001b\\\u001b[2m195\u001b[0m\u001b]8;;\u001b\\\n",
       "\u001b[2;36m           \u001b[0m         task description: \u001b[32m\"\"\u001b[0m\"                                                             \u001b[2m             \u001b[0m\n",
       "\u001b[2;36m           \u001b[0m         return the two most distant cities names in df                                    \u001b[2m             \u001b[0m\n",
       "\u001b[2;36m           \u001b[0m         don't use geopy                                                                   \u001b[2m             \u001b[0m\n",
       "\u001b[2;36m           \u001b[0m         think step by step and explain decision in comments                               \u001b[2m             \u001b[0m\n",
       "\u001b[2;36m           \u001b[0m         \u001b[32m\"\"\u001b[0m\"                                                                               \u001b[2m             \u001b[0m\n",
       "\u001b[2;36m           \u001b[0m         environment: new python interpreter                                               \u001b[2m             \u001b[0m\n",
       "\u001b[2;36m           \u001b[0m         global variables:                                                                 \u001b[2m             \u001b[0m\n",
       "\u001b[2;36m           \u001b[0m         - df                                                                              \u001b[2m             \u001b[0m\n",
       "\u001b[2;36m           \u001b[0m             - type: pandas.core.frame.DataFrame                                           \u001b[2m             \u001b[0m\n",
       "\u001b[2;36m           \u001b[0m             - shape: \u001b[1m(\u001b[0m\u001b[1;36m128\u001b[0m, \u001b[1;36m10\u001b[0m\u001b[1m)\u001b[0m                                                            \u001b[2m             \u001b[0m\n",
       "\u001b[2;36m           \u001b[0m             - columns: \u001b[1m[\u001b[0m\u001b[32m'LatD'\u001b[0m, \u001b[32m'LatM'\u001b[0m, \u001b[32m'LatS'\u001b[0m, \u001b[32m'NS'\u001b[0m, \u001b[32m'LonD'\u001b[0m, \u001b[32m'LonM'\u001b[0m, \u001b[32m'LonS'\u001b[0m, \u001b[32m'EW'\u001b[0m,       \u001b[2m             \u001b[0m\n",
       "\u001b[2;36m           \u001b[0m         \u001b[32m'City'\u001b[0m, \u001b[32m'State'\u001b[0m\u001b[1m]\u001b[0m                                                                  \u001b[2m             \u001b[0m\n",
       "\u001b[2;36m           \u001b[0m             - dtypes: \u001b[1m[\u001b[0m\u001b[32m'int64'\u001b[0m, \u001b[32m'int64'\u001b[0m, \u001b[32m'int64'\u001b[0m, \u001b[32m'object'\u001b[0m, \u001b[32m'int64'\u001b[0m, \u001b[32m'int64'\u001b[0m, \u001b[32m'int64'\u001b[0m,    \u001b[2m             \u001b[0m\n",
       "\u001b[2;36m           \u001b[0m         \u001b[32m'object'\u001b[0m, \u001b[32m'object'\u001b[0m, \u001b[32m'object'\u001b[0m\u001b[1m]\u001b[0m                                                     \u001b[2m             \u001b[0m\n"
      ]
     },
     "metadata": {},
     "output_type": "display_data"
    },
    {
     "data": {
      "text/html": [
       "<pre style=\"white-space:pre;overflow-x:auto;line-height:normal;font-family:Menlo,'DejaVu Sans Mono',consolas,'Courier New',monospace\"><span style=\"color: #7fbfbf; text-decoration-color: #7fbfbf\">           </span><span style=\"color: #000080; text-decoration-color: #000080\">INFO    </span> cache miss on emb                                                                     <a href=\"file:///Users/stanb/src/aiknows/aiknows/llm.py\" target=\"_blank\"><span style=\"color: #7f7f7f; text-decoration-color: #7f7f7f\">llm.py</span></a><span style=\"color: #7f7f7f; text-decoration-color: #7f7f7f\">:</span><a href=\"file:///Users/stanb/src/aiknows/aiknows/llm.py#96\" target=\"_blank\"><span style=\"color: #7f7f7f; text-decoration-color: #7f7f7f\">96</span></a>\n",
       "</pre>\n"
      ],
      "text/plain": [
       "\u001b[2;36m          \u001b[0m\u001b[2;36m \u001b[0m\u001b[34mINFO    \u001b[0m cache miss on emb                                                                     \u001b]8;id=317567;file:///Users/stanb/src/aiknows/aiknows/llm.py\u001b\\\u001b[2mllm.py\u001b[0m\u001b]8;;\u001b\\\u001b[2m:\u001b[0m\u001b]8;id=769821;file:///Users/stanb/src/aiknows/aiknows/llm.py#96\u001b\\\u001b[2m96\u001b[0m\u001b]8;;\u001b\\\n"
      ]
     },
     "metadata": {},
     "output_type": "display_data"
    },
    {
     "data": {
      "text/html": [
       "<pre style=\"white-space:pre;overflow-x:auto;line-height:normal;font-family:Menlo,'DejaVu Sans Mono',consolas,'Courier New',monospace\"><span style=\"color: #7fbfbf; text-decoration-color: #7fbfbf\">           </span><span style=\"color: #000080; text-decoration-color: #000080\">INFO    </span> cache miss on generating code                                                         <a href=\"file:///Users/stanb/src/aiknows/aiknows/llm.py\" target=\"_blank\"><span style=\"color: #7f7f7f; text-decoration-color: #7f7f7f\">llm.py</span></a><span style=\"color: #7f7f7f; text-decoration-color: #7f7f7f\">:</span><a href=\"file:///Users/stanb/src/aiknows/aiknows/llm.py#24\" target=\"_blank\"><span style=\"color: #7f7f7f; text-decoration-color: #7f7f7f\">24</span></a>\n",
       "</pre>\n"
      ],
      "text/plain": [
       "\u001b[2;36m          \u001b[0m\u001b[2;36m \u001b[0m\u001b[34mINFO    \u001b[0m cache miss on generating code                                                         \u001b]8;id=559076;file:///Users/stanb/src/aiknows/aiknows/llm.py\u001b\\\u001b[2mllm.py\u001b[0m\u001b]8;;\u001b\\\u001b[2m:\u001b[0m\u001b]8;id=462052;file:///Users/stanb/src/aiknows/aiknows/llm.py#24\u001b\\\u001b[2m24\u001b[0m\u001b]8;;\u001b\\\n"
      ]
     },
     "metadata": {},
     "output_type": "display_data"
    },
    {
     "data": {
      "text/html": [
       "<pre style=\"white-space:pre;overflow-x:auto;line-height:normal;font-family:Menlo,'DejaVu Sans Mono',consolas,'Courier New',monospace\"><span style=\"color: #7fbfbf; text-decoration-color: #7fbfbf\">           </span><span style=\"color: #000080; text-decoration-color: #000080\">INFO    </span> len prompt messages: <span style=\"color: #008080; text-decoration-color: #008080; font-weight: bold\">36</span>                                                               <a href=\"file:///Users/stanb/src/aiknows/aiknows/llm.py\" target=\"_blank\"><span style=\"color: #7f7f7f; text-decoration-color: #7f7f7f\">llm.py</span></a><span style=\"color: #7f7f7f; text-decoration-color: #7f7f7f\">:</span><a href=\"file:///Users/stanb/src/aiknows/aiknows/llm.py#28\" target=\"_blank\"><span style=\"color: #7f7f7f; text-decoration-color: #7f7f7f\">28</span></a>\n",
       "</pre>\n"
      ],
      "text/plain": [
       "\u001b[2;36m          \u001b[0m\u001b[2;36m \u001b[0m\u001b[34mINFO    \u001b[0m len prompt messages: \u001b[1;36m36\u001b[0m                                                               \u001b]8;id=723439;file:///Users/stanb/src/aiknows/aiknows/llm.py\u001b\\\u001b[2mllm.py\u001b[0m\u001b]8;;\u001b\\\u001b[2m:\u001b[0m\u001b]8;id=878441;file:///Users/stanb/src/aiknows/aiknows/llm.py#28\u001b\\\u001b[2m28\u001b[0m\u001b]8;;\u001b\\\n"
      ]
     },
     "metadata": {},
     "output_type": "display_data"
    },
    {
     "data": {
      "text/html": [
       "<pre style=\"white-space:pre;overflow-x:auto;line-height:normal;font-family:Menlo,'DejaVu Sans Mono',consolas,'Courier New',monospace\"><span style=\"color: #7fbfbf; text-decoration-color: #7fbfbf\">[14:46:16] </span><span style=\"color: #000080; text-decoration-color: #000080\">INFO    </span> real prompt token length: <span style=\"color: #008080; text-decoration-color: #008080; font-weight: bold\">2516</span>                                                        <a href=\"file:///Users/stanb/src/aiknows/aiknows/llm.py\" target=\"_blank\"><span style=\"color: #7f7f7f; text-decoration-color: #7f7f7f\">llm.py</span></a><span style=\"color: #7f7f7f; text-decoration-color: #7f7f7f\">:</span><a href=\"file:///Users/stanb/src/aiknows/aiknows/llm.py#36\" target=\"_blank\"><span style=\"color: #7f7f7f; text-decoration-color: #7f7f7f\">36</span></a>\n",
       "</pre>\n"
      ],
      "text/plain": [
       "\u001b[2;36m[14:46:16]\u001b[0m\u001b[2;36m \u001b[0m\u001b[34mINFO    \u001b[0m real prompt token length: \u001b[1;36m2516\u001b[0m                                                        \u001b]8;id=185452;file:///Users/stanb/src/aiknows/aiknows/llm.py\u001b\\\u001b[2mllm.py\u001b[0m\u001b]8;;\u001b\\\u001b[2m:\u001b[0m\u001b]8;id=235626;file:///Users/stanb/src/aiknows/aiknows/llm.py#36\u001b\\\u001b[2m36\u001b[0m\u001b]8;;\u001b\\\n"
      ]
     },
     "metadata": {},
     "output_type": "display_data"
    },
    {
     "data": {
      "text/html": [
       "<pre style=\"white-space:pre;overflow-x:auto;line-height:normal;font-family:Menlo,'DejaVu Sans Mono',consolas,'Courier New',monospace\"><span style=\"color: #7fbfbf; text-decoration-color: #7fbfbf\">           </span><span style=\"color: #000080; text-decoration-color: #000080\">INFO    </span> ===<span style=\"color: #808000; text-decoration-color: #808000\">assistant</span>===                                                                   <a href=\"file:///Users/stanb/src/aiknows/aiknows/prompt/prompt.py\" target=\"_blank\"><span style=\"color: #7f7f7f; text-decoration-color: #7f7f7f\">prompt.py</span></a><span style=\"color: #7f7f7f; text-decoration-color: #7f7f7f\">:</span><a href=\"file:///Users/stanb/src/aiknows/aiknows/prompt/prompt.py#195\" target=\"_blank\"><span style=\"color: #7f7f7f; text-decoration-color: #7f7f7f\">195</span></a>\n",
       "<span style=\"color: #7fbfbf; text-decoration-color: #7fbfbf\">           </span>         ```python                                                                         <span style=\"color: #7f7f7f; text-decoration-color: #7f7f7f\">             </span>\n",
       "<span style=\"color: #7fbfbf; text-decoration-color: #7fbfbf\">           </span>         # we need to calculate the distance between each pair of cities                   <span style=\"color: #7f7f7f; text-decoration-color: #7f7f7f\">             </span>\n",
       "<span style=\"color: #7fbfbf; text-decoration-color: #7fbfbf\">           </span>         # we can use the Haversine formula to calculate the distance between two points   <span style=\"color: #7f7f7f; text-decoration-color: #7f7f7f\">             </span>\n",
       "<span style=\"color: #7fbfbf; text-decoration-color: #7fbfbf\">           </span>         on a sphere                                                                       <span style=\"color: #7f7f7f; text-decoration-color: #7f7f7f\">             </span>\n",
       "<span style=\"color: #7fbfbf; text-decoration-color: #7fbfbf\">           </span>         # we can use the latitude and longitude coordinates of each city to calculate the <span style=\"color: #7f7f7f; text-decoration-color: #7f7f7f\">             </span>\n",
       "<span style=\"color: #7fbfbf; text-decoration-color: #7fbfbf\">           </span>         distance                                                                          <span style=\"color: #7f7f7f; text-decoration-color: #7f7f7f\">             </span>\n",
       "<span style=\"color: #7fbfbf; text-decoration-color: #7fbfbf\">           </span>         # we can use the pandas apply method to apply the Haversine formula to each pair  <span style=\"color: #7f7f7f; text-decoration-color: #7f7f7f\">             </span>\n",
       "<span style=\"color: #7fbfbf; text-decoration-color: #7fbfbf\">           </span>         of cities                                                                         <span style=\"color: #7f7f7f; text-decoration-color: #7f7f7f\">             </span>\n",
       "<span style=\"color: #7fbfbf; text-decoration-color: #7fbfbf\">           </span>         # we can then sort the distances in descending order and return the names of the  <span style=\"color: #7f7f7f; text-decoration-color: #7f7f7f\">             </span>\n",
       "<span style=\"color: #7fbfbf; text-decoration-color: #7fbfbf\">           </span>         two most distant cities                                                           <span style=\"color: #7f7f7f; text-decoration-color: #7f7f7f\">             </span>\n",
       "<span style=\"color: #7fbfbf; text-decoration-color: #7fbfbf\">           </span>                                                                                           <span style=\"color: #7f7f7f; text-decoration-color: #7f7f7f\">             </span>\n",
       "<span style=\"color: #7fbfbf; text-decoration-color: #7fbfbf\">           </span>         from math import radians, sin, cos, sqrt, atan2                                   <span style=\"color: #7f7f7f; text-decoration-color: #7f7f7f\">             </span>\n",
       "<span style=\"color: #7fbfbf; text-decoration-color: #7fbfbf\">           </span>                                                                                           <span style=\"color: #7f7f7f; text-decoration-color: #7f7f7f\">             </span>\n",
       "<span style=\"color: #7fbfbf; text-decoration-color: #7fbfbf\">           </span>         def <span style=\"color: #800080; text-decoration-color: #800080; font-weight: bold\">haversine</span><span style=\"font-weight: bold\">(</span>lat1, lon1, lat2, lon2<span style=\"font-weight: bold\">)</span>:                                            <span style=\"color: #7f7f7f; text-decoration-color: #7f7f7f\">             </span>\n",
       "<span style=\"color: #7fbfbf; text-decoration-color: #7fbfbf\">           </span>             R = <span style=\"color: #008080; text-decoration-color: #008080; font-weight: bold\">6371</span>  # radius of Earth in km                                             <span style=\"color: #7f7f7f; text-decoration-color: #7f7f7f\">             </span>\n",
       "<span style=\"color: #7fbfbf; text-decoration-color: #7fbfbf\">           </span>             lat1, lon1, lat2, lon2 = <span style=\"color: #800080; text-decoration-color: #800080; font-weight: bold\">map</span><span style=\"font-weight: bold\">(</span>radians, <span style=\"font-weight: bold\">[</span>lat1, lon1, lat2, lon2<span style=\"font-weight: bold\">])</span>               <span style=\"color: #7f7f7f; text-decoration-color: #7f7f7f\">             </span>\n",
       "<span style=\"color: #7fbfbf; text-decoration-color: #7fbfbf\">           </span>             dlat = lat2 - lat1                                                            <span style=\"color: #7f7f7f; text-decoration-color: #7f7f7f\">             </span>\n",
       "<span style=\"color: #7fbfbf; text-decoration-color: #7fbfbf\">           </span>             dlon = lon2 - lon1                                                            <span style=\"color: #7f7f7f; text-decoration-color: #7f7f7f\">             </span>\n",
       "<span style=\"color: #7fbfbf; text-decoration-color: #7fbfbf\">           </span>             a = <span style=\"color: #800080; text-decoration-color: #800080; font-weight: bold\">sin</span><span style=\"font-weight: bold\">(</span>dlat <span style=\"color: #800080; text-decoration-color: #800080\">/</span> <span style=\"color: #008080; text-decoration-color: #008080; font-weight: bold\">2</span><span style=\"font-weight: bold\">)</span> ** <span style=\"color: #008080; text-decoration-color: #008080; font-weight: bold\">2</span> + <span style=\"color: #800080; text-decoration-color: #800080; font-weight: bold\">cos</span><span style=\"font-weight: bold\">(</span>lat1<span style=\"font-weight: bold\">)</span> * <span style=\"color: #800080; text-decoration-color: #800080; font-weight: bold\">cos</span><span style=\"font-weight: bold\">(</span>lat2<span style=\"font-weight: bold\">)</span> * <span style=\"color: #800080; text-decoration-color: #800080; font-weight: bold\">sin</span><span style=\"font-weight: bold\">(</span>dlon <span style=\"color: #800080; text-decoration-color: #800080\">/</span> <span style=\"color: #008080; text-decoration-color: #008080; font-weight: bold\">2</span><span style=\"font-weight: bold\">)</span> ** <span style=\"color: #008080; text-decoration-color: #008080; font-weight: bold\">2</span>           <span style=\"color: #7f7f7f; text-decoration-color: #7f7f7f\">             </span>\n",
       "<span style=\"color: #7fbfbf; text-decoration-color: #7fbfbf\">           </span>             c = <span style=\"color: #008080; text-decoration-color: #008080; font-weight: bold\">2</span> * <span style=\"color: #800080; text-decoration-color: #800080; font-weight: bold\">atan2</span><span style=\"font-weight: bold\">(</span><span style=\"color: #800080; text-decoration-color: #800080; font-weight: bold\">sqrt</span><span style=\"font-weight: bold\">(</span>a<span style=\"font-weight: bold\">)</span>, <span style=\"color: #800080; text-decoration-color: #800080; font-weight: bold\">sqrt</span><span style=\"font-weight: bold\">(</span><span style=\"color: #008080; text-decoration-color: #008080; font-weight: bold\">1</span> - a<span style=\"font-weight: bold\">))</span>                                           <span style=\"color: #7f7f7f; text-decoration-color: #7f7f7f\">             </span>\n",
       "<span style=\"color: #7fbfbf; text-decoration-color: #7fbfbf\">           </span>             return R * c                                                                  <span style=\"color: #7f7f7f; text-decoration-color: #7f7f7f\">             </span>\n",
       "<span style=\"color: #7fbfbf; text-decoration-color: #7fbfbf\">           </span>                                                                                           <span style=\"color: #7f7f7f; text-decoration-color: #7f7f7f\">             </span>\n",
       "<span style=\"color: #7fbfbf; text-decoration-color: #7fbfbf\">           </span>         def <span style=\"color: #800080; text-decoration-color: #800080; font-weight: bold\">distance</span><span style=\"font-weight: bold\">(</span>city1, city2<span style=\"font-weight: bold\">)</span>:                                                       <span style=\"color: #7f7f7f; text-decoration-color: #7f7f7f\">             </span>\n",
       "<span style=\"color: #7fbfbf; text-decoration-color: #7fbfbf\">           </span>             lat1, lon1 = city1<span style=\"font-weight: bold\">[</span><span style=\"color: #008000; text-decoration-color: #008000\">'LatD'</span><span style=\"font-weight: bold\">]</span> + city1<span style=\"font-weight: bold\">[</span><span style=\"color: #008000; text-decoration-color: #008000\">'LatM'</span><span style=\"font-weight: bold\">]</span> <span style=\"color: #800080; text-decoration-color: #800080\">/</span> <span style=\"color: #008080; text-decoration-color: #008080; font-weight: bold\">60</span> + city1<span style=\"font-weight: bold\">[</span><span style=\"color: #008000; text-decoration-color: #008000\">'LatS'</span><span style=\"font-weight: bold\">]</span> <span style=\"color: #800080; text-decoration-color: #800080\">/</span> <span style=\"color: #008080; text-decoration-color: #008080; font-weight: bold\">3600</span>,       <span style=\"color: #7f7f7f; text-decoration-color: #7f7f7f\">             </span>\n",
       "<span style=\"color: #7fbfbf; text-decoration-color: #7fbfbf\">           </span>         city1<span style=\"font-weight: bold\">[</span><span style=\"color: #008000; text-decoration-color: #008000\">'LonD'</span><span style=\"font-weight: bold\">]</span> + city1<span style=\"font-weight: bold\">[</span><span style=\"color: #008000; text-decoration-color: #008000\">'LonM'</span><span style=\"font-weight: bold\">]</span> <span style=\"color: #800080; text-decoration-color: #800080\">/</span> <span style=\"color: #008080; text-decoration-color: #008080; font-weight: bold\">60</span> + city1<span style=\"font-weight: bold\">[</span><span style=\"color: #008000; text-decoration-color: #008000\">'LonS'</span><span style=\"font-weight: bold\">]</span> <span style=\"color: #800080; text-decoration-color: #800080\">/</span> <span style=\"color: #008080; text-decoration-color: #008080; font-weight: bold\">3600</span>                         <span style=\"color: #7f7f7f; text-decoration-color: #7f7f7f\">             </span>\n",
       "<span style=\"color: #7fbfbf; text-decoration-color: #7fbfbf\">           </span>             lat2, lon2 = city2<span style=\"font-weight: bold\">[</span><span style=\"color: #008000; text-decoration-color: #008000\">'LatD'</span><span style=\"font-weight: bold\">]</span> + city2<span style=\"font-weight: bold\">[</span><span style=\"color: #008000; text-decoration-color: #008000\">'LatM'</span><span style=\"font-weight: bold\">]</span> <span style=\"color: #800080; text-decoration-color: #800080\">/</span> <span style=\"color: #008080; text-decoration-color: #008080; font-weight: bold\">60</span> + city2<span style=\"font-weight: bold\">[</span><span style=\"color: #008000; text-decoration-color: #008000\">'LatS'</span><span style=\"font-weight: bold\">]</span> <span style=\"color: #800080; text-decoration-color: #800080\">/</span> <span style=\"color: #008080; text-decoration-color: #008080; font-weight: bold\">3600</span>,       <span style=\"color: #7f7f7f; text-decoration-color: #7f7f7f\">             </span>\n",
       "<span style=\"color: #7fbfbf; text-decoration-color: #7fbfbf\">           </span>         city2<span style=\"font-weight: bold\">[</span><span style=\"color: #008000; text-decoration-color: #008000\">'LonD'</span><span style=\"font-weight: bold\">]</span> + city2<span style=\"font-weight: bold\">[</span><span style=\"color: #008000; text-decoration-color: #008000\">'LonM'</span><span style=\"font-weight: bold\">]</span> <span style=\"color: #800080; text-decoration-color: #800080\">/</span> <span style=\"color: #008080; text-decoration-color: #008080; font-weight: bold\">60</span> + city2<span style=\"font-weight: bold\">[</span><span style=\"color: #008000; text-decoration-color: #008000\">'LonS'</span><span style=\"font-weight: bold\">]</span> <span style=\"color: #800080; text-decoration-color: #800080\">/</span> <span style=\"color: #008080; text-decoration-color: #008080; font-weight: bold\">3600</span>                         <span style=\"color: #7f7f7f; text-decoration-color: #7f7f7f\">             </span>\n",
       "<span style=\"color: #7fbfbf; text-decoration-color: #7fbfbf\">           </span>             return <span style=\"color: #800080; text-decoration-color: #800080; font-weight: bold\">haversine</span><span style=\"font-weight: bold\">(</span>lat1, lon1, lat2, lon2<span style=\"font-weight: bold\">)</span>                                      <span style=\"color: #7f7f7f; text-decoration-color: #7f7f7f\">             </span>\n",
       "<span style=\"color: #7fbfbf; text-decoration-color: #7fbfbf\">           </span>                                                                                           <span style=\"color: #7f7f7f; text-decoration-color: #7f7f7f\">             </span>\n",
       "<span style=\"color: #7fbfbf; text-decoration-color: #7fbfbf\">           </span>         # calculate the distances between each pair of cities                             <span style=\"color: #7f7f7f; text-decoration-color: #7f7f7f\">             </span>\n",
       "<span style=\"color: #7fbfbf; text-decoration-color: #7fbfbf\">           </span>         distances = <span style=\"color: #800080; text-decoration-color: #800080; font-weight: bold\">df.apply</span><span style=\"font-weight: bold\">(</span>lambda x: <span style=\"color: #800080; text-decoration-color: #800080; font-weight: bold\">df.apply</span><span style=\"font-weight: bold\">(</span>lambda y: <span style=\"color: #800080; text-decoration-color: #800080; font-weight: bold\">distance</span><span style=\"font-weight: bold\">(</span>x, y<span style=\"font-weight: bold\">)</span>, <span style=\"color: #808000; text-decoration-color: #808000\">axis</span>=<span style=\"color: #008080; text-decoration-color: #008080; font-weight: bold\">1</span><span style=\"font-weight: bold\">)</span>,        <span style=\"color: #7f7f7f; text-decoration-color: #7f7f7f\">             </span>\n",
       "<span style=\"color: #7fbfbf; text-decoration-color: #7fbfbf\">           </span>         <span style=\"color: #808000; text-decoration-color: #808000\">axis</span>=<span style=\"color: #008080; text-decoration-color: #008080; font-weight: bold\">1</span><span style=\"font-weight: bold\">)</span>                                                                           <span style=\"color: #7f7f7f; text-decoration-color: #7f7f7f\">             </span>\n",
       "<span style=\"color: #7fbfbf; text-decoration-color: #7fbfbf\">           </span>                                                                                           <span style=\"color: #7f7f7f; text-decoration-color: #7f7f7f\">             </span>\n",
       "<span style=\"color: #7fbfbf; text-decoration-color: #7fbfbf\">           </span>         # sort the distances in descending order                                          <span style=\"color: #7f7f7f; text-decoration-color: #7f7f7f\">             </span>\n",
       "<span style=\"color: #7fbfbf; text-decoration-color: #7fbfbf\">           </span>         sorted_distances = <span style=\"color: #800080; text-decoration-color: #800080; font-weight: bold\">distances.unstack</span><span style=\"font-weight: bold\">()</span><span style=\"color: #800080; text-decoration-color: #800080; font-weight: bold\">.sort_values</span><span style=\"font-weight: bold\">(</span><span style=\"color: #808000; text-decoration-color: #808000\">ascending</span>=<span style=\"color: #ff0000; text-decoration-color: #ff0000; font-style: italic\">False</span><span style=\"font-weight: bold\">)</span>               <span style=\"color: #7f7f7f; text-decoration-color: #7f7f7f\">             </span>\n",
       "<span style=\"color: #7fbfbf; text-decoration-color: #7fbfbf\">           </span>                                                                                           <span style=\"color: #7f7f7f; text-decoration-color: #7f7f7f\">             </span>\n",
       "<span style=\"color: #7fbfbf; text-decoration-color: #7fbfbf\">           </span>         # get the names of the two most distant cities                                    <span style=\"color: #7f7f7f; text-decoration-color: #7f7f7f\">             </span>\n",
       "<span style=\"color: #7fbfbf; text-decoration-color: #7fbfbf\">           </span>         city1, city2 = sorted_distances.index<span style=\"font-weight: bold\">[</span><span style=\"color: #008080; text-decoration-color: #008080; font-weight: bold\">0</span><span style=\"font-weight: bold\">]</span>                                          <span style=\"color: #7f7f7f; text-decoration-color: #7f7f7f\">             </span>\n",
       "<span style=\"color: #7fbfbf; text-decoration-color: #7fbfbf\">           </span>         result = df.loc<span style=\"font-weight: bold\">[[</span>city1, city2<span style=\"font-weight: bold\">]</span>, <span style=\"color: #008000; text-decoration-color: #008000\">'City'</span><span style=\"font-weight: bold\">]</span>                                           <span style=\"color: #7f7f7f; text-decoration-color: #7f7f7f\">             </span>\n",
       "<span style=\"color: #7fbfbf; text-decoration-color: #7fbfbf\">           </span>                                                                                           <span style=\"color: #7f7f7f; text-decoration-color: #7f7f7f\">             </span>\n",
       "<span style=\"color: #7fbfbf; text-decoration-color: #7fbfbf\">           </span>         <span style=\"color: #800080; text-decoration-color: #800080; font-weight: bold\">finish_task_ok</span><span style=\"font-weight: bold\">(</span>result<span style=\"font-weight: bold\">)</span>;                                                           <span style=\"color: #7f7f7f; text-decoration-color: #7f7f7f\">             </span>\n",
       "<span style=\"color: #7fbfbf; text-decoration-color: #7fbfbf\">           </span>         ````                                                                              <span style=\"color: #7f7f7f; text-decoration-color: #7f7f7f\">             </span>\n",
       "</pre>\n"
      ],
      "text/plain": [
       "\u001b[2;36m          \u001b[0m\u001b[2;36m \u001b[0m\u001b[34mINFO    \u001b[0m ===\u001b[33massistant\u001b[0m===                                                                   \u001b]8;id=728427;file:///Users/stanb/src/aiknows/aiknows/prompt/prompt.py\u001b\\\u001b[2mprompt.py\u001b[0m\u001b]8;;\u001b\\\u001b[2m:\u001b[0m\u001b]8;id=379732;file:///Users/stanb/src/aiknows/aiknows/prompt/prompt.py#195\u001b\\\u001b[2m195\u001b[0m\u001b]8;;\u001b\\\n",
       "\u001b[2;36m           \u001b[0m         ```python                                                                         \u001b[2m             \u001b[0m\n",
       "\u001b[2;36m           \u001b[0m         # we need to calculate the distance between each pair of cities                   \u001b[2m             \u001b[0m\n",
       "\u001b[2;36m           \u001b[0m         # we can use the Haversine formula to calculate the distance between two points   \u001b[2m             \u001b[0m\n",
       "\u001b[2;36m           \u001b[0m         on a sphere                                                                       \u001b[2m             \u001b[0m\n",
       "\u001b[2;36m           \u001b[0m         # we can use the latitude and longitude coordinates of each city to calculate the \u001b[2m             \u001b[0m\n",
       "\u001b[2;36m           \u001b[0m         distance                                                                          \u001b[2m             \u001b[0m\n",
       "\u001b[2;36m           \u001b[0m         # we can use the pandas apply method to apply the Haversine formula to each pair  \u001b[2m             \u001b[0m\n",
       "\u001b[2;36m           \u001b[0m         of cities                                                                         \u001b[2m             \u001b[0m\n",
       "\u001b[2;36m           \u001b[0m         # we can then sort the distances in descending order and return the names of the  \u001b[2m             \u001b[0m\n",
       "\u001b[2;36m           \u001b[0m         two most distant cities                                                           \u001b[2m             \u001b[0m\n",
       "\u001b[2;36m           \u001b[0m                                                                                           \u001b[2m             \u001b[0m\n",
       "\u001b[2;36m           \u001b[0m         from math import radians, sin, cos, sqrt, atan2                                   \u001b[2m             \u001b[0m\n",
       "\u001b[2;36m           \u001b[0m                                                                                           \u001b[2m             \u001b[0m\n",
       "\u001b[2;36m           \u001b[0m         def \u001b[1;35mhaversine\u001b[0m\u001b[1m(\u001b[0mlat1, lon1, lat2, lon2\u001b[1m)\u001b[0m:                                            \u001b[2m             \u001b[0m\n",
       "\u001b[2;36m           \u001b[0m             R = \u001b[1;36m6371\u001b[0m  # radius of Earth in km                                             \u001b[2m             \u001b[0m\n",
       "\u001b[2;36m           \u001b[0m             lat1, lon1, lat2, lon2 = \u001b[1;35mmap\u001b[0m\u001b[1m(\u001b[0mradians, \u001b[1m[\u001b[0mlat1, lon1, lat2, lon2\u001b[1m]\u001b[0m\u001b[1m)\u001b[0m               \u001b[2m             \u001b[0m\n",
       "\u001b[2;36m           \u001b[0m             dlat = lat2 - lat1                                                            \u001b[2m             \u001b[0m\n",
       "\u001b[2;36m           \u001b[0m             dlon = lon2 - lon1                                                            \u001b[2m             \u001b[0m\n",
       "\u001b[2;36m           \u001b[0m             a = \u001b[1;35msin\u001b[0m\u001b[1m(\u001b[0mdlat \u001b[35m/\u001b[0m \u001b[1;36m2\u001b[0m\u001b[1m)\u001b[0m ** \u001b[1;36m2\u001b[0m + \u001b[1;35mcos\u001b[0m\u001b[1m(\u001b[0mlat1\u001b[1m)\u001b[0m * \u001b[1;35mcos\u001b[0m\u001b[1m(\u001b[0mlat2\u001b[1m)\u001b[0m * \u001b[1;35msin\u001b[0m\u001b[1m(\u001b[0mdlon \u001b[35m/\u001b[0m \u001b[1;36m2\u001b[0m\u001b[1m)\u001b[0m ** \u001b[1;36m2\u001b[0m           \u001b[2m             \u001b[0m\n",
       "\u001b[2;36m           \u001b[0m             c = \u001b[1;36m2\u001b[0m * \u001b[1;35matan2\u001b[0m\u001b[1m(\u001b[0m\u001b[1;35msqrt\u001b[0m\u001b[1m(\u001b[0ma\u001b[1m)\u001b[0m, \u001b[1;35msqrt\u001b[0m\u001b[1m(\u001b[0m\u001b[1;36m1\u001b[0m - a\u001b[1m)\u001b[0m\u001b[1m)\u001b[0m                                           \u001b[2m             \u001b[0m\n",
       "\u001b[2;36m           \u001b[0m             return R * c                                                                  \u001b[2m             \u001b[0m\n",
       "\u001b[2;36m           \u001b[0m                                                                                           \u001b[2m             \u001b[0m\n",
       "\u001b[2;36m           \u001b[0m         def \u001b[1;35mdistance\u001b[0m\u001b[1m(\u001b[0mcity1, city2\u001b[1m)\u001b[0m:                                                       \u001b[2m             \u001b[0m\n",
       "\u001b[2;36m           \u001b[0m             lat1, lon1 = city1\u001b[1m[\u001b[0m\u001b[32m'LatD'\u001b[0m\u001b[1m]\u001b[0m + city1\u001b[1m[\u001b[0m\u001b[32m'LatM'\u001b[0m\u001b[1m]\u001b[0m \u001b[35m/\u001b[0m \u001b[1;36m60\u001b[0m + city1\u001b[1m[\u001b[0m\u001b[32m'LatS'\u001b[0m\u001b[1m]\u001b[0m \u001b[35m/\u001b[0m \u001b[1;36m3600\u001b[0m,       \u001b[2m             \u001b[0m\n",
       "\u001b[2;36m           \u001b[0m         city1\u001b[1m[\u001b[0m\u001b[32m'LonD'\u001b[0m\u001b[1m]\u001b[0m + city1\u001b[1m[\u001b[0m\u001b[32m'LonM'\u001b[0m\u001b[1m]\u001b[0m \u001b[35m/\u001b[0m \u001b[1;36m60\u001b[0m + city1\u001b[1m[\u001b[0m\u001b[32m'LonS'\u001b[0m\u001b[1m]\u001b[0m \u001b[35m/\u001b[0m \u001b[1;36m3600\u001b[0m                         \u001b[2m             \u001b[0m\n",
       "\u001b[2;36m           \u001b[0m             lat2, lon2 = city2\u001b[1m[\u001b[0m\u001b[32m'LatD'\u001b[0m\u001b[1m]\u001b[0m + city2\u001b[1m[\u001b[0m\u001b[32m'LatM'\u001b[0m\u001b[1m]\u001b[0m \u001b[35m/\u001b[0m \u001b[1;36m60\u001b[0m + city2\u001b[1m[\u001b[0m\u001b[32m'LatS'\u001b[0m\u001b[1m]\u001b[0m \u001b[35m/\u001b[0m \u001b[1;36m3600\u001b[0m,       \u001b[2m             \u001b[0m\n",
       "\u001b[2;36m           \u001b[0m         city2\u001b[1m[\u001b[0m\u001b[32m'LonD'\u001b[0m\u001b[1m]\u001b[0m + city2\u001b[1m[\u001b[0m\u001b[32m'LonM'\u001b[0m\u001b[1m]\u001b[0m \u001b[35m/\u001b[0m \u001b[1;36m60\u001b[0m + city2\u001b[1m[\u001b[0m\u001b[32m'LonS'\u001b[0m\u001b[1m]\u001b[0m \u001b[35m/\u001b[0m \u001b[1;36m3600\u001b[0m                         \u001b[2m             \u001b[0m\n",
       "\u001b[2;36m           \u001b[0m             return \u001b[1;35mhaversine\u001b[0m\u001b[1m(\u001b[0mlat1, lon1, lat2, lon2\u001b[1m)\u001b[0m                                      \u001b[2m             \u001b[0m\n",
       "\u001b[2;36m           \u001b[0m                                                                                           \u001b[2m             \u001b[0m\n",
       "\u001b[2;36m           \u001b[0m         # calculate the distances between each pair of cities                             \u001b[2m             \u001b[0m\n",
       "\u001b[2;36m           \u001b[0m         distances = \u001b[1;35mdf.apply\u001b[0m\u001b[1m(\u001b[0mlambda x: \u001b[1;35mdf.apply\u001b[0m\u001b[1m(\u001b[0mlambda y: \u001b[1;35mdistance\u001b[0m\u001b[1m(\u001b[0mx, y\u001b[1m)\u001b[0m, \u001b[33maxis\u001b[0m=\u001b[1;36m1\u001b[0m\u001b[1m)\u001b[0m,        \u001b[2m             \u001b[0m\n",
       "\u001b[2;36m           \u001b[0m         \u001b[33maxis\u001b[0m=\u001b[1;36m1\u001b[0m\u001b[1m)\u001b[0m                                                                           \u001b[2m             \u001b[0m\n",
       "\u001b[2;36m           \u001b[0m                                                                                           \u001b[2m             \u001b[0m\n",
       "\u001b[2;36m           \u001b[0m         # sort the distances in descending order                                          \u001b[2m             \u001b[0m\n",
       "\u001b[2;36m           \u001b[0m         sorted_distances = \u001b[1;35mdistances.unstack\u001b[0m\u001b[1m(\u001b[0m\u001b[1m)\u001b[0m\u001b[1;35m.sort_values\u001b[0m\u001b[1m(\u001b[0m\u001b[33mascending\u001b[0m=\u001b[3;91mFalse\u001b[0m\u001b[1m)\u001b[0m               \u001b[2m             \u001b[0m\n",
       "\u001b[2;36m           \u001b[0m                                                                                           \u001b[2m             \u001b[0m\n",
       "\u001b[2;36m           \u001b[0m         # get the names of the two most distant cities                                    \u001b[2m             \u001b[0m\n",
       "\u001b[2;36m           \u001b[0m         city1, city2 = sorted_distances.index\u001b[1m[\u001b[0m\u001b[1;36m0\u001b[0m\u001b[1m]\u001b[0m                                          \u001b[2m             \u001b[0m\n",
       "\u001b[2;36m           \u001b[0m         result = df.loc\u001b[1m[\u001b[0m\u001b[1m[\u001b[0mcity1, city2\u001b[1m]\u001b[0m, \u001b[32m'City'\u001b[0m\u001b[1m]\u001b[0m                                           \u001b[2m             \u001b[0m\n",
       "\u001b[2;36m           \u001b[0m                                                                                           \u001b[2m             \u001b[0m\n",
       "\u001b[2;36m           \u001b[0m         \u001b[1;35mfinish_task_ok\u001b[0m\u001b[1m(\u001b[0mresult\u001b[1m)\u001b[0m;                                                           \u001b[2m             \u001b[0m\n",
       "\u001b[2;36m           \u001b[0m         ````                                                                              \u001b[2m             \u001b[0m\n"
      ]
     },
     "metadata": {},
     "output_type": "display_data"
    },
    {
     "data": {
      "text/plain": [
       "16    West Palm Beach\n",
       "33          Vancouver\n",
       "Name: City, dtype: object"
      ]
     },
     "execution_count": 12,
     "metadata": {},
     "output_type": "execute_result"
    }
   ],
   "source": [
    "ai('return the two most distant cities names in df\\ndon\\'t use geopy\\nthink step by step and explain decision in comments', df=df)"
   ]
  },
  {
   "cell_type": "code",
   "execution_count": 13,
   "metadata": {},
   "outputs": [
    {
     "data": {
      "text/plain": [
       "{'Vancouver', 'West Palm Beach'}"
      ]
     },
     "execution_count": 13,
     "metadata": {},
     "output_type": "execute_result"
    }
   ],
   "source": [
    "set(_)"
   ]
  },
  {
   "cell_type": "code",
   "execution_count": 3,
   "metadata": {},
   "outputs": [
    {
     "data": {
      "text/html": [
       "<pre style=\"white-space:pre;overflow-x:auto;line-height:normal;font-family:Menlo,'DejaVu Sans Mono',consolas,'Courier New',monospace\"><span style=\"color: #7fbfbf; text-decoration-color: #7fbfbf\">[05/24/23 01:20:56] </span><span style=\"color: #000080; text-decoration-color: #000080\">INFO    </span> ===<span style=\"color: #808000; text-decoration-color: #808000\">user</span>===                                                               <a href=\"file:///Users/stanb/src/aiknows/aiknows/prompt/prompt.py\" target=\"_blank\"><span style=\"color: #7f7f7f; text-decoration-color: #7f7f7f\">prompt.py</span></a><span style=\"color: #7f7f7f; text-decoration-color: #7f7f7f\">:</span><a href=\"file:///Users/stanb/src/aiknows/aiknows/prompt/prompt.py#203\" target=\"_blank\"><span style=\"color: #7f7f7f; text-decoration-color: #7f7f7f\">203</span></a>\n",
       "<span style=\"color: #7fbfbf; text-decoration-color: #7fbfbf\">                    </span>                                                                                  <span style=\"color: #7f7f7f; text-decoration-color: #7f7f7f\">             </span>\n",
       "<span style=\"color: #7fbfbf; text-decoration-color: #7fbfbf\">                    </span>         task description: <span style=\"color: #008000; text-decoration-color: #008000\">\"\"</span>\"                                                    <span style=\"color: #7f7f7f; text-decoration-color: #7f7f7f\">             </span>\n",
       "<span style=\"color: #7fbfbf; text-decoration-color: #7fbfbf\">                    </span>         diagonal unit matrix constructor from numpy                              <span style=\"color: #7f7f7f; text-decoration-color: #7f7f7f\">             </span>\n",
       "<span style=\"color: #7fbfbf; text-decoration-color: #7fbfbf\">                    </span>         <span style=\"color: #008000; text-decoration-color: #008000\">\"\"</span>\"                                                                      <span style=\"color: #7f7f7f; text-decoration-color: #7f7f7f\">             </span>\n",
       "<span style=\"color: #7fbfbf; text-decoration-color: #7fbfbf\">                    </span>         environment: new python interpreter                                      <span style=\"color: #7f7f7f; text-decoration-color: #7f7f7f\">             </span>\n",
       "<span style=\"color: #7fbfbf; text-decoration-color: #7fbfbf\">                    </span>         global variables: <span style=\"font-weight: bold\">&lt;</span><span style=\"color: #ff00ff; text-decoration-color: #ff00ff; font-weight: bold\">empty</span><span style=\"font-weight: bold\">&gt;</span>                                                <span style=\"color: #7f7f7f; text-decoration-color: #7f7f7f\">             </span>\n",
       "<span style=\"color: #7fbfbf; text-decoration-color: #7fbfbf\">                    </span>                                                                                  <span style=\"color: #7f7f7f; text-decoration-color: #7f7f7f\">             </span>\n",
       "</pre>\n"
      ],
      "text/plain": [
       "\u001b[2;36m[05/24/23 01:20:56]\u001b[0m\u001b[2;36m \u001b[0m\u001b[34mINFO    \u001b[0m ===\u001b[33muser\u001b[0m===                                                               \u001b]8;id=480371;file:///Users/stanb/src/aiknows/aiknows/prompt/prompt.py\u001b\\\u001b[2mprompt.py\u001b[0m\u001b]8;;\u001b\\\u001b[2m:\u001b[0m\u001b]8;id=726273;file:///Users/stanb/src/aiknows/aiknows/prompt/prompt.py#203\u001b\\\u001b[2m203\u001b[0m\u001b]8;;\u001b\\\n",
       "\u001b[2;36m                    \u001b[0m                                                                                  \u001b[2m             \u001b[0m\n",
       "\u001b[2;36m                    \u001b[0m         task description: \u001b[32m\"\"\u001b[0m\"                                                    \u001b[2m             \u001b[0m\n",
       "\u001b[2;36m                    \u001b[0m         diagonal unit matrix constructor from numpy                              \u001b[2m             \u001b[0m\n",
       "\u001b[2;36m                    \u001b[0m         \u001b[32m\"\"\u001b[0m\"                                                                      \u001b[2m             \u001b[0m\n",
       "\u001b[2;36m                    \u001b[0m         environment: new python interpreter                                      \u001b[2m             \u001b[0m\n",
       "\u001b[2;36m                    \u001b[0m         global variables: \u001b[1m<\u001b[0m\u001b[1;95mempty\u001b[0m\u001b[1m>\u001b[0m                                                \u001b[2m             \u001b[0m\n",
       "\u001b[2;36m                    \u001b[0m                                                                                  \u001b[2m             \u001b[0m\n"
      ]
     },
     "metadata": {},
     "output_type": "display_data"
    },
    {
     "data": {
      "text/html": [
       "<pre style=\"white-space:pre;overflow-x:auto;line-height:normal;font-family:Menlo,'DejaVu Sans Mono',consolas,'Courier New',monospace\"><span style=\"color: #7fbfbf; text-decoration-color: #7fbfbf\">                    </span><span style=\"color: #000080; text-decoration-color: #000080\">INFO    </span> cache miss on emb                                                            <a href=\"file:///Users/stanb/src/aiknows/aiknows/llm.py\" target=\"_blank\"><span style=\"color: #7f7f7f; text-decoration-color: #7f7f7f\">llm.py</span></a><span style=\"color: #7f7f7f; text-decoration-color: #7f7f7f\">:</span><a href=\"file:///Users/stanb/src/aiknows/aiknows/llm.py#95\" target=\"_blank\"><span style=\"color: #7f7f7f; text-decoration-color: #7f7f7f\">95</span></a>\n",
       "</pre>\n"
      ],
      "text/plain": [
       "\u001b[2;36m                   \u001b[0m\u001b[2;36m \u001b[0m\u001b[34mINFO    \u001b[0m cache miss on emb                                                            \u001b]8;id=63268;file:///Users/stanb/src/aiknows/aiknows/llm.py\u001b\\\u001b[2mllm.py\u001b[0m\u001b]8;;\u001b\\\u001b[2m:\u001b[0m\u001b]8;id=219478;file:///Users/stanb/src/aiknows/aiknows/llm.py#95\u001b\\\u001b[2m95\u001b[0m\u001b]8;;\u001b\\\n"
      ]
     },
     "metadata": {},
     "output_type": "display_data"
    },
    {
     "data": {
      "text/html": [
       "<pre style=\"white-space:pre;overflow-x:auto;line-height:normal;font-family:Menlo,'DejaVu Sans Mono',consolas,'Courier New',monospace\"><span style=\"color: #7fbfbf; text-decoration-color: #7fbfbf\">[05/24/23 01:20:57] </span><span style=\"color: #000080; text-decoration-color: #000080\">INFO    </span> cache miss on generating code                                                <a href=\"file:///Users/stanb/src/aiknows/aiknows/llm.py\" target=\"_blank\"><span style=\"color: #7f7f7f; text-decoration-color: #7f7f7f\">llm.py</span></a><span style=\"color: #7f7f7f; text-decoration-color: #7f7f7f\">:</span><a href=\"file:///Users/stanb/src/aiknows/aiknows/llm.py#24\" target=\"_blank\"><span style=\"color: #7f7f7f; text-decoration-color: #7f7f7f\">24</span></a>\n",
       "</pre>\n"
      ],
      "text/plain": [
       "\u001b[2;36m[05/24/23 01:20:57]\u001b[0m\u001b[2;36m \u001b[0m\u001b[34mINFO    \u001b[0m cache miss on generating code                                                \u001b]8;id=636074;file:///Users/stanb/src/aiknows/aiknows/llm.py\u001b\\\u001b[2mllm.py\u001b[0m\u001b]8;;\u001b\\\u001b[2m:\u001b[0m\u001b]8;id=980099;file:///Users/stanb/src/aiknows/aiknows/llm.py#24\u001b\\\u001b[2m24\u001b[0m\u001b]8;;\u001b\\\n"
      ]
     },
     "metadata": {},
     "output_type": "display_data"
    },
    {
     "data": {
      "text/html": [
       "<pre style=\"white-space:pre;overflow-x:auto;line-height:normal;font-family:Menlo,'DejaVu Sans Mono',consolas,'Courier New',monospace\"><span style=\"color: #7fbfbf; text-decoration-color: #7fbfbf\">                    </span><span style=\"color: #000080; text-decoration-color: #000080\">INFO    </span> len prompt messages: <span style=\"color: #008080; text-decoration-color: #008080; font-weight: bold\">40</span>                                                      <a href=\"file:///Users/stanb/src/aiknows/aiknows/llm.py\" target=\"_blank\"><span style=\"color: #7f7f7f; text-decoration-color: #7f7f7f\">llm.py</span></a><span style=\"color: #7f7f7f; text-decoration-color: #7f7f7f\">:</span><a href=\"file:///Users/stanb/src/aiknows/aiknows/llm.py#28\" target=\"_blank\"><span style=\"color: #7f7f7f; text-decoration-color: #7f7f7f\">28</span></a>\n",
       "</pre>\n"
      ],
      "text/plain": [
       "\u001b[2;36m                   \u001b[0m\u001b[2;36m \u001b[0m\u001b[34mINFO    \u001b[0m len prompt messages: \u001b[1;36m40\u001b[0m                                                      \u001b]8;id=5465;file:///Users/stanb/src/aiknows/aiknows/llm.py\u001b\\\u001b[2mllm.py\u001b[0m\u001b]8;;\u001b\\\u001b[2m:\u001b[0m\u001b]8;id=475387;file:///Users/stanb/src/aiknows/aiknows/llm.py#28\u001b\\\u001b[2m28\u001b[0m\u001b]8;;\u001b\\\n"
      ]
     },
     "metadata": {},
     "output_type": "display_data"
    },
    {
     "data": {
      "text/html": [
       "<pre style=\"white-space:pre;overflow-x:auto;line-height:normal;font-family:Menlo,'DejaVu Sans Mono',consolas,'Courier New',monospace\"><span style=\"color: #7fbfbf; text-decoration-color: #7fbfbf\">[05/24/23 01:21:27] </span><span style=\"color: #000080; text-decoration-color: #000080\">INFO    </span> <span style=\"color: #808000; text-decoration-color: #808000\">error_code</span>=<span style=\"color: #800080; text-decoration-color: #800080; font-style: italic\">None</span> <span style=\"color: #808000; text-decoration-color: #808000\">error_message</span>=<span style=\"color: #008000; text-decoration-color: #008000\">'That model is currently overloaded with </span>     <a href=\"file:///Users/stanb/.miniconda3/envs/aiknows/lib/python3.8/site-packages/openai/util.py\" target=\"_blank\"><span style=\"color: #7f7f7f; text-decoration-color: #7f7f7f\">util.py</span></a><span style=\"color: #7f7f7f; text-decoration-color: #7f7f7f\">:</span><a href=\"file:///Users/stanb/.miniconda3/envs/aiknows/lib/python3.8/site-packages/openai/util.py#67\" target=\"_blank\"><span style=\"color: #7f7f7f; text-decoration-color: #7f7f7f\">67</span></a>\n",
       "<span style=\"color: #7fbfbf; text-decoration-color: #7fbfbf\">                    </span>         <span style=\"color: #008000; text-decoration-color: #008000\">other requests. You can retry your request, or contact us through our help </span> <span style=\"color: #7f7f7f; text-decoration-color: #7f7f7f\">          </span>\n",
       "<span style=\"color: #7fbfbf; text-decoration-color: #7fbfbf\">                    </span>         <span style=\"color: #008000; text-decoration-color: #008000\">center at help.openai.com if the error persists. (Please include the </span>       <span style=\"color: #7f7f7f; text-decoration-color: #7f7f7f\">          </span>\n",
       "<span style=\"color: #7fbfbf; text-decoration-color: #7fbfbf\">                    </span>         <span style=\"color: #008000; text-decoration-color: #008000\">request ID 2484294ddf605acc06da113013e4932c in your message.)'</span>              <span style=\"color: #7f7f7f; text-decoration-color: #7f7f7f\">          </span>\n",
       "<span style=\"color: #7fbfbf; text-decoration-color: #7fbfbf\">                    </span>         <span style=\"color: #808000; text-decoration-color: #808000\">error_param</span>=<span style=\"color: #800080; text-decoration-color: #800080; font-style: italic\">None</span> <span style=\"color: #808000; text-decoration-color: #808000\">error_type</span>=<span style=\"color: #800080; text-decoration-color: #800080\">server_error</span> <span style=\"color: #808000; text-decoration-color: #808000\">message</span>=<span style=\"color: #008000; text-decoration-color: #008000\">'OpenAI API error </span>         <span style=\"color: #7f7f7f; text-decoration-color: #7f7f7f\">          </span>\n",
       "<span style=\"color: #7fbfbf; text-decoration-color: #7fbfbf\">                    </span>         <span style=\"color: #008000; text-decoration-color: #008000\">received'</span> <span style=\"color: #808000; text-decoration-color: #808000\">stream_error</span>=<span style=\"color: #ff0000; text-decoration-color: #ff0000; font-style: italic\">False</span>                                                <span style=\"color: #7f7f7f; text-decoration-color: #7f7f7f\">          </span>\n",
       "</pre>\n"
      ],
      "text/plain": [
       "\u001b[2;36m[05/24/23 01:21:27]\u001b[0m\u001b[2;36m \u001b[0m\u001b[34mINFO    \u001b[0m \u001b[33merror_code\u001b[0m=\u001b[3;35mNone\u001b[0m \u001b[33merror_message\u001b[0m=\u001b[32m'That model is currently overloaded with \u001b[0m     \u001b]8;id=229299;file:///Users/stanb/.miniconda3/envs/aiknows/lib/python3.8/site-packages/openai/util.py\u001b\\\u001b[2mutil.py\u001b[0m\u001b]8;;\u001b\\\u001b[2m:\u001b[0m\u001b]8;id=459556;file:///Users/stanb/.miniconda3/envs/aiknows/lib/python3.8/site-packages/openai/util.py#67\u001b\\\u001b[2m67\u001b[0m\u001b]8;;\u001b\\\n",
       "\u001b[2;36m                    \u001b[0m         \u001b[32mother requests. You can retry your request, or contact us through our help \u001b[0m \u001b[2m          \u001b[0m\n",
       "\u001b[2;36m                    \u001b[0m         \u001b[32mcenter at help.openai.com if the error persists. \u001b[0m\u001b[32m(\u001b[0m\u001b[32mPlease include the \u001b[0m       \u001b[2m          \u001b[0m\n",
       "\u001b[2;36m                    \u001b[0m         \u001b[32mrequest ID 2484294ddf605acc06da113013e4932c in your message.\u001b[0m\u001b[32m)\u001b[0m\u001b[32m'\u001b[0m              \u001b[2m          \u001b[0m\n",
       "\u001b[2;36m                    \u001b[0m         \u001b[33merror_param\u001b[0m=\u001b[3;35mNone\u001b[0m \u001b[33merror_type\u001b[0m=\u001b[35mserver_error\u001b[0m \u001b[33mmessage\u001b[0m=\u001b[32m'OpenAI API error \u001b[0m         \u001b[2m          \u001b[0m\n",
       "\u001b[2;36m                    \u001b[0m         \u001b[32mreceived'\u001b[0m \u001b[33mstream_error\u001b[0m=\u001b[3;91mFalse\u001b[0m                                                \u001b[2m          \u001b[0m\n"
      ]
     },
     "metadata": {},
     "output_type": "display_data"
    },
    {
     "data": {
      "text/html": [
       "<pre style=\"white-space:pre;overflow-x:auto;line-height:normal;font-family:Menlo,'DejaVu Sans Mono',consolas,'Courier New',monospace\"><span style=\"color: #7fbfbf; text-decoration-color: #7fbfbf\">                    </span><span style=\"color: #000080; text-decoration-color: #000080\">INFO    </span> cache miss on generating code                                                <a href=\"file:///Users/stanb/src/aiknows/aiknows/llm.py\" target=\"_blank\"><span style=\"color: #7f7f7f; text-decoration-color: #7f7f7f\">llm.py</span></a><span style=\"color: #7f7f7f; text-decoration-color: #7f7f7f\">:</span><a href=\"file:///Users/stanb/src/aiknows/aiknows/llm.py#24\" target=\"_blank\"><span style=\"color: #7f7f7f; text-decoration-color: #7f7f7f\">24</span></a>\n",
       "</pre>\n"
      ],
      "text/plain": [
       "\u001b[2;36m                   \u001b[0m\u001b[2;36m \u001b[0m\u001b[34mINFO    \u001b[0m cache miss on generating code                                                \u001b]8;id=825520;file:///Users/stanb/src/aiknows/aiknows/llm.py\u001b\\\u001b[2mllm.py\u001b[0m\u001b]8;;\u001b\\\u001b[2m:\u001b[0m\u001b]8;id=718862;file:///Users/stanb/src/aiknows/aiknows/llm.py#24\u001b\\\u001b[2m24\u001b[0m\u001b]8;;\u001b\\\n"
      ]
     },
     "metadata": {},
     "output_type": "display_data"
    },
    {
     "data": {
      "text/html": [
       "<pre style=\"white-space:pre;overflow-x:auto;line-height:normal;font-family:Menlo,'DejaVu Sans Mono',consolas,'Courier New',monospace\"><span style=\"color: #7fbfbf; text-decoration-color: #7fbfbf\">                    </span><span style=\"color: #000080; text-decoration-color: #000080\">INFO    </span> len prompt messages: <span style=\"color: #008080; text-decoration-color: #008080; font-weight: bold\">40</span>                                                      <a href=\"file:///Users/stanb/src/aiknows/aiknows/llm.py\" target=\"_blank\"><span style=\"color: #7f7f7f; text-decoration-color: #7f7f7f\">llm.py</span></a><span style=\"color: #7f7f7f; text-decoration-color: #7f7f7f\">:</span><a href=\"file:///Users/stanb/src/aiknows/aiknows/llm.py#28\" target=\"_blank\"><span style=\"color: #7f7f7f; text-decoration-color: #7f7f7f\">28</span></a>\n",
       "</pre>\n"
      ],
      "text/plain": [
       "\u001b[2;36m                   \u001b[0m\u001b[2;36m \u001b[0m\u001b[34mINFO    \u001b[0m len prompt messages: \u001b[1;36m40\u001b[0m                                                      \u001b]8;id=702805;file:///Users/stanb/src/aiknows/aiknows/llm.py\u001b\\\u001b[2mllm.py\u001b[0m\u001b]8;;\u001b\\\u001b[2m:\u001b[0m\u001b]8;id=52474;file:///Users/stanb/src/aiknows/aiknows/llm.py#28\u001b\\\u001b[2m28\u001b[0m\u001b]8;;\u001b\\\n"
      ]
     },
     "metadata": {},
     "output_type": "display_data"
    },
    {
     "data": {
      "text/html": [
       "<pre style=\"white-space:pre;overflow-x:auto;line-height:normal;font-family:Menlo,'DejaVu Sans Mono',consolas,'Courier New',monospace\"><span style=\"color: #7fbfbf; text-decoration-color: #7fbfbf\">[05/24/23 01:21:35] </span><span style=\"color: #000080; text-decoration-color: #000080\">INFO    </span> real prompt token length: <span style=\"color: #008080; text-decoration-color: #008080; font-weight: bold\">2024</span>                                               <a href=\"file:///Users/stanb/src/aiknows/aiknows/llm.py\" target=\"_blank\"><span style=\"color: #7f7f7f; text-decoration-color: #7f7f7f\">llm.py</span></a><span style=\"color: #7f7f7f; text-decoration-color: #7f7f7f\">:</span><a href=\"file:///Users/stanb/src/aiknows/aiknows/llm.py#36\" target=\"_blank\"><span style=\"color: #7f7f7f; text-decoration-color: #7f7f7f\">36</span></a>\n",
       "</pre>\n"
      ],
      "text/plain": [
       "\u001b[2;36m[05/24/23 01:21:35]\u001b[0m\u001b[2;36m \u001b[0m\u001b[34mINFO    \u001b[0m real prompt token length: \u001b[1;36m2024\u001b[0m                                               \u001b]8;id=426078;file:///Users/stanb/src/aiknows/aiknows/llm.py\u001b\\\u001b[2mllm.py\u001b[0m\u001b]8;;\u001b\\\u001b[2m:\u001b[0m\u001b]8;id=202426;file:///Users/stanb/src/aiknows/aiknows/llm.py#36\u001b\\\u001b[2m36\u001b[0m\u001b]8;;\u001b\\\n"
      ]
     },
     "metadata": {},
     "output_type": "display_data"
    },
    {
     "data": {
      "text/html": [
       "<pre style=\"white-space:pre;overflow-x:auto;line-height:normal;font-family:Menlo,'DejaVu Sans Mono',consolas,'Courier New',monospace\"><span style=\"color: #7fbfbf; text-decoration-color: #7fbfbf\">                    </span><span style=\"color: #000080; text-decoration-color: #000080\">INFO    </span> ===<span style=\"color: #808000; text-decoration-color: #808000\">assistant</span>===                                                          <a href=\"file:///Users/stanb/src/aiknows/aiknows/prompt/prompt.py\" target=\"_blank\"><span style=\"color: #7f7f7f; text-decoration-color: #7f7f7f\">prompt.py</span></a><span style=\"color: #7f7f7f; text-decoration-color: #7f7f7f\">:</span><a href=\"file:///Users/stanb/src/aiknows/aiknows/prompt/prompt.py#203\" target=\"_blank\"><span style=\"color: #7f7f7f; text-decoration-color: #7f7f7f\">203</span></a>\n",
       "<span style=\"color: #7fbfbf; text-decoration-color: #7fbfbf\">                    </span>                                                                                  <span style=\"color: #7f7f7f; text-decoration-color: #7f7f7f\">             </span>\n",
       "<span style=\"color: #7fbfbf; text-decoration-color: #7fbfbf\">                    </span>         ```python                                                                <span style=\"color: #7f7f7f; text-decoration-color: #7f7f7f\">             </span>\n",
       "<span style=\"color: #7fbfbf; text-decoration-color: #7fbfbf\">                    </span>         import numpy as np                                                       <span style=\"color: #7f7f7f; text-decoration-color: #7f7f7f\">             </span>\n",
       "<span style=\"color: #7fbfbf; text-decoration-color: #7fbfbf\">                    </span>                                                                                  <span style=\"color: #7f7f7f; text-decoration-color: #7f7f7f\">             </span>\n",
       "<span style=\"color: #7fbfbf; text-decoration-color: #7fbfbf\">                    </span>         # diagonal matrix is a matrix where all elements outside of the main     <span style=\"color: #7f7f7f; text-decoration-color: #7f7f7f\">             </span>\n",
       "<span style=\"color: #7fbfbf; text-decoration-color: #7fbfbf\">                    </span>         diagonal are zero                                                        <span style=\"color: #7f7f7f; text-decoration-color: #7f7f7f\">             </span>\n",
       "<span style=\"color: #7fbfbf; text-decoration-color: #7fbfbf\">                    </span>         # numpy has a function for creating such matrix                          <span style=\"color: #7f7f7f; text-decoration-color: #7f7f7f\">             </span>\n",
       "<span style=\"color: #7fbfbf; text-decoration-color: #7fbfbf\">                    </span>         def <span style=\"color: #800080; text-decoration-color: #800080; font-weight: bold\">diagonal_unit_matrix</span><span style=\"font-weight: bold\">(</span>n<span style=\"font-weight: bold\">)</span>:                                             <span style=\"color: #7f7f7f; text-decoration-color: #7f7f7f\">             </span>\n",
       "<span style=\"color: #7fbfbf; text-decoration-color: #7fbfbf\">                    </span>             return <span style=\"color: #800080; text-decoration-color: #800080; font-weight: bold\">np.eye</span><span style=\"font-weight: bold\">(</span>n<span style=\"font-weight: bold\">)</span>                                                     <span style=\"color: #7f7f7f; text-decoration-color: #7f7f7f\">             </span>\n",
       "<span style=\"color: #7fbfbf; text-decoration-color: #7fbfbf\">                    </span>                                                                                  <span style=\"color: #7f7f7f; text-decoration-color: #7f7f7f\">             </span>\n",
       "<span style=\"color: #7fbfbf; text-decoration-color: #7fbfbf\">                    </span>         <span style=\"color: #800080; text-decoration-color: #800080; font-weight: bold\">finish_task_ok</span><span style=\"font-weight: bold\">(</span>diagonal_unit_matrix<span style=\"font-weight: bold\">)</span>;                                    <span style=\"color: #7f7f7f; text-decoration-color: #7f7f7f\">             </span>\n",
       "<span style=\"color: #7fbfbf; text-decoration-color: #7fbfbf\">                    </span>         ```                                                                      <span style=\"color: #7f7f7f; text-decoration-color: #7f7f7f\">             </span>\n",
       "<span style=\"color: #7fbfbf; text-decoration-color: #7fbfbf\">                    </span>                                                                                  <span style=\"color: #7f7f7f; text-decoration-color: #7f7f7f\">             </span>\n",
       "</pre>\n"
      ],
      "text/plain": [
       "\u001b[2;36m                   \u001b[0m\u001b[2;36m \u001b[0m\u001b[34mINFO    \u001b[0m ===\u001b[33massistant\u001b[0m===                                                          \u001b]8;id=367728;file:///Users/stanb/src/aiknows/aiknows/prompt/prompt.py\u001b\\\u001b[2mprompt.py\u001b[0m\u001b]8;;\u001b\\\u001b[2m:\u001b[0m\u001b]8;id=105947;file:///Users/stanb/src/aiknows/aiknows/prompt/prompt.py#203\u001b\\\u001b[2m203\u001b[0m\u001b]8;;\u001b\\\n",
       "\u001b[2;36m                    \u001b[0m                                                                                  \u001b[2m             \u001b[0m\n",
       "\u001b[2;36m                    \u001b[0m         ```python                                                                \u001b[2m             \u001b[0m\n",
       "\u001b[2;36m                    \u001b[0m         import numpy as np                                                       \u001b[2m             \u001b[0m\n",
       "\u001b[2;36m                    \u001b[0m                                                                                  \u001b[2m             \u001b[0m\n",
       "\u001b[2;36m                    \u001b[0m         # diagonal matrix is a matrix where all elements outside of the main     \u001b[2m             \u001b[0m\n",
       "\u001b[2;36m                    \u001b[0m         diagonal are zero                                                        \u001b[2m             \u001b[0m\n",
       "\u001b[2;36m                    \u001b[0m         # numpy has a function for creating such matrix                          \u001b[2m             \u001b[0m\n",
       "\u001b[2;36m                    \u001b[0m         def \u001b[1;35mdiagonal_unit_matrix\u001b[0m\u001b[1m(\u001b[0mn\u001b[1m)\u001b[0m:                                             \u001b[2m             \u001b[0m\n",
       "\u001b[2;36m                    \u001b[0m             return \u001b[1;35mnp.eye\u001b[0m\u001b[1m(\u001b[0mn\u001b[1m)\u001b[0m                                                     \u001b[2m             \u001b[0m\n",
       "\u001b[2;36m                    \u001b[0m                                                                                  \u001b[2m             \u001b[0m\n",
       "\u001b[2;36m                    \u001b[0m         \u001b[1;35mfinish_task_ok\u001b[0m\u001b[1m(\u001b[0mdiagonal_unit_matrix\u001b[1m)\u001b[0m;                                    \u001b[2m             \u001b[0m\n",
       "\u001b[2;36m                    \u001b[0m         ```                                                                      \u001b[2m             \u001b[0m\n",
       "\u001b[2;36m                    \u001b[0m                                                                                  \u001b[2m             \u001b[0m\n"
      ]
     },
     "metadata": {},
     "output_type": "display_data"
    },
    {
     "data": {
      "text/plain": [
       "array([[1., 0., 0., 0., 0., 0., 0., 0., 0., 0.],\n",
       "       [0., 1., 0., 0., 0., 0., 0., 0., 0., 0.],\n",
       "       [0., 0., 1., 0., 0., 0., 0., 0., 0., 0.],\n",
       "       [0., 0., 0., 1., 0., 0., 0., 0., 0., 0.],\n",
       "       [0., 0., 0., 0., 1., 0., 0., 0., 0., 0.],\n",
       "       [0., 0., 0., 0., 0., 1., 0., 0., 0., 0.],\n",
       "       [0., 0., 0., 0., 0., 0., 1., 0., 0., 0.],\n",
       "       [0., 0., 0., 0., 0., 0., 0., 1., 0., 0.],\n",
       "       [0., 0., 0., 0., 0., 0., 0., 0., 1., 0.],\n",
       "       [0., 0., 0., 0., 0., 0., 0., 0., 0., 1.]])"
      ]
     },
     "execution_count": 3,
     "metadata": {},
     "output_type": "execute_result"
    }
   ],
   "source": [
    "ai('diagonal unit matrix constructor from numpy')(10)"
   ]
  },
  {
   "cell_type": "code",
   "execution_count": 43,
   "metadata": {},
   "outputs": [
    {
     "name": "stderr",
     "output_type": "stream",
     "text": [
      "INFO:aiknows.prompt.prompt:===user===\n",
      "\n",
      "task description: \"\"\"\n",
      "sum numbers in x\n",
      "\"\"\"\n",
      "environment: new python interpreter\n",
      "global variables: \n",
      "- x\n",
      "    - type: list\n",
      "\n",
      "INFO:aiknows.llm:cache miss on generating code\n",
      "INFO:aiknows.llm:len prompt messages: 36\n",
      "INFO:aiknows.llm:real prompt token length: 1920\n",
      "INFO:aiknows.prompt.prompt:===assistant===\n",
      "\n",
      "```python\n",
      "# global variable 'x' mentioned explicitly in the task\n",
      "# so, instead of creating a function, we just do the calculation\n",
      "result = sum(x)\n",
      "finish_task_ok(result);\n",
      "```\n",
      "\n",
      "INFO:aiknows.prompt.prompt:===user===\n",
      "\n",
      "task description: \"\"\"\n",
      "multiply all numbers in x\n",
      "\"\"\"\n",
      "environment: reused from previous task\n",
      "global variables: <empty>\n",
      "\n",
      "INFO:aiknows.llm:cache miss on generating code\n",
      "INFO:aiknows.llm:len prompt messages: 34\n",
      "INFO:aiknows.llm:real prompt token length: 1922\n",
      "INFO:aiknows.prompt.prompt:===assistant===\n",
      "\n",
      "```python\n",
      "# environment is reused so we can reference `x` from last task\n",
      "# use `_` to reference value of last expression or task result\n",
      "result = 1\n",
      "for number in x:\n",
      "    result *= number\n",
      "\n",
      "finish_task_ok(result);\n",
      "```\n",
      "\n"
     ]
    },
    {
     "data": {
      "text/plain": [
       "120"
      ]
     },
     "execution_count": 43,
     "metadata": {},
     "output_type": "execute_result"
    }
   ],
   "source": [
    " r, sess = ai('sum numbers in x', x=[1, 2, 3, 4, 5], save_session=True)\n",
    "assert r == 15\n",
    "r = sess.ai('multiply all numbers in x')\n",
    "r"
   ]
  },
  {
   "cell_type": "code",
   "execution_count": 4,
   "metadata": {},
   "outputs": [
    {
     "data": {
      "text/html": [
       "<pre style=\"white-space:pre;overflow-x:auto;line-height:normal;font-family:Menlo,'DejaVu Sans Mono',consolas,'Courier New',monospace\"><span style=\"color: #7fbfbf; text-decoration-color: #7fbfbf\">[05/24/23 01:21:48] </span><span style=\"color: #000080; text-decoration-color: #000080\">INFO    </span> ===<span style=\"color: #808000; text-decoration-color: #808000\">user</span>===                                                               <a href=\"file:///Users/stanb/src/aiknows/aiknows/prompt/prompt.py\" target=\"_blank\"><span style=\"color: #7f7f7f; text-decoration-color: #7f7f7f\">prompt.py</span></a><span style=\"color: #7f7f7f; text-decoration-color: #7f7f7f\">:</span><a href=\"file:///Users/stanb/src/aiknows/aiknows/prompt/prompt.py#203\" target=\"_blank\"><span style=\"color: #7f7f7f; text-decoration-color: #7f7f7f\">203</span></a>\n",
       "<span style=\"color: #7fbfbf; text-decoration-color: #7fbfbf\">                    </span>                                                                                  <span style=\"color: #7f7f7f; text-decoration-color: #7f7f7f\">             </span>\n",
       "<span style=\"color: #7fbfbf; text-decoration-color: #7fbfbf\">                    </span>         task description: <span style=\"color: #008000; text-decoration-color: #008000\">\"\"</span>\"                                                    <span style=\"color: #7f7f7f; text-decoration-color: #7f7f7f\">             </span>\n",
       "<span style=\"color: #7fbfbf; text-decoration-color: #7fbfbf\">                    </span>         a list of non primes in `list_x`                                         <span style=\"color: #7f7f7f; text-decoration-color: #7f7f7f\">             </span>\n",
       "<span style=\"color: #7fbfbf; text-decoration-color: #7fbfbf\">                    </span>         <span style=\"color: #008000; text-decoration-color: #008000\">\"\"</span>\"                                                                      <span style=\"color: #7f7f7f; text-decoration-color: #7f7f7f\">             </span>\n",
       "<span style=\"color: #7fbfbf; text-decoration-color: #7fbfbf\">                    </span>         environment: new python interpreter                                      <span style=\"color: #7f7f7f; text-decoration-color: #7f7f7f\">             </span>\n",
       "<span style=\"color: #7fbfbf; text-decoration-color: #7fbfbf\">                    </span>         global variables:                                                        <span style=\"color: #7f7f7f; text-decoration-color: #7f7f7f\">             </span>\n",
       "<span style=\"color: #7fbfbf; text-decoration-color: #7fbfbf\">                    </span>         - list_x                                                                 <span style=\"color: #7f7f7f; text-decoration-color: #7f7f7f\">             </span>\n",
       "<span style=\"color: #7fbfbf; text-decoration-color: #7fbfbf\">                    </span>             - type: list                                                         <span style=\"color: #7f7f7f; text-decoration-color: #7f7f7f\">             </span>\n",
       "<span style=\"color: #7fbfbf; text-decoration-color: #7fbfbf\">                    </span>                                                                                  <span style=\"color: #7f7f7f; text-decoration-color: #7f7f7f\">             </span>\n",
       "</pre>\n"
      ],
      "text/plain": [
       "\u001b[2;36m[05/24/23 01:21:48]\u001b[0m\u001b[2;36m \u001b[0m\u001b[34mINFO    \u001b[0m ===\u001b[33muser\u001b[0m===                                                               \u001b]8;id=60902;file:///Users/stanb/src/aiknows/aiknows/prompt/prompt.py\u001b\\\u001b[2mprompt.py\u001b[0m\u001b]8;;\u001b\\\u001b[2m:\u001b[0m\u001b]8;id=580387;file:///Users/stanb/src/aiknows/aiknows/prompt/prompt.py#203\u001b\\\u001b[2m203\u001b[0m\u001b]8;;\u001b\\\n",
       "\u001b[2;36m                    \u001b[0m                                                                                  \u001b[2m             \u001b[0m\n",
       "\u001b[2;36m                    \u001b[0m         task description: \u001b[32m\"\"\u001b[0m\"                                                    \u001b[2m             \u001b[0m\n",
       "\u001b[2;36m                    \u001b[0m         a list of non primes in `list_x`                                         \u001b[2m             \u001b[0m\n",
       "\u001b[2;36m                    \u001b[0m         \u001b[32m\"\"\u001b[0m\"                                                                      \u001b[2m             \u001b[0m\n",
       "\u001b[2;36m                    \u001b[0m         environment: new python interpreter                                      \u001b[2m             \u001b[0m\n",
       "\u001b[2;36m                    \u001b[0m         global variables:                                                        \u001b[2m             \u001b[0m\n",
       "\u001b[2;36m                    \u001b[0m         - list_x                                                                 \u001b[2m             \u001b[0m\n",
       "\u001b[2;36m                    \u001b[0m             - type: list                                                         \u001b[2m             \u001b[0m\n",
       "\u001b[2;36m                    \u001b[0m                                                                                  \u001b[2m             \u001b[0m\n"
      ]
     },
     "metadata": {},
     "output_type": "display_data"
    },
    {
     "data": {
      "text/html": [
       "<pre style=\"white-space:pre;overflow-x:auto;line-height:normal;font-family:Menlo,'DejaVu Sans Mono',consolas,'Courier New',monospace\"><span style=\"color: #7fbfbf; text-decoration-color: #7fbfbf\">                    </span><span style=\"color: #000080; text-decoration-color: #000080\">INFO    </span> cache miss on emb                                                            <a href=\"file:///Users/stanb/src/aiknows/aiknows/llm.py\" target=\"_blank\"><span style=\"color: #7f7f7f; text-decoration-color: #7f7f7f\">llm.py</span></a><span style=\"color: #7f7f7f; text-decoration-color: #7f7f7f\">:</span><a href=\"file:///Users/stanb/src/aiknows/aiknows/llm.py#95\" target=\"_blank\"><span style=\"color: #7f7f7f; text-decoration-color: #7f7f7f\">95</span></a>\n",
       "</pre>\n"
      ],
      "text/plain": [
       "\u001b[2;36m                   \u001b[0m\u001b[2;36m \u001b[0m\u001b[34mINFO    \u001b[0m cache miss on emb                                                            \u001b]8;id=483646;file:///Users/stanb/src/aiknows/aiknows/llm.py\u001b\\\u001b[2mllm.py\u001b[0m\u001b]8;;\u001b\\\u001b[2m:\u001b[0m\u001b]8;id=505648;file:///Users/stanb/src/aiknows/aiknows/llm.py#95\u001b\\\u001b[2m95\u001b[0m\u001b]8;;\u001b\\\n"
      ]
     },
     "metadata": {},
     "output_type": "display_data"
    },
    {
     "data": {
      "text/html": [
       "<pre style=\"white-space:pre;overflow-x:auto;line-height:normal;font-family:Menlo,'DejaVu Sans Mono',consolas,'Courier New',monospace\"><span style=\"color: #7fbfbf; text-decoration-color: #7fbfbf\">[05/24/23 01:21:49] </span><span style=\"color: #000080; text-decoration-color: #000080\">INFO    </span> cache miss on generating code                                                <a href=\"file:///Users/stanb/src/aiknows/aiknows/llm.py\" target=\"_blank\"><span style=\"color: #7f7f7f; text-decoration-color: #7f7f7f\">llm.py</span></a><span style=\"color: #7f7f7f; text-decoration-color: #7f7f7f\">:</span><a href=\"file:///Users/stanb/src/aiknows/aiknows/llm.py#24\" target=\"_blank\"><span style=\"color: #7f7f7f; text-decoration-color: #7f7f7f\">24</span></a>\n",
       "</pre>\n"
      ],
      "text/plain": [
       "\u001b[2;36m[05/24/23 01:21:49]\u001b[0m\u001b[2;36m \u001b[0m\u001b[34mINFO    \u001b[0m cache miss on generating code                                                \u001b]8;id=663898;file:///Users/stanb/src/aiknows/aiknows/llm.py\u001b\\\u001b[2mllm.py\u001b[0m\u001b]8;;\u001b\\\u001b[2m:\u001b[0m\u001b]8;id=630905;file:///Users/stanb/src/aiknows/aiknows/llm.py#24\u001b\\\u001b[2m24\u001b[0m\u001b]8;;\u001b\\\n"
      ]
     },
     "metadata": {},
     "output_type": "display_data"
    },
    {
     "data": {
      "text/html": [
       "<pre style=\"white-space:pre;overflow-x:auto;line-height:normal;font-family:Menlo,'DejaVu Sans Mono',consolas,'Courier New',monospace\"><span style=\"color: #7fbfbf; text-decoration-color: #7fbfbf\">                    </span><span style=\"color: #000080; text-decoration-color: #000080\">INFO    </span> len prompt messages: <span style=\"color: #008080; text-decoration-color: #008080; font-weight: bold\">36</span>                                                      <a href=\"file:///Users/stanb/src/aiknows/aiknows/llm.py\" target=\"_blank\"><span style=\"color: #7f7f7f; text-decoration-color: #7f7f7f\">llm.py</span></a><span style=\"color: #7f7f7f; text-decoration-color: #7f7f7f\">:</span><a href=\"file:///Users/stanb/src/aiknows/aiknows/llm.py#28\" target=\"_blank\"><span style=\"color: #7f7f7f; text-decoration-color: #7f7f7f\">28</span></a>\n",
       "</pre>\n"
      ],
      "text/plain": [
       "\u001b[2;36m                   \u001b[0m\u001b[2;36m \u001b[0m\u001b[34mINFO    \u001b[0m len prompt messages: \u001b[1;36m36\u001b[0m                                                      \u001b]8;id=827571;file:///Users/stanb/src/aiknows/aiknows/llm.py\u001b\\\u001b[2mllm.py\u001b[0m\u001b]8;;\u001b\\\u001b[2m:\u001b[0m\u001b]8;id=399030;file:///Users/stanb/src/aiknows/aiknows/llm.py#28\u001b\\\u001b[2m28\u001b[0m\u001b]8;;\u001b\\\n"
      ]
     },
     "metadata": {},
     "output_type": "display_data"
    },
    {
     "data": {
      "text/html": [
       "<pre style=\"white-space:pre;overflow-x:auto;line-height:normal;font-family:Menlo,'DejaVu Sans Mono',consolas,'Courier New',monospace\"><span style=\"color: #7fbfbf; text-decoration-color: #7fbfbf\">[05/24/23 01:22:11] </span><span style=\"color: #000080; text-decoration-color: #000080\">INFO    </span> real prompt token length: <span style=\"color: #008080; text-decoration-color: #008080; font-weight: bold\">2095</span>                                               <a href=\"file:///Users/stanb/src/aiknows/aiknows/llm.py\" target=\"_blank\"><span style=\"color: #7f7f7f; text-decoration-color: #7f7f7f\">llm.py</span></a><span style=\"color: #7f7f7f; text-decoration-color: #7f7f7f\">:</span><a href=\"file:///Users/stanb/src/aiknows/aiknows/llm.py#36\" target=\"_blank\"><span style=\"color: #7f7f7f; text-decoration-color: #7f7f7f\">36</span></a>\n",
       "</pre>\n"
      ],
      "text/plain": [
       "\u001b[2;36m[05/24/23 01:22:11]\u001b[0m\u001b[2;36m \u001b[0m\u001b[34mINFO    \u001b[0m real prompt token length: \u001b[1;36m2095\u001b[0m                                               \u001b]8;id=400537;file:///Users/stanb/src/aiknows/aiknows/llm.py\u001b\\\u001b[2mllm.py\u001b[0m\u001b]8;;\u001b\\\u001b[2m:\u001b[0m\u001b]8;id=964737;file:///Users/stanb/src/aiknows/aiknows/llm.py#36\u001b\\\u001b[2m36\u001b[0m\u001b]8;;\u001b\\\n"
      ]
     },
     "metadata": {},
     "output_type": "display_data"
    },
    {
     "data": {
      "text/html": [
       "<pre style=\"white-space:pre;overflow-x:auto;line-height:normal;font-family:Menlo,'DejaVu Sans Mono',consolas,'Courier New',monospace\"><span style=\"color: #7fbfbf; text-decoration-color: #7fbfbf\">                    </span><span style=\"color: #000080; text-decoration-color: #000080\">INFO    </span> ===<span style=\"color: #808000; text-decoration-color: #808000\">assistant</span>===                                                          <a href=\"file:///Users/stanb/src/aiknows/aiknows/prompt/prompt.py\" target=\"_blank\"><span style=\"color: #7f7f7f; text-decoration-color: #7f7f7f\">prompt.py</span></a><span style=\"color: #7f7f7f; text-decoration-color: #7f7f7f\">:</span><a href=\"file:///Users/stanb/src/aiknows/aiknows/prompt/prompt.py#203\" target=\"_blank\"><span style=\"color: #7f7f7f; text-decoration-color: #7f7f7f\">203</span></a>\n",
       "<span style=\"color: #7fbfbf; text-decoration-color: #7fbfbf\">                    </span>                                                                                  <span style=\"color: #7f7f7f; text-decoration-color: #7f7f7f\">             </span>\n",
       "<span style=\"color: #7fbfbf; text-decoration-color: #7fbfbf\">                    </span>         ```python                                                                <span style=\"color: #7f7f7f; text-decoration-color: #7f7f7f\">             </span>\n",
       "<span style=\"color: #7fbfbf; text-decoration-color: #7fbfbf\">                    </span>         # no function is mentioned in the task, so we assume user wants a list   <span style=\"color: #7f7f7f; text-decoration-color: #7f7f7f\">             </span>\n",
       "<span style=\"color: #7fbfbf; text-decoration-color: #7fbfbf\">                    </span>         of non-prime numbers                                                     <span style=\"color: #7f7f7f; text-decoration-color: #7f7f7f\">             </span>\n",
       "<span style=\"color: #7fbfbf; text-decoration-color: #7fbfbf\">                    </span>         # we can use the Sieve of Eratosthenes algorithm to find all primes up   <span style=\"color: #7f7f7f; text-decoration-color: #7f7f7f\">             </span>\n",
       "<span style=\"color: #7fbfbf; text-decoration-color: #7fbfbf\">                    </span>         to a certain limit                                                       <span style=\"color: #7f7f7f; text-decoration-color: #7f7f7f\">             </span>\n",
       "<span style=\"color: #7fbfbf; text-decoration-color: #7fbfbf\">                    </span>         # then we can subtract the primes from the original list to get the      <span style=\"color: #7f7f7f; text-decoration-color: #7f7f7f\">             </span>\n",
       "<span style=\"color: #7fbfbf; text-decoration-color: #7fbfbf\">                    </span>         non-primes                                                               <span style=\"color: #7f7f7f; text-decoration-color: #7f7f7f\">             </span>\n",
       "<span style=\"color: #7fbfbf; text-decoration-color: #7fbfbf\">                    </span>         def <span style=\"color: #800080; text-decoration-color: #800080; font-weight: bold\">sieve_of_eratosthenes</span><span style=\"font-weight: bold\">(</span>n<span style=\"font-weight: bold\">)</span>:                                            <span style=\"color: #7f7f7f; text-decoration-color: #7f7f7f\">             </span>\n",
       "<span style=\"color: #7fbfbf; text-decoration-color: #7fbfbf\">                    </span>             primes = <span style=\"font-weight: bold\">[</span><span style=\"color: #00ff00; text-decoration-color: #00ff00; font-style: italic\">True</span><span style=\"font-weight: bold\">]</span> * <span style=\"font-weight: bold\">(</span>n + <span style=\"color: #008080; text-decoration-color: #008080; font-weight: bold\">1</span><span style=\"font-weight: bold\">)</span>                                            <span style=\"color: #7f7f7f; text-decoration-color: #7f7f7f\">             </span>\n",
       "<span style=\"color: #7fbfbf; text-decoration-color: #7fbfbf\">                    </span>             primes<span style=\"font-weight: bold\">[</span><span style=\"color: #008080; text-decoration-color: #008080; font-weight: bold\">0</span><span style=\"font-weight: bold\">]</span> = primes<span style=\"font-weight: bold\">[</span><span style=\"color: #008080; text-decoration-color: #008080; font-weight: bold\">1</span><span style=\"font-weight: bold\">]</span> = <span style=\"color: #ff0000; text-decoration-color: #ff0000; font-style: italic\">False</span>                                        <span style=\"color: #7f7f7f; text-decoration-color: #7f7f7f\">             </span>\n",
       "<span style=\"color: #7fbfbf; text-decoration-color: #7fbfbf\">                    </span>             for i in <span style=\"color: #800080; text-decoration-color: #800080; font-weight: bold\">range</span><span style=\"font-weight: bold\">(</span><span style=\"color: #008080; text-decoration-color: #008080; font-weight: bold\">2</span>, <span style=\"color: #800080; text-decoration-color: #800080; font-weight: bold\">int</span><span style=\"font-weight: bold\">(</span>n ** <span style=\"color: #008080; text-decoration-color: #008080; font-weight: bold\">0.5</span><span style=\"font-weight: bold\">)</span> + <span style=\"color: #008080; text-decoration-color: #008080; font-weight: bold\">1</span><span style=\"font-weight: bold\">)</span>:                                <span style=\"color: #7f7f7f; text-decoration-color: #7f7f7f\">             </span>\n",
       "<span style=\"color: #7fbfbf; text-decoration-color: #7fbfbf\">                    </span>                 if primes<span style=\"font-weight: bold\">[</span>i<span style=\"font-weight: bold\">]</span>:                                                    <span style=\"color: #7f7f7f; text-decoration-color: #7f7f7f\">             </span>\n",
       "<span style=\"color: #7fbfbf; text-decoration-color: #7fbfbf\">                    </span>                     for j in <span style=\"color: #800080; text-decoration-color: #800080; font-weight: bold\">range</span><span style=\"font-weight: bold\">(</span>i ** <span style=\"color: #008080; text-decoration-color: #008080; font-weight: bold\">2</span>, n + <span style=\"color: #008080; text-decoration-color: #008080; font-weight: bold\">1</span>, i<span style=\"font-weight: bold\">)</span>:                            <span style=\"color: #7f7f7f; text-decoration-color: #7f7f7f\">             </span>\n",
       "<span style=\"color: #7fbfbf; text-decoration-color: #7fbfbf\">                    </span>                         primes<span style=\"font-weight: bold\">[</span>j<span style=\"font-weight: bold\">]</span> = <span style=\"color: #ff0000; text-decoration-color: #ff0000; font-style: italic\">False</span>                                        <span style=\"color: #7f7f7f; text-decoration-color: #7f7f7f\">             </span>\n",
       "<span style=\"color: #7fbfbf; text-decoration-color: #7fbfbf\">                    </span>             return primes                                                        <span style=\"color: #7f7f7f; text-decoration-color: #7f7f7f\">             </span>\n",
       "<span style=\"color: #7fbfbf; text-decoration-color: #7fbfbf\">                    </span>                                                                                  <span style=\"color: #7f7f7f; text-decoration-color: #7f7f7f\">             </span>\n",
       "<span style=\"color: #7fbfbf; text-decoration-color: #7fbfbf\">                    </span>         def <span style=\"color: #800080; text-decoration-color: #800080; font-weight: bold\">non_primes</span><span style=\"font-weight: bold\">(</span>numbers<span style=\"font-weight: bold\">)</span>:                                                 <span style=\"color: #7f7f7f; text-decoration-color: #7f7f7f\">             </span>\n",
       "<span style=\"color: #7fbfbf; text-decoration-color: #7fbfbf\">                    </span>             primes = <span style=\"color: #800080; text-decoration-color: #800080; font-weight: bold\">sieve_of_eratosthenes</span><span style=\"font-weight: bold\">(</span><span style=\"color: #800080; text-decoration-color: #800080; font-weight: bold\">max</span><span style=\"font-weight: bold\">(</span>numbers<span style=\"font-weight: bold\">))</span>                         <span style=\"color: #7f7f7f; text-decoration-color: #7f7f7f\">             </span>\n",
       "<span style=\"color: #7fbfbf; text-decoration-color: #7fbfbf\">                    </span>             return <span style=\"font-weight: bold\">[</span>number for number in numbers if not primes<span style=\"font-weight: bold\">[</span>number<span style=\"font-weight: bold\">]]</span>          <span style=\"color: #7f7f7f; text-decoration-color: #7f7f7f\">             </span>\n",
       "<span style=\"color: #7fbfbf; text-decoration-color: #7fbfbf\">                    </span>                                                                                  <span style=\"color: #7f7f7f; text-decoration-color: #7f7f7f\">             </span>\n",
       "<span style=\"color: #7fbfbf; text-decoration-color: #7fbfbf\">                    </span>         result = <span style=\"color: #800080; text-decoration-color: #800080; font-weight: bold\">non_primes</span><span style=\"font-weight: bold\">(</span>list_x<span style=\"font-weight: bold\">)</span>                                              <span style=\"color: #7f7f7f; text-decoration-color: #7f7f7f\">             </span>\n",
       "<span style=\"color: #7fbfbf; text-decoration-color: #7fbfbf\">                    </span>         <span style=\"color: #800080; text-decoration-color: #800080; font-weight: bold\">finish_task_ok</span><span style=\"font-weight: bold\">(</span>result<span style=\"font-weight: bold\">)</span>;                                                  <span style=\"color: #7f7f7f; text-decoration-color: #7f7f7f\">             </span>\n",
       "<span style=\"color: #7fbfbf; text-decoration-color: #7fbfbf\">                    </span>         ```                                                                      <span style=\"color: #7f7f7f; text-decoration-color: #7f7f7f\">             </span>\n",
       "<span style=\"color: #7fbfbf; text-decoration-color: #7fbfbf\">                    </span>                                                                                  <span style=\"color: #7f7f7f; text-decoration-color: #7f7f7f\">             </span>\n",
       "</pre>\n"
      ],
      "text/plain": [
       "\u001b[2;36m                   \u001b[0m\u001b[2;36m \u001b[0m\u001b[34mINFO    \u001b[0m ===\u001b[33massistant\u001b[0m===                                                          \u001b]8;id=640219;file:///Users/stanb/src/aiknows/aiknows/prompt/prompt.py\u001b\\\u001b[2mprompt.py\u001b[0m\u001b]8;;\u001b\\\u001b[2m:\u001b[0m\u001b]8;id=76663;file:///Users/stanb/src/aiknows/aiknows/prompt/prompt.py#203\u001b\\\u001b[2m203\u001b[0m\u001b]8;;\u001b\\\n",
       "\u001b[2;36m                    \u001b[0m                                                                                  \u001b[2m             \u001b[0m\n",
       "\u001b[2;36m                    \u001b[0m         ```python                                                                \u001b[2m             \u001b[0m\n",
       "\u001b[2;36m                    \u001b[0m         # no function is mentioned in the task, so we assume user wants a list   \u001b[2m             \u001b[0m\n",
       "\u001b[2;36m                    \u001b[0m         of non-prime numbers                                                     \u001b[2m             \u001b[0m\n",
       "\u001b[2;36m                    \u001b[0m         # we can use the Sieve of Eratosthenes algorithm to find all primes up   \u001b[2m             \u001b[0m\n",
       "\u001b[2;36m                    \u001b[0m         to a certain limit                                                       \u001b[2m             \u001b[0m\n",
       "\u001b[2;36m                    \u001b[0m         # then we can subtract the primes from the original list to get the      \u001b[2m             \u001b[0m\n",
       "\u001b[2;36m                    \u001b[0m         non-primes                                                               \u001b[2m             \u001b[0m\n",
       "\u001b[2;36m                    \u001b[0m         def \u001b[1;35msieve_of_eratosthenes\u001b[0m\u001b[1m(\u001b[0mn\u001b[1m)\u001b[0m:                                            \u001b[2m             \u001b[0m\n",
       "\u001b[2;36m                    \u001b[0m             primes = \u001b[1m[\u001b[0m\u001b[3;92mTrue\u001b[0m\u001b[1m]\u001b[0m * \u001b[1m(\u001b[0mn + \u001b[1;36m1\u001b[0m\u001b[1m)\u001b[0m                                            \u001b[2m             \u001b[0m\n",
       "\u001b[2;36m                    \u001b[0m             primes\u001b[1m[\u001b[0m\u001b[1;36m0\u001b[0m\u001b[1m]\u001b[0m = primes\u001b[1m[\u001b[0m\u001b[1;36m1\u001b[0m\u001b[1m]\u001b[0m = \u001b[3;91mFalse\u001b[0m                                        \u001b[2m             \u001b[0m\n",
       "\u001b[2;36m                    \u001b[0m             for i in \u001b[1;35mrange\u001b[0m\u001b[1m(\u001b[0m\u001b[1;36m2\u001b[0m, \u001b[1;35mint\u001b[0m\u001b[1m(\u001b[0mn ** \u001b[1;36m0.5\u001b[0m\u001b[1m)\u001b[0m + \u001b[1;36m1\u001b[0m\u001b[1m)\u001b[0m:                                \u001b[2m             \u001b[0m\n",
       "\u001b[2;36m                    \u001b[0m                 if primes\u001b[1m[\u001b[0mi\u001b[1m]\u001b[0m:                                                    \u001b[2m             \u001b[0m\n",
       "\u001b[2;36m                    \u001b[0m                     for j in \u001b[1;35mrange\u001b[0m\u001b[1m(\u001b[0mi ** \u001b[1;36m2\u001b[0m, n + \u001b[1;36m1\u001b[0m, i\u001b[1m)\u001b[0m:                            \u001b[2m             \u001b[0m\n",
       "\u001b[2;36m                    \u001b[0m                         primes\u001b[1m[\u001b[0mj\u001b[1m]\u001b[0m = \u001b[3;91mFalse\u001b[0m                                        \u001b[2m             \u001b[0m\n",
       "\u001b[2;36m                    \u001b[0m             return primes                                                        \u001b[2m             \u001b[0m\n",
       "\u001b[2;36m                    \u001b[0m                                                                                  \u001b[2m             \u001b[0m\n",
       "\u001b[2;36m                    \u001b[0m         def \u001b[1;35mnon_primes\u001b[0m\u001b[1m(\u001b[0mnumbers\u001b[1m)\u001b[0m:                                                 \u001b[2m             \u001b[0m\n",
       "\u001b[2;36m                    \u001b[0m             primes = \u001b[1;35msieve_of_eratosthenes\u001b[0m\u001b[1m(\u001b[0m\u001b[1;35mmax\u001b[0m\u001b[1m(\u001b[0mnumbers\u001b[1m)\u001b[0m\u001b[1m)\u001b[0m                         \u001b[2m             \u001b[0m\n",
       "\u001b[2;36m                    \u001b[0m             return \u001b[1m[\u001b[0mnumber for number in numbers if not primes\u001b[1m[\u001b[0mnumber\u001b[1m]\u001b[0m\u001b[1m]\u001b[0m          \u001b[2m             \u001b[0m\n",
       "\u001b[2;36m                    \u001b[0m                                                                                  \u001b[2m             \u001b[0m\n",
       "\u001b[2;36m                    \u001b[0m         result = \u001b[1;35mnon_primes\u001b[0m\u001b[1m(\u001b[0mlist_x\u001b[1m)\u001b[0m                                              \u001b[2m             \u001b[0m\n",
       "\u001b[2;36m                    \u001b[0m         \u001b[1;35mfinish_task_ok\u001b[0m\u001b[1m(\u001b[0mresult\u001b[1m)\u001b[0m;                                                  \u001b[2m             \u001b[0m\n",
       "\u001b[2;36m                    \u001b[0m         ```                                                                      \u001b[2m             \u001b[0m\n",
       "\u001b[2;36m                    \u001b[0m                                                                                  \u001b[2m             \u001b[0m\n"
      ]
     },
     "metadata": {},
     "output_type": "display_data"
    },
    {
     "data": {
      "text/plain": [
       "[4, 6, 8, 9]"
      ]
     },
     "execution_count": 4,
     "metadata": {},
     "output_type": "execute_result"
    }
   ],
   "source": [
    "list_x = [2, 3, 4, 5, 6, 7, 8, 9]\n",
    "ai('a list of non primes in `list_x`', list_x=list_x)"
   ]
  },
  {
   "cell_type": "code",
   "execution_count": 27,
   "metadata": {},
   "outputs": [
    {
     "name": "stderr",
     "output_type": "stream",
     "text": [
      "INFO:aiknows.prompt.prompt:===user===\n",
      "\n",
      "task description: \"\"\"\n",
      "make a function decorator that caches the result of a function call up to 8MB\n",
      "\"\"\"\n",
      "environment: new python interpreter\n",
      "global variables: <empty>\n",
      "\n",
      "INFO:aiknows.llm:cache miss on generating code\n",
      "INFO:aiknows.llm:len prompt messages: 42\n",
      "INFO:aiknows.llm:real prompt token length: 2140\n",
      "INFO:aiknows.prompt.prompt:===assistant===\n",
      "\n",
      "```python\n",
      "import functools\n",
      "\n",
      "def cache_result(max_size=8):\n",
      "    def decorator(func):\n",
      "        @functools.lru_cache(maxsize=max_size)\n",
      "        def wrapper(*args, **kwargs):\n",
      "            return func(*args, **kwargs)\n",
      "        return wrapper\n",
      "    return decorator\n",
      "\n",
      "finish_task_ok(cache_result);\n",
      "```\n",
      "\n"
     ]
    },
    {
     "data": {
      "text/plain": [
       "<function cache_result(max_size=8)>"
      ]
     },
     "execution_count": 27,
     "metadata": {},
     "output_type": "execute_result"
    }
   ],
   "source": [
    "ai('make a function decorator that caches the result of a function call up to 8MB')"
   ]
  },
  {
   "cell_type": "code",
   "execution_count": 23,
   "metadata": {},
   "outputs": [
    {
     "name": "stderr",
     "output_type": "stream",
     "text": [
      "INFO:aiknows.prompt.prompt:===user===\n",
      "\n",
      "task description: \"\"\"\n",
      "return the two most distant cities in df\n",
      "\"\"\"\n",
      "environment: new python interpreter\n",
      "global variables: \n",
      "- df\n",
      "    - type: pandas.core.frame.DataFrame\n",
      "    - shape: (128, 10)\n",
      "    - columns: ['LatD', 'LatM', 'LatS', 'NS', 'LonD', 'LonM', 'LonS', 'EW', 'City', 'State']\n",
      "    - dtypes: ['int64', 'int64', 'int64', 'object', 'int64', 'int64', 'int64', 'object', 'object', 'object']\n",
      "\n",
      "INFO:aiknows.prompt.prompt:===assistant===\n",
      "\n",
      "```python\n",
      "# task description mentions 'df' which is a pandas dataframe\n",
      "# we can calculate the distance between each pair of cities and return the two most distant ones\n",
      "from geopy.distance import geodesic\n",
      "from itertools import combinations\n",
      "\n",
      "def distance(city1, city2):\n",
      "    return geodesic((city1['LatD'], city1['LatM'], city1['LatS']), (city2['LatD'], city2['LatM'], city2['LatS'])).km\n",
      "\n",
      "def most_distant_cities(df):\n",
      "    cities = df[['City', 'LatD', 'LatM', 'LatS']]\n",
      "    pairs = combinations(cities.itertuples(), 2)\n",
      "    distances = [(city1.City, city2.City, distance(city1, city2)) for city1, city2 in pairs]\n",
      "    return sorted(distances, key=lambda x: x[2], reverse=True)[:2]\n",
      "\n",
      "finish_task_ok(most_distant_cities(df));\n",
      "```\n",
      "\n",
      "INFO:aiknows.prompt.prompt:===user===\n",
      "\n",
      "error: \"\"\"\n",
      "File \"<assistant>\", line 3, in <module>\n",
      "  from geopy.distance import geodesic\n",
      "ModuleNotFoundError: No module named 'geopy'\n",
      "\"\"\"\n",
      "hint: \"\"\"\n",
      "try to use python standard library and installed pip packages\n",
      "approach problem differently\n",
      "do no attempt installing packages\n",
      "\"\"\"\n",
      "\n",
      "INFO:aiknows.llm:cache miss on generating code\n",
      "INFO:aiknows.llm:len prompt messages: 40\n",
      "INFO:aiknows.llm:real prompt token length: 2756\n",
      "INFO:aiknows.prompt.prompt:===assistant===\n",
      "\n",
      "```python\n",
      "# geopy package is not installed, so we can't use it\n",
      "# we can use the Haversine formula to calculate the distance between two points on the Earth's surface\n",
      "# we can use the latitude and longitude of each city to calculate the distance\n",
      "from math import radians, sin, cos, sqrt, atan2\n",
      "\n",
      "def distance(city1, city2):\n",
      "    R = 6373.0 # approximate radius of Earth in km\n",
      "\n",
      "    lat1 = radians(city1['LatD'] + city1['LatM']/60 + city1['LatS']/3600)\n",
      "    lon1 = radians(city1['LonD'] + city1['LonM']/60 + city1['LonS']/3600)\n",
      "    lat2 = radians(city2['LatD'] + city2['LatM']/60 + city2['LatS']/3600)\n",
      "    lon2 = radians(city2['LonD'] + city2['LonM']/60 + city2['LonS']/3600)\n",
      "\n",
      "    dlon = lon2 - lon1\n",
      "    dlat = lat2 - lat1\n",
      "\n",
      "    a = sin(dlat / 2)**2 + cos(lat1) * cos(lat2) * sin(dlon / 2)**2\n",
      "    c = 2 * atan2(sqrt(a), sqrt(1 - a))\n",
      "\n",
      "    return R * c\n",
      "\n",
      "def most_distant_cities(df):\n",
      "    cities = df[['City', 'LatD', 'LatM', 'LatS', 'LonD', 'LonM', 'LonS']]\n",
      "    pairs = combinations(cities.itertuples(), 2)\n",
      "    distances = [(city1.City, city2.City, distance(city1, city2)) for city1, city2 in pairs]\n",
      "    return sorted(distances, key=lambda x: x[2], reverse=True)[:2]\n",
      "\n",
      "finish_task_ok(most_distant_cities(df));\n",
      "```\n",
      "\n",
      "INFO:aiknows.prompt.prompt:===user===\n",
      "\n",
      "error: \"\"\"\n",
      "File \"<assistant>\", line 24, in most_distant_cities\n",
      "  pairs = combinations(cities.itertuples(), 2)\n",
      "NameError: name 'combinations' is not defined\n",
      "\"\"\"\n",
      "\n",
      "INFO:aiknows.llm:cache miss on generating code\n",
      "INFO:aiknows.llm:len prompt messages: 42\n",
      "INFO:aiknows.llm:real prompt token length: 3162\n",
      "INFO:aiknows.prompt.prompt:===assistant===\n",
      "\n",
      "```python\n",
      "# combinations is a function from itertools module\n",
      "# we need to import it before using it\n",
      "from itertools import combinations\n",
      "\n",
      "def distance(city1, city2):\n",
      "    R = 6373.0 # approximate radius of Earth in km\n",
      "\n",
      "    lat1 = radians(city1['LatD'] + city1['LatM']/60 + city1['LatS']/3600)\n",
      "    lon1 = radians(city1['LonD'] + city1['LonM']/60 + city1['LonS']/3600)\n",
      "    lat2 = radians(city2['LatD'] + city2['LatM']/60 + city2['LatS']/3600)\n",
      "    lon2 = radians(city2['LonD'] + city2['LonM']/60 + city2['LonS']/3600)\n",
      "\n",
      "    dlon = lon2 - lon1\n",
      "    dlat = lat2 - lat1\n",
      "\n",
      "    a = sin(dlat / 2)**2 + cos(lat1) * cos(lat2) * sin(dlon / 2)**2\n",
      "    c = 2 * atan2(sqrt(a), sqrt(1 - a))\n",
      "\n",
      "    return R * c\n",
      "\n",
      "def most_distant_cities(df):\n",
      "    cities = df[['City', 'LatD', 'LatM', 'LatS', 'LonD', 'LonM', 'LonS']]\n",
      "    pairs = combinations(cities.itertuples(), 2)\n",
      "    distances = [(city1.City, city2.City, distance(city1, city2)) for city1, city2 in pairs]\n",
      "    return sorted(distances, key=lambda x: x[2], reverse=True)[:2]\n",
      "\n",
      "finish_task_ok(most_distant_cities(df));\n",
      "```\n",
      "\n",
      "INFO:aiknows.prompt.prompt:===user===\n",
      "\n",
      "error: \"\"\"\n",
      "File \"<assistant>\", line 8, in distance\n",
      "  lat1 = radians(city1['LatD'] + city1['LatM']/60 + city1['LatS']/3600)\n",
      "TypeError: tuple indices must be integers or slices, not str\n",
      "\"\"\"\n",
      "\n",
      "INFO:aiknows.llm:cache miss on generating code\n",
      "INFO:aiknows.llm:len prompt messages: 44\n",
      "INFO:aiknows.llm:real prompt token length: 3575\n",
      "INFO:aiknows.prompt.prompt:===assistant===\n",
      "\n",
      "```python\n",
      "# itertuples returns a named tuple, so we need to use the attribute names instead of column names\n",
      "def distance(city1, city2):\n",
      "    R = 6373.0 # approximate radius of Earth in km\n",
      "\n",
      "    lat1 = radians(city1.LatD + city1.LatM/60 + city1.LatS/3600)\n",
      "    lon1 = radians(city1.LonD + city1.LonM/60 + city1.LonS/3600)\n",
      "    lat2 = radians(city2.LatD + city2.LatM/60 + city2.LatS/3600)\n",
      "    lon2 = radians(city2.LonD + city2.LonM/60 + city2.LonS/3600)\n",
      "\n",
      "    dlon = lon2 - lon1\n",
      "    dlat = lat2 - lat1\n",
      "\n",
      "    a = sin(dlat / 2)**2 + cos(lat1) * cos(lat2) * sin(dlon / 2)**2\n",
      "    c = 2 * atan2(sqrt(a), sqrt(1 - a))\n",
      "\n",
      "    return R * c\n",
      "\n",
      "def most_distant_cities(df):\n",
      "    cities = df[['City', 'LatD', 'LatM', 'LatS', 'LonD', 'LonM', 'LonS']]\n",
      "    pairs = combinations(cities.itertuples(), 2)\n",
      "    distances = [(city1.City, city2.City, distance(city1, city2)) for city1, city2 in pairs]\n",
      "    return sorted(distances, key=lambda x: x[2], reverse=True)[:2]\n",
      "\n",
      "finish_task_ok(most_distant_cities(df));\n",
      "```\n",
      "\n"
     ]
    },
    {
     "data": {
      "text/plain": [
       "[(' \"West Palm Beach\"', ' \"Vancouver\"', 4444.822691229526),\n",
       " (' \"West Palm Beach\"', ' \"Seattle\"', 4332.857960057672)]"
      ]
     },
     "execution_count": 23,
     "metadata": {},
     "output_type": "execute_result"
    }
   ],
   "source": [
    "r, sess = ai('return the two most distant cities in df', df=df, save_session=True)\n",
    "# r = sess.ai('implement haversine distance function, no need to use geopy')\n",
    "# r = sess.ai('strip all unnecessary symbols like spaces and \\'\\\" from previous result')\n",
    "# assert set(r) == {'West Palm Beach', 'Vancouver'}\n",
    "r"
   ]
  }
 ],
 "metadata": {
  "kernelspec": {
   "display_name": "aiknows",
   "language": "python",
   "name": "python3"
  },
  "language_info": {
   "codemirror_mode": {
    "name": "ipython",
    "version": 3
   },
   "file_extension": ".py",
   "mimetype": "text/x-python",
   "name": "python",
   "nbconvert_exporter": "python",
   "pygments_lexer": "ipython3",
   "version": "3.8.16"
  }
 },
 "nbformat": 4,
 "nbformat_minor": 2
}
