{
 "cells": [
  {
   "cell_type": "code",
   "execution_count": 96,
   "metadata": {},
   "outputs": [],
   "source": [
    "%reload_ext autoreload\n",
    "%autoreload 2\n",
    "\n",
    "import logging\n",
    "logging.getLogger().setLevel(logging.INFO)"
   ]
  },
  {
   "cell_type": "code",
   "execution_count": 2,
   "metadata": {},
   "outputs": [],
   "source": [
    "from askai import ai"
   ]
  },
  {
   "cell_type": "code",
   "execution_count": 3,
   "metadata": {},
   "outputs": [],
   "source": [
    "from askai import prompt"
   ]
  },
  {
   "cell_type": "code",
   "execution_count": 13,
   "metadata": {},
   "outputs": [
    {
     "data": {
      "text/plain": [
       "[{'role': 'system',\n",
       "  'content': 'You are a helpful assistant that solves user\\'s task given in natural language with arguments by returning a snippet of python3.8 compatible code.\\n- Only put code snippet in reponse which starts with \"```python\" and ends with \"```\".\\n- Last line containes assignment of task\\'s result to a \"result\" variable.\\n- You are forbidden to use inline constants in your code snippet unless strictly required by task description. Use can use either user\\'s arguments or return a function.\\n- Some (zero or more) arguments are provided for you to reference in your code snippet response as global variables. Names of these variables are given in \"ARGS: {comma separated names list}\".\\n- For each such argument text explanation is given, which contains type info and other useful information that you can use. Explanation is given in the list \"- {name}: \"\"\"{description}\"\"\"\".\\n- If some argument is missing and is required by task description contextually, put a function that takes that argument as input in result.'},\n",
       " {'role': 'user',\n",
       "  'content': 'TASK: \"\"\"\\nthat package for dataframes manipulation and stuff\\n\"\"\"\\nARGS: '},\n",
       " {'role': 'assistant',\n",
       "  'content': '```python\\nimport pandas as pd\\nresult = pd\\n```'},\n",
       " {'role': 'user',\n",
       "  'content': 'TASK: \"\"\"\\nnumber of seconds in 10 years\\n\"\"\"\\nARGS: '},\n",
       " {'role': 'assistant',\n",
       "  'content': '```python\\nresult = 60 * 60 * 24 * 365 * 10\\n```'},\n",
       " {'role': 'user',\n",
       "  'content': 'TASK: \"\"\"\\nsum of two numbers x and y\\n\"\"\"\\nARGS: x, y\\n- x: \"\"\"\\nobject of type builtins.int\\n\"\"\"\\n- y: \"\"\"\\nobject of type builtins.int\\n\"\"\"'},\n",
       " {'role': 'assistant', 'content': '```python\\nresult = x + y\\n```'},\n",
       " {'role': 'user',\n",
       "  'content': 'TASK: \"\"\"\\nsum of two numbers x and y\\n\"\"\"\\nARGS: x\\n- x: \"\"\"\\nobject of type builtins.int\\n\"\"\"'},\n",
       " {'role': 'assistant',\n",
       "  'content': '```python\\ndef sum(y):\\n    return x + y\\nresult = sum\\n```'},\n",
       " {'role': 'user',\n",
       "  'content': 'TASK: \"\"\"\\nsum of two numbers x and y\\n\"\"\"\\nARGS: y\\n- y: \"\"\"\\nobject of type builtins.int\\n\"\"\"'},\n",
       " {'role': 'assistant',\n",
       "  'content': '```python\\ndef sum(x):\\n    return x + y\\nresult = sum\\n```'},\n",
       " {'role': 'user',\n",
       "  'content': 'TASK: \"\"\"\\nsum of two numbers x and y\\n\"\"\"\\nARGS: '},\n",
       " {'role': 'assistant',\n",
       "  'content': '```python\\ndef sum(x, y):\\n    return x + y\\nresult = sum\\n```'},\n",
       " {'role': 'user',\n",
       "  'content': 'TASK: \"\"\"\\nread file filename.txt\\n\"\"\"\\nARGS: filename\\n- filename: \"\"\"\\nobject of type builtins.str\\n\"\"\"'},\n",
       " {'role': 'assistant',\n",
       "  'content': \"```python\\n# filename is an passed arg so we use it\\nwith open(f'{filename}.txt') as f:\\n    content = f.read()\\nresult = content\\n```\"},\n",
       " {'role': 'user', 'content': 'TASK: \"\"\"\\nread file filename.txt\\n\"\"\"\\nARGS: '},\n",
       " {'role': 'assistant',\n",
       "  'content': \"```python\\n# filename isn't passed as arg but rather hardcoded\\nwith open(f'filename.txt') as f:\\n    content = f.read()\\nresult = content\\n```\"},\n",
       " {'role': 'user',\n",
       "  'content': 'TASK: \"\"\"\\nmake line plot of `a` with specified color\\n\"\"\"\\nARGS: a\\n- a: \"\"\"\\nobject of type numpy.ndarray\\narray of shape (10,) with dtype float64\\n\"\"\"'},\n",
       " {'role': 'assistant',\n",
       "  'content': \"```python\\nimport numpy as np\\nimport matplotlib.pyplot as plt\\n\\n# color isn't provided but mentioned so we made a func\\ndef plot_line(color):\\n    # generate x and y values\\n    # a is provided so we just reference it directly\\n    n = a.shape[0]\\n    x = np.linspace(0, n - 1, num=n)\\n    y = a\\n\\n    # create a line plot using the specified color\\n    fig = plt.figure()\\n    plt.plot(x, y, color=color)\\n\\n    # add known labels and title to the plot\\n    plt.ylabel('a')\\n    plt.title(f'line plot of a with {color} color')\\n\\n    # user don't intend to observe outside effect\\n    plt.close(fig)\\n\\n    return fig\\n\\nresult = plot_line\\n```\"},\n",
       " {'role': 'user',\n",
       "  'content': 'TASK: \"\"\"\\ntest\\n\"\"\"\\nARGS: a, b\\n- a: \"\"\"\\nobject of type builtins.str\\n\"\"\"\\n- b: \"\"\"\\nobject of type builtins.str\\n\"\"\"'}]"
      ]
     },
     "execution_count": 13,
     "metadata": {},
     "output_type": "execute_result"
    }
   ],
   "source": [
    "ms = prompt.make_prompt_messages('test', a='1', b='2')\n",
    "ms"
   ]
  },
  {
   "cell_type": "code",
   "execution_count": 14,
   "metadata": {},
   "outputs": [
    {
     "name": "stdout",
     "output_type": "stream",
     "text": [
      "system\n",
      "\n",
      "You are a helpful assistant that solves user's task given in natural language with arguments by returning a snippet of python3.8 compatible code.\n",
      "- Only put code snippet in reponse which starts with \"```python\" and ends with \"```\".\n",
      "- Last line containes assignment of task's result to a \"result\" variable.\n",
      "- You are forbidden to use inline constants in your code snippet unless strictly required by task description. Use can use either user's arguments or return a function.\n",
      "- Some (zero or more) arguments are provided for you to reference in your code snippet response as global variables. Names of these variables are given in \"ARGS: {comma separated names list}\".\n",
      "- For each such argument text explanation is given, which contains type info and other useful information that you can use. Explanation is given in the list \"- {name}: \"\"\"{description}\"\"\"\".\n",
      "- If some argument is missing and is required by task description contextually, put a function that takes that argument as input in result.\n",
      "\n",
      "user\n",
      "\n",
      "TASK: \"\"\"\n",
      "that package for dataframes manipulation and stuff\n",
      "\"\"\"\n",
      "ARGS: \n",
      "\n",
      "assistant\n",
      "\n",
      "```python\n",
      "import pandas as pd\n",
      "result = pd\n",
      "```\n",
      "\n",
      "user\n",
      "\n",
      "TASK: \"\"\"\n",
      "number of seconds in 10 years\n",
      "\"\"\"\n",
      "ARGS: \n",
      "\n",
      "assistant\n",
      "\n",
      "```python\n",
      "result = 60 * 60 * 24 * 365 * 10\n",
      "```\n",
      "\n",
      "user\n",
      "\n",
      "TASK: \"\"\"\n",
      "sum of two numbers x and y\n",
      "\"\"\"\n",
      "ARGS: x, y\n",
      "- x: \"\"\"\n",
      "object of type builtins.int\n",
      "\"\"\"\n",
      "- y: \"\"\"\n",
      "object of type builtins.int\n",
      "\"\"\"\n",
      "\n",
      "assistant\n",
      "\n",
      "```python\n",
      "result = x + y\n",
      "```\n",
      "\n",
      "user\n",
      "\n",
      "TASK: \"\"\"\n",
      "sum of two numbers x and y\n",
      "\"\"\"\n",
      "ARGS: x\n",
      "- x: \"\"\"\n",
      "object of type builtins.int\n",
      "\"\"\"\n",
      "\n",
      "assistant\n",
      "\n",
      "```python\n",
      "def sum(y):\n",
      "    return x + y\n",
      "result = sum\n",
      "```\n",
      "\n",
      "user\n",
      "\n",
      "TASK: \"\"\"\n",
      "sum of two numbers x and y\n",
      "\"\"\"\n",
      "ARGS: y\n",
      "- y: \"\"\"\n",
      "object of type builtins.int\n",
      "\"\"\"\n",
      "\n",
      "assistant\n",
      "\n",
      "```python\n",
      "def sum(x):\n",
      "    return x + y\n",
      "result = sum\n",
      "```\n",
      "\n",
      "user\n",
      "\n",
      "TASK: \"\"\"\n",
      "sum of two numbers x and y\n",
      "\"\"\"\n",
      "ARGS: \n",
      "\n",
      "assistant\n",
      "\n",
      "```python\n",
      "def sum(x, y):\n",
      "    return x + y\n",
      "result = sum\n",
      "```\n",
      "\n",
      "user\n",
      "\n",
      "TASK: \"\"\"\n",
      "read file filename.txt\n",
      "\"\"\"\n",
      "ARGS: filename\n",
      "- filename: \"\"\"\n",
      "object of type builtins.str\n",
      "\"\"\"\n",
      "\n",
      "assistant\n",
      "\n",
      "```python\n",
      "# filename is an passed arg so we use it\n",
      "with open(f'{filename}.txt') as f:\n",
      "    content = f.read()\n",
      "result = content\n",
      "```\n",
      "\n",
      "user\n",
      "\n",
      "TASK: \"\"\"\n",
      "read file filename.txt\n",
      "\"\"\"\n",
      "ARGS: \n",
      "\n",
      "assistant\n",
      "\n",
      "```python\n",
      "# filename isn't passed as arg but rather hardcoded\n",
      "with open(f'filename.txt') as f:\n",
      "    content = f.read()\n",
      "result = content\n",
      "```\n",
      "\n",
      "user\n",
      "\n",
      "TASK: \"\"\"\n",
      "make line plot of `a` with specified color\n",
      "\"\"\"\n",
      "ARGS: a\n",
      "- a: \"\"\"\n",
      "object of type numpy.ndarray\n",
      "array of shape (10,) with dtype float64\n",
      "\"\"\"\n",
      "\n",
      "assistant\n",
      "\n",
      "```python\n",
      "import numpy as np\n",
      "import matplotlib.pyplot as plt\n",
      "\n",
      "# color isn't provided but mentioned so we made a func\n",
      "def plot_line(color):\n",
      "    # generate x and y values\n",
      "    # a is provided so we just reference it directly\n",
      "    n = a.shape[0]\n",
      "    x = np.linspace(0, n - 1, num=n)\n",
      "    y = a\n",
      "\n",
      "    # create a line plot using the specified color\n",
      "    fig = plt.figure()\n",
      "    plt.plot(x, y, color=color)\n",
      "\n",
      "    # add known labels and title to the plot\n",
      "    plt.ylabel('a')\n",
      "    plt.title(f'line plot of a with {color} color')\n",
      "\n",
      "    # user don't intend to observe outside effect\n",
      "    plt.close(fig)\n",
      "\n",
      "    return fig\n",
      "\n",
      "result = plot_line\n",
      "```\n",
      "\n",
      "user\n",
      "\n",
      "TASK: \"\"\"\n",
      "test\n",
      "\"\"\"\n",
      "ARGS: a, b\n",
      "- a: \"\"\"\n",
      "object of type builtins.str\n",
      "\"\"\"\n",
      "- b: \"\"\"\n",
      "object of type builtins.str\n",
      "\"\"\"\n",
      "\n"
     ]
    }
   ],
   "source": [
    "for m in ms:\n",
    "    print(m['role'] + '\\n')\n",
    "    print(m['content'] + '\\n')"
   ]
  },
  {
   "cell_type": "code",
   "execution_count": 97,
   "metadata": {},
   "outputs": [],
   "source": [
    "import logging\n",
    "logging.getLogger().setLevel(logging.INFO)\n",
    "# logging.basicConfig(level=logging.INFO, format='%(asctime)s %(levelname)s %(message)s')"
   ]
  },
  {
   "cell_type": "code",
   "execution_count": 94,
   "metadata": {},
   "outputs": [
    {
     "name": "stderr",
     "output_type": "stream",
     "text": [
      "INFO:root:kek\n"
     ]
    }
   ],
   "source": [
    "logging.info('kek');"
   ]
  },
  {
   "cell_type": "code",
   "execution_count": 91,
   "metadata": {},
   "outputs": [
    {
     "name": "stdout",
     "output_type": "stream",
     "text": [
      "```python\n",
      "import numpy as np\n",
      "\n",
      "# matrix isn't provided so we made a func\n",
      "def uv_decomposition(matrix):\n",
      "    try:\n",
      "        # perform the SVD decomposition\n",
      "        u, s, v = np.linalg.svd(matrix)\n",
      "    except Exception as e:\n",
      "        # if an error occurs, raise a custom error message\n",
      "        raise ValueError(f\"Error performing SVD decomposition: {e}\")\n",
      "\n",
      "    # return the resulting matrices\n",
      "    return u, s, v\n",
      "\n",
      "result = uv_decomposition\n",
      "```\n"
     ]
    }
   ],
   "source": [
    "r = ai('calculate uv decomposition for given matrix or throw an error')\n",
    "for l in r.split('\\n'):\n",
    "    print(l)"
   ]
  },
  {
   "cell_type": "code",
   "execution_count": 87,
   "metadata": {},
   "outputs": [
    {
     "name": "stdout",
     "output_type": "stream",
     "text": [
      "```python\n",
      "# filename isn't passed as arg but rather hardcoded\n",
      "with open(f'kek.pdf', mode='rb') as f:\n",
      "    content = f.read(1000)\n",
      "\n",
      "# summarize the content\n",
      "summary = f'First 1000 characters of kek.pdf:\\n{content}'\n",
      "\n",
      "result = summary\n",
      "```\n"
     ]
    }
   ],
   "source": [
    "r = ai('read and summarize first 1000 chars of kek.pdf')\n",
    "for l in r.split('\\n'):\n",
    "    print(l)"
   ]
  },
  {
   "cell_type": "code",
   "execution_count": 85,
   "metadata": {},
   "outputs": [
    {
     "data": {
      "text/plain": [
       "'```python\\n# radius of moon in km\\nradius_km = 1737.1\\n\\n# convert km to cm\\nradius_cm = radius_km * 100000\\n\\nresult = radius_cm\\n```'"
      ]
     },
     "execution_count": 85,
     "metadata": {},
     "output_type": "execute_result"
    }
   ],
   "source": [
    "ai('radius of moon in cm')"
   ]
  },
  {
   "cell_type": "code",
   "execution_count": 83,
   "metadata": {},
   "outputs": [
    {
     "name": "stdout",
     "output_type": "stream",
     "text": [
      "```python\n",
      "def read_file_securely(file_path):\n",
      "    with open(file_path, 'r') as f:\n",
      "        content = f.read()\n",
      "    return content\n",
      "\n",
      "result = read_file_securely\n",
      "```\n"
     ]
    }
   ],
   "source": [
    "r = ai('a func that takes file path and read its content securely')\n",
    "for l in r.split('\\n'):\n",
    "    print(l)"
   ]
  },
  {
   "cell_type": "code",
   "execution_count": 82,
   "metadata": {},
   "outputs": [
    {
     "name": "stdout",
     "output_type": "stream",
     "text": [
      "```python\n",
      "import numpy as np\n",
      "\n",
      "def sample_point_in_circle(r):\n",
      "    # generate random point inside a square of side 2r\n",
      "    x = np.random.uniform(-r, r)\n",
      "    y = np.random.uniform(-r, r)\n",
      "\n",
      "    # check if the point is inside the circle\n",
      "    while x**2 + y**2 > r**2:\n",
      "        x = np.random.uniform(-r, r)\n",
      "        y = np.random.uniform(-r, r)\n",
      "\n",
      "    return (x, y)\n",
      "\n",
      "result = sample_point_in_circle\n",
      "```\n"
     ]
    }
   ],
   "source": [
    "r = ai('random uniform sampling of a point inside a cirle of radius r func')\n",
    "for l in r.split('\\n'):\n",
    "    print(l)"
   ]
  },
  {
   "cell_type": "code",
   "execution_count": 19,
   "metadata": {},
   "outputs": [
    {
     "name": "stdout",
     "output_type": "stream",
     "text": [
      "```python\n",
      "s = \"This is a string with some words\"\n",
      "result = len(s.split())\n",
      "```\n"
     ]
    }
   ],
   "source": [
    "r = ai('a number of words in a string')\n",
    "for l in r.split('\\n'):\n",
    "    print(l)"
   ]
  },
  {
   "cell_type": "code",
   "execution_count": 20,
   "metadata": {},
   "outputs": [
    {
     "name": "stdout",
     "output_type": "stream",
     "text": [
      "```python\n",
      "result = len(s.split())\n",
      "```\n"
     ]
    }
   ],
   "source": [
    "r = ai('number of words in a string s', s='hello world')\n",
    "for l in r.split('\\n'):\n",
    "    print(l)"
   ]
  }
 ],
 "metadata": {
  "kernelspec": {
   "display_name": "askai",
   "language": "python",
   "name": "python3"
  },
  "language_info": {
   "codemirror_mode": {
    "name": "ipython",
    "version": 3
   },
   "file_extension": ".py",
   "mimetype": "text/x-python",
   "name": "python",
   "nbconvert_exporter": "python",
   "pygments_lexer": "ipython3",
   "version": "3.8.16"
  },
  "orig_nbformat": 4
 },
 "nbformat": 4,
 "nbformat_minor": 2
}
