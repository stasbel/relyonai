{
 "cells": [
  {
   "cell_type": "code",
   "execution_count": 1,
   "metadata": {},
   "outputs": [],
   "source": [
    "%reload_ext autoreload\n",
    "%autoreload 2\n",
    "\n",
    "# import logging\n",
    "# logging.basicConfig(level=logging.INFO)"
   ]
  },
  {
   "cell_type": "code",
   "execution_count": 2,
   "metadata": {},
   "outputs": [],
   "source": [
    "from aiknows.config import logger, config"
   ]
  },
  {
   "cell_type": "code",
   "execution_count": 7,
   "metadata": {},
   "outputs": [],
   "source": [
    "config.log_level = 'info'"
   ]
  },
  {
   "cell_type": "code",
   "execution_count": 3,
   "metadata": {},
   "outputs": [
    {
     "data": {
      "text/plain": [
       "<Logger aiknows.config (ERROR)>"
      ]
     },
     "execution_count": 3,
     "metadata": {},
     "output_type": "execute_result"
    }
   ],
   "source": [
    "logger"
   ]
  },
  {
   "cell_type": "code",
   "execution_count": 20,
   "metadata": {},
   "outputs": [
    {
     "data": {
      "text/plain": [
       "1"
      ]
     },
     "execution_count": 20,
     "metadata": {},
     "output_type": "execute_result"
    }
   ],
   "source": [
    "import ast\n",
    "\n",
    "def exec_and_return_last_expr(code):\n",
    "    # Parse the code into an AST\n",
    "    tree = ast.parse(code)\n",
    "\n",
    "    # Get the last body element\n",
    "    last = tree.body[-1]\n",
    "\n",
    "    # Check if the last body element ends with semicolon\n",
    "    last_line = code.split('\\n')[-1]\n",
    "    return_last_expr = not last_line.rstrip().endswith(\";\")\n",
    "\n",
    "    # Remove the last body element from the original tree\n",
    "    tree.body = tree.body[:-1]\n",
    "\n",
    "    namespace = {}\n",
    "    exec(compile(tree, filename=\"<ast>\", mode=\"exec\"), namespace)\n",
    "\n",
    "    if return_last_expr and isinstance(last, ast.Expr):\n",
    "        # If the last body element does not end with semicolon, return its value\n",
    "        return eval(compile(ast.Expression(last.value), filename=\"<ast>\", mode=\"eval\"), namespace)\n",
    "    else:\n",
    "        # If the last body element ends with semicolon or is not an expression, do not return its value\n",
    "        exec(compile(ast.Module(body=[last], type_ignores=[]), filename=\"<ast>\", mode=\"exec\"), namespace)\n",
    "        return None\n",
    "\n",
    "exec_and_return_last_expr('a = 1; a')"
   ]
  },
  {
   "cell_type": "code",
   "execution_count": 4,
   "metadata": {},
   "outputs": [
    {
     "ename": "TypeError",
     "evalue": "expected some sort of expr, but got <_ast.Expr object at 0x7fd720b38100>",
     "output_type": "error",
     "traceback": [
      "\u001b[0;31m---------------------------------------------------------------------------\u001b[0m",
      "\u001b[0;31mTypeError\u001b[0m                                 Traceback (most recent call last)",
      "Cell \u001b[0;32mIn[4], line 4\u001b[0m\n\u001b[1;32m      1\u001b[0m \u001b[39mfrom\u001b[39;00m \u001b[39maiknows\u001b[39;00m \u001b[39mimport\u001b[39;00m runtime\n\u001b[1;32m      2\u001b[0m local_runtime \u001b[39m=\u001b[39m runtime\u001b[39m.\u001b[39mLocalRuntime()\n\u001b[0;32m----> 4\u001b[0m local_runtime\u001b[39m.\u001b[39;49mrun(\u001b[39m'\u001b[39;49m\u001b[39mprint(\u001b[39;49m\u001b[39m\"\u001b[39;49m\u001b[39mhello world\u001b[39;49m\u001b[39m\"\u001b[39;49m\u001b[39m)\u001b[39;49m\u001b[39m'\u001b[39;49m)\n",
      "File \u001b[0;32m~/src/aiknows/aiknows/runtime.py:173\u001b[0m, in \u001b[0;36mLocalRuntime.run\u001b[0;34m(self, code, supress_stdout)\u001b[0m\n\u001b[1;32m    171\u001b[0m \u001b[39mdef\u001b[39;00m \u001b[39mrun\u001b[39m(\u001b[39mself\u001b[39m, code: \u001b[39mstr\u001b[39m, \u001b[39m*\u001b[39m, supress_stdout: \u001b[39mbool\u001b[39m \u001b[39m=\u001b[39m \u001b[39mFalse\u001b[39;00m) \u001b[39m-\u001b[39m\u001b[39m>\u001b[39m Any:\n\u001b[1;32m    172\u001b[0m     \u001b[39m# with contextlib.redirect_stdout(None) if supress_stdout else contextlib.nullcontext():\u001b[39;00m\n\u001b[0;32m--> 173\u001b[0m     \u001b[39mreturn\u001b[39;00m \u001b[39mself\u001b[39;49m\u001b[39m.\u001b[39;49m_execute_jupyter_style(code)\n",
      "File \u001b[0;32m~/src/aiknows/aiknows/runtime.py:163\u001b[0m, in \u001b[0;36mLocalRuntime._execute_jupyter_style\u001b[0;34m(self, code)\u001b[0m\n\u001b[1;32m    158\u001b[0m exec(\u001b[39mcompile\u001b[39m(tree, filename\u001b[39m=\u001b[39m\u001b[39mself\u001b[39m\u001b[39m.\u001b[39mEXEC_FILENAME, mode\u001b[39m=\u001b[39m\u001b[39m'\u001b[39m\u001b[39mexec\u001b[39m\u001b[39m'\u001b[39m), \u001b[39mself\u001b[39m\u001b[39m.\u001b[39mglobals)\n\u001b[1;32m    160\u001b[0m \u001b[39mif\u001b[39;00m return_last_expr \u001b[39mand\u001b[39;00m \u001b[39misinstance\u001b[39m(last, ast\u001b[39m.\u001b[39mExpr):\n\u001b[1;32m    161\u001b[0m     \u001b[39m# If the last body element does not end with semicolon, return its value\u001b[39;00m\n\u001b[1;32m    162\u001b[0m     \u001b[39mreturn\u001b[39;00m \u001b[39meval\u001b[39m(\n\u001b[0;32m--> 163\u001b[0m         \u001b[39mcompile\u001b[39;49m(ast\u001b[39m.\u001b[39;49mExpression(last), filename\u001b[39m=\u001b[39;49m\u001b[39mself\u001b[39;49m\u001b[39m.\u001b[39;49mEXEC_FILENAME, mode\u001b[39m=\u001b[39;49m\u001b[39m'\u001b[39;49m\u001b[39meval\u001b[39;49m\u001b[39m'\u001b[39;49m),\n\u001b[1;32m    164\u001b[0m         \u001b[39mself\u001b[39m\u001b[39m.\u001b[39mglobals,\n\u001b[1;32m    165\u001b[0m     )\n\u001b[1;32m    166\u001b[0m \u001b[39melse\u001b[39;00m:\n\u001b[1;32m    167\u001b[0m     \u001b[39m# If the last body element ends with semicolon, do not return its value\u001b[39;00m\n\u001b[1;32m    168\u001b[0m     exec(\u001b[39mcompile\u001b[39m(last, filename\u001b[39m=\u001b[39m\u001b[39mself\u001b[39m\u001b[39m.\u001b[39mEXEC_FILENAME, mode\u001b[39m=\u001b[39m\u001b[39m'\u001b[39m\u001b[39mexec\u001b[39m\u001b[39m'\u001b[39m), \u001b[39mself\u001b[39m\u001b[39m.\u001b[39mglobals)\n",
      "\u001b[0;31mTypeError\u001b[0m: expected some sort of expr, but got <_ast.Expr object at 0x7fd720b38100>"
     ]
    }
   ],
   "source": [
    "from aiknows import runtime\n",
    "local_runtime = runtime.LocalRuntime()\n",
    "\n",
    "local_runtime.run('print(\"hello world\")')"
   ]
  },
  {
   "cell_type": "code",
   "execution_count": 2,
   "metadata": {},
   "outputs": [],
   "source": [
    "from aiknows import ai, gpt"
   ]
  },
  {
   "cell_type": "code",
   "execution_count": 3,
   "metadata": {},
   "outputs": [
    {
     "data": {
      "text/plain": [
       "'Sorry, I do not understand the context of this question. Can you please provide more information or rephrase the question?'"
      ]
     },
     "execution_count": 3,
     "metadata": {},
     "output_type": "execute_result"
    }
   ],
   "source": [
    "gpt('kek vs mem? a?')"
   ]
  },
  {
   "cell_type": "code",
   "execution_count": null,
   "metadata": {},
   "outputs": [],
   "source": []
  },
  {
   "cell_type": "code",
   "execution_count": 19,
   "metadata": {},
   "outputs": [
    {
     "data": {
      "text/plain": [
       "dict_keys(['data', 'target', 'frame', 'target_names', 'DESCR', 'feature_names', 'filename', 'data_module'])"
      ]
     },
     "execution_count": 19,
     "metadata": {},
     "output_type": "execute_result"
    }
   ],
   "source": [
    "from sklearn.datasets import load_iris\n",
    "df = load_iris()\n",
    "df.keys()"
   ]
  },
  {
   "cell_type": "code",
   "execution_count": 21,
   "metadata": {},
   "outputs": [
    {
     "data": {
      "text/plain": [
       "sklearn.utils._bunch.Bunch"
      ]
     },
     "execution_count": 21,
     "metadata": {},
     "output_type": "execute_result"
    }
   ],
   "source": [
    "type(df)"
   ]
  },
  {
   "cell_type": "code",
   "execution_count": 22,
   "metadata": {},
   "outputs": [
    {
     "data": {
      "text/plain": [
       "'object of type sklearn.utils._bunch.Bunch'"
      ]
     },
     "execution_count": 22,
     "metadata": {},
     "output_type": "execute_result"
    }
   ],
   "source": [
    "from aiknows.explain import explain\n",
    "\n",
    "explain(df)"
   ]
  },
  {
   "cell_type": "code",
   "execution_count": 25,
   "metadata": {},
   "outputs": [
    {
     "data": {
      "text/plain": [
       "array([[6.1, 4.5, 2.4, 1.2],\n",
       "       [5.9, 4. , 2.4, 1.2],\n",
       "       [5.7, 4.2, 2.3, 1.2],\n",
       "       [5.6, 4.1, 2.5, 1.2],\n",
       "       [6. , 4.6, 2.4, 1.2],\n",
       "       [6.4, 4.9, 2.7, 1.4],\n",
       "       [5.6, 4.4, 2.4, 1.3],\n",
       "       [6. , 4.4, 2.5, 1.2],\n",
       "       [5.4, 3.9, 2.4, 1.2],\n",
       "       [5.9, 4.1, 2.5, 1.1],\n",
       "       [6.4, 4.7, 2.5, 1.2],\n",
       "       [5.8, 4.4, 2.6, 1.2],\n",
       "       [5.8, 4. , 2.4, 1.1],\n",
       "       [5.3, 4. , 2.1, 1.1],\n",
       "       [6.8, 5. , 2.2, 1.2],\n",
       "       [6.7, 5.4, 2.5, 1.4],\n",
       "       [6.4, 4.9, 2.3, 1.4],\n",
       "       [6.1, 4.5, 2.4, 1.3],\n",
       "       [6.7, 4.8, 2.7, 1.3],\n",
       "       [6.1, 4.8, 2.5, 1.3],\n",
       "       [6.4, 4.4, 2.7, 1.2],\n",
       "       [6.1, 4.7, 2.5, 1.4],\n",
       "       [5.6, 4.6, 2. , 1.2],\n",
       "       [6.1, 4.3, 2.7, 1.5],\n",
       "       [5.8, 4.4, 2.9, 1.2],\n",
       "       [6. , 4. , 2.6, 1.2],\n",
       "       [6. , 4.4, 2.6, 1.4],\n",
       "       [6.2, 4.5, 2.5, 1.2],\n",
       "       [6.2, 4.4, 2.4, 1.2],\n",
       "       [5.7, 4.2, 2.6, 1.2],\n",
       "       [5.8, 4.1, 2.6, 1.2],\n",
       "       [6.4, 4.4, 2.5, 1.4],\n",
       "       [6.2, 5.1, 2.5, 1.1],\n",
       "       [6.5, 5.2, 2.4, 1.2],\n",
       "       [5.9, 4.1, 2.5, 1.2],\n",
       "       [6. , 4.2, 2.2, 1.2],\n",
       "       [6.5, 4.5, 2.3, 1.2],\n",
       "       [5.9, 4.6, 2.4, 1.1],\n",
       "       [5.4, 4. , 2.3, 1.2],\n",
       "       [6.1, 4.4, 2.5, 1.2],\n",
       "       [6. , 4.5, 2.3, 1.3],\n",
       "       [5.5, 3.3, 2.3, 1.3],\n",
       "       [5.4, 4.2, 2.3, 1.2],\n",
       "       [6. , 4.5, 2.6, 1.6],\n",
       "       [6.1, 4.8, 2.9, 1.4],\n",
       "       [5.8, 4. , 2.4, 1.3],\n",
       "       [6.1, 4.8, 2.6, 1.2],\n",
       "       [5.6, 4.2, 2.4, 1.2],\n",
       "       [6.3, 4.7, 2.5, 1.2],\n",
       "       [6. , 4.3, 2.4, 1.2],\n",
       "       [8. , 4.2, 5.7, 2.4],\n",
       "       [7.4, 4.2, 5.5, 2.5],\n",
       "       [7.9, 4.1, 5.9, 2.5],\n",
       "       [6.5, 3.3, 5. , 2.3],\n",
       "       [7.5, 3.8, 5.6, 2.5],\n",
       "       [6.7, 3.8, 5.5, 2.3],\n",
       "       [7.3, 4.3, 5.7, 2.6],\n",
       "       [5.9, 3.4, 4.3, 2. ],\n",
       "       [7.6, 3.9, 5.6, 2.3],\n",
       "       [6.2, 3.7, 4.9, 2.4],\n",
       "       [6. , 3. , 4.5, 2. ],\n",
       "       [6.9, 4. , 5.2, 2.5],\n",
       "       [7. , 3.2, 5. , 2. ],\n",
       "       [7.1, 3.9, 5.7, 2.4],\n",
       "       [6.6, 3.9, 4.6, 2.3],\n",
       "       [7.7, 4.1, 5.4, 2.4],\n",
       "       [6.6, 4. , 5.5, 2.5],\n",
       "       [6.8, 3.7, 5.1, 2. ],\n",
       "       [7.2, 3.2, 5.5, 2.5],\n",
       "       [6.6, 3.5, 4.9, 2.1],\n",
       "       [6.9, 4.2, 5.8, 2.8],\n",
       "       [7.1, 3.8, 5. , 2.3],\n",
       "       [7.3, 3.5, 5.9, 2.5],\n",
       "       [7.1, 3.8, 5.7, 2.2],\n",
       "       [7.4, 3.9, 5.3, 2.3],\n",
       "       [7.6, 4. , 5.4, 2.4],\n",
       "       [7.8, 3.8, 5.8, 2.4],\n",
       "       [7.7, 4. , 6. , 2.7],\n",
       "       [7. , 3.9, 5.5, 2.5],\n",
       "       [6.7, 3.6, 4.5, 2. ],\n",
       "       [6.5, 3.4, 4.8, 2.1],\n",
       "       [6.5, 3.4, 4.7, 2. ],\n",
       "       [6.8, 3.7, 4.9, 2.2],\n",
       "       [7. , 3.7, 6.1, 2.6],\n",
       "       [6.4, 4. , 5.5, 2.5],\n",
       "       [7. , 4.4, 5.5, 2.6],\n",
       "       [7.7, 4.1, 5.7, 2.5],\n",
       "       [7.3, 3.3, 5.4, 2.3],\n",
       "       [6.6, 4. , 5.1, 2.3],\n",
       "       [6.5, 3.5, 5. , 2.3],\n",
       "       [6.5, 3.6, 5.4, 2.2],\n",
       "       [7.1, 4. , 5.6, 2.4],\n",
       "       [6.8, 3.6, 5. , 2.2],\n",
       "       [6. , 3.3, 4.3, 2. ],\n",
       "       [6.6, 3.7, 5.2, 2.3],\n",
       "       [6.7, 4. , 5.2, 2.2],\n",
       "       [6.7, 3.9, 5.2, 2.3],\n",
       "       [7.2, 3.9, 5.3, 2.3],\n",
       "       [6.1, 3.5, 4. , 2.1],\n",
       "       [6.7, 3.8, 5.1, 2.3],\n",
       "       [7.3, 4.3, 7. , 3.5],\n",
       "       [6.8, 3.7, 6.1, 2.9],\n",
       "       [8.1, 4. , 6.9, 3.1],\n",
       "       [7.3, 3.9, 6.6, 2.8],\n",
       "       [7.5, 4. , 6.8, 3.2],\n",
       "       [8.6, 4. , 7.6, 3.1],\n",
       "       [5.9, 3.5, 5.5, 2.7],\n",
       "       [8.3, 3.9, 7.3, 2.8],\n",
       "       [7.7, 3.5, 6.8, 2.8],\n",
       "       [8.2, 4.6, 7.1, 3.5],\n",
       "       [7.5, 4.2, 6.1, 3. ],\n",
       "       [7.4, 3.7, 6.3, 2.9],\n",
       "       [7.8, 4. , 6.5, 3.1],\n",
       "       [6.7, 3.5, 6. , 3. ],\n",
       "       [6.8, 3.8, 6.1, 3.4],\n",
       "       [7.4, 4.2, 6.3, 3.3],\n",
       "       [7.5, 4. , 6.5, 2.8],\n",
       "       [8.7, 4.8, 7.7, 3.2],\n",
       "       [8.7, 3.6, 7.9, 3.3],\n",
       "       [7. , 3.2, 6. , 2.5],\n",
       "       [7.9, 4.2, 6.7, 3.3],\n",
       "       [6.6, 3.8, 5.9, 3. ],\n",
       "       [8.7, 3.8, 7.7, 3. ],\n",
       "       [7.3, 3.7, 5.9, 2.8],\n",
       "       [7.7, 4.3, 6.7, 3.1],\n",
       "       [8.2, 4.2, 7. , 2.8],\n",
       "       [7.2, 3.8, 5.8, 2.8],\n",
       "       [7.1, 4. , 5.9, 2.8],\n",
       "       [7.4, 3.8, 6.6, 3.1],\n",
       "       [8.2, 4. , 6.8, 2.6],\n",
       "       [8.4, 3.8, 7.1, 2.9],\n",
       "       [8.9, 4.8, 7.4, 3. ],\n",
       "       [7.4, 3.8, 6.6, 3.2],\n",
       "       [7.3, 3.8, 6.1, 2.5],\n",
       "       [7.1, 3.6, 6.6, 2.4],\n",
       "       [8.7, 4. , 7.1, 3.3],\n",
       "       [7.3, 4.4, 6.6, 3.4],\n",
       "       [7.4, 4.1, 6.5, 2.8],\n",
       "       [7. , 4. , 5.8, 2.8],\n",
       "       [7.9, 4.1, 6.4, 3.1],\n",
       "       [7.7, 4.1, 6.6, 3.4],\n",
       "       [7.9, 4.1, 6.1, 3.3],\n",
       "       [6.8, 3.7, 6.1, 2.9],\n",
       "       [7.8, 4.2, 6.9, 3.3],\n",
       "       [7.7, 4.3, 6.7, 3.5],\n",
       "       [7.7, 4. , 6.2, 3.3],\n",
       "       [7.3, 3.5, 6. , 2.9],\n",
       "       [7.5, 4. , 6.2, 3. ],\n",
       "       [7.2, 4.4, 6.4, 3.3],\n",
       "       [6.9, 4. , 6.1, 2.8]])"
      ]
     },
     "execution_count": 25,
     "metadata": {},
     "output_type": "execute_result"
    }
   ],
   "source": [
    "df['data'] + 1"
   ]
  },
  {
   "cell_type": "code",
   "execution_count": 27,
   "metadata": {},
   "outputs": [
    {
     "data": {
      "text/plain": [
       "numpy.ndarray"
      ]
     },
     "execution_count": 27,
     "metadata": {},
     "output_type": "execute_result"
    }
   ],
   "source": [
    "type(df['data'])"
   ]
  },
  {
   "cell_type": "code",
   "execution_count": 29,
   "metadata": {},
   "outputs": [
    {
     "data": {
      "text/plain": [
       "array([[5.1, 3.5, 1.4, 0.2, 4.9, 3. , 1.4, 0.2, 4.7, 3.2, 1.3, 0.2, 4.6,\n",
       "        3.1, 1.5, 0.2, 5. , 3.6, 1.4, 0.2, 5.4, 3.9, 1.7, 0.4],\n",
       "       [4.6, 3.4, 1.4, 0.3, 5. , 3.4, 1.5, 0.2, 4.4, 2.9, 1.4, 0.2, 4.9,\n",
       "        3.1, 1.5, 0.1, 5.4, 3.7, 1.5, 0.2, 4.8, 3.4, 1.6, 0.2],\n",
       "       [4.8, 3. , 1.4, 0.1, 4.3, 3. , 1.1, 0.1, 5.8, 4. , 1.2, 0.2, 5.7,\n",
       "        4.4, 1.5, 0.4, 5.4, 3.9, 1.3, 0.4, 5.1, 3.5, 1.4, 0.3],\n",
       "       [5.7, 3.8, 1.7, 0.3, 5.1, 3.8, 1.5, 0.3, 5.4, 3.4, 1.7, 0.2, 5.1,\n",
       "        3.7, 1.5, 0.4, 4.6, 3.6, 1. , 0.2, 5.1, 3.3, 1.7, 0.5],\n",
       "       [4.8, 3.4, 1.9, 0.2, 5. , 3. , 1.6, 0.2, 5. , 3.4, 1.6, 0.4, 5.2,\n",
       "        3.5, 1.5, 0.2, 5.2, 3.4, 1.4, 0.2, 4.7, 3.2, 1.6, 0.2],\n",
       "       [4.8, 3.1, 1.6, 0.2, 5.4, 3.4, 1.5, 0.4, 5.2, 4.1, 1.5, 0.1, 5.5,\n",
       "        4.2, 1.4, 0.2, 4.9, 3.1, 1.5, 0.2, 5. , 3.2, 1.2, 0.2],\n",
       "       [5.5, 3.5, 1.3, 0.2, 4.9, 3.6, 1.4, 0.1, 4.4, 3. , 1.3, 0.2, 5.1,\n",
       "        3.4, 1.5, 0.2, 5. , 3.5, 1.3, 0.3, 4.5, 2.3, 1.3, 0.3],\n",
       "       [4.4, 3.2, 1.3, 0.2, 5. , 3.5, 1.6, 0.6, 5.1, 3.8, 1.9, 0.4, 4.8,\n",
       "        3. , 1.4, 0.3, 5.1, 3.8, 1.6, 0.2, 4.6, 3.2, 1.4, 0.2],\n",
       "       [5.3, 3.7, 1.5, 0.2, 5. , 3.3, 1.4, 0.2, 7. , 3.2, 4.7, 1.4, 6.4,\n",
       "        3.2, 4.5, 1.5, 6.9, 3.1, 4.9, 1.5, 5.5, 2.3, 4. , 1.3],\n",
       "       [6.5, 2.8, 4.6, 1.5, 5.7, 2.8, 4.5, 1.3, 6.3, 3.3, 4.7, 1.6, 4.9,\n",
       "        2.4, 3.3, 1. , 6.6, 2.9, 4.6, 1.3, 5.2, 2.7, 3.9, 1.4],\n",
       "       [5. , 2. , 3.5, 1. , 5.9, 3. , 4.2, 1.5, 6. , 2.2, 4. , 1. , 6.1,\n",
       "        2.9, 4.7, 1.4, 5.6, 2.9, 3.6, 1.3, 6.7, 3.1, 4.4, 1.4],\n",
       "       [5.6, 3. , 4.5, 1.5, 5.8, 2.7, 4.1, 1. , 6.2, 2.2, 4.5, 1.5, 5.6,\n",
       "        2.5, 3.9, 1.1, 5.9, 3.2, 4.8, 1.8, 6.1, 2.8, 4. , 1.3],\n",
       "       [6.3, 2.5, 4.9, 1.5, 6.1, 2.8, 4.7, 1.2, 6.4, 2.9, 4.3, 1.3, 6.6,\n",
       "        3. , 4.4, 1.4, 6.8, 2.8, 4.8, 1.4, 6.7, 3. , 5. , 1.7],\n",
       "       [6. , 2.9, 4.5, 1.5, 5.7, 2.6, 3.5, 1. , 5.5, 2.4, 3.8, 1.1, 5.5,\n",
       "        2.4, 3.7, 1. , 5.8, 2.7, 3.9, 1.2, 6. , 2.7, 5.1, 1.6],\n",
       "       [5.4, 3. , 4.5, 1.5, 6. , 3.4, 4.5, 1.6, 6.7, 3.1, 4.7, 1.5, 6.3,\n",
       "        2.3, 4.4, 1.3, 5.6, 3. , 4.1, 1.3, 5.5, 2.5, 4. , 1.3],\n",
       "       [5.5, 2.6, 4.4, 1.2, 6.1, 3. , 4.6, 1.4, 5.8, 2.6, 4. , 1.2, 5. ,\n",
       "        2.3, 3.3, 1. , 5.6, 2.7, 4.2, 1.3, 5.7, 3. , 4.2, 1.2],\n",
       "       [5.7, 2.9, 4.2, 1.3, 6.2, 2.9, 4.3, 1.3, 5.1, 2.5, 3. , 1.1, 5.7,\n",
       "        2.8, 4.1, 1.3, 6.3, 3.3, 6. , 2.5, 5.8, 2.7, 5.1, 1.9],\n",
       "       [7.1, 3. , 5.9, 2.1, 6.3, 2.9, 5.6, 1.8, 6.5, 3. , 5.8, 2.2, 7.6,\n",
       "        3. , 6.6, 2.1, 4.9, 2.5, 4.5, 1.7, 7.3, 2.9, 6.3, 1.8],\n",
       "       [6.7, 2.5, 5.8, 1.8, 7.2, 3.6, 6.1, 2.5, 6.5, 3.2, 5.1, 2. , 6.4,\n",
       "        2.7, 5.3, 1.9, 6.8, 3. , 5.5, 2.1, 5.7, 2.5, 5. , 2. ],\n",
       "       [5.8, 2.8, 5.1, 2.4, 6.4, 3.2, 5.3, 2.3, 6.5, 3. , 5.5, 1.8, 7.7,\n",
       "        3.8, 6.7, 2.2, 7.7, 2.6, 6.9, 2.3, 6. , 2.2, 5. , 1.5],\n",
       "       [6.9, 3.2, 5.7, 2.3, 5.6, 2.8, 4.9, 2. , 7.7, 2.8, 6.7, 2. , 6.3,\n",
       "        2.7, 4.9, 1.8, 6.7, 3.3, 5.7, 2.1, 7.2, 3.2, 6. , 1.8],\n",
       "       [6.2, 2.8, 4.8, 1.8, 6.1, 3. , 4.9, 1.8, 6.4, 2.8, 5.6, 2.1, 7.2,\n",
       "        3. , 5.8, 1.6, 7.4, 2.8, 6.1, 1.9, 7.9, 3.8, 6.4, 2. ],\n",
       "       [6.4, 2.8, 5.6, 2.2, 6.3, 2.8, 5.1, 1.5, 6.1, 2.6, 5.6, 1.4, 7.7,\n",
       "        3. , 6.1, 2.3, 6.3, 3.4, 5.6, 2.4, 6.4, 3.1, 5.5, 1.8],\n",
       "       [6. , 3. , 4.8, 1.8, 6.9, 3.1, 5.4, 2.1, 6.7, 3.1, 5.6, 2.4, 6.9,\n",
       "        3.1, 5.1, 2.3, 5.8, 2.7, 5.1, 1.9, 6.8, 3.2, 5.9, 2.3],\n",
       "       [6.7, 3.3, 5.7, 2.5, 6.7, 3. , 5.2, 2.3, 6.3, 2.5, 5. , 1.9, 6.5,\n",
       "        3. , 5.2, 2. , 6.2, 3.4, 5.4, 2.3, 5.9, 3. , 5.1, 1.8]])"
      ]
     },
     "execution_count": 29,
     "metadata": {},
     "output_type": "execute_result"
    }
   ],
   "source": [
    "df['data'].reshape(25, -1)"
   ]
  },
  {
   "cell_type": "code",
   "execution_count": 30,
   "metadata": {},
   "outputs": [
    {
     "name": "stderr",
     "output_type": "stream",
     "text": [
      "INFO:aiknows.ai:cache miss, generating bytecode\n",
      "INFO:aiknows.ai:len prompt messages: 34\n",
      "INFO:aiknows.ai:estimate prompt token length: 1473\n",
      "INFO:aiknows.ai:real prompt token length: 1750\n",
      "INFO:aiknows.ai:assistant: ```python\n",
      "# packages might be missing, but we don't attempt to install them\n",
      "import numpy as np\n",
      "import matplotlib.pyplot as plt\n",
      "\n",
      "# calculate some statistics\n",
      "mean = np.mean(data)\n",
      "std = np.std(data)\n",
      "\n",
      "# create a histogram of the data\n",
      "fig, ax = plt.subplots()\n",
      "ax.hist(data.flatten(), bins=50)\n",
      "\n",
      "# add known labels and title to the plot\n",
      "ax.set_xlabel('Value')\n",
      "ax.set_ylabel('Frequency')\n",
      "ax.set_title('Histogram of Data')\n",
      "\n",
      "# user don't intend to observe outside effect\n",
      "plt.close(fig)\n",
      "\n",
      "final_result = fig\n",
      "```\n"
     ]
    },
    {
     "data": {
      "image/png": "[encoded data removed]",
      "text/plain": [
       "<Figure size 640x480 with 1 Axes>"
      ]
     },
     "execution_count": 30,
     "metadata": {},
     "output_type": "execute_result"
    }
   ],
   "source": [
    "ai('explore data and visialize it', data=df['data'].reshape(25, -1) + 1.0)"
   ]
  },
  {
   "attachments": {},
   "cell_type": "markdown",
   "metadata": {},
   "source": [
    "`ai`, `aai`\n",
    "`gpt`, `agpt`"
   ]
  },
  {
   "cell_type": "code",
   "execution_count": 13,
   "metadata": {},
   "outputs": [
    {
     "name": "stderr",
     "output_type": "stream",
     "text": [
      "INFO:aiknows.ai:cache miss, generating bytecode\n",
      "INFO:aiknows.ai:len prompt messages: 34\n",
      "INFO:aiknows.ai:estimate prompt token length: 1462\n",
      "INFO:aiknows.ai:real prompt token length: 1675\n",
      "INFO:aiknows.ai:assistant: ```python\n",
      "import requests\n",
      "\n",
      "# make a GET request to the specified URL\n",
      "response = requests.get(url)\n",
      "\n",
      "# summarize the response using chat-gpt\n",
      "summary = gpt(f\"Summarize the following text: \\n{response.text}\")\n",
      "\n",
      "final_result = summary\n",
      "```\n"
     ]
    },
    {
     "data": {
      "text/plain": [
       "\"The text includes various pieces of information about cats, including the number of sounds they make (about 100), the amount of time they spend sleeping (70%), and the popularity of cats as pets in the United States (more than dogs). One fact also mentions the technical term for a cat's hairball (bezoar). One contributor says they don't know anything about cats.\""
      ]
     },
     "execution_count": 13,
     "metadata": {},
     "output_type": "execute_result"
    }
   ],
   "source": [
    "url = 'https://cat-fact.herokuapp.com/facts'\n",
    "ai('make a GET request to url and summarize the response', url=url)"
   ]
  },
  {
   "cell_type": "code",
   "execution_count": 9,
   "metadata": {},
   "outputs": [
    {
     "data": {
      "text/plain": [
       "['\\n']"
      ]
     },
     "execution_count": 9,
     "metadata": {},
     "output_type": "execute_result"
    }
   ],
   "source": [
    "import requests\n",
    "from bs4 import BeautifulSoup\n",
    "\n",
    "# we use duckduckgo's html api to get search results\n",
    "url = 'https://duckduckgo.com/html/'\n",
    "params = {\n",
    "    'q': 'trump news',\n",
    "    'kl': 'us-en',\n",
    "    't': 'h_',\n",
    "    'va': 'm',\n",
    "    'df': 'd',\n",
    "    's': '0',\n",
    "    'nextParams': '',\n",
    "    'v': 'l',\n",
    "    'o': 'json',\n",
    "    'api': '/d.js',\n",
    "}\n",
    "headers = {\n",
    "    'User-Agent': 'Mozilla/5.0 (Windows NT 10.0; Win64; x64) AppleWebKit/537.36 (KHTML, like Gecko) Chrome/58.0.3029.110 Safari/537.36',\n",
    "    'Referer': 'https://duckduckgo.com/html/',\n",
    "}\n",
    "response = requests.get(url, params=params, headers=headers)\n",
    "soup = BeautifulSoup(response.content, 'html.parser')\n",
    "\n",
    "news_headlines = [headline.text for headline in soup.select('.result__title')]\n",
    "top_3_news = news_headlines[:3]\n",
    "\n",
    "news_headlines"
   ]
  },
  {
   "cell_type": "code",
   "execution_count": 8,
   "metadata": {},
   "outputs": [
    {
     "data": {
      "text/plain": [
       "b'<!DOCTYPE html PUBLIC \"-//W3C//DTD XHTML 1.0 Transitional//EN\" \"http://www.w3.org/TR/xhtml1/DTD/xhtml1-transitional.dtd\">\\n\\n<!--[if IE 6]><html class=\"ie6\" xmlns=\"http://www.w3.org/1999/xhtml\"><![endif]-->\\n<!--[if IE 7]><html class=\"lt-ie8 lt-ie9\" xmlns=\"http://www.w3.org/1999/xhtml\"><![endif]-->\\n<!--[if IE 8]><html class=\"lt-ie9\" xmlns=\"http://www.w3.org/1999/xhtml\"><![endif]-->\\n<!--[if gt IE 8]><!--><html xmlns=\"http://www.w3.org/1999/xhtml\"><!--<![endif]-->\\n<head>\\n  <meta http-equiv=\"content-type\" content=\"text/html; charset=UTF-8\" />\\n  <meta name=\"viewport\" content=\"width=device-width, initial-scale=1.0, maximum-scale=3.0, user-scalable=1\" />\\n  <meta name=\"referrer\" content=\"origin\" />\\n  <meta name=\"HandheldFriendly\" content=\"true\" />\\n  <meta name=\"robots\" content=\"noindex, nofollow\" />\\n  <title>trump news at DuckDuckGo</title>\\n  <link title=\"DuckDuckGo (HTML)\" type=\"application/opensearchdescription+xml\" rel=\"search\" href=\"//duckduckgo.com/opensearch_html_v2.xml\" />\\n  <link href=\"//duckduckgo.com/favicon.ico\" rel=\"shortcut icon\" />\\n  <link rel=\"icon\" href=\"//duckduckgo.com/favicon.ico\" type=\"image/x-icon\" />\\n  <link rel=\"apple-touch-icon\" href=\"//duckduckgo.com/assets/logo_icon128.v101.png\"/>\\n  <link rel=\"image_src\" href=\"//duckduckgo.com/assets/logo_homepage.normal.v101.png\"/>\\n  <link type=\"text/css\" media=\"handheld, all\" href=\"//duckduckgo.com/h2153.css\" rel=\"stylesheet\" />\\n</head>\\n\\n<body class=\"body--html\">\\n  <a name=\"top\" id=\"top\"></a>\\n\\n  <form action=\"/html/\" method=\"post\">\\n    <input type=\"text\" name=\"state_hidden\" id=\"state_hidden\" />\\n  </form>\\n\\n  <div>\\n    <div class=\"site-wrapper-border\"></div>\\n\\n    <div id=\"header\" class=\"header cw header--html\">\\n        <a title=\"DuckDuckGo\" href=\"/html/\" class=\"header__logo-wrap\"></a>\\n\\n\\n    <form name=\"x\" class=\"header__form\" action=\"/html/\" method=\"post\">\\n\\n      <div class=\"search search--header\">\\n          <input name=\"q\" autocomplete=\"off\" class=\"search__input\" id=\"search_form_input_homepage\" type=\"text\" value=\"trump news\" />\\n          <input name=\"b\" id=\"search_button_homepage\" class=\"search__button search__button--html\" value=\"\" title=\"Search\" alt=\"Search\" type=\"submit\" />\\n      </div>\\n\\n\\n    \\n    \\n      <input name=\"t\" value=\"h_\" type=\"hidden\">\\n    \\n    \\n    \\n\\n    <div class=\"frm__select\">\\n      <select name=\"kl\">\\n      \\n        <option value=\"\" >All Regions</option>\\n      \\n        <option value=\"ar-es\" >Argentina</option>\\n      \\n        <option value=\"au-en\" >Australia</option>\\n      \\n        <option value=\"at-de\" >Austria</option>\\n      \\n        <option value=\"be-fr\" >Belgium (fr)</option>\\n      \\n        <option value=\"be-nl\" >Belgium (nl)</option>\\n      \\n        <option value=\"br-pt\" >Brazil</option>\\n      \\n        <option value=\"bg-bg\" >Bulgaria</option>\\n      \\n        <option value=\"ca-en\" >Canada (en)</option>\\n      \\n        <option value=\"ca-fr\" >Canada (fr)</option>\\n      \\n        <option value=\"ct-ca\" >Catalonia</option>\\n      \\n        <option value=\"cl-es\" >Chile</option>\\n      \\n        <option value=\"cn-zh\" >China</option>\\n      \\n        <option value=\"co-es\" >Colombia</option>\\n      \\n        <option value=\"hr-hr\" >Croatia</option>\\n      \\n        <option value=\"cz-cs\" >Czech Republic</option>\\n      \\n        <option value=\"dk-da\" >Denmark</option>\\n      \\n        <option value=\"ee-et\" >Estonia</option>\\n      \\n        <option value=\"fi-fi\" >Finland</option>\\n      \\n        <option value=\"fr-fr\" >France</option>\\n      \\n        <option value=\"de-de\" >Germany</option>\\n      \\n        <option value=\"gr-el\" >Greece</option>\\n      \\n        <option value=\"hk-tzh\" >Hong Kong</option>\\n      \\n        <option value=\"hu-hu\" >Hungary</option>\\n      \\n        <option value=\"is-is\" >Iceland</option>\\n      \\n        <option value=\"in-en\" >India (en)</option>\\n      \\n        <option value=\"id-en\" >Indonesia (en)</option>\\n      \\n        <option value=\"ie-en\" >Ireland</option>\\n      \\n        <option value=\"il-en\" >Israel (en)</option>\\n      \\n        <option value=\"it-it\" >Italy</option>\\n      \\n        <option value=\"jp-jp\" >Japan</option>\\n      \\n        <option value=\"kr-kr\" >Korea</option>\\n      \\n        <option value=\"lv-lv\" >Latvia</option>\\n      \\n        <option value=\"lt-lt\" >Lithuania</option>\\n      \\n        <option value=\"my-en\" >Malaysia (en)</option>\\n      \\n        <option value=\"mx-es\" >Mexico</option>\\n      \\n        <option value=\"nl-nl\" >Netherlands</option>\\n      \\n        <option value=\"nz-en\" >New Zealand</option>\\n      \\n        <option value=\"no-no\" >Norway</option>\\n      \\n        <option value=\"pk-en\" >Pakistan (en)</option>\\n      \\n        <option value=\"pe-es\" >Peru</option>\\n      \\n        <option value=\"ph-en\" >Philippines (en)</option>\\n      \\n        <option value=\"pl-pl\" >Poland</option>\\n      \\n        <option value=\"pt-pt\" >Portugal</option>\\n      \\n        <option value=\"ro-ro\" >Romania</option>\\n      \\n        <option value=\"ru-ru\" >Russia</option>\\n      \\n        <option value=\"xa-ar\" >Saudi Arabia</option>\\n      \\n        <option value=\"sg-en\" >Singapore</option>\\n      \\n        <option value=\"sk-sk\" >Slovakia</option>\\n      \\n        <option value=\"sl-sl\" >Slovenia</option>\\n      \\n        <option value=\"za-en\" >South Africa</option>\\n      \\n        <option value=\"es-ca\" >Spain (ca)</option>\\n      \\n        <option value=\"es-es\" >Spain (es)</option>\\n      \\n        <option value=\"se-sv\" >Sweden</option>\\n      \\n        <option value=\"ch-de\" >Switzerland (de)</option>\\n      \\n        <option value=\"ch-fr\" >Switzerland (fr)</option>\\n      \\n        <option value=\"tw-tzh\" >Taiwan</option>\\n      \\n        <option value=\"th-en\" >Thailand (en)</option>\\n      \\n        <option value=\"tr-tr\" >Turkey</option>\\n      \\n        <option value=\"us-en\" selected>US (English)</option>\\n      \\n        <option value=\"us-es\" >US (Spanish)</option>\\n      \\n        <option value=\"ua-uk\" >Ukraine</option>\\n      \\n        <option value=\"uk-en\" >United Kingdom</option>\\n      \\n        <option value=\"vn-en\" >Vietnam (en)</option>\\n      \\n      </select>\\n    </div>\\n\\n    <div class=\"frm__select frm__select--last\">\\n      <select class=\"\" name=\"df\">\\n      \\n        <option value=\"\" >Any Time</option>\\n      \\n        <option value=\"d\" selected>Past Day</option>\\n      \\n        <option value=\"w\" >Past Week</option>\\n      \\n        <option value=\"m\" >Past Month</option>\\n      \\n        <option value=\"y\" >Past Year</option>\\n      \\n      </select>\\n    </div>\\n\\n    </form>\\n\\n    </div>\\n\\n\\n\\n\\n\\n<!-- Web results are present -->\\n\\n  <div>\\n  <div class=\"serp__results\">\\n  <div id=\"links\" class=\"results\">\\n\\n      \\n\\n\\n\\n  \\n\\n\\n            <div class=\"result results_links results_links_deep web-result result--no-result\">\\n\\n\\n          <div class=\"links_main links_deep result__body\"> <!-- This is the visible part -->\\n\\n          <h2 class=\"result__title\">\\n          \\n          </h2>\\n\\n      \\n            <div class=\"no-results\">No results.</div>\\n      \\n\\n            <div class=\"result__extras\">\\n                <div class=\"result__extras__url\">\\n                  <span class=\"result__icon\">\\n                    \\n                  </span>\\n\\n                  <a class=\"result__url\" href=\"\">\\n                  \\n                  </a>\\n\\n                  \\n\\n                </div>\\n            </div>\\n\\n            \\n\\n            <div class=\"clear\"></div>\\n          </div>\\n\\n        </div>\\n\\n  \\n\\n\\n\\n\\n\\n        <div class=\" feedback-btn\">\\n            <a rel=\"nofollow\" href=\"//duckduckgo.com/feedback.html\" target=\"_new\">Feedback</a>\\n        </div>\\n        <div class=\"clear\"></div>\\n  </div>\\n  </div> <!-- links wrapper //-->\\n\\n\\n\\n    </div>\\n  </div>\\n\\n    <div id=\"bottom_spacing2\"></div>\\n\\n    \\n      <img src=\"//duckduckgo.com/t/sl_h\"/>\\n    \\n</body>\\n</html>\\n'"
      ]
     },
     "execution_count": 8,
     "metadata": {},
     "output_type": "execute_result"
    }
   ],
   "source": [
    "response.content\n",
    "soup = BeautifulSoup(response.content, 'html.parser')"
   ]
  },
  {
   "cell_type": "code",
   "execution_count": 5,
   "metadata": {},
   "outputs": [
    {
     "data": {
      "text/plain": [
       "['\\n']"
      ]
     },
     "execution_count": 5,
     "metadata": {},
     "output_type": "execute_result"
    }
   ],
   "source": [
    "_"
   ]
  }
 ],
 "metadata": {
  "kernelspec": {
   "display_name": "aiknows",
   "language": "python",
   "name": "python3"
  },
  "language_info": {
   "codemirror_mode": {
    "name": "ipython",
    "version": 3
   },
   "file_extension": ".py",
   "mimetype": "text/x-python",
   "name": "python",
   "nbconvert_exporter": "python",
   "pygments_lexer": "ipython3",
   "version": "3.8.16"
  }
 },
 "nbformat": 4,
 "nbformat_minor": 2
}
