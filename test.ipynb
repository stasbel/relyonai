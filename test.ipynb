{
 "cells": [
  {
   "cell_type": "code",
   "execution_count": 1,
   "metadata": {},
   "outputs": [],
   "source": [
    "%reload_ext autoreload\n",
    "%autoreload 2\n",
    "\n",
    "import logging\n",
    "from rich import logging as rich_logging\n",
    "logging.basicConfig(\n",
    "    level=logging.INFO,\n",
    "    # level=logging.WARNING,\n",
    "    format='%(message)s',\n",
    "    datefmt='[%X]',\n",
    "    handlers=[rich_logging.RichHandler()],\n",
    ")\n",
    "\n",
    "from relyonai import config, ai, gpt\n",
    "# config.clear_cache()\n",
    "\n",
    "from rich import traceback as rich_traceback\n",
    "rich_traceback.install(show_locals=True);"
   ]
  },
  {
   "cell_type": "code",
   "execution_count": 19,
   "metadata": {},
   "outputs": [
    {
     "data": {
      "text/html": [
       "<pre style=\"white-space:pre;overflow-x:auto;line-height:normal;font-family:Menlo,'DejaVu Sans Mono',consolas,'Courier New',monospace\"><span style=\"color: #7fbfbf; text-decoration-color: #7fbfbf\">[03:03:46] </span><span style=\"color: #000080; text-decoration-color: #000080\">INFO    </span> ===<span style=\"color: #808000; text-decoration-color: #808000\">user</span>===                                                                        <a href=\"file:///Users/stanb/src/relyonai/relyonai/prompt/prompt.py\" target=\"_blank\"><span style=\"color: #7f7f7f; text-decoration-color: #7f7f7f\">prompt.py</span></a><span style=\"color: #7f7f7f; text-decoration-color: #7f7f7f\">:</span><a href=\"file:///Users/stanb/src/relyonai/relyonai/prompt/prompt.py#195\" target=\"_blank\"><span style=\"color: #7f7f7f; text-decoration-color: #7f7f7f\">195</span></a>\n",
       "<span style=\"color: #7fbfbf; text-decoration-color: #7fbfbf\">           </span>         task description: <span style=\"color: #008000; text-decoration-color: #008000\">\"\"</span>\"                                                             <span style=\"color: #7f7f7f; text-decoration-color: #7f7f7f\">             </span>\n",
       "<span style=\"color: #7fbfbf; text-decoration-color: #7fbfbf\">           </span>         return diagonal unit matrix constructor from numpy                                <span style=\"color: #7f7f7f; text-decoration-color: #7f7f7f\">             </span>\n",
       "<span style=\"color: #7fbfbf; text-decoration-color: #7fbfbf\">           </span>         <span style=\"color: #008000; text-decoration-color: #008000\">\"\"</span>\"                                                                               <span style=\"color: #7f7f7f; text-decoration-color: #7f7f7f\">             </span>\n",
       "<span style=\"color: #7fbfbf; text-decoration-color: #7fbfbf\">           </span>         environment: new python interpreter                                               <span style=\"color: #7f7f7f; text-decoration-color: #7f7f7f\">             </span>\n",
       "<span style=\"color: #7fbfbf; text-decoration-color: #7fbfbf\">           </span>         global variables: <span style=\"font-weight: bold\">&lt;</span><span style=\"color: #ff00ff; text-decoration-color: #ff00ff; font-weight: bold\">empty</span><span style=\"font-weight: bold\">&gt;</span>                                                         <span style=\"color: #7f7f7f; text-decoration-color: #7f7f7f\">             </span>\n",
       "</pre>\n"
      ],
      "text/plain": [
       "\u001b[2;36m[03:03:46]\u001b[0m\u001b[2;36m \u001b[0m\u001b[34mINFO    \u001b[0m ===\u001b[33muser\u001b[0m===                                                                        \u001b]8;id=642732;file:///Users/stanb/src/relyonai/relyonai/prompt/prompt.py\u001b\\\u001b[2mprompt.py\u001b[0m\u001b]8;;\u001b\\\u001b[2m:\u001b[0m\u001b]8;id=978268;file:///Users/stanb/src/relyonai/relyonai/prompt/prompt.py#195\u001b\\\u001b[2m195\u001b[0m\u001b]8;;\u001b\\\n",
       "\u001b[2;36m           \u001b[0m         task description: \u001b[32m\"\"\u001b[0m\"                                                             \u001b[2m             \u001b[0m\n",
       "\u001b[2;36m           \u001b[0m         return diagonal unit matrix constructor from numpy                                \u001b[2m             \u001b[0m\n",
       "\u001b[2;36m           \u001b[0m         \u001b[32m\"\"\u001b[0m\"                                                                               \u001b[2m             \u001b[0m\n",
       "\u001b[2;36m           \u001b[0m         environment: new python interpreter                                               \u001b[2m             \u001b[0m\n",
       "\u001b[2;36m           \u001b[0m         global variables: \u001b[1m<\u001b[0m\u001b[1;95mempty\u001b[0m\u001b[1m>\u001b[0m                                                         \u001b[2m             \u001b[0m\n"
      ]
     },
     "metadata": {},
     "output_type": "display_data"
    },
    {
     "data": {
      "text/html": [
       "<pre style=\"white-space:pre;overflow-x:auto;line-height:normal;font-family:Menlo,'DejaVu Sans Mono',consolas,'Courier New',monospace\"><span style=\"color: #7fbfbf; text-decoration-color: #7fbfbf\">           </span><span style=\"color: #000080; text-decoration-color: #000080\">INFO    </span> cache miss on emb                                                                    <a href=\"file:///Users/stanb/src/relyonai/relyonai/llm.py\" target=\"_blank\"><span style=\"color: #7f7f7f; text-decoration-color: #7f7f7f\">llm.py</span></a><span style=\"color: #7f7f7f; text-decoration-color: #7f7f7f\">:</span><a href=\"file:///Users/stanb/src/relyonai/relyonai/llm.py#100\" target=\"_blank\"><span style=\"color: #7f7f7f; text-decoration-color: #7f7f7f\">100</span></a>\n",
       "</pre>\n"
      ],
      "text/plain": [
       "\u001b[2;36m          \u001b[0m\u001b[2;36m \u001b[0m\u001b[34mINFO    \u001b[0m cache miss on emb                                                                    \u001b]8;id=792764;file:///Users/stanb/src/relyonai/relyonai/llm.py\u001b\\\u001b[2mllm.py\u001b[0m\u001b]8;;\u001b\\\u001b[2m:\u001b[0m\u001b]8;id=495836;file:///Users/stanb/src/relyonai/relyonai/llm.py#100\u001b\\\u001b[2m100\u001b[0m\u001b]8;;\u001b\\\n"
      ]
     },
     "metadata": {},
     "output_type": "display_data"
    },
    {
     "data": {
      "text/html": [
       "<pre style=\"white-space:pre;overflow-x:auto;line-height:normal;font-family:Menlo,'DejaVu Sans Mono',consolas,'Courier New',monospace\"><span style=\"color: #7fbfbf; text-decoration-color: #7fbfbf\">[03:03:47] </span><span style=\"color: #000080; text-decoration-color: #000080\">INFO    </span> emb token usage: <span style=\"color: #008080; text-decoration-color: #008080; font-weight: bold\">7</span>                                                                   <a href=\"file:///Users/stanb/src/relyonai/relyonai/llm.py\" target=\"_blank\"><span style=\"color: #7f7f7f; text-decoration-color: #7f7f7f\">llm.py</span></a><span style=\"color: #7f7f7f; text-decoration-color: #7f7f7f\">:</span><a href=\"file:///Users/stanb/src/relyonai/relyonai/llm.py#113\" target=\"_blank\"><span style=\"color: #7f7f7f; text-decoration-color: #7f7f7f\">113</span></a>\n",
       "</pre>\n"
      ],
      "text/plain": [
       "\u001b[2;36m[03:03:47]\u001b[0m\u001b[2;36m \u001b[0m\u001b[34mINFO    \u001b[0m emb token usage: \u001b[1;36m7\u001b[0m                                                                   \u001b]8;id=323277;file:///Users/stanb/src/relyonai/relyonai/llm.py\u001b\\\u001b[2mllm.py\u001b[0m\u001b]8;;\u001b\\\u001b[2m:\u001b[0m\u001b]8;id=517672;file:///Users/stanb/src/relyonai/relyonai/llm.py#113\u001b\\\u001b[2m113\u001b[0m\u001b]8;;\u001b\\\n"
      ]
     },
     "metadata": {},
     "output_type": "display_data"
    },
    {
     "data": {
      "text/html": [
       "<pre style=\"white-space:pre;overflow-x:auto;line-height:normal;font-family:Menlo,'DejaVu Sans Mono',consolas,'Courier New',monospace\"><span style=\"color: #7fbfbf; text-decoration-color: #7fbfbf\">           </span><span style=\"color: #000080; text-decoration-color: #000080\">INFO    </span> cache miss on codegen gpt                                                             <a href=\"file:///Users/stanb/src/relyonai/relyonai/llm.py\" target=\"_blank\"><span style=\"color: #7f7f7f; text-decoration-color: #7f7f7f\">llm.py</span></a><span style=\"color: #7f7f7f; text-decoration-color: #7f7f7f\">:</span><a href=\"file:///Users/stanb/src/relyonai/relyonai/llm.py#25\" target=\"_blank\"><span style=\"color: #7f7f7f; text-decoration-color: #7f7f7f\">25</span></a>\n",
       "</pre>\n"
      ],
      "text/plain": [
       "\u001b[2;36m          \u001b[0m\u001b[2;36m \u001b[0m\u001b[34mINFO    \u001b[0m cache miss on codegen gpt                                                             \u001b]8;id=334233;file:///Users/stanb/src/relyonai/relyonai/llm.py\u001b\\\u001b[2mllm.py\u001b[0m\u001b]8;;\u001b\\\u001b[2m:\u001b[0m\u001b]8;id=492823;file:///Users/stanb/src/relyonai/relyonai/llm.py#25\u001b\\\u001b[2m25\u001b[0m\u001b]8;;\u001b\\\n"
      ]
     },
     "metadata": {},
     "output_type": "display_data"
    },
    {
     "data": {
      "text/html": [
       "<pre style=\"white-space:pre;overflow-x:auto;line-height:normal;font-family:Menlo,'DejaVu Sans Mono',consolas,'Courier New',monospace\"><span style=\"color: #7fbfbf; text-decoration-color: #7fbfbf\">           </span><span style=\"color: #000080; text-decoration-color: #000080\">INFO    </span> len prompt messages: <span style=\"color: #008080; text-decoration-color: #008080; font-weight: bold\">40</span>                                                               <a href=\"file:///Users/stanb/src/relyonai/relyonai/llm.py\" target=\"_blank\"><span style=\"color: #7f7f7f; text-decoration-color: #7f7f7f\">llm.py</span></a><span style=\"color: #7f7f7f; text-decoration-color: #7f7f7f\">:</span><a href=\"file:///Users/stanb/src/relyonai/relyonai/llm.py#29\" target=\"_blank\"><span style=\"color: #7f7f7f; text-decoration-color: #7f7f7f\">29</span></a>\n",
       "</pre>\n"
      ],
      "text/plain": [
       "\u001b[2;36m          \u001b[0m\u001b[2;36m \u001b[0m\u001b[34mINFO    \u001b[0m len prompt messages: \u001b[1;36m40\u001b[0m                                                               \u001b]8;id=104275;file:///Users/stanb/src/relyonai/relyonai/llm.py\u001b\\\u001b[2mllm.py\u001b[0m\u001b]8;;\u001b\\\u001b[2m:\u001b[0m\u001b]8;id=957708;file:///Users/stanb/src/relyonai/relyonai/llm.py#29\u001b\\\u001b[2m29\u001b[0m\u001b]8;;\u001b\\\n"
      ]
     },
     "metadata": {},
     "output_type": "display_data"
    },
    {
     "data": {
      "text/html": [
       "<pre style=\"white-space:pre;overflow-x:auto;line-height:normal;font-family:Menlo,'DejaVu Sans Mono',consolas,'Courier New',monospace\"><span style=\"color: #7fbfbf; text-decoration-color: #7fbfbf\">[03:03:51] </span><span style=\"color: #000080; text-decoration-color: #000080\">INFO    </span> codegen token usage: <span style=\"color: #008080; text-decoration-color: #008080; font-weight: bold\">1998</span>                                                             <a href=\"file:///Users/stanb/src/relyonai/relyonai/llm.py\" target=\"_blank\"><span style=\"color: #7f7f7f; text-decoration-color: #7f7f7f\">llm.py</span></a><span style=\"color: #7f7f7f; text-decoration-color: #7f7f7f\">:</span><a href=\"file:///Users/stanb/src/relyonai/relyonai/llm.py#38\" target=\"_blank\"><span style=\"color: #7f7f7f; text-decoration-color: #7f7f7f\">38</span></a>\n",
       "</pre>\n"
      ],
      "text/plain": [
       "\u001b[2;36m[03:03:51]\u001b[0m\u001b[2;36m \u001b[0m\u001b[34mINFO    \u001b[0m codegen token usage: \u001b[1;36m1998\u001b[0m                                                             \u001b]8;id=321976;file:///Users/stanb/src/relyonai/relyonai/llm.py\u001b\\\u001b[2mllm.py\u001b[0m\u001b]8;;\u001b\\\u001b[2m:\u001b[0m\u001b]8;id=196040;file:///Users/stanb/src/relyonai/relyonai/llm.py#38\u001b\\\u001b[2m38\u001b[0m\u001b]8;;\u001b\\\n"
      ]
     },
     "metadata": {},
     "output_type": "display_data"
    },
    {
     "data": {
      "text/html": [
       "<pre style=\"white-space:pre;overflow-x:auto;line-height:normal;font-family:Menlo,'DejaVu Sans Mono',consolas,'Courier New',monospace\"><span style=\"color: #7fbfbf; text-decoration-color: #7fbfbf\">           </span><span style=\"color: #000080; text-decoration-color: #000080\">INFO    </span> ===<span style=\"color: #808000; text-decoration-color: #808000\">assistant</span>===                                                                   <a href=\"file:///Users/stanb/src/relyonai/relyonai/prompt/prompt.py\" target=\"_blank\"><span style=\"color: #7f7f7f; text-decoration-color: #7f7f7f\">prompt.py</span></a><span style=\"color: #7f7f7f; text-decoration-color: #7f7f7f\">:</span><a href=\"file:///Users/stanb/src/relyonai/relyonai/prompt/prompt.py#195\" target=\"_blank\"><span style=\"color: #7f7f7f; text-decoration-color: #7f7f7f\">195</span></a>\n",
       "<span style=\"color: #7fbfbf; text-decoration-color: #7fbfbf\">           </span>         ```python                                                                         <span style=\"color: #7f7f7f; text-decoration-color: #7f7f7f\">             </span>\n",
       "<span style=\"color: #7fbfbf; text-decoration-color: #7fbfbf\">           </span>         import numpy as np                                                                <span style=\"color: #7f7f7f; text-decoration-color: #7f7f7f\">             </span>\n",
       "<span style=\"color: #7fbfbf; text-decoration-color: #7fbfbf\">           </span>                                                                                           <span style=\"color: #7f7f7f; text-decoration-color: #7f7f7f\">             </span>\n",
       "<span style=\"color: #7fbfbf; text-decoration-color: #7fbfbf\">           </span>         def <span style=\"color: #800080; text-decoration-color: #800080; font-weight: bold\">diagonal_unit_matrix</span><span style=\"font-weight: bold\">(</span>n<span style=\"font-weight: bold\">)</span>:                                                      <span style=\"color: #7f7f7f; text-decoration-color: #7f7f7f\">             </span>\n",
       "<span style=\"color: #7fbfbf; text-decoration-color: #7fbfbf\">           </span>             return <span style=\"color: #800080; text-decoration-color: #800080; font-weight: bold\">np.eye</span><span style=\"font-weight: bold\">(</span>n<span style=\"font-weight: bold\">)</span>                                                              <span style=\"color: #7f7f7f; text-decoration-color: #7f7f7f\">             </span>\n",
       "<span style=\"color: #7fbfbf; text-decoration-color: #7fbfbf\">           </span>                                                                                           <span style=\"color: #7f7f7f; text-decoration-color: #7f7f7f\">             </span>\n",
       "<span style=\"color: #7fbfbf; text-decoration-color: #7fbfbf\">           </span>         <span style=\"color: #800080; text-decoration-color: #800080; font-weight: bold\">finish_task_ok</span><span style=\"font-weight: bold\">(</span>diagonal_unit_matrix<span style=\"font-weight: bold\">)</span>;                                             <span style=\"color: #7f7f7f; text-decoration-color: #7f7f7f\">             </span>\n",
       "<span style=\"color: #7fbfbf; text-decoration-color: #7fbfbf\">           </span>         ```                                                                               <span style=\"color: #7f7f7f; text-decoration-color: #7f7f7f\">             </span>\n",
       "</pre>\n"
      ],
      "text/plain": [
       "\u001b[2;36m          \u001b[0m\u001b[2;36m \u001b[0m\u001b[34mINFO    \u001b[0m ===\u001b[33massistant\u001b[0m===                                                                   \u001b]8;id=662201;file:///Users/stanb/src/relyonai/relyonai/prompt/prompt.py\u001b\\\u001b[2mprompt.py\u001b[0m\u001b]8;;\u001b\\\u001b[2m:\u001b[0m\u001b]8;id=915013;file:///Users/stanb/src/relyonai/relyonai/prompt/prompt.py#195\u001b\\\u001b[2m195\u001b[0m\u001b]8;;\u001b\\\n",
       "\u001b[2;36m           \u001b[0m         ```python                                                                         \u001b[2m             \u001b[0m\n",
       "\u001b[2;36m           \u001b[0m         import numpy as np                                                                \u001b[2m             \u001b[0m\n",
       "\u001b[2;36m           \u001b[0m                                                                                           \u001b[2m             \u001b[0m\n",
       "\u001b[2;36m           \u001b[0m         def \u001b[1;35mdiagonal_unit_matrix\u001b[0m\u001b[1m(\u001b[0mn\u001b[1m)\u001b[0m:                                                      \u001b[2m             \u001b[0m\n",
       "\u001b[2;36m           \u001b[0m             return \u001b[1;35mnp.eye\u001b[0m\u001b[1m(\u001b[0mn\u001b[1m)\u001b[0m                                                              \u001b[2m             \u001b[0m\n",
       "\u001b[2;36m           \u001b[0m                                                                                           \u001b[2m             \u001b[0m\n",
       "\u001b[2;36m           \u001b[0m         \u001b[1;35mfinish_task_ok\u001b[0m\u001b[1m(\u001b[0mdiagonal_unit_matrix\u001b[1m)\u001b[0m;                                             \u001b[2m             \u001b[0m\n",
       "\u001b[2;36m           \u001b[0m         ```                                                                               \u001b[2m             \u001b[0m\n"
      ]
     },
     "metadata": {},
     "output_type": "display_data"
    },
    {
     "data": {
      "text/plain": [
       "<function diagonal_unit_matrix(n)>"
      ]
     },
     "execution_count": 19,
     "metadata": {},
     "output_type": "execute_result"
    }
   ],
   "source": [
    "ai('return diagonal unit matrix constructor from numpy')"
   ]
  },
  {
   "cell_type": "code",
   "execution_count": 15,
   "metadata": {},
   "outputs": [
    {
     "data": {
      "text/html": [
       "<pre style=\"white-space:pre;overflow-x:auto;line-height:normal;font-family:Menlo,'DejaVu Sans Mono',consolas,'Courier New',monospace\"><span style=\"color: #7fbfbf; text-decoration-color: #7fbfbf\">[02:53:54] </span><span style=\"color: #000080; text-decoration-color: #000080\">INFO    </span> ===<span style=\"color: #808000; text-decoration-color: #808000\">user</span>===                                                                        <a href=\"file:///Users/stanb/src/relyonai/relyonai/prompt/prompt.py\" target=\"_blank\"><span style=\"color: #7f7f7f; text-decoration-color: #7f7f7f\">prompt.py</span></a><span style=\"color: #7f7f7f; text-decoration-color: #7f7f7f\">:</span><a href=\"file:///Users/stanb/src/relyonai/relyonai/prompt/prompt.py#195\" target=\"_blank\"><span style=\"color: #7f7f7f; text-decoration-color: #7f7f7f\">195</span></a>\n",
       "<span style=\"color: #7fbfbf; text-decoration-color: #7fbfbf\">           </span>         task description: <span style=\"color: #008000; text-decoration-color: #008000\">\"\"</span>\"                                                             <span style=\"color: #7f7f7f; text-decoration-color: #7f7f7f\">             </span>\n",
       "<span style=\"color: #7fbfbf; text-decoration-color: #7fbfbf\">           </span>         diagonal unit matrix constructor from numpy                                       <span style=\"color: #7f7f7f; text-decoration-color: #7f7f7f\">             </span>\n",
       "<span style=\"color: #7fbfbf; text-decoration-color: #7fbfbf\">           </span>         <span style=\"color: #008000; text-decoration-color: #008000\">\"\"</span>\"                                                                               <span style=\"color: #7f7f7f; text-decoration-color: #7f7f7f\">             </span>\n",
       "<span style=\"color: #7fbfbf; text-decoration-color: #7fbfbf\">           </span>         environment: new python interpreter                                               <span style=\"color: #7f7f7f; text-decoration-color: #7f7f7f\">             </span>\n",
       "<span style=\"color: #7fbfbf; text-decoration-color: #7fbfbf\">           </span>         global variables: <span style=\"font-weight: bold\">&lt;</span><span style=\"color: #ff00ff; text-decoration-color: #ff00ff; font-weight: bold\">empty</span><span style=\"font-weight: bold\">&gt;</span>                                                         <span style=\"color: #7f7f7f; text-decoration-color: #7f7f7f\">             </span>\n",
       "</pre>\n"
      ],
      "text/plain": [
       "\u001b[2;36m[02:53:54]\u001b[0m\u001b[2;36m \u001b[0m\u001b[34mINFO    \u001b[0m ===\u001b[33muser\u001b[0m===                                                                        \u001b]8;id=151997;file:///Users/stanb/src/relyonai/relyonai/prompt/prompt.py\u001b\\\u001b[2mprompt.py\u001b[0m\u001b]8;;\u001b\\\u001b[2m:\u001b[0m\u001b]8;id=574770;file:///Users/stanb/src/relyonai/relyonai/prompt/prompt.py#195\u001b\\\u001b[2m195\u001b[0m\u001b]8;;\u001b\\\n",
       "\u001b[2;36m           \u001b[0m         task description: \u001b[32m\"\"\u001b[0m\"                                                             \u001b[2m             \u001b[0m\n",
       "\u001b[2;36m           \u001b[0m         diagonal unit matrix constructor from numpy                                       \u001b[2m             \u001b[0m\n",
       "\u001b[2;36m           \u001b[0m         \u001b[32m\"\"\u001b[0m\"                                                                               \u001b[2m             \u001b[0m\n",
       "\u001b[2;36m           \u001b[0m         environment: new python interpreter                                               \u001b[2m             \u001b[0m\n",
       "\u001b[2;36m           \u001b[0m         global variables: \u001b[1m<\u001b[0m\u001b[1;95mempty\u001b[0m\u001b[1m>\u001b[0m                                                         \u001b[2m             \u001b[0m\n"
      ]
     },
     "metadata": {},
     "output_type": "display_data"
    },
    {
     "data": {
      "text/html": [
       "<pre style=\"white-space:pre;overflow-x:auto;line-height:normal;font-family:Menlo,'DejaVu Sans Mono',consolas,'Courier New',monospace\"><span style=\"color: #7fbfbf; text-decoration-color: #7fbfbf\">           </span><span style=\"color: #000080; text-decoration-color: #000080\">INFO    </span> ===<span style=\"color: #808000; text-decoration-color: #808000\">assistant</span>===                                                                   <a href=\"file:///Users/stanb/src/relyonai/relyonai/prompt/prompt.py\" target=\"_blank\"><span style=\"color: #7f7f7f; text-decoration-color: #7f7f7f\">prompt.py</span></a><span style=\"color: #7f7f7f; text-decoration-color: #7f7f7f\">:</span><a href=\"file:///Users/stanb/src/relyonai/relyonai/prompt/prompt.py#195\" target=\"_blank\"><span style=\"color: #7f7f7f; text-decoration-color: #7f7f7f\">195</span></a>\n",
       "<span style=\"color: #7fbfbf; text-decoration-color: #7fbfbf\">           </span>         ```python                                                                         <span style=\"color: #7f7f7f; text-decoration-color: #7f7f7f\">             </span>\n",
       "<span style=\"color: #7fbfbf; text-decoration-color: #7fbfbf\">           </span>         import numpy as np                                                                <span style=\"color: #7f7f7f; text-decoration-color: #7f7f7f\">             </span>\n",
       "<span style=\"color: #7fbfbf; text-decoration-color: #7fbfbf\">           </span>                                                                                           <span style=\"color: #7f7f7f; text-decoration-color: #7f7f7f\">             </span>\n",
       "<span style=\"color: #7fbfbf; text-decoration-color: #7fbfbf\">           </span>         # diagonal matrix is a matrix where all elements outside of the main diagonal are <span style=\"color: #7f7f7f; text-decoration-color: #7f7f7f\">             </span>\n",
       "<span style=\"color: #7fbfbf; text-decoration-color: #7fbfbf\">           </span>         zero                                                                              <span style=\"color: #7f7f7f; text-decoration-color: #7f7f7f\">             </span>\n",
       "<span style=\"color: #7fbfbf; text-decoration-color: #7fbfbf\">           </span>         # and all elements on the main diagonal are equal to some value                   <span style=\"color: #7f7f7f; text-decoration-color: #7f7f7f\">             </span>\n",
       "<span style=\"color: #7fbfbf; text-decoration-color: #7fbfbf\">           </span>         # unit matrix is a diagonal matrix where all elements on the main diagonal are    <span style=\"color: #7f7f7f; text-decoration-color: #7f7f7f\">             </span>\n",
       "<span style=\"color: #7fbfbf; text-decoration-color: #7fbfbf\">           </span>         equal to <span style=\"color: #008080; text-decoration-color: #008080; font-weight: bold\">1</span>                                                                        <span style=\"color: #7f7f7f; text-decoration-color: #7f7f7f\">             </span>\n",
       "<span style=\"color: #7fbfbf; text-decoration-color: #7fbfbf\">           </span>         result = <span style=\"color: #800080; text-decoration-color: #800080; font-weight: bold\">np.eye</span><span style=\"font-weight: bold\">(</span><span style=\"color: #008080; text-decoration-color: #008080; font-weight: bold\">3</span><span style=\"font-weight: bold\">)</span>                                                                <span style=\"color: #7f7f7f; text-decoration-color: #7f7f7f\">             </span>\n",
       "<span style=\"color: #7fbfbf; text-decoration-color: #7fbfbf\">           </span>         <span style=\"color: #800080; text-decoration-color: #800080; font-weight: bold\">finish_task_ok</span><span style=\"font-weight: bold\">(</span>result<span style=\"font-weight: bold\">)</span>;                                                           <span style=\"color: #7f7f7f; text-decoration-color: #7f7f7f\">             </span>\n",
       "<span style=\"color: #7fbfbf; text-decoration-color: #7fbfbf\">           </span>         ```                                                                               <span style=\"color: #7f7f7f; text-decoration-color: #7f7f7f\">             </span>\n",
       "</pre>\n"
      ],
      "text/plain": [
       "\u001b[2;36m          \u001b[0m\u001b[2;36m \u001b[0m\u001b[34mINFO    \u001b[0m ===\u001b[33massistant\u001b[0m===                                                                   \u001b]8;id=797660;file:///Users/stanb/src/relyonai/relyonai/prompt/prompt.py\u001b\\\u001b[2mprompt.py\u001b[0m\u001b]8;;\u001b\\\u001b[2m:\u001b[0m\u001b]8;id=578958;file:///Users/stanb/src/relyonai/relyonai/prompt/prompt.py#195\u001b\\\u001b[2m195\u001b[0m\u001b]8;;\u001b\\\n",
       "\u001b[2;36m           \u001b[0m         ```python                                                                         \u001b[2m             \u001b[0m\n",
       "\u001b[2;36m           \u001b[0m         import numpy as np                                                                \u001b[2m             \u001b[0m\n",
       "\u001b[2;36m           \u001b[0m                                                                                           \u001b[2m             \u001b[0m\n",
       "\u001b[2;36m           \u001b[0m         # diagonal matrix is a matrix where all elements outside of the main diagonal are \u001b[2m             \u001b[0m\n",
       "\u001b[2;36m           \u001b[0m         zero                                                                              \u001b[2m             \u001b[0m\n",
       "\u001b[2;36m           \u001b[0m         # and all elements on the main diagonal are equal to some value                   \u001b[2m             \u001b[0m\n",
       "\u001b[2;36m           \u001b[0m         # unit matrix is a diagonal matrix where all elements on the main diagonal are    \u001b[2m             \u001b[0m\n",
       "\u001b[2;36m           \u001b[0m         equal to \u001b[1;36m1\u001b[0m                                                                        \u001b[2m             \u001b[0m\n",
       "\u001b[2;36m           \u001b[0m         result = \u001b[1;35mnp.eye\u001b[0m\u001b[1m(\u001b[0m\u001b[1;36m3\u001b[0m\u001b[1m)\u001b[0m                                                                \u001b[2m             \u001b[0m\n",
       "\u001b[2;36m           \u001b[0m         \u001b[1;35mfinish_task_ok\u001b[0m\u001b[1m(\u001b[0mresult\u001b[1m)\u001b[0m;                                                           \u001b[2m             \u001b[0m\n",
       "\u001b[2;36m           \u001b[0m         ```                                                                               \u001b[2m             \u001b[0m\n"
      ]
     },
     "metadata": {},
     "output_type": "display_data"
    },
    {
     "data": {
      "text/html": [
       "<pre style=\"white-space:pre;overflow-x:auto;line-height:normal;font-family:Menlo,'DejaVu Sans Mono',consolas,'Courier New',monospace\"><span style=\"color: #800000; text-decoration-color: #800000\">╭─────────────────────────────── </span><span style=\"color: #800000; text-decoration-color: #800000; font-weight: bold\">Traceback </span><span style=\"color: #bf7f7f; text-decoration-color: #bf7f7f; font-weight: bold\">(most recent call last)</span><span style=\"color: #800000; text-decoration-color: #800000\"> ────────────────────────────────╮</span>\n",
       "<span style=\"color: #800000; text-decoration-color: #800000\">│</span> in <span style=\"color: #00ff00; text-decoration-color: #00ff00\">&lt;module&gt;</span>:<span style=\"color: #0000ff; text-decoration-color: #0000ff\">2</span>                                                                                    <span style=\"color: #800000; text-decoration-color: #800000\">│</span>\n",
       "<span style=\"color: #800000; text-decoration-color: #800000\">│</span>                                                                                                  <span style=\"color: #800000; text-decoration-color: #800000\">│</span>\n",
       "<span style=\"color: #800000; text-decoration-color: #800000\">│</span>   <span style=\"color: #7f7f7f; text-decoration-color: #7f7f7f\">1 </span><span style=\"color: #0000ff; text-decoration-color: #0000ff\">import</span> <span style=\"color: #00ffff; text-decoration-color: #00ffff; text-decoration: underline\">numpy</span> <span style=\"color: #0000ff; text-decoration-color: #0000ff\">as</span> <span style=\"color: #00ffff; text-decoration-color: #00ffff; text-decoration: underline\">np</span>                                                                           <span style=\"color: #800000; text-decoration-color: #800000\">│</span>\n",
       "<span style=\"color: #800000; text-decoration-color: #800000\">│</span> <span style=\"color: #800000; text-decoration-color: #800000\">❱ </span>2 np.allclose(ai(<span style=\"color: #808000; text-decoration-color: #808000\">'diagonal unit matrix constructor from numpy'</span>)(<span style=\"color: #0000ff; text-decoration-color: #0000ff\">10</span>), np.eye(<span style=\"color: #0000ff; text-decoration-color: #0000ff\">10</span>))               <span style=\"color: #800000; text-decoration-color: #800000\">│</span>\n",
       "<span style=\"color: #800000; text-decoration-color: #800000\">│</span>   <span style=\"color: #7f7f7f; text-decoration-color: #7f7f7f\">3 </span>                                                                                             <span style=\"color: #800000; text-decoration-color: #800000\">│</span>\n",
       "<span style=\"color: #800000; text-decoration-color: #800000\">│</span>                                                                                                  <span style=\"color: #800000; text-decoration-color: #800000\">│</span>\n",
       "<span style=\"color: #800000; text-decoration-color: #800000\">│</span> <span style=\"color: #808000; text-decoration-color: #808000\">╭─────────────────────────────────────────── locals ───────────────────────────────────────────╮</span> <span style=\"color: #800000; text-decoration-color: #800000\">│</span>\n",
       "<span style=\"color: #800000; text-decoration-color: #800000\">│</span> <span style=\"color: #808000; text-decoration-color: #808000\">│</span>             ai = <span style=\"font-weight: bold\">&lt;</span><span style=\"color: #ff00ff; text-decoration-color: #ff00ff; font-weight: bold\">function</span><span style=\"color: #000000; text-decoration-color: #000000\"> ai at </span><span style=\"color: #0000ff; text-decoration-color: #0000ff\">0x7f9b09e7e8b0</span><span style=\"font-weight: bold\">&gt;</span>                                             <span style=\"color: #808000; text-decoration-color: #808000\">│</span> <span style=\"color: #800000; text-decoration-color: #800000\">│</span>\n",
       "<span style=\"color: #800000; text-decoration-color: #800000\">│</span> <span style=\"color: #808000; text-decoration-color: #808000\">│</span>         config = <span style=\"color: #800080; text-decoration-color: #800080; font-weight: bold\">_Config</span><span style=\"font-weight: bold\">(</span>                                                                    <span style=\"color: #808000; text-decoration-color: #808000\">│</span> <span style=\"color: #800000; text-decoration-color: #800000\">│</span>\n",
       "<span style=\"color: #800000; text-decoration-color: #800000\">│</span> <span style=\"color: #808000; text-decoration-color: #808000\">│</span>                  <span style=\"color: #7f7f7f; text-decoration-color: #7f7f7f\">│   </span><span style=\"color: #808000; text-decoration-color: #808000\">python_version</span>=<span style=\"color: #808000; text-decoration-color: #808000\">'3.8'</span>,                                                   <span style=\"color: #808000; text-decoration-color: #808000\">│</span> <span style=\"color: #800000; text-decoration-color: #800000\">│</span>\n",
       "<span style=\"color: #800000; text-decoration-color: #800000\">│</span> <span style=\"color: #808000; text-decoration-color: #808000\">│</span>                  <span style=\"color: #7f7f7f; text-decoration-color: #7f7f7f\">│   </span><span style=\"color: #808000; text-decoration-color: #808000\">model</span>=<span style=\"color: #808000; text-decoration-color: #808000\">'gpt-3.5-turbo'</span>,                                                  <span style=\"color: #808000; text-decoration-color: #808000\">│</span> <span style=\"color: #800000; text-decoration-color: #800000\">│</span>\n",
       "<span style=\"color: #800000; text-decoration-color: #800000\">│</span> <span style=\"color: #808000; text-decoration-color: #808000\">│</span>                  <span style=\"color: #7f7f7f; text-decoration-color: #7f7f7f\">│   </span><span style=\"color: #808000; text-decoration-color: #808000\">embedding_model</span>=<span style=\"color: #808000; text-decoration-color: #808000\">'text-embedding-ada-002'</span>,                               <span style=\"color: #808000; text-decoration-color: #808000\">│</span> <span style=\"color: #800000; text-decoration-color: #800000\">│</span>\n",
       "<span style=\"color: #800000; text-decoration-color: #800000\">│</span> <span style=\"color: #808000; text-decoration-color: #808000\">│</span>                  <span style=\"color: #7f7f7f; text-decoration-color: #7f7f7f\">│   </span><span style=\"color: #808000; text-decoration-color: #808000\">n_tokens_relevant_prompt</span>=<span style=\"color: #0000ff; text-decoration-color: #0000ff\">2048</span>,                                          <span style=\"color: #808000; text-decoration-color: #808000\">│</span> <span style=\"color: #800000; text-decoration-color: #800000\">│</span>\n",
       "<span style=\"color: #800000; text-decoration-color: #800000\">│</span> <span style=\"color: #808000; text-decoration-color: #808000\">│</span>                  <span style=\"color: #7f7f7f; text-decoration-color: #7f7f7f\">│   </span><span style=\"color: #808000; text-decoration-color: #808000\">n_truncate_repr</span>=<span style=\"color: #0000ff; text-decoration-color: #0000ff\">300</span>,                                                    <span style=\"color: #808000; text-decoration-color: #808000\">│</span> <span style=\"color: #800000; text-decoration-color: #800000\">│</span>\n",
       "<span style=\"color: #800000; text-decoration-color: #800000\">│</span> <span style=\"color: #808000; text-decoration-color: #808000\">│</span>                  <span style=\"color: #7f7f7f; text-decoration-color: #7f7f7f\">│   </span><span style=\"color: #808000; text-decoration-color: #808000\">history_len_max</span>=<span style=\"color: #0000ff; text-decoration-color: #0000ff\">5</span>,                                                      <span style=\"color: #808000; text-decoration-color: #808000\">│</span> <span style=\"color: #800000; text-decoration-color: #800000\">│</span>\n",
       "<span style=\"color: #800000; text-decoration-color: #800000\">│</span> <span style=\"color: #808000; text-decoration-color: #808000\">│</span>                  <span style=\"color: #7f7f7f; text-decoration-color: #7f7f7f\">│   </span><span style=\"color: #808000; text-decoration-color: #808000\">cache_path</span>=<span style=\"color: #808000; text-decoration-color: #808000\">'/Users/stanb/.cache/relyonai'</span>,                               <span style=\"color: #808000; text-decoration-color: #808000\">│</span> <span style=\"color: #800000; text-decoration-color: #800000\">│</span>\n",
       "<span style=\"color: #800000; text-decoration-color: #800000\">│</span> <span style=\"color: #808000; text-decoration-color: #808000\">│</span>                  <span style=\"color: #7f7f7f; text-decoration-color: #7f7f7f\">│   </span><span style=\"color: #808000; text-decoration-color: #808000\">dollars_limit</span>=<span style=\"color: #0000ff; text-decoration-color: #0000ff\">1</span><span style=\"color: #0000ff; text-decoration-color: #0000ff\">.0</span>,                                                      <span style=\"color: #808000; text-decoration-color: #808000\">│</span> <span style=\"color: #800000; text-decoration-color: #800000\">│</span>\n",
       "<span style=\"color: #800000; text-decoration-color: #800000\">│</span> <span style=\"color: #808000; text-decoration-color: #808000\">│</span>                  <span style=\"color: #7f7f7f; text-decoration-color: #7f7f7f\">│   </span><span style=\"color: #808000; text-decoration-color: #808000\">_n_prompt_tokens</span>=<span style=\"color: #0000ff; text-decoration-color: #0000ff\">16578</span>,                                                 <span style=\"color: #808000; text-decoration-color: #808000\">│</span> <span style=\"color: #800000; text-decoration-color: #800000\">│</span>\n",
       "<span style=\"color: #800000; text-decoration-color: #800000\">│</span> <span style=\"color: #808000; text-decoration-color: #808000\">│</span>                  <span style=\"color: #7f7f7f; text-decoration-color: #7f7f7f\">│   </span><span style=\"color: #808000; text-decoration-color: #808000\">_n_completition_tokens</span>=<span style=\"color: #0000ff; text-decoration-color: #0000ff\">1099</span>,                                            <span style=\"color: #808000; text-decoration-color: #808000\">│</span> <span style=\"color: #800000; text-decoration-color: #800000\">│</span>\n",
       "<span style=\"color: #800000; text-decoration-color: #800000\">│</span> <span style=\"color: #808000; text-decoration-color: #808000\">│</span>                  <span style=\"color: #7f7f7f; text-decoration-color: #7f7f7f\">│   </span><span style=\"color: #808000; text-decoration-color: #808000\">_n_embedding_tokens</span>=<span style=\"color: #0000ff; text-decoration-color: #0000ff\">0</span>                                                   <span style=\"color: #808000; text-decoration-color: #808000\">│</span> <span style=\"color: #800000; text-decoration-color: #800000\">│</span>\n",
       "<span style=\"color: #800000; text-decoration-color: #800000\">│</span> <span style=\"color: #808000; text-decoration-color: #808000\">│</span>                  <span style=\"font-weight: bold\">)</span>                                                                           <span style=\"color: #808000; text-decoration-color: #808000\">│</span> <span style=\"color: #800000; text-decoration-color: #800000\">│</span>\n",
       "<span style=\"color: #800000; text-decoration-color: #800000\">│</span> <span style=\"color: #808000; text-decoration-color: #808000\">│</span>           exit = <span style=\"font-weight: bold\">&lt;</span><span style=\"color: #ff00ff; text-decoration-color: #ff00ff; font-weight: bold\">IPython.core.autocall.ZMQExitAutocall</span><span style=\"color: #000000; text-decoration-color: #000000\"> object at </span><span style=\"color: #0000ff; text-decoration-color: #0000ff\">0x7f9b18a56c10</span><span style=\"font-weight: bold\">&gt;</span>            <span style=\"color: #808000; text-decoration-color: #808000\">│</span> <span style=\"color: #800000; text-decoration-color: #800000\">│</span>\n",
       "<span style=\"color: #800000; text-decoration-color: #800000\">│</span> <span style=\"color: #808000; text-decoration-color: #808000\">│</span>    get_ipython = <span style=\"font-weight: bold\">&lt;</span><span style=\"color: #ff00ff; text-decoration-color: #ff00ff; font-weight: bold\">bound</span><span style=\"color: #000000; text-decoration-color: #000000\"> method InteractiveShell.get_ipython of </span>                              <span style=\"color: #808000; text-decoration-color: #808000\">│</span> <span style=\"color: #800000; text-decoration-color: #800000\">│</span>\n",
       "<span style=\"color: #800000; text-decoration-color: #800000\">│</span> <span style=\"color: #808000; text-decoration-color: #808000\">│</span>                  <span style=\"color: #000000; text-decoration-color: #000000\">&lt;ipykernel.zmqshell.ZMQInteractiveShell object at </span><span style=\"color: #0000ff; text-decoration-color: #0000ff\">0x7f9b18a56280</span><span style=\"color: #000000; text-decoration-color: #000000\">&gt;</span><span style=\"font-weight: bold\">&gt;</span>          <span style=\"color: #808000; text-decoration-color: #808000\">│</span> <span style=\"color: #800000; text-decoration-color: #800000\">│</span>\n",
       "<span style=\"color: #800000; text-decoration-color: #800000\">│</span> <span style=\"color: #808000; text-decoration-color: #808000\">│</span>            gpt = <span style=\"font-weight: bold\">&lt;</span><span style=\"color: #ff00ff; text-decoration-color: #ff00ff; font-weight: bold\">function</span><span style=\"color: #000000; text-decoration-color: #000000\"> gpt at </span><span style=\"color: #0000ff; text-decoration-color: #0000ff\">0x7f9b09e7e310</span><span style=\"font-weight: bold\">&gt;</span>                                            <span style=\"color: #808000; text-decoration-color: #808000\">│</span> <span style=\"color: #800000; text-decoration-color: #800000\">│</span>\n",
       "<span style=\"color: #800000; text-decoration-color: #800000\">│</span> <span style=\"color: #808000; text-decoration-color: #808000\">│</span>             In = <span style=\"font-weight: bold\">[</span>                                                                           <span style=\"color: #808000; text-decoration-color: #808000\">│</span> <span style=\"color: #800000; text-decoration-color: #800000\">│</span>\n",
       "<span style=\"color: #800000; text-decoration-color: #800000\">│</span> <span style=\"color: #808000; text-decoration-color: #808000\">│</span>                  <span style=\"color: #7f7f7f; text-decoration-color: #7f7f7f\">│   </span><span style=\"color: #808000; text-decoration-color: #808000\">''</span>,                                                                     <span style=\"color: #808000; text-decoration-color: #808000\">│</span> <span style=\"color: #800000; text-decoration-color: #800000\">│</span>\n",
       "<span style=\"color: #800000; text-decoration-color: #800000\">│</span> <span style=\"color: #808000; text-decoration-color: #808000\">│</span>                  <span style=\"color: #7f7f7f; text-decoration-color: #7f7f7f\">│   </span><span style=\"color: #808000; text-decoration-color: #808000\">\"get_ipython</span><span style=\"color: #808000; text-decoration-color: #808000; font-weight: bold\">()</span><span style=\"color: #808000; text-decoration-color: #808000\">.run_line_magic</span><span style=\"color: #808000; text-decoration-color: #808000; font-weight: bold\">(</span><span style=\"color: #808000; text-decoration-color: #808000\">'reload_ext', </span>                            <span style=\"color: #808000; text-decoration-color: #808000\">│</span> <span style=\"color: #800000; text-decoration-color: #800000\">│</span>\n",
       "<span style=\"color: #800000; text-decoration-color: #800000\">│</span> <span style=\"color: #808000; text-decoration-color: #808000\">│</span>                  <span style=\"color: #808000; text-decoration-color: #808000\">'autoreload'</span><span style=\"color: #808000; text-decoration-color: #808000; font-weight: bold\">)</span><span style=\"color: #808000; text-decoration-color: #808000\">\\nget_ipython</span><span style=\"color: #808000; text-decoration-color: #808000; font-weight: bold\">()</span><span style=\"color: #808000; text-decoration-color: #808000\">.run_line_\"</span>+<span style=\"color: #0000ff; text-decoration-color: #0000ff\">394</span>,                                <span style=\"color: #808000; text-decoration-color: #808000\">│</span> <span style=\"color: #800000; text-decoration-color: #800000\">│</span>\n",
       "<span style=\"color: #800000; text-decoration-color: #800000\">│</span> <span style=\"color: #808000; text-decoration-color: #808000\">│</span>                  <span style=\"color: #7f7f7f; text-decoration-color: #7f7f7f\">│   </span><span style=\"color: #808000; text-decoration-color: #808000\">\"ai</span><span style=\"color: #808000; text-decoration-color: #808000; font-weight: bold\">(</span><span style=\"color: #808000; text-decoration-color: #808000\">'check if input is a valid http url'</span><span style=\"color: #808000; text-decoration-color: #808000; font-weight: bold\">)</span><span style=\"color: #808000; text-decoration-color: #808000\">\"</span>,                             <span style=\"color: #808000; text-decoration-color: #808000\">│</span> <span style=\"color: #800000; text-decoration-color: #800000\">│</span>\n",
       "<span style=\"color: #800000; text-decoration-color: #800000\">│</span> <span style=\"color: #808000; text-decoration-color: #808000\">│</span>                  <span style=\"color: #7f7f7f; text-decoration-color: #7f7f7f\">│   </span><span style=\"color: #808000; text-decoration-color: #808000\">\"ai</span><span style=\"color: #808000; text-decoration-color: #808000; font-weight: bold\">(</span><span style=\"color: #808000; text-decoration-color: #808000\">'check if input is a valid http url'</span><span style=\"color: #808000; text-decoration-color: #808000; font-weight: bold\">)</span><span style=\"color: #808000; text-decoration-color: #808000\">\"</span>,                             <span style=\"color: #808000; text-decoration-color: #808000\">│</span> <span style=\"color: #800000; text-decoration-color: #800000\">│</span>\n",
       "<span style=\"color: #800000; text-decoration-color: #800000\">│</span> <span style=\"color: #808000; text-decoration-color: #808000\">│</span>                  <span style=\"color: #7f7f7f; text-decoration-color: #7f7f7f\">│   </span><span style=\"color: #808000; text-decoration-color: #808000\">\"ai</span><span style=\"color: #808000; text-decoration-color: #808000; font-weight: bold\">(</span><span style=\"color: #808000; text-decoration-color: #808000\">'extract all xxx-xxx-xxxx format phone numbers from text'</span><span style=\"color: #808000; text-decoration-color: #808000; font-weight: bold\">)</span><span style=\"color: #808000; text-decoration-color: #808000\">\"</span>,        <span style=\"color: #808000; text-decoration-color: #808000\">│</span> <span style=\"color: #800000; text-decoration-color: #800000\">│</span>\n",
       "<span style=\"color: #800000; text-decoration-color: #800000\">│</span> <span style=\"color: #808000; text-decoration-color: #808000\">│</span>                  <span style=\"color: #7f7f7f; text-decoration-color: #7f7f7f\">│   </span><span style=\"color: #808000; text-decoration-color: #808000\">\"ai</span><span style=\"color: #808000; text-decoration-color: #808000; font-weight: bold\">(</span><span style=\"color: #808000; text-decoration-color: #808000\">'extract all xxx-xxx-xxxx format phones from text a given text'</span><span style=\"color: #808000; text-decoration-color: #808000; font-weight: bold\">)</span><span style=\"color: #808000; text-decoration-color: #808000\">\"</span>,  <span style=\"color: #808000; text-decoration-color: #808000\">│</span> <span style=\"color: #800000; text-decoration-color: #800000\">│</span>\n",
       "<span style=\"color: #800000; text-decoration-color: #800000\">│</span> <span style=\"color: #808000; text-decoration-color: #808000\">│</span>                  <span style=\"color: #7f7f7f; text-decoration-color: #7f7f7f\">│   </span><span style=\"color: #808000; text-decoration-color: #808000\">\"ai</span><span style=\"color: #808000; text-decoration-color: #808000; font-weight: bold\">(</span><span style=\"color: #808000; text-decoration-color: #808000\">'extract all xxx-xxx-xxxx format phones from a given text'</span><span style=\"color: #808000; text-decoration-color: #808000; font-weight: bold\">)</span><span style=\"color: #808000; text-decoration-color: #808000\">\"</span>,       <span style=\"color: #808000; text-decoration-color: #808000\">│</span> <span style=\"color: #800000; text-decoration-color: #800000\">│</span>\n",
       "<span style=\"color: #800000; text-decoration-color: #800000\">│</span> <span style=\"color: #808000; text-decoration-color: #808000\">│</span>                  <span style=\"color: #7f7f7f; text-decoration-color: #7f7f7f\">│   </span><span style=\"color: #808000; text-decoration-color: #808000\">\"list_x = </span><span style=\"color: #808000; text-decoration-color: #808000; font-weight: bold\">[</span><span style=\"color: #808000; text-decoration-color: #808000\">2, 3, 4, 5, 6, 7, 8, 9</span><span style=\"color: #808000; text-decoration-color: #808000; font-weight: bold\">]</span><span style=\"color: #808000; text-decoration-color: #808000\">\\nai</span><span style=\"color: #808000; text-decoration-color: #808000; font-weight: bold\">(</span><span style=\"color: #808000; text-decoration-color: #808000\">'a list of non primes in </span>        <span style=\"color: #808000; text-decoration-color: #808000\">│</span> <span style=\"color: #800000; text-decoration-color: #800000\">│</span>\n",
       "<span style=\"color: #800000; text-decoration-color: #800000\">│</span> <span style=\"color: #808000; text-decoration-color: #808000\">│</span>                  <span style=\"color: #808000; text-decoration-color: #808000\">`list_x`', </span><span style=\"color: #808000; text-decoration-color: #808000\">list_x</span><span style=\"color: #808000; text-decoration-color: #808000\">=\"</span>+<span style=\"color: #0000ff; text-decoration-color: #0000ff\">23</span>,                                                     <span style=\"color: #808000; text-decoration-color: #808000\">│</span> <span style=\"color: #800000; text-decoration-color: #800000\">│</span>\n",
       "<span style=\"color: #800000; text-decoration-color: #800000\">│</span> <span style=\"color: #808000; text-decoration-color: #808000\">│</span>                  <span style=\"color: #7f7f7f; text-decoration-color: #7f7f7f\">│   </span><span style=\"color: #808000; text-decoration-color: #808000\">\"list_x = </span><span style=\"color: #808000; text-decoration-color: #808000; font-weight: bold\">[</span><span style=\"color: #808000; text-decoration-color: #808000\">2, 3, 4, 5, 6, 7, 8, 9</span><span style=\"color: #808000; text-decoration-color: #808000; font-weight: bold\">]</span><span style=\"color: #808000; text-decoration-color: #808000\">\\n#  == </span><span style=\"color: #808000; text-decoration-color: #808000; font-weight: bold\">[</span><span style=\"color: #808000; text-decoration-color: #808000\">4, 6, 8, 9</span><span style=\"color: #808000; text-decoration-color: #808000; font-weight: bold\">]</span><span style=\"color: #808000; text-decoration-color: #808000\">\\nai</span><span style=\"color: #808000; text-decoration-color: #808000; font-weight: bold\">(</span><span style=\"color: #808000; text-decoration-color: #808000\">'a list of </span>  <span style=\"color: #808000; text-decoration-color: #808000\">│</span> <span style=\"color: #800000; text-decoration-color: #800000\">│</span>\n",
       "<span style=\"color: #800000; text-decoration-color: #800000\">│</span> <span style=\"color: #808000; text-decoration-color: #808000\">│</span>                  <span style=\"color: #808000; text-decoration-color: #808000\">non primes in\"</span>+<span style=\"color: #0000ff; text-decoration-color: #0000ff\">26</span>,                                                          <span style=\"color: #808000; text-decoration-color: #808000\">│</span> <span style=\"color: #800000; text-decoration-color: #800000\">│</span>\n",
       "<span style=\"color: #800000; text-decoration-color: #800000\">│</span> <span style=\"color: #808000; text-decoration-color: #808000\">│</span>                  <span style=\"color: #7f7f7f; text-decoration-color: #7f7f7f\">│   </span><span style=\"color: #808000; text-decoration-color: #808000\">\"list_x = </span><span style=\"color: #808000; text-decoration-color: #808000; font-weight: bold\">[</span><span style=\"color: #808000; text-decoration-color: #808000\">2, 3, 4, 5, 6, 7, 8, 9</span><span style=\"color: #808000; text-decoration-color: #808000; font-weight: bold\">]</span><span style=\"color: #808000; text-decoration-color: #808000\">\\n#  == </span><span style=\"color: #808000; text-decoration-color: #808000; font-weight: bold\">[</span><span style=\"color: #808000; text-decoration-color: #808000\">4, 6, 8, 9</span><span style=\"color: #808000; text-decoration-color: #808000; font-weight: bold\">]</span><span style=\"color: #808000; text-decoration-color: #808000\">\\nai</span><span style=\"color: #808000; text-decoration-color: #808000; font-weight: bold\">(</span><span style=\"color: #808000; text-decoration-color: #808000\">'a list of </span>  <span style=\"color: #808000; text-decoration-color: #808000\">│</span> <span style=\"color: #800000; text-decoration-color: #800000\">│</span>\n",
       "<span style=\"color: #800000; text-decoration-color: #800000\">│</span> <span style=\"color: #808000; text-decoration-color: #808000\">│</span>                  <span style=\"color: #808000; text-decoration-color: #808000\">non primes in\"</span>+<span style=\"color: #0000ff; text-decoration-color: #0000ff\">32</span>,                                                          <span style=\"color: #808000; text-decoration-color: #808000\">│</span> <span style=\"color: #800000; text-decoration-color: #800000\">│</span>\n",
       "<span style=\"color: #800000; text-decoration-color: #800000\">│</span> <span style=\"color: #808000; text-decoration-color: #808000\">│</span>                  <span style=\"color: #7f7f7f; text-decoration-color: #7f7f7f\">│   </span><span style=\"color: #808000; text-decoration-color: #808000\">...</span> +<span style=\"color: #0000ff; text-decoration-color: #0000ff\">6</span>                                                                  <span style=\"color: #808000; text-decoration-color: #808000\">│</span> <span style=\"color: #800000; text-decoration-color: #800000\">│</span>\n",
       "<span style=\"color: #800000; text-decoration-color: #800000\">│</span> <span style=\"color: #808000; text-decoration-color: #808000\">│</span>                  <span style=\"font-weight: bold\">]</span>                                                                           <span style=\"color: #808000; text-decoration-color: #808000\">│</span> <span style=\"color: #800000; text-decoration-color: #800000\">│</span>\n",
       "<span style=\"color: #800000; text-decoration-color: #800000\">│</span> <span style=\"color: #808000; text-decoration-color: #808000\">│</span>         list_x = <span style=\"font-weight: bold\">[</span><span style=\"color: #0000ff; text-decoration-color: #0000ff\">2</span>, <span style=\"color: #0000ff; text-decoration-color: #0000ff\">3</span>, <span style=\"color: #0000ff; text-decoration-color: #0000ff\">4</span>, <span style=\"color: #0000ff; text-decoration-color: #0000ff\">5</span>, <span style=\"color: #0000ff; text-decoration-color: #0000ff\">6</span>, <span style=\"color: #0000ff; text-decoration-color: #0000ff\">7</span>, <span style=\"color: #0000ff; text-decoration-color: #0000ff\">8</span>, <span style=\"color: #0000ff; text-decoration-color: #0000ff\">9</span><span style=\"font-weight: bold\">]</span>                                                    <span style=\"color: #808000; text-decoration-color: #808000\">│</span> <span style=\"color: #800000; text-decoration-color: #800000\">│</span>\n",
       "<span style=\"color: #800000; text-decoration-color: #800000\">│</span> <span style=\"color: #808000; text-decoration-color: #808000\">│</span>        logging = <span style=\"font-weight: bold\">&lt;</span><span style=\"color: #ff00ff; text-decoration-color: #ff00ff; font-weight: bold\">module</span><span style=\"color: #000000; text-decoration-color: #000000\"> </span><span style=\"color: #808000; text-decoration-color: #808000\">'logging'</span><span style=\"color: #000000; text-decoration-color: #000000\"> from </span>                                                     <span style=\"color: #808000; text-decoration-color: #808000\">│</span> <span style=\"color: #800000; text-decoration-color: #800000\">│</span>\n",
       "<span style=\"color: #800000; text-decoration-color: #800000\">│</span> <span style=\"color: #808000; text-decoration-color: #808000\">│</span>                  <span style=\"color: #808000; text-decoration-color: #808000\">'/Users/stanb/.miniconda3/envs/relyonai/lib/python3.8/logging/__init__.py'</span><span style=\"font-weight: bold\">&gt;</span>  <span style=\"color: #808000; text-decoration-color: #808000\">│</span> <span style=\"color: #800000; text-decoration-color: #800000\">│</span>\n",
       "<span style=\"color: #800000; text-decoration-color: #800000\">│</span> <span style=\"color: #808000; text-decoration-color: #808000\">│</span>             np = <span style=\"font-weight: bold\">&lt;</span><span style=\"color: #ff00ff; text-decoration-color: #ff00ff; font-weight: bold\">module</span><span style=\"color: #000000; text-decoration-color: #000000\"> </span><span style=\"color: #808000; text-decoration-color: #808000\">'numpy'</span><span style=\"color: #000000; text-decoration-color: #000000\"> from </span>                                                       <span style=\"color: #808000; text-decoration-color: #808000\">│</span> <span style=\"color: #800000; text-decoration-color: #800000\">│</span>\n",
       "<span style=\"color: #800000; text-decoration-color: #800000\">│</span> <span style=\"color: #808000; text-decoration-color: #808000\">│</span>                  <span style=\"color: #808000; text-decoration-color: #808000\">'/Users/stanb/.miniconda3/envs/relyonai/lib/python3.8/site-packages/numpy/_…</span> <span style=\"color: #808000; text-decoration-color: #808000\">│</span> <span style=\"color: #800000; text-decoration-color: #800000\">│</span>\n",
       "<span style=\"color: #800000; text-decoration-color: #800000\">│</span> <span style=\"color: #808000; text-decoration-color: #808000\">│</span>           open = <span style=\"font-weight: bold\">&lt;</span><span style=\"color: #ff00ff; text-decoration-color: #ff00ff; font-weight: bold\">function</span><span style=\"color: #000000; text-decoration-color: #000000\"> open at </span><span style=\"color: #0000ff; text-decoration-color: #0000ff\">0x7f9b18719820</span><span style=\"font-weight: bold\">&gt;</span>                                           <span style=\"color: #808000; text-decoration-color: #808000\">│</span> <span style=\"color: #800000; text-decoration-color: #800000\">│</span>\n",
       "<span style=\"color: #800000; text-decoration-color: #800000\">│</span> <span style=\"color: #808000; text-decoration-color: #808000\">│</span>            Out = <span style=\"font-weight: bold\">{</span>                                                                           <span style=\"color: #808000; text-decoration-color: #808000\">│</span> <span style=\"color: #800000; text-decoration-color: #800000\">│</span>\n",
       "<span style=\"color: #800000; text-decoration-color: #800000\">│</span> <span style=\"color: #808000; text-decoration-color: #808000\">│</span>                  <span style=\"color: #7f7f7f; text-decoration-color: #7f7f7f\">│   </span><span style=\"color: #0000ff; text-decoration-color: #0000ff\">3</span>: <span style=\"font-weight: bold\">&lt;</span><span style=\"color: #ff00ff; text-decoration-color: #ff00ff; font-weight: bold\">function</span><span style=\"color: #000000; text-decoration-color: #000000\"> is_valid_url at </span><span style=\"color: #0000ff; text-decoration-color: #0000ff\">0x7f9b19136ca0</span><span style=\"color: #000000; text-decoration-color: #000000\">&gt;,</span>                           <span style=\"color: #808000; text-decoration-color: #808000\">│</span> <span style=\"color: #800000; text-decoration-color: #800000\">│</span>\n",
       "<span style=\"color: #800000; text-decoration-color: #800000\">│</span> <span style=\"color: #808000; text-decoration-color: #808000\">│</span>                  <span style=\"color: #7f7f7f; text-decoration-color: #7f7f7f\">│   </span><span style=\"color: #0000ff; text-decoration-color: #0000ff\">4</span><span style=\"color: #000000; text-decoration-color: #000000\">: </span><span style=\"color: #000000; text-decoration-color: #000000; font-weight: bold\">[</span><span style=\"color: #808000; text-decoration-color: #808000\">'123-456-7890'</span><span style=\"color: #000000; text-decoration-color: #000000\">, </span><span style=\"color: #808000; text-decoration-color: #808000\">'098-765-4321'</span><span style=\"color: #000000; text-decoration-color: #000000; font-weight: bold\">]</span><span style=\"color: #000000; text-decoration-color: #000000\">,</span>                                    <span style=\"color: #808000; text-decoration-color: #808000\">│</span> <span style=\"color: #800000; text-decoration-color: #800000\">│</span>\n",
       "<span style=\"color: #800000; text-decoration-color: #800000\">│</span> <span style=\"color: #808000; text-decoration-color: #808000\">│</span>                  <span style=\"color: #7f7f7f; text-decoration-color: #7f7f7f\">│   </span><span style=\"color: #0000ff; text-decoration-color: #0000ff\">5</span><span style=\"color: #000000; text-decoration-color: #000000\">: </span><span style=\"color: #000000; text-decoration-color: #000000; font-weight: bold\">[</span><span style=\"color: #808000; text-decoration-color: #808000\">'123-456-7890'</span><span style=\"color: #000000; text-decoration-color: #000000\">, </span><span style=\"color: #808000; text-decoration-color: #808000\">'098-765-4321'</span><span style=\"color: #000000; text-decoration-color: #000000; font-weight: bold\">]</span><span style=\"color: #000000; text-decoration-color: #000000\">,</span>                                    <span style=\"color: #808000; text-decoration-color: #808000\">│</span> <span style=\"color: #800000; text-decoration-color: #800000\">│</span>\n",
       "<span style=\"color: #800000; text-decoration-color: #800000\">│</span> <span style=\"color: #808000; text-decoration-color: #808000\">│</span>                  <span style=\"color: #7f7f7f; text-decoration-color: #7f7f7f\">│   </span><span style=\"color: #0000ff; text-decoration-color: #0000ff\">6</span><span style=\"color: #000000; text-decoration-color: #000000\">: &lt;function extract_phones at </span><span style=\"color: #0000ff; text-decoration-color: #0000ff\">0x7f9b1913ba60</span><span style=\"color: #000000; text-decoration-color: #000000\">&gt;,</span>                         <span style=\"color: #808000; text-decoration-color: #808000\">│</span> <span style=\"color: #800000; text-decoration-color: #800000\">│</span>\n",
       "<span style=\"color: #800000; text-decoration-color: #800000\">│</span> <span style=\"color: #808000; text-decoration-color: #808000\">│</span>                  <span style=\"color: #7f7f7f; text-decoration-color: #7f7f7f\">│   </span><span style=\"color: #0000ff; text-decoration-color: #0000ff\">7</span><span style=\"color: #000000; text-decoration-color: #000000\">: </span><span style=\"color: #0000ff; text-decoration-color: #0000ff\">False</span><span style=\"color: #000000; text-decoration-color: #000000\">,</span>                                                               <span style=\"color: #808000; text-decoration-color: #808000\">│</span> <span style=\"color: #800000; text-decoration-color: #800000\">│</span>\n",
       "<span style=\"color: #800000; text-decoration-color: #800000\">│</span> <span style=\"color: #808000; text-decoration-color: #808000\">│</span>                  <span style=\"color: #7f7f7f; text-decoration-color: #7f7f7f\">│   </span><span style=\"color: #0000ff; text-decoration-color: #0000ff\">8</span><span style=\"color: #000000; text-decoration-color: #000000\">: &lt;function non_primes at </span><span style=\"color: #0000ff; text-decoration-color: #0000ff\">0x7f9b0b7cb9d0</span><span style=\"color: #000000; text-decoration-color: #000000\">&gt;,</span>                             <span style=\"color: #808000; text-decoration-color: #808000\">│</span> <span style=\"color: #800000; text-decoration-color: #800000\">│</span>\n",
       "<span style=\"color: #800000; text-decoration-color: #800000\">│</span> <span style=\"color: #808000; text-decoration-color: #808000\">│</span>                  <span style=\"color: #7f7f7f; text-decoration-color: #7f7f7f\">│   </span><span style=\"color: #0000ff; text-decoration-color: #0000ff\">9</span><span style=\"color: #000000; text-decoration-color: #000000\">: &lt;function non_primes at </span><span style=\"color: #0000ff; text-decoration-color: #0000ff\">0x7f9b0b7cbee0</span><span style=\"color: #000000; text-decoration-color: #000000\">&gt;,</span>                             <span style=\"color: #808000; text-decoration-color: #808000\">│</span> <span style=\"color: #800000; text-decoration-color: #800000\">│</span>\n",
       "<span style=\"color: #800000; text-decoration-color: #800000\">│</span> <span style=\"color: #808000; text-decoration-color: #808000\">│</span>                  <span style=\"color: #7f7f7f; text-decoration-color: #7f7f7f\">│   </span><span style=\"color: #0000ff; text-decoration-color: #0000ff\">10</span><span style=\"color: #000000; text-decoration-color: #000000\">: </span><span style=\"color: #000000; text-decoration-color: #000000; font-weight: bold\">[</span><span style=\"color: #0000ff; text-decoration-color: #0000ff\">4</span><span style=\"color: #000000; text-decoration-color: #000000\">, </span><span style=\"color: #0000ff; text-decoration-color: #0000ff\">6</span><span style=\"color: #000000; text-decoration-color: #000000\">, </span><span style=\"color: #0000ff; text-decoration-color: #0000ff\">8</span><span style=\"color: #000000; text-decoration-color: #000000\">, </span><span style=\"color: #0000ff; text-decoration-color: #0000ff\">9</span><span style=\"color: #000000; text-decoration-color: #000000; font-weight: bold\">]</span><span style=\"color: #000000; text-decoration-color: #000000\">,</span>                                                       <span style=\"color: #808000; text-decoration-color: #808000\">│</span> <span style=\"color: #800000; text-decoration-color: #800000\">│</span>\n",
       "<span style=\"color: #800000; text-decoration-color: #800000\">│</span> <span style=\"color: #808000; text-decoration-color: #808000\">│</span>                  <span style=\"color: #7f7f7f; text-decoration-color: #7f7f7f\">│   </span><span style=\"color: #0000ff; text-decoration-color: #0000ff\">11</span><span style=\"color: #000000; text-decoration-color: #000000\">: &lt;function non_primes at </span><span style=\"color: #0000ff; text-decoration-color: #0000ff\">0x7f9ae8ad3ee0</span><span style=\"color: #000000; text-decoration-color: #000000\">&gt;,</span>                            <span style=\"color: #808000; text-decoration-color: #808000\">│</span> <span style=\"color: #800000; text-decoration-color: #800000\">│</span>\n",
       "<span style=\"color: #800000; text-decoration-color: #800000\">│</span> <span style=\"color: #808000; text-decoration-color: #808000\">│</span>                  <span style=\"color: #7f7f7f; text-decoration-color: #7f7f7f\">│   </span><span style=\"color: #0000ff; text-decoration-color: #0000ff\">12</span><span style=\"color: #000000; text-decoration-color: #000000\">: &lt;function non_primes at </span><span style=\"color: #0000ff; text-decoration-color: #0000ff\">0x7f9ae8af5ee0</span><span style=\"font-weight: bold\">&gt;</span>,                            <span style=\"color: #808000; text-decoration-color: #808000\">│</span> <span style=\"color: #800000; text-decoration-color: #800000\">│</span>\n",
       "<span style=\"color: #800000; text-decoration-color: #800000\">│</span> <span style=\"color: #808000; text-decoration-color: #808000\">│</span>                  <span style=\"color: #7f7f7f; text-decoration-color: #7f7f7f\">│   </span><span style=\"color: #808000; text-decoration-color: #808000\">...</span> +<span style=\"color: #0000ff; text-decoration-color: #0000ff\">2</span>                                                                  <span style=\"color: #808000; text-decoration-color: #808000\">│</span> <span style=\"color: #800000; text-decoration-color: #800000\">│</span>\n",
       "<span style=\"color: #800000; text-decoration-color: #800000\">│</span> <span style=\"color: #808000; text-decoration-color: #808000\">│</span>                  <span style=\"font-weight: bold\">}</span>                                                                           <span style=\"color: #808000; text-decoration-color: #808000\">│</span> <span style=\"color: #800000; text-decoration-color: #800000\">│</span>\n",
       "<span style=\"color: #800000; text-decoration-color: #800000\">│</span> <span style=\"color: #808000; text-decoration-color: #808000\">│</span>           quit = <span style=\"font-weight: bold\">&lt;</span><span style=\"color: #ff00ff; text-decoration-color: #ff00ff; font-weight: bold\">IPython.core.autocall.ZMQExitAutocall</span><span style=\"color: #000000; text-decoration-color: #000000\"> object at </span><span style=\"color: #0000ff; text-decoration-color: #0000ff\">0x7f9b18a56c10</span><span style=\"font-weight: bold\">&gt;</span>            <span style=\"color: #808000; text-decoration-color: #808000\">│</span> <span style=\"color: #800000; text-decoration-color: #800000\">│</span>\n",
       "<span style=\"color: #800000; text-decoration-color: #800000\">│</span> <span style=\"color: #808000; text-decoration-color: #808000\">│</span>   rich_logging = <span style=\"font-weight: bold\">&lt;</span><span style=\"color: #ff00ff; text-decoration-color: #ff00ff; font-weight: bold\">module</span><span style=\"color: #000000; text-decoration-color: #000000\"> </span><span style=\"color: #808000; text-decoration-color: #808000\">'rich.logging'</span><span style=\"color: #000000; text-decoration-color: #000000\"> from </span>                                                <span style=\"color: #808000; text-decoration-color: #808000\">│</span> <span style=\"color: #800000; text-decoration-color: #800000\">│</span>\n",
       "<span style=\"color: #800000; text-decoration-color: #800000\">│</span> <span style=\"color: #808000; text-decoration-color: #808000\">│</span>                  <span style=\"color: #808000; text-decoration-color: #808000\">'/Users/stanb/.miniconda3/envs/relyonai/lib/python3.8/site-packages/rich/lo…</span> <span style=\"color: #808000; text-decoration-color: #808000\">│</span> <span style=\"color: #800000; text-decoration-color: #800000\">│</span>\n",
       "<span style=\"color: #800000; text-decoration-color: #800000\">│</span> <span style=\"color: #808000; text-decoration-color: #808000\">│</span> rich_traceback = <span style=\"font-weight: bold\">&lt;</span><span style=\"color: #ff00ff; text-decoration-color: #ff00ff; font-weight: bold\">module</span><span style=\"color: #000000; text-decoration-color: #000000\"> </span><span style=\"color: #808000; text-decoration-color: #808000\">'rich.traceback'</span><span style=\"color: #000000; text-decoration-color: #000000\"> from </span>                                              <span style=\"color: #808000; text-decoration-color: #808000\">│</span> <span style=\"color: #800000; text-decoration-color: #800000\">│</span>\n",
       "<span style=\"color: #800000; text-decoration-color: #800000\">│</span> <span style=\"color: #808000; text-decoration-color: #808000\">│</span>                  <span style=\"color: #808000; text-decoration-color: #808000\">'/Users/stanb/.miniconda3/envs/relyonai/lib/python3.8/site-packages/rich/tr…</span> <span style=\"color: #808000; text-decoration-color: #808000\">│</span> <span style=\"color: #800000; text-decoration-color: #800000\">│</span>\n",
       "<span style=\"color: #800000; text-decoration-color: #800000\">│</span> <span style=\"color: #808000; text-decoration-color: #808000\">╰──────────────────────────────────────────────────────────────────────────────────────────────╯</span> <span style=\"color: #800000; text-decoration-color: #800000\">│</span>\n",
       "<span style=\"color: #800000; text-decoration-color: #800000\">╰──────────────────────────────────────────────────────────────────────────────────────────────────╯</span>\n",
       "<span style=\"color: #ff0000; text-decoration-color: #ff0000; font-weight: bold\">TypeError: </span><span style=\"color: #008000; text-decoration-color: #008000\">'numpy.ndarray'</span> object is not callable\n",
       "</pre>\n"
      ],
      "text/plain": [
       "\u001b[31m╭─\u001b[0m\u001b[31m──────────────────────────────\u001b[0m\u001b[31m \u001b[0m\u001b[1;31mTraceback \u001b[0m\u001b[1;2;31m(most recent call last)\u001b[0m\u001b[31m \u001b[0m\u001b[31m───────────────────────────────\u001b[0m\u001b[31m─╮\u001b[0m\n",
       "\u001b[31m│\u001b[0m in \u001b[92m<module>\u001b[0m:\u001b[94m2\u001b[0m                                                                                    \u001b[31m│\u001b[0m\n",
       "\u001b[31m│\u001b[0m                                                                                                  \u001b[31m│\u001b[0m\n",
       "\u001b[31m│\u001b[0m   \u001b[2m1 \u001b[0m\u001b[94mimport\u001b[0m \u001b[4;96mnumpy\u001b[0m \u001b[94mas\u001b[0m \u001b[4;96mnp\u001b[0m                                                                           \u001b[31m│\u001b[0m\n",
       "\u001b[31m│\u001b[0m \u001b[31m❱ \u001b[0m2 np.allclose(ai(\u001b[33m'\u001b[0m\u001b[33mdiagonal unit matrix constructor from numpy\u001b[0m\u001b[33m'\u001b[0m)(\u001b[94m10\u001b[0m), np.eye(\u001b[94m10\u001b[0m))               \u001b[31m│\u001b[0m\n",
       "\u001b[31m│\u001b[0m   \u001b[2m3 \u001b[0m                                                                                             \u001b[31m│\u001b[0m\n",
       "\u001b[31m│\u001b[0m                                                                                                  \u001b[31m│\u001b[0m\n",
       "\u001b[31m│\u001b[0m \u001b[33m╭─\u001b[0m\u001b[33m──────────────────────────────────────────\u001b[0m\u001b[33m locals \u001b[0m\u001b[33m──────────────────────────────────────────\u001b[0m\u001b[33m─╮\u001b[0m \u001b[31m│\u001b[0m\n",
       "\u001b[31m│\u001b[0m \u001b[33m│\u001b[0m             ai = \u001b[1m<\u001b[0m\u001b[1;95mfunction\u001b[0m\u001b[39m ai at \u001b[0m\u001b[94m0x7f9b09e7e8b0\u001b[0m\u001b[1m>\u001b[0m                                             \u001b[33m│\u001b[0m \u001b[31m│\u001b[0m\n",
       "\u001b[31m│\u001b[0m \u001b[33m│\u001b[0m         config = \u001b[1;35m_Config\u001b[0m\u001b[1m(\u001b[0m                                                                    \u001b[33m│\u001b[0m \u001b[31m│\u001b[0m\n",
       "\u001b[31m│\u001b[0m \u001b[33m│\u001b[0m                  \u001b[2m│   \u001b[0m\u001b[33mpython_version\u001b[0m=\u001b[33m'3.8'\u001b[0m,                                                   \u001b[33m│\u001b[0m \u001b[31m│\u001b[0m\n",
       "\u001b[31m│\u001b[0m \u001b[33m│\u001b[0m                  \u001b[2m│   \u001b[0m\u001b[33mmodel\u001b[0m=\u001b[33m'gpt-3.5-turbo'\u001b[0m,                                                  \u001b[33m│\u001b[0m \u001b[31m│\u001b[0m\n",
       "\u001b[31m│\u001b[0m \u001b[33m│\u001b[0m                  \u001b[2m│   \u001b[0m\u001b[33membedding_model\u001b[0m=\u001b[33m'text-embedding-ada-002'\u001b[0m,                               \u001b[33m│\u001b[0m \u001b[31m│\u001b[0m\n",
       "\u001b[31m│\u001b[0m \u001b[33m│\u001b[0m                  \u001b[2m│   \u001b[0m\u001b[33mn_tokens_relevant_prompt\u001b[0m=\u001b[94m2048\u001b[0m,                                          \u001b[33m│\u001b[0m \u001b[31m│\u001b[0m\n",
       "\u001b[31m│\u001b[0m \u001b[33m│\u001b[0m                  \u001b[2m│   \u001b[0m\u001b[33mn_truncate_repr\u001b[0m=\u001b[94m300\u001b[0m,                                                    \u001b[33m│\u001b[0m \u001b[31m│\u001b[0m\n",
       "\u001b[31m│\u001b[0m \u001b[33m│\u001b[0m                  \u001b[2m│   \u001b[0m\u001b[33mhistory_len_max\u001b[0m=\u001b[94m5\u001b[0m,                                                      \u001b[33m│\u001b[0m \u001b[31m│\u001b[0m\n",
       "\u001b[31m│\u001b[0m \u001b[33m│\u001b[0m                  \u001b[2m│   \u001b[0m\u001b[33mcache_path\u001b[0m=\u001b[33m'/Users/stanb/.cache/relyonai'\u001b[0m,                               \u001b[33m│\u001b[0m \u001b[31m│\u001b[0m\n",
       "\u001b[31m│\u001b[0m \u001b[33m│\u001b[0m                  \u001b[2m│   \u001b[0m\u001b[33mdollars_limit\u001b[0m=\u001b[94m1\u001b[0m\u001b[94m.0\u001b[0m,                                                      \u001b[33m│\u001b[0m \u001b[31m│\u001b[0m\n",
       "\u001b[31m│\u001b[0m \u001b[33m│\u001b[0m                  \u001b[2m│   \u001b[0m\u001b[33m_n_prompt_tokens\u001b[0m=\u001b[94m16578\u001b[0m,                                                 \u001b[33m│\u001b[0m \u001b[31m│\u001b[0m\n",
       "\u001b[31m│\u001b[0m \u001b[33m│\u001b[0m                  \u001b[2m│   \u001b[0m\u001b[33m_n_completition_tokens\u001b[0m=\u001b[94m1099\u001b[0m,                                            \u001b[33m│\u001b[0m \u001b[31m│\u001b[0m\n",
       "\u001b[31m│\u001b[0m \u001b[33m│\u001b[0m                  \u001b[2m│   \u001b[0m\u001b[33m_n_embedding_tokens\u001b[0m=\u001b[94m0\u001b[0m                                                   \u001b[33m│\u001b[0m \u001b[31m│\u001b[0m\n",
       "\u001b[31m│\u001b[0m \u001b[33m│\u001b[0m                  \u001b[1m)\u001b[0m                                                                           \u001b[33m│\u001b[0m \u001b[31m│\u001b[0m\n",
       "\u001b[31m│\u001b[0m \u001b[33m│\u001b[0m           exit = \u001b[1m<\u001b[0m\u001b[1;95mIPython.core.autocall.ZMQExitAutocall\u001b[0m\u001b[39m object at \u001b[0m\u001b[94m0x7f9b18a56c10\u001b[0m\u001b[1m>\u001b[0m            \u001b[33m│\u001b[0m \u001b[31m│\u001b[0m\n",
       "\u001b[31m│\u001b[0m \u001b[33m│\u001b[0m    get_ipython = \u001b[1m<\u001b[0m\u001b[1;95mbound\u001b[0m\u001b[39m method InteractiveShell.get_ipython of \u001b[0m                              \u001b[33m│\u001b[0m \u001b[31m│\u001b[0m\n",
       "\u001b[31m│\u001b[0m \u001b[33m│\u001b[0m                  \u001b[39m<ipykernel.zmqshell.ZMQInteractiveShell object at \u001b[0m\u001b[94m0x7f9b18a56280\u001b[0m\u001b[39m>\u001b[0m\u001b[1m>\u001b[0m          \u001b[33m│\u001b[0m \u001b[31m│\u001b[0m\n",
       "\u001b[31m│\u001b[0m \u001b[33m│\u001b[0m            gpt = \u001b[1m<\u001b[0m\u001b[1;95mfunction\u001b[0m\u001b[39m gpt at \u001b[0m\u001b[94m0x7f9b09e7e310\u001b[0m\u001b[1m>\u001b[0m                                            \u001b[33m│\u001b[0m \u001b[31m│\u001b[0m\n",
       "\u001b[31m│\u001b[0m \u001b[33m│\u001b[0m             In = \u001b[1m[\u001b[0m                                                                           \u001b[33m│\u001b[0m \u001b[31m│\u001b[0m\n",
       "\u001b[31m│\u001b[0m \u001b[33m│\u001b[0m                  \u001b[2m│   \u001b[0m\u001b[33m''\u001b[0m,                                                                     \u001b[33m│\u001b[0m \u001b[31m│\u001b[0m\n",
       "\u001b[31m│\u001b[0m \u001b[33m│\u001b[0m                  \u001b[2m│   \u001b[0m\u001b[33m\"get_ipython\u001b[0m\u001b[1;33m(\u001b[0m\u001b[1;33m)\u001b[0m\u001b[33m.run_line_magic\u001b[0m\u001b[1;33m(\u001b[0m\u001b[33m'reload_ext', \u001b[0m                            \u001b[33m│\u001b[0m \u001b[31m│\u001b[0m\n",
       "\u001b[31m│\u001b[0m \u001b[33m│\u001b[0m                  \u001b[33m'autoreload'\u001b[0m\u001b[1;33m)\u001b[0m\u001b[33m\\nget_ipython\u001b[0m\u001b[1;33m(\u001b[0m\u001b[1;33m)\u001b[0m\u001b[33m.run_line_\"\u001b[0m+\u001b[94m394\u001b[0m,                                \u001b[33m│\u001b[0m \u001b[31m│\u001b[0m\n",
       "\u001b[31m│\u001b[0m \u001b[33m│\u001b[0m                  \u001b[2m│   \u001b[0m\u001b[33m\"ai\u001b[0m\u001b[1;33m(\u001b[0m\u001b[33m'check if input is a valid http url'\u001b[0m\u001b[1;33m)\u001b[0m\u001b[33m\"\u001b[0m,                             \u001b[33m│\u001b[0m \u001b[31m│\u001b[0m\n",
       "\u001b[31m│\u001b[0m \u001b[33m│\u001b[0m                  \u001b[2m│   \u001b[0m\u001b[33m\"ai\u001b[0m\u001b[1;33m(\u001b[0m\u001b[33m'check if input is a valid http url'\u001b[0m\u001b[1;33m)\u001b[0m\u001b[33m\"\u001b[0m,                             \u001b[33m│\u001b[0m \u001b[31m│\u001b[0m\n",
       "\u001b[31m│\u001b[0m \u001b[33m│\u001b[0m                  \u001b[2m│   \u001b[0m\u001b[33m\"ai\u001b[0m\u001b[1;33m(\u001b[0m\u001b[33m'extract all xxx-xxx-xxxx format phone numbers from text'\u001b[0m\u001b[1;33m)\u001b[0m\u001b[33m\"\u001b[0m,        \u001b[33m│\u001b[0m \u001b[31m│\u001b[0m\n",
       "\u001b[31m│\u001b[0m \u001b[33m│\u001b[0m                  \u001b[2m│   \u001b[0m\u001b[33m\"ai\u001b[0m\u001b[1;33m(\u001b[0m\u001b[33m'extract all xxx-xxx-xxxx format phones from text a given text'\u001b[0m\u001b[1;33m)\u001b[0m\u001b[33m\"\u001b[0m,  \u001b[33m│\u001b[0m \u001b[31m│\u001b[0m\n",
       "\u001b[31m│\u001b[0m \u001b[33m│\u001b[0m                  \u001b[2m│   \u001b[0m\u001b[33m\"ai\u001b[0m\u001b[1;33m(\u001b[0m\u001b[33m'extract all xxx-xxx-xxxx format phones from a given text'\u001b[0m\u001b[1;33m)\u001b[0m\u001b[33m\"\u001b[0m,       \u001b[33m│\u001b[0m \u001b[31m│\u001b[0m\n",
       "\u001b[31m│\u001b[0m \u001b[33m│\u001b[0m                  \u001b[2m│   \u001b[0m\u001b[33m\"list_x = \u001b[0m\u001b[1;33m[\u001b[0m\u001b[33m2, 3, 4, 5, 6, 7, 8, 9\u001b[0m\u001b[1;33m]\u001b[0m\u001b[33m\\nai\u001b[0m\u001b[1;33m(\u001b[0m\u001b[33m'a list of non primes in \u001b[0m        \u001b[33m│\u001b[0m \u001b[31m│\u001b[0m\n",
       "\u001b[31m│\u001b[0m \u001b[33m│\u001b[0m                  \u001b[33m`list_x`', \u001b[0m\u001b[33mlist_x\u001b[0m\u001b[33m=\"\u001b[0m+\u001b[94m23\u001b[0m,                                                     \u001b[33m│\u001b[0m \u001b[31m│\u001b[0m\n",
       "\u001b[31m│\u001b[0m \u001b[33m│\u001b[0m                  \u001b[2m│   \u001b[0m\u001b[33m\"list_x = \u001b[0m\u001b[1;33m[\u001b[0m\u001b[33m2, 3, 4, 5, 6, 7, 8, 9\u001b[0m\u001b[1;33m]\u001b[0m\u001b[33m\\n#  == \u001b[0m\u001b[1;33m[\u001b[0m\u001b[33m4, 6, 8, 9\u001b[0m\u001b[1;33m]\u001b[0m\u001b[33m\\nai\u001b[0m\u001b[1;33m(\u001b[0m\u001b[33m'a list of \u001b[0m  \u001b[33m│\u001b[0m \u001b[31m│\u001b[0m\n",
       "\u001b[31m│\u001b[0m \u001b[33m│\u001b[0m                  \u001b[33mnon primes in\"\u001b[0m+\u001b[94m26\u001b[0m,                                                          \u001b[33m│\u001b[0m \u001b[31m│\u001b[0m\n",
       "\u001b[31m│\u001b[0m \u001b[33m│\u001b[0m                  \u001b[2m│   \u001b[0m\u001b[33m\"list_x = \u001b[0m\u001b[1;33m[\u001b[0m\u001b[33m2, 3, 4, 5, 6, 7, 8, 9\u001b[0m\u001b[1;33m]\u001b[0m\u001b[33m\\n#  == \u001b[0m\u001b[1;33m[\u001b[0m\u001b[33m4, 6, 8, 9\u001b[0m\u001b[1;33m]\u001b[0m\u001b[33m\\nai\u001b[0m\u001b[1;33m(\u001b[0m\u001b[33m'a list of \u001b[0m  \u001b[33m│\u001b[0m \u001b[31m│\u001b[0m\n",
       "\u001b[31m│\u001b[0m \u001b[33m│\u001b[0m                  \u001b[33mnon primes in\"\u001b[0m+\u001b[94m32\u001b[0m,                                                          \u001b[33m│\u001b[0m \u001b[31m│\u001b[0m\n",
       "\u001b[31m│\u001b[0m \u001b[33m│\u001b[0m                  \u001b[2m│   \u001b[0m\u001b[33m...\u001b[0m +\u001b[94m6\u001b[0m                                                                  \u001b[33m│\u001b[0m \u001b[31m│\u001b[0m\n",
       "\u001b[31m│\u001b[0m \u001b[33m│\u001b[0m                  \u001b[1m]\u001b[0m                                                                           \u001b[33m│\u001b[0m \u001b[31m│\u001b[0m\n",
       "\u001b[31m│\u001b[0m \u001b[33m│\u001b[0m         list_x = \u001b[1m[\u001b[0m\u001b[94m2\u001b[0m, \u001b[94m3\u001b[0m, \u001b[94m4\u001b[0m, \u001b[94m5\u001b[0m, \u001b[94m6\u001b[0m, \u001b[94m7\u001b[0m, \u001b[94m8\u001b[0m, \u001b[94m9\u001b[0m\u001b[1m]\u001b[0m                                                    \u001b[33m│\u001b[0m \u001b[31m│\u001b[0m\n",
       "\u001b[31m│\u001b[0m \u001b[33m│\u001b[0m        logging = \u001b[1m<\u001b[0m\u001b[1;95mmodule\u001b[0m\u001b[39m \u001b[0m\u001b[33m'logging'\u001b[0m\u001b[39m from \u001b[0m                                                     \u001b[33m│\u001b[0m \u001b[31m│\u001b[0m\n",
       "\u001b[31m│\u001b[0m \u001b[33m│\u001b[0m                  \u001b[33m'/Users/stanb/.miniconda3/envs/relyonai/lib/python3.8/logging/__init__.py'\u001b[0m\u001b[1m>\u001b[0m  \u001b[33m│\u001b[0m \u001b[31m│\u001b[0m\n",
       "\u001b[31m│\u001b[0m \u001b[33m│\u001b[0m             np = \u001b[1m<\u001b[0m\u001b[1;95mmodule\u001b[0m\u001b[39m \u001b[0m\u001b[33m'numpy'\u001b[0m\u001b[39m from \u001b[0m                                                       \u001b[33m│\u001b[0m \u001b[31m│\u001b[0m\n",
       "\u001b[31m│\u001b[0m \u001b[33m│\u001b[0m                  \u001b[33m'/Users/stanb/.miniconda3/envs/relyonai/lib/python3.8/site-packages/numpy/_…\u001b[0m \u001b[33m│\u001b[0m \u001b[31m│\u001b[0m\n",
       "\u001b[31m│\u001b[0m \u001b[33m│\u001b[0m           open = \u001b[1m<\u001b[0m\u001b[1;95mfunction\u001b[0m\u001b[39m open at \u001b[0m\u001b[94m0x7f9b18719820\u001b[0m\u001b[1m>\u001b[0m                                           \u001b[33m│\u001b[0m \u001b[31m│\u001b[0m\n",
       "\u001b[31m│\u001b[0m \u001b[33m│\u001b[0m            Out = \u001b[1m{\u001b[0m                                                                           \u001b[33m│\u001b[0m \u001b[31m│\u001b[0m\n",
       "\u001b[31m│\u001b[0m \u001b[33m│\u001b[0m                  \u001b[2m│   \u001b[0m\u001b[94m3\u001b[0m: \u001b[1m<\u001b[0m\u001b[1;95mfunction\u001b[0m\u001b[39m is_valid_url at \u001b[0m\u001b[94m0x7f9b19136ca0\u001b[0m\u001b[39m>,\u001b[0m                           \u001b[33m│\u001b[0m \u001b[31m│\u001b[0m\n",
       "\u001b[31m│\u001b[0m \u001b[33m│\u001b[0m                  \u001b[2;39m│   \u001b[0m\u001b[94m4\u001b[0m\u001b[39m: \u001b[0m\u001b[1;39m[\u001b[0m\u001b[33m'123-456-7890'\u001b[0m\u001b[39m, \u001b[0m\u001b[33m'098-765-4321'\u001b[0m\u001b[1;39m]\u001b[0m\u001b[39m,\u001b[0m                                    \u001b[33m│\u001b[0m \u001b[31m│\u001b[0m\n",
       "\u001b[31m│\u001b[0m \u001b[33m│\u001b[0m                  \u001b[2;39m│   \u001b[0m\u001b[94m5\u001b[0m\u001b[39m: \u001b[0m\u001b[1;39m[\u001b[0m\u001b[33m'123-456-7890'\u001b[0m\u001b[39m, \u001b[0m\u001b[33m'098-765-4321'\u001b[0m\u001b[1;39m]\u001b[0m\u001b[39m,\u001b[0m                                    \u001b[33m│\u001b[0m \u001b[31m│\u001b[0m\n",
       "\u001b[31m│\u001b[0m \u001b[33m│\u001b[0m                  \u001b[2;39m│   \u001b[0m\u001b[94m6\u001b[0m\u001b[39m: <function extract_phones at \u001b[0m\u001b[94m0x7f9b1913ba60\u001b[0m\u001b[39m>,\u001b[0m                         \u001b[33m│\u001b[0m \u001b[31m│\u001b[0m\n",
       "\u001b[31m│\u001b[0m \u001b[33m│\u001b[0m                  \u001b[2;39m│   \u001b[0m\u001b[94m7\u001b[0m\u001b[39m: \u001b[0m\u001b[94mFalse\u001b[0m\u001b[39m,\u001b[0m                                                               \u001b[33m│\u001b[0m \u001b[31m│\u001b[0m\n",
       "\u001b[31m│\u001b[0m \u001b[33m│\u001b[0m                  \u001b[2;39m│   \u001b[0m\u001b[94m8\u001b[0m\u001b[39m: <function non_primes at \u001b[0m\u001b[94m0x7f9b0b7cb9d0\u001b[0m\u001b[39m>,\u001b[0m                             \u001b[33m│\u001b[0m \u001b[31m│\u001b[0m\n",
       "\u001b[31m│\u001b[0m \u001b[33m│\u001b[0m                  \u001b[2;39m│   \u001b[0m\u001b[94m9\u001b[0m\u001b[39m: <function non_primes at \u001b[0m\u001b[94m0x7f9b0b7cbee0\u001b[0m\u001b[39m>,\u001b[0m                             \u001b[33m│\u001b[0m \u001b[31m│\u001b[0m\n",
       "\u001b[31m│\u001b[0m \u001b[33m│\u001b[0m                  \u001b[2;39m│   \u001b[0m\u001b[94m10\u001b[0m\u001b[39m: \u001b[0m\u001b[1;39m[\u001b[0m\u001b[94m4\u001b[0m\u001b[39m, \u001b[0m\u001b[94m6\u001b[0m\u001b[39m, \u001b[0m\u001b[94m8\u001b[0m\u001b[39m, \u001b[0m\u001b[94m9\u001b[0m\u001b[1;39m]\u001b[0m\u001b[39m,\u001b[0m                                                       \u001b[33m│\u001b[0m \u001b[31m│\u001b[0m\n",
       "\u001b[31m│\u001b[0m \u001b[33m│\u001b[0m                  \u001b[2;39m│   \u001b[0m\u001b[94m11\u001b[0m\u001b[39m: <function non_primes at \u001b[0m\u001b[94m0x7f9ae8ad3ee0\u001b[0m\u001b[39m>,\u001b[0m                            \u001b[33m│\u001b[0m \u001b[31m│\u001b[0m\n",
       "\u001b[31m│\u001b[0m \u001b[33m│\u001b[0m                  \u001b[2;39m│   \u001b[0m\u001b[94m12\u001b[0m\u001b[39m: <function non_primes at \u001b[0m\u001b[94m0x7f9ae8af5ee0\u001b[0m\u001b[1m>\u001b[0m,                            \u001b[33m│\u001b[0m \u001b[31m│\u001b[0m\n",
       "\u001b[31m│\u001b[0m \u001b[33m│\u001b[0m                  \u001b[2m│   \u001b[0m\u001b[33m...\u001b[0m +\u001b[94m2\u001b[0m                                                                  \u001b[33m│\u001b[0m \u001b[31m│\u001b[0m\n",
       "\u001b[31m│\u001b[0m \u001b[33m│\u001b[0m                  \u001b[1m}\u001b[0m                                                                           \u001b[33m│\u001b[0m \u001b[31m│\u001b[0m\n",
       "\u001b[31m│\u001b[0m \u001b[33m│\u001b[0m           quit = \u001b[1m<\u001b[0m\u001b[1;95mIPython.core.autocall.ZMQExitAutocall\u001b[0m\u001b[39m object at \u001b[0m\u001b[94m0x7f9b18a56c10\u001b[0m\u001b[1m>\u001b[0m            \u001b[33m│\u001b[0m \u001b[31m│\u001b[0m\n",
       "\u001b[31m│\u001b[0m \u001b[33m│\u001b[0m   rich_logging = \u001b[1m<\u001b[0m\u001b[1;95mmodule\u001b[0m\u001b[39m \u001b[0m\u001b[33m'rich.logging'\u001b[0m\u001b[39m from \u001b[0m                                                \u001b[33m│\u001b[0m \u001b[31m│\u001b[0m\n",
       "\u001b[31m│\u001b[0m \u001b[33m│\u001b[0m                  \u001b[33m'/Users/stanb/.miniconda3/envs/relyonai/lib/python3.8/site-packages/rich/lo…\u001b[0m \u001b[33m│\u001b[0m \u001b[31m│\u001b[0m\n",
       "\u001b[31m│\u001b[0m \u001b[33m│\u001b[0m rich_traceback = \u001b[1m<\u001b[0m\u001b[1;95mmodule\u001b[0m\u001b[39m \u001b[0m\u001b[33m'rich.traceback'\u001b[0m\u001b[39m from \u001b[0m                                              \u001b[33m│\u001b[0m \u001b[31m│\u001b[0m\n",
       "\u001b[31m│\u001b[0m \u001b[33m│\u001b[0m                  \u001b[33m'/Users/stanb/.miniconda3/envs/relyonai/lib/python3.8/site-packages/rich/tr…\u001b[0m \u001b[33m│\u001b[0m \u001b[31m│\u001b[0m\n",
       "\u001b[31m│\u001b[0m \u001b[33m╰──────────────────────────────────────────────────────────────────────────────────────────────╯\u001b[0m \u001b[31m│\u001b[0m\n",
       "\u001b[31m╰──────────────────────────────────────────────────────────────────────────────────────────────────╯\u001b[0m\n",
       "\u001b[1;91mTypeError: \u001b[0m\u001b[32m'numpy.ndarray'\u001b[0m object is not callable\n"
      ]
     },
     "metadata": {},
     "output_type": "display_data"
    }
   ],
   "source": [
    "import numpy as np\n",
    "np.allclose(ai('diagonal unit matrix constructor from numpy')(10), np.eye(10))"
   ]
  },
  {
   "cell_type": "code",
   "execution_count": 14,
   "metadata": {},
   "outputs": [
    {
     "data": {
      "text/html": [
       "<pre style=\"white-space:pre;overflow-x:auto;line-height:normal;font-family:Menlo,'DejaVu Sans Mono',consolas,'Courier New',monospace\"><span style=\"color: #7fbfbf; text-decoration-color: #7fbfbf\">[02:50:07] </span><span style=\"color: #000080; text-decoration-color: #000080\">INFO    </span> ===<span style=\"color: #808000; text-decoration-color: #808000\">user</span>===                                                                        <a href=\"file:///Users/stanb/src/relyonai/relyonai/prompt/prompt.py\" target=\"_blank\"><span style=\"color: #7f7f7f; text-decoration-color: #7f7f7f\">prompt.py</span></a><span style=\"color: #7f7f7f; text-decoration-color: #7f7f7f\">:</span><a href=\"file:///Users/stanb/src/relyonai/relyonai/prompt/prompt.py#195\" target=\"_blank\"><span style=\"color: #7f7f7f; text-decoration-color: #7f7f7f\">195</span></a>\n",
       "<span style=\"color: #7fbfbf; text-decoration-color: #7fbfbf\">           </span>         task description: <span style=\"color: #008000; text-decoration-color: #008000\">\"\"</span>\"                                                             <span style=\"color: #7f7f7f; text-decoration-color: #7f7f7f\">             </span>\n",
       "<span style=\"color: #7fbfbf; text-decoration-color: #7fbfbf\">           </span>         a list of non-primes in `list_x`                                                  <span style=\"color: #7f7f7f; text-decoration-color: #7f7f7f\">             </span>\n",
       "<span style=\"color: #7fbfbf; text-decoration-color: #7fbfbf\">           </span>         <span style=\"color: #008000; text-decoration-color: #008000\">\"\"</span>\"                                                                               <span style=\"color: #7f7f7f; text-decoration-color: #7f7f7f\">             </span>\n",
       "<span style=\"color: #7fbfbf; text-decoration-color: #7fbfbf\">           </span>         environment: new python interpreter                                               <span style=\"color: #7f7f7f; text-decoration-color: #7f7f7f\">             </span>\n",
       "<span style=\"color: #7fbfbf; text-decoration-color: #7fbfbf\">           </span>         global variables:                                                                 <span style=\"color: #7f7f7f; text-decoration-color: #7f7f7f\">             </span>\n",
       "<span style=\"color: #7fbfbf; text-decoration-color: #7fbfbf\">           </span>         - list_x                                                                          <span style=\"color: #7f7f7f; text-decoration-color: #7f7f7f\">             </span>\n",
       "<span style=\"color: #7fbfbf; text-decoration-color: #7fbfbf\">           </span>             - type: list                                                                  <span style=\"color: #7f7f7f; text-decoration-color: #7f7f7f\">             </span>\n",
       "</pre>\n"
      ],
      "text/plain": [
       "\u001b[2;36m[02:50:07]\u001b[0m\u001b[2;36m \u001b[0m\u001b[34mINFO    \u001b[0m ===\u001b[33muser\u001b[0m===                                                                        \u001b]8;id=582841;file:///Users/stanb/src/relyonai/relyonai/prompt/prompt.py\u001b\\\u001b[2mprompt.py\u001b[0m\u001b]8;;\u001b\\\u001b[2m:\u001b[0m\u001b]8;id=864617;file:///Users/stanb/src/relyonai/relyonai/prompt/prompt.py#195\u001b\\\u001b[2m195\u001b[0m\u001b]8;;\u001b\\\n",
       "\u001b[2;36m           \u001b[0m         task description: \u001b[32m\"\"\u001b[0m\"                                                             \u001b[2m             \u001b[0m\n",
       "\u001b[2;36m           \u001b[0m         a list of non-primes in `list_x`                                                  \u001b[2m             \u001b[0m\n",
       "\u001b[2;36m           \u001b[0m         \u001b[32m\"\"\u001b[0m\"                                                                               \u001b[2m             \u001b[0m\n",
       "\u001b[2;36m           \u001b[0m         environment: new python interpreter                                               \u001b[2m             \u001b[0m\n",
       "\u001b[2;36m           \u001b[0m         global variables:                                                                 \u001b[2m             \u001b[0m\n",
       "\u001b[2;36m           \u001b[0m         - list_x                                                                          \u001b[2m             \u001b[0m\n",
       "\u001b[2;36m           \u001b[0m             - type: list                                                                  \u001b[2m             \u001b[0m\n"
      ]
     },
     "metadata": {},
     "output_type": "display_data"
    },
    {
     "data": {
      "text/html": [
       "<pre style=\"white-space:pre;overflow-x:auto;line-height:normal;font-family:Menlo,'DejaVu Sans Mono',consolas,'Courier New',monospace\"><span style=\"color: #7fbfbf; text-decoration-color: #7fbfbf\">           </span><span style=\"color: #000080; text-decoration-color: #000080\">INFO    </span> cache miss on emb                                                                    <a href=\"file:///Users/stanb/src/relyonai/relyonai/llm.py\" target=\"_blank\"><span style=\"color: #7f7f7f; text-decoration-color: #7f7f7f\">llm.py</span></a><span style=\"color: #7f7f7f; text-decoration-color: #7f7f7f\">:</span><a href=\"file:///Users/stanb/src/relyonai/relyonai/llm.py#100\" target=\"_blank\"><span style=\"color: #7f7f7f; text-decoration-color: #7f7f7f\">100</span></a>\n",
       "</pre>\n"
      ],
      "text/plain": [
       "\u001b[2;36m          \u001b[0m\u001b[2;36m \u001b[0m\u001b[34mINFO    \u001b[0m cache miss on emb                                                                    \u001b]8;id=945278;file:///Users/stanb/src/relyonai/relyonai/llm.py\u001b\\\u001b[2mllm.py\u001b[0m\u001b]8;;\u001b\\\u001b[2m:\u001b[0m\u001b]8;id=813715;file:///Users/stanb/src/relyonai/relyonai/llm.py#100\u001b\\\u001b[2m100\u001b[0m\u001b]8;;\u001b\\\n"
      ]
     },
     "metadata": {},
     "output_type": "display_data"
    },
    {
     "data": {
      "text/html": [
       "<pre style=\"white-space:pre;overflow-x:auto;line-height:normal;font-family:Menlo,'DejaVu Sans Mono',consolas,'Courier New',monospace\"><span style=\"color: #7fbfbf; text-decoration-color: #7fbfbf\">           </span><span style=\"color: #000080; text-decoration-color: #000080\">INFO    </span> emb token usage: <span style=\"color: #008080; text-decoration-color: #008080; font-weight: bold\">11</span>                                                                  <a href=\"file:///Users/stanb/src/relyonai/relyonai/llm.py\" target=\"_blank\"><span style=\"color: #7f7f7f; text-decoration-color: #7f7f7f\">llm.py</span></a><span style=\"color: #7f7f7f; text-decoration-color: #7f7f7f\">:</span><a href=\"file:///Users/stanb/src/relyonai/relyonai/llm.py#113\" target=\"_blank\"><span style=\"color: #7f7f7f; text-decoration-color: #7f7f7f\">113</span></a>\n",
       "</pre>\n"
      ],
      "text/plain": [
       "\u001b[2;36m          \u001b[0m\u001b[2;36m \u001b[0m\u001b[34mINFO    \u001b[0m emb token usage: \u001b[1;36m11\u001b[0m                                                                  \u001b]8;id=682166;file:///Users/stanb/src/relyonai/relyonai/llm.py\u001b\\\u001b[2mllm.py\u001b[0m\u001b]8;;\u001b\\\u001b[2m:\u001b[0m\u001b]8;id=37063;file:///Users/stanb/src/relyonai/relyonai/llm.py#113\u001b\\\u001b[2m113\u001b[0m\u001b]8;;\u001b\\\n"
      ]
     },
     "metadata": {},
     "output_type": "display_data"
    },
    {
     "data": {
      "text/html": [
       "<pre style=\"white-space:pre;overflow-x:auto;line-height:normal;font-family:Menlo,'DejaVu Sans Mono',consolas,'Courier New',monospace\"><span style=\"color: #7fbfbf; text-decoration-color: #7fbfbf\">           </span><span style=\"color: #000080; text-decoration-color: #000080\">INFO    </span> cache miss on codegen gpt                                                             <a href=\"file:///Users/stanb/src/relyonai/relyonai/llm.py\" target=\"_blank\"><span style=\"color: #7f7f7f; text-decoration-color: #7f7f7f\">llm.py</span></a><span style=\"color: #7f7f7f; text-decoration-color: #7f7f7f\">:</span><a href=\"file:///Users/stanb/src/relyonai/relyonai/llm.py#25\" target=\"_blank\"><span style=\"color: #7f7f7f; text-decoration-color: #7f7f7f\">25</span></a>\n",
       "</pre>\n"
      ],
      "text/plain": [
       "\u001b[2;36m          \u001b[0m\u001b[2;36m \u001b[0m\u001b[34mINFO    \u001b[0m cache miss on codegen gpt                                                             \u001b]8;id=311409;file:///Users/stanb/src/relyonai/relyonai/llm.py\u001b\\\u001b[2mllm.py\u001b[0m\u001b]8;;\u001b\\\u001b[2m:\u001b[0m\u001b]8;id=687874;file:///Users/stanb/src/relyonai/relyonai/llm.py#25\u001b\\\u001b[2m25\u001b[0m\u001b]8;;\u001b\\\n"
      ]
     },
     "metadata": {},
     "output_type": "display_data"
    },
    {
     "data": {
      "text/html": [
       "<pre style=\"white-space:pre;overflow-x:auto;line-height:normal;font-family:Menlo,'DejaVu Sans Mono',consolas,'Courier New',monospace\"><span style=\"color: #7fbfbf; text-decoration-color: #7fbfbf\">           </span><span style=\"color: #000080; text-decoration-color: #000080\">INFO    </span> len prompt messages: <span style=\"color: #008080; text-decoration-color: #008080; font-weight: bold\">36</span>                                                               <a href=\"file:///Users/stanb/src/relyonai/relyonai/llm.py\" target=\"_blank\"><span style=\"color: #7f7f7f; text-decoration-color: #7f7f7f\">llm.py</span></a><span style=\"color: #7f7f7f; text-decoration-color: #7f7f7f\">:</span><a href=\"file:///Users/stanb/src/relyonai/relyonai/llm.py#29\" target=\"_blank\"><span style=\"color: #7f7f7f; text-decoration-color: #7f7f7f\">29</span></a>\n",
       "</pre>\n"
      ],
      "text/plain": [
       "\u001b[2;36m          \u001b[0m\u001b[2;36m \u001b[0m\u001b[34mINFO    \u001b[0m len prompt messages: \u001b[1;36m36\u001b[0m                                                               \u001b]8;id=270210;file:///Users/stanb/src/relyonai/relyonai/llm.py\u001b\\\u001b[2mllm.py\u001b[0m\u001b]8;;\u001b\\\u001b[2m:\u001b[0m\u001b]8;id=255006;file:///Users/stanb/src/relyonai/relyonai/llm.py#29\u001b\\\u001b[2m29\u001b[0m\u001b]8;;\u001b\\\n"
      ]
     },
     "metadata": {},
     "output_type": "display_data"
    },
    {
     "data": {
      "text/html": [
       "<pre style=\"white-space:pre;overflow-x:auto;line-height:normal;font-family:Menlo,'DejaVu Sans Mono',consolas,'Courier New',monospace\"><span style=\"color: #7fbfbf; text-decoration-color: #7fbfbf\">[02:50:16] </span><span style=\"color: #000080; text-decoration-color: #000080\">INFO    </span> codegen token usage: <span style=\"color: #008080; text-decoration-color: #008080; font-weight: bold\">1956</span>                                                             <a href=\"file:///Users/stanb/src/relyonai/relyonai/llm.py\" target=\"_blank\"><span style=\"color: #7f7f7f; text-decoration-color: #7f7f7f\">llm.py</span></a><span style=\"color: #7f7f7f; text-decoration-color: #7f7f7f\">:</span><a href=\"file:///Users/stanb/src/relyonai/relyonai/llm.py#38\" target=\"_blank\"><span style=\"color: #7f7f7f; text-decoration-color: #7f7f7f\">38</span></a>\n",
       "</pre>\n"
      ],
      "text/plain": [
       "\u001b[2;36m[02:50:16]\u001b[0m\u001b[2;36m \u001b[0m\u001b[34mINFO    \u001b[0m codegen token usage: \u001b[1;36m1956\u001b[0m                                                             \u001b]8;id=927138;file:///Users/stanb/src/relyonai/relyonai/llm.py\u001b\\\u001b[2mllm.py\u001b[0m\u001b]8;;\u001b\\\u001b[2m:\u001b[0m\u001b]8;id=204295;file:///Users/stanb/src/relyonai/relyonai/llm.py#38\u001b\\\u001b[2m38\u001b[0m\u001b]8;;\u001b\\\n"
      ]
     },
     "metadata": {},
     "output_type": "display_data"
    },
    {
     "data": {
      "text/html": [
       "<pre style=\"white-space:pre;overflow-x:auto;line-height:normal;font-family:Menlo,'DejaVu Sans Mono',consolas,'Courier New',monospace\"><span style=\"color: #7fbfbf; text-decoration-color: #7fbfbf\">           </span><span style=\"color: #000080; text-decoration-color: #000080\">INFO    </span> ===<span style=\"color: #808000; text-decoration-color: #808000\">assistant</span>===                                                                   <a href=\"file:///Users/stanb/src/relyonai/relyonai/prompt/prompt.py\" target=\"_blank\"><span style=\"color: #7f7f7f; text-decoration-color: #7f7f7f\">prompt.py</span></a><span style=\"color: #7f7f7f; text-decoration-color: #7f7f7f\">:</span><a href=\"file:///Users/stanb/src/relyonai/relyonai/prompt/prompt.py#195\" target=\"_blank\"><span style=\"color: #7f7f7f; text-decoration-color: #7f7f7f\">195</span></a>\n",
       "<span style=\"color: #7fbfbf; text-decoration-color: #7fbfbf\">           </span>         ```python                                                                         <span style=\"color: #7f7f7f; text-decoration-color: #7f7f7f\">             </span>\n",
       "<span style=\"color: #7fbfbf; text-decoration-color: #7fbfbf\">           </span>         # no function is required as the task is to obtain a list of non-primes           <span style=\"color: #7f7f7f; text-decoration-color: #7f7f7f\">             </span>\n",
       "<span style=\"color: #7fbfbf; text-decoration-color: #7fbfbf\">           </span>         # so, we can just create a list comprehension that filters out primes             <span style=\"color: #7f7f7f; text-decoration-color: #7f7f7f\">             </span>\n",
       "<span style=\"color: #7fbfbf; text-decoration-color: #7fbfbf\">           </span>         def <span style=\"color: #800080; text-decoration-color: #800080; font-weight: bold\">is_prime</span><span style=\"font-weight: bold\">(</span>number<span style=\"font-weight: bold\">)</span>:                                                             <span style=\"color: #7f7f7f; text-decoration-color: #7f7f7f\">             </span>\n",
       "<span style=\"color: #7fbfbf; text-decoration-color: #7fbfbf\">           </span>             if number &lt; <span style=\"color: #008080; text-decoration-color: #008080; font-weight: bold\">2</span>:                                                                <span style=\"color: #7f7f7f; text-decoration-color: #7f7f7f\">             </span>\n",
       "<span style=\"color: #7fbfbf; text-decoration-color: #7fbfbf\">           </span>                 return <span style=\"color: #ff0000; text-decoration-color: #ff0000; font-style: italic\">False</span>                                                              <span style=\"color: #7f7f7f; text-decoration-color: #7f7f7f\">             </span>\n",
       "<span style=\"color: #7fbfbf; text-decoration-color: #7fbfbf\">           </span>             for i in <span style=\"color: #800080; text-decoration-color: #800080; font-weight: bold\">range</span><span style=\"font-weight: bold\">(</span><span style=\"color: #008080; text-decoration-color: #008080; font-weight: bold\">2</span>, <span style=\"color: #800080; text-decoration-color: #800080; font-weight: bold\">int</span><span style=\"font-weight: bold\">(</span>number ** <span style=\"color: #008080; text-decoration-color: #008080; font-weight: bold\">0.5</span><span style=\"font-weight: bold\">)</span> + <span style=\"color: #008080; text-decoration-color: #008080; font-weight: bold\">1</span><span style=\"font-weight: bold\">)</span>:                                    <span style=\"color: #7f7f7f; text-decoration-color: #7f7f7f\">             </span>\n",
       "<span style=\"color: #7fbfbf; text-decoration-color: #7fbfbf\">           </span>                 if number % i == <span style=\"color: #008080; text-decoration-color: #008080; font-weight: bold\">0</span>:                                                       <span style=\"color: #7f7f7f; text-decoration-color: #7f7f7f\">             </span>\n",
       "<span style=\"color: #7fbfbf; text-decoration-color: #7fbfbf\">           </span>                     return <span style=\"color: #ff0000; text-decoration-color: #ff0000; font-style: italic\">False</span>                                                          <span style=\"color: #7f7f7f; text-decoration-color: #7f7f7f\">             </span>\n",
       "<span style=\"color: #7fbfbf; text-decoration-color: #7fbfbf\">           </span>             return <span style=\"color: #00ff00; text-decoration-color: #00ff00; font-style: italic\">True</span>                                                                   <span style=\"color: #7f7f7f; text-decoration-color: #7f7f7f\">             </span>\n",
       "<span style=\"color: #7fbfbf; text-decoration-color: #7fbfbf\">           </span>                                                                                           <span style=\"color: #7f7f7f; text-decoration-color: #7f7f7f\">             </span>\n",
       "<span style=\"color: #7fbfbf; text-decoration-color: #7fbfbf\">           </span>         result = <span style=\"font-weight: bold\">[</span>number for number in list_x if not <span style=\"color: #800080; text-decoration-color: #800080; font-weight: bold\">is_prime</span><span style=\"font-weight: bold\">(</span>number<span style=\"font-weight: bold\">)]</span>                    <span style=\"color: #7f7f7f; text-decoration-color: #7f7f7f\">             </span>\n",
       "<span style=\"color: #7fbfbf; text-decoration-color: #7fbfbf\">           </span>         <span style=\"color: #800080; text-decoration-color: #800080; font-weight: bold\">finish_task_ok</span><span style=\"font-weight: bold\">(</span>result<span style=\"font-weight: bold\">)</span>;                                                           <span style=\"color: #7f7f7f; text-decoration-color: #7f7f7f\">             </span>\n",
       "<span style=\"color: #7fbfbf; text-decoration-color: #7fbfbf\">           </span>         ```                                                                               <span style=\"color: #7f7f7f; text-decoration-color: #7f7f7f\">             </span>\n",
       "</pre>\n"
      ],
      "text/plain": [
       "\u001b[2;36m          \u001b[0m\u001b[2;36m \u001b[0m\u001b[34mINFO    \u001b[0m ===\u001b[33massistant\u001b[0m===                                                                   \u001b]8;id=73002;file:///Users/stanb/src/relyonai/relyonai/prompt/prompt.py\u001b\\\u001b[2mprompt.py\u001b[0m\u001b]8;;\u001b\\\u001b[2m:\u001b[0m\u001b]8;id=593295;file:///Users/stanb/src/relyonai/relyonai/prompt/prompt.py#195\u001b\\\u001b[2m195\u001b[0m\u001b]8;;\u001b\\\n",
       "\u001b[2;36m           \u001b[0m         ```python                                                                         \u001b[2m             \u001b[0m\n",
       "\u001b[2;36m           \u001b[0m         # no function is required as the task is to obtain a list of non-primes           \u001b[2m             \u001b[0m\n",
       "\u001b[2;36m           \u001b[0m         # so, we can just create a list comprehension that filters out primes             \u001b[2m             \u001b[0m\n",
       "\u001b[2;36m           \u001b[0m         def \u001b[1;35mis_prime\u001b[0m\u001b[1m(\u001b[0mnumber\u001b[1m)\u001b[0m:                                                             \u001b[2m             \u001b[0m\n",
       "\u001b[2;36m           \u001b[0m             if number < \u001b[1;36m2\u001b[0m:                                                                \u001b[2m             \u001b[0m\n",
       "\u001b[2;36m           \u001b[0m                 return \u001b[3;91mFalse\u001b[0m                                                              \u001b[2m             \u001b[0m\n",
       "\u001b[2;36m           \u001b[0m             for i in \u001b[1;35mrange\u001b[0m\u001b[1m(\u001b[0m\u001b[1;36m2\u001b[0m, \u001b[1;35mint\u001b[0m\u001b[1m(\u001b[0mnumber ** \u001b[1;36m0.5\u001b[0m\u001b[1m)\u001b[0m + \u001b[1;36m1\u001b[0m\u001b[1m)\u001b[0m:                                    \u001b[2m             \u001b[0m\n",
       "\u001b[2;36m           \u001b[0m                 if number % i == \u001b[1;36m0\u001b[0m:                                                       \u001b[2m             \u001b[0m\n",
       "\u001b[2;36m           \u001b[0m                     return \u001b[3;91mFalse\u001b[0m                                                          \u001b[2m             \u001b[0m\n",
       "\u001b[2;36m           \u001b[0m             return \u001b[3;92mTrue\u001b[0m                                                                   \u001b[2m             \u001b[0m\n",
       "\u001b[2;36m           \u001b[0m                                                                                           \u001b[2m             \u001b[0m\n",
       "\u001b[2;36m           \u001b[0m         result = \u001b[1m[\u001b[0mnumber for number in list_x if not \u001b[1;35mis_prime\u001b[0m\u001b[1m(\u001b[0mnumber\u001b[1m)\u001b[0m\u001b[1m]\u001b[0m                    \u001b[2m             \u001b[0m\n",
       "\u001b[2;36m           \u001b[0m         \u001b[1;35mfinish_task_ok\u001b[0m\u001b[1m(\u001b[0mresult\u001b[1m)\u001b[0m;                                                           \u001b[2m             \u001b[0m\n",
       "\u001b[2;36m           \u001b[0m         ```                                                                               \u001b[2m             \u001b[0m\n"
      ]
     },
     "metadata": {},
     "output_type": "display_data"
    },
    {
     "data": {
      "text/plain": [
       "[4, 6, 8, 9]"
      ]
     },
     "execution_count": 14,
     "metadata": {},
     "output_type": "execute_result"
    }
   ],
   "source": [
    "list_x = [2, 3, 4, 5, 6, 7, 8, 9]\n",
    "#  == [4, 6, 8, 9]\n",
    "ai('a list of non-primes in `list_x`', list_x=list_x)"
   ]
  },
  {
   "cell_type": "code",
   "execution_count": 3,
   "metadata": {},
   "outputs": [
    {
     "data": {
      "text/html": [
       "<pre style=\"white-space:pre;overflow-x:auto;line-height:normal;font-family:Menlo,'DejaVu Sans Mono',consolas,'Courier New',monospace\"><span style=\"color: #7fbfbf; text-decoration-color: #7fbfbf\">[02:09:38] </span><span style=\"color: #000080; text-decoration-color: #000080\">INFO    </span> ===<span style=\"color: #808000; text-decoration-color: #808000\">user</span>===                                                                        <a href=\"file:///Users/stanb/src/relyonai/relyonai/prompt/prompt.py\" target=\"_blank\"><span style=\"color: #7f7f7f; text-decoration-color: #7f7f7f\">prompt.py</span></a><span style=\"color: #7f7f7f; text-decoration-color: #7f7f7f\">:</span><a href=\"file:///Users/stanb/src/relyonai/relyonai/prompt/prompt.py#199\" target=\"_blank\"><span style=\"color: #7f7f7f; text-decoration-color: #7f7f7f\">199</span></a>\n",
       "<span style=\"color: #7fbfbf; text-decoration-color: #7fbfbf\">           </span>         task description: <span style=\"color: #008000; text-decoration-color: #008000\">\"\"</span>\"                                                             <span style=\"color: #7f7f7f; text-decoration-color: #7f7f7f\">             </span>\n",
       "<span style=\"color: #7fbfbf; text-decoration-color: #7fbfbf\">           </span>         check if input is a valid http url                                                <span style=\"color: #7f7f7f; text-decoration-color: #7f7f7f\">             </span>\n",
       "<span style=\"color: #7fbfbf; text-decoration-color: #7fbfbf\">           </span>         <span style=\"color: #008000; text-decoration-color: #008000\">\"\"</span>\"                                                                               <span style=\"color: #7f7f7f; text-decoration-color: #7f7f7f\">             </span>\n",
       "<span style=\"color: #7fbfbf; text-decoration-color: #7fbfbf\">           </span>         environment: new python interpreter                                               <span style=\"color: #7f7f7f; text-decoration-color: #7f7f7f\">             </span>\n",
       "<span style=\"color: #7fbfbf; text-decoration-color: #7fbfbf\">           </span>         global variables: <span style=\"font-weight: bold\">&lt;</span><span style=\"color: #ff00ff; text-decoration-color: #ff00ff; font-weight: bold\">empty</span><span style=\"font-weight: bold\">&gt;</span>                                                         <span style=\"color: #7f7f7f; text-decoration-color: #7f7f7f\">             </span>\n",
       "</pre>\n"
      ],
      "text/plain": [
       "\u001b[2;36m[02:09:38]\u001b[0m\u001b[2;36m \u001b[0m\u001b[34mINFO    \u001b[0m ===\u001b[33muser\u001b[0m===                                                                        \u001b]8;id=458792;file:///Users/stanb/src/relyonai/relyonai/prompt/prompt.py\u001b\\\u001b[2mprompt.py\u001b[0m\u001b]8;;\u001b\\\u001b[2m:\u001b[0m\u001b]8;id=818203;file:///Users/stanb/src/relyonai/relyonai/prompt/prompt.py#199\u001b\\\u001b[2m199\u001b[0m\u001b]8;;\u001b\\\n",
       "\u001b[2;36m           \u001b[0m         task description: \u001b[32m\"\"\u001b[0m\"                                                             \u001b[2m             \u001b[0m\n",
       "\u001b[2;36m           \u001b[0m         check if input is a valid http url                                                \u001b[2m             \u001b[0m\n",
       "\u001b[2;36m           \u001b[0m         \u001b[32m\"\"\u001b[0m\"                                                                               \u001b[2m             \u001b[0m\n",
       "\u001b[2;36m           \u001b[0m         environment: new python interpreter                                               \u001b[2m             \u001b[0m\n",
       "\u001b[2;36m           \u001b[0m         global variables: \u001b[1m<\u001b[0m\u001b[1;95mempty\u001b[0m\u001b[1m>\u001b[0m                                                         \u001b[2m             \u001b[0m\n"
      ]
     },
     "metadata": {},
     "output_type": "display_data"
    },
    {
     "data": {
      "text/html": [
       "<pre style=\"white-space:pre;overflow-x:auto;line-height:normal;font-family:Menlo,'DejaVu Sans Mono',consolas,'Courier New',monospace\"><span style=\"color: #7fbfbf; text-decoration-color: #7fbfbf\">           </span><span style=\"color: #000080; text-decoration-color: #000080\">INFO    </span> cache miss on codegen gpt                                                             <a href=\"file:///Users/stanb/src/relyonai/relyonai/llm.py\" target=\"_blank\"><span style=\"color: #7f7f7f; text-decoration-color: #7f7f7f\">llm.py</span></a><span style=\"color: #7f7f7f; text-decoration-color: #7f7f7f\">:</span><a href=\"file:///Users/stanb/src/relyonai/relyonai/llm.py#25\" target=\"_blank\"><span style=\"color: #7f7f7f; text-decoration-color: #7f7f7f\">25</span></a>\n",
       "</pre>\n"
      ],
      "text/plain": [
       "\u001b[2;36m          \u001b[0m\u001b[2;36m \u001b[0m\u001b[34mINFO    \u001b[0m cache miss on codegen gpt                                                             \u001b]8;id=93887;file:///Users/stanb/src/relyonai/relyonai/llm.py\u001b\\\u001b[2mllm.py\u001b[0m\u001b]8;;\u001b\\\u001b[2m:\u001b[0m\u001b]8;id=822629;file:///Users/stanb/src/relyonai/relyonai/llm.py#25\u001b\\\u001b[2m25\u001b[0m\u001b]8;;\u001b\\\n"
      ]
     },
     "metadata": {},
     "output_type": "display_data"
    },
    {
     "data": {
      "text/html": [
       "<pre style=\"white-space:pre;overflow-x:auto;line-height:normal;font-family:Menlo,'DejaVu Sans Mono',consolas,'Courier New',monospace\"><span style=\"color: #7fbfbf; text-decoration-color: #7fbfbf\">           </span><span style=\"color: #000080; text-decoration-color: #000080\">INFO    </span> len prompt messages: <span style=\"color: #008080; text-decoration-color: #008080; font-weight: bold\">10</span>                                                               <a href=\"file:///Users/stanb/src/relyonai/relyonai/llm.py\" target=\"_blank\"><span style=\"color: #7f7f7f; text-decoration-color: #7f7f7f\">llm.py</span></a><span style=\"color: #7f7f7f; text-decoration-color: #7f7f7f\">:</span><a href=\"file:///Users/stanb/src/relyonai/relyonai/llm.py#29\" target=\"_blank\"><span style=\"color: #7f7f7f; text-decoration-color: #7f7f7f\">29</span></a>\n",
       "</pre>\n"
      ],
      "text/plain": [
       "\u001b[2;36m          \u001b[0m\u001b[2;36m \u001b[0m\u001b[34mINFO    \u001b[0m len prompt messages: \u001b[1;36m10\u001b[0m                                                               \u001b]8;id=372685;file:///Users/stanb/src/relyonai/relyonai/llm.py\u001b\\\u001b[2mllm.py\u001b[0m\u001b]8;;\u001b\\\u001b[2m:\u001b[0m\u001b]8;id=411450;file:///Users/stanb/src/relyonai/relyonai/llm.py#29\u001b\\\u001b[2m29\u001b[0m\u001b]8;;\u001b\\\n"
      ]
     },
     "metadata": {},
     "output_type": "display_data"
    },
    {
     "data": {
      "text/html": [
       "<pre style=\"white-space:pre;overflow-x:auto;line-height:normal;font-family:Menlo,'DejaVu Sans Mono',consolas,'Courier New',monospace\"><span style=\"color: #7fbfbf; text-decoration-color: #7fbfbf\">[02:09:49] </span><span style=\"color: #000080; text-decoration-color: #000080\">INFO    </span> codegen token usage: <span style=\"color: #008080; text-decoration-color: #008080; font-weight: bold\">695</span>                                                              <a href=\"file:///Users/stanb/src/relyonai/relyonai/llm.py\" target=\"_blank\"><span style=\"color: #7f7f7f; text-decoration-color: #7f7f7f\">llm.py</span></a><span style=\"color: #7f7f7f; text-decoration-color: #7f7f7f\">:</span><a href=\"file:///Users/stanb/src/relyonai/relyonai/llm.py#38\" target=\"_blank\"><span style=\"color: #7f7f7f; text-decoration-color: #7f7f7f\">38</span></a>\n",
       "</pre>\n"
      ],
      "text/plain": [
       "\u001b[2;36m[02:09:49]\u001b[0m\u001b[2;36m \u001b[0m\u001b[34mINFO    \u001b[0m codegen token usage: \u001b[1;36m695\u001b[0m                                                              \u001b]8;id=275600;file:///Users/stanb/src/relyonai/relyonai/llm.py\u001b\\\u001b[2mllm.py\u001b[0m\u001b]8;;\u001b\\\u001b[2m:\u001b[0m\u001b]8;id=251115;file:///Users/stanb/src/relyonai/relyonai/llm.py#38\u001b\\\u001b[2m38\u001b[0m\u001b]8;;\u001b\\\n"
      ]
     },
     "metadata": {},
     "output_type": "display_data"
    },
    {
     "data": {
      "text/html": [
       "<pre style=\"white-space:pre;overflow-x:auto;line-height:normal;font-family:Menlo,'DejaVu Sans Mono',consolas,'Courier New',monospace\"><span style=\"color: #7fbfbf; text-decoration-color: #7fbfbf\">           </span><span style=\"color: #000080; text-decoration-color: #000080\">INFO    </span> ===<span style=\"color: #808000; text-decoration-color: #808000\">assistant</span>===                                                                   <a href=\"file:///Users/stanb/src/relyonai/relyonai/prompt/prompt.py\" target=\"_blank\"><span style=\"color: #7f7f7f; text-decoration-color: #7f7f7f\">prompt.py</span></a><span style=\"color: #7f7f7f; text-decoration-color: #7f7f7f\">:</span><a href=\"file:///Users/stanb/src/relyonai/relyonai/prompt/prompt.py#199\" target=\"_blank\"><span style=\"color: #7f7f7f; text-decoration-color: #7f7f7f\">199</span></a>\n",
       "<span style=\"color: #7fbfbf; text-decoration-color: #7fbfbf\">           </span>         ```python                                                                         <span style=\"color: #7f7f7f; text-decoration-color: #7f7f7f\">             </span>\n",
       "<span style=\"color: #7fbfbf; text-decoration-color: #7fbfbf\">           </span>         # we can use the urllib.parse library to check if a string is a valid URL         <span style=\"color: #7f7f7f; text-decoration-color: #7f7f7f\">             </span>\n",
       "<span style=\"color: #7fbfbf; text-decoration-color: #7fbfbf\">           </span>         from urllib.parse import urlparse                                                 <span style=\"color: #7f7f7f; text-decoration-color: #7f7f7f\">             </span>\n",
       "<span style=\"color: #7fbfbf; text-decoration-color: #7fbfbf\">           </span>                                                                                           <span style=\"color: #7f7f7f; text-decoration-color: #7f7f7f\">             </span>\n",
       "<span style=\"color: #7fbfbf; text-decoration-color: #7fbfbf\">           </span>         def <span style=\"color: #800080; text-decoration-color: #800080; font-weight: bold\">is_valid_url</span><span style=\"font-weight: bold\">(</span>url: str<span style=\"font-weight: bold\">)</span> -&gt; bool:                                               <span style=\"color: #7f7f7f; text-decoration-color: #7f7f7f\">             </span>\n",
       "<span style=\"color: #7fbfbf; text-decoration-color: #7fbfbf\">           </span>             try:                                                                          <span style=\"color: #7f7f7f; text-decoration-color: #7f7f7f\">             </span>\n",
       "<span style=\"color: #7fbfbf; text-decoration-color: #7fbfbf\">           </span>                 result = <span style=\"color: #800080; text-decoration-color: #800080; font-weight: bold\">urlparse</span><span style=\"font-weight: bold\">(</span>url<span style=\"font-weight: bold\">)</span>                                                    <span style=\"color: #7f7f7f; text-decoration-color: #7f7f7f\">             </span>\n",
       "<span style=\"color: #7fbfbf; text-decoration-color: #7fbfbf\">           </span>                 return <span style=\"color: #800080; text-decoration-color: #800080; font-weight: bold\">all</span><span style=\"font-weight: bold\">([</span>result.scheme, result.netloc<span style=\"font-weight: bold\">])</span>                                <span style=\"color: #7f7f7f; text-decoration-color: #7f7f7f\">             </span>\n",
       "<span style=\"color: #7fbfbf; text-decoration-color: #7fbfbf\">           </span>             except ValueError:                                                            <span style=\"color: #7f7f7f; text-decoration-color: #7f7f7f\">             </span>\n",
       "<span style=\"color: #7fbfbf; text-decoration-color: #7fbfbf\">           </span>                 return <span style=\"color: #ff0000; text-decoration-color: #ff0000; font-style: italic\">False</span>                                                              <span style=\"color: #7f7f7f; text-decoration-color: #7f7f7f\">             </span>\n",
       "<span style=\"color: #7fbfbf; text-decoration-color: #7fbfbf\">           </span>                                                                                           <span style=\"color: #7f7f7f; text-decoration-color: #7f7f7f\">             </span>\n",
       "<span style=\"color: #7fbfbf; text-decoration-color: #7fbfbf\">           </span>         <span style=\"color: #800080; text-decoration-color: #800080; font-weight: bold\">finish_task_ok</span><span style=\"font-weight: bold\">(</span>is_valid_url<span style=\"font-weight: bold\">)</span>;                                                     <span style=\"color: #7f7f7f; text-decoration-color: #7f7f7f\">             </span>\n",
       "<span style=\"color: #7fbfbf; text-decoration-color: #7fbfbf\">           </span>         ```                                                                               <span style=\"color: #7f7f7f; text-decoration-color: #7f7f7f\">             </span>\n",
       "</pre>\n"
      ],
      "text/plain": [
       "\u001b[2;36m          \u001b[0m\u001b[2;36m \u001b[0m\u001b[34mINFO    \u001b[0m ===\u001b[33massistant\u001b[0m===                                                                   \u001b]8;id=718507;file:///Users/stanb/src/relyonai/relyonai/prompt/prompt.py\u001b\\\u001b[2mprompt.py\u001b[0m\u001b]8;;\u001b\\\u001b[2m:\u001b[0m\u001b]8;id=765150;file:///Users/stanb/src/relyonai/relyonai/prompt/prompt.py#199\u001b\\\u001b[2m199\u001b[0m\u001b]8;;\u001b\\\n",
       "\u001b[2;36m           \u001b[0m         ```python                                                                         \u001b[2m             \u001b[0m\n",
       "\u001b[2;36m           \u001b[0m         # we can use the urllib.parse library to check if a string is a valid URL         \u001b[2m             \u001b[0m\n",
       "\u001b[2;36m           \u001b[0m         from urllib.parse import urlparse                                                 \u001b[2m             \u001b[0m\n",
       "\u001b[2;36m           \u001b[0m                                                                                           \u001b[2m             \u001b[0m\n",
       "\u001b[2;36m           \u001b[0m         def \u001b[1;35mis_valid_url\u001b[0m\u001b[1m(\u001b[0murl: str\u001b[1m)\u001b[0m -> bool:                                               \u001b[2m             \u001b[0m\n",
       "\u001b[2;36m           \u001b[0m             try:                                                                          \u001b[2m             \u001b[0m\n",
       "\u001b[2;36m           \u001b[0m                 result = \u001b[1;35murlparse\u001b[0m\u001b[1m(\u001b[0murl\u001b[1m)\u001b[0m                                                    \u001b[2m             \u001b[0m\n",
       "\u001b[2;36m           \u001b[0m                 return \u001b[1;35mall\u001b[0m\u001b[1m(\u001b[0m\u001b[1m[\u001b[0mresult.scheme, result.netloc\u001b[1m]\u001b[0m\u001b[1m)\u001b[0m                                \u001b[2m             \u001b[0m\n",
       "\u001b[2;36m           \u001b[0m             except ValueError:                                                            \u001b[2m             \u001b[0m\n",
       "\u001b[2;36m           \u001b[0m                 return \u001b[3;91mFalse\u001b[0m                                                              \u001b[2m             \u001b[0m\n",
       "\u001b[2;36m           \u001b[0m                                                                                           \u001b[2m             \u001b[0m\n",
       "\u001b[2;36m           \u001b[0m         \u001b[1;35mfinish_task_ok\u001b[0m\u001b[1m(\u001b[0mis_valid_url\u001b[1m)\u001b[0m;                                                     \u001b[2m             \u001b[0m\n",
       "\u001b[2;36m           \u001b[0m         ```                                                                               \u001b[2m             \u001b[0m\n"
      ]
     },
     "metadata": {},
     "output_type": "display_data"
    },
    {
     "data": {
      "text/plain": [
       "<function is_valid_url(url: str) -> bool>"
      ]
     },
     "execution_count": 3,
     "metadata": {},
     "output_type": "execute_result"
    }
   ],
   "source": [
    "ai('check if input is a valid http url')"
   ]
  },
  {
   "cell_type": "code",
   "execution_count": 3,
   "metadata": {},
   "outputs": [
    {
     "data": {
      "text/html": [
       "<pre style=\"white-space:pre;overflow-x:auto;line-height:normal;font-family:Menlo,'DejaVu Sans Mono',consolas,'Courier New',monospace\"><span style=\"color: #7fbfbf; text-decoration-color: #7fbfbf\">[18:32:44] </span><span style=\"color: #000080; text-decoration-color: #000080\">INFO    </span> ===<span style=\"color: #808000; text-decoration-color: #808000\">user</span>===                                                                        <a href=\"file:///Users/stanb/src/relyonai/relyonai/prompt/prompt.py\" target=\"_blank\"><span style=\"color: #7f7f7f; text-decoration-color: #7f7f7f\">prompt.py</span></a><span style=\"color: #7f7f7f; text-decoration-color: #7f7f7f\">:</span><a href=\"file:///Users/stanb/src/relyonai/relyonai/prompt/prompt.py#199\" target=\"_blank\"><span style=\"color: #7f7f7f; text-decoration-color: #7f7f7f\">199</span></a>\n",
       "<span style=\"color: #7fbfbf; text-decoration-color: #7fbfbf\">           </span>         task description: <span style=\"color: #008000; text-decoration-color: #008000\">\"\"</span>\"                                                             <span style=\"color: #7f7f7f; text-decoration-color: #7f7f7f\">             </span>\n",
       "<span style=\"color: #7fbfbf; text-decoration-color: #7fbfbf\">           </span>         diagonal unit matrix constructor from numpy                                       <span style=\"color: #7f7f7f; text-decoration-color: #7f7f7f\">             </span>\n",
       "<span style=\"color: #7fbfbf; text-decoration-color: #7fbfbf\">           </span>         Let’s work this out in a step by step way to be sure we have the right answer     <span style=\"color: #7f7f7f; text-decoration-color: #7f7f7f\">             </span>\n",
       "<span style=\"color: #7fbfbf; text-decoration-color: #7fbfbf\">           </span>         <span style=\"color: #008000; text-decoration-color: #008000\">\"\"</span>\"                                                                               <span style=\"color: #7f7f7f; text-decoration-color: #7f7f7f\">             </span>\n",
       "<span style=\"color: #7fbfbf; text-decoration-color: #7fbfbf\">           </span>         environment: new python interpreter                                               <span style=\"color: #7f7f7f; text-decoration-color: #7f7f7f\">             </span>\n",
       "<span style=\"color: #7fbfbf; text-decoration-color: #7fbfbf\">           </span>         global variables: <span style=\"font-weight: bold\">&lt;</span><span style=\"color: #ff00ff; text-decoration-color: #ff00ff; font-weight: bold\">empty</span><span style=\"font-weight: bold\">&gt;</span>                                                         <span style=\"color: #7f7f7f; text-decoration-color: #7f7f7f\">             </span>\n",
       "</pre>\n"
      ],
      "text/plain": [
       "\u001b[2;36m[18:32:44]\u001b[0m\u001b[2;36m \u001b[0m\u001b[34mINFO    \u001b[0m ===\u001b[33muser\u001b[0m===                                                                        \u001b]8;id=755738;file:///Users/stanb/src/relyonai/relyonai/prompt/prompt.py\u001b\\\u001b[2mprompt.py\u001b[0m\u001b]8;;\u001b\\\u001b[2m:\u001b[0m\u001b]8;id=971781;file:///Users/stanb/src/relyonai/relyonai/prompt/prompt.py#199\u001b\\\u001b[2m199\u001b[0m\u001b]8;;\u001b\\\n",
       "\u001b[2;36m           \u001b[0m         task description: \u001b[32m\"\"\u001b[0m\"                                                             \u001b[2m             \u001b[0m\n",
       "\u001b[2;36m           \u001b[0m         diagonal unit matrix constructor from numpy                                       \u001b[2m             \u001b[0m\n",
       "\u001b[2;36m           \u001b[0m         Let’s work this out in a step by step way to be sure we have the right answer     \u001b[2m             \u001b[0m\n",
       "\u001b[2;36m           \u001b[0m         \u001b[32m\"\"\u001b[0m\"                                                                               \u001b[2m             \u001b[0m\n",
       "\u001b[2;36m           \u001b[0m         environment: new python interpreter                                               \u001b[2m             \u001b[0m\n",
       "\u001b[2;36m           \u001b[0m         global variables: \u001b[1m<\u001b[0m\u001b[1;95mempty\u001b[0m\u001b[1m>\u001b[0m                                                         \u001b[2m             \u001b[0m\n"
      ]
     },
     "metadata": {},
     "output_type": "display_data"
    },
    {
     "data": {
      "text/html": [
       "<pre style=\"white-space:pre;overflow-x:auto;line-height:normal;font-family:Menlo,'DejaVu Sans Mono',consolas,'Courier New',monospace\"><span style=\"color: #7fbfbf; text-decoration-color: #7fbfbf\">           </span><span style=\"color: #000080; text-decoration-color: #000080\">INFO    </span> ===<span style=\"color: #808000; text-decoration-color: #808000\">assistant</span>===                                                                   <a href=\"file:///Users/stanb/src/relyonai/relyonai/prompt/prompt.py\" target=\"_blank\"><span style=\"color: #7f7f7f; text-decoration-color: #7f7f7f\">prompt.py</span></a><span style=\"color: #7f7f7f; text-decoration-color: #7f7f7f\">:</span><a href=\"file:///Users/stanb/src/relyonai/relyonai/prompt/prompt.py#199\" target=\"_blank\"><span style=\"color: #7f7f7f; text-decoration-color: #7f7f7f\">199</span></a>\n",
       "<span style=\"color: #7fbfbf; text-decoration-color: #7fbfbf\">           </span>         ```python                                                                         <span style=\"color: #7f7f7f; text-decoration-color: #7f7f7f\">             </span>\n",
       "<span style=\"color: #7fbfbf; text-decoration-color: #7fbfbf\">           </span>         import numpy as np                                                                <span style=\"color: #7f7f7f; text-decoration-color: #7f7f7f\">             </span>\n",
       "<span style=\"color: #7fbfbf; text-decoration-color: #7fbfbf\">           </span>                                                                                           <span style=\"color: #7f7f7f; text-decoration-color: #7f7f7f\">             </span>\n",
       "<span style=\"color: #7fbfbf; text-decoration-color: #7fbfbf\">           </span>         # create a 3x3 diagonal unit matrix                                               <span style=\"color: #7f7f7f; text-decoration-color: #7f7f7f\">             </span>\n",
       "<span style=\"color: #7fbfbf; text-decoration-color: #7fbfbf\">           </span>         diag_unit_matrix = <span style=\"color: #800080; text-decoration-color: #800080; font-weight: bold\">np.eye</span><span style=\"font-weight: bold\">(</span><span style=\"color: #008080; text-decoration-color: #008080; font-weight: bold\">3</span><span style=\"font-weight: bold\">)</span>                                                      <span style=\"color: #7f7f7f; text-decoration-color: #7f7f7f\">             </span>\n",
       "<span style=\"color: #7fbfbf; text-decoration-color: #7fbfbf\">           </span>                                                                                           <span style=\"color: #7f7f7f; text-decoration-color: #7f7f7f\">             </span>\n",
       "<span style=\"color: #7fbfbf; text-decoration-color: #7fbfbf\">           </span>         <span style=\"color: #800080; text-decoration-color: #800080; font-weight: bold\">finish_task_ok</span><span style=\"font-weight: bold\">(</span>diag_unit_matrix<span style=\"font-weight: bold\">)</span>                                                  <span style=\"color: #7f7f7f; text-decoration-color: #7f7f7f\">             </span>\n",
       "<span style=\"color: #7fbfbf; text-decoration-color: #7fbfbf\">           </span>         ```                                                                               <span style=\"color: #7f7f7f; text-decoration-color: #7f7f7f\">             </span>\n",
       "</pre>\n"
      ],
      "text/plain": [
       "\u001b[2;36m          \u001b[0m\u001b[2;36m \u001b[0m\u001b[34mINFO    \u001b[0m ===\u001b[33massistant\u001b[0m===                                                                   \u001b]8;id=195233;file:///Users/stanb/src/relyonai/relyonai/prompt/prompt.py\u001b\\\u001b[2mprompt.py\u001b[0m\u001b]8;;\u001b\\\u001b[2m:\u001b[0m\u001b]8;id=162752;file:///Users/stanb/src/relyonai/relyonai/prompt/prompt.py#199\u001b\\\u001b[2m199\u001b[0m\u001b]8;;\u001b\\\n",
       "\u001b[2;36m           \u001b[0m         ```python                                                                         \u001b[2m             \u001b[0m\n",
       "\u001b[2;36m           \u001b[0m         import numpy as np                                                                \u001b[2m             \u001b[0m\n",
       "\u001b[2;36m           \u001b[0m                                                                                           \u001b[2m             \u001b[0m\n",
       "\u001b[2;36m           \u001b[0m         # create a 3x3 diagonal unit matrix                                               \u001b[2m             \u001b[0m\n",
       "\u001b[2;36m           \u001b[0m         diag_unit_matrix = \u001b[1;35mnp.eye\u001b[0m\u001b[1m(\u001b[0m\u001b[1;36m3\u001b[0m\u001b[1m)\u001b[0m                                                      \u001b[2m             \u001b[0m\n",
       "\u001b[2;36m           \u001b[0m                                                                                           \u001b[2m             \u001b[0m\n",
       "\u001b[2;36m           \u001b[0m         \u001b[1;35mfinish_task_ok\u001b[0m\u001b[1m(\u001b[0mdiag_unit_matrix\u001b[1m)\u001b[0m                                                  \u001b[2m             \u001b[0m\n",
       "\u001b[2;36m           \u001b[0m         ```                                                                               \u001b[2m             \u001b[0m\n"
      ]
     },
     "metadata": {},
     "output_type": "display_data"
    },
    {
     "data": {
      "text/plain": [
       "array([[1., 0., 0.],\n",
       "       [0., 1., 0.],\n",
       "       [0., 0., 1.]])"
      ]
     },
     "execution_count": 3,
     "metadata": {},
     "output_type": "execute_result"
    }
   ],
   "source": [
    "ai('diagonal unit matrix constructor from numpy')"
   ]
  },
  {
   "cell_type": "code",
   "execution_count": 6,
   "metadata": {},
   "outputs": [
    {
     "data": {
      "text/html": [
       "<pre style=\"white-space:pre;overflow-x:auto;line-height:normal;font-family:Menlo,'DejaVu Sans Mono',consolas,'Courier New',monospace\"><span style=\"color: #7fbfbf; text-decoration-color: #7fbfbf\">[18:33:22] </span><span style=\"color: #000080; text-decoration-color: #000080\">INFO    </span> ===<span style=\"color: #808000; text-decoration-color: #808000\">user</span>===                                                                        <a href=\"file:///Users/stanb/src/relyonai/relyonai/prompt/prompt.py\" target=\"_blank\"><span style=\"color: #7f7f7f; text-decoration-color: #7f7f7f\">prompt.py</span></a><span style=\"color: #7f7f7f; text-decoration-color: #7f7f7f\">:</span><a href=\"file:///Users/stanb/src/relyonai/relyonai/prompt/prompt.py#199\" target=\"_blank\"><span style=\"color: #7f7f7f; text-decoration-color: #7f7f7f\">199</span></a>\n",
       "<span style=\"color: #7fbfbf; text-decoration-color: #7fbfbf\">           </span>         task description: <span style=\"color: #008000; text-decoration-color: #008000\">\"\"</span>\"                                                             <span style=\"color: #7f7f7f; text-decoration-color: #7f7f7f\">             </span>\n",
       "<span style=\"color: #7fbfbf; text-decoration-color: #7fbfbf\">           </span>         import system stuff standard module                                               <span style=\"color: #7f7f7f; text-decoration-color: #7f7f7f\">             </span>\n",
       "<span style=\"color: #7fbfbf; text-decoration-color: #7fbfbf\">           </span>         Let’s work this out in a step by step way to be sure we have the right answer     <span style=\"color: #7f7f7f; text-decoration-color: #7f7f7f\">             </span>\n",
       "<span style=\"color: #7fbfbf; text-decoration-color: #7fbfbf\">           </span>         <span style=\"color: #008000; text-decoration-color: #008000\">\"\"</span>\"                                                                               <span style=\"color: #7f7f7f; text-decoration-color: #7f7f7f\">             </span>\n",
       "<span style=\"color: #7fbfbf; text-decoration-color: #7fbfbf\">           </span>         environment: new python interpreter                                               <span style=\"color: #7f7f7f; text-decoration-color: #7f7f7f\">             </span>\n",
       "<span style=\"color: #7fbfbf; text-decoration-color: #7fbfbf\">           </span>         global variables: <span style=\"font-weight: bold\">&lt;</span><span style=\"color: #ff00ff; text-decoration-color: #ff00ff; font-weight: bold\">empty</span><span style=\"font-weight: bold\">&gt;</span>                                                         <span style=\"color: #7f7f7f; text-decoration-color: #7f7f7f\">             </span>\n",
       "</pre>\n"
      ],
      "text/plain": [
       "\u001b[2;36m[18:33:22]\u001b[0m\u001b[2;36m \u001b[0m\u001b[34mINFO    \u001b[0m ===\u001b[33muser\u001b[0m===                                                                        \u001b]8;id=49437;file:///Users/stanb/src/relyonai/relyonai/prompt/prompt.py\u001b\\\u001b[2mprompt.py\u001b[0m\u001b]8;;\u001b\\\u001b[2m:\u001b[0m\u001b]8;id=936482;file:///Users/stanb/src/relyonai/relyonai/prompt/prompt.py#199\u001b\\\u001b[2m199\u001b[0m\u001b]8;;\u001b\\\n",
       "\u001b[2;36m           \u001b[0m         task description: \u001b[32m\"\"\u001b[0m\"                                                             \u001b[2m             \u001b[0m\n",
       "\u001b[2;36m           \u001b[0m         import system stuff standard module                                               \u001b[2m             \u001b[0m\n",
       "\u001b[2;36m           \u001b[0m         Let’s work this out in a step by step way to be sure we have the right answer     \u001b[2m             \u001b[0m\n",
       "\u001b[2;36m           \u001b[0m         \u001b[32m\"\"\u001b[0m\"                                                                               \u001b[2m             \u001b[0m\n",
       "\u001b[2;36m           \u001b[0m         environment: new python interpreter                                               \u001b[2m             \u001b[0m\n",
       "\u001b[2;36m           \u001b[0m         global variables: \u001b[1m<\u001b[0m\u001b[1;95mempty\u001b[0m\u001b[1m>\u001b[0m                                                         \u001b[2m             \u001b[0m\n"
      ]
     },
     "metadata": {},
     "output_type": "display_data"
    },
    {
     "data": {
      "text/html": [
       "<pre style=\"white-space:pre;overflow-x:auto;line-height:normal;font-family:Menlo,'DejaVu Sans Mono',consolas,'Courier New',monospace\"><span style=\"color: #7fbfbf; text-decoration-color: #7fbfbf\">           </span><span style=\"color: #000080; text-decoration-color: #000080\">INFO    </span> ===<span style=\"color: #808000; text-decoration-color: #808000\">assistant</span>===                                                                   <a href=\"file:///Users/stanb/src/relyonai/relyonai/prompt/prompt.py\" target=\"_blank\"><span style=\"color: #7f7f7f; text-decoration-color: #7f7f7f\">prompt.py</span></a><span style=\"color: #7f7f7f; text-decoration-color: #7f7f7f\">:</span><a href=\"file:///Users/stanb/src/relyonai/relyonai/prompt/prompt.py#199\" target=\"_blank\"><span style=\"color: #7f7f7f; text-decoration-color: #7f7f7f\">199</span></a>\n",
       "<span style=\"color: #7fbfbf; text-decoration-color: #7fbfbf\">           </span>         ```python                                                                         <span style=\"color: #7f7f7f; text-decoration-color: #7f7f7f\">             </span>\n",
       "<span style=\"color: #7fbfbf; text-decoration-color: #7fbfbf\">           </span>         import sys                                                                        <span style=\"color: #7f7f7f; text-decoration-color: #7f7f7f\">             </span>\n",
       "<span style=\"color: #7fbfbf; text-decoration-color: #7fbfbf\">           </span>         <span style=\"color: #800080; text-decoration-color: #800080; font-weight: bold\">finish_task_ok</span><span style=\"font-weight: bold\">(</span>sys<span style=\"font-weight: bold\">)</span>;                                                              <span style=\"color: #7f7f7f; text-decoration-color: #7f7f7f\">             </span>\n",
       "<span style=\"color: #7fbfbf; text-decoration-color: #7fbfbf\">           </span>         ```                                                                               <span style=\"color: #7f7f7f; text-decoration-color: #7f7f7f\">             </span>\n",
       "</pre>\n"
      ],
      "text/plain": [
       "\u001b[2;36m          \u001b[0m\u001b[2;36m \u001b[0m\u001b[34mINFO    \u001b[0m ===\u001b[33massistant\u001b[0m===                                                                   \u001b]8;id=520217;file:///Users/stanb/src/relyonai/relyonai/prompt/prompt.py\u001b\\\u001b[2mprompt.py\u001b[0m\u001b]8;;\u001b\\\u001b[2m:\u001b[0m\u001b]8;id=392840;file:///Users/stanb/src/relyonai/relyonai/prompt/prompt.py#199\u001b\\\u001b[2m199\u001b[0m\u001b]8;;\u001b\\\n",
       "\u001b[2;36m           \u001b[0m         ```python                                                                         \u001b[2m             \u001b[0m\n",
       "\u001b[2;36m           \u001b[0m         import sys                                                                        \u001b[2m             \u001b[0m\n",
       "\u001b[2;36m           \u001b[0m         \u001b[1;35mfinish_task_ok\u001b[0m\u001b[1m(\u001b[0msys\u001b[1m)\u001b[0m;                                                              \u001b[2m             \u001b[0m\n",
       "\u001b[2;36m           \u001b[0m         ```                                                                               \u001b[2m             \u001b[0m\n"
      ]
     },
     "metadata": {},
     "output_type": "display_data"
    },
    {
     "data": {
      "text/plain": [
       "['/Users/stanb/src/relyonai',\n",
       " '/Users/stanb/.miniconda3/envs/relyonai/lib/python38.zip',\n",
       " '/Users/stanb/.miniconda3/envs/relyonai/lib/python3.8',\n",
       " '/Users/stanb/.miniconda3/envs/relyonai/lib/python3.8/lib-dynload',\n",
       " '',\n",
       " '/Users/stanb/.miniconda3/envs/relyonai/lib/python3.8/site-packages',\n",
       " '/Users/stanb/src/relyonai']"
      ]
     },
     "execution_count": 6,
     "metadata": {},
     "output_type": "execute_result"
    }
   ],
   "source": [
    "ai('import system stuff standard module').path"
   ]
  }
 ],
 "metadata": {
  "kernelspec": {
   "display_name": "relyonai",
   "language": "python",
   "name": "python3"
  },
  "language_info": {
   "codemirror_mode": {
    "name": "ipython",
    "version": 3
   },
   "file_extension": ".py",
   "mimetype": "text/x-python",
   "name": "python",
   "nbconvert_exporter": "python",
   "pygments_lexer": "ipython3",
   "version": "3.8.16"
  }
 },
 "nbformat": 4,
 "nbformat_minor": 2
}
