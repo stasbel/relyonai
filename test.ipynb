{
 "cells": [
  {
   "cell_type": "code",
   "execution_count": 2,
   "metadata": {},
   "outputs": [],
   "source": [
    "%reload_ext autoreload\n",
    "%autoreload 2\n",
    "\n",
    "import logging\n",
    "from rich import logging as rich_logging\n",
    "logging.basicConfig(\n",
    "    level=logging.INFO,\n",
    "    # level=logging.WARNING,\n",
    "    format=\"%(message)s\",\n",
    "    datefmt=\"[%X]\",\n",
    "    handlers=[rich_logging.RichHandler()],\n",
    ")\n",
    "\n",
    "from aiknows import config, ai, gpt\n",
    "# config.clear_cache()\n",
    "\n",
    "from rich import traceback as rich_traceback\n",
    "rich_traceback.install(show_locals=True);"
   ]
  },
  {
   "cell_type": "code",
   "execution_count": 4,
   "metadata": {},
   "outputs": [
    {
     "data": {
      "text/html": [
       "<pre style=\"white-space:pre;overflow-x:auto;line-height:normal;font-family:Menlo,'DejaVu Sans Mono',consolas,'Courier New',monospace\"><span style=\"color: #7fbfbf; text-decoration-color: #7fbfbf\">[04:01:23] </span><span style=\"color: #000080; text-decoration-color: #000080\">INFO    </span> ===<span style=\"color: #808000; text-decoration-color: #808000\">user</span>===                                                                        <a href=\"file:///Users/stanb/src/aiknows/aiknows/prompt/prompt.py\" target=\"_blank\"><span style=\"color: #7f7f7f; text-decoration-color: #7f7f7f\">prompt.py</span></a><span style=\"color: #7f7f7f; text-decoration-color: #7f7f7f\">:</span><a href=\"file:///Users/stanb/src/aiknows/aiknows/prompt/prompt.py#195\" target=\"_blank\"><span style=\"color: #7f7f7f; text-decoration-color: #7f7f7f\">195</span></a>\n",
       "<span style=\"color: #7fbfbf; text-decoration-color: #7fbfbf\">           </span>         task description: <span style=\"color: #008000; text-decoration-color: #008000\">\"\"</span>\"                                                             <span style=\"color: #7f7f7f; text-decoration-color: #7f7f7f\">             </span>\n",
       "<span style=\"color: #7fbfbf; text-decoration-color: #7fbfbf\">           </span>         input is a valid phone number of format xxx-xxx-xxxx                              <span style=\"color: #7f7f7f; text-decoration-color: #7f7f7f\">             </span>\n",
       "<span style=\"color: #7fbfbf; text-decoration-color: #7fbfbf\">           </span>         <span style=\"color: #008000; text-decoration-color: #008000\">\"\"</span>\"                                                                               <span style=\"color: #7f7f7f; text-decoration-color: #7f7f7f\">             </span>\n",
       "<span style=\"color: #7fbfbf; text-decoration-color: #7fbfbf\">           </span>         environment: new python interpreter                                               <span style=\"color: #7f7f7f; text-decoration-color: #7f7f7f\">             </span>\n",
       "<span style=\"color: #7fbfbf; text-decoration-color: #7fbfbf\">           </span>         global variables: <span style=\"font-weight: bold\">&lt;</span><span style=\"color: #ff00ff; text-decoration-color: #ff00ff; font-weight: bold\">empty</span><span style=\"font-weight: bold\">&gt;</span>                                                         <span style=\"color: #7f7f7f; text-decoration-color: #7f7f7f\">             </span>\n",
       "</pre>\n"
      ],
      "text/plain": [
       "\u001b[2;36m[04:01:23]\u001b[0m\u001b[2;36m \u001b[0m\u001b[34mINFO    \u001b[0m ===\u001b[33muser\u001b[0m===                                                                        \u001b]8;id=332168;file:///Users/stanb/src/aiknows/aiknows/prompt/prompt.py\u001b\\\u001b[2mprompt.py\u001b[0m\u001b]8;;\u001b\\\u001b[2m:\u001b[0m\u001b]8;id=761761;file:///Users/stanb/src/aiknows/aiknows/prompt/prompt.py#195\u001b\\\u001b[2m195\u001b[0m\u001b]8;;\u001b\\\n",
       "\u001b[2;36m           \u001b[0m         task description: \u001b[32m\"\"\u001b[0m\"                                                             \u001b[2m             \u001b[0m\n",
       "\u001b[2;36m           \u001b[0m         input is a valid phone number of format xxx-xxx-xxxx                              \u001b[2m             \u001b[0m\n",
       "\u001b[2;36m           \u001b[0m         \u001b[32m\"\"\u001b[0m\"                                                                               \u001b[2m             \u001b[0m\n",
       "\u001b[2;36m           \u001b[0m         environment: new python interpreter                                               \u001b[2m             \u001b[0m\n",
       "\u001b[2;36m           \u001b[0m         global variables: \u001b[1m<\u001b[0m\u001b[1;95mempty\u001b[0m\u001b[1m>\u001b[0m                                                         \u001b[2m             \u001b[0m\n"
      ]
     },
     "metadata": {},
     "output_type": "display_data"
    },
    {
     "data": {
      "text/html": [
       "<pre style=\"white-space:pre;overflow-x:auto;line-height:normal;font-family:Menlo,'DejaVu Sans Mono',consolas,'Courier New',monospace\"><span style=\"color: #7fbfbf; text-decoration-color: #7fbfbf\">           </span><span style=\"color: #000080; text-decoration-color: #000080\">INFO    </span> cache miss on emb                                                                     <a href=\"file:///Users/stanb/src/aiknows/aiknows/llm.py\" target=\"_blank\"><span style=\"color: #7f7f7f; text-decoration-color: #7f7f7f\">llm.py</span></a><span style=\"color: #7f7f7f; text-decoration-color: #7f7f7f\">:</span><a href=\"file:///Users/stanb/src/aiknows/aiknows/llm.py#96\" target=\"_blank\"><span style=\"color: #7f7f7f; text-decoration-color: #7f7f7f\">96</span></a>\n",
       "</pre>\n"
      ],
      "text/plain": [
       "\u001b[2;36m          \u001b[0m\u001b[2;36m \u001b[0m\u001b[34mINFO    \u001b[0m cache miss on emb                                                                     \u001b]8;id=647256;file:///Users/stanb/src/aiknows/aiknows/llm.py\u001b\\\u001b[2mllm.py\u001b[0m\u001b]8;;\u001b\\\u001b[2m:\u001b[0m\u001b]8;id=728072;file:///Users/stanb/src/aiknows/aiknows/llm.py#96\u001b\\\u001b[2m96\u001b[0m\u001b]8;;\u001b\\\n"
      ]
     },
     "metadata": {},
     "output_type": "display_data"
    },
    {
     "data": {
      "text/html": [
       "<pre style=\"white-space:pre;overflow-x:auto;line-height:normal;font-family:Menlo,'DejaVu Sans Mono',consolas,'Courier New',monospace\"><span style=\"color: #7fbfbf; text-decoration-color: #7fbfbf\">[04:01:24] </span><span style=\"color: #000080; text-decoration-color: #000080\">INFO    </span> cache miss on generating code                                                         <a href=\"file:///Users/stanb/src/aiknows/aiknows/llm.py\" target=\"_blank\"><span style=\"color: #7f7f7f; text-decoration-color: #7f7f7f\">llm.py</span></a><span style=\"color: #7f7f7f; text-decoration-color: #7f7f7f\">:</span><a href=\"file:///Users/stanb/src/aiknows/aiknows/llm.py#24\" target=\"_blank\"><span style=\"color: #7f7f7f; text-decoration-color: #7f7f7f\">24</span></a>\n",
       "</pre>\n"
      ],
      "text/plain": [
       "\u001b[2;36m[04:01:24]\u001b[0m\u001b[2;36m \u001b[0m\u001b[34mINFO    \u001b[0m cache miss on generating code                                                         \u001b]8;id=50516;file:///Users/stanb/src/aiknows/aiknows/llm.py\u001b\\\u001b[2mllm.py\u001b[0m\u001b]8;;\u001b\\\u001b[2m:\u001b[0m\u001b]8;id=896523;file:///Users/stanb/src/aiknows/aiknows/llm.py#24\u001b\\\u001b[2m24\u001b[0m\u001b]8;;\u001b\\\n"
      ]
     },
     "metadata": {},
     "output_type": "display_data"
    },
    {
     "data": {
      "text/html": [
       "<pre style=\"white-space:pre;overflow-x:auto;line-height:normal;font-family:Menlo,'DejaVu Sans Mono',consolas,'Courier New',monospace\"><span style=\"color: #7fbfbf; text-decoration-color: #7fbfbf\">           </span><span style=\"color: #000080; text-decoration-color: #000080\">INFO    </span> len prompt messages: <span style=\"color: #008080; text-decoration-color: #008080; font-weight: bold\">40</span>                                                               <a href=\"file:///Users/stanb/src/aiknows/aiknows/llm.py\" target=\"_blank\"><span style=\"color: #7f7f7f; text-decoration-color: #7f7f7f\">llm.py</span></a><span style=\"color: #7f7f7f; text-decoration-color: #7f7f7f\">:</span><a href=\"file:///Users/stanb/src/aiknows/aiknows/llm.py#28\" target=\"_blank\"><span style=\"color: #7f7f7f; text-decoration-color: #7f7f7f\">28</span></a>\n",
       "</pre>\n"
      ],
      "text/plain": [
       "\u001b[2;36m          \u001b[0m\u001b[2;36m \u001b[0m\u001b[34mINFO    \u001b[0m len prompt messages: \u001b[1;36m40\u001b[0m                                                               \u001b]8;id=246709;file:///Users/stanb/src/aiknows/aiknows/llm.py\u001b\\\u001b[2mllm.py\u001b[0m\u001b]8;;\u001b\\\u001b[2m:\u001b[0m\u001b]8;id=813516;file:///Users/stanb/src/aiknows/aiknows/llm.py#28\u001b\\\u001b[2m28\u001b[0m\u001b]8;;\u001b\\\n"
      ]
     },
     "metadata": {},
     "output_type": "display_data"
    },
    {
     "data": {
      "text/html": [
       "<pre style=\"white-space:pre;overflow-x:auto;line-height:normal;font-family:Menlo,'DejaVu Sans Mono',consolas,'Courier New',monospace\"><span style=\"color: #7fbfbf; text-decoration-color: #7fbfbf\">[04:01:35] </span><span style=\"color: #000080; text-decoration-color: #000080\">INFO    </span> real prompt token length: <span style=\"color: #008080; text-decoration-color: #008080; font-weight: bold\">2163</span>                                                        <a href=\"file:///Users/stanb/src/aiknows/aiknows/llm.py\" target=\"_blank\"><span style=\"color: #7f7f7f; text-decoration-color: #7f7f7f\">llm.py</span></a><span style=\"color: #7f7f7f; text-decoration-color: #7f7f7f\">:</span><a href=\"file:///Users/stanb/src/aiknows/aiknows/llm.py#36\" target=\"_blank\"><span style=\"color: #7f7f7f; text-decoration-color: #7f7f7f\">36</span></a>\n",
       "</pre>\n"
      ],
      "text/plain": [
       "\u001b[2;36m[04:01:35]\u001b[0m\u001b[2;36m \u001b[0m\u001b[34mINFO    \u001b[0m real prompt token length: \u001b[1;36m2163\u001b[0m                                                        \u001b]8;id=505087;file:///Users/stanb/src/aiknows/aiknows/llm.py\u001b\\\u001b[2mllm.py\u001b[0m\u001b]8;;\u001b\\\u001b[2m:\u001b[0m\u001b]8;id=785300;file:///Users/stanb/src/aiknows/aiknows/llm.py#36\u001b\\\u001b[2m36\u001b[0m\u001b]8;;\u001b\\\n"
      ]
     },
     "metadata": {},
     "output_type": "display_data"
    },
    {
     "data": {
      "text/html": [
       "<pre style=\"white-space:pre;overflow-x:auto;line-height:normal;font-family:Menlo,'DejaVu Sans Mono',consolas,'Courier New',monospace\"><span style=\"color: #7fbfbf; text-decoration-color: #7fbfbf\">           </span><span style=\"color: #000080; text-decoration-color: #000080\">INFO    </span> ===<span style=\"color: #808000; text-decoration-color: #808000\">assistant</span>===                                                                   <a href=\"file:///Users/stanb/src/aiknows/aiknows/prompt/prompt.py\" target=\"_blank\"><span style=\"color: #7f7f7f; text-decoration-color: #7f7f7f\">prompt.py</span></a><span style=\"color: #7f7f7f; text-decoration-color: #7f7f7f\">:</span><a href=\"file:///Users/stanb/src/aiknows/aiknows/prompt/prompt.py#195\" target=\"_blank\"><span style=\"color: #7f7f7f; text-decoration-color: #7f7f7f\">195</span></a>\n",
       "<span style=\"color: #7fbfbf; text-decoration-color: #7fbfbf\">           </span>         ```python                                                                         <span style=\"color: #7f7f7f; text-decoration-color: #7f7f7f\">             </span>\n",
       "<span style=\"color: #7fbfbf; text-decoration-color: #7fbfbf\">           </span>         # no global variables are provided and task given in declarative form             <span style=\"color: #7f7f7f; text-decoration-color: #7f7f7f\">             </span>\n",
       "<span style=\"color: #7fbfbf; text-decoration-color: #7fbfbf\">           </span>         # so, we assume user wants to check if input string is a valid phone number       <span style=\"color: #7f7f7f; text-decoration-color: #7f7f7f\">             </span>\n",
       "<span style=\"color: #7fbfbf; text-decoration-color: #7fbfbf\">           </span>         def <span style=\"color: #800080; text-decoration-color: #800080; font-weight: bold\">is_valid_phone_number</span><span style=\"font-weight: bold\">(</span>phone_number<span style=\"font-weight: bold\">)</span>:                                          <span style=\"color: #7f7f7f; text-decoration-color: #7f7f7f\">             </span>\n",
       "<span style=\"color: #7fbfbf; text-decoration-color: #7fbfbf\">           </span>             return <span style=\"color: #800080; text-decoration-color: #800080; font-weight: bold\">len</span><span style=\"font-weight: bold\">(</span>phone_number<span style=\"font-weight: bold\">)</span> == <span style=\"color: #008080; text-decoration-color: #008080; font-weight: bold\">12</span> and phone_number<span style=\"font-weight: bold\">[</span><span style=\"color: #008080; text-decoration-color: #008080; font-weight: bold\">3</span><span style=\"font-weight: bold\">]</span> == <span style=\"color: #008000; text-decoration-color: #008000\">'-'</span> and phone_number<span style=\"font-weight: bold\">[</span><span style=\"color: #008080; text-decoration-color: #008080; font-weight: bold\">7</span><span style=\"font-weight: bold\">]</span> <span style=\"color: #7f7f7f; text-decoration-color: #7f7f7f\">             </span>\n",
       "<span style=\"color: #7fbfbf; text-decoration-color: #7fbfbf\">           </span>         == <span style=\"color: #008000; text-decoration-color: #008000\">'-'</span>                                                                            <span style=\"color: #7f7f7f; text-decoration-color: #7f7f7f\">             </span>\n",
       "<span style=\"color: #7fbfbf; text-decoration-color: #7fbfbf\">           </span>                                                                                           <span style=\"color: #7f7f7f; text-decoration-color: #7f7f7f\">             </span>\n",
       "<span style=\"color: #7fbfbf; text-decoration-color: #7fbfbf\">           </span>         <span style=\"color: #800080; text-decoration-color: #800080; font-weight: bold\">finish_task_ok</span><span style=\"font-weight: bold\">(</span>is_valid_phone_number<span style=\"font-weight: bold\">)</span>;                                            <span style=\"color: #7f7f7f; text-decoration-color: #7f7f7f\">             </span>\n",
       "<span style=\"color: #7fbfbf; text-decoration-color: #7fbfbf\">           </span>         ````                                                                              <span style=\"color: #7f7f7f; text-decoration-color: #7f7f7f\">             </span>\n",
       "</pre>\n"
      ],
      "text/plain": [
       "\u001b[2;36m          \u001b[0m\u001b[2;36m \u001b[0m\u001b[34mINFO    \u001b[0m ===\u001b[33massistant\u001b[0m===                                                                   \u001b]8;id=91386;file:///Users/stanb/src/aiknows/aiknows/prompt/prompt.py\u001b\\\u001b[2mprompt.py\u001b[0m\u001b]8;;\u001b\\\u001b[2m:\u001b[0m\u001b]8;id=604349;file:///Users/stanb/src/aiknows/aiknows/prompt/prompt.py#195\u001b\\\u001b[2m195\u001b[0m\u001b]8;;\u001b\\\n",
       "\u001b[2;36m           \u001b[0m         ```python                                                                         \u001b[2m             \u001b[0m\n",
       "\u001b[2;36m           \u001b[0m         # no global variables are provided and task given in declarative form             \u001b[2m             \u001b[0m\n",
       "\u001b[2;36m           \u001b[0m         # so, we assume user wants to check if input string is a valid phone number       \u001b[2m             \u001b[0m\n",
       "\u001b[2;36m           \u001b[0m         def \u001b[1;35mis_valid_phone_number\u001b[0m\u001b[1m(\u001b[0mphone_number\u001b[1m)\u001b[0m:                                          \u001b[2m             \u001b[0m\n",
       "\u001b[2;36m           \u001b[0m             return \u001b[1;35mlen\u001b[0m\u001b[1m(\u001b[0mphone_number\u001b[1m)\u001b[0m == \u001b[1;36m12\u001b[0m and phone_number\u001b[1m[\u001b[0m\u001b[1;36m3\u001b[0m\u001b[1m]\u001b[0m == \u001b[32m'-'\u001b[0m and phone_number\u001b[1m[\u001b[0m\u001b[1;36m7\u001b[0m\u001b[1m]\u001b[0m \u001b[2m             \u001b[0m\n",
       "\u001b[2;36m           \u001b[0m         == \u001b[32m'-'\u001b[0m                                                                            \u001b[2m             \u001b[0m\n",
       "\u001b[2;36m           \u001b[0m                                                                                           \u001b[2m             \u001b[0m\n",
       "\u001b[2;36m           \u001b[0m         \u001b[1;35mfinish_task_ok\u001b[0m\u001b[1m(\u001b[0mis_valid_phone_number\u001b[1m)\u001b[0m;                                            \u001b[2m             \u001b[0m\n",
       "\u001b[2;36m           \u001b[0m         ````                                                                              \u001b[2m             \u001b[0m\n"
      ]
     },
     "metadata": {},
     "output_type": "display_data"
    },
    {
     "data": {
      "text/plain": [
       "<function is_valid_phone_number(phone_number)>"
      ]
     },
     "execution_count": 4,
     "metadata": {},
     "output_type": "execute_result"
    }
   ],
   "source": [
    "ai('input is a valid phone number of format xxx-xxx-xxxx')"
   ]
  },
  {
   "cell_type": "code",
   "execution_count": 5,
   "metadata": {},
   "outputs": [
    {
     "data": {
      "text/html": [
       "<pre style=\"white-space:pre;overflow-x:auto;line-height:normal;font-family:Menlo,'DejaVu Sans Mono',consolas,'Courier New',monospace\"><span style=\"color: #000080; text-decoration-color: #000080\">╭─────────────────── </span><span style=\"color: #000080; text-decoration-color: #000080; font-weight: bold\">&lt;</span><span style=\"color: #ff00ff; text-decoration-color: #ff00ff; font-weight: bold\">function</span><span style=\"color: #000000; text-decoration-color: #000000\"> ai at </span><span style=\"color: #008080; text-decoration-color: #008080; font-weight: bold\">0x7f9b30878820</span><span style=\"color: #000080; text-decoration-color: #000080; font-weight: bold\">&gt;</span><span style=\"color: #000080; text-decoration-color: #000080\"> ────────────────────╮</span>\n",
       "<span style=\"color: #000080; text-decoration-color: #000080\">│</span> <span style=\"color: #00ffff; text-decoration-color: #00ffff; font-style: italic\">def </span><span style=\"color: #800000; text-decoration-color: #800000; font-weight: bold\">ai</span><span style=\"font-weight: bold\">(</span>task: str, *, save_session: bool = <span style=\"color: #ff0000; text-decoration-color: #ff0000; font-style: italic\">False</span>, **kwargs<span style=\"font-weight: bold\">)</span> -&gt; Any:     <span style=\"color: #000080; text-decoration-color: #000080\">│</span>\n",
       "<span style=\"color: #000080; text-decoration-color: #000080\">│</span>                                                                        <span style=\"color: #000080; text-decoration-color: #000080\">│</span>\n",
       "<span style=\"color: #000080; text-decoration-color: #000080\">│</span> <span style=\"color: #008080; text-decoration-color: #008080\">Generates a python object from a task description and given arguments.</span> <span style=\"color: #000080; text-decoration-color: #000080\">│</span>\n",
       "<span style=\"color: #000080; text-decoration-color: #000080\">│</span>                                                                        <span style=\"color: #000080; text-decoration-color: #000080\">│</span>\n",
       "<span style=\"color: #000080; text-decoration-color: #000080\">│</span> <span style=\"color: #008080; text-decoration-color: #008080; font-weight: bold\">35</span><span style=\"font-style: italic\"> attribute(s) not shown.</span> Run <span style=\"color: #800080; text-decoration-color: #800080; font-weight: bold\">inspect</span><span style=\"font-weight: bold\">(</span>inspect<span style=\"font-weight: bold\">)</span> for options.           <span style=\"color: #000080; text-decoration-color: #000080\">│</span>\n",
       "<span style=\"color: #000080; text-decoration-color: #000080\">╰────────────────────────────────────────────────────────────────────────╯</span>\n",
       "</pre>\n"
      ],
      "text/plain": [
       "\u001b[34m╭─\u001b[0m\u001b[34m──────────────────\u001b[0m\u001b[34m \u001b[0m\u001b[1;34m<\u001b[0m\u001b[1;95mfunction\u001b[0m\u001b[39m ai at \u001b[0m\u001b[1;36m0x7f9b30878820\u001b[0m\u001b[1;34m>\u001b[0m\u001b[34m \u001b[0m\u001b[34m───────────────────\u001b[0m\u001b[34m─╮\u001b[0m\n",
       "\u001b[34m│\u001b[0m \u001b[3;96mdef \u001b[0m\u001b[1;31mai\u001b[0m\u001b[1m(\u001b[0mtask: str, *, save_session: bool = \u001b[3;91mFalse\u001b[0m, **kwargs\u001b[1m)\u001b[0m -> Any:     \u001b[34m│\u001b[0m\n",
       "\u001b[34m│\u001b[0m                                                                        \u001b[34m│\u001b[0m\n",
       "\u001b[34m│\u001b[0m \u001b[36mGenerates a python object from a task description and given arguments.\u001b[0m \u001b[34m│\u001b[0m\n",
       "\u001b[34m│\u001b[0m                                                                        \u001b[34m│\u001b[0m\n",
       "\u001b[34m│\u001b[0m \u001b[1;36m35\u001b[0m\u001b[3m attribute(s) not shown.\u001b[0m Run \u001b[1;35minspect\u001b[0m\u001b[1m(\u001b[0minspect\u001b[1m)\u001b[0m for options.           \u001b[34m│\u001b[0m\n",
       "\u001b[34m╰────────────────────────────────────────────────────────────────────────╯\u001b[0m\n"
      ]
     },
     "metadata": {},
     "output_type": "display_data"
    }
   ],
   "source": [
    "from rich import inspect\n",
    "inspect(ai)"
   ]
  },
  {
   "cell_type": "code",
   "execution_count": 2,
   "metadata": {},
   "outputs": [
    {
     "data": {
      "text/html": [
       "<div>\n",
       "<style scoped>\n",
       "    .dataframe tbody tr th:only-of-type {\n",
       "        vertical-align: middle;\n",
       "    }\n",
       "\n",
       "    .dataframe tbody tr th {\n",
       "        vertical-align: top;\n",
       "    }\n",
       "\n",
       "    .dataframe thead th {\n",
       "        text-align: right;\n",
       "    }\n",
       "</style>\n",
       "<table border=\"1\" class=\"dataframe\">\n",
       "  <thead>\n",
       "    <tr style=\"text-align: right;\">\n",
       "      <th></th>\n",
       "      <th>LatD</th>\n",
       "      <th>LatM</th>\n",
       "      <th>LatS</th>\n",
       "      <th>NS</th>\n",
       "      <th>LonD</th>\n",
       "      <th>LonM</th>\n",
       "      <th>LonS</th>\n",
       "      <th>EW</th>\n",
       "      <th>City</th>\n",
       "      <th>State</th>\n",
       "    </tr>\n",
       "  </thead>\n",
       "  <tbody>\n",
       "    <tr>\n",
       "      <th>0</th>\n",
       "      <td>41</td>\n",
       "      <td>5</td>\n",
       "      <td>59</td>\n",
       "      <td>W</td>\n",
       "      <td>80</td>\n",
       "      <td>39</td>\n",
       "      <td>0</td>\n",
       "      <td>W</td>\n",
       "      <td>Youngstown</td>\n",
       "      <td>OH</td>\n",
       "    </tr>\n",
       "    <tr>\n",
       "      <th>1</th>\n",
       "      <td>42</td>\n",
       "      <td>52</td>\n",
       "      <td>48</td>\n",
       "      <td>W</td>\n",
       "      <td>97</td>\n",
       "      <td>23</td>\n",
       "      <td>23</td>\n",
       "      <td>W</td>\n",
       "      <td>Yankton</td>\n",
       "      <td>SD</td>\n",
       "    </tr>\n",
       "    <tr>\n",
       "      <th>2</th>\n",
       "      <td>46</td>\n",
       "      <td>35</td>\n",
       "      <td>59</td>\n",
       "      <td>W</td>\n",
       "      <td>120</td>\n",
       "      <td>30</td>\n",
       "      <td>36</td>\n",
       "      <td>W</td>\n",
       "      <td>Yakima</td>\n",
       "      <td>WA</td>\n",
       "    </tr>\n",
       "    <tr>\n",
       "      <th>3</th>\n",
       "      <td>42</td>\n",
       "      <td>16</td>\n",
       "      <td>12</td>\n",
       "      <td>W</td>\n",
       "      <td>71</td>\n",
       "      <td>48</td>\n",
       "      <td>0</td>\n",
       "      <td>W</td>\n",
       "      <td>Worcester</td>\n",
       "      <td>MA</td>\n",
       "    </tr>\n",
       "    <tr>\n",
       "      <th>4</th>\n",
       "      <td>43</td>\n",
       "      <td>37</td>\n",
       "      <td>48</td>\n",
       "      <td>W</td>\n",
       "      <td>89</td>\n",
       "      <td>46</td>\n",
       "      <td>11</td>\n",
       "      <td>W</td>\n",
       "      <td>Wisconsin Dells</td>\n",
       "      <td>WI</td>\n",
       "    </tr>\n",
       "    <tr>\n",
       "      <th>...</th>\n",
       "      <td>...</td>\n",
       "      <td>...</td>\n",
       "      <td>...</td>\n",
       "      <td>...</td>\n",
       "      <td>...</td>\n",
       "      <td>...</td>\n",
       "      <td>...</td>\n",
       "      <td>...</td>\n",
       "      <td>...</td>\n",
       "      <td>...</td>\n",
       "    </tr>\n",
       "    <tr>\n",
       "      <th>123</th>\n",
       "      <td>39</td>\n",
       "      <td>31</td>\n",
       "      <td>12</td>\n",
       "      <td>W</td>\n",
       "      <td>119</td>\n",
       "      <td>48</td>\n",
       "      <td>35</td>\n",
       "      <td>W</td>\n",
       "      <td>Reno</td>\n",
       "      <td>NV</td>\n",
       "    </tr>\n",
       "    <tr>\n",
       "      <th>124</th>\n",
       "      <td>50</td>\n",
       "      <td>25</td>\n",
       "      <td>11</td>\n",
       "      <td>W</td>\n",
       "      <td>104</td>\n",
       "      <td>39</td>\n",
       "      <td>0</td>\n",
       "      <td>W</td>\n",
       "      <td>Regina</td>\n",
       "      <td>SA</td>\n",
       "    </tr>\n",
       "    <tr>\n",
       "      <th>125</th>\n",
       "      <td>40</td>\n",
       "      <td>10</td>\n",
       "      <td>48</td>\n",
       "      <td>W</td>\n",
       "      <td>122</td>\n",
       "      <td>14</td>\n",
       "      <td>23</td>\n",
       "      <td>W</td>\n",
       "      <td>Red Bluff</td>\n",
       "      <td>CA</td>\n",
       "    </tr>\n",
       "    <tr>\n",
       "      <th>126</th>\n",
       "      <td>40</td>\n",
       "      <td>19</td>\n",
       "      <td>48</td>\n",
       "      <td>W</td>\n",
       "      <td>75</td>\n",
       "      <td>55</td>\n",
       "      <td>48</td>\n",
       "      <td>W</td>\n",
       "      <td>Reading</td>\n",
       "      <td>PA</td>\n",
       "    </tr>\n",
       "    <tr>\n",
       "      <th>127</th>\n",
       "      <td>41</td>\n",
       "      <td>9</td>\n",
       "      <td>35</td>\n",
       "      <td>W</td>\n",
       "      <td>81</td>\n",
       "      <td>14</td>\n",
       "      <td>23</td>\n",
       "      <td>W</td>\n",
       "      <td>Ravenna</td>\n",
       "      <td>OH</td>\n",
       "    </tr>\n",
       "  </tbody>\n",
       "</table>\n",
       "<p>128 rows × 10 columns</p>\n",
       "</div>"
      ],
      "text/plain": [
       "     LatD  LatM  LatS NS  LonD  LonM  LonS EW             City State\n",
       "0      41     5    59  W    80    39     0  W       Youngstown    OH\n",
       "1      42    52    48  W    97    23    23  W          Yankton    SD\n",
       "2      46    35    59  W   120    30    36  W           Yakima    WA\n",
       "3      42    16    12  W    71    48     0  W        Worcester    MA\n",
       "4      43    37    48  W    89    46    11  W  Wisconsin Dells    WI\n",
       "..    ...   ...   ... ..   ...   ...   ... ..              ...   ...\n",
       "123    39    31    12  W   119    48    35  W             Reno    NV\n",
       "124    50    25    11  W   104    39     0  W           Regina    SA\n",
       "125    40    10    48  W   122    14    23  W        Red Bluff    CA\n",
       "126    40    19    48  W    75    55    48  W          Reading    PA\n",
       "127    41     9    35  W    81    14    23  W          Ravenna    OH\n",
       "\n",
       "[128 rows x 10 columns]"
      ]
     },
     "execution_count": 2,
     "metadata": {},
     "output_type": "execute_result"
    }
   ],
   "source": [
    "import pandas as pd\n",
    "df = pd.read_csv('tests/data/cities.csv')\n",
    "df"
   ]
  },
  {
   "cell_type": "code",
   "execution_count": 2,
   "metadata": {},
   "outputs": [
    {
     "name": "stderr",
     "output_type": "stream",
     "text": [
      "===user===\n",
      "\n",
      "task description: \"\"\"\n",
      "multiply 123123 and 21939\n",
      "\"\"\"\n",
      "environment: new python interpreter\n",
      "global variables: <empty>\n",
      "\n",
      "===assistant===\n",
      "\n",
      "```python\n",
      "# task is very specific and doesn't require a function\n",
      "finish_task_ok(123123 * 21939);\n",
      "````\n",
      "\n"
     ]
    },
    {
     "data": {
      "text/plain": [
       "2701195497"
      ]
     },
     "execution_count": 2,
     "metadata": {},
     "output_type": "execute_result"
    }
   ],
   "source": [
    "ai('multiply 123123 and 21939')"
   ]
  },
  {
   "cell_type": "code",
   "execution_count": 7,
   "metadata": {},
   "outputs": [
    {
     "data": {
      "text/html": [
       "<pre style=\"white-space:pre;overflow-x:auto;line-height:normal;font-family:Menlo,'DejaVu Sans Mono',consolas,'Courier New',monospace\"><span style=\"color: #7fbfbf; text-decoration-color: #7fbfbf\">[01:15:40] </span><span style=\"color: #000080; text-decoration-color: #000080\">INFO    </span> ===<span style=\"color: #808000; text-decoration-color: #808000\">user</span>===                                                                        <a href=\"file:///Users/stanb/src/aiknows/aiknows/prompt/prompt.py\" target=\"_blank\"><span style=\"color: #7f7f7f; text-decoration-color: #7f7f7f\">prompt.py</span></a><span style=\"color: #7f7f7f; text-decoration-color: #7f7f7f\">:</span><a href=\"file:///Users/stanb/src/aiknows/aiknows/prompt/prompt.py#203\" target=\"_blank\"><span style=\"color: #7f7f7f; text-decoration-color: #7f7f7f\">203</span></a>\n",
       "<span style=\"color: #7fbfbf; text-decoration-color: #7fbfbf\">           </span>                                                                                           <span style=\"color: #7f7f7f; text-decoration-color: #7f7f7f\">             </span>\n",
       "<span style=\"color: #7fbfbf; text-decoration-color: #7fbfbf\">           </span>         task description: <span style=\"color: #008000; text-decoration-color: #008000\">\"\"</span>\"                                                             <span style=\"color: #7f7f7f; text-decoration-color: #7f7f7f\">             </span>\n",
       "<span style=\"color: #7fbfbf; text-decoration-color: #7fbfbf\">           </span>         return the two most distant cities names in df                                    <span style=\"color: #7f7f7f; text-decoration-color: #7f7f7f\">             </span>\n",
       "<span style=\"color: #7fbfbf; text-decoration-color: #7fbfbf\">           </span>         don't use geopy                                                                   <span style=\"color: #7f7f7f; text-decoration-color: #7f7f7f\">             </span>\n",
       "<span style=\"color: #7fbfbf; text-decoration-color: #7fbfbf\">           </span>         <span style=\"color: #008000; text-decoration-color: #008000\">\"\"</span>\"                                                                               <span style=\"color: #7f7f7f; text-decoration-color: #7f7f7f\">             </span>\n",
       "<span style=\"color: #7fbfbf; text-decoration-color: #7fbfbf\">           </span>         environment: new python interpreter                                               <span style=\"color: #7f7f7f; text-decoration-color: #7f7f7f\">             </span>\n",
       "<span style=\"color: #7fbfbf; text-decoration-color: #7fbfbf\">           </span>         global variables:                                                                 <span style=\"color: #7f7f7f; text-decoration-color: #7f7f7f\">             </span>\n",
       "<span style=\"color: #7fbfbf; text-decoration-color: #7fbfbf\">           </span>         - df                                                                              <span style=\"color: #7f7f7f; text-decoration-color: #7f7f7f\">             </span>\n",
       "<span style=\"color: #7fbfbf; text-decoration-color: #7fbfbf\">           </span>             - type: pandas.core.frame.DataFrame                                           <span style=\"color: #7f7f7f; text-decoration-color: #7f7f7f\">             </span>\n",
       "<span style=\"color: #7fbfbf; text-decoration-color: #7fbfbf\">           </span>             - shape: <span style=\"font-weight: bold\">(</span><span style=\"color: #008080; text-decoration-color: #008080; font-weight: bold\">128</span>, <span style=\"color: #008080; text-decoration-color: #008080; font-weight: bold\">10</span><span style=\"font-weight: bold\">)</span>                                                            <span style=\"color: #7f7f7f; text-decoration-color: #7f7f7f\">             </span>\n",
       "<span style=\"color: #7fbfbf; text-decoration-color: #7fbfbf\">           </span>             - columns: <span style=\"font-weight: bold\">[</span><span style=\"color: #008000; text-decoration-color: #008000\">'LatD'</span>, <span style=\"color: #008000; text-decoration-color: #008000\">'LatM'</span>, <span style=\"color: #008000; text-decoration-color: #008000\">'LatS'</span>, <span style=\"color: #008000; text-decoration-color: #008000\">'NS'</span>, <span style=\"color: #008000; text-decoration-color: #008000\">'LonD'</span>, <span style=\"color: #008000; text-decoration-color: #008000\">'LonM'</span>, <span style=\"color: #008000; text-decoration-color: #008000\">'LonS'</span>, <span style=\"color: #008000; text-decoration-color: #008000\">'EW'</span>,       <span style=\"color: #7f7f7f; text-decoration-color: #7f7f7f\">             </span>\n",
       "<span style=\"color: #7fbfbf; text-decoration-color: #7fbfbf\">           </span>         <span style=\"color: #008000; text-decoration-color: #008000\">'City'</span>, <span style=\"color: #008000; text-decoration-color: #008000\">'State'</span><span style=\"font-weight: bold\">]</span>                                                                  <span style=\"color: #7f7f7f; text-decoration-color: #7f7f7f\">             </span>\n",
       "<span style=\"color: #7fbfbf; text-decoration-color: #7fbfbf\">           </span>             - dtypes: <span style=\"font-weight: bold\">[</span><span style=\"color: #008000; text-decoration-color: #008000\">'int64'</span>, <span style=\"color: #008000; text-decoration-color: #008000\">'int64'</span>, <span style=\"color: #008000; text-decoration-color: #008000\">'int64'</span>, <span style=\"color: #008000; text-decoration-color: #008000\">'object'</span>, <span style=\"color: #008000; text-decoration-color: #008000\">'int64'</span>, <span style=\"color: #008000; text-decoration-color: #008000\">'int64'</span>, <span style=\"color: #008000; text-decoration-color: #008000\">'int64'</span>,    <span style=\"color: #7f7f7f; text-decoration-color: #7f7f7f\">             </span>\n",
       "<span style=\"color: #7fbfbf; text-decoration-color: #7fbfbf\">           </span>         <span style=\"color: #008000; text-decoration-color: #008000\">'object'</span>, <span style=\"color: #008000; text-decoration-color: #008000\">'object'</span>, <span style=\"color: #008000; text-decoration-color: #008000\">'object'</span><span style=\"font-weight: bold\">]</span>                                                     <span style=\"color: #7f7f7f; text-decoration-color: #7f7f7f\">             </span>\n",
       "<span style=\"color: #7fbfbf; text-decoration-color: #7fbfbf\">           </span>                                                                                           <span style=\"color: #7f7f7f; text-decoration-color: #7f7f7f\">             </span>\n",
       "</pre>\n"
      ],
      "text/plain": [
       "\u001b[2;36m[01:15:40]\u001b[0m\u001b[2;36m \u001b[0m\u001b[34mINFO    \u001b[0m ===\u001b[33muser\u001b[0m===                                                                        \u001b]8;id=878126;file:///Users/stanb/src/aiknows/aiknows/prompt/prompt.py\u001b\\\u001b[2mprompt.py\u001b[0m\u001b]8;;\u001b\\\u001b[2m:\u001b[0m\u001b]8;id=529591;file:///Users/stanb/src/aiknows/aiknows/prompt/prompt.py#203\u001b\\\u001b[2m203\u001b[0m\u001b]8;;\u001b\\\n",
       "\u001b[2;36m           \u001b[0m                                                                                           \u001b[2m             \u001b[0m\n",
       "\u001b[2;36m           \u001b[0m         task description: \u001b[32m\"\"\u001b[0m\"                                                             \u001b[2m             \u001b[0m\n",
       "\u001b[2;36m           \u001b[0m         return the two most distant cities names in df                                    \u001b[2m             \u001b[0m\n",
       "\u001b[2;36m           \u001b[0m         don't use geopy                                                                   \u001b[2m             \u001b[0m\n",
       "\u001b[2;36m           \u001b[0m         \u001b[32m\"\"\u001b[0m\"                                                                               \u001b[2m             \u001b[0m\n",
       "\u001b[2;36m           \u001b[0m         environment: new python interpreter                                               \u001b[2m             \u001b[0m\n",
       "\u001b[2;36m           \u001b[0m         global variables:                                                                 \u001b[2m             \u001b[0m\n",
       "\u001b[2;36m           \u001b[0m         - df                                                                              \u001b[2m             \u001b[0m\n",
       "\u001b[2;36m           \u001b[0m             - type: pandas.core.frame.DataFrame                                           \u001b[2m             \u001b[0m\n",
       "\u001b[2;36m           \u001b[0m             - shape: \u001b[1m(\u001b[0m\u001b[1;36m128\u001b[0m, \u001b[1;36m10\u001b[0m\u001b[1m)\u001b[0m                                                            \u001b[2m             \u001b[0m\n",
       "\u001b[2;36m           \u001b[0m             - columns: \u001b[1m[\u001b[0m\u001b[32m'LatD'\u001b[0m, \u001b[32m'LatM'\u001b[0m, \u001b[32m'LatS'\u001b[0m, \u001b[32m'NS'\u001b[0m, \u001b[32m'LonD'\u001b[0m, \u001b[32m'LonM'\u001b[0m, \u001b[32m'LonS'\u001b[0m, \u001b[32m'EW'\u001b[0m,       \u001b[2m             \u001b[0m\n",
       "\u001b[2;36m           \u001b[0m         \u001b[32m'City'\u001b[0m, \u001b[32m'State'\u001b[0m\u001b[1m]\u001b[0m                                                                  \u001b[2m             \u001b[0m\n",
       "\u001b[2;36m           \u001b[0m             - dtypes: \u001b[1m[\u001b[0m\u001b[32m'int64'\u001b[0m, \u001b[32m'int64'\u001b[0m, \u001b[32m'int64'\u001b[0m, \u001b[32m'object'\u001b[0m, \u001b[32m'int64'\u001b[0m, \u001b[32m'int64'\u001b[0m, \u001b[32m'int64'\u001b[0m,    \u001b[2m             \u001b[0m\n",
       "\u001b[2;36m           \u001b[0m         \u001b[32m'object'\u001b[0m, \u001b[32m'object'\u001b[0m, \u001b[32m'object'\u001b[0m\u001b[1m]\u001b[0m                                                     \u001b[2m             \u001b[0m\n",
       "\u001b[2;36m           \u001b[0m                                                                                           \u001b[2m             \u001b[0m\n"
      ]
     },
     "metadata": {},
     "output_type": "display_data"
    },
    {
     "data": {
      "text/html": [
       "<pre style=\"white-space:pre;overflow-x:auto;line-height:normal;font-family:Menlo,'DejaVu Sans Mono',consolas,'Courier New',monospace\"><span style=\"color: #7fbfbf; text-decoration-color: #7fbfbf\">           </span><span style=\"color: #000080; text-decoration-color: #000080\">INFO    </span> ===<span style=\"color: #808000; text-decoration-color: #808000\">assistant</span>===                                                                   <a href=\"file:///Users/stanb/src/aiknows/aiknows/prompt/prompt.py\" target=\"_blank\"><span style=\"color: #7f7f7f; text-decoration-color: #7f7f7f\">prompt.py</span></a><span style=\"color: #7f7f7f; text-decoration-color: #7f7f7f\">:</span><a href=\"file:///Users/stanb/src/aiknows/aiknows/prompt/prompt.py#203\" target=\"_blank\"><span style=\"color: #7f7f7f; text-decoration-color: #7f7f7f\">203</span></a>\n",
       "<span style=\"color: #7fbfbf; text-decoration-color: #7fbfbf\">           </span>                                                                                           <span style=\"color: #7f7f7f; text-decoration-color: #7f7f7f\">             </span>\n",
       "<span style=\"color: #7fbfbf; text-decoration-color: #7fbfbf\">           </span>         ```python                                                                         <span style=\"color: #7f7f7f; text-decoration-color: #7f7f7f\">             </span>\n",
       "<span style=\"color: #7fbfbf; text-decoration-color: #7fbfbf\">           </span>         # we can calculate the distance between two cities using their latitude and       <span style=\"color: #7f7f7f; text-decoration-color: #7f7f7f\">             </span>\n",
       "<span style=\"color: #7fbfbf; text-decoration-color: #7fbfbf\">           </span>         longitude                                                                         <span style=\"color: #7f7f7f; text-decoration-color: #7f7f7f\">             </span>\n",
       "<span style=\"color: #7fbfbf; text-decoration-color: #7fbfbf\">           </span>         # we can use the haversine formula to calculate the distance between two points   <span style=\"color: #7f7f7f; text-decoration-color: #7f7f7f\">             </span>\n",
       "<span style=\"color: #7fbfbf; text-decoration-color: #7fbfbf\">           </span>         on a sphere                                                                       <span style=\"color: #7f7f7f; text-decoration-color: #7f7f7f\">             </span>\n",
       "<span style=\"color: #7fbfbf; text-decoration-color: #7fbfbf\">           </span>         # we can use the following function to calculate the distance between two points  <span style=\"color: #7f7f7f; text-decoration-color: #7f7f7f\">             </span>\n",
       "<span style=\"color: #7fbfbf; text-decoration-color: #7fbfbf\">           </span>         on earth                                                                          <span style=\"color: #7f7f7f; text-decoration-color: #7f7f7f\">             </span>\n",
       "<span style=\"color: #7fbfbf; text-decoration-color: #7fbfbf\">           </span>         from math import radians, cos, sin, asin, sqrt                                    <span style=\"color: #7f7f7f; text-decoration-color: #7f7f7f\">             </span>\n",
       "<span style=\"color: #7fbfbf; text-decoration-color: #7fbfbf\">           </span>                                                                                           <span style=\"color: #7f7f7f; text-decoration-color: #7f7f7f\">             </span>\n",
       "<span style=\"color: #7fbfbf; text-decoration-color: #7fbfbf\">           </span>         def <span style=\"color: #800080; text-decoration-color: #800080; font-weight: bold\">haversine</span><span style=\"font-weight: bold\">(</span>lat1, lon1, lat2, lon2<span style=\"font-weight: bold\">)</span>:                                            <span style=\"color: #7f7f7f; text-decoration-color: #7f7f7f\">             </span>\n",
       "<span style=\"color: #7fbfbf; text-decoration-color: #7fbfbf\">           </span>             R = <span style=\"color: #008080; text-decoration-color: #008080; font-weight: bold\">6372.8</span>  # Earth radius in kilometers                                      <span style=\"color: #7f7f7f; text-decoration-color: #7f7f7f\">             </span>\n",
       "<span style=\"color: #7fbfbf; text-decoration-color: #7fbfbf\">           </span>                                                                                           <span style=\"color: #7f7f7f; text-decoration-color: #7f7f7f\">             </span>\n",
       "<span style=\"color: #7fbfbf; text-decoration-color: #7fbfbf\">           </span>             dLat = <span style=\"color: #800080; text-decoration-color: #800080; font-weight: bold\">radians</span><span style=\"font-weight: bold\">(</span>lat2 - lat1<span style=\"font-weight: bold\">)</span>                                                   <span style=\"color: #7f7f7f; text-decoration-color: #7f7f7f\">             </span>\n",
       "<span style=\"color: #7fbfbf; text-decoration-color: #7fbfbf\">           </span>             dLon = <span style=\"color: #800080; text-decoration-color: #800080; font-weight: bold\">radians</span><span style=\"font-weight: bold\">(</span>lon2 - lon1<span style=\"font-weight: bold\">)</span>                                                   <span style=\"color: #7f7f7f; text-decoration-color: #7f7f7f\">             </span>\n",
       "<span style=\"color: #7fbfbf; text-decoration-color: #7fbfbf\">           </span>             lat1 = <span style=\"color: #800080; text-decoration-color: #800080; font-weight: bold\">radians</span><span style=\"font-weight: bold\">(</span>lat1<span style=\"font-weight: bold\">)</span>                                                          <span style=\"color: #7f7f7f; text-decoration-color: #7f7f7f\">             </span>\n",
       "<span style=\"color: #7fbfbf; text-decoration-color: #7fbfbf\">           </span>             lat2 = <span style=\"color: #800080; text-decoration-color: #800080; font-weight: bold\">radians</span><span style=\"font-weight: bold\">(</span>lat2<span style=\"font-weight: bold\">)</span>                                                          <span style=\"color: #7f7f7f; text-decoration-color: #7f7f7f\">             </span>\n",
       "<span style=\"color: #7fbfbf; text-decoration-color: #7fbfbf\">           </span>                                                                                           <span style=\"color: #7f7f7f; text-decoration-color: #7f7f7f\">             </span>\n",
       "<span style=\"color: #7fbfbf; text-decoration-color: #7fbfbf\">           </span>             a = <span style=\"color: #800080; text-decoration-color: #800080; font-weight: bold\">sin</span><span style=\"font-weight: bold\">(</span>dLat <span style=\"color: #800080; text-decoration-color: #800080\">/</span> <span style=\"color: #008080; text-decoration-color: #008080; font-weight: bold\">2</span><span style=\"font-weight: bold\">)</span>**<span style=\"color: #008080; text-decoration-color: #008080; font-weight: bold\">2</span> + <span style=\"color: #800080; text-decoration-color: #800080; font-weight: bold\">cos</span><span style=\"font-weight: bold\">(</span>lat1<span style=\"font-weight: bold\">)</span> * <span style=\"color: #800080; text-decoration-color: #800080; font-weight: bold\">cos</span><span style=\"font-weight: bold\">(</span>lat2<span style=\"font-weight: bold\">)</span> * <span style=\"color: #800080; text-decoration-color: #800080; font-weight: bold\">sin</span><span style=\"font-weight: bold\">(</span>dLon <span style=\"color: #800080; text-decoration-color: #800080\">/</span> <span style=\"color: #008080; text-decoration-color: #008080; font-weight: bold\">2</span><span style=\"font-weight: bold\">)</span>**<span style=\"color: #008080; text-decoration-color: #008080; font-weight: bold\">2</span>               <span style=\"color: #7f7f7f; text-decoration-color: #7f7f7f\">             </span>\n",
       "<span style=\"color: #7fbfbf; text-decoration-color: #7fbfbf\">           </span>             c = <span style=\"color: #008080; text-decoration-color: #008080; font-weight: bold\">2</span> * <span style=\"color: #800080; text-decoration-color: #800080; font-weight: bold\">asin</span><span style=\"font-weight: bold\">(</span><span style=\"color: #800080; text-decoration-color: #800080; font-weight: bold\">sqrt</span><span style=\"font-weight: bold\">(</span>a<span style=\"font-weight: bold\">))</span>                                                         <span style=\"color: #7f7f7f; text-decoration-color: #7f7f7f\">             </span>\n",
       "<span style=\"color: #7fbfbf; text-decoration-color: #7fbfbf\">           </span>                                                                                           <span style=\"color: #7f7f7f; text-decoration-color: #7f7f7f\">             </span>\n",
       "<span style=\"color: #7fbfbf; text-decoration-color: #7fbfbf\">           </span>             return R * c                                                                  <span style=\"color: #7f7f7f; text-decoration-color: #7f7f7f\">             </span>\n",
       "<span style=\"color: #7fbfbf; text-decoration-color: #7fbfbf\">           </span>                                                                                           <span style=\"color: #7f7f7f; text-decoration-color: #7f7f7f\">             </span>\n",
       "<span style=\"color: #7fbfbf; text-decoration-color: #7fbfbf\">           </span>         # we can use the following function to calculate the distance between two cities  <span style=\"color: #7f7f7f; text-decoration-color: #7f7f7f\">             </span>\n",
       "<span style=\"color: #7fbfbf; text-decoration-color: #7fbfbf\">           </span>         def <span style=\"color: #800080; text-decoration-color: #800080; font-weight: bold\">distance</span><span style=\"font-weight: bold\">(</span>city1, city2<span style=\"font-weight: bold\">)</span>:                                                       <span style=\"color: #7f7f7f; text-decoration-color: #7f7f7f\">             </span>\n",
       "<span style=\"color: #7fbfbf; text-decoration-color: #7fbfbf\">           </span>             lat1, lon1 = city1<span style=\"font-weight: bold\">[</span><span style=\"color: #008000; text-decoration-color: #008000\">'LatD'</span><span style=\"font-weight: bold\">]</span> + city1<span style=\"font-weight: bold\">[</span><span style=\"color: #008000; text-decoration-color: #008000\">'LatM'</span><span style=\"font-weight: bold\">]</span> <span style=\"color: #800080; text-decoration-color: #800080\">/</span> <span style=\"color: #008080; text-decoration-color: #008080; font-weight: bold\">60</span> + city1<span style=\"font-weight: bold\">[</span><span style=\"color: #008000; text-decoration-color: #008000\">'LatS'</span><span style=\"font-weight: bold\">]</span> <span style=\"color: #800080; text-decoration-color: #800080\">/</span> <span style=\"color: #008080; text-decoration-color: #008080; font-weight: bold\">3600</span>,       <span style=\"color: #7f7f7f; text-decoration-color: #7f7f7f\">             </span>\n",
       "<span style=\"color: #7fbfbf; text-decoration-color: #7fbfbf\">           </span>         city1<span style=\"font-weight: bold\">[</span><span style=\"color: #008000; text-decoration-color: #008000\">'LonD'</span><span style=\"font-weight: bold\">]</span> + city1<span style=\"font-weight: bold\">[</span><span style=\"color: #008000; text-decoration-color: #008000\">'LonM'</span><span style=\"font-weight: bold\">]</span> <span style=\"color: #800080; text-decoration-color: #800080\">/</span> <span style=\"color: #008080; text-decoration-color: #008080; font-weight: bold\">60</span> + city1<span style=\"font-weight: bold\">[</span><span style=\"color: #008000; text-decoration-color: #008000\">'LonS'</span><span style=\"font-weight: bold\">]</span> <span style=\"color: #800080; text-decoration-color: #800080\">/</span> <span style=\"color: #008080; text-decoration-color: #008080; font-weight: bold\">3600</span>                         <span style=\"color: #7f7f7f; text-decoration-color: #7f7f7f\">             </span>\n",
       "<span style=\"color: #7fbfbf; text-decoration-color: #7fbfbf\">           </span>             lat2, lon2 = city2<span style=\"font-weight: bold\">[</span><span style=\"color: #008000; text-decoration-color: #008000\">'LatD'</span><span style=\"font-weight: bold\">]</span> + city2<span style=\"font-weight: bold\">[</span><span style=\"color: #008000; text-decoration-color: #008000\">'LatM'</span><span style=\"font-weight: bold\">]</span> <span style=\"color: #800080; text-decoration-color: #800080\">/</span> <span style=\"color: #008080; text-decoration-color: #008080; font-weight: bold\">60</span> + city2<span style=\"font-weight: bold\">[</span><span style=\"color: #008000; text-decoration-color: #008000\">'LatS'</span><span style=\"font-weight: bold\">]</span> <span style=\"color: #800080; text-decoration-color: #800080\">/</span> <span style=\"color: #008080; text-decoration-color: #008080; font-weight: bold\">3600</span>,       <span style=\"color: #7f7f7f; text-decoration-color: #7f7f7f\">             </span>\n",
       "<span style=\"color: #7fbfbf; text-decoration-color: #7fbfbf\">           </span>         city2<span style=\"font-weight: bold\">[</span><span style=\"color: #008000; text-decoration-color: #008000\">'LonD'</span><span style=\"font-weight: bold\">]</span> + city2<span style=\"font-weight: bold\">[</span><span style=\"color: #008000; text-decoration-color: #008000\">'LonM'</span><span style=\"font-weight: bold\">]</span> <span style=\"color: #800080; text-decoration-color: #800080\">/</span> <span style=\"color: #008080; text-decoration-color: #008080; font-weight: bold\">60</span> + city2<span style=\"font-weight: bold\">[</span><span style=\"color: #008000; text-decoration-color: #008000\">'LonS'</span><span style=\"font-weight: bold\">]</span> <span style=\"color: #800080; text-decoration-color: #800080\">/</span> <span style=\"color: #008080; text-decoration-color: #008080; font-weight: bold\">3600</span>                         <span style=\"color: #7f7f7f; text-decoration-color: #7f7f7f\">             </span>\n",
       "<span style=\"color: #7fbfbf; text-decoration-color: #7fbfbf\">           </span>             return <span style=\"color: #800080; text-decoration-color: #800080; font-weight: bold\">haversine</span><span style=\"font-weight: bold\">(</span>lat1, lon1, lat2, lon2<span style=\"font-weight: bold\">)</span>                                      <span style=\"color: #7f7f7f; text-decoration-color: #7f7f7f\">             </span>\n",
       "<span style=\"color: #7fbfbf; text-decoration-color: #7fbfbf\">           </span>                                                                                           <span style=\"color: #7f7f7f; text-decoration-color: #7f7f7f\">             </span>\n",
       "<span style=\"color: #7fbfbf; text-decoration-color: #7fbfbf\">           </span>         # we can use the following function to find the two most distant cities in the    <span style=\"color: #7f7f7f; text-decoration-color: #7f7f7f\">             </span>\n",
       "<span style=\"color: #7fbfbf; text-decoration-color: #7fbfbf\">           </span>         dataframe                                                                         <span style=\"color: #7f7f7f; text-decoration-color: #7f7f7f\">             </span>\n",
       "<span style=\"color: #7fbfbf; text-decoration-color: #7fbfbf\">           </span>         def <span style=\"color: #800080; text-decoration-color: #800080; font-weight: bold\">find_most_distant_cities</span><span style=\"font-weight: bold\">(</span>df<span style=\"font-weight: bold\">)</span>:                                                 <span style=\"color: #7f7f7f; text-decoration-color: #7f7f7f\">             </span>\n",
       "<span style=\"color: #7fbfbf; text-decoration-color: #7fbfbf\">           </span>             max_distance = <span style=\"color: #008080; text-decoration-color: #008080; font-weight: bold\">0</span>                                                              <span style=\"color: #7f7f7f; text-decoration-color: #7f7f7f\">             </span>\n",
       "<span style=\"color: #7fbfbf; text-decoration-color: #7fbfbf\">           </span>             city1 = <span style=\"color: #800080; text-decoration-color: #800080; font-style: italic\">None</span>                                                                  <span style=\"color: #7f7f7f; text-decoration-color: #7f7f7f\">             </span>\n",
       "<span style=\"color: #7fbfbf; text-decoration-color: #7fbfbf\">           </span>             city2 = <span style=\"color: #800080; text-decoration-color: #800080; font-style: italic\">None</span>                                                                  <span style=\"color: #7f7f7f; text-decoration-color: #7f7f7f\">             </span>\n",
       "<span style=\"color: #7fbfbf; text-decoration-color: #7fbfbf\">           </span>             for i in <span style=\"color: #800080; text-decoration-color: #800080; font-weight: bold\">range</span><span style=\"font-weight: bold\">(</span><span style=\"color: #800080; text-decoration-color: #800080; font-weight: bold\">len</span><span style=\"font-weight: bold\">(</span>df<span style=\"font-weight: bold\">))</span>:                                                      <span style=\"color: #7f7f7f; text-decoration-color: #7f7f7f\">             </span>\n",
       "<span style=\"color: #7fbfbf; text-decoration-color: #7fbfbf\">           </span>                 for j in <span style=\"color: #800080; text-decoration-color: #800080; font-weight: bold\">range</span><span style=\"font-weight: bold\">(</span>i + <span style=\"color: #008080; text-decoration-color: #008080; font-weight: bold\">1</span>, <span style=\"color: #800080; text-decoration-color: #800080; font-weight: bold\">len</span><span style=\"font-weight: bold\">(</span>df<span style=\"font-weight: bold\">))</span>:                                           <span style=\"color: #7f7f7f; text-decoration-color: #7f7f7f\">             </span>\n",
       "<span style=\"color: #7fbfbf; text-decoration-color: #7fbfbf\">           </span>                     d = <span style=\"color: #800080; text-decoration-color: #800080; font-weight: bold\">distance</span><span style=\"font-weight: bold\">(</span>df.iloc<span style=\"font-weight: bold\">[</span>i<span style=\"font-weight: bold\">]</span>, df.iloc<span style=\"font-weight: bold\">[</span>j<span style=\"font-weight: bold\">])</span>                                  <span style=\"color: #7f7f7f; text-decoration-color: #7f7f7f\">             </span>\n",
       "<span style=\"color: #7fbfbf; text-decoration-color: #7fbfbf\">           </span>                     if d &gt; max_distance:                                                  <span style=\"color: #7f7f7f; text-decoration-color: #7f7f7f\">             </span>\n",
       "<span style=\"color: #7fbfbf; text-decoration-color: #7fbfbf\">           </span>                         max_distance = d                                                  <span style=\"color: #7f7f7f; text-decoration-color: #7f7f7f\">             </span>\n",
       "<span style=\"color: #7fbfbf; text-decoration-color: #7fbfbf\">           </span>                         city1 = df.iloc<span style=\"font-weight: bold\">[</span>i<span style=\"font-weight: bold\">][</span><span style=\"color: #008000; text-decoration-color: #008000\">'City'</span><span style=\"font-weight: bold\">]</span>                                        <span style=\"color: #7f7f7f; text-decoration-color: #7f7f7f\">             </span>\n",
       "<span style=\"color: #7fbfbf; text-decoration-color: #7fbfbf\">           </span>                         city2 = df.iloc<span style=\"font-weight: bold\">[</span>j<span style=\"font-weight: bold\">][</span><span style=\"color: #008000; text-decoration-color: #008000\">'City'</span><span style=\"font-weight: bold\">]</span>                                        <span style=\"color: #7f7f7f; text-decoration-color: #7f7f7f\">             </span>\n",
       "<span style=\"color: #7fbfbf; text-decoration-color: #7fbfbf\">           </span>             return city1, city2                                                           <span style=\"color: #7f7f7f; text-decoration-color: #7f7f7f\">             </span>\n",
       "<span style=\"color: #7fbfbf; text-decoration-color: #7fbfbf\">           </span>                                                                                           <span style=\"color: #7f7f7f; text-decoration-color: #7f7f7f\">             </span>\n",
       "<span style=\"color: #7fbfbf; text-decoration-color: #7fbfbf\">           </span>         # we can now call the function to get the two most distant cities                 <span style=\"color: #7f7f7f; text-decoration-color: #7f7f7f\">             </span>\n",
       "<span style=\"color: #7fbfbf; text-decoration-color: #7fbfbf\">           </span>         city1, city2 = <span style=\"color: #800080; text-decoration-color: #800080; font-weight: bold\">find_most_distant_cities</span><span style=\"font-weight: bold\">(</span>df<span style=\"font-weight: bold\">)</span>                                       <span style=\"color: #7f7f7f; text-decoration-color: #7f7f7f\">             </span>\n",
       "<span style=\"color: #7fbfbf; text-decoration-color: #7fbfbf\">           </span>         <span style=\"color: #800080; text-decoration-color: #800080; font-weight: bold\">finish_task_ok</span><span style=\"font-weight: bold\">((</span>city1, city2<span style=\"font-weight: bold\">))</span>;                                                   <span style=\"color: #7f7f7f; text-decoration-color: #7f7f7f\">             </span>\n",
       "<span style=\"color: #7fbfbf; text-decoration-color: #7fbfbf\">           </span>         ```                                                                               <span style=\"color: #7f7f7f; text-decoration-color: #7f7f7f\">             </span>\n",
       "<span style=\"color: #7fbfbf; text-decoration-color: #7fbfbf\">           </span>                                                                                           <span style=\"color: #7f7f7f; text-decoration-color: #7f7f7f\">             </span>\n",
       "</pre>\n"
      ],
      "text/plain": [
       "\u001b[2;36m          \u001b[0m\u001b[2;36m \u001b[0m\u001b[34mINFO    \u001b[0m ===\u001b[33massistant\u001b[0m===                                                                   \u001b]8;id=427683;file:///Users/stanb/src/aiknows/aiknows/prompt/prompt.py\u001b\\\u001b[2mprompt.py\u001b[0m\u001b]8;;\u001b\\\u001b[2m:\u001b[0m\u001b]8;id=223001;file:///Users/stanb/src/aiknows/aiknows/prompt/prompt.py#203\u001b\\\u001b[2m203\u001b[0m\u001b]8;;\u001b\\\n",
       "\u001b[2;36m           \u001b[0m                                                                                           \u001b[2m             \u001b[0m\n",
       "\u001b[2;36m           \u001b[0m         ```python                                                                         \u001b[2m             \u001b[0m\n",
       "\u001b[2;36m           \u001b[0m         # we can calculate the distance between two cities using their latitude and       \u001b[2m             \u001b[0m\n",
       "\u001b[2;36m           \u001b[0m         longitude                                                                         \u001b[2m             \u001b[0m\n",
       "\u001b[2;36m           \u001b[0m         # we can use the haversine formula to calculate the distance between two points   \u001b[2m             \u001b[0m\n",
       "\u001b[2;36m           \u001b[0m         on a sphere                                                                       \u001b[2m             \u001b[0m\n",
       "\u001b[2;36m           \u001b[0m         # we can use the following function to calculate the distance between two points  \u001b[2m             \u001b[0m\n",
       "\u001b[2;36m           \u001b[0m         on earth                                                                          \u001b[2m             \u001b[0m\n",
       "\u001b[2;36m           \u001b[0m         from math import radians, cos, sin, asin, sqrt                                    \u001b[2m             \u001b[0m\n",
       "\u001b[2;36m           \u001b[0m                                                                                           \u001b[2m             \u001b[0m\n",
       "\u001b[2;36m           \u001b[0m         def \u001b[1;35mhaversine\u001b[0m\u001b[1m(\u001b[0mlat1, lon1, lat2, lon2\u001b[1m)\u001b[0m:                                            \u001b[2m             \u001b[0m\n",
       "\u001b[2;36m           \u001b[0m             R = \u001b[1;36m6372.8\u001b[0m  # Earth radius in kilometers                                      \u001b[2m             \u001b[0m\n",
       "\u001b[2;36m           \u001b[0m                                                                                           \u001b[2m             \u001b[0m\n",
       "\u001b[2;36m           \u001b[0m             dLat = \u001b[1;35mradians\u001b[0m\u001b[1m(\u001b[0mlat2 - lat1\u001b[1m)\u001b[0m                                                   \u001b[2m             \u001b[0m\n",
       "\u001b[2;36m           \u001b[0m             dLon = \u001b[1;35mradians\u001b[0m\u001b[1m(\u001b[0mlon2 - lon1\u001b[1m)\u001b[0m                                                   \u001b[2m             \u001b[0m\n",
       "\u001b[2;36m           \u001b[0m             lat1 = \u001b[1;35mradians\u001b[0m\u001b[1m(\u001b[0mlat1\u001b[1m)\u001b[0m                                                          \u001b[2m             \u001b[0m\n",
       "\u001b[2;36m           \u001b[0m             lat2 = \u001b[1;35mradians\u001b[0m\u001b[1m(\u001b[0mlat2\u001b[1m)\u001b[0m                                                          \u001b[2m             \u001b[0m\n",
       "\u001b[2;36m           \u001b[0m                                                                                           \u001b[2m             \u001b[0m\n",
       "\u001b[2;36m           \u001b[0m             a = \u001b[1;35msin\u001b[0m\u001b[1m(\u001b[0mdLat \u001b[35m/\u001b[0m \u001b[1;36m2\u001b[0m\u001b[1m)\u001b[0m**\u001b[1;36m2\u001b[0m + \u001b[1;35mcos\u001b[0m\u001b[1m(\u001b[0mlat1\u001b[1m)\u001b[0m * \u001b[1;35mcos\u001b[0m\u001b[1m(\u001b[0mlat2\u001b[1m)\u001b[0m * \u001b[1;35msin\u001b[0m\u001b[1m(\u001b[0mdLon \u001b[35m/\u001b[0m \u001b[1;36m2\u001b[0m\u001b[1m)\u001b[0m**\u001b[1;36m2\u001b[0m               \u001b[2m             \u001b[0m\n",
       "\u001b[2;36m           \u001b[0m             c = \u001b[1;36m2\u001b[0m * \u001b[1;35masin\u001b[0m\u001b[1m(\u001b[0m\u001b[1;35msqrt\u001b[0m\u001b[1m(\u001b[0ma\u001b[1m)\u001b[0m\u001b[1m)\u001b[0m                                                         \u001b[2m             \u001b[0m\n",
       "\u001b[2;36m           \u001b[0m                                                                                           \u001b[2m             \u001b[0m\n",
       "\u001b[2;36m           \u001b[0m             return R * c                                                                  \u001b[2m             \u001b[0m\n",
       "\u001b[2;36m           \u001b[0m                                                                                           \u001b[2m             \u001b[0m\n",
       "\u001b[2;36m           \u001b[0m         # we can use the following function to calculate the distance between two cities  \u001b[2m             \u001b[0m\n",
       "\u001b[2;36m           \u001b[0m         def \u001b[1;35mdistance\u001b[0m\u001b[1m(\u001b[0mcity1, city2\u001b[1m)\u001b[0m:                                                       \u001b[2m             \u001b[0m\n",
       "\u001b[2;36m           \u001b[0m             lat1, lon1 = city1\u001b[1m[\u001b[0m\u001b[32m'LatD'\u001b[0m\u001b[1m]\u001b[0m + city1\u001b[1m[\u001b[0m\u001b[32m'LatM'\u001b[0m\u001b[1m]\u001b[0m \u001b[35m/\u001b[0m \u001b[1;36m60\u001b[0m + city1\u001b[1m[\u001b[0m\u001b[32m'LatS'\u001b[0m\u001b[1m]\u001b[0m \u001b[35m/\u001b[0m \u001b[1;36m3600\u001b[0m,       \u001b[2m             \u001b[0m\n",
       "\u001b[2;36m           \u001b[0m         city1\u001b[1m[\u001b[0m\u001b[32m'LonD'\u001b[0m\u001b[1m]\u001b[0m + city1\u001b[1m[\u001b[0m\u001b[32m'LonM'\u001b[0m\u001b[1m]\u001b[0m \u001b[35m/\u001b[0m \u001b[1;36m60\u001b[0m + city1\u001b[1m[\u001b[0m\u001b[32m'LonS'\u001b[0m\u001b[1m]\u001b[0m \u001b[35m/\u001b[0m \u001b[1;36m3600\u001b[0m                         \u001b[2m             \u001b[0m\n",
       "\u001b[2;36m           \u001b[0m             lat2, lon2 = city2\u001b[1m[\u001b[0m\u001b[32m'LatD'\u001b[0m\u001b[1m]\u001b[0m + city2\u001b[1m[\u001b[0m\u001b[32m'LatM'\u001b[0m\u001b[1m]\u001b[0m \u001b[35m/\u001b[0m \u001b[1;36m60\u001b[0m + city2\u001b[1m[\u001b[0m\u001b[32m'LatS'\u001b[0m\u001b[1m]\u001b[0m \u001b[35m/\u001b[0m \u001b[1;36m3600\u001b[0m,       \u001b[2m             \u001b[0m\n",
       "\u001b[2;36m           \u001b[0m         city2\u001b[1m[\u001b[0m\u001b[32m'LonD'\u001b[0m\u001b[1m]\u001b[0m + city2\u001b[1m[\u001b[0m\u001b[32m'LonM'\u001b[0m\u001b[1m]\u001b[0m \u001b[35m/\u001b[0m \u001b[1;36m60\u001b[0m + city2\u001b[1m[\u001b[0m\u001b[32m'LonS'\u001b[0m\u001b[1m]\u001b[0m \u001b[35m/\u001b[0m \u001b[1;36m3600\u001b[0m                         \u001b[2m             \u001b[0m\n",
       "\u001b[2;36m           \u001b[0m             return \u001b[1;35mhaversine\u001b[0m\u001b[1m(\u001b[0mlat1, lon1, lat2, lon2\u001b[1m)\u001b[0m                                      \u001b[2m             \u001b[0m\n",
       "\u001b[2;36m           \u001b[0m                                                                                           \u001b[2m             \u001b[0m\n",
       "\u001b[2;36m           \u001b[0m         # we can use the following function to find the two most distant cities in the    \u001b[2m             \u001b[0m\n",
       "\u001b[2;36m           \u001b[0m         dataframe                                                                         \u001b[2m             \u001b[0m\n",
       "\u001b[2;36m           \u001b[0m         def \u001b[1;35mfind_most_distant_cities\u001b[0m\u001b[1m(\u001b[0mdf\u001b[1m)\u001b[0m:                                                 \u001b[2m             \u001b[0m\n",
       "\u001b[2;36m           \u001b[0m             max_distance = \u001b[1;36m0\u001b[0m                                                              \u001b[2m             \u001b[0m\n",
       "\u001b[2;36m           \u001b[0m             city1 = \u001b[3;35mNone\u001b[0m                                                                  \u001b[2m             \u001b[0m\n",
       "\u001b[2;36m           \u001b[0m             city2 = \u001b[3;35mNone\u001b[0m                                                                  \u001b[2m             \u001b[0m\n",
       "\u001b[2;36m           \u001b[0m             for i in \u001b[1;35mrange\u001b[0m\u001b[1m(\u001b[0m\u001b[1;35mlen\u001b[0m\u001b[1m(\u001b[0mdf\u001b[1m)\u001b[0m\u001b[1m)\u001b[0m:                                                      \u001b[2m             \u001b[0m\n",
       "\u001b[2;36m           \u001b[0m                 for j in \u001b[1;35mrange\u001b[0m\u001b[1m(\u001b[0mi + \u001b[1;36m1\u001b[0m, \u001b[1;35mlen\u001b[0m\u001b[1m(\u001b[0mdf\u001b[1m)\u001b[0m\u001b[1m)\u001b[0m:                                           \u001b[2m             \u001b[0m\n",
       "\u001b[2;36m           \u001b[0m                     d = \u001b[1;35mdistance\u001b[0m\u001b[1m(\u001b[0mdf.iloc\u001b[1m[\u001b[0mi\u001b[1m]\u001b[0m, df.iloc\u001b[1m[\u001b[0mj\u001b[1m]\u001b[0m\u001b[1m)\u001b[0m                                  \u001b[2m             \u001b[0m\n",
       "\u001b[2;36m           \u001b[0m                     if d > max_distance:                                                  \u001b[2m             \u001b[0m\n",
       "\u001b[2;36m           \u001b[0m                         max_distance = d                                                  \u001b[2m             \u001b[0m\n",
       "\u001b[2;36m           \u001b[0m                         city1 = df.iloc\u001b[1m[\u001b[0mi\u001b[1m]\u001b[0m\u001b[1m[\u001b[0m\u001b[32m'City'\u001b[0m\u001b[1m]\u001b[0m                                        \u001b[2m             \u001b[0m\n",
       "\u001b[2;36m           \u001b[0m                         city2 = df.iloc\u001b[1m[\u001b[0mj\u001b[1m]\u001b[0m\u001b[1m[\u001b[0m\u001b[32m'City'\u001b[0m\u001b[1m]\u001b[0m                                        \u001b[2m             \u001b[0m\n",
       "\u001b[2;36m           \u001b[0m             return city1, city2                                                           \u001b[2m             \u001b[0m\n",
       "\u001b[2;36m           \u001b[0m                                                                                           \u001b[2m             \u001b[0m\n",
       "\u001b[2;36m           \u001b[0m         # we can now call the function to get the two most distant cities                 \u001b[2m             \u001b[0m\n",
       "\u001b[2;36m           \u001b[0m         city1, city2 = \u001b[1;35mfind_most_distant_cities\u001b[0m\u001b[1m(\u001b[0mdf\u001b[1m)\u001b[0m                                       \u001b[2m             \u001b[0m\n",
       "\u001b[2;36m           \u001b[0m         \u001b[1;35mfinish_task_ok\u001b[0m\u001b[1m(\u001b[0m\u001b[1m(\u001b[0mcity1, city2\u001b[1m)\u001b[0m\u001b[1m)\u001b[0m;                                                   \u001b[2m             \u001b[0m\n",
       "\u001b[2;36m           \u001b[0m         ```                                                                               \u001b[2m             \u001b[0m\n",
       "\u001b[2;36m           \u001b[0m                                                                                           \u001b[2m             \u001b[0m\n"
      ]
     },
     "metadata": {},
     "output_type": "display_data"
    },
    {
     "data": {
      "text/plain": [
       "('West Palm Beach', 'Vancouver')"
      ]
     },
     "execution_count": 7,
     "metadata": {},
     "output_type": "execute_result"
    }
   ],
   "source": [
    "ai('return the two most distant cities names in df\\ndon\\'t use geopy', df=df)"
   ]
  },
  {
   "cell_type": "code",
   "execution_count": 3,
   "metadata": {},
   "outputs": [
    {
     "data": {
      "text/html": [
       "<pre style=\"white-space:pre;overflow-x:auto;line-height:normal;font-family:Menlo,'DejaVu Sans Mono',consolas,'Courier New',monospace\"><span style=\"color: #7fbfbf; text-decoration-color: #7fbfbf\">[05/24/23 01:20:56] </span><span style=\"color: #000080; text-decoration-color: #000080\">INFO    </span> ===<span style=\"color: #808000; text-decoration-color: #808000\">user</span>===                                                               <a href=\"file:///Users/stanb/src/aiknows/aiknows/prompt/prompt.py\" target=\"_blank\"><span style=\"color: #7f7f7f; text-decoration-color: #7f7f7f\">prompt.py</span></a><span style=\"color: #7f7f7f; text-decoration-color: #7f7f7f\">:</span><a href=\"file:///Users/stanb/src/aiknows/aiknows/prompt/prompt.py#203\" target=\"_blank\"><span style=\"color: #7f7f7f; text-decoration-color: #7f7f7f\">203</span></a>\n",
       "<span style=\"color: #7fbfbf; text-decoration-color: #7fbfbf\">                    </span>                                                                                  <span style=\"color: #7f7f7f; text-decoration-color: #7f7f7f\">             </span>\n",
       "<span style=\"color: #7fbfbf; text-decoration-color: #7fbfbf\">                    </span>         task description: <span style=\"color: #008000; text-decoration-color: #008000\">\"\"</span>\"                                                    <span style=\"color: #7f7f7f; text-decoration-color: #7f7f7f\">             </span>\n",
       "<span style=\"color: #7fbfbf; text-decoration-color: #7fbfbf\">                    </span>         diagonal unit matrix constructor from numpy                              <span style=\"color: #7f7f7f; text-decoration-color: #7f7f7f\">             </span>\n",
       "<span style=\"color: #7fbfbf; text-decoration-color: #7fbfbf\">                    </span>         <span style=\"color: #008000; text-decoration-color: #008000\">\"\"</span>\"                                                                      <span style=\"color: #7f7f7f; text-decoration-color: #7f7f7f\">             </span>\n",
       "<span style=\"color: #7fbfbf; text-decoration-color: #7fbfbf\">                    </span>         environment: new python interpreter                                      <span style=\"color: #7f7f7f; text-decoration-color: #7f7f7f\">             </span>\n",
       "<span style=\"color: #7fbfbf; text-decoration-color: #7fbfbf\">                    </span>         global variables: <span style=\"font-weight: bold\">&lt;</span><span style=\"color: #ff00ff; text-decoration-color: #ff00ff; font-weight: bold\">empty</span><span style=\"font-weight: bold\">&gt;</span>                                                <span style=\"color: #7f7f7f; text-decoration-color: #7f7f7f\">             </span>\n",
       "<span style=\"color: #7fbfbf; text-decoration-color: #7fbfbf\">                    </span>                                                                                  <span style=\"color: #7f7f7f; text-decoration-color: #7f7f7f\">             </span>\n",
       "</pre>\n"
      ],
      "text/plain": [
       "\u001b[2;36m[05/24/23 01:20:56]\u001b[0m\u001b[2;36m \u001b[0m\u001b[34mINFO    \u001b[0m ===\u001b[33muser\u001b[0m===                                                               \u001b]8;id=480371;file:///Users/stanb/src/aiknows/aiknows/prompt/prompt.py\u001b\\\u001b[2mprompt.py\u001b[0m\u001b]8;;\u001b\\\u001b[2m:\u001b[0m\u001b]8;id=726273;file:///Users/stanb/src/aiknows/aiknows/prompt/prompt.py#203\u001b\\\u001b[2m203\u001b[0m\u001b]8;;\u001b\\\n",
       "\u001b[2;36m                    \u001b[0m                                                                                  \u001b[2m             \u001b[0m\n",
       "\u001b[2;36m                    \u001b[0m         task description: \u001b[32m\"\"\u001b[0m\"                                                    \u001b[2m             \u001b[0m\n",
       "\u001b[2;36m                    \u001b[0m         diagonal unit matrix constructor from numpy                              \u001b[2m             \u001b[0m\n",
       "\u001b[2;36m                    \u001b[0m         \u001b[32m\"\"\u001b[0m\"                                                                      \u001b[2m             \u001b[0m\n",
       "\u001b[2;36m                    \u001b[0m         environment: new python interpreter                                      \u001b[2m             \u001b[0m\n",
       "\u001b[2;36m                    \u001b[0m         global variables: \u001b[1m<\u001b[0m\u001b[1;95mempty\u001b[0m\u001b[1m>\u001b[0m                                                \u001b[2m             \u001b[0m\n",
       "\u001b[2;36m                    \u001b[0m                                                                                  \u001b[2m             \u001b[0m\n"
      ]
     },
     "metadata": {},
     "output_type": "display_data"
    },
    {
     "data": {
      "text/html": [
       "<pre style=\"white-space:pre;overflow-x:auto;line-height:normal;font-family:Menlo,'DejaVu Sans Mono',consolas,'Courier New',monospace\"><span style=\"color: #7fbfbf; text-decoration-color: #7fbfbf\">                    </span><span style=\"color: #000080; text-decoration-color: #000080\">INFO    </span> cache miss on emb                                                            <a href=\"file:///Users/stanb/src/aiknows/aiknows/llm.py\" target=\"_blank\"><span style=\"color: #7f7f7f; text-decoration-color: #7f7f7f\">llm.py</span></a><span style=\"color: #7f7f7f; text-decoration-color: #7f7f7f\">:</span><a href=\"file:///Users/stanb/src/aiknows/aiknows/llm.py#95\" target=\"_blank\"><span style=\"color: #7f7f7f; text-decoration-color: #7f7f7f\">95</span></a>\n",
       "</pre>\n"
      ],
      "text/plain": [
       "\u001b[2;36m                   \u001b[0m\u001b[2;36m \u001b[0m\u001b[34mINFO    \u001b[0m cache miss on emb                                                            \u001b]8;id=63268;file:///Users/stanb/src/aiknows/aiknows/llm.py\u001b\\\u001b[2mllm.py\u001b[0m\u001b]8;;\u001b\\\u001b[2m:\u001b[0m\u001b]8;id=219478;file:///Users/stanb/src/aiknows/aiknows/llm.py#95\u001b\\\u001b[2m95\u001b[0m\u001b]8;;\u001b\\\n"
      ]
     },
     "metadata": {},
     "output_type": "display_data"
    },
    {
     "data": {
      "text/html": [
       "<pre style=\"white-space:pre;overflow-x:auto;line-height:normal;font-family:Menlo,'DejaVu Sans Mono',consolas,'Courier New',monospace\"><span style=\"color: #7fbfbf; text-decoration-color: #7fbfbf\">[05/24/23 01:20:57] </span><span style=\"color: #000080; text-decoration-color: #000080\">INFO    </span> cache miss on generating code                                                <a href=\"file:///Users/stanb/src/aiknows/aiknows/llm.py\" target=\"_blank\"><span style=\"color: #7f7f7f; text-decoration-color: #7f7f7f\">llm.py</span></a><span style=\"color: #7f7f7f; text-decoration-color: #7f7f7f\">:</span><a href=\"file:///Users/stanb/src/aiknows/aiknows/llm.py#24\" target=\"_blank\"><span style=\"color: #7f7f7f; text-decoration-color: #7f7f7f\">24</span></a>\n",
       "</pre>\n"
      ],
      "text/plain": [
       "\u001b[2;36m[05/24/23 01:20:57]\u001b[0m\u001b[2;36m \u001b[0m\u001b[34mINFO    \u001b[0m cache miss on generating code                                                \u001b]8;id=636074;file:///Users/stanb/src/aiknows/aiknows/llm.py\u001b\\\u001b[2mllm.py\u001b[0m\u001b]8;;\u001b\\\u001b[2m:\u001b[0m\u001b]8;id=980099;file:///Users/stanb/src/aiknows/aiknows/llm.py#24\u001b\\\u001b[2m24\u001b[0m\u001b]8;;\u001b\\\n"
      ]
     },
     "metadata": {},
     "output_type": "display_data"
    },
    {
     "data": {
      "text/html": [
       "<pre style=\"white-space:pre;overflow-x:auto;line-height:normal;font-family:Menlo,'DejaVu Sans Mono',consolas,'Courier New',monospace\"><span style=\"color: #7fbfbf; text-decoration-color: #7fbfbf\">                    </span><span style=\"color: #000080; text-decoration-color: #000080\">INFO    </span> len prompt messages: <span style=\"color: #008080; text-decoration-color: #008080; font-weight: bold\">40</span>                                                      <a href=\"file:///Users/stanb/src/aiknows/aiknows/llm.py\" target=\"_blank\"><span style=\"color: #7f7f7f; text-decoration-color: #7f7f7f\">llm.py</span></a><span style=\"color: #7f7f7f; text-decoration-color: #7f7f7f\">:</span><a href=\"file:///Users/stanb/src/aiknows/aiknows/llm.py#28\" target=\"_blank\"><span style=\"color: #7f7f7f; text-decoration-color: #7f7f7f\">28</span></a>\n",
       "</pre>\n"
      ],
      "text/plain": [
       "\u001b[2;36m                   \u001b[0m\u001b[2;36m \u001b[0m\u001b[34mINFO    \u001b[0m len prompt messages: \u001b[1;36m40\u001b[0m                                                      \u001b]8;id=5465;file:///Users/stanb/src/aiknows/aiknows/llm.py\u001b\\\u001b[2mllm.py\u001b[0m\u001b]8;;\u001b\\\u001b[2m:\u001b[0m\u001b]8;id=475387;file:///Users/stanb/src/aiknows/aiknows/llm.py#28\u001b\\\u001b[2m28\u001b[0m\u001b]8;;\u001b\\\n"
      ]
     },
     "metadata": {},
     "output_type": "display_data"
    },
    {
     "data": {
      "text/html": [
       "<pre style=\"white-space:pre;overflow-x:auto;line-height:normal;font-family:Menlo,'DejaVu Sans Mono',consolas,'Courier New',monospace\"><span style=\"color: #7fbfbf; text-decoration-color: #7fbfbf\">[05/24/23 01:21:27] </span><span style=\"color: #000080; text-decoration-color: #000080\">INFO    </span> <span style=\"color: #808000; text-decoration-color: #808000\">error_code</span>=<span style=\"color: #800080; text-decoration-color: #800080; font-style: italic\">None</span> <span style=\"color: #808000; text-decoration-color: #808000\">error_message</span>=<span style=\"color: #008000; text-decoration-color: #008000\">'That model is currently overloaded with </span>     <a href=\"file:///Users/stanb/.miniconda3/envs/aiknows/lib/python3.8/site-packages/openai/util.py\" target=\"_blank\"><span style=\"color: #7f7f7f; text-decoration-color: #7f7f7f\">util.py</span></a><span style=\"color: #7f7f7f; text-decoration-color: #7f7f7f\">:</span><a href=\"file:///Users/stanb/.miniconda3/envs/aiknows/lib/python3.8/site-packages/openai/util.py#67\" target=\"_blank\"><span style=\"color: #7f7f7f; text-decoration-color: #7f7f7f\">67</span></a>\n",
       "<span style=\"color: #7fbfbf; text-decoration-color: #7fbfbf\">                    </span>         <span style=\"color: #008000; text-decoration-color: #008000\">other requests. You can retry your request, or contact us through our help </span> <span style=\"color: #7f7f7f; text-decoration-color: #7f7f7f\">          </span>\n",
       "<span style=\"color: #7fbfbf; text-decoration-color: #7fbfbf\">                    </span>         <span style=\"color: #008000; text-decoration-color: #008000\">center at help.openai.com if the error persists. (Please include the </span>       <span style=\"color: #7f7f7f; text-decoration-color: #7f7f7f\">          </span>\n",
       "<span style=\"color: #7fbfbf; text-decoration-color: #7fbfbf\">                    </span>         <span style=\"color: #008000; text-decoration-color: #008000\">request ID 2484294ddf605acc06da113013e4932c in your message.)'</span>              <span style=\"color: #7f7f7f; text-decoration-color: #7f7f7f\">          </span>\n",
       "<span style=\"color: #7fbfbf; text-decoration-color: #7fbfbf\">                    </span>         <span style=\"color: #808000; text-decoration-color: #808000\">error_param</span>=<span style=\"color: #800080; text-decoration-color: #800080; font-style: italic\">None</span> <span style=\"color: #808000; text-decoration-color: #808000\">error_type</span>=<span style=\"color: #800080; text-decoration-color: #800080\">server_error</span> <span style=\"color: #808000; text-decoration-color: #808000\">message</span>=<span style=\"color: #008000; text-decoration-color: #008000\">'OpenAI API error </span>         <span style=\"color: #7f7f7f; text-decoration-color: #7f7f7f\">          </span>\n",
       "<span style=\"color: #7fbfbf; text-decoration-color: #7fbfbf\">                    </span>         <span style=\"color: #008000; text-decoration-color: #008000\">received'</span> <span style=\"color: #808000; text-decoration-color: #808000\">stream_error</span>=<span style=\"color: #ff0000; text-decoration-color: #ff0000; font-style: italic\">False</span>                                                <span style=\"color: #7f7f7f; text-decoration-color: #7f7f7f\">          </span>\n",
       "</pre>\n"
      ],
      "text/plain": [
       "\u001b[2;36m[05/24/23 01:21:27]\u001b[0m\u001b[2;36m \u001b[0m\u001b[34mINFO    \u001b[0m \u001b[33merror_code\u001b[0m=\u001b[3;35mNone\u001b[0m \u001b[33merror_message\u001b[0m=\u001b[32m'That model is currently overloaded with \u001b[0m     \u001b]8;id=229299;file:///Users/stanb/.miniconda3/envs/aiknows/lib/python3.8/site-packages/openai/util.py\u001b\\\u001b[2mutil.py\u001b[0m\u001b]8;;\u001b\\\u001b[2m:\u001b[0m\u001b]8;id=459556;file:///Users/stanb/.miniconda3/envs/aiknows/lib/python3.8/site-packages/openai/util.py#67\u001b\\\u001b[2m67\u001b[0m\u001b]8;;\u001b\\\n",
       "\u001b[2;36m                    \u001b[0m         \u001b[32mother requests. You can retry your request, or contact us through our help \u001b[0m \u001b[2m          \u001b[0m\n",
       "\u001b[2;36m                    \u001b[0m         \u001b[32mcenter at help.openai.com if the error persists. \u001b[0m\u001b[32m(\u001b[0m\u001b[32mPlease include the \u001b[0m       \u001b[2m          \u001b[0m\n",
       "\u001b[2;36m                    \u001b[0m         \u001b[32mrequest ID 2484294ddf605acc06da113013e4932c in your message.\u001b[0m\u001b[32m)\u001b[0m\u001b[32m'\u001b[0m              \u001b[2m          \u001b[0m\n",
       "\u001b[2;36m                    \u001b[0m         \u001b[33merror_param\u001b[0m=\u001b[3;35mNone\u001b[0m \u001b[33merror_type\u001b[0m=\u001b[35mserver_error\u001b[0m \u001b[33mmessage\u001b[0m=\u001b[32m'OpenAI API error \u001b[0m         \u001b[2m          \u001b[0m\n",
       "\u001b[2;36m                    \u001b[0m         \u001b[32mreceived'\u001b[0m \u001b[33mstream_error\u001b[0m=\u001b[3;91mFalse\u001b[0m                                                \u001b[2m          \u001b[0m\n"
      ]
     },
     "metadata": {},
     "output_type": "display_data"
    },
    {
     "data": {
      "text/html": [
       "<pre style=\"white-space:pre;overflow-x:auto;line-height:normal;font-family:Menlo,'DejaVu Sans Mono',consolas,'Courier New',monospace\"><span style=\"color: #7fbfbf; text-decoration-color: #7fbfbf\">                    </span><span style=\"color: #000080; text-decoration-color: #000080\">INFO    </span> cache miss on generating code                                                <a href=\"file:///Users/stanb/src/aiknows/aiknows/llm.py\" target=\"_blank\"><span style=\"color: #7f7f7f; text-decoration-color: #7f7f7f\">llm.py</span></a><span style=\"color: #7f7f7f; text-decoration-color: #7f7f7f\">:</span><a href=\"file:///Users/stanb/src/aiknows/aiknows/llm.py#24\" target=\"_blank\"><span style=\"color: #7f7f7f; text-decoration-color: #7f7f7f\">24</span></a>\n",
       "</pre>\n"
      ],
      "text/plain": [
       "\u001b[2;36m                   \u001b[0m\u001b[2;36m \u001b[0m\u001b[34mINFO    \u001b[0m cache miss on generating code                                                \u001b]8;id=825520;file:///Users/stanb/src/aiknows/aiknows/llm.py\u001b\\\u001b[2mllm.py\u001b[0m\u001b]8;;\u001b\\\u001b[2m:\u001b[0m\u001b]8;id=718862;file:///Users/stanb/src/aiknows/aiknows/llm.py#24\u001b\\\u001b[2m24\u001b[0m\u001b]8;;\u001b\\\n"
      ]
     },
     "metadata": {},
     "output_type": "display_data"
    },
    {
     "data": {
      "text/html": [
       "<pre style=\"white-space:pre;overflow-x:auto;line-height:normal;font-family:Menlo,'DejaVu Sans Mono',consolas,'Courier New',monospace\"><span style=\"color: #7fbfbf; text-decoration-color: #7fbfbf\">                    </span><span style=\"color: #000080; text-decoration-color: #000080\">INFO    </span> len prompt messages: <span style=\"color: #008080; text-decoration-color: #008080; font-weight: bold\">40</span>                                                      <a href=\"file:///Users/stanb/src/aiknows/aiknows/llm.py\" target=\"_blank\"><span style=\"color: #7f7f7f; text-decoration-color: #7f7f7f\">llm.py</span></a><span style=\"color: #7f7f7f; text-decoration-color: #7f7f7f\">:</span><a href=\"file:///Users/stanb/src/aiknows/aiknows/llm.py#28\" target=\"_blank\"><span style=\"color: #7f7f7f; text-decoration-color: #7f7f7f\">28</span></a>\n",
       "</pre>\n"
      ],
      "text/plain": [
       "\u001b[2;36m                   \u001b[0m\u001b[2;36m \u001b[0m\u001b[34mINFO    \u001b[0m len prompt messages: \u001b[1;36m40\u001b[0m                                                      \u001b]8;id=702805;file:///Users/stanb/src/aiknows/aiknows/llm.py\u001b\\\u001b[2mllm.py\u001b[0m\u001b]8;;\u001b\\\u001b[2m:\u001b[0m\u001b]8;id=52474;file:///Users/stanb/src/aiknows/aiknows/llm.py#28\u001b\\\u001b[2m28\u001b[0m\u001b]8;;\u001b\\\n"
      ]
     },
     "metadata": {},
     "output_type": "display_data"
    },
    {
     "data": {
      "text/html": [
       "<pre style=\"white-space:pre;overflow-x:auto;line-height:normal;font-family:Menlo,'DejaVu Sans Mono',consolas,'Courier New',monospace\"><span style=\"color: #7fbfbf; text-decoration-color: #7fbfbf\">[05/24/23 01:21:35] </span><span style=\"color: #000080; text-decoration-color: #000080\">INFO    </span> real prompt token length: <span style=\"color: #008080; text-decoration-color: #008080; font-weight: bold\">2024</span>                                               <a href=\"file:///Users/stanb/src/aiknows/aiknows/llm.py\" target=\"_blank\"><span style=\"color: #7f7f7f; text-decoration-color: #7f7f7f\">llm.py</span></a><span style=\"color: #7f7f7f; text-decoration-color: #7f7f7f\">:</span><a href=\"file:///Users/stanb/src/aiknows/aiknows/llm.py#36\" target=\"_blank\"><span style=\"color: #7f7f7f; text-decoration-color: #7f7f7f\">36</span></a>\n",
       "</pre>\n"
      ],
      "text/plain": [
       "\u001b[2;36m[05/24/23 01:21:35]\u001b[0m\u001b[2;36m \u001b[0m\u001b[34mINFO    \u001b[0m real prompt token length: \u001b[1;36m2024\u001b[0m                                               \u001b]8;id=426078;file:///Users/stanb/src/aiknows/aiknows/llm.py\u001b\\\u001b[2mllm.py\u001b[0m\u001b]8;;\u001b\\\u001b[2m:\u001b[0m\u001b]8;id=202426;file:///Users/stanb/src/aiknows/aiknows/llm.py#36\u001b\\\u001b[2m36\u001b[0m\u001b]8;;\u001b\\\n"
      ]
     },
     "metadata": {},
     "output_type": "display_data"
    },
    {
     "data": {
      "text/html": [
       "<pre style=\"white-space:pre;overflow-x:auto;line-height:normal;font-family:Menlo,'DejaVu Sans Mono',consolas,'Courier New',monospace\"><span style=\"color: #7fbfbf; text-decoration-color: #7fbfbf\">                    </span><span style=\"color: #000080; text-decoration-color: #000080\">INFO    </span> ===<span style=\"color: #808000; text-decoration-color: #808000\">assistant</span>===                                                          <a href=\"file:///Users/stanb/src/aiknows/aiknows/prompt/prompt.py\" target=\"_blank\"><span style=\"color: #7f7f7f; text-decoration-color: #7f7f7f\">prompt.py</span></a><span style=\"color: #7f7f7f; text-decoration-color: #7f7f7f\">:</span><a href=\"file:///Users/stanb/src/aiknows/aiknows/prompt/prompt.py#203\" target=\"_blank\"><span style=\"color: #7f7f7f; text-decoration-color: #7f7f7f\">203</span></a>\n",
       "<span style=\"color: #7fbfbf; text-decoration-color: #7fbfbf\">                    </span>                                                                                  <span style=\"color: #7f7f7f; text-decoration-color: #7f7f7f\">             </span>\n",
       "<span style=\"color: #7fbfbf; text-decoration-color: #7fbfbf\">                    </span>         ```python                                                                <span style=\"color: #7f7f7f; text-decoration-color: #7f7f7f\">             </span>\n",
       "<span style=\"color: #7fbfbf; text-decoration-color: #7fbfbf\">                    </span>         import numpy as np                                                       <span style=\"color: #7f7f7f; text-decoration-color: #7f7f7f\">             </span>\n",
       "<span style=\"color: #7fbfbf; text-decoration-color: #7fbfbf\">                    </span>                                                                                  <span style=\"color: #7f7f7f; text-decoration-color: #7f7f7f\">             </span>\n",
       "<span style=\"color: #7fbfbf; text-decoration-color: #7fbfbf\">                    </span>         # diagonal matrix is a matrix where all elements outside of the main     <span style=\"color: #7f7f7f; text-decoration-color: #7f7f7f\">             </span>\n",
       "<span style=\"color: #7fbfbf; text-decoration-color: #7fbfbf\">                    </span>         diagonal are zero                                                        <span style=\"color: #7f7f7f; text-decoration-color: #7f7f7f\">             </span>\n",
       "<span style=\"color: #7fbfbf; text-decoration-color: #7fbfbf\">                    </span>         # numpy has a function for creating such matrix                          <span style=\"color: #7f7f7f; text-decoration-color: #7f7f7f\">             </span>\n",
       "<span style=\"color: #7fbfbf; text-decoration-color: #7fbfbf\">                    </span>         def <span style=\"color: #800080; text-decoration-color: #800080; font-weight: bold\">diagonal_unit_matrix</span><span style=\"font-weight: bold\">(</span>n<span style=\"font-weight: bold\">)</span>:                                             <span style=\"color: #7f7f7f; text-decoration-color: #7f7f7f\">             </span>\n",
       "<span style=\"color: #7fbfbf; text-decoration-color: #7fbfbf\">                    </span>             return <span style=\"color: #800080; text-decoration-color: #800080; font-weight: bold\">np.eye</span><span style=\"font-weight: bold\">(</span>n<span style=\"font-weight: bold\">)</span>                                                     <span style=\"color: #7f7f7f; text-decoration-color: #7f7f7f\">             </span>\n",
       "<span style=\"color: #7fbfbf; text-decoration-color: #7fbfbf\">                    </span>                                                                                  <span style=\"color: #7f7f7f; text-decoration-color: #7f7f7f\">             </span>\n",
       "<span style=\"color: #7fbfbf; text-decoration-color: #7fbfbf\">                    </span>         <span style=\"color: #800080; text-decoration-color: #800080; font-weight: bold\">finish_task_ok</span><span style=\"font-weight: bold\">(</span>diagonal_unit_matrix<span style=\"font-weight: bold\">)</span>;                                    <span style=\"color: #7f7f7f; text-decoration-color: #7f7f7f\">             </span>\n",
       "<span style=\"color: #7fbfbf; text-decoration-color: #7fbfbf\">                    </span>         ```                                                                      <span style=\"color: #7f7f7f; text-decoration-color: #7f7f7f\">             </span>\n",
       "<span style=\"color: #7fbfbf; text-decoration-color: #7fbfbf\">                    </span>                                                                                  <span style=\"color: #7f7f7f; text-decoration-color: #7f7f7f\">             </span>\n",
       "</pre>\n"
      ],
      "text/plain": [
       "\u001b[2;36m                   \u001b[0m\u001b[2;36m \u001b[0m\u001b[34mINFO    \u001b[0m ===\u001b[33massistant\u001b[0m===                                                          \u001b]8;id=367728;file:///Users/stanb/src/aiknows/aiknows/prompt/prompt.py\u001b\\\u001b[2mprompt.py\u001b[0m\u001b]8;;\u001b\\\u001b[2m:\u001b[0m\u001b]8;id=105947;file:///Users/stanb/src/aiknows/aiknows/prompt/prompt.py#203\u001b\\\u001b[2m203\u001b[0m\u001b]8;;\u001b\\\n",
       "\u001b[2;36m                    \u001b[0m                                                                                  \u001b[2m             \u001b[0m\n",
       "\u001b[2;36m                    \u001b[0m         ```python                                                                \u001b[2m             \u001b[0m\n",
       "\u001b[2;36m                    \u001b[0m         import numpy as np                                                       \u001b[2m             \u001b[0m\n",
       "\u001b[2;36m                    \u001b[0m                                                                                  \u001b[2m             \u001b[0m\n",
       "\u001b[2;36m                    \u001b[0m         # diagonal matrix is a matrix where all elements outside of the main     \u001b[2m             \u001b[0m\n",
       "\u001b[2;36m                    \u001b[0m         diagonal are zero                                                        \u001b[2m             \u001b[0m\n",
       "\u001b[2;36m                    \u001b[0m         # numpy has a function for creating such matrix                          \u001b[2m             \u001b[0m\n",
       "\u001b[2;36m                    \u001b[0m         def \u001b[1;35mdiagonal_unit_matrix\u001b[0m\u001b[1m(\u001b[0mn\u001b[1m)\u001b[0m:                                             \u001b[2m             \u001b[0m\n",
       "\u001b[2;36m                    \u001b[0m             return \u001b[1;35mnp.eye\u001b[0m\u001b[1m(\u001b[0mn\u001b[1m)\u001b[0m                                                     \u001b[2m             \u001b[0m\n",
       "\u001b[2;36m                    \u001b[0m                                                                                  \u001b[2m             \u001b[0m\n",
       "\u001b[2;36m                    \u001b[0m         \u001b[1;35mfinish_task_ok\u001b[0m\u001b[1m(\u001b[0mdiagonal_unit_matrix\u001b[1m)\u001b[0m;                                    \u001b[2m             \u001b[0m\n",
       "\u001b[2;36m                    \u001b[0m         ```                                                                      \u001b[2m             \u001b[0m\n",
       "\u001b[2;36m                    \u001b[0m                                                                                  \u001b[2m             \u001b[0m\n"
      ]
     },
     "metadata": {},
     "output_type": "display_data"
    },
    {
     "data": {
      "text/plain": [
       "array([[1., 0., 0., 0., 0., 0., 0., 0., 0., 0.],\n",
       "       [0., 1., 0., 0., 0., 0., 0., 0., 0., 0.],\n",
       "       [0., 0., 1., 0., 0., 0., 0., 0., 0., 0.],\n",
       "       [0., 0., 0., 1., 0., 0., 0., 0., 0., 0.],\n",
       "       [0., 0., 0., 0., 1., 0., 0., 0., 0., 0.],\n",
       "       [0., 0., 0., 0., 0., 1., 0., 0., 0., 0.],\n",
       "       [0., 0., 0., 0., 0., 0., 1., 0., 0., 0.],\n",
       "       [0., 0., 0., 0., 0., 0., 0., 1., 0., 0.],\n",
       "       [0., 0., 0., 0., 0., 0., 0., 0., 1., 0.],\n",
       "       [0., 0., 0., 0., 0., 0., 0., 0., 0., 1.]])"
      ]
     },
     "execution_count": 3,
     "metadata": {},
     "output_type": "execute_result"
    }
   ],
   "source": [
    "ai('diagonal unit matrix constructor from numpy')(10)"
   ]
  },
  {
   "cell_type": "code",
   "execution_count": 43,
   "metadata": {},
   "outputs": [
    {
     "name": "stderr",
     "output_type": "stream",
     "text": [
      "INFO:aiknows.prompt.prompt:===user===\n",
      "\n",
      "task description: \"\"\"\n",
      "sum numbers in x\n",
      "\"\"\"\n",
      "environment: new python interpreter\n",
      "global variables: \n",
      "- x\n",
      "    - type: list\n",
      "\n",
      "INFO:aiknows.llm:cache miss on generating code\n",
      "INFO:aiknows.llm:len prompt messages: 36\n",
      "INFO:aiknows.llm:real prompt token length: 1920\n",
      "INFO:aiknows.prompt.prompt:===assistant===\n",
      "\n",
      "```python\n",
      "# global variable 'x' mentioned explicitly in the task\n",
      "# so, instead of creating a function, we just do the calculation\n",
      "result = sum(x)\n",
      "finish_task_ok(result);\n",
      "```\n",
      "\n",
      "INFO:aiknows.prompt.prompt:===user===\n",
      "\n",
      "task description: \"\"\"\n",
      "multiply all numbers in x\n",
      "\"\"\"\n",
      "environment: reused from previous task\n",
      "global variables: <empty>\n",
      "\n",
      "INFO:aiknows.llm:cache miss on generating code\n",
      "INFO:aiknows.llm:len prompt messages: 34\n",
      "INFO:aiknows.llm:real prompt token length: 1922\n",
      "INFO:aiknows.prompt.prompt:===assistant===\n",
      "\n",
      "```python\n",
      "# environment is reused so we can reference `x` from last task\n",
      "# use `_` to reference value of last expression or task result\n",
      "result = 1\n",
      "for number in x:\n",
      "    result *= number\n",
      "\n",
      "finish_task_ok(result);\n",
      "```\n",
      "\n"
     ]
    },
    {
     "data": {
      "text/plain": [
       "120"
      ]
     },
     "execution_count": 43,
     "metadata": {},
     "output_type": "execute_result"
    }
   ],
   "source": [
    " r, sess = ai('sum numbers in x', x=[1, 2, 3, 4, 5], save_session=True)\n",
    "assert r == 15\n",
    "r = sess.ai('multiply all numbers in x')\n",
    "r"
   ]
  },
  {
   "cell_type": "code",
   "execution_count": 4,
   "metadata": {},
   "outputs": [
    {
     "data": {
      "text/html": [
       "<pre style=\"white-space:pre;overflow-x:auto;line-height:normal;font-family:Menlo,'DejaVu Sans Mono',consolas,'Courier New',monospace\"><span style=\"color: #7fbfbf; text-decoration-color: #7fbfbf\">[05/24/23 01:21:48] </span><span style=\"color: #000080; text-decoration-color: #000080\">INFO    </span> ===<span style=\"color: #808000; text-decoration-color: #808000\">user</span>===                                                               <a href=\"file:///Users/stanb/src/aiknows/aiknows/prompt/prompt.py\" target=\"_blank\"><span style=\"color: #7f7f7f; text-decoration-color: #7f7f7f\">prompt.py</span></a><span style=\"color: #7f7f7f; text-decoration-color: #7f7f7f\">:</span><a href=\"file:///Users/stanb/src/aiknows/aiknows/prompt/prompt.py#203\" target=\"_blank\"><span style=\"color: #7f7f7f; text-decoration-color: #7f7f7f\">203</span></a>\n",
       "<span style=\"color: #7fbfbf; text-decoration-color: #7fbfbf\">                    </span>                                                                                  <span style=\"color: #7f7f7f; text-decoration-color: #7f7f7f\">             </span>\n",
       "<span style=\"color: #7fbfbf; text-decoration-color: #7fbfbf\">                    </span>         task description: <span style=\"color: #008000; text-decoration-color: #008000\">\"\"</span>\"                                                    <span style=\"color: #7f7f7f; text-decoration-color: #7f7f7f\">             </span>\n",
       "<span style=\"color: #7fbfbf; text-decoration-color: #7fbfbf\">                    </span>         a list of non primes in `list_x`                                         <span style=\"color: #7f7f7f; text-decoration-color: #7f7f7f\">             </span>\n",
       "<span style=\"color: #7fbfbf; text-decoration-color: #7fbfbf\">                    </span>         <span style=\"color: #008000; text-decoration-color: #008000\">\"\"</span>\"                                                                      <span style=\"color: #7f7f7f; text-decoration-color: #7f7f7f\">             </span>\n",
       "<span style=\"color: #7fbfbf; text-decoration-color: #7fbfbf\">                    </span>         environment: new python interpreter                                      <span style=\"color: #7f7f7f; text-decoration-color: #7f7f7f\">             </span>\n",
       "<span style=\"color: #7fbfbf; text-decoration-color: #7fbfbf\">                    </span>         global variables:                                                        <span style=\"color: #7f7f7f; text-decoration-color: #7f7f7f\">             </span>\n",
       "<span style=\"color: #7fbfbf; text-decoration-color: #7fbfbf\">                    </span>         - list_x                                                                 <span style=\"color: #7f7f7f; text-decoration-color: #7f7f7f\">             </span>\n",
       "<span style=\"color: #7fbfbf; text-decoration-color: #7fbfbf\">                    </span>             - type: list                                                         <span style=\"color: #7f7f7f; text-decoration-color: #7f7f7f\">             </span>\n",
       "<span style=\"color: #7fbfbf; text-decoration-color: #7fbfbf\">                    </span>                                                                                  <span style=\"color: #7f7f7f; text-decoration-color: #7f7f7f\">             </span>\n",
       "</pre>\n"
      ],
      "text/plain": [
       "\u001b[2;36m[05/24/23 01:21:48]\u001b[0m\u001b[2;36m \u001b[0m\u001b[34mINFO    \u001b[0m ===\u001b[33muser\u001b[0m===                                                               \u001b]8;id=60902;file:///Users/stanb/src/aiknows/aiknows/prompt/prompt.py\u001b\\\u001b[2mprompt.py\u001b[0m\u001b]8;;\u001b\\\u001b[2m:\u001b[0m\u001b]8;id=580387;file:///Users/stanb/src/aiknows/aiknows/prompt/prompt.py#203\u001b\\\u001b[2m203\u001b[0m\u001b]8;;\u001b\\\n",
       "\u001b[2;36m                    \u001b[0m                                                                                  \u001b[2m             \u001b[0m\n",
       "\u001b[2;36m                    \u001b[0m         task description: \u001b[32m\"\"\u001b[0m\"                                                    \u001b[2m             \u001b[0m\n",
       "\u001b[2;36m                    \u001b[0m         a list of non primes in `list_x`                                         \u001b[2m             \u001b[0m\n",
       "\u001b[2;36m                    \u001b[0m         \u001b[32m\"\"\u001b[0m\"                                                                      \u001b[2m             \u001b[0m\n",
       "\u001b[2;36m                    \u001b[0m         environment: new python interpreter                                      \u001b[2m             \u001b[0m\n",
       "\u001b[2;36m                    \u001b[0m         global variables:                                                        \u001b[2m             \u001b[0m\n",
       "\u001b[2;36m                    \u001b[0m         - list_x                                                                 \u001b[2m             \u001b[0m\n",
       "\u001b[2;36m                    \u001b[0m             - type: list                                                         \u001b[2m             \u001b[0m\n",
       "\u001b[2;36m                    \u001b[0m                                                                                  \u001b[2m             \u001b[0m\n"
      ]
     },
     "metadata": {},
     "output_type": "display_data"
    },
    {
     "data": {
      "text/html": [
       "<pre style=\"white-space:pre;overflow-x:auto;line-height:normal;font-family:Menlo,'DejaVu Sans Mono',consolas,'Courier New',monospace\"><span style=\"color: #7fbfbf; text-decoration-color: #7fbfbf\">                    </span><span style=\"color: #000080; text-decoration-color: #000080\">INFO    </span> cache miss on emb                                                            <a href=\"file:///Users/stanb/src/aiknows/aiknows/llm.py\" target=\"_blank\"><span style=\"color: #7f7f7f; text-decoration-color: #7f7f7f\">llm.py</span></a><span style=\"color: #7f7f7f; text-decoration-color: #7f7f7f\">:</span><a href=\"file:///Users/stanb/src/aiknows/aiknows/llm.py#95\" target=\"_blank\"><span style=\"color: #7f7f7f; text-decoration-color: #7f7f7f\">95</span></a>\n",
       "</pre>\n"
      ],
      "text/plain": [
       "\u001b[2;36m                   \u001b[0m\u001b[2;36m \u001b[0m\u001b[34mINFO    \u001b[0m cache miss on emb                                                            \u001b]8;id=483646;file:///Users/stanb/src/aiknows/aiknows/llm.py\u001b\\\u001b[2mllm.py\u001b[0m\u001b]8;;\u001b\\\u001b[2m:\u001b[0m\u001b]8;id=505648;file:///Users/stanb/src/aiknows/aiknows/llm.py#95\u001b\\\u001b[2m95\u001b[0m\u001b]8;;\u001b\\\n"
      ]
     },
     "metadata": {},
     "output_type": "display_data"
    },
    {
     "data": {
      "text/html": [
       "<pre style=\"white-space:pre;overflow-x:auto;line-height:normal;font-family:Menlo,'DejaVu Sans Mono',consolas,'Courier New',monospace\"><span style=\"color: #7fbfbf; text-decoration-color: #7fbfbf\">[05/24/23 01:21:49] </span><span style=\"color: #000080; text-decoration-color: #000080\">INFO    </span> cache miss on generating code                                                <a href=\"file:///Users/stanb/src/aiknows/aiknows/llm.py\" target=\"_blank\"><span style=\"color: #7f7f7f; text-decoration-color: #7f7f7f\">llm.py</span></a><span style=\"color: #7f7f7f; text-decoration-color: #7f7f7f\">:</span><a href=\"file:///Users/stanb/src/aiknows/aiknows/llm.py#24\" target=\"_blank\"><span style=\"color: #7f7f7f; text-decoration-color: #7f7f7f\">24</span></a>\n",
       "</pre>\n"
      ],
      "text/plain": [
       "\u001b[2;36m[05/24/23 01:21:49]\u001b[0m\u001b[2;36m \u001b[0m\u001b[34mINFO    \u001b[0m cache miss on generating code                                                \u001b]8;id=663898;file:///Users/stanb/src/aiknows/aiknows/llm.py\u001b\\\u001b[2mllm.py\u001b[0m\u001b]8;;\u001b\\\u001b[2m:\u001b[0m\u001b]8;id=630905;file:///Users/stanb/src/aiknows/aiknows/llm.py#24\u001b\\\u001b[2m24\u001b[0m\u001b]8;;\u001b\\\n"
      ]
     },
     "metadata": {},
     "output_type": "display_data"
    },
    {
     "data": {
      "text/html": [
       "<pre style=\"white-space:pre;overflow-x:auto;line-height:normal;font-family:Menlo,'DejaVu Sans Mono',consolas,'Courier New',monospace\"><span style=\"color: #7fbfbf; text-decoration-color: #7fbfbf\">                    </span><span style=\"color: #000080; text-decoration-color: #000080\">INFO    </span> len prompt messages: <span style=\"color: #008080; text-decoration-color: #008080; font-weight: bold\">36</span>                                                      <a href=\"file:///Users/stanb/src/aiknows/aiknows/llm.py\" target=\"_blank\"><span style=\"color: #7f7f7f; text-decoration-color: #7f7f7f\">llm.py</span></a><span style=\"color: #7f7f7f; text-decoration-color: #7f7f7f\">:</span><a href=\"file:///Users/stanb/src/aiknows/aiknows/llm.py#28\" target=\"_blank\"><span style=\"color: #7f7f7f; text-decoration-color: #7f7f7f\">28</span></a>\n",
       "</pre>\n"
      ],
      "text/plain": [
       "\u001b[2;36m                   \u001b[0m\u001b[2;36m \u001b[0m\u001b[34mINFO    \u001b[0m len prompt messages: \u001b[1;36m36\u001b[0m                                                      \u001b]8;id=827571;file:///Users/stanb/src/aiknows/aiknows/llm.py\u001b\\\u001b[2mllm.py\u001b[0m\u001b]8;;\u001b\\\u001b[2m:\u001b[0m\u001b]8;id=399030;file:///Users/stanb/src/aiknows/aiknows/llm.py#28\u001b\\\u001b[2m28\u001b[0m\u001b]8;;\u001b\\\n"
      ]
     },
     "metadata": {},
     "output_type": "display_data"
    },
    {
     "data": {
      "text/html": [
       "<pre style=\"white-space:pre;overflow-x:auto;line-height:normal;font-family:Menlo,'DejaVu Sans Mono',consolas,'Courier New',monospace\"><span style=\"color: #7fbfbf; text-decoration-color: #7fbfbf\">[05/24/23 01:22:11] </span><span style=\"color: #000080; text-decoration-color: #000080\">INFO    </span> real prompt token length: <span style=\"color: #008080; text-decoration-color: #008080; font-weight: bold\">2095</span>                                               <a href=\"file:///Users/stanb/src/aiknows/aiknows/llm.py\" target=\"_blank\"><span style=\"color: #7f7f7f; text-decoration-color: #7f7f7f\">llm.py</span></a><span style=\"color: #7f7f7f; text-decoration-color: #7f7f7f\">:</span><a href=\"file:///Users/stanb/src/aiknows/aiknows/llm.py#36\" target=\"_blank\"><span style=\"color: #7f7f7f; text-decoration-color: #7f7f7f\">36</span></a>\n",
       "</pre>\n"
      ],
      "text/plain": [
       "\u001b[2;36m[05/24/23 01:22:11]\u001b[0m\u001b[2;36m \u001b[0m\u001b[34mINFO    \u001b[0m real prompt token length: \u001b[1;36m2095\u001b[0m                                               \u001b]8;id=400537;file:///Users/stanb/src/aiknows/aiknows/llm.py\u001b\\\u001b[2mllm.py\u001b[0m\u001b]8;;\u001b\\\u001b[2m:\u001b[0m\u001b]8;id=964737;file:///Users/stanb/src/aiknows/aiknows/llm.py#36\u001b\\\u001b[2m36\u001b[0m\u001b]8;;\u001b\\\n"
      ]
     },
     "metadata": {},
     "output_type": "display_data"
    },
    {
     "data": {
      "text/html": [
       "<pre style=\"white-space:pre;overflow-x:auto;line-height:normal;font-family:Menlo,'DejaVu Sans Mono',consolas,'Courier New',monospace\"><span style=\"color: #7fbfbf; text-decoration-color: #7fbfbf\">                    </span><span style=\"color: #000080; text-decoration-color: #000080\">INFO    </span> ===<span style=\"color: #808000; text-decoration-color: #808000\">assistant</span>===                                                          <a href=\"file:///Users/stanb/src/aiknows/aiknows/prompt/prompt.py\" target=\"_blank\"><span style=\"color: #7f7f7f; text-decoration-color: #7f7f7f\">prompt.py</span></a><span style=\"color: #7f7f7f; text-decoration-color: #7f7f7f\">:</span><a href=\"file:///Users/stanb/src/aiknows/aiknows/prompt/prompt.py#203\" target=\"_blank\"><span style=\"color: #7f7f7f; text-decoration-color: #7f7f7f\">203</span></a>\n",
       "<span style=\"color: #7fbfbf; text-decoration-color: #7fbfbf\">                    </span>                                                                                  <span style=\"color: #7f7f7f; text-decoration-color: #7f7f7f\">             </span>\n",
       "<span style=\"color: #7fbfbf; text-decoration-color: #7fbfbf\">                    </span>         ```python                                                                <span style=\"color: #7f7f7f; text-decoration-color: #7f7f7f\">             </span>\n",
       "<span style=\"color: #7fbfbf; text-decoration-color: #7fbfbf\">                    </span>         # no function is mentioned in the task, so we assume user wants a list   <span style=\"color: #7f7f7f; text-decoration-color: #7f7f7f\">             </span>\n",
       "<span style=\"color: #7fbfbf; text-decoration-color: #7fbfbf\">                    </span>         of non-prime numbers                                                     <span style=\"color: #7f7f7f; text-decoration-color: #7f7f7f\">             </span>\n",
       "<span style=\"color: #7fbfbf; text-decoration-color: #7fbfbf\">                    </span>         # we can use the Sieve of Eratosthenes algorithm to find all primes up   <span style=\"color: #7f7f7f; text-decoration-color: #7f7f7f\">             </span>\n",
       "<span style=\"color: #7fbfbf; text-decoration-color: #7fbfbf\">                    </span>         to a certain limit                                                       <span style=\"color: #7f7f7f; text-decoration-color: #7f7f7f\">             </span>\n",
       "<span style=\"color: #7fbfbf; text-decoration-color: #7fbfbf\">                    </span>         # then we can subtract the primes from the original list to get the      <span style=\"color: #7f7f7f; text-decoration-color: #7f7f7f\">             </span>\n",
       "<span style=\"color: #7fbfbf; text-decoration-color: #7fbfbf\">                    </span>         non-primes                                                               <span style=\"color: #7f7f7f; text-decoration-color: #7f7f7f\">             </span>\n",
       "<span style=\"color: #7fbfbf; text-decoration-color: #7fbfbf\">                    </span>         def <span style=\"color: #800080; text-decoration-color: #800080; font-weight: bold\">sieve_of_eratosthenes</span><span style=\"font-weight: bold\">(</span>n<span style=\"font-weight: bold\">)</span>:                                            <span style=\"color: #7f7f7f; text-decoration-color: #7f7f7f\">             </span>\n",
       "<span style=\"color: #7fbfbf; text-decoration-color: #7fbfbf\">                    </span>             primes = <span style=\"font-weight: bold\">[</span><span style=\"color: #00ff00; text-decoration-color: #00ff00; font-style: italic\">True</span><span style=\"font-weight: bold\">]</span> * <span style=\"font-weight: bold\">(</span>n + <span style=\"color: #008080; text-decoration-color: #008080; font-weight: bold\">1</span><span style=\"font-weight: bold\">)</span>                                            <span style=\"color: #7f7f7f; text-decoration-color: #7f7f7f\">             </span>\n",
       "<span style=\"color: #7fbfbf; text-decoration-color: #7fbfbf\">                    </span>             primes<span style=\"font-weight: bold\">[</span><span style=\"color: #008080; text-decoration-color: #008080; font-weight: bold\">0</span><span style=\"font-weight: bold\">]</span> = primes<span style=\"font-weight: bold\">[</span><span style=\"color: #008080; text-decoration-color: #008080; font-weight: bold\">1</span><span style=\"font-weight: bold\">]</span> = <span style=\"color: #ff0000; text-decoration-color: #ff0000; font-style: italic\">False</span>                                        <span style=\"color: #7f7f7f; text-decoration-color: #7f7f7f\">             </span>\n",
       "<span style=\"color: #7fbfbf; text-decoration-color: #7fbfbf\">                    </span>             for i in <span style=\"color: #800080; text-decoration-color: #800080; font-weight: bold\">range</span><span style=\"font-weight: bold\">(</span><span style=\"color: #008080; text-decoration-color: #008080; font-weight: bold\">2</span>, <span style=\"color: #800080; text-decoration-color: #800080; font-weight: bold\">int</span><span style=\"font-weight: bold\">(</span>n ** <span style=\"color: #008080; text-decoration-color: #008080; font-weight: bold\">0.5</span><span style=\"font-weight: bold\">)</span> + <span style=\"color: #008080; text-decoration-color: #008080; font-weight: bold\">1</span><span style=\"font-weight: bold\">)</span>:                                <span style=\"color: #7f7f7f; text-decoration-color: #7f7f7f\">             </span>\n",
       "<span style=\"color: #7fbfbf; text-decoration-color: #7fbfbf\">                    </span>                 if primes<span style=\"font-weight: bold\">[</span>i<span style=\"font-weight: bold\">]</span>:                                                    <span style=\"color: #7f7f7f; text-decoration-color: #7f7f7f\">             </span>\n",
       "<span style=\"color: #7fbfbf; text-decoration-color: #7fbfbf\">                    </span>                     for j in <span style=\"color: #800080; text-decoration-color: #800080; font-weight: bold\">range</span><span style=\"font-weight: bold\">(</span>i ** <span style=\"color: #008080; text-decoration-color: #008080; font-weight: bold\">2</span>, n + <span style=\"color: #008080; text-decoration-color: #008080; font-weight: bold\">1</span>, i<span style=\"font-weight: bold\">)</span>:                            <span style=\"color: #7f7f7f; text-decoration-color: #7f7f7f\">             </span>\n",
       "<span style=\"color: #7fbfbf; text-decoration-color: #7fbfbf\">                    </span>                         primes<span style=\"font-weight: bold\">[</span>j<span style=\"font-weight: bold\">]</span> = <span style=\"color: #ff0000; text-decoration-color: #ff0000; font-style: italic\">False</span>                                        <span style=\"color: #7f7f7f; text-decoration-color: #7f7f7f\">             </span>\n",
       "<span style=\"color: #7fbfbf; text-decoration-color: #7fbfbf\">                    </span>             return primes                                                        <span style=\"color: #7f7f7f; text-decoration-color: #7f7f7f\">             </span>\n",
       "<span style=\"color: #7fbfbf; text-decoration-color: #7fbfbf\">                    </span>                                                                                  <span style=\"color: #7f7f7f; text-decoration-color: #7f7f7f\">             </span>\n",
       "<span style=\"color: #7fbfbf; text-decoration-color: #7fbfbf\">                    </span>         def <span style=\"color: #800080; text-decoration-color: #800080; font-weight: bold\">non_primes</span><span style=\"font-weight: bold\">(</span>numbers<span style=\"font-weight: bold\">)</span>:                                                 <span style=\"color: #7f7f7f; text-decoration-color: #7f7f7f\">             </span>\n",
       "<span style=\"color: #7fbfbf; text-decoration-color: #7fbfbf\">                    </span>             primes = <span style=\"color: #800080; text-decoration-color: #800080; font-weight: bold\">sieve_of_eratosthenes</span><span style=\"font-weight: bold\">(</span><span style=\"color: #800080; text-decoration-color: #800080; font-weight: bold\">max</span><span style=\"font-weight: bold\">(</span>numbers<span style=\"font-weight: bold\">))</span>                         <span style=\"color: #7f7f7f; text-decoration-color: #7f7f7f\">             </span>\n",
       "<span style=\"color: #7fbfbf; text-decoration-color: #7fbfbf\">                    </span>             return <span style=\"font-weight: bold\">[</span>number for number in numbers if not primes<span style=\"font-weight: bold\">[</span>number<span style=\"font-weight: bold\">]]</span>          <span style=\"color: #7f7f7f; text-decoration-color: #7f7f7f\">             </span>\n",
       "<span style=\"color: #7fbfbf; text-decoration-color: #7fbfbf\">                    </span>                                                                                  <span style=\"color: #7f7f7f; text-decoration-color: #7f7f7f\">             </span>\n",
       "<span style=\"color: #7fbfbf; text-decoration-color: #7fbfbf\">                    </span>         result = <span style=\"color: #800080; text-decoration-color: #800080; font-weight: bold\">non_primes</span><span style=\"font-weight: bold\">(</span>list_x<span style=\"font-weight: bold\">)</span>                                              <span style=\"color: #7f7f7f; text-decoration-color: #7f7f7f\">             </span>\n",
       "<span style=\"color: #7fbfbf; text-decoration-color: #7fbfbf\">                    </span>         <span style=\"color: #800080; text-decoration-color: #800080; font-weight: bold\">finish_task_ok</span><span style=\"font-weight: bold\">(</span>result<span style=\"font-weight: bold\">)</span>;                                                  <span style=\"color: #7f7f7f; text-decoration-color: #7f7f7f\">             </span>\n",
       "<span style=\"color: #7fbfbf; text-decoration-color: #7fbfbf\">                    </span>         ```                                                                      <span style=\"color: #7f7f7f; text-decoration-color: #7f7f7f\">             </span>\n",
       "<span style=\"color: #7fbfbf; text-decoration-color: #7fbfbf\">                    </span>                                                                                  <span style=\"color: #7f7f7f; text-decoration-color: #7f7f7f\">             </span>\n",
       "</pre>\n"
      ],
      "text/plain": [
       "\u001b[2;36m                   \u001b[0m\u001b[2;36m \u001b[0m\u001b[34mINFO    \u001b[0m ===\u001b[33massistant\u001b[0m===                                                          \u001b]8;id=640219;file:///Users/stanb/src/aiknows/aiknows/prompt/prompt.py\u001b\\\u001b[2mprompt.py\u001b[0m\u001b]8;;\u001b\\\u001b[2m:\u001b[0m\u001b]8;id=76663;file:///Users/stanb/src/aiknows/aiknows/prompt/prompt.py#203\u001b\\\u001b[2m203\u001b[0m\u001b]8;;\u001b\\\n",
       "\u001b[2;36m                    \u001b[0m                                                                                  \u001b[2m             \u001b[0m\n",
       "\u001b[2;36m                    \u001b[0m         ```python                                                                \u001b[2m             \u001b[0m\n",
       "\u001b[2;36m                    \u001b[0m         # no function is mentioned in the task, so we assume user wants a list   \u001b[2m             \u001b[0m\n",
       "\u001b[2;36m                    \u001b[0m         of non-prime numbers                                                     \u001b[2m             \u001b[0m\n",
       "\u001b[2;36m                    \u001b[0m         # we can use the Sieve of Eratosthenes algorithm to find all primes up   \u001b[2m             \u001b[0m\n",
       "\u001b[2;36m                    \u001b[0m         to a certain limit                                                       \u001b[2m             \u001b[0m\n",
       "\u001b[2;36m                    \u001b[0m         # then we can subtract the primes from the original list to get the      \u001b[2m             \u001b[0m\n",
       "\u001b[2;36m                    \u001b[0m         non-primes                                                               \u001b[2m             \u001b[0m\n",
       "\u001b[2;36m                    \u001b[0m         def \u001b[1;35msieve_of_eratosthenes\u001b[0m\u001b[1m(\u001b[0mn\u001b[1m)\u001b[0m:                                            \u001b[2m             \u001b[0m\n",
       "\u001b[2;36m                    \u001b[0m             primes = \u001b[1m[\u001b[0m\u001b[3;92mTrue\u001b[0m\u001b[1m]\u001b[0m * \u001b[1m(\u001b[0mn + \u001b[1;36m1\u001b[0m\u001b[1m)\u001b[0m                                            \u001b[2m             \u001b[0m\n",
       "\u001b[2;36m                    \u001b[0m             primes\u001b[1m[\u001b[0m\u001b[1;36m0\u001b[0m\u001b[1m]\u001b[0m = primes\u001b[1m[\u001b[0m\u001b[1;36m1\u001b[0m\u001b[1m]\u001b[0m = \u001b[3;91mFalse\u001b[0m                                        \u001b[2m             \u001b[0m\n",
       "\u001b[2;36m                    \u001b[0m             for i in \u001b[1;35mrange\u001b[0m\u001b[1m(\u001b[0m\u001b[1;36m2\u001b[0m, \u001b[1;35mint\u001b[0m\u001b[1m(\u001b[0mn ** \u001b[1;36m0.5\u001b[0m\u001b[1m)\u001b[0m + \u001b[1;36m1\u001b[0m\u001b[1m)\u001b[0m:                                \u001b[2m             \u001b[0m\n",
       "\u001b[2;36m                    \u001b[0m                 if primes\u001b[1m[\u001b[0mi\u001b[1m]\u001b[0m:                                                    \u001b[2m             \u001b[0m\n",
       "\u001b[2;36m                    \u001b[0m                     for j in \u001b[1;35mrange\u001b[0m\u001b[1m(\u001b[0mi ** \u001b[1;36m2\u001b[0m, n + \u001b[1;36m1\u001b[0m, i\u001b[1m)\u001b[0m:                            \u001b[2m             \u001b[0m\n",
       "\u001b[2;36m                    \u001b[0m                         primes\u001b[1m[\u001b[0mj\u001b[1m]\u001b[0m = \u001b[3;91mFalse\u001b[0m                                        \u001b[2m             \u001b[0m\n",
       "\u001b[2;36m                    \u001b[0m             return primes                                                        \u001b[2m             \u001b[0m\n",
       "\u001b[2;36m                    \u001b[0m                                                                                  \u001b[2m             \u001b[0m\n",
       "\u001b[2;36m                    \u001b[0m         def \u001b[1;35mnon_primes\u001b[0m\u001b[1m(\u001b[0mnumbers\u001b[1m)\u001b[0m:                                                 \u001b[2m             \u001b[0m\n",
       "\u001b[2;36m                    \u001b[0m             primes = \u001b[1;35msieve_of_eratosthenes\u001b[0m\u001b[1m(\u001b[0m\u001b[1;35mmax\u001b[0m\u001b[1m(\u001b[0mnumbers\u001b[1m)\u001b[0m\u001b[1m)\u001b[0m                         \u001b[2m             \u001b[0m\n",
       "\u001b[2;36m                    \u001b[0m             return \u001b[1m[\u001b[0mnumber for number in numbers if not primes\u001b[1m[\u001b[0mnumber\u001b[1m]\u001b[0m\u001b[1m]\u001b[0m          \u001b[2m             \u001b[0m\n",
       "\u001b[2;36m                    \u001b[0m                                                                                  \u001b[2m             \u001b[0m\n",
       "\u001b[2;36m                    \u001b[0m         result = \u001b[1;35mnon_primes\u001b[0m\u001b[1m(\u001b[0mlist_x\u001b[1m)\u001b[0m                                              \u001b[2m             \u001b[0m\n",
       "\u001b[2;36m                    \u001b[0m         \u001b[1;35mfinish_task_ok\u001b[0m\u001b[1m(\u001b[0mresult\u001b[1m)\u001b[0m;                                                  \u001b[2m             \u001b[0m\n",
       "\u001b[2;36m                    \u001b[0m         ```                                                                      \u001b[2m             \u001b[0m\n",
       "\u001b[2;36m                    \u001b[0m                                                                                  \u001b[2m             \u001b[0m\n"
      ]
     },
     "metadata": {},
     "output_type": "display_data"
    },
    {
     "data": {
      "text/plain": [
       "[4, 6, 8, 9]"
      ]
     },
     "execution_count": 4,
     "metadata": {},
     "output_type": "execute_result"
    }
   ],
   "source": [
    "list_x = [2, 3, 4, 5, 6, 7, 8, 9]\n",
    "ai('a list of non primes in `list_x`', list_x=list_x)"
   ]
  },
  {
   "cell_type": "code",
   "execution_count": 27,
   "metadata": {},
   "outputs": [
    {
     "name": "stderr",
     "output_type": "stream",
     "text": [
      "INFO:aiknows.prompt.prompt:===user===\n",
      "\n",
      "task description: \"\"\"\n",
      "make a function decorator that caches the result of a function call up to 8MB\n",
      "\"\"\"\n",
      "environment: new python interpreter\n",
      "global variables: <empty>\n",
      "\n",
      "INFO:aiknows.llm:cache miss on generating code\n",
      "INFO:aiknows.llm:len prompt messages: 42\n",
      "INFO:aiknows.llm:real prompt token length: 2140\n",
      "INFO:aiknows.prompt.prompt:===assistant===\n",
      "\n",
      "```python\n",
      "import functools\n",
      "\n",
      "def cache_result(max_size=8):\n",
      "    def decorator(func):\n",
      "        @functools.lru_cache(maxsize=max_size)\n",
      "        def wrapper(*args, **kwargs):\n",
      "            return func(*args, **kwargs)\n",
      "        return wrapper\n",
      "    return decorator\n",
      "\n",
      "finish_task_ok(cache_result);\n",
      "```\n",
      "\n"
     ]
    },
    {
     "data": {
      "text/plain": [
       "<function cache_result(max_size=8)>"
      ]
     },
     "execution_count": 27,
     "metadata": {},
     "output_type": "execute_result"
    }
   ],
   "source": [
    "ai('make a function decorator that caches the result of a function call up to 8MB')"
   ]
  },
  {
   "cell_type": "code",
   "execution_count": 23,
   "metadata": {},
   "outputs": [
    {
     "name": "stderr",
     "output_type": "stream",
     "text": [
      "INFO:aiknows.prompt.prompt:===user===\n",
      "\n",
      "task description: \"\"\"\n",
      "return the two most distant cities in df\n",
      "\"\"\"\n",
      "environment: new python interpreter\n",
      "global variables: \n",
      "- df\n",
      "    - type: pandas.core.frame.DataFrame\n",
      "    - shape: (128, 10)\n",
      "    - columns: ['LatD', 'LatM', 'LatS', 'NS', 'LonD', 'LonM', 'LonS', 'EW', 'City', 'State']\n",
      "    - dtypes: ['int64', 'int64', 'int64', 'object', 'int64', 'int64', 'int64', 'object', 'object', 'object']\n",
      "\n",
      "INFO:aiknows.prompt.prompt:===assistant===\n",
      "\n",
      "```python\n",
      "# task description mentions 'df' which is a pandas dataframe\n",
      "# we can calculate the distance between each pair of cities and return the two most distant ones\n",
      "from geopy.distance import geodesic\n",
      "from itertools import combinations\n",
      "\n",
      "def distance(city1, city2):\n",
      "    return geodesic((city1['LatD'], city1['LatM'], city1['LatS']), (city2['LatD'], city2['LatM'], city2['LatS'])).km\n",
      "\n",
      "def most_distant_cities(df):\n",
      "    cities = df[['City', 'LatD', 'LatM', 'LatS']]\n",
      "    pairs = combinations(cities.itertuples(), 2)\n",
      "    distances = [(city1.City, city2.City, distance(city1, city2)) for city1, city2 in pairs]\n",
      "    return sorted(distances, key=lambda x: x[2], reverse=True)[:2]\n",
      "\n",
      "finish_task_ok(most_distant_cities(df));\n",
      "```\n",
      "\n",
      "INFO:aiknows.prompt.prompt:===user===\n",
      "\n",
      "error: \"\"\"\n",
      "File \"<assistant>\", line 3, in <module>\n",
      "  from geopy.distance import geodesic\n",
      "ModuleNotFoundError: No module named 'geopy'\n",
      "\"\"\"\n",
      "hint: \"\"\"\n",
      "try to use python standard library and installed pip packages\n",
      "approach problem differently\n",
      "do no attempt installing packages\n",
      "\"\"\"\n",
      "\n",
      "INFO:aiknows.llm:cache miss on generating code\n",
      "INFO:aiknows.llm:len prompt messages: 40\n",
      "INFO:aiknows.llm:real prompt token length: 2756\n",
      "INFO:aiknows.prompt.prompt:===assistant===\n",
      "\n",
      "```python\n",
      "# geopy package is not installed, so we can't use it\n",
      "# we can use the Haversine formula to calculate the distance between two points on the Earth's surface\n",
      "# we can use the latitude and longitude of each city to calculate the distance\n",
      "from math import radians, sin, cos, sqrt, atan2\n",
      "\n",
      "def distance(city1, city2):\n",
      "    R = 6373.0 # approximate radius of Earth in km\n",
      "\n",
      "    lat1 = radians(city1['LatD'] + city1['LatM']/60 + city1['LatS']/3600)\n",
      "    lon1 = radians(city1['LonD'] + city1['LonM']/60 + city1['LonS']/3600)\n",
      "    lat2 = radians(city2['LatD'] + city2['LatM']/60 + city2['LatS']/3600)\n",
      "    lon2 = radians(city2['LonD'] + city2['LonM']/60 + city2['LonS']/3600)\n",
      "\n",
      "    dlon = lon2 - lon1\n",
      "    dlat = lat2 - lat1\n",
      "\n",
      "    a = sin(dlat / 2)**2 + cos(lat1) * cos(lat2) * sin(dlon / 2)**2\n",
      "    c = 2 * atan2(sqrt(a), sqrt(1 - a))\n",
      "\n",
      "    return R * c\n",
      "\n",
      "def most_distant_cities(df):\n",
      "    cities = df[['City', 'LatD', 'LatM', 'LatS', 'LonD', 'LonM', 'LonS']]\n",
      "    pairs = combinations(cities.itertuples(), 2)\n",
      "    distances = [(city1.City, city2.City, distance(city1, city2)) for city1, city2 in pairs]\n",
      "    return sorted(distances, key=lambda x: x[2], reverse=True)[:2]\n",
      "\n",
      "finish_task_ok(most_distant_cities(df));\n",
      "```\n",
      "\n",
      "INFO:aiknows.prompt.prompt:===user===\n",
      "\n",
      "error: \"\"\"\n",
      "File \"<assistant>\", line 24, in most_distant_cities\n",
      "  pairs = combinations(cities.itertuples(), 2)\n",
      "NameError: name 'combinations' is not defined\n",
      "\"\"\"\n",
      "\n",
      "INFO:aiknows.llm:cache miss on generating code\n",
      "INFO:aiknows.llm:len prompt messages: 42\n",
      "INFO:aiknows.llm:real prompt token length: 3162\n",
      "INFO:aiknows.prompt.prompt:===assistant===\n",
      "\n",
      "```python\n",
      "# combinations is a function from itertools module\n",
      "# we need to import it before using it\n",
      "from itertools import combinations\n",
      "\n",
      "def distance(city1, city2):\n",
      "    R = 6373.0 # approximate radius of Earth in km\n",
      "\n",
      "    lat1 = radians(city1['LatD'] + city1['LatM']/60 + city1['LatS']/3600)\n",
      "    lon1 = radians(city1['LonD'] + city1['LonM']/60 + city1['LonS']/3600)\n",
      "    lat2 = radians(city2['LatD'] + city2['LatM']/60 + city2['LatS']/3600)\n",
      "    lon2 = radians(city2['LonD'] + city2['LonM']/60 + city2['LonS']/3600)\n",
      "\n",
      "    dlon = lon2 - lon1\n",
      "    dlat = lat2 - lat1\n",
      "\n",
      "    a = sin(dlat / 2)**2 + cos(lat1) * cos(lat2) * sin(dlon / 2)**2\n",
      "    c = 2 * atan2(sqrt(a), sqrt(1 - a))\n",
      "\n",
      "    return R * c\n",
      "\n",
      "def most_distant_cities(df):\n",
      "    cities = df[['City', 'LatD', 'LatM', 'LatS', 'LonD', 'LonM', 'LonS']]\n",
      "    pairs = combinations(cities.itertuples(), 2)\n",
      "    distances = [(city1.City, city2.City, distance(city1, city2)) for city1, city2 in pairs]\n",
      "    return sorted(distances, key=lambda x: x[2], reverse=True)[:2]\n",
      "\n",
      "finish_task_ok(most_distant_cities(df));\n",
      "```\n",
      "\n",
      "INFO:aiknows.prompt.prompt:===user===\n",
      "\n",
      "error: \"\"\"\n",
      "File \"<assistant>\", line 8, in distance\n",
      "  lat1 = radians(city1['LatD'] + city1['LatM']/60 + city1['LatS']/3600)\n",
      "TypeError: tuple indices must be integers or slices, not str\n",
      "\"\"\"\n",
      "\n",
      "INFO:aiknows.llm:cache miss on generating code\n",
      "INFO:aiknows.llm:len prompt messages: 44\n",
      "INFO:aiknows.llm:real prompt token length: 3575\n",
      "INFO:aiknows.prompt.prompt:===assistant===\n",
      "\n",
      "```python\n",
      "# itertuples returns a named tuple, so we need to use the attribute names instead of column names\n",
      "def distance(city1, city2):\n",
      "    R = 6373.0 # approximate radius of Earth in km\n",
      "\n",
      "    lat1 = radians(city1.LatD + city1.LatM/60 + city1.LatS/3600)\n",
      "    lon1 = radians(city1.LonD + city1.LonM/60 + city1.LonS/3600)\n",
      "    lat2 = radians(city2.LatD + city2.LatM/60 + city2.LatS/3600)\n",
      "    lon2 = radians(city2.LonD + city2.LonM/60 + city2.LonS/3600)\n",
      "\n",
      "    dlon = lon2 - lon1\n",
      "    dlat = lat2 - lat1\n",
      "\n",
      "    a = sin(dlat / 2)**2 + cos(lat1) * cos(lat2) * sin(dlon / 2)**2\n",
      "    c = 2 * atan2(sqrt(a), sqrt(1 - a))\n",
      "\n",
      "    return R * c\n",
      "\n",
      "def most_distant_cities(df):\n",
      "    cities = df[['City', 'LatD', 'LatM', 'LatS', 'LonD', 'LonM', 'LonS']]\n",
      "    pairs = combinations(cities.itertuples(), 2)\n",
      "    distances = [(city1.City, city2.City, distance(city1, city2)) for city1, city2 in pairs]\n",
      "    return sorted(distances, key=lambda x: x[2], reverse=True)[:2]\n",
      "\n",
      "finish_task_ok(most_distant_cities(df));\n",
      "```\n",
      "\n"
     ]
    },
    {
     "data": {
      "text/plain": [
       "[(' \"West Palm Beach\"', ' \"Vancouver\"', 4444.822691229526),\n",
       " (' \"West Palm Beach\"', ' \"Seattle\"', 4332.857960057672)]"
      ]
     },
     "execution_count": 23,
     "metadata": {},
     "output_type": "execute_result"
    }
   ],
   "source": [
    "r, sess = ai('return the two most distant cities in df', df=df, save_session=True)\n",
    "# r = sess.ai('implement haversine distance function, no need to use geopy')\n",
    "# r = sess.ai('strip all unnecessary symbols like spaces and \\'\\\" from previous result')\n",
    "# assert set(r) == {'West Palm Beach', 'Vancouver'}\n",
    "r"
   ]
  }
 ],
 "metadata": {
  "kernelspec": {
   "display_name": "aiknows",
   "language": "python",
   "name": "python3"
  },
  "language_info": {
   "codemirror_mode": {
    "name": "ipython",
    "version": 3
   },
   "file_extension": ".py",
   "mimetype": "text/x-python",
   "name": "python",
   "nbconvert_exporter": "python",
   "pygments_lexer": "ipython3",
   "version": "3.8.16"
  }
 },
 "nbformat": 4,
 "nbformat_minor": 2
}
