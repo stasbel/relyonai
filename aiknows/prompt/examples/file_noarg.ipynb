{
 "cells": [
  {
   "cell_type": "code",
   "execution_count": 1,
   "metadata": {},
   "outputs": [
    {
     "name": "stdout",
     "output_type": "stream",
     "text": [
      "TASK: \"\"\"\n",
      "read file\n",
      "\"\"\"\n",
      "REUSE: False\n",
      "ARGS:\n"
     ]
    }
   ],
   "source": [
    "from aiknows import gpt\n",
    "from aiknows.runtime import finish_task_ok, finish_task_error\n",
    "\n",
    "from aiknows.runtime import setup_task\n",
    "setup_task(\n",
    "    task='read a file',\n",
    "    reuse=False,\n",
    "    args=None,\n",
    "    globals=globals(),\n",
    ")\n",
    "del setup_task"
   ]
  },
  {
   "cell_type": "code",
   "execution_count": 2,
   "metadata": {},
   "outputs": [],
   "source": [
    "# the task has no args that could be assumed to be file paths\n",
    "# so we construct a function that takes a file path as input\n",
    "def read_file(file_path):\n",
    "    with open(file_path) as f:\n",
    "        content = f.read()\n",
    "    return content\n",
    "\n",
    "finish_task_ok(read_file);"
   ]
  }
 ],
 "metadata": {
  "language_info": {
   "name": "python"
  }
 },
 "nbformat": 4,
 "nbformat_minor": 2
}
