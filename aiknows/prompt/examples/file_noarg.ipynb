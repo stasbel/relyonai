{
 "cells": [
  {
   "cell_type": "code",
   "execution_count": 1,
   "metadata": {},
   "outputs": [],
   "source": [
    "TASK = 'read file filename.txt'\n",
    "ARGS = {}"
   ]
  },
  {
   "cell_type": "code",
   "execution_count": 2,
   "metadata": {},
   "outputs": [
    {
     "name": "stdout",
     "output_type": "stream",
     "text": [
      "TASK: \"\"\"\n",
      "read file filename.txt\n",
      "\"\"\"\n",
      "ARGS:\n"
     ]
    }
   ],
   "source": [
    "# print prompt as assistant sees it\n",
    "from aiknows import prompt\n",
    "chat = prompt.Chat()\n",
    "chat.add_user_task(TASK, **ARGS)\n",
    "print(chat.messages[-1]['content'])\n",
    "del chat\n",
    "del prompt\n",
    "# introduce ARGS as globals\n",
    "globals = globals()\n",
    "for arg_k, arg_v in ARGS.items():\n",
    "    globals[arg_k] = arg_v\n",
    "del globals\n",
    "# reserved keywords\n",
    "assert 'gpt' not in ARGS and 'AIKnowsTaskError' not in ARGS\n",
    "\n",
    "del TASK\n",
    "del ARGS\n",
    "\n",
    "from aiknows import gpt\n",
    "from aiknows.exceptions import AIKnowsTaskError"
   ]
  },
  {
   "cell_type": "code",
   "execution_count": 3,
   "metadata": {},
   "outputs": [
    {
     "data": {
      "text/plain": [
       "'filename content'"
      ]
     },
     "execution_count": 3,
     "metadata": {},
     "output_type": "execute_result"
    }
   ],
   "source": [
    "# filename isn't passed so we treat is as a constant\n",
    "with open(f'filename.txt') as f:\n",
    "    content = f.read()\n",
    "\n",
    "final_result = content\n",
    "final_result"
   ]
  },
  {
   "cell_type": "code",
   "execution_count": 4,
   "metadata": {},
   "outputs": [],
   "source": [
    "VALIDATE_FINAL_RESULT = True\n",
    "FINAL_RESULT = 'filename content'\n",
    "\n",
    "if VALIDATE_FINAL_RESULT:\n",
    "    assert final_result == FINAL_RESULT"
   ]
  }
 ],
 "metadata": {
  "language_info": {
   "name": "python"
  }
 },
 "nbformat": 4,
 "nbformat_minor": 2
}
