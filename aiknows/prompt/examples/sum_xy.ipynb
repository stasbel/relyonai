{
 "cells": [
  {
   "cell_type": "code",
   "execution_count": 1,
   "metadata": {},
   "outputs": [
    {
     "name": "stdout",
     "output_type": "stream",
     "text": [
      "TASK: \"\"\"\n",
      "sum of two numbers x and y\n",
      "\"\"\"\n",
      "REUSE: False\n",
      "ARGS: x, y\n",
      "- x: \"\"\"\n",
      "object of type builtins.int\n",
      "\"\"\"\n",
      "- y: \"\"\"\n",
      "object of type builtins.int\n",
      "\"\"\"\n"
     ]
    }
   ],
   "source": [
    "from aiknows import gpt\n",
    "from aiknows.runtime import finish_task_ok, finish_task_error\n",
    "\n",
    "from aiknows.runtime import setup_task\n",
    "x, y = 1, 2\n",
    "setup_task(\n",
    "    task='sum of two numbers x and y',\n",
    "    reuse=False,\n",
    "    args={'x': x, 'y': y},\n",
    "    globals=globals(),\n",
    "    validator=lambda r: r == 3,\n",
    ")\n",
    "del setup_task"
   ]
  },
  {
   "cell_type": "code",
   "execution_count": 2,
   "metadata": {},
   "outputs": [],
   "source": [
    "# both x and y are defined so we just use them\n",
    "finish_task_ok(x + y);"
   ]
  }
 ],
 "metadata": {
  "language_info": {
   "name": "python"
  }
 },
 "nbformat": 4,
 "nbformat_minor": 2
}
