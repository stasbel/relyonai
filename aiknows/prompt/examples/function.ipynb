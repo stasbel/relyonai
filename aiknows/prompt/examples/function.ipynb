{
 "cells": [
  {
   "cell_type": "code",
   "execution_count": 1,
   "metadata": {},
   "outputs": [
    {
     "name": "stdout",
     "output_type": "stream",
     "text": [
      "TASK: \"\"\"\n",
      "filter words beginning with \"a\"\n",
      "\"\"\"\n",
      "REUSE: False\n",
      "ARGS: []\n"
     ]
    }
   ],
   "source": [
    "from aiknows import gpt\n",
    "from aiknows.runtime import finish_task_ok, finish_task_error\n",
    "\n",
    "from aiknows.runtime import setup_task\n",
    "setup_task(\n",
    "    task='filter words beginning with \"a\"',\n",
    "    reuse=False,\n",
    "    args={},\n",
    "    globals=globals(),\n",
    ")\n",
    "del setup_task"
   ]
  },
  {
   "cell_type": "code",
   "execution_count": 2,
   "metadata": {},
   "outputs": [],
   "source": [
    "# we assume that by filtering user meant filering from the list\n",
    "# list isn't provided so we return a function that applies to it\n",
    "def filter(words):\n",
    "    return [w for w in words if w.startswith('a')]\n",
    "\n",
    "finish_task_ok(filter);"
   ]
  },
  {
   "cell_type": "code",
   "execution_count": 2,
   "metadata": {},
   "outputs": [
    {
     "name": "stdout",
     "output_type": "stream",
     "text": [
      "TASK: \"\"\"\n",
      "merge two lists into a single one\n",
      "\"\"\"\n",
      "REUSE: False\n",
      "ARGS: []\n"
     ]
    }
   ],
   "source": [
    "from aiknows.runtime import setup_task\n",
    "setup_task(\n",
    "    task='merge two lists into a single one',\n",
    "    reuse=False,\n",
    "    args={},\n",
    "    globals=globals(),\n",
    ")\n",
    "del setup_task"
   ]
  },
  {
   "cell_type": "code",
   "execution_count": 4,
   "metadata": {},
   "outputs": [],
   "source": [
    "# lists isn't provided via args\n",
    "# so we return a function that takes two lists and merges them\n",
    "def merge(a, b):\n",
    "    return a + b\n",
    "\n",
    "finish_task_ok(merge);"
   ]
  }
 ],
 "metadata": {
  "kernelspec": {
   "display_name": "aiknows",
   "language": "python",
   "name": "python3"
  },
  "language_info": {
   "codemirror_mode": {
    "name": "ipython",
    "version": 3
   },
   "file_extension": ".py",
   "mimetype": "text/x-python",
   "name": "python",
   "nbconvert_exporter": "python",
   "pygments_lexer": "ipython3",
   "version": "3.8.16"
  }
 },
 "nbformat": 4,
 "nbformat_minor": 2
}
