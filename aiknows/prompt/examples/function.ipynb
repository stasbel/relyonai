{
 "cells": [
  {
   "cell_type": "code",
   "execution_count": 1,
   "metadata": {},
   "outputs": [
    {
     "name": "stdout",
     "output_type": "stream",
     "text": [
      "TASK: \"\"\"\n",
      "filter words beginning with \"a\"\n",
      "\"\"\"\n",
      "REUSE: False\n",
      "ARGS:\n"
     ]
    }
   ],
   "source": [
    "from aiknows import gpt\n",
    "from aiknows.runtime import finish_task_ok, finish_task_error\n",
    "\n",
    "from aiknows.runtime import setup_task\n",
    "setup_task(\n",
    "    task='filter words beginning with \"a\"',\n",
    "    reuse=False,\n",
    "    args={},\n",
    "    globals=globals(),\n",
    ")\n",
    "del setup_task"
   ]
  },
  {
   "cell_type": "code",
   "execution_count": 2,
   "metadata": {},
   "outputs": [],
   "source": [
    "def filter(words):\n",
    "    return [w for w in words if w.startswith('a')]\n",
    "\n",
    "# we assume that by filtering user meant filering from the list\n",
    "# list isn't provided so we return a function that applies to it\n",
    "finish_task_ok(filter);"
   ]
  }
 ],
 "metadata": {
  "kernelspec": {
   "display_name": "aiknows",
   "language": "python",
   "name": "python3"
  },
  "language_info": {
   "name": "python",
   "version": "3.8.16"
  }
 },
 "nbformat": 4,
 "nbformat_minor": 2
}
