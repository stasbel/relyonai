{
 "cells": [
  {
   "cell_type": "code",
   "execution_count": 1,
   "metadata": {},
   "outputs": [
    {
     "name": "stdout",
     "output_type": "stream",
     "text": [
      "TASK: \"\"\"\n",
      "sum of two numbers x and y\n",
      "\"\"\"\n",
      "REUSE: False\n",
      "ARGS: x\n",
      "- x: \"\"\"\n",
      "object of type builtins.int\n",
      "\"\"\"\n"
     ]
    }
   ],
   "source": [
    "from aiknows import gpt\n",
    "from aiknows.runtime import finish_task_ok, finish_task_error\n",
    "\n",
    "from aiknows.runtime import setup_task\n",
    "x = 1\n",
    "setup_task(\n",
    "    task='sum of two numbers x and y',\n",
    "    reuse=False,\n",
    "    args={'x': x},\n",
    "    globals=globals(),\n",
    "    validator=lambda r: r(2) == 3,\n",
    ")\n",
    "del setup_task"
   ]
  },
  {
   "cell_type": "code",
   "execution_count": 2,
   "metadata": {},
   "outputs": [],
   "source": [
    "def sum(y):\n",
    "    return x + y\n",
    "\n",
    "# only x is present so we return a function that applies to y\n",
    "finish_task_ok(sum);"
   ]
  }
 ],
 "metadata": {
  "language_info": {
   "name": "python"
  }
 },
 "nbformat": 4,
 "nbformat_minor": 2
}
