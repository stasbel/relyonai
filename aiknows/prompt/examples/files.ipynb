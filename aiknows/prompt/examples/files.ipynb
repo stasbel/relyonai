{
 "cells": [
  {
   "cell_type": "code",
   "execution_count": 1,
   "metadata": {},
   "outputs": [
    {
     "name": "stdout",
     "output_type": "stream",
     "text": [
      "TASK: \"\"\"\n",
      "read file filename.txt\n",
      "\"\"\"\n",
      "REUSE: False\n",
      "ARGS: [filename]\n",
      "- filename: \"\"\"\n",
      "object of type builtins.str\n",
      "\"\"\"\n"
     ]
    }
   ],
   "source": [
    "from aiknows import gpt\n",
    "from aiknows.runtime import finish_task_ok, finish_task_error\n",
    "\n",
    "from aiknows.runtime import setup_task\n",
    "filename = 'other'\n",
    "setup_task(\n",
    "    task='read file filename.txt',\n",
    "    reuse=False,\n",
    "    args={'filename': filename},\n",
    "    globals=globals(),\n",
    "    validator=lambda r: r == 'other content',\n",
    ")\n",
    "del setup_task"
   ]
  },
  {
   "cell_type": "code",
   "execution_count": 2,
   "metadata": {},
   "outputs": [],
   "source": [
    " # 'filename' is one of the task args, so we use it to construct the path\n",
    "# the most sensible way will be is to assume following structure\n",
    "with open(f'{filename}.txt') as f:\n",
    "    content = f.read()\n",
    "\n",
    "finish_task_ok(content);"
   ]
  },
  {
   "cell_type": "code",
   "execution_count": 3,
   "metadata": {},
   "outputs": [
    {
     "name": "stdout",
     "output_type": "stream",
     "text": [
      "TASK: \"\"\"\n",
      "read file filename.txt\n",
      "\"\"\"\n",
      "REUSE: False\n",
      "ARGS: []\n"
     ]
    }
   ],
   "source": [
    "from aiknows.runtime import setup_task\n",
    "setup_task(\n",
    "    task='read file filename.txt',\n",
    "    reuse=False,\n",
    "    args=None,\n",
    "    globals=globals(),\n",
    "    validator=lambda r: r == 'filename content',\n",
    ")\n",
    "del setup_task"
   ]
  },
  {
   "cell_type": "code",
   "execution_count": 4,
   "metadata": {},
   "outputs": [],
   "source": [
    "# the task has no file args passed in, but description mentioned 'filename.txt'\n",
    "# the most sensible way would be to assume 'filename.txt' is the file path\n",
    "with open('filename.txt') as f:\n",
    "    content = f.read()\n",
    "\n",
    "finish_task_ok(content);"
   ]
  },
  {
   "cell_type": "code",
   "execution_count": 5,
   "metadata": {},
   "outputs": [
    {
     "name": "stdout",
     "output_type": "stream",
     "text": [
      "TASK: \"\"\"\n",
      "read a file\n",
      "\"\"\"\n",
      "REUSE: False\n",
      "ARGS: [x]\n",
      "- x: \"\"\"\n",
      "object of type builtins.NoneType\n",
      "\"\"\"\n"
     ]
    }
   ],
   "source": [
    "from aiknows.runtime import setup_task\n",
    "x = None\n",
    "setup_task(\n",
    "    task='read a file',\n",
    "    reuse=False,\n",
    "    args={'x': x},\n",
    "    globals=globals(),\n",
    ")\n",
    "del setup_task"
   ]
  },
  {
   "cell_type": "code",
   "execution_count": 6,
   "metadata": {},
   "outputs": [],
   "source": [
    "# the task has no args that could be assumed to be file paths\n",
    "# so we construct a function that takes a file path as input\n",
    "def read_file(file_path):\n",
    "    with open(file_path) as f:\n",
    "        content = f.read()\n",
    "    return content\n",
    "\n",
    "finish_task_ok(read_file);"
   ]
  }
 ],
 "metadata": {
  "language_info": {
   "name": "python"
  }
 },
 "nbformat": 4,
 "nbformat_minor": 2
}
