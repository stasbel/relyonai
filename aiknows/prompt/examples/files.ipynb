{
 "cells": [
  {
   "cell_type": "code",
   "execution_count": 1,
   "metadata": {},
   "outputs": [
    {
     "name": "stdout",
     "output_type": "stream",
     "text": [
      "===user===\n",
      "\n",
      "TASK: \"\"\"\n",
      "read file filename.txt\n",
      "\"\"\"\n",
      "ENV: new\n",
      "ARGS:\n",
      "- filename: \"\"\"\n",
      "type: str\n",
      "\"\"\"\n"
     ]
    }
   ],
   "source": [
    "from aiknows import gpt\n",
    "from aiknows.runtime import finish_task_ok, finish_task_error\n",
    "\n",
    "from aiknows.runtime import setup_task\n",
    "filename = 'other'\n",
    "setup_task(\n",
    "    task='read file filename.txt',\n",
    "    args={'filename': filename},\n",
    "    globals=globals(),\n",
    "    validator=lambda r: r == 'other content',\n",
    ")\n",
    "del setup_task"
   ]
  },
  {
   "cell_type": "code",
   "execution_count": 2,
   "metadata": {},
   "outputs": [],
   "source": [
    "# 'filename' is one of the task args\n",
    "# its mentioned in the task, but as a basenume for .ext file\n",
    "with open(f'{filename}.txt') as f:\n",
    "    content = f.read()\n",
    "\n",
    "finish_task_ok(content);"
   ]
  },
  {
   "cell_type": "code",
   "execution_count": 3,
   "metadata": {},
   "outputs": [
    {
     "name": "stdout",
     "output_type": "stream",
     "text": [
      "===user===\n",
      "\n",
      "TASK: \"\"\"\n",
      "read file filename.txt\n",
      "\"\"\"\n",
      "ENV: new\n",
      "ARGS:\n"
     ]
    }
   ],
   "source": [
    "from aiknows.runtime import setup_task\n",
    "setup_task(\n",
    "    task='read file filename.txt',\n",
    "    globals=globals(),\n",
    "    validator=lambda r: r == 'filename content',\n",
    ")\n",
    "del setup_task"
   ]
  },
  {
   "cell_type": "code",
   "execution_count": 4,
   "metadata": {},
   "outputs": [],
   "source": [
    "# the task has no file args passed in, but description mentioned 'filename.txt'\n",
    "# the most sensible way would be to assume 'filename.txt' is the file path to read from\n",
    "with open('filename.txt') as f:\n",
    "    content = f.read()\n",
    "\n",
    "finish_task_ok(content);"
   ]
  },
  {
   "cell_type": "code",
   "execution_count": 5,
   "metadata": {},
   "outputs": [
    {
     "name": "stdout",
     "output_type": "stream",
     "text": [
      "===user===\n",
      "\n",
      "TASK: \"\"\"\n",
      "read a file\n",
      "\"\"\"\n",
      "ENV: new\n",
      "ARGS:\n",
      "- x: \"\"\"\n",
      "type: NoneType\n",
      "\"\"\"\n"
     ]
    }
   ],
   "source": [
    "from aiknows.runtime import setup_task\n",
    "x = None\n",
    "setup_task(\n",
    "    task='read a file',\n",
    "    args={'x': x},\n",
    "    globals=globals(),\n",
    ")\n",
    "del setup_task"
   ]
  },
  {
   "cell_type": "code",
   "execution_count": 6,
   "metadata": {},
   "outputs": [],
   "source": [
    "# the task has no args that are somehow mentioned in the description\n",
    "# so we construct a function that takes a file path as input\n",
    "def read_file(file_path):\n",
    "    with open(file_path) as f:\n",
    "        content = f.read()\n",
    "    return content\n",
    "\n",
    "finish_task_ok(read_file);"
   ]
  }
 ],
 "metadata": {
  "kernelspec": {
   "display_name": "aiknows",
   "language": "python",
   "name": "python3"
  },
  "language_info": {
   "codemirror_mode": {
    "name": "ipython",
    "version": 3
   },
   "file_extension": ".py",
   "mimetype": "text/x-python",
   "name": "python",
   "nbconvert_exporter": "python",
   "pygments_lexer": "ipython3",
   "version": "3.8.16"
  }
 },
 "nbformat": 4,
 "nbformat_minor": 2
}
