{
 "cells": [
  {
   "cell_type": "code",
   "execution_count": 1,
   "metadata": {},
   "outputs": [
    {
     "name": "stdout",
     "output_type": "stream",
     "text": [
      "TASK: \"\"\"\n",
      "filter words beginning with \"a\"\n",
      "\"\"\"\n",
      "REUSE: False\n",
      "ARGS: []\n"
     ]
    }
   ],
   "source": [
    "from aiknows import gpt\n",
    "from aiknows.runtime import finish_task_ok, finish_task_error\n",
    "\n",
    "from aiknows.runtime import setup_task\n",
    "setup_task(\n",
    "    task='filter words beginning with \"a\"',\n",
    "    reuse=False,\n",
    "    args={},\n",
    "    globals=globals(),\n",
    "    validator=lambda r: r(['apple', 'apricot', 'banana']) == ['apple', 'apricot'],\n",
    ")\n",
    "del setup_task"
   ]
  },
  {
   "cell_type": "code",
   "execution_count": 2,
   "metadata": {},
   "outputs": [],
   "source": [
    "# input args list is empty and task description does not mention any names explicitly\n",
    "# so we assume user wants a function that applies to list of words and does the filtering\n",
    "# we assume that by filtering user meant keeping elements satisfying some condition\n",
    "# description is vague, so we proceed with the most common pythonic way -- list comprehension\n",
    "def filter_words_starting_with_a(words_list):\n",
    "    return [word for word in words_list if word.startswith('a')]\n",
    "\n",
    "finish_task_ok(filter_words_starting_with_a);"
   ]
  },
  {
   "cell_type": "code",
   "execution_count": 3,
   "metadata": {},
   "outputs": [
    {
     "name": "stdout",
     "output_type": "stream",
     "text": [
      "TASK: \"\"\"\n",
      "merge two lists into a single one\n",
      "\"\"\"\n",
      "REUSE: False\n",
      "ARGS: []\n"
     ]
    }
   ],
   "source": [
    "from aiknows.runtime import setup_task\n",
    "list_a, list_b = [1, 2, 3], [4, 5, 6]\n",
    "setup_task(\n",
    "    task='merge two lists (list_a and list_b) into a single one',\n",
    "    reuse=False,\n",
    "    args={'list_a': list_a, 'list_b': list_b},\n",
    "    globals=globals(),\n",
    "    validator=lambda r: r == [1, 2, 3, 4, 5, 6],\n",
    ")\n",
    "del setup_task"
   ]
  },
  {
   "cell_type": "code",
   "execution_count": 4,
   "metadata": {},
   "outputs": [],
   "source": [
    "# arugments list_a and list_b are provided and referenced in the description by names\n",
    "# so we use them to get a required result\n",
    "result = list_a + list_b\n",
    "finish_task_ok(result);"
   ]
  },
  {
   "cell_type": "code",
   "execution_count": 5,
   "metadata": {},
   "outputs": [
    {
     "name": "stdout",
     "output_type": "stream",
     "text": [
      "TASK: \"\"\"\n",
      "filter numbers which square >0.5 and <0.8 out\n",
      "\"\"\"\n",
      "REUSE: False\n",
      "ARGS: []\n"
     ]
    }
   ],
   "source": [
    "from aiknows.runtime import setup_task\n",
    "setup_task(\n",
    "    task='filter numbers which square >0.5 and <0.8 out',\n",
    "    reuse=False,\n",
    "    args={},\n",
    "    globals=globals(),\n",
    "    validator=lambda r: r([0.2, 0.8, 0.99]) == [0.2, 0.99],\n",
    ")\n",
    "del setup_task"
   ]
  },
  {
   "cell_type": "code",
   "execution_count": 6,
   "metadata": {},
   "outputs": [],
   "source": [
    "# separate function for condition is convenient here\n",
    "def condition(x):\n",
    "    return 0.5 < x ** 2 < 0.8\n",
    "\n",
    "# input is not provided via args, so we create a function for a result\n",
    "# description says \"filter out\", so we keep elements for which condition is false\n",
    "def filter_out(xs):\n",
    "    return [x for x in xs if not condition(x)]\n",
    "\n",
    "finish_task_ok(filter_out);"
   ]
  },
  {
   "cell_type": "code",
   "execution_count": 7,
   "metadata": {},
   "outputs": [
    {
     "name": "stdout",
     "output_type": "stream",
     "text": [
      "TASK: \"\"\"\n",
      "reverse a list\n",
      "\"\"\"\n",
      "REUSE: False\n",
      "ARGS: [input_list]\n",
      "- input_list: \"\"\"\n",
      "object of type builtins.list\n",
      "\"\"\"\n"
     ]
    }
   ],
   "source": [
    "from aiknows.runtime import setup_task\n",
    "input_list = [10, 11, 12]\n",
    "setup_task(\n",
    "    task='reverse an input_list',\n",
    "    reuse=False,\n",
    "    args={'input_list': input_list},\n",
    "    globals=globals(),\n",
    "    validator=lambda r: r == [12, 11, 10],\n",
    ")\n",
    "del setup_task"
   ]
  },
  {
   "cell_type": "code",
   "execution_count": 8,
   "metadata": {},
   "outputs": [],
   "source": [
    "# 'input_list' element is given via args and mentioned explicitly in the description\n",
    "# we assume that user meant reversing that specific list (not creating a function)\n",
    "result = list(reversed(input_list))\n",
    "finish_task_ok(result);"
   ]
  }
 ],
 "metadata": {
  "kernelspec": {
   "display_name": "aiknows",
   "language": "python",
   "name": "python3"
  },
  "language_info": {
   "name": "python",
   "version": "3.8.16"
  }
 },
 "nbformat": 4,
 "nbformat_minor": 2
}
