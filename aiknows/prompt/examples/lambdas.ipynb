{
 "cells": [
  {
   "cell_type": "code",
   "execution_count": 1,
   "metadata": {},
   "outputs": [
    {
     "name": "stdout",
     "output_type": "stream",
     "text": [
      "TASK: \"\"\"\n",
      "filter words beginning with \"a\"\n",
      "\"\"\"\n",
      "REUSE: False\n",
      "ARGS: []\n"
     ]
    }
   ],
   "source": [
    "from aiknows import gpt\n",
    "from aiknows.runtime import finish_task_ok, finish_task_error\n",
    "\n",
    "from aiknows.runtime import setup_task\n",
    "setup_task(\n",
    "    task='filter words beginning with \"a\"',\n",
    "    reuse=False,\n",
    "    args={},\n",
    "    globals=globals(),\n",
    "    validator=lambda r: r(['apple', 'apricot', 'banana']) == ['apple', 'apricot'],\n",
    ")\n",
    "del setup_task"
   ]
  },
  {
   "cell_type": "code",
   "execution_count": 2,
   "metadata": {},
   "outputs": [],
   "source": [
    "# we assume that by filtering user meant keeping elements satisfying some condition\n",
    "# description is too vague, so we proceed with the most common pythonic way -- list comprehension\n",
    "# input list is not provided so we assume user wants to get a function that does the filtering\n",
    "def filter_words_starting_with_a(words_list):\n",
    "    return [word for word in words_list if word.startswith('a')]\n",
    "\n",
    "finish_task_ok(filter_words_starting_with_a);"
   ]
  },
  {
   "cell_type": "code",
   "execution_count": 3,
   "metadata": {},
   "outputs": [
    {
     "name": "stdout",
     "output_type": "stream",
     "text": [
      "TASK: \"\"\"\n",
      "merge two lists into a single one\n",
      "\"\"\"\n",
      "REUSE: False\n",
      "ARGS: []\n"
     ]
    }
   ],
   "source": [
    "from aiknows.runtime import setup_task\n",
    "setup_task(\n",
    "    task='merge two lists into a single one',\n",
    "    reuse=False,\n",
    "    args={},\n",
    "    globals=globals(),\n",
    "    validator=lambda r: r([1], [2, 3]) == [1, 2, 3],\n",
    ")\n",
    "del setup_task"
   ]
  },
  {
   "cell_type": "code",
   "execution_count": 4,
   "metadata": {},
   "outputs": [],
   "source": [
    "# lists are not provided via args, so we crate a function for a result\n",
    "def merge_lists(list_a, list_b):\n",
    "    return list_a + list_b\n",
    "\n",
    "finish_task_ok(merge_lists);"
   ]
  },
  {
   "cell_type": "code",
   "execution_count": 5,
   "metadata": {},
   "outputs": [
    {
     "name": "stdout",
     "output_type": "stream",
     "text": [
      "TASK: \"\"\"\n",
      "filter numbers which square >0.5 and <0.8 out\n",
      "\"\"\"\n",
      "REUSE: False\n",
      "ARGS: []\n"
     ]
    }
   ],
   "source": [
    "from aiknows.runtime import setup_task\n",
    "setup_task(\n",
    "    task='filter numbers which square >0.5 and <0.8 out',\n",
    "    reuse=False,\n",
    "    args={},\n",
    "    globals=globals(),\n",
    "    validator=lambda r: r([0.2, 0.8, 0.99]) == [0.2, 0.99],\n",
    ")\n",
    "del setup_task"
   ]
  },
  {
   "cell_type": "code",
   "execution_count": 6,
   "metadata": {},
   "outputs": [],
   "source": [
    "# separate function for condition is convenient here\n",
    "def condition(x):\n",
    "    return 0.5 < x ** 2 < 0.8\n",
    "\n",
    "# input is not provided via args, so we create a function for a result\n",
    "# description says \"filter out\", so we keep elements for which condition is false\n",
    "def filter_out(xs):\n",
    "    return [x for x in xs if not condition(x)]\n",
    "\n",
    "finish_task_ok(filter_out);"
   ]
  },
  {
   "cell_type": "code",
   "execution_count": 7,
   "metadata": {},
   "outputs": [
    {
     "name": "stdout",
     "output_type": "stream",
     "text": [
      "TASK: \"\"\"\n",
      "reverse a list\n",
      "\"\"\"\n",
      "REUSE: False\n",
      "ARGS: [input_list]\n",
      "- input_list: \"\"\"\n",
      "object of type builtins.list\n",
      "\"\"\"\n"
     ]
    }
   ],
   "source": [
    "from aiknows.runtime import setup_task\n",
    "input_list = [10, 11, 12]\n",
    "setup_task(\n",
    "    task='reverse a list',\n",
    "    reuse=False,\n",
    "    args={'input_list': input_list},\n",
    "    globals=globals(),\n",
    "    validator=lambda r: r == [12, 11, 10],\n",
    ")\n",
    "del setup_task"
   ]
  },
  {
   "cell_type": "code",
   "execution_count": 8,
   "metadata": {},
   "outputs": [],
   "source": [
    "# input list element is given via args, so we use it rather than creating a function\n",
    "# in the context of task description, we assume that user meant reversing this specific list\n",
    "def reverse_list(xs):\n",
    "    return list(reversed(xs))\n",
    "\n",
    "finish_task_ok(reverse_list(input_list));"
   ]
  }
 ],
 "metadata": {
  "language_info": {
   "name": "python"
  }
 },
 "nbformat": 4,
 "nbformat_minor": 2
}
