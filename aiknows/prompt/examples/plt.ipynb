{
 "cells": [
  {
   "cell_type": "code",
   "execution_count": 1,
   "metadata": {},
   "outputs": [],
   "source": [
    "TASK = 'make line plot of `a` with specified color'\n",
    "import numpy as np\n",
    "a = np.random.rand(10)\n",
    "ARGS = {'a': a}"
   ]
  },
  {
   "cell_type": "code",
   "execution_count": 2,
   "metadata": {},
   "outputs": [
    {
     "name": "stdout",
     "output_type": "stream",
     "text": [
      "TASK: \"\"\"\n",
      "make line plot of `a` with specified color\n",
      "\"\"\"\n",
      "ARGS: a\n",
      "- a: \"\"\"\n",
      "object of type numpy.ndarray\n",
      "array of shape (10,) with dtype float64\n",
      "\"\"\"\n"
     ]
    }
   ],
   "source": [
    "# print prompt as assistant sees it\n",
    "from aiknows import prompt\n",
    "chat = prompt.Chat()\n",
    "chat.add_user_task(TASK, **ARGS)\n",
    "print(chat.messages[-1]['content'])\n",
    "del chat\n",
    "del prompt\n",
    "# introduce ARGS as globals\n",
    "globals = globals()\n",
    "for arg_k, arg_v in ARGS.items():\n",
    "    globals[arg_k] = arg_v\n",
    "del globals\n",
    "# reserved keywords\n",
    "assert 'gpt' not in ARGS and 'AIKnowsTaskError' not in ARGS\n",
    "\n",
    "del TASK\n",
    "del ARGS\n",
    "\n",
    "from aiknows import gpt\n",
    "from aiknows.exceptions import AIKnowsTaskError"
   ]
  },
  {
   "cell_type": "code",
   "execution_count": 3,
   "metadata": {},
   "outputs": [
    {
     "data": {
      "text/plain": [
       "<function __main__.plot_line(color)>"
      ]
     },
     "execution_count": 3,
     "metadata": {},
     "output_type": "execute_result"
    }
   ],
   "source": [
    "# packages might be missing, but we don't attempt to install them\n",
    "import numpy as np\n",
    "import matplotlib.pyplot as plt\n",
    "\n",
    "# color isn't provided but mentioned so we made a func\n",
    "def plot_line(color):\n",
    "    # generate x and y values\n",
    "    # a is provided so we just reference it directly\n",
    "    n = a.shape[0]\n",
    "    x = np.linspace(0, n - 1, num=n)\n",
    "    y = a\n",
    "\n",
    "    # create a line plot using the specified color\n",
    "    fig = plt.figure()\n",
    "    plt.plot(x, y, color=color)\n",
    "\n",
    "    # add known labels and title to the plot\n",
    "    plt.ylabel('a')\n",
    "    plt.title(f'line plot of a with {color} color')\n",
    "\n",
    "    # user don't intend to observe outside effect\n",
    "    plt.close(fig)\n",
    "\n",
    "    return fig\n",
    "\n",
    "final_result = plot_line\n",
    "final_result"
   ]
  },
  {
   "cell_type": "code",
   "execution_count": 4,
   "metadata": {},
   "outputs": [],
   "source": [
    "VALIDATE_FINAL_RESULT = False"
   ]
  }
 ],
 "metadata": {
  "language_info": {
   "name": "python"
  }
 },
 "nbformat": 4,
 "nbformat_minor": 2
}
