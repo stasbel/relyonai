{
 "cells": [
  {
   "cell_type": "code",
   "execution_count": 1,
   "metadata": {},
   "outputs": [
    {
     "name": "stdout",
     "output_type": "stream",
     "text": [
      "TASK: \"\"\"\n",
      "read file filename.txt\n",
      "\"\"\"\n",
      "REUSE: False\n",
      "ARGS: filename\n",
      "- filename: \"\"\"\n",
      "object of type builtins.str\n",
      "\"\"\"\n"
     ]
    }
   ],
   "source": [
    "from aiknows import gpt\n",
    "from aiknows.runtime import finish_task_ok, finish_task_error\n",
    "\n",
    "from aiknows.runtime import setup_task\n",
    "filename = 'other'\n",
    "setup_task(\n",
    "    task='read file filename.txt',\n",
    "    reuse=False,\n",
    "    args={'filename': filename},\n",
    "    globals=globals(),\n",
    "    validator=lambda r: r == 'other content',\n",
    ")\n",
    "del setup_task"
   ]
  },
  {
   "cell_type": "code",
   "execution_count": 2,
   "metadata": {},
   "outputs": [],
   "source": [
    "# filename is an passed arg so we use it in most sensible way\n",
    "with open(f'{filename}.txt') as f:\n",
    "    content = f.read()\n",
    "\n",
    "finish_task_ok(content);"
   ]
  }
 ],
 "metadata": {
  "language_info": {
   "name": "python"
  }
 },
 "nbformat": 4,
 "nbformat_minor": 2
}
