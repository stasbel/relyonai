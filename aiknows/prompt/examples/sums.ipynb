{
 "cells": [
  {
   "cell_type": "code",
   "execution_count": 1,
   "metadata": {},
   "outputs": [
    {
     "name": "stdout",
     "output_type": "stream",
     "text": [
      "===user===\n",
      "\n",
      "TASK: \"\"\"\n",
      "sum of two numbers x and y\n",
      "\"\"\"\n",
      "ENV: new\n",
      "ARGS:\n",
      "- x: \"\"\"\n",
      "type: int\n",
      "\"\"\"\n",
      "- y: \"\"\"\n",
      "type: int\n",
      "\"\"\"\n"
     ]
    }
   ],
   "source": [
    "from aiknows import gpt\n",
    "from aiknows.runtime import finish_task_ok, finish_task_error\n",
    "\n",
    "from aiknows.runtime import setup_task\n",
    "x, y = 1, 2\n",
    "setup_task(\n",
    "    task='sum of two numbers x and y',\n",
    "    args={'x': x, 'y': y},\n",
    "    globals=globals(),\n",
    "    validator=lambda r: r == 3,\n",
    ")\n",
    "del setup_task"
   ]
  },
  {
   "cell_type": "code",
   "execution_count": 2,
   "metadata": {},
   "outputs": [],
   "source": [
    "# both x and y are defined via args and referenced in the task by names\n",
    "finish_task_ok(x + y);"
   ]
  },
  {
   "cell_type": "code",
   "execution_count": 3,
   "metadata": {},
   "outputs": [
    {
     "name": "stdout",
     "output_type": "stream",
     "text": [
      "===user===\n",
      "\n",
      "TASK: \"\"\"\n",
      "sum of two numbers x and y\n",
      "\"\"\"\n",
      "ENV: new\n",
      "ARGS:\n"
     ]
    }
   ],
   "source": [
    "from aiknows.runtime import setup_task\n",
    "setup_task(\n",
    "    task='sum of two numbers x and y',\n",
    "    globals=globals(),\n",
    "    validator=lambda r: r(1, 2) == 3,\n",
    ")\n",
    "del setup_task"
   ]
  },
  {
   "cell_type": "code",
   "execution_count": 4,
   "metadata": {},
   "outputs": [],
   "source": [
    "# both x and y mentioned in the task are missing\n",
    "# so naturally the most sensible way to understand the task is to return a sum function\n",
    "def sum(x, y):\n",
    "    return x + y\n",
    "\n",
    "finish_task_ok(sum);"
   ]
  }
 ],
 "metadata": {
  "kernelspec": {
   "display_name": "aiknows",
   "language": "python",
   "name": "python3"
  },
  "language_info": {
   "codemirror_mode": {
    "name": "ipython",
    "version": 3
   },
   "file_extension": ".py",
   "mimetype": "text/x-python",
   "name": "python",
   "nbconvert_exporter": "python",
   "pygments_lexer": "ipython3",
   "version": "3.8.16"
  }
 },
 "nbformat": 4,
 "nbformat_minor": 2
}
