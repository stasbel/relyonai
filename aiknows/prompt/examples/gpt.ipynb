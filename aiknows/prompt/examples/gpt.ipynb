{
 "cells": [
  {
   "cell_type": "code",
   "execution_count": 1,
   "metadata": {},
   "outputs": [
    {
     "name": "stdout",
     "output_type": "stream",
     "text": [
      "===user===\n",
      "\n",
      "TASK: \"\"\"\n",
      "read filename.txt and translate it to french\n",
      "\"\"\"\n",
      "ENV: new\n",
      "ARGS:\n"
     ]
    }
   ],
   "source": [
    "from aiknows import gpt\n",
    "from aiknows.runtime import finish_task_ok, finish_task_error\n",
    "\n",
    "from aiknows.runtime import setup_task\n",
    "setup_task(\n",
    "    task='read filename.txt and translate it to french',\n",
    "    globals=globals(),\n",
    "    validator=lambda r: 'fichier' in r.lower() and 'contenu' in r.lower(),\n",
    ")\n",
    "del setup_task"
   ]
  },
  {
   "cell_type": "code",
   "execution_count": 2,
   "metadata": {},
   "outputs": [
    {
     "data": {
      "text/plain": [
       "('filename content', '\"\"\"\\ncontenu de nom de fichier\\n\"\"\"')"
      ]
     },
     "execution_count": 2,
     "metadata": {},
     "output_type": "execute_result"
    }
   ],
   "source": [
    "# the task has no file args passed in, but description mentioned 'filename.txt'\n",
    "# the most sensible way would be to assume 'filename.txt' is the file path\n",
    "with open(f'filename.txt') as f:\n",
    "    content = f.read()\n",
    "\n",
    "# task mentioned generic translation, that's what chat-gpt good at\n",
    "# so we invoke it from the code with global `gpt` func\n",
    "content_fr = gpt(f'Translate the following text to French: \"\"\"\\n{content}\\n\"\"\"')\n",
    "\n",
    "# let's have a quick peek at the result\n",
    "content, content_fr"
   ]
  },
  {
   "cell_type": "code",
   "execution_count": 3,
   "metadata": {},
   "outputs": [
    {
     "data": {
      "text/plain": [
       "'contenu de nom de fichier'"
      ]
     },
     "execution_count": 3,
     "metadata": {},
     "output_type": "execute_result"
    }
   ],
   "source": [
    "# this seems about right, but we rather strip all the unnecessary chars\n",
    "content_fr = content_fr.strip('\\n\"')\n",
    "content_fr"
   ]
  },
  {
   "cell_type": "code",
   "execution_count": 4,
   "metadata": {},
   "outputs": [],
   "source": [
    "# we can refer to last result object with '_'\n",
    "finish_task_ok(_);"
   ]
  }
 ],
 "metadata": {
  "kernelspec": {
   "display_name": "aiknows",
   "language": "python",
   "name": "python3"
  },
  "language_info": {
   "codemirror_mode": {
    "name": "ipython",
    "version": 3
   },
   "file_extension": ".py",
   "mimetype": "text/x-python",
   "name": "python",
   "nbconvert_exporter": "python",
   "pygments_lexer": "ipython3",
   "version": "3.8.16"
  }
 },
 "nbformat": 4,
 "nbformat_minor": 2
}
