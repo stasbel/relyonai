{
 "cells": [
  {
   "cell_type": "code",
   "execution_count": 1,
   "metadata": {},
   "outputs": [
    {
     "name": "stdout",
     "output_type": "stream",
     "text": [
      "TASK: \"\"\"\n",
      "that module for dataframes manipulation and stuff\n",
      "\"\"\"\n",
      "REUSE: False\n",
      "ARGS: []\n"
     ]
    }
   ],
   "source": [
    "from aiknows import gpt\n",
    "from aiknows.runtime import finish_task_ok, finish_task_error\n",
    "\n",
    "from aiknows.runtime import setup_task\n",
    "import pandas as pd\n",
    "setup_task(\n",
    "    task='that module for dataframes manipulation and stuff',\n",
    "    reuse=False,\n",
    "    args=None,\n",
    "    globals=globals(),\n",
    "    validator=lambda r: r is pd,\n",
    ")\n",
    "del pd\n",
    "del setup_task"
   ]
  },
  {
   "cell_type": "code",
   "execution_count": 2,
   "metadata": {},
   "outputs": [],
   "source": [
    "import pandas as pd\n",
    "finish_task_ok(pd);"
   ]
  },
  {
   "cell_type": "code",
   "execution_count": 3,
   "metadata": {},
   "outputs": [
    {
     "name": "stdout",
     "output_type": "stream",
     "text": [
      "TASK: \"\"\"\n",
      "module for plotting with pandas\n",
      "\"\"\"\n",
      "REUSE: False\n",
      "ARGS: []\n"
     ]
    }
   ],
   "source": [
    "from aiknows.runtime import setup_task\n",
    "setup_task(\n",
    "    task='module for plotting with pandas',\n",
    "    reuse=False,\n",
    "    args=None,\n",
    "    globals=globals(),\n",
    ")\n",
    "del setup_task"
   ]
  },
  {
   "cell_type": "code",
   "execution_count": 4,
   "metadata": {},
   "outputs": [
    {
     "ename": "ModuleNotFoundError",
     "evalue": "No module named 'seaborn'",
     "output_type": "error",
     "traceback": [
      "\u001b[0;31m---------------------------------------------------------------------------\u001b[0m",
      "\u001b[0;31mModuleNotFoundError\u001b[0m                       Traceback (most recent call last)",
      "Cell \u001b[0;32mIn[4], line 1\u001b[0m\n\u001b[0;32m----> 1\u001b[0m \u001b[38;5;28;01mimport\u001b[39;00m \u001b[38;5;21;01mseaborn\u001b[39;00m \u001b[38;5;28;01mas\u001b[39;00m \u001b[38;5;21;01msns\u001b[39;00m\n\u001b[1;32m      2\u001b[0m finish_task_ok(sns);\n",
      "\u001b[0;31mModuleNotFoundError\u001b[0m: No module named 'seaborn'"
     ]
    }
   ],
   "source": [
    "import seaborn as sns\n",
    "finish_task_ok(sns);"
   ]
  },
  {
   "cell_type": "code",
   "execution_count": 5,
   "metadata": {},
   "outputs": [],
   "source": [
    "# we are unable to install and import seaborn, so proceed with error\n",
    "finish_task_error('seaborn package isn\\'t installed', error_cause=True);"
   ]
  }
 ],
 "metadata": {
  "language_info": {
   "name": "python"
  }
 },
 "nbformat": 4,
 "nbformat_minor": 2
}
