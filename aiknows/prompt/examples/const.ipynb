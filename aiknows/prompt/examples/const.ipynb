{
 "cells": [
  {
   "cell_type": "code",
   "execution_count": 1,
   "metadata": {},
   "outputs": [
    {
     "name": "stdout",
     "output_type": "stream",
     "text": [
      "TASK: \"\"\"\n",
      "number of seconds in 10 years\n",
      "\"\"\"\n",
      "REUSE: False\n",
      "ARGS:\n"
     ]
    }
   ],
   "source": [
    "from aiknows import gpt\n",
    "from aiknows.runtime import finish_task_ok, finish_task_error\n",
    "\n",
    "from aiknows.runtime import setup_task\n",
    "setup_task(\n",
    "    task='number of seconds in 10 years',\n",
    "    reuse=False,\n",
    "    args=None,\n",
    "    globals=globals(),\n",
    "    validator=lambda r: r == 315_360_000,\n",
    ")\n",
    "del setup_task"
   ]
  },
  {
   "cell_type": "code",
   "execution_count": 2,
   "metadata": {},
   "outputs": [],
   "source": [
    "# seconds x minutes x hours x days x years\n",
    "finish_task_ok(60 * 60 * 24 * 365 * 10);"
   ]
  }
 ],
 "metadata": {
  "kernelspec": {
   "display_name": "aiknows",
   "language": "python",
   "name": "python3"
  },
  "language_info": {
   "name": "python",
   "version": "3.8.16"
  }
 },
 "nbformat": 4,
 "nbformat_minor": 2
}
