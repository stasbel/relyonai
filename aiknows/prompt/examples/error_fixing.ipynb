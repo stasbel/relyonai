{
 "cells": [
  {
   "cell_type": "code",
   "execution_count": 1,
   "metadata": {},
   "outputs": [
    {
     "name": "stdout",
     "output_type": "stream",
     "text": [
      "TASK: \"\"\"\n",
      "get a result value from single key dictionary d\n",
      "\"\"\"\n",
      "REUSE: False\n",
      "ARGS: [d]\n",
      "- d: \"\"\"\n",
      "object of type builtins.dict\n",
      "\"\"\"\n"
     ]
    }
   ],
   "source": [
    "from aiknows import gpt\n",
    "from aiknows.runtime import finish_task_ok, finish_task_error\n",
    "\n",
    "from aiknows.runtime import setup_task\n",
    "d = {'res': 42, 'query': 43, 'flag': 44}\n",
    "setup_task(\n",
    "    task='get a result value from single key dictionary d',\n",
    "    reuse=False,\n",
    "    args={'d': d},\n",
    "    globals=globals(),\n",
    "    validator=lambda r: r == 42,\n",
    ")\n",
    "del setup_task"
   ]
  },
  {
   "cell_type": "code",
   "execution_count": 2,
   "metadata": {},
   "outputs": [
    {
     "data": {
      "text/plain": [
       "dict_keys(['res', 'query', 'flag'])"
      ]
     },
     "execution_count": 2,
     "metadata": {},
     "output_type": "execute_result"
    }
   ],
   "source": [
    "# we don't know the right key name, could be: response, body, result, etc.\n",
    "# no problem, let's print them out and explore\n",
    "d.keys()"
   ]
  },
  {
   "cell_type": "code",
   "execution_count": 3,
   "metadata": {},
   "outputs": [],
   "source": [
    "# only 3 of them and 'res' makes the most sense in task context\n",
    "finish_task_ok(d['res']);"
   ]
  }
 ],
 "metadata": {
  "language_info": {
   "name": "python"
  }
 },
 "nbformat": 4,
 "nbformat_minor": 2
}
