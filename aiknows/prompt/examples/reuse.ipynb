{
 "cells": [
  {
   "cell_type": "code",
   "execution_count": 1,
   "metadata": {},
   "outputs": [
    {
     "name": "stdout",
     "output_type": "stream",
     "text": [
      "# user\n",
      "\n",
      "TASK: \"\"\"\n",
      "calculate how many numbers are more that 10\n",
      "\"\"\"\n",
      "REUSE: False\n",
      "ARGS: [numbers]\n",
      "- numbers: \"\"\"\n",
      "object of type builtins.list\n",
      "\"\"\"\n"
     ]
    }
   ],
   "source": [
    "from aiknows import gpt\n",
    "from aiknows.runtime import finish_task_ok, finish_task_error\n",
    "\n",
    "from aiknows.runtime import setup_task\n",
    "numbers = [9, 99, 999, 1, 2, 3, 10, 11, 12]\n",
    "setup_task(\n",
    "    task='calculate how many numbers are more that 10',\n",
    "    reuse=False,\n",
    "    args={'numbers': numbers},\n",
    "    globals=globals(),\n",
    "    validator=lambda r: r == 4,\n",
    ")\n",
    "del setup_task"
   ]
  },
  {
   "cell_type": "code",
   "execution_count": 2,
   "metadata": {},
   "outputs": [],
   "source": [
    "# numbers list is available via args\n",
    "result = sum(1 for number in numbers if number > 10)\n",
    "finish_task_ok(result);"
   ]
  },
  {
   "cell_type": "code",
   "execution_count": 3,
   "metadata": {},
   "outputs": [
    {
     "name": "stdout",
     "output_type": "stream",
     "text": [
      "# user\n",
      "\n",
      "TASK: \"\"\"\n",
      "sum numbers and add 42\n",
      "\"\"\"\n",
      "REUSE: True\n",
      "ARGS: []\n"
     ]
    }
   ],
   "source": [
    "from aiknows.runtime import setup_task\n",
    "setup_task(\n",
    "    task='sum numbers and add 42',\n",
    "    reuse=True,\n",
    "    args=None,\n",
    "    globals=globals(),\n",
    "    validator=lambda r: r == sum(numbers) + 42,\n",
    ")\n",
    "del setup_task"
   ]
  },
  {
   "cell_type": "code",
   "execution_count": 4,
   "metadata": {},
   "outputs": [],
   "source": [
    "# args list is empty, but reuse flag is set\n",
    "# so interpretator didn't restarted and namespace is reused\n",
    "# so, we can continue to access numbers list variable\n",
    "result = sum(numbers) + 42\n",
    "finish_task_ok(result);"
   ]
  }
 ],
 "metadata": {
  "kernelspec": {
   "display_name": "aiknows",
   "language": "python",
   "name": "python3"
  },
  "language_info": {
   "codemirror_mode": {
    "name": "ipython",
    "version": 3
   },
   "file_extension": ".py",
   "mimetype": "text/x-python",
   "name": "python",
   "nbconvert_exporter": "python",
   "pygments_lexer": "ipython3",
   "version": "3.8.16"
  }
 },
 "nbformat": 4,
 "nbformat_minor": 2
}
