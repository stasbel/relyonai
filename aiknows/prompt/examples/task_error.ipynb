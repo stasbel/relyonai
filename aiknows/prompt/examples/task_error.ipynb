{
 "cells": [
  {
   "cell_type": "code",
   "execution_count": 1,
   "metadata": {},
   "outputs": [
    {
     "name": "stdout",
     "output_type": "stream",
     "text": [
      "TASK: \"\"\"\n",
      "creat a sum of a and b\n",
      "\"\"\"\n",
      "REUSE: False\n",
      "ARGS: a, b\n",
      "- a: \"\"\"\n",
      "object of type builtins.list\n",
      "\"\"\"\n",
      "- b: \"\"\"\n",
      "object of type builtins.dict\n",
      "\"\"\"\n"
     ]
    }
   ],
   "source": [
    "from aiknows import gpt\n",
    "from aiknows.runtime import finish_task_ok, finish_task_error\n",
    "\n",
    "from aiknows.runtime import setup_task\n",
    "a, b = [], {}\n",
    "setup_task(\n",
    "    task='creat a sum of a and b',\n",
    "    reuse=False,\n",
    "    args={'a': a, 'b': b},\n",
    "    globals=globals(),\n",
    ")\n",
    "del setup_task"
   ]
  },
  {
   "cell_type": "code",
   "execution_count": 2,
   "metadata": {},
   "outputs": [],
   "source": [
    "finish_task_error('unable to create a sum of a list and a dict');"
   ]
  }
 ],
 "metadata": {
  "kernelspec": {
   "display_name": "aiknows",
   "language": "python",
   "name": "python3"
  },
  "language_info": {
   "name": "python",
   "version": "3.8.16"
  }
 },
 "nbformat": 4,
 "nbformat_minor": 2
}
